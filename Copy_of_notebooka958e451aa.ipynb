{
  "metadata": {
    "kernelspec": {
      "display_name": "Python 3",
      "name": "python3"
    },
    "language_info": {
      "name": "python",
      "version": "3.11.13",
      "mimetype": "text/x-python",
      "codemirror_mode": {
        "name": "ipython",
        "version": 3
      },
      "pygments_lexer": "ipython3",
      "nbconvert_exporter": "python",
      "file_extension": ".py"
    },
    "kaggle": {
      "accelerator": "none",
      "dataSources": [
        {
          "sourceId": 2056195,
          "sourceType": "datasetVersion",
          "datasetId": 1232095
        }
      ],
      "dockerImageVersionId": 31089,
      "isInternetEnabled": false,
      "language": "python",
      "sourceType": "notebook",
      "isGpuEnabled": false
    },
    "colab": {
      "provenance": [],
      "gpuType": "T4",
      "include_colab_link": true
    },
    "accelerator": "GPU",
    "widgets": {
      "application/vnd.jupyter.widget-state+json": {
        "89ece625481f43a89b0fee6340d209c6": {
          "model_module": "@jupyter-widgets/controls",
          "model_name": "HBoxModel",
          "model_module_version": "1.5.0",
          "state": {
            "_dom_classes": [],
            "_model_module": "@jupyter-widgets/controls",
            "_model_module_version": "1.5.0",
            "_model_name": "HBoxModel",
            "_view_count": null,
            "_view_module": "@jupyter-widgets/controls",
            "_view_module_version": "1.5.0",
            "_view_name": "HBoxView",
            "box_style": "",
            "children": [
              "IPY_MODEL_45131b4408564386a80e0ea564a353e9",
              "IPY_MODEL_a2fce3da943849fa86ffc9255d484777",
              "IPY_MODEL_38ff6b422c084ab6b47fc9bd598e4417"
            ],
            "layout": "IPY_MODEL_a6506e036c94415799b1b0625c327b26"
          }
        },
        "45131b4408564386a80e0ea564a353e9": {
          "model_module": "@jupyter-widgets/controls",
          "model_name": "HTMLModel",
          "model_module_version": "1.5.0",
          "state": {
            "_dom_classes": [],
            "_model_module": "@jupyter-widgets/controls",
            "_model_module_version": "1.5.0",
            "_model_name": "HTMLModel",
            "_view_count": null,
            "_view_module": "@jupyter-widgets/controls",
            "_view_module_version": "1.5.0",
            "_view_name": "HTMLView",
            "description": "",
            "description_tooltip": null,
            "layout": "IPY_MODEL_5dbd31b8fd6d498ba2469b3f150ee5f9",
            "placeholder": "​",
            "style": "IPY_MODEL_cccdf0b7b98b4191a556a237093b5e1a",
            "value": "Map: 100%"
          }
        },
        "a2fce3da943849fa86ffc9255d484777": {
          "model_module": "@jupyter-widgets/controls",
          "model_name": "FloatProgressModel",
          "model_module_version": "1.5.0",
          "state": {
            "_dom_classes": [],
            "_model_module": "@jupyter-widgets/controls",
            "_model_module_version": "1.5.0",
            "_model_name": "FloatProgressModel",
            "_view_count": null,
            "_view_module": "@jupyter-widgets/controls",
            "_view_module_version": "1.5.0",
            "_view_name": "ProgressView",
            "bar_style": "success",
            "description": "",
            "description_tooltip": null,
            "layout": "IPY_MODEL_476b7aeb1ed24756b6791a00e3ffa65d",
            "max": 38367,
            "min": 0,
            "orientation": "horizontal",
            "style": "IPY_MODEL_e69c1a8d908840e3b78b96030aeb0119",
            "value": 38367
          }
        },
        "38ff6b422c084ab6b47fc9bd598e4417": {
          "model_module": "@jupyter-widgets/controls",
          "model_name": "HTMLModel",
          "model_module_version": "1.5.0",
          "state": {
            "_dom_classes": [],
            "_model_module": "@jupyter-widgets/controls",
            "_model_module_version": "1.5.0",
            "_model_name": "HTMLModel",
            "_view_count": null,
            "_view_module": "@jupyter-widgets/controls",
            "_view_module_version": "1.5.0",
            "_view_name": "HTMLView",
            "description": "",
            "description_tooltip": null,
            "layout": "IPY_MODEL_1e9b5727000b422eb2e4a8e466797199",
            "placeholder": "​",
            "style": "IPY_MODEL_d78dda1b61da4174a9c799afd1344d3e",
            "value": " 38367/38367 [00:10&lt;00:00, 2615.39 examples/s]"
          }
        },
        "a6506e036c94415799b1b0625c327b26": {
          "model_module": "@jupyter-widgets/base",
          "model_name": "LayoutModel",
          "model_module_version": "1.2.0",
          "state": {
            "_model_module": "@jupyter-widgets/base",
            "_model_module_version": "1.2.0",
            "_model_name": "LayoutModel",
            "_view_count": null,
            "_view_module": "@jupyter-widgets/base",
            "_view_module_version": "1.2.0",
            "_view_name": "LayoutView",
            "align_content": null,
            "align_items": null,
            "align_self": null,
            "border": null,
            "bottom": null,
            "display": null,
            "flex": null,
            "flex_flow": null,
            "grid_area": null,
            "grid_auto_columns": null,
            "grid_auto_flow": null,
            "grid_auto_rows": null,
            "grid_column": null,
            "grid_gap": null,
            "grid_row": null,
            "grid_template_areas": null,
            "grid_template_columns": null,
            "grid_template_rows": null,
            "height": null,
            "justify_content": null,
            "justify_items": null,
            "left": null,
            "margin": null,
            "max_height": null,
            "max_width": null,
            "min_height": null,
            "min_width": null,
            "object_fit": null,
            "object_position": null,
            "order": null,
            "overflow": null,
            "overflow_x": null,
            "overflow_y": null,
            "padding": null,
            "right": null,
            "top": null,
            "visibility": null,
            "width": null
          }
        },
        "5dbd31b8fd6d498ba2469b3f150ee5f9": {
          "model_module": "@jupyter-widgets/base",
          "model_name": "LayoutModel",
          "model_module_version": "1.2.0",
          "state": {
            "_model_module": "@jupyter-widgets/base",
            "_model_module_version": "1.2.0",
            "_model_name": "LayoutModel",
            "_view_count": null,
            "_view_module": "@jupyter-widgets/base",
            "_view_module_version": "1.2.0",
            "_view_name": "LayoutView",
            "align_content": null,
            "align_items": null,
            "align_self": null,
            "border": null,
            "bottom": null,
            "display": null,
            "flex": null,
            "flex_flow": null,
            "grid_area": null,
            "grid_auto_columns": null,
            "grid_auto_flow": null,
            "grid_auto_rows": null,
            "grid_column": null,
            "grid_gap": null,
            "grid_row": null,
            "grid_template_areas": null,
            "grid_template_columns": null,
            "grid_template_rows": null,
            "height": null,
            "justify_content": null,
            "justify_items": null,
            "left": null,
            "margin": null,
            "max_height": null,
            "max_width": null,
            "min_height": null,
            "min_width": null,
            "object_fit": null,
            "object_position": null,
            "order": null,
            "overflow": null,
            "overflow_x": null,
            "overflow_y": null,
            "padding": null,
            "right": null,
            "top": null,
            "visibility": null,
            "width": null
          }
        },
        "cccdf0b7b98b4191a556a237093b5e1a": {
          "model_module": "@jupyter-widgets/controls",
          "model_name": "DescriptionStyleModel",
          "model_module_version": "1.5.0",
          "state": {
            "_model_module": "@jupyter-widgets/controls",
            "_model_module_version": "1.5.0",
            "_model_name": "DescriptionStyleModel",
            "_view_count": null,
            "_view_module": "@jupyter-widgets/base",
            "_view_module_version": "1.2.0",
            "_view_name": "StyleView",
            "description_width": ""
          }
        },
        "476b7aeb1ed24756b6791a00e3ffa65d": {
          "model_module": "@jupyter-widgets/base",
          "model_name": "LayoutModel",
          "model_module_version": "1.2.0",
          "state": {
            "_model_module": "@jupyter-widgets/base",
            "_model_module_version": "1.2.0",
            "_model_name": "LayoutModel",
            "_view_count": null,
            "_view_module": "@jupyter-widgets/base",
            "_view_module_version": "1.2.0",
            "_view_name": "LayoutView",
            "align_content": null,
            "align_items": null,
            "align_self": null,
            "border": null,
            "bottom": null,
            "display": null,
            "flex": null,
            "flex_flow": null,
            "grid_area": null,
            "grid_auto_columns": null,
            "grid_auto_flow": null,
            "grid_auto_rows": null,
            "grid_column": null,
            "grid_gap": null,
            "grid_row": null,
            "grid_template_areas": null,
            "grid_template_columns": null,
            "grid_template_rows": null,
            "height": null,
            "justify_content": null,
            "justify_items": null,
            "left": null,
            "margin": null,
            "max_height": null,
            "max_width": null,
            "min_height": null,
            "min_width": null,
            "object_fit": null,
            "object_position": null,
            "order": null,
            "overflow": null,
            "overflow_x": null,
            "overflow_y": null,
            "padding": null,
            "right": null,
            "top": null,
            "visibility": null,
            "width": null
          }
        },
        "e69c1a8d908840e3b78b96030aeb0119": {
          "model_module": "@jupyter-widgets/controls",
          "model_name": "ProgressStyleModel",
          "model_module_version": "1.5.0",
          "state": {
            "_model_module": "@jupyter-widgets/controls",
            "_model_module_version": "1.5.0",
            "_model_name": "ProgressStyleModel",
            "_view_count": null,
            "_view_module": "@jupyter-widgets/base",
            "_view_module_version": "1.2.0",
            "_view_name": "StyleView",
            "bar_color": null,
            "description_width": ""
          }
        },
        "1e9b5727000b422eb2e4a8e466797199": {
          "model_module": "@jupyter-widgets/base",
          "model_name": "LayoutModel",
          "model_module_version": "1.2.0",
          "state": {
            "_model_module": "@jupyter-widgets/base",
            "_model_module_version": "1.2.0",
            "_model_name": "LayoutModel",
            "_view_count": null,
            "_view_module": "@jupyter-widgets/base",
            "_view_module_version": "1.2.0",
            "_view_name": "LayoutView",
            "align_content": null,
            "align_items": null,
            "align_self": null,
            "border": null,
            "bottom": null,
            "display": null,
            "flex": null,
            "flex_flow": null,
            "grid_area": null,
            "grid_auto_columns": null,
            "grid_auto_flow": null,
            "grid_auto_rows": null,
            "grid_column": null,
            "grid_gap": null,
            "grid_row": null,
            "grid_template_areas": null,
            "grid_template_columns": null,
            "grid_template_rows": null,
            "height": null,
            "justify_content": null,
            "justify_items": null,
            "left": null,
            "margin": null,
            "max_height": null,
            "max_width": null,
            "min_height": null,
            "min_width": null,
            "object_fit": null,
            "object_position": null,
            "order": null,
            "overflow": null,
            "overflow_x": null,
            "overflow_y": null,
            "padding": null,
            "right": null,
            "top": null,
            "visibility": null,
            "width": null
          }
        },
        "d78dda1b61da4174a9c799afd1344d3e": {
          "model_module": "@jupyter-widgets/controls",
          "model_name": "DescriptionStyleModel",
          "model_module_version": "1.5.0",
          "state": {
            "_model_module": "@jupyter-widgets/controls",
            "_model_module_version": "1.5.0",
            "_model_name": "DescriptionStyleModel",
            "_view_count": null,
            "_view_module": "@jupyter-widgets/base",
            "_view_module_version": "1.2.0",
            "_view_name": "StyleView",
            "description_width": ""
          }
        },
        "7cbbf67bc9814f4aab3b3b97638fda46": {
          "model_module": "@jupyter-widgets/controls",
          "model_name": "HBoxModel",
          "model_module_version": "1.5.0",
          "state": {
            "_dom_classes": [],
            "_model_module": "@jupyter-widgets/controls",
            "_model_module_version": "1.5.0",
            "_model_name": "HBoxModel",
            "_view_count": null,
            "_view_module": "@jupyter-widgets/controls",
            "_view_module_version": "1.5.0",
            "_view_name": "HBoxView",
            "box_style": "",
            "children": [
              "IPY_MODEL_c775be62a07445f1a7c3784a06a983de",
              "IPY_MODEL_d5fad1fe037f4af3a95fa222107a3505",
              "IPY_MODEL_f3039b21124b4e209e9ef7e96978810c"
            ],
            "layout": "IPY_MODEL_31b2ed1f2ed248c2b325d33f425cb1bb"
          }
        },
        "c775be62a07445f1a7c3784a06a983de": {
          "model_module": "@jupyter-widgets/controls",
          "model_name": "HTMLModel",
          "model_module_version": "1.5.0",
          "state": {
            "_dom_classes": [],
            "_model_module": "@jupyter-widgets/controls",
            "_model_module_version": "1.5.0",
            "_model_name": "HTMLModel",
            "_view_count": null,
            "_view_module": "@jupyter-widgets/controls",
            "_view_module_version": "1.5.0",
            "_view_name": "HTMLView",
            "description": "",
            "description_tooltip": null,
            "layout": "IPY_MODEL_4ee13f85a39c4807941e87f8ce0ebc07",
            "placeholder": "​",
            "style": "IPY_MODEL_53a985774ddc48cab64ce340d1713ffc",
            "value": "Map: 100%"
          }
        },
        "d5fad1fe037f4af3a95fa222107a3505": {
          "model_module": "@jupyter-widgets/controls",
          "model_name": "FloatProgressModel",
          "model_module_version": "1.5.0",
          "state": {
            "_dom_classes": [],
            "_model_module": "@jupyter-widgets/controls",
            "_model_module_version": "1.5.0",
            "_model_name": "FloatProgressModel",
            "_view_count": null,
            "_view_module": "@jupyter-widgets/controls",
            "_view_module_version": "1.5.0",
            "_view_name": "ProgressView",
            "bar_style": "success",
            "description": "",
            "description_tooltip": null,
            "layout": "IPY_MODEL_21dcb4b7a28e499dbb7a9e5ce9d04cb4",
            "max": 4796,
            "min": 0,
            "orientation": "horizontal",
            "style": "IPY_MODEL_d046daed4d0240e0aa24ecbc08deddf7",
            "value": 4796
          }
        },
        "f3039b21124b4e209e9ef7e96978810c": {
          "model_module": "@jupyter-widgets/controls",
          "model_name": "HTMLModel",
          "model_module_version": "1.5.0",
          "state": {
            "_dom_classes": [],
            "_model_module": "@jupyter-widgets/controls",
            "_model_module_version": "1.5.0",
            "_model_name": "HTMLModel",
            "_view_count": null,
            "_view_module": "@jupyter-widgets/controls",
            "_view_module_version": "1.5.0",
            "_view_name": "HTMLView",
            "description": "",
            "description_tooltip": null,
            "layout": "IPY_MODEL_43ec6b7d2f3546cdabf85bc46fee410f",
            "placeholder": "​",
            "style": "IPY_MODEL_26772bcdec7e4ae4b1a34aea59de9f35",
            "value": " 4796/4796 [00:02&lt;00:00, 2089.21 examples/s]"
          }
        },
        "31b2ed1f2ed248c2b325d33f425cb1bb": {
          "model_module": "@jupyter-widgets/base",
          "model_name": "LayoutModel",
          "model_module_version": "1.2.0",
          "state": {
            "_model_module": "@jupyter-widgets/base",
            "_model_module_version": "1.2.0",
            "_model_name": "LayoutModel",
            "_view_count": null,
            "_view_module": "@jupyter-widgets/base",
            "_view_module_version": "1.2.0",
            "_view_name": "LayoutView",
            "align_content": null,
            "align_items": null,
            "align_self": null,
            "border": null,
            "bottom": null,
            "display": null,
            "flex": null,
            "flex_flow": null,
            "grid_area": null,
            "grid_auto_columns": null,
            "grid_auto_flow": null,
            "grid_auto_rows": null,
            "grid_column": null,
            "grid_gap": null,
            "grid_row": null,
            "grid_template_areas": null,
            "grid_template_columns": null,
            "grid_template_rows": null,
            "height": null,
            "justify_content": null,
            "justify_items": null,
            "left": null,
            "margin": null,
            "max_height": null,
            "max_width": null,
            "min_height": null,
            "min_width": null,
            "object_fit": null,
            "object_position": null,
            "order": null,
            "overflow": null,
            "overflow_x": null,
            "overflow_y": null,
            "padding": null,
            "right": null,
            "top": null,
            "visibility": null,
            "width": null
          }
        },
        "4ee13f85a39c4807941e87f8ce0ebc07": {
          "model_module": "@jupyter-widgets/base",
          "model_name": "LayoutModel",
          "model_module_version": "1.2.0",
          "state": {
            "_model_module": "@jupyter-widgets/base",
            "_model_module_version": "1.2.0",
            "_model_name": "LayoutModel",
            "_view_count": null,
            "_view_module": "@jupyter-widgets/base",
            "_view_module_version": "1.2.0",
            "_view_name": "LayoutView",
            "align_content": null,
            "align_items": null,
            "align_self": null,
            "border": null,
            "bottom": null,
            "display": null,
            "flex": null,
            "flex_flow": null,
            "grid_area": null,
            "grid_auto_columns": null,
            "grid_auto_flow": null,
            "grid_auto_rows": null,
            "grid_column": null,
            "grid_gap": null,
            "grid_row": null,
            "grid_template_areas": null,
            "grid_template_columns": null,
            "grid_template_rows": null,
            "height": null,
            "justify_content": null,
            "justify_items": null,
            "left": null,
            "margin": null,
            "max_height": null,
            "max_width": null,
            "min_height": null,
            "min_width": null,
            "object_fit": null,
            "object_position": null,
            "order": null,
            "overflow": null,
            "overflow_x": null,
            "overflow_y": null,
            "padding": null,
            "right": null,
            "top": null,
            "visibility": null,
            "width": null
          }
        },
        "53a985774ddc48cab64ce340d1713ffc": {
          "model_module": "@jupyter-widgets/controls",
          "model_name": "DescriptionStyleModel",
          "model_module_version": "1.5.0",
          "state": {
            "_model_module": "@jupyter-widgets/controls",
            "_model_module_version": "1.5.0",
            "_model_name": "DescriptionStyleModel",
            "_view_count": null,
            "_view_module": "@jupyter-widgets/base",
            "_view_module_version": "1.2.0",
            "_view_name": "StyleView",
            "description_width": ""
          }
        },
        "21dcb4b7a28e499dbb7a9e5ce9d04cb4": {
          "model_module": "@jupyter-widgets/base",
          "model_name": "LayoutModel",
          "model_module_version": "1.2.0",
          "state": {
            "_model_module": "@jupyter-widgets/base",
            "_model_module_version": "1.2.0",
            "_model_name": "LayoutModel",
            "_view_count": null,
            "_view_module": "@jupyter-widgets/base",
            "_view_module_version": "1.2.0",
            "_view_name": "LayoutView",
            "align_content": null,
            "align_items": null,
            "align_self": null,
            "border": null,
            "bottom": null,
            "display": null,
            "flex": null,
            "flex_flow": null,
            "grid_area": null,
            "grid_auto_columns": null,
            "grid_auto_flow": null,
            "grid_auto_rows": null,
            "grid_column": null,
            "grid_gap": null,
            "grid_row": null,
            "grid_template_areas": null,
            "grid_template_columns": null,
            "grid_template_rows": null,
            "height": null,
            "justify_content": null,
            "justify_items": null,
            "left": null,
            "margin": null,
            "max_height": null,
            "max_width": null,
            "min_height": null,
            "min_width": null,
            "object_fit": null,
            "object_position": null,
            "order": null,
            "overflow": null,
            "overflow_x": null,
            "overflow_y": null,
            "padding": null,
            "right": null,
            "top": null,
            "visibility": null,
            "width": null
          }
        },
        "d046daed4d0240e0aa24ecbc08deddf7": {
          "model_module": "@jupyter-widgets/controls",
          "model_name": "ProgressStyleModel",
          "model_module_version": "1.5.0",
          "state": {
            "_model_module": "@jupyter-widgets/controls",
            "_model_module_version": "1.5.0",
            "_model_name": "ProgressStyleModel",
            "_view_count": null,
            "_view_module": "@jupyter-widgets/base",
            "_view_module_version": "1.2.0",
            "_view_name": "StyleView",
            "bar_color": null,
            "description_width": ""
          }
        },
        "43ec6b7d2f3546cdabf85bc46fee410f": {
          "model_module": "@jupyter-widgets/base",
          "model_name": "LayoutModel",
          "model_module_version": "1.2.0",
          "state": {
            "_model_module": "@jupyter-widgets/base",
            "_model_module_version": "1.2.0",
            "_model_name": "LayoutModel",
            "_view_count": null,
            "_view_module": "@jupyter-widgets/base",
            "_view_module_version": "1.2.0",
            "_view_name": "LayoutView",
            "align_content": null,
            "align_items": null,
            "align_self": null,
            "border": null,
            "bottom": null,
            "display": null,
            "flex": null,
            "flex_flow": null,
            "grid_area": null,
            "grid_auto_columns": null,
            "grid_auto_flow": null,
            "grid_auto_rows": null,
            "grid_column": null,
            "grid_gap": null,
            "grid_row": null,
            "grid_template_areas": null,
            "grid_template_columns": null,
            "grid_template_rows": null,
            "height": null,
            "justify_content": null,
            "justify_items": null,
            "left": null,
            "margin": null,
            "max_height": null,
            "max_width": null,
            "min_height": null,
            "min_width": null,
            "object_fit": null,
            "object_position": null,
            "order": null,
            "overflow": null,
            "overflow_x": null,
            "overflow_y": null,
            "padding": null,
            "right": null,
            "top": null,
            "visibility": null,
            "width": null
          }
        },
        "26772bcdec7e4ae4b1a34aea59de9f35": {
          "model_module": "@jupyter-widgets/controls",
          "model_name": "DescriptionStyleModel",
          "model_module_version": "1.5.0",
          "state": {
            "_model_module": "@jupyter-widgets/controls",
            "_model_module_version": "1.5.0",
            "_model_name": "DescriptionStyleModel",
            "_view_count": null,
            "_view_module": "@jupyter-widgets/base",
            "_view_module_version": "1.2.0",
            "_view_name": "StyleView",
            "description_width": ""
          }
        },
        "c48d3dc73a3b43e7974c368c63d9cb97": {
          "model_module": "@jupyter-widgets/controls",
          "model_name": "HBoxModel",
          "model_module_version": "1.5.0",
          "state": {
            "_dom_classes": [],
            "_model_module": "@jupyter-widgets/controls",
            "_model_module_version": "1.5.0",
            "_model_name": "HBoxModel",
            "_view_count": null,
            "_view_module": "@jupyter-widgets/controls",
            "_view_module_version": "1.5.0",
            "_view_name": "HBoxView",
            "box_style": "",
            "children": [
              "IPY_MODEL_ccbb9ab821224557abe5652555f59782",
              "IPY_MODEL_eb18e2714ce34d49bb8b8be74a53e36c",
              "IPY_MODEL_7671a3df91714c7ab19a87ceb57736c5"
            ],
            "layout": "IPY_MODEL_e95dbda7612d4e4f99fce353a3355976"
          }
        },
        "ccbb9ab821224557abe5652555f59782": {
          "model_module": "@jupyter-widgets/controls",
          "model_name": "HTMLModel",
          "model_module_version": "1.5.0",
          "state": {
            "_dom_classes": [],
            "_model_module": "@jupyter-widgets/controls",
            "_model_module_version": "1.5.0",
            "_model_name": "HTMLModel",
            "_view_count": null,
            "_view_module": "@jupyter-widgets/controls",
            "_view_module_version": "1.5.0",
            "_view_name": "HTMLView",
            "description": "",
            "description_tooltip": null,
            "layout": "IPY_MODEL_697951e888354efe80a6da41dac849bd",
            "placeholder": "​",
            "style": "IPY_MODEL_5c4d2040427f4f83a57177c60e36d798",
            "value": "Map: 100%"
          }
        },
        "eb18e2714ce34d49bb8b8be74a53e36c": {
          "model_module": "@jupyter-widgets/controls",
          "model_name": "FloatProgressModel",
          "model_module_version": "1.5.0",
          "state": {
            "_dom_classes": [],
            "_model_module": "@jupyter-widgets/controls",
            "_model_module_version": "1.5.0",
            "_model_name": "FloatProgressModel",
            "_view_count": null,
            "_view_module": "@jupyter-widgets/controls",
            "_view_module_version": "1.5.0",
            "_view_name": "ProgressView",
            "bar_style": "success",
            "description": "",
            "description_tooltip": null,
            "layout": "IPY_MODEL_6f8116bc2f1a45f9a94e9ad5118a88a6",
            "max": 4796,
            "min": 0,
            "orientation": "horizontal",
            "style": "IPY_MODEL_040f4ec2853746b3aa4d4a0e4db61313",
            "value": 4796
          }
        },
        "7671a3df91714c7ab19a87ceb57736c5": {
          "model_module": "@jupyter-widgets/controls",
          "model_name": "HTMLModel",
          "model_module_version": "1.5.0",
          "state": {
            "_dom_classes": [],
            "_model_module": "@jupyter-widgets/controls",
            "_model_module_version": "1.5.0",
            "_model_name": "HTMLModel",
            "_view_count": null,
            "_view_module": "@jupyter-widgets/controls",
            "_view_module_version": "1.5.0",
            "_view_name": "HTMLView",
            "description": "",
            "description_tooltip": null,
            "layout": "IPY_MODEL_e349cdb78fcb4ca1a6dd86c23f089881",
            "placeholder": "​",
            "style": "IPY_MODEL_29f8273b5f764e229a7f1bda813d81e5",
            "value": " 4796/4796 [00:01&lt;00:00, 2822.53 examples/s]"
          }
        },
        "e95dbda7612d4e4f99fce353a3355976": {
          "model_module": "@jupyter-widgets/base",
          "model_name": "LayoutModel",
          "model_module_version": "1.2.0",
          "state": {
            "_model_module": "@jupyter-widgets/base",
            "_model_module_version": "1.2.0",
            "_model_name": "LayoutModel",
            "_view_count": null,
            "_view_module": "@jupyter-widgets/base",
            "_view_module_version": "1.2.0",
            "_view_name": "LayoutView",
            "align_content": null,
            "align_items": null,
            "align_self": null,
            "border": null,
            "bottom": null,
            "display": null,
            "flex": null,
            "flex_flow": null,
            "grid_area": null,
            "grid_auto_columns": null,
            "grid_auto_flow": null,
            "grid_auto_rows": null,
            "grid_column": null,
            "grid_gap": null,
            "grid_row": null,
            "grid_template_areas": null,
            "grid_template_columns": null,
            "grid_template_rows": null,
            "height": null,
            "justify_content": null,
            "justify_items": null,
            "left": null,
            "margin": null,
            "max_height": null,
            "max_width": null,
            "min_height": null,
            "min_width": null,
            "object_fit": null,
            "object_position": null,
            "order": null,
            "overflow": null,
            "overflow_x": null,
            "overflow_y": null,
            "padding": null,
            "right": null,
            "top": null,
            "visibility": null,
            "width": null
          }
        },
        "697951e888354efe80a6da41dac849bd": {
          "model_module": "@jupyter-widgets/base",
          "model_name": "LayoutModel",
          "model_module_version": "1.2.0",
          "state": {
            "_model_module": "@jupyter-widgets/base",
            "_model_module_version": "1.2.0",
            "_model_name": "LayoutModel",
            "_view_count": null,
            "_view_module": "@jupyter-widgets/base",
            "_view_module_version": "1.2.0",
            "_view_name": "LayoutView",
            "align_content": null,
            "align_items": null,
            "align_self": null,
            "border": null,
            "bottom": null,
            "display": null,
            "flex": null,
            "flex_flow": null,
            "grid_area": null,
            "grid_auto_columns": null,
            "grid_auto_flow": null,
            "grid_auto_rows": null,
            "grid_column": null,
            "grid_gap": null,
            "grid_row": null,
            "grid_template_areas": null,
            "grid_template_columns": null,
            "grid_template_rows": null,
            "height": null,
            "justify_content": null,
            "justify_items": null,
            "left": null,
            "margin": null,
            "max_height": null,
            "max_width": null,
            "min_height": null,
            "min_width": null,
            "object_fit": null,
            "object_position": null,
            "order": null,
            "overflow": null,
            "overflow_x": null,
            "overflow_y": null,
            "padding": null,
            "right": null,
            "top": null,
            "visibility": null,
            "width": null
          }
        },
        "5c4d2040427f4f83a57177c60e36d798": {
          "model_module": "@jupyter-widgets/controls",
          "model_name": "DescriptionStyleModel",
          "model_module_version": "1.5.0",
          "state": {
            "_model_module": "@jupyter-widgets/controls",
            "_model_module_version": "1.5.0",
            "_model_name": "DescriptionStyleModel",
            "_view_count": null,
            "_view_module": "@jupyter-widgets/base",
            "_view_module_version": "1.2.0",
            "_view_name": "StyleView",
            "description_width": ""
          }
        },
        "6f8116bc2f1a45f9a94e9ad5118a88a6": {
          "model_module": "@jupyter-widgets/base",
          "model_name": "LayoutModel",
          "model_module_version": "1.2.0",
          "state": {
            "_model_module": "@jupyter-widgets/base",
            "_model_module_version": "1.2.0",
            "_model_name": "LayoutModel",
            "_view_count": null,
            "_view_module": "@jupyter-widgets/base",
            "_view_module_version": "1.2.0",
            "_view_name": "LayoutView",
            "align_content": null,
            "align_items": null,
            "align_self": null,
            "border": null,
            "bottom": null,
            "display": null,
            "flex": null,
            "flex_flow": null,
            "grid_area": null,
            "grid_auto_columns": null,
            "grid_auto_flow": null,
            "grid_auto_rows": null,
            "grid_column": null,
            "grid_gap": null,
            "grid_row": null,
            "grid_template_areas": null,
            "grid_template_columns": null,
            "grid_template_rows": null,
            "height": null,
            "justify_content": null,
            "justify_items": null,
            "left": null,
            "margin": null,
            "max_height": null,
            "max_width": null,
            "min_height": null,
            "min_width": null,
            "object_fit": null,
            "object_position": null,
            "order": null,
            "overflow": null,
            "overflow_x": null,
            "overflow_y": null,
            "padding": null,
            "right": null,
            "top": null,
            "visibility": null,
            "width": null
          }
        },
        "040f4ec2853746b3aa4d4a0e4db61313": {
          "model_module": "@jupyter-widgets/controls",
          "model_name": "ProgressStyleModel",
          "model_module_version": "1.5.0",
          "state": {
            "_model_module": "@jupyter-widgets/controls",
            "_model_module_version": "1.5.0",
            "_model_name": "ProgressStyleModel",
            "_view_count": null,
            "_view_module": "@jupyter-widgets/base",
            "_view_module_version": "1.2.0",
            "_view_name": "StyleView",
            "bar_color": null,
            "description_width": ""
          }
        },
        "e349cdb78fcb4ca1a6dd86c23f089881": {
          "model_module": "@jupyter-widgets/base",
          "model_name": "LayoutModel",
          "model_module_version": "1.2.0",
          "state": {
            "_model_module": "@jupyter-widgets/base",
            "_model_module_version": "1.2.0",
            "_model_name": "LayoutModel",
            "_view_count": null,
            "_view_module": "@jupyter-widgets/base",
            "_view_module_version": "1.2.0",
            "_view_name": "LayoutView",
            "align_content": null,
            "align_items": null,
            "align_self": null,
            "border": null,
            "bottom": null,
            "display": null,
            "flex": null,
            "flex_flow": null,
            "grid_area": null,
            "grid_auto_columns": null,
            "grid_auto_flow": null,
            "grid_auto_rows": null,
            "grid_column": null,
            "grid_gap": null,
            "grid_row": null,
            "grid_template_areas": null,
            "grid_template_columns": null,
            "grid_template_rows": null,
            "height": null,
            "justify_content": null,
            "justify_items": null,
            "left": null,
            "margin": null,
            "max_height": null,
            "max_width": null,
            "min_height": null,
            "min_width": null,
            "object_fit": null,
            "object_position": null,
            "order": null,
            "overflow": null,
            "overflow_x": null,
            "overflow_y": null,
            "padding": null,
            "right": null,
            "top": null,
            "visibility": null,
            "width": null
          }
        },
        "29f8273b5f764e229a7f1bda813d81e5": {
          "model_module": "@jupyter-widgets/controls",
          "model_name": "DescriptionStyleModel",
          "model_module_version": "1.5.0",
          "state": {
            "_model_module": "@jupyter-widgets/controls",
            "_model_module_version": "1.5.0",
            "_model_name": "DescriptionStyleModel",
            "_view_count": null,
            "_view_module": "@jupyter-widgets/base",
            "_view_module_version": "1.2.0",
            "_view_name": "StyleView",
            "description_width": ""
          }
        },
        "be962a18d9b146119341b23c33bb2017": {
          "model_module": "@jupyter-widgets/controls",
          "model_name": "HBoxModel",
          "model_module_version": "1.5.0",
          "state": {
            "_dom_classes": [],
            "_model_module": "@jupyter-widgets/controls",
            "_model_module_version": "1.5.0",
            "_model_name": "HBoxModel",
            "_view_count": null,
            "_view_module": "@jupyter-widgets/controls",
            "_view_module_version": "1.5.0",
            "_view_name": "HBoxView",
            "box_style": "",
            "children": [
              "IPY_MODEL_bf683abfa92e4c64a76d0baabf90f613",
              "IPY_MODEL_bd4b79330ccd465490a96c79e10b09f8",
              "IPY_MODEL_d95bb58830ec4bb4afa9b91d7534dce5"
            ],
            "layout": "IPY_MODEL_1d9f7a78f0604c2f8089115c76ea7658"
          }
        },
        "bf683abfa92e4c64a76d0baabf90f613": {
          "model_module": "@jupyter-widgets/controls",
          "model_name": "HTMLModel",
          "model_module_version": "1.5.0",
          "state": {
            "_dom_classes": [],
            "_model_module": "@jupyter-widgets/controls",
            "_model_module_version": "1.5.0",
            "_model_name": "HTMLModel",
            "_view_count": null,
            "_view_module": "@jupyter-widgets/controls",
            "_view_module_version": "1.5.0",
            "_view_name": "HTMLView",
            "description": "",
            "description_tooltip": null,
            "layout": "IPY_MODEL_f3422e112a384a6fb8ce601450e3c12b",
            "placeholder": "​",
            "style": "IPY_MODEL_9506815a7bc94f6b85228407762b6b92",
            "value": "model.safetensors: 100%"
          }
        },
        "bd4b79330ccd465490a96c79e10b09f8": {
          "model_module": "@jupyter-widgets/controls",
          "model_name": "FloatProgressModel",
          "model_module_version": "1.5.0",
          "state": {
            "_dom_classes": [],
            "_model_module": "@jupyter-widgets/controls",
            "_model_module_version": "1.5.0",
            "_model_name": "FloatProgressModel",
            "_view_count": null,
            "_view_module": "@jupyter-widgets/controls",
            "_view_module_version": "1.5.0",
            "_view_name": "ProgressView",
            "bar_style": "success",
            "description": "",
            "description_tooltip": null,
            "layout": "IPY_MODEL_afe65e741b7c445598a1e7eec05cfb8d",
            "max": 435755784,
            "min": 0,
            "orientation": "horizontal",
            "style": "IPY_MODEL_978c987e35084b6f9f84c452e23b6285",
            "value": 435755784
          }
        },
        "d95bb58830ec4bb4afa9b91d7534dce5": {
          "model_module": "@jupyter-widgets/controls",
          "model_name": "HTMLModel",
          "model_module_version": "1.5.0",
          "state": {
            "_dom_classes": [],
            "_model_module": "@jupyter-widgets/controls",
            "_model_module_version": "1.5.0",
            "_model_name": "HTMLModel",
            "_view_count": null,
            "_view_module": "@jupyter-widgets/controls",
            "_view_module_version": "1.5.0",
            "_view_name": "HTMLView",
            "description": "",
            "description_tooltip": null,
            "layout": "IPY_MODEL_affc0b215a9d41cda63f1fc3c5f08d4a",
            "placeholder": "​",
            "style": "IPY_MODEL_46bd180a5dd04d2f86036275bb432bbf",
            "value": " 436M/436M [00:06&lt;00:00, 109MB/s]"
          }
        },
        "1d9f7a78f0604c2f8089115c76ea7658": {
          "model_module": "@jupyter-widgets/base",
          "model_name": "LayoutModel",
          "model_module_version": "1.2.0",
          "state": {
            "_model_module": "@jupyter-widgets/base",
            "_model_module_version": "1.2.0",
            "_model_name": "LayoutModel",
            "_view_count": null,
            "_view_module": "@jupyter-widgets/base",
            "_view_module_version": "1.2.0",
            "_view_name": "LayoutView",
            "align_content": null,
            "align_items": null,
            "align_self": null,
            "border": null,
            "bottom": null,
            "display": null,
            "flex": null,
            "flex_flow": null,
            "grid_area": null,
            "grid_auto_columns": null,
            "grid_auto_flow": null,
            "grid_auto_rows": null,
            "grid_column": null,
            "grid_gap": null,
            "grid_row": null,
            "grid_template_areas": null,
            "grid_template_columns": null,
            "grid_template_rows": null,
            "height": null,
            "justify_content": null,
            "justify_items": null,
            "left": null,
            "margin": null,
            "max_height": null,
            "max_width": null,
            "min_height": null,
            "min_width": null,
            "object_fit": null,
            "object_position": null,
            "order": null,
            "overflow": null,
            "overflow_x": null,
            "overflow_y": null,
            "padding": null,
            "right": null,
            "top": null,
            "visibility": null,
            "width": null
          }
        },
        "f3422e112a384a6fb8ce601450e3c12b": {
          "model_module": "@jupyter-widgets/base",
          "model_name": "LayoutModel",
          "model_module_version": "1.2.0",
          "state": {
            "_model_module": "@jupyter-widgets/base",
            "_model_module_version": "1.2.0",
            "_model_name": "LayoutModel",
            "_view_count": null,
            "_view_module": "@jupyter-widgets/base",
            "_view_module_version": "1.2.0",
            "_view_name": "LayoutView",
            "align_content": null,
            "align_items": null,
            "align_self": null,
            "border": null,
            "bottom": null,
            "display": null,
            "flex": null,
            "flex_flow": null,
            "grid_area": null,
            "grid_auto_columns": null,
            "grid_auto_flow": null,
            "grid_auto_rows": null,
            "grid_column": null,
            "grid_gap": null,
            "grid_row": null,
            "grid_template_areas": null,
            "grid_template_columns": null,
            "grid_template_rows": null,
            "height": null,
            "justify_content": null,
            "justify_items": null,
            "left": null,
            "margin": null,
            "max_height": null,
            "max_width": null,
            "min_height": null,
            "min_width": null,
            "object_fit": null,
            "object_position": null,
            "order": null,
            "overflow": null,
            "overflow_x": null,
            "overflow_y": null,
            "padding": null,
            "right": null,
            "top": null,
            "visibility": null,
            "width": null
          }
        },
        "9506815a7bc94f6b85228407762b6b92": {
          "model_module": "@jupyter-widgets/controls",
          "model_name": "DescriptionStyleModel",
          "model_module_version": "1.5.0",
          "state": {
            "_model_module": "@jupyter-widgets/controls",
            "_model_module_version": "1.5.0",
            "_model_name": "DescriptionStyleModel",
            "_view_count": null,
            "_view_module": "@jupyter-widgets/base",
            "_view_module_version": "1.2.0",
            "_view_name": "StyleView",
            "description_width": ""
          }
        },
        "afe65e741b7c445598a1e7eec05cfb8d": {
          "model_module": "@jupyter-widgets/base",
          "model_name": "LayoutModel",
          "model_module_version": "1.2.0",
          "state": {
            "_model_module": "@jupyter-widgets/base",
            "_model_module_version": "1.2.0",
            "_model_name": "LayoutModel",
            "_view_count": null,
            "_view_module": "@jupyter-widgets/base",
            "_view_module_version": "1.2.0",
            "_view_name": "LayoutView",
            "align_content": null,
            "align_items": null,
            "align_self": null,
            "border": null,
            "bottom": null,
            "display": null,
            "flex": null,
            "flex_flow": null,
            "grid_area": null,
            "grid_auto_columns": null,
            "grid_auto_flow": null,
            "grid_auto_rows": null,
            "grid_column": null,
            "grid_gap": null,
            "grid_row": null,
            "grid_template_areas": null,
            "grid_template_columns": null,
            "grid_template_rows": null,
            "height": null,
            "justify_content": null,
            "justify_items": null,
            "left": null,
            "margin": null,
            "max_height": null,
            "max_width": null,
            "min_height": null,
            "min_width": null,
            "object_fit": null,
            "object_position": null,
            "order": null,
            "overflow": null,
            "overflow_x": null,
            "overflow_y": null,
            "padding": null,
            "right": null,
            "top": null,
            "visibility": null,
            "width": null
          }
        },
        "978c987e35084b6f9f84c452e23b6285": {
          "model_module": "@jupyter-widgets/controls",
          "model_name": "ProgressStyleModel",
          "model_module_version": "1.5.0",
          "state": {
            "_model_module": "@jupyter-widgets/controls",
            "_model_module_version": "1.5.0",
            "_model_name": "ProgressStyleModel",
            "_view_count": null,
            "_view_module": "@jupyter-widgets/base",
            "_view_module_version": "1.2.0",
            "_view_name": "StyleView",
            "bar_color": null,
            "description_width": ""
          }
        },
        "affc0b215a9d41cda63f1fc3c5f08d4a": {
          "model_module": "@jupyter-widgets/base",
          "model_name": "LayoutModel",
          "model_module_version": "1.2.0",
          "state": {
            "_model_module": "@jupyter-widgets/base",
            "_model_module_version": "1.2.0",
            "_model_name": "LayoutModel",
            "_view_count": null,
            "_view_module": "@jupyter-widgets/base",
            "_view_module_version": "1.2.0",
            "_view_name": "LayoutView",
            "align_content": null,
            "align_items": null,
            "align_self": null,
            "border": null,
            "bottom": null,
            "display": null,
            "flex": null,
            "flex_flow": null,
            "grid_area": null,
            "grid_auto_columns": null,
            "grid_auto_flow": null,
            "grid_auto_rows": null,
            "grid_column": null,
            "grid_gap": null,
            "grid_row": null,
            "grid_template_areas": null,
            "grid_template_columns": null,
            "grid_template_rows": null,
            "height": null,
            "justify_content": null,
            "justify_items": null,
            "left": null,
            "margin": null,
            "max_height": null,
            "max_width": null,
            "min_height": null,
            "min_width": null,
            "object_fit": null,
            "object_position": null,
            "order": null,
            "overflow": null,
            "overflow_x": null,
            "overflow_y": null,
            "padding": null,
            "right": null,
            "top": null,
            "visibility": null,
            "width": null
          }
        },
        "46bd180a5dd04d2f86036275bb432bbf": {
          "model_module": "@jupyter-widgets/controls",
          "model_name": "DescriptionStyleModel",
          "model_module_version": "1.5.0",
          "state": {
            "_model_module": "@jupyter-widgets/controls",
            "_model_module_version": "1.5.0",
            "_model_name": "DescriptionStyleModel",
            "_view_count": null,
            "_view_module": "@jupyter-widgets/base",
            "_view_module_version": "1.2.0",
            "_view_name": "StyleView",
            "description_width": ""
          }
        },
        "837407228a79413a9b848fca5acba2ad": {
          "model_module": "@jupyter-widgets/controls",
          "model_name": "HBoxModel",
          "model_module_version": "1.5.0",
          "state": {
            "_dom_classes": [],
            "_model_module": "@jupyter-widgets/controls",
            "_model_module_version": "1.5.0",
            "_model_name": "HBoxModel",
            "_view_count": null,
            "_view_module": "@jupyter-widgets/controls",
            "_view_module_version": "1.5.0",
            "_view_name": "HBoxView",
            "box_style": "",
            "children": [
              "IPY_MODEL_2fdac6bfad3e48b59b7d0096f9707255",
              "IPY_MODEL_b8cf1c13117345e7a2b3ac0fccae092f",
              "IPY_MODEL_132c29f910f644238fda8f40bd9c4b5a"
            ],
            "layout": "IPY_MODEL_f0e6ab05422a4c449adf33893aa12837"
          }
        },
        "2fdac6bfad3e48b59b7d0096f9707255": {
          "model_module": "@jupyter-widgets/controls",
          "model_name": "HTMLModel",
          "model_module_version": "1.5.0",
          "state": {
            "_dom_classes": [],
            "_model_module": "@jupyter-widgets/controls",
            "_model_module_version": "1.5.0",
            "_model_name": "HTMLModel",
            "_view_count": null,
            "_view_module": "@jupyter-widgets/controls",
            "_view_module_version": "1.5.0",
            "_view_name": "HTMLView",
            "description": "",
            "description_tooltip": null,
            "layout": "IPY_MODEL_6b32775fe41f49dd8695cb43a3fe045c",
            "placeholder": "​",
            "style": "IPY_MODEL_50e1fc0e686f4a588b8614d6324c59ce",
            "value": "Downloading builder script: "
          }
        },
        "b8cf1c13117345e7a2b3ac0fccae092f": {
          "model_module": "@jupyter-widgets/controls",
          "model_name": "FloatProgressModel",
          "model_module_version": "1.5.0",
          "state": {
            "_dom_classes": [],
            "_model_module": "@jupyter-widgets/controls",
            "_model_module_version": "1.5.0",
            "_model_name": "FloatProgressModel",
            "_view_count": null,
            "_view_module": "@jupyter-widgets/controls",
            "_view_module_version": "1.5.0",
            "_view_name": "ProgressView",
            "bar_style": "success",
            "description": "",
            "description_tooltip": null,
            "layout": "IPY_MODEL_1a7db500bc5d42a78f57dae1620eac30",
            "max": 1,
            "min": 0,
            "orientation": "horizontal",
            "style": "IPY_MODEL_1fab41bcac7143a48d4daee8be86700f",
            "value": 1
          }
        },
        "132c29f910f644238fda8f40bd9c4b5a": {
          "model_module": "@jupyter-widgets/controls",
          "model_name": "HTMLModel",
          "model_module_version": "1.5.0",
          "state": {
            "_dom_classes": [],
            "_model_module": "@jupyter-widgets/controls",
            "_model_module_version": "1.5.0",
            "_model_name": "HTMLModel",
            "_view_count": null,
            "_view_module": "@jupyter-widgets/controls",
            "_view_module_version": "1.5.0",
            "_view_name": "HTMLView",
            "description": "",
            "description_tooltip": null,
            "layout": "IPY_MODEL_e13586d01f3244a88da5aaf325981a40",
            "placeholder": "​",
            "style": "IPY_MODEL_79bf81646d484309a1c96d8f604d368d",
            "value": " 6.34k/? [00:00&lt;00:00, 662kB/s]"
          }
        },
        "f0e6ab05422a4c449adf33893aa12837": {
          "model_module": "@jupyter-widgets/base",
          "model_name": "LayoutModel",
          "model_module_version": "1.2.0",
          "state": {
            "_model_module": "@jupyter-widgets/base",
            "_model_module_version": "1.2.0",
            "_model_name": "LayoutModel",
            "_view_count": null,
            "_view_module": "@jupyter-widgets/base",
            "_view_module_version": "1.2.0",
            "_view_name": "LayoutView",
            "align_content": null,
            "align_items": null,
            "align_self": null,
            "border": null,
            "bottom": null,
            "display": null,
            "flex": null,
            "flex_flow": null,
            "grid_area": null,
            "grid_auto_columns": null,
            "grid_auto_flow": null,
            "grid_auto_rows": null,
            "grid_column": null,
            "grid_gap": null,
            "grid_row": null,
            "grid_template_areas": null,
            "grid_template_columns": null,
            "grid_template_rows": null,
            "height": null,
            "justify_content": null,
            "justify_items": null,
            "left": null,
            "margin": null,
            "max_height": null,
            "max_width": null,
            "min_height": null,
            "min_width": null,
            "object_fit": null,
            "object_position": null,
            "order": null,
            "overflow": null,
            "overflow_x": null,
            "overflow_y": null,
            "padding": null,
            "right": null,
            "top": null,
            "visibility": null,
            "width": null
          }
        },
        "6b32775fe41f49dd8695cb43a3fe045c": {
          "model_module": "@jupyter-widgets/base",
          "model_name": "LayoutModel",
          "model_module_version": "1.2.0",
          "state": {
            "_model_module": "@jupyter-widgets/base",
            "_model_module_version": "1.2.0",
            "_model_name": "LayoutModel",
            "_view_count": null,
            "_view_module": "@jupyter-widgets/base",
            "_view_module_version": "1.2.0",
            "_view_name": "LayoutView",
            "align_content": null,
            "align_items": null,
            "align_self": null,
            "border": null,
            "bottom": null,
            "display": null,
            "flex": null,
            "flex_flow": null,
            "grid_area": null,
            "grid_auto_columns": null,
            "grid_auto_flow": null,
            "grid_auto_rows": null,
            "grid_column": null,
            "grid_gap": null,
            "grid_row": null,
            "grid_template_areas": null,
            "grid_template_columns": null,
            "grid_template_rows": null,
            "height": null,
            "justify_content": null,
            "justify_items": null,
            "left": null,
            "margin": null,
            "max_height": null,
            "max_width": null,
            "min_height": null,
            "min_width": null,
            "object_fit": null,
            "object_position": null,
            "order": null,
            "overflow": null,
            "overflow_x": null,
            "overflow_y": null,
            "padding": null,
            "right": null,
            "top": null,
            "visibility": null,
            "width": null
          }
        },
        "50e1fc0e686f4a588b8614d6324c59ce": {
          "model_module": "@jupyter-widgets/controls",
          "model_name": "DescriptionStyleModel",
          "model_module_version": "1.5.0",
          "state": {
            "_model_module": "@jupyter-widgets/controls",
            "_model_module_version": "1.5.0",
            "_model_name": "DescriptionStyleModel",
            "_view_count": null,
            "_view_module": "@jupyter-widgets/base",
            "_view_module_version": "1.2.0",
            "_view_name": "StyleView",
            "description_width": ""
          }
        },
        "1a7db500bc5d42a78f57dae1620eac30": {
          "model_module": "@jupyter-widgets/base",
          "model_name": "LayoutModel",
          "model_module_version": "1.2.0",
          "state": {
            "_model_module": "@jupyter-widgets/base",
            "_model_module_version": "1.2.0",
            "_model_name": "LayoutModel",
            "_view_count": null,
            "_view_module": "@jupyter-widgets/base",
            "_view_module_version": "1.2.0",
            "_view_name": "LayoutView",
            "align_content": null,
            "align_items": null,
            "align_self": null,
            "border": null,
            "bottom": null,
            "display": null,
            "flex": null,
            "flex_flow": null,
            "grid_area": null,
            "grid_auto_columns": null,
            "grid_auto_flow": null,
            "grid_auto_rows": null,
            "grid_column": null,
            "grid_gap": null,
            "grid_row": null,
            "grid_template_areas": null,
            "grid_template_columns": null,
            "grid_template_rows": null,
            "height": null,
            "justify_content": null,
            "justify_items": null,
            "left": null,
            "margin": null,
            "max_height": null,
            "max_width": null,
            "min_height": null,
            "min_width": null,
            "object_fit": null,
            "object_position": null,
            "order": null,
            "overflow": null,
            "overflow_x": null,
            "overflow_y": null,
            "padding": null,
            "right": null,
            "top": null,
            "visibility": null,
            "width": "20px"
          }
        },
        "1fab41bcac7143a48d4daee8be86700f": {
          "model_module": "@jupyter-widgets/controls",
          "model_name": "ProgressStyleModel",
          "model_module_version": "1.5.0",
          "state": {
            "_model_module": "@jupyter-widgets/controls",
            "_model_module_version": "1.5.0",
            "_model_name": "ProgressStyleModel",
            "_view_count": null,
            "_view_module": "@jupyter-widgets/base",
            "_view_module_version": "1.2.0",
            "_view_name": "StyleView",
            "bar_color": null,
            "description_width": ""
          }
        },
        "e13586d01f3244a88da5aaf325981a40": {
          "model_module": "@jupyter-widgets/base",
          "model_name": "LayoutModel",
          "model_module_version": "1.2.0",
          "state": {
            "_model_module": "@jupyter-widgets/base",
            "_model_module_version": "1.2.0",
            "_model_name": "LayoutModel",
            "_view_count": null,
            "_view_module": "@jupyter-widgets/base",
            "_view_module_version": "1.2.0",
            "_view_name": "LayoutView",
            "align_content": null,
            "align_items": null,
            "align_self": null,
            "border": null,
            "bottom": null,
            "display": null,
            "flex": null,
            "flex_flow": null,
            "grid_area": null,
            "grid_auto_columns": null,
            "grid_auto_flow": null,
            "grid_auto_rows": null,
            "grid_column": null,
            "grid_gap": null,
            "grid_row": null,
            "grid_template_areas": null,
            "grid_template_columns": null,
            "grid_template_rows": null,
            "height": null,
            "justify_content": null,
            "justify_items": null,
            "left": null,
            "margin": null,
            "max_height": null,
            "max_width": null,
            "min_height": null,
            "min_width": null,
            "object_fit": null,
            "object_position": null,
            "order": null,
            "overflow": null,
            "overflow_x": null,
            "overflow_y": null,
            "padding": null,
            "right": null,
            "top": null,
            "visibility": null,
            "width": null
          }
        },
        "79bf81646d484309a1c96d8f604d368d": {
          "model_module": "@jupyter-widgets/controls",
          "model_name": "DescriptionStyleModel",
          "model_module_version": "1.5.0",
          "state": {
            "_model_module": "@jupyter-widgets/controls",
            "_model_module_version": "1.5.0",
            "_model_name": "DescriptionStyleModel",
            "_view_count": null,
            "_view_module": "@jupyter-widgets/base",
            "_view_module_version": "1.2.0",
            "_view_name": "StyleView",
            "description_width": ""
          }
        }
      }
    }
  },
  "nbformat_minor": 0,
  "nbformat": 4,
  "cells": [
    {
      "cell_type": "markdown",
      "metadata": {
        "id": "view-in-github",
        "colab_type": "text"
      },
      "source": [
        "<a href=\"https://colab.research.google.com/github/mk6749261-create/File-encryption-and-decryption/blob/main/Copy_of_notebooka958e451aa.ipynb\" target=\"_parent\"><img src=\"https://colab.research.google.com/assets/colab-badge.svg\" alt=\"Open In Colab\"/></a>"
      ]
    },
    {
      "source": [
        "# IMPORTANT: RUN THIS CELL IN ORDER TO IMPORT YOUR KAGGLE DATA SOURCES,\n",
        "# THEN FEEL FREE TO DELETE THIS CELL.\n",
        "# NOTE: THIS NOTEBOOK ENVIRONMENT DIFFERS FROM KAGGLE'S PYTHON\n",
        "# ENVIRONMENT SO THERE MAY BE MISSING LIBRARIES USED BY YOUR\n",
        "# NOTEBOOK.\n",
        "import kagglehub\n",
        "debasisdotcom_name_entity_recognition_ner_dataset_path = kagglehub.dataset_download('debasisdotcom/name-entity-recognition-ner-dataset')\n",
        "\n",
        "print('Data source import complete.')\n"
      ],
      "metadata": {
        "colab": {
          "base_uri": "https://localhost:8080/"
        },
        "id": "XVN3UuU9HW3M",
        "outputId": "46b77bc5-ac00-488c-ec47-108ff224f1fa"
      },
      "cell_type": "code",
      "outputs": [
        {
          "output_type": "stream",
          "name": "stdout",
          "text": [
            "Using Colab cache for faster access to the 'name-entity-recognition-ner-dataset' dataset.\n",
            "Data source import complete.\n"
          ]
        }
      ],
      "execution_count": null
    },
    {
      "cell_type": "code",
      "source": [
        "# This Python 3 environment comes with many helpful analytics libraries installed\n",
        "# It is defined by the kaggle/python Docker image: https://github.com/kaggle/docker-python\n",
        "# For example, here's several helpful packages to load\n",
        "\n",
        "import numpy as np # linear algebra\n",
        "import pandas as pd # data processing, CSV file I/O (e.g. pd.read_csv)\n",
        "\n",
        "# Input data files are available in the read-only \"../input/\" directory\n",
        "# For example, running this (by clicking run or pressing Shift+Enter) will list all files under the input directory\n",
        "\n",
        "import os\n",
        "for dirname, _, filenames in os.walk('/kaggle/input'):\n",
        "    for filename in filenames:\n",
        "        print(os.path.join(dirname, filename))\n",
        "\n",
        "# You can write up to 20GB to the current directory (/kaggle/working/) that gets preserved as output when you create a version using \"Save & Run All\"\n",
        "# You can also write temporary files to /kaggle/temp/, but they won't be saved outside of the current session"
      ],
      "metadata": {
        "_uuid": "8f2839f25d086af736a60e9eeb907d3b93b6e0e5",
        "_cell_guid": "b1076dfc-b9ad-4769-8c92-a6c4dae69d19",
        "trusted": true,
        "execution": {
          "iopub.status.busy": "2025-09-08T01:43:54.873545Z",
          "iopub.execute_input": "2025-09-08T01:43:54.873805Z",
          "iopub.status.idle": "2025-09-08T01:43:57.266978Z",
          "shell.execute_reply.started": "2025-09-08T01:43:54.873784Z",
          "shell.execute_reply": "2025-09-08T01:43:57.266097Z"
        },
        "colab": {
          "base_uri": "https://localhost:8080/"
        },
        "id": "oW3lQuEqHW3P",
        "outputId": "b360fa2b-febc-498f-d852-b54aca16866c"
      },
      "outputs": [
        {
          "output_type": "stream",
          "name": "stdout",
          "text": [
            "/kaggle/input/name-entity-recognition-ner-dataset/NER dataset.csv\n"
          ]
        }
      ],
      "execution_count": null
    },
    {
      "cell_type": "code",
      "source": [
        "import pandas as pd"
      ],
      "metadata": {
        "trusted": true,
        "execution": {
          "iopub.status.busy": "2025-09-08T01:44:12.126853Z",
          "iopub.execute_input": "2025-09-08T01:44:12.127194Z",
          "iopub.status.idle": "2025-09-08T01:44:12.131896Z",
          "shell.execute_reply.started": "2025-09-08T01:44:12.127147Z",
          "shell.execute_reply": "2025-09-08T01:44:12.130905Z"
        },
        "id": "8EhraBNXHW3P"
      },
      "outputs": [],
      "execution_count": null
    },
    {
      "cell_type": "code",
      "source": [
        "df=pd.read_csv(\"/kaggle/input/name-entity-recognition-ner-dataset/NER dataset.csv\",encoding=\"latin1\")"
      ],
      "metadata": {
        "trusted": true,
        "execution": {
          "iopub.status.busy": "2025-09-08T01:50:02.134267Z",
          "iopub.execute_input": "2025-09-08T01:50:02.134682Z",
          "iopub.status.idle": "2025-09-08T01:50:02.833855Z",
          "shell.execute_reply.started": "2025-09-08T01:50:02.134653Z",
          "shell.execute_reply": "2025-09-08T01:50:02.832404Z"
        },
        "id": "V5765dKGHW3Q"
      },
      "outputs": [],
      "execution_count": null
    },
    {
      "cell_type": "code",
      "source": [
        "df.head(50)"
      ],
      "metadata": {
        "trusted": true,
        "execution": {
          "iopub.status.busy": "2025-09-08T01:58:16.586336Z",
          "iopub.execute_input": "2025-09-08T01:58:16.5867Z",
          "iopub.status.idle": "2025-09-08T01:58:16.599677Z",
          "shell.execute_reply.started": "2025-09-08T01:58:16.586662Z",
          "shell.execute_reply": "2025-09-08T01:58:16.598668Z"
        },
        "colab": {
          "base_uri": "https://localhost:8080/",
          "height": 1000
        },
        "id": "micd7TdgHW3Q",
        "outputId": "8b8558af-712b-4c02-af05-76b954ba50e6"
      },
      "outputs": [
        {
          "output_type": "execute_result",
          "data": {
            "text/plain": [
              "     Sentence #           Word  POS    Tag\n",
              "0   Sentence: 1      Thousands  NNS      O\n",
              "1           NaN             of   IN      O\n",
              "2           NaN  demonstrators  NNS      O\n",
              "3           NaN           have  VBP      O\n",
              "4           NaN        marched  VBN      O\n",
              "5           NaN        through   IN      O\n",
              "6           NaN         London  NNP  B-geo\n",
              "7           NaN             to   TO      O\n",
              "8           NaN        protest   VB      O\n",
              "9           NaN            the   DT      O\n",
              "10          NaN            war   NN      O\n",
              "11          NaN             in   IN      O\n",
              "12          NaN           Iraq  NNP  B-geo\n",
              "13          NaN            and   CC      O\n",
              "14          NaN         demand   VB      O\n",
              "15          NaN            the   DT      O\n",
              "16          NaN     withdrawal   NN      O\n",
              "17          NaN             of   IN      O\n",
              "18          NaN        British   JJ  B-gpe\n",
              "19          NaN         troops  NNS      O\n",
              "20          NaN           from   IN      O\n",
              "21          NaN           that   DT      O\n",
              "22          NaN        country   NN      O\n",
              "23          NaN              .    .      O\n",
              "24  Sentence: 2       Families  NNS      O\n",
              "25          NaN             of   IN      O\n",
              "26          NaN       soldiers  NNS      O\n",
              "27          NaN         killed  VBN      O\n",
              "28          NaN             in   IN      O\n",
              "29          NaN            the   DT      O\n",
              "30          NaN       conflict   NN      O\n",
              "31          NaN         joined  VBD      O\n",
              "32          NaN            the   DT      O\n",
              "33          NaN     protesters  NNS      O\n",
              "34          NaN            who   WP      O\n",
              "35          NaN        carried  VBD      O\n",
              "36          NaN        banners  NNS      O\n",
              "37          NaN           with   IN      O\n",
              "38          NaN           such   JJ      O\n",
              "39          NaN        slogans  NNS      O\n",
              "40          NaN             as   IN      O\n",
              "41          NaN              \"   ``      O\n",
              "42          NaN           Bush  NNP  B-per\n",
              "43          NaN         Number   NN      O\n",
              "44          NaN            One   CD      O\n",
              "45          NaN      Terrorist   NN      O\n",
              "46          NaN              \"   ``      O\n",
              "47          NaN            and   CC      O\n",
              "48          NaN              \"   ``      O\n",
              "49          NaN           Stop   VB      O"
            ],
            "text/html": [
              "\n",
              "  <div id=\"df-3152f1aa-967a-4714-9932-8c8fc5ec25f0\" class=\"colab-df-container\">\n",
              "    <div>\n",
              "<style scoped>\n",
              "    .dataframe tbody tr th:only-of-type {\n",
              "        vertical-align: middle;\n",
              "    }\n",
              "\n",
              "    .dataframe tbody tr th {\n",
              "        vertical-align: top;\n",
              "    }\n",
              "\n",
              "    .dataframe thead th {\n",
              "        text-align: right;\n",
              "    }\n",
              "</style>\n",
              "<table border=\"1\" class=\"dataframe\">\n",
              "  <thead>\n",
              "    <tr style=\"text-align: right;\">\n",
              "      <th></th>\n",
              "      <th>Sentence #</th>\n",
              "      <th>Word</th>\n",
              "      <th>POS</th>\n",
              "      <th>Tag</th>\n",
              "    </tr>\n",
              "  </thead>\n",
              "  <tbody>\n",
              "    <tr>\n",
              "      <th>0</th>\n",
              "      <td>Sentence: 1</td>\n",
              "      <td>Thousands</td>\n",
              "      <td>NNS</td>\n",
              "      <td>O</td>\n",
              "    </tr>\n",
              "    <tr>\n",
              "      <th>1</th>\n",
              "      <td>NaN</td>\n",
              "      <td>of</td>\n",
              "      <td>IN</td>\n",
              "      <td>O</td>\n",
              "    </tr>\n",
              "    <tr>\n",
              "      <th>2</th>\n",
              "      <td>NaN</td>\n",
              "      <td>demonstrators</td>\n",
              "      <td>NNS</td>\n",
              "      <td>O</td>\n",
              "    </tr>\n",
              "    <tr>\n",
              "      <th>3</th>\n",
              "      <td>NaN</td>\n",
              "      <td>have</td>\n",
              "      <td>VBP</td>\n",
              "      <td>O</td>\n",
              "    </tr>\n",
              "    <tr>\n",
              "      <th>4</th>\n",
              "      <td>NaN</td>\n",
              "      <td>marched</td>\n",
              "      <td>VBN</td>\n",
              "      <td>O</td>\n",
              "    </tr>\n",
              "    <tr>\n",
              "      <th>5</th>\n",
              "      <td>NaN</td>\n",
              "      <td>through</td>\n",
              "      <td>IN</td>\n",
              "      <td>O</td>\n",
              "    </tr>\n",
              "    <tr>\n",
              "      <th>6</th>\n",
              "      <td>NaN</td>\n",
              "      <td>London</td>\n",
              "      <td>NNP</td>\n",
              "      <td>B-geo</td>\n",
              "    </tr>\n",
              "    <tr>\n",
              "      <th>7</th>\n",
              "      <td>NaN</td>\n",
              "      <td>to</td>\n",
              "      <td>TO</td>\n",
              "      <td>O</td>\n",
              "    </tr>\n",
              "    <tr>\n",
              "      <th>8</th>\n",
              "      <td>NaN</td>\n",
              "      <td>protest</td>\n",
              "      <td>VB</td>\n",
              "      <td>O</td>\n",
              "    </tr>\n",
              "    <tr>\n",
              "      <th>9</th>\n",
              "      <td>NaN</td>\n",
              "      <td>the</td>\n",
              "      <td>DT</td>\n",
              "      <td>O</td>\n",
              "    </tr>\n",
              "    <tr>\n",
              "      <th>10</th>\n",
              "      <td>NaN</td>\n",
              "      <td>war</td>\n",
              "      <td>NN</td>\n",
              "      <td>O</td>\n",
              "    </tr>\n",
              "    <tr>\n",
              "      <th>11</th>\n",
              "      <td>NaN</td>\n",
              "      <td>in</td>\n",
              "      <td>IN</td>\n",
              "      <td>O</td>\n",
              "    </tr>\n",
              "    <tr>\n",
              "      <th>12</th>\n",
              "      <td>NaN</td>\n",
              "      <td>Iraq</td>\n",
              "      <td>NNP</td>\n",
              "      <td>B-geo</td>\n",
              "    </tr>\n",
              "    <tr>\n",
              "      <th>13</th>\n",
              "      <td>NaN</td>\n",
              "      <td>and</td>\n",
              "      <td>CC</td>\n",
              "      <td>O</td>\n",
              "    </tr>\n",
              "    <tr>\n",
              "      <th>14</th>\n",
              "      <td>NaN</td>\n",
              "      <td>demand</td>\n",
              "      <td>VB</td>\n",
              "      <td>O</td>\n",
              "    </tr>\n",
              "    <tr>\n",
              "      <th>15</th>\n",
              "      <td>NaN</td>\n",
              "      <td>the</td>\n",
              "      <td>DT</td>\n",
              "      <td>O</td>\n",
              "    </tr>\n",
              "    <tr>\n",
              "      <th>16</th>\n",
              "      <td>NaN</td>\n",
              "      <td>withdrawal</td>\n",
              "      <td>NN</td>\n",
              "      <td>O</td>\n",
              "    </tr>\n",
              "    <tr>\n",
              "      <th>17</th>\n",
              "      <td>NaN</td>\n",
              "      <td>of</td>\n",
              "      <td>IN</td>\n",
              "      <td>O</td>\n",
              "    </tr>\n",
              "    <tr>\n",
              "      <th>18</th>\n",
              "      <td>NaN</td>\n",
              "      <td>British</td>\n",
              "      <td>JJ</td>\n",
              "      <td>B-gpe</td>\n",
              "    </tr>\n",
              "    <tr>\n",
              "      <th>19</th>\n",
              "      <td>NaN</td>\n",
              "      <td>troops</td>\n",
              "      <td>NNS</td>\n",
              "      <td>O</td>\n",
              "    </tr>\n",
              "    <tr>\n",
              "      <th>20</th>\n",
              "      <td>NaN</td>\n",
              "      <td>from</td>\n",
              "      <td>IN</td>\n",
              "      <td>O</td>\n",
              "    </tr>\n",
              "    <tr>\n",
              "      <th>21</th>\n",
              "      <td>NaN</td>\n",
              "      <td>that</td>\n",
              "      <td>DT</td>\n",
              "      <td>O</td>\n",
              "    </tr>\n",
              "    <tr>\n",
              "      <th>22</th>\n",
              "      <td>NaN</td>\n",
              "      <td>country</td>\n",
              "      <td>NN</td>\n",
              "      <td>O</td>\n",
              "    </tr>\n",
              "    <tr>\n",
              "      <th>23</th>\n",
              "      <td>NaN</td>\n",
              "      <td>.</td>\n",
              "      <td>.</td>\n",
              "      <td>O</td>\n",
              "    </tr>\n",
              "    <tr>\n",
              "      <th>24</th>\n",
              "      <td>Sentence: 2</td>\n",
              "      <td>Families</td>\n",
              "      <td>NNS</td>\n",
              "      <td>O</td>\n",
              "    </tr>\n",
              "    <tr>\n",
              "      <th>25</th>\n",
              "      <td>NaN</td>\n",
              "      <td>of</td>\n",
              "      <td>IN</td>\n",
              "      <td>O</td>\n",
              "    </tr>\n",
              "    <tr>\n",
              "      <th>26</th>\n",
              "      <td>NaN</td>\n",
              "      <td>soldiers</td>\n",
              "      <td>NNS</td>\n",
              "      <td>O</td>\n",
              "    </tr>\n",
              "    <tr>\n",
              "      <th>27</th>\n",
              "      <td>NaN</td>\n",
              "      <td>killed</td>\n",
              "      <td>VBN</td>\n",
              "      <td>O</td>\n",
              "    </tr>\n",
              "    <tr>\n",
              "      <th>28</th>\n",
              "      <td>NaN</td>\n",
              "      <td>in</td>\n",
              "      <td>IN</td>\n",
              "      <td>O</td>\n",
              "    </tr>\n",
              "    <tr>\n",
              "      <th>29</th>\n",
              "      <td>NaN</td>\n",
              "      <td>the</td>\n",
              "      <td>DT</td>\n",
              "      <td>O</td>\n",
              "    </tr>\n",
              "    <tr>\n",
              "      <th>30</th>\n",
              "      <td>NaN</td>\n",
              "      <td>conflict</td>\n",
              "      <td>NN</td>\n",
              "      <td>O</td>\n",
              "    </tr>\n",
              "    <tr>\n",
              "      <th>31</th>\n",
              "      <td>NaN</td>\n",
              "      <td>joined</td>\n",
              "      <td>VBD</td>\n",
              "      <td>O</td>\n",
              "    </tr>\n",
              "    <tr>\n",
              "      <th>32</th>\n",
              "      <td>NaN</td>\n",
              "      <td>the</td>\n",
              "      <td>DT</td>\n",
              "      <td>O</td>\n",
              "    </tr>\n",
              "    <tr>\n",
              "      <th>33</th>\n",
              "      <td>NaN</td>\n",
              "      <td>protesters</td>\n",
              "      <td>NNS</td>\n",
              "      <td>O</td>\n",
              "    </tr>\n",
              "    <tr>\n",
              "      <th>34</th>\n",
              "      <td>NaN</td>\n",
              "      <td>who</td>\n",
              "      <td>WP</td>\n",
              "      <td>O</td>\n",
              "    </tr>\n",
              "    <tr>\n",
              "      <th>35</th>\n",
              "      <td>NaN</td>\n",
              "      <td>carried</td>\n",
              "      <td>VBD</td>\n",
              "      <td>O</td>\n",
              "    </tr>\n",
              "    <tr>\n",
              "      <th>36</th>\n",
              "      <td>NaN</td>\n",
              "      <td>banners</td>\n",
              "      <td>NNS</td>\n",
              "      <td>O</td>\n",
              "    </tr>\n",
              "    <tr>\n",
              "      <th>37</th>\n",
              "      <td>NaN</td>\n",
              "      <td>with</td>\n",
              "      <td>IN</td>\n",
              "      <td>O</td>\n",
              "    </tr>\n",
              "    <tr>\n",
              "      <th>38</th>\n",
              "      <td>NaN</td>\n",
              "      <td>such</td>\n",
              "      <td>JJ</td>\n",
              "      <td>O</td>\n",
              "    </tr>\n",
              "    <tr>\n",
              "      <th>39</th>\n",
              "      <td>NaN</td>\n",
              "      <td>slogans</td>\n",
              "      <td>NNS</td>\n",
              "      <td>O</td>\n",
              "    </tr>\n",
              "    <tr>\n",
              "      <th>40</th>\n",
              "      <td>NaN</td>\n",
              "      <td>as</td>\n",
              "      <td>IN</td>\n",
              "      <td>O</td>\n",
              "    </tr>\n",
              "    <tr>\n",
              "      <th>41</th>\n",
              "      <td>NaN</td>\n",
              "      <td>\"</td>\n",
              "      <td>``</td>\n",
              "      <td>O</td>\n",
              "    </tr>\n",
              "    <tr>\n",
              "      <th>42</th>\n",
              "      <td>NaN</td>\n",
              "      <td>Bush</td>\n",
              "      <td>NNP</td>\n",
              "      <td>B-per</td>\n",
              "    </tr>\n",
              "    <tr>\n",
              "      <th>43</th>\n",
              "      <td>NaN</td>\n",
              "      <td>Number</td>\n",
              "      <td>NN</td>\n",
              "      <td>O</td>\n",
              "    </tr>\n",
              "    <tr>\n",
              "      <th>44</th>\n",
              "      <td>NaN</td>\n",
              "      <td>One</td>\n",
              "      <td>CD</td>\n",
              "      <td>O</td>\n",
              "    </tr>\n",
              "    <tr>\n",
              "      <th>45</th>\n",
              "      <td>NaN</td>\n",
              "      <td>Terrorist</td>\n",
              "      <td>NN</td>\n",
              "      <td>O</td>\n",
              "    </tr>\n",
              "    <tr>\n",
              "      <th>46</th>\n",
              "      <td>NaN</td>\n",
              "      <td>\"</td>\n",
              "      <td>``</td>\n",
              "      <td>O</td>\n",
              "    </tr>\n",
              "    <tr>\n",
              "      <th>47</th>\n",
              "      <td>NaN</td>\n",
              "      <td>and</td>\n",
              "      <td>CC</td>\n",
              "      <td>O</td>\n",
              "    </tr>\n",
              "    <tr>\n",
              "      <th>48</th>\n",
              "      <td>NaN</td>\n",
              "      <td>\"</td>\n",
              "      <td>``</td>\n",
              "      <td>O</td>\n",
              "    </tr>\n",
              "    <tr>\n",
              "      <th>49</th>\n",
              "      <td>NaN</td>\n",
              "      <td>Stop</td>\n",
              "      <td>VB</td>\n",
              "      <td>O</td>\n",
              "    </tr>\n",
              "  </tbody>\n",
              "</table>\n",
              "</div>\n",
              "    <div class=\"colab-df-buttons\">\n",
              "\n",
              "  <div class=\"colab-df-container\">\n",
              "    <button class=\"colab-df-convert\" onclick=\"convertToInteractive('df-3152f1aa-967a-4714-9932-8c8fc5ec25f0')\"\n",
              "            title=\"Convert this dataframe to an interactive table.\"\n",
              "            style=\"display:none;\">\n",
              "\n",
              "  <svg xmlns=\"http://www.w3.org/2000/svg\" height=\"24px\" viewBox=\"0 -960 960 960\">\n",
              "    <path d=\"M120-120v-720h720v720H120Zm60-500h600v-160H180v160Zm220 220h160v-160H400v160Zm0 220h160v-160H400v160ZM180-400h160v-160H180v160Zm440 0h160v-160H620v160ZM180-180h160v-160H180v160Zm440 0h160v-160H620v160Z\"/>\n",
              "  </svg>\n",
              "    </button>\n",
              "\n",
              "  <style>\n",
              "    .colab-df-container {\n",
              "      display:flex;\n",
              "      gap: 12px;\n",
              "    }\n",
              "\n",
              "    .colab-df-convert {\n",
              "      background-color: #E8F0FE;\n",
              "      border: none;\n",
              "      border-radius: 50%;\n",
              "      cursor: pointer;\n",
              "      display: none;\n",
              "      fill: #1967D2;\n",
              "      height: 32px;\n",
              "      padding: 0 0 0 0;\n",
              "      width: 32px;\n",
              "    }\n",
              "\n",
              "    .colab-df-convert:hover {\n",
              "      background-color: #E2EBFA;\n",
              "      box-shadow: 0px 1px 2px rgba(60, 64, 67, 0.3), 0px 1px 3px 1px rgba(60, 64, 67, 0.15);\n",
              "      fill: #174EA6;\n",
              "    }\n",
              "\n",
              "    .colab-df-buttons div {\n",
              "      margin-bottom: 4px;\n",
              "    }\n",
              "\n",
              "    [theme=dark] .colab-df-convert {\n",
              "      background-color: #3B4455;\n",
              "      fill: #D2E3FC;\n",
              "    }\n",
              "\n",
              "    [theme=dark] .colab-df-convert:hover {\n",
              "      background-color: #434B5C;\n",
              "      box-shadow: 0px 1px 3px 1px rgba(0, 0, 0, 0.15);\n",
              "      filter: drop-shadow(0px 1px 2px rgba(0, 0, 0, 0.3));\n",
              "      fill: #FFFFFF;\n",
              "    }\n",
              "  </style>\n",
              "\n",
              "    <script>\n",
              "      const buttonEl =\n",
              "        document.querySelector('#df-3152f1aa-967a-4714-9932-8c8fc5ec25f0 button.colab-df-convert');\n",
              "      buttonEl.style.display =\n",
              "        google.colab.kernel.accessAllowed ? 'block' : 'none';\n",
              "\n",
              "      async function convertToInteractive(key) {\n",
              "        const element = document.querySelector('#df-3152f1aa-967a-4714-9932-8c8fc5ec25f0');\n",
              "        const dataTable =\n",
              "          await google.colab.kernel.invokeFunction('convertToInteractive',\n",
              "                                                    [key], {});\n",
              "        if (!dataTable) return;\n",
              "\n",
              "        const docLinkHtml = 'Like what you see? Visit the ' +\n",
              "          '<a target=\"_blank\" href=https://colab.research.google.com/notebooks/data_table.ipynb>data table notebook</a>'\n",
              "          + ' to learn more about interactive tables.';\n",
              "        element.innerHTML = '';\n",
              "        dataTable['output_type'] = 'display_data';\n",
              "        await google.colab.output.renderOutput(dataTable, element);\n",
              "        const docLink = document.createElement('div');\n",
              "        docLink.innerHTML = docLinkHtml;\n",
              "        element.appendChild(docLink);\n",
              "      }\n",
              "    </script>\n",
              "  </div>\n",
              "\n",
              "\n",
              "    <div id=\"df-20bb1f08-8979-4f28-8ea5-a8db0030a5b2\">\n",
              "      <button class=\"colab-df-quickchart\" onclick=\"quickchart('df-20bb1f08-8979-4f28-8ea5-a8db0030a5b2')\"\n",
              "                title=\"Suggest charts\"\n",
              "                style=\"display:none;\">\n",
              "\n",
              "<svg xmlns=\"http://www.w3.org/2000/svg\" height=\"24px\"viewBox=\"0 0 24 24\"\n",
              "     width=\"24px\">\n",
              "    <g>\n",
              "        <path d=\"M19 3H5c-1.1 0-2 .9-2 2v14c0 1.1.9 2 2 2h14c1.1 0 2-.9 2-2V5c0-1.1-.9-2-2-2zM9 17H7v-7h2v7zm4 0h-2V7h2v10zm4 0h-2v-4h2v4z\"/>\n",
              "    </g>\n",
              "</svg>\n",
              "      </button>\n",
              "\n",
              "<style>\n",
              "  .colab-df-quickchart {\n",
              "      --bg-color: #E8F0FE;\n",
              "      --fill-color: #1967D2;\n",
              "      --hover-bg-color: #E2EBFA;\n",
              "      --hover-fill-color: #174EA6;\n",
              "      --disabled-fill-color: #AAA;\n",
              "      --disabled-bg-color: #DDD;\n",
              "  }\n",
              "\n",
              "  [theme=dark] .colab-df-quickchart {\n",
              "      --bg-color: #3B4455;\n",
              "      --fill-color: #D2E3FC;\n",
              "      --hover-bg-color: #434B5C;\n",
              "      --hover-fill-color: #FFFFFF;\n",
              "      --disabled-bg-color: #3B4455;\n",
              "      --disabled-fill-color: #666;\n",
              "  }\n",
              "\n",
              "  .colab-df-quickchart {\n",
              "    background-color: var(--bg-color);\n",
              "    border: none;\n",
              "    border-radius: 50%;\n",
              "    cursor: pointer;\n",
              "    display: none;\n",
              "    fill: var(--fill-color);\n",
              "    height: 32px;\n",
              "    padding: 0;\n",
              "    width: 32px;\n",
              "  }\n",
              "\n",
              "  .colab-df-quickchart:hover {\n",
              "    background-color: var(--hover-bg-color);\n",
              "    box-shadow: 0 1px 2px rgba(60, 64, 67, 0.3), 0 1px 3px 1px rgba(60, 64, 67, 0.15);\n",
              "    fill: var(--button-hover-fill-color);\n",
              "  }\n",
              "\n",
              "  .colab-df-quickchart-complete:disabled,\n",
              "  .colab-df-quickchart-complete:disabled:hover {\n",
              "    background-color: var(--disabled-bg-color);\n",
              "    fill: var(--disabled-fill-color);\n",
              "    box-shadow: none;\n",
              "  }\n",
              "\n",
              "  .colab-df-spinner {\n",
              "    border: 2px solid var(--fill-color);\n",
              "    border-color: transparent;\n",
              "    border-bottom-color: var(--fill-color);\n",
              "    animation:\n",
              "      spin 1s steps(1) infinite;\n",
              "  }\n",
              "\n",
              "  @keyframes spin {\n",
              "    0% {\n",
              "      border-color: transparent;\n",
              "      border-bottom-color: var(--fill-color);\n",
              "      border-left-color: var(--fill-color);\n",
              "    }\n",
              "    20% {\n",
              "      border-color: transparent;\n",
              "      border-left-color: var(--fill-color);\n",
              "      border-top-color: var(--fill-color);\n",
              "    }\n",
              "    30% {\n",
              "      border-color: transparent;\n",
              "      border-left-color: var(--fill-color);\n",
              "      border-top-color: var(--fill-color);\n",
              "      border-right-color: var(--fill-color);\n",
              "    }\n",
              "    40% {\n",
              "      border-color: transparent;\n",
              "      border-right-color: var(--fill-color);\n",
              "      border-top-color: var(--fill-color);\n",
              "    }\n",
              "    60% {\n",
              "      border-color: transparent;\n",
              "      border-right-color: var(--fill-color);\n",
              "    }\n",
              "    80% {\n",
              "      border-color: transparent;\n",
              "      border-right-color: var(--fill-color);\n",
              "      border-bottom-color: var(--fill-color);\n",
              "    }\n",
              "    90% {\n",
              "      border-color: transparent;\n",
              "      border-bottom-color: var(--fill-color);\n",
              "    }\n",
              "  }\n",
              "</style>\n",
              "\n",
              "      <script>\n",
              "        async function quickchart(key) {\n",
              "          const quickchartButtonEl =\n",
              "            document.querySelector('#' + key + ' button');\n",
              "          quickchartButtonEl.disabled = true;  // To prevent multiple clicks.\n",
              "          quickchartButtonEl.classList.add('colab-df-spinner');\n",
              "          try {\n",
              "            const charts = await google.colab.kernel.invokeFunction(\n",
              "                'suggestCharts', [key], {});\n",
              "          } catch (error) {\n",
              "            console.error('Error during call to suggestCharts:', error);\n",
              "          }\n",
              "          quickchartButtonEl.classList.remove('colab-df-spinner');\n",
              "          quickchartButtonEl.classList.add('colab-df-quickchart-complete');\n",
              "        }\n",
              "        (() => {\n",
              "          let quickchartButtonEl =\n",
              "            document.querySelector('#df-20bb1f08-8979-4f28-8ea5-a8db0030a5b2 button');\n",
              "          quickchartButtonEl.style.display =\n",
              "            google.colab.kernel.accessAllowed ? 'block' : 'none';\n",
              "        })();\n",
              "      </script>\n",
              "    </div>\n",
              "\n",
              "    </div>\n",
              "  </div>\n"
            ],
            "application/vnd.google.colaboratory.intrinsic+json": {
              "type": "dataframe",
              "variable_name": "df"
            }
          },
          "metadata": {},
          "execution_count": 89
        }
      ],
      "execution_count": null
    },
    {
      "cell_type": "code",
      "source": [
        "df.isnull().sum()"
      ],
      "metadata": {
        "trusted": true,
        "execution": {
          "iopub.status.busy": "2025-09-08T02:00:12.364318Z",
          "iopub.execute_input": "2025-09-08T02:00:12.364632Z",
          "iopub.status.idle": "2025-09-08T02:00:12.57408Z",
          "shell.execute_reply.started": "2025-09-08T02:00:12.364608Z",
          "shell.execute_reply": "2025-09-08T02:00:12.573014Z"
        },
        "colab": {
          "base_uri": "https://localhost:8080/",
          "height": 209
        },
        "id": "imuSzuWMHW3R",
        "outputId": "84d0b8b1-f3d5-45bc-a528-31525dbe1edc"
      },
      "outputs": [
        {
          "output_type": "execute_result",
          "data": {
            "text/plain": [
              "Sentence #    1000616\n",
              "Word               10\n",
              "POS                 0\n",
              "Tag                 0\n",
              "dtype: int64"
            ],
            "text/html": [
              "<div>\n",
              "<style scoped>\n",
              "    .dataframe tbody tr th:only-of-type {\n",
              "        vertical-align: middle;\n",
              "    }\n",
              "\n",
              "    .dataframe tbody tr th {\n",
              "        vertical-align: top;\n",
              "    }\n",
              "\n",
              "    .dataframe thead th {\n",
              "        text-align: right;\n",
              "    }\n",
              "</style>\n",
              "<table border=\"1\" class=\"dataframe\">\n",
              "  <thead>\n",
              "    <tr style=\"text-align: right;\">\n",
              "      <th></th>\n",
              "      <th>0</th>\n",
              "    </tr>\n",
              "  </thead>\n",
              "  <tbody>\n",
              "    <tr>\n",
              "      <th>Sentence #</th>\n",
              "      <td>1000616</td>\n",
              "    </tr>\n",
              "    <tr>\n",
              "      <th>Word</th>\n",
              "      <td>10</td>\n",
              "    </tr>\n",
              "    <tr>\n",
              "      <th>POS</th>\n",
              "      <td>0</td>\n",
              "    </tr>\n",
              "    <tr>\n",
              "      <th>Tag</th>\n",
              "      <td>0</td>\n",
              "    </tr>\n",
              "  </tbody>\n",
              "</table>\n",
              "</div><br><label><b>dtype:</b> int64</label>"
            ]
          },
          "metadata": {},
          "execution_count": 90
        }
      ],
      "execution_count": null
    },
    {
      "cell_type": "code",
      "source": [
        "df['Sentence #']=df['Sentence #'].fillna(method='ffill')"
      ],
      "metadata": {
        "trusted": true,
        "colab": {
          "base_uri": "https://localhost:8080/"
        },
        "id": "HnBRWHdaHW3S",
        "outputId": "5d6f708d-328c-4981-b96e-bdc8391aa773"
      },
      "outputs": [
        {
          "output_type": "stream",
          "name": "stderr",
          "text": [
            "/tmp/ipython-input-3375795096.py:1: FutureWarning: Series.fillna with 'method' is deprecated and will raise in a future version. Use obj.ffill() or obj.bfill() instead.\n",
            "  df['Sentence #']=df['Sentence #'].fillna(method='ffill')\n"
          ]
        }
      ],
      "execution_count": null
    },
    {
      "cell_type": "code",
      "source": [
        "df['Sentence #'].head()"
      ],
      "metadata": {
        "trusted": true,
        "colab": {
          "base_uri": "https://localhost:8080/",
          "height": 241
        },
        "id": "7H3D1RPhHW3S",
        "outputId": "f868feb2-178e-4773-db69-327f9e676db0"
      },
      "outputs": [
        {
          "output_type": "execute_result",
          "data": {
            "text/plain": [
              "0    Sentence: 1\n",
              "1    Sentence: 1\n",
              "2    Sentence: 1\n",
              "3    Sentence: 1\n",
              "4    Sentence: 1\n",
              "Name: Sentence #, dtype: object"
            ],
            "text/html": [
              "<div>\n",
              "<style scoped>\n",
              "    .dataframe tbody tr th:only-of-type {\n",
              "        vertical-align: middle;\n",
              "    }\n",
              "\n",
              "    .dataframe tbody tr th {\n",
              "        vertical-align: top;\n",
              "    }\n",
              "\n",
              "    .dataframe thead th {\n",
              "        text-align: right;\n",
              "    }\n",
              "</style>\n",
              "<table border=\"1\" class=\"dataframe\">\n",
              "  <thead>\n",
              "    <tr style=\"text-align: right;\">\n",
              "      <th></th>\n",
              "      <th>Sentence #</th>\n",
              "    </tr>\n",
              "  </thead>\n",
              "  <tbody>\n",
              "    <tr>\n",
              "      <th>0</th>\n",
              "      <td>Sentence: 1</td>\n",
              "    </tr>\n",
              "    <tr>\n",
              "      <th>1</th>\n",
              "      <td>Sentence: 1</td>\n",
              "    </tr>\n",
              "    <tr>\n",
              "      <th>2</th>\n",
              "      <td>Sentence: 1</td>\n",
              "    </tr>\n",
              "    <tr>\n",
              "      <th>3</th>\n",
              "      <td>Sentence: 1</td>\n",
              "    </tr>\n",
              "    <tr>\n",
              "      <th>4</th>\n",
              "      <td>Sentence: 1</td>\n",
              "    </tr>\n",
              "  </tbody>\n",
              "</table>\n",
              "</div><br><label><b>dtype:</b> object</label>"
            ]
          },
          "metadata": {},
          "execution_count": 92
        }
      ],
      "execution_count": null
    },
    {
      "cell_type": "code",
      "source": [
        "df.dropna(inplace=True)"
      ],
      "metadata": {
        "trusted": true,
        "id": "D3Knbab5HW3S"
      },
      "outputs": [],
      "execution_count": null
    },
    {
      "cell_type": "code",
      "source": [
        "Sentenc = df.groupby(\"Sentence #\")[\"Word\"].apply(list)\n",
        "Sentenc = Sentenc.apply(lambda words: [w.lower() for w in words])\n"
      ],
      "metadata": {
        "trusted": true,
        "id": "dwPcvw9OHW3T"
      },
      "outputs": [],
      "execution_count": null
    },
    {
      "cell_type": "code",
      "source": [
        "Sentenc"
      ],
      "metadata": {
        "colab": {
          "base_uri": "https://localhost:8080/",
          "height": 489
        },
        "id": "7YPMZ9HPMl3S",
        "outputId": "5b165fd2-65ac-4638-8fed-d7fdc72af79f"
      },
      "execution_count": null,
      "outputs": [
        {
          "output_type": "execute_result",
          "data": {
            "text/plain": [
              "Sentence #\n",
              "Sentence: 1        [thousands, of, demonstrators, have, marched, ...\n",
              "Sentence: 10       [iranian, officials, say, they, expect, to, ge...\n",
              "Sentence: 100      [helicopter, gunships, saturday, pounded, mili...\n",
              "Sentence: 1000     [they, left, after, a, tense, hour-long, stand...\n",
              "Sentence: 10000    [u.n., relief, coordinator, jan, egeland, said...\n",
              "                                         ...                        \n",
              "Sentence: 9995     [opposition, leader, mir, hossein, mousavi, ha...\n",
              "Sentence: 9996     [on, thursday, ,, iranian, state, media, publi...\n",
              "Sentence: 9997     [following, iran, 's, disputed, june, 12, elec...\n",
              "Sentence: 9998     [since, then, ,, authorities, have, held, publ...\n",
              "Sentence: 9999     [the, united, nations, is, praising, the, use,...\n",
              "Name: Word, Length: 47959, dtype: object"
            ],
            "text/html": [
              "<div>\n",
              "<style scoped>\n",
              "    .dataframe tbody tr th:only-of-type {\n",
              "        vertical-align: middle;\n",
              "    }\n",
              "\n",
              "    .dataframe tbody tr th {\n",
              "        vertical-align: top;\n",
              "    }\n",
              "\n",
              "    .dataframe thead th {\n",
              "        text-align: right;\n",
              "    }\n",
              "</style>\n",
              "<table border=\"1\" class=\"dataframe\">\n",
              "  <thead>\n",
              "    <tr style=\"text-align: right;\">\n",
              "      <th></th>\n",
              "      <th>Word</th>\n",
              "    </tr>\n",
              "    <tr>\n",
              "      <th>Sentence #</th>\n",
              "      <th></th>\n",
              "    </tr>\n",
              "  </thead>\n",
              "  <tbody>\n",
              "    <tr>\n",
              "      <th>Sentence: 1</th>\n",
              "      <td>[thousands, of, demonstrators, have, marched, ...</td>\n",
              "    </tr>\n",
              "    <tr>\n",
              "      <th>Sentence: 10</th>\n",
              "      <td>[iranian, officials, say, they, expect, to, ge...</td>\n",
              "    </tr>\n",
              "    <tr>\n",
              "      <th>Sentence: 100</th>\n",
              "      <td>[helicopter, gunships, saturday, pounded, mili...</td>\n",
              "    </tr>\n",
              "    <tr>\n",
              "      <th>Sentence: 1000</th>\n",
              "      <td>[they, left, after, a, tense, hour-long, stand...</td>\n",
              "    </tr>\n",
              "    <tr>\n",
              "      <th>Sentence: 10000</th>\n",
              "      <td>[u.n., relief, coordinator, jan, egeland, said...</td>\n",
              "    </tr>\n",
              "    <tr>\n",
              "      <th>...</th>\n",
              "      <td>...</td>\n",
              "    </tr>\n",
              "    <tr>\n",
              "      <th>Sentence: 9995</th>\n",
              "      <td>[opposition, leader, mir, hossein, mousavi, ha...</td>\n",
              "    </tr>\n",
              "    <tr>\n",
              "      <th>Sentence: 9996</th>\n",
              "      <td>[on, thursday, ,, iranian, state, media, publi...</td>\n",
              "    </tr>\n",
              "    <tr>\n",
              "      <th>Sentence: 9997</th>\n",
              "      <td>[following, iran, 's, disputed, june, 12, elec...</td>\n",
              "    </tr>\n",
              "    <tr>\n",
              "      <th>Sentence: 9998</th>\n",
              "      <td>[since, then, ,, authorities, have, held, publ...</td>\n",
              "    </tr>\n",
              "    <tr>\n",
              "      <th>Sentence: 9999</th>\n",
              "      <td>[the, united, nations, is, praising, the, use,...</td>\n",
              "    </tr>\n",
              "  </tbody>\n",
              "</table>\n",
              "<p>47959 rows × 1 columns</p>\n",
              "</div><br><label><b>dtype:</b> object</label>"
            ]
          },
          "metadata": {},
          "execution_count": 95
        }
      ]
    },
    {
      "cell_type": "code",
      "source": [
        "label = df.groupby(\"Sentence #\")[\"Tag\"].apply(list)\n",
        "\n",
        "\n",
        "label = label.apply(lambda words: [w.upper() for w in words])\n",
        "\n",
        "display(label.head())\n"
      ],
      "metadata": {
        "trusted": true,
        "colab": {
          "base_uri": "https://localhost:8080/",
          "height": 272
        },
        "id": "5a-rvBO6HW3T",
        "outputId": "30f7b52e-e2e0-453b-edd6-594e7048275a"
      },
      "outputs": [
        {
          "output_type": "display_data",
          "data": {
            "text/plain": [
              "Sentence #\n",
              "Sentence: 1        [O, O, O, O, O, O, B-GEO, O, O, O, O, O, B-GEO...\n",
              "Sentence: 10       [B-GPE, O, O, O, O, O, O, O, O, O, O, O, O, O,...\n",
              "Sentence: 100      [O, O, B-TIM, O, O, O, O, O, B-GEO, O, O, O, O...\n",
              "Sentence: 1000                     [O, O, O, O, O, O, O, O, O, O, O]\n",
              "Sentence: 10000    [B-GEO, O, O, B-PER, I-PER, O, B-TIM, O, B-GEO...\n",
              "Name: Tag, dtype: object"
            ],
            "text/html": [
              "<div>\n",
              "<style scoped>\n",
              "    .dataframe tbody tr th:only-of-type {\n",
              "        vertical-align: middle;\n",
              "    }\n",
              "\n",
              "    .dataframe tbody tr th {\n",
              "        vertical-align: top;\n",
              "    }\n",
              "\n",
              "    .dataframe thead th {\n",
              "        text-align: right;\n",
              "    }\n",
              "</style>\n",
              "<table border=\"1\" class=\"dataframe\">\n",
              "  <thead>\n",
              "    <tr style=\"text-align: right;\">\n",
              "      <th></th>\n",
              "      <th>Tag</th>\n",
              "    </tr>\n",
              "    <tr>\n",
              "      <th>Sentence #</th>\n",
              "      <th></th>\n",
              "    </tr>\n",
              "  </thead>\n",
              "  <tbody>\n",
              "    <tr>\n",
              "      <th>Sentence: 1</th>\n",
              "      <td>[O, O, O, O, O, O, B-GEO, O, O, O, O, O, B-GEO...</td>\n",
              "    </tr>\n",
              "    <tr>\n",
              "      <th>Sentence: 10</th>\n",
              "      <td>[B-GPE, O, O, O, O, O, O, O, O, O, O, O, O, O,...</td>\n",
              "    </tr>\n",
              "    <tr>\n",
              "      <th>Sentence: 100</th>\n",
              "      <td>[O, O, B-TIM, O, O, O, O, O, B-GEO, O, O, O, O...</td>\n",
              "    </tr>\n",
              "    <tr>\n",
              "      <th>Sentence: 1000</th>\n",
              "      <td>[O, O, O, O, O, O, O, O, O, O, O]</td>\n",
              "    </tr>\n",
              "    <tr>\n",
              "      <th>Sentence: 10000</th>\n",
              "      <td>[B-GEO, O, O, B-PER, I-PER, O, B-TIM, O, B-GEO...</td>\n",
              "    </tr>\n",
              "  </tbody>\n",
              "</table>\n",
              "</div><br><label><b>dtype:</b> object</label>"
            ]
          },
          "metadata": {}
        }
      ],
      "execution_count": null
    },
    {
      "cell_type": "code",
      "source": [
        "from sklearn.preprocessing import LabelEncoder\n",
        "\n",
        "# جمع كل التاجات في ليست واحدة علشان نعمل fit\n",
        "all_tags = [tag for doc in label for tag in doc]\n",
        "\n",
        "# نعمل LabelEncoder\n",
        "le = LabelEncoder()\n",
        "le.fit(all_tags)\n",
        "\n",
        "# نطبق التحويل على كل جملة Tags لوحدها\n",
        "numeric_labels = [le.transform(doc).tolist() for doc in label]\n",
        "\n",
        "print(label[0])          # الأصلي\n",
        "print(numeric_labels[0]) # بعد التحويل\n"
      ],
      "metadata": {
        "colab": {
          "base_uri": "https://localhost:8080/"
        },
        "id": "xba4Iz3M0-y1",
        "outputId": "6fc71d73-d653-4421-f8c4-23b6c39f4091"
      },
      "execution_count": null,
      "outputs": [
        {
          "output_type": "stream",
          "name": "stdout",
          "text": [
            "['O', 'O', 'O', 'O', 'O', 'O', 'B-GEO', 'O', 'O', 'O', 'O', 'O', 'B-GEO', 'O', 'O', 'O', 'O', 'O', 'B-GPE', 'O', 'O', 'O', 'O', 'O']\n",
            "[16, 16, 16, 16, 16, 16, 2, 16, 16, 16, 16, 16, 2, 16, 16, 16, 16, 16, 3, 16, 16, 16, 16, 16]\n"
          ]
        },
        {
          "output_type": "stream",
          "name": "stderr",
          "text": [
            "/tmp/ipython-input-1020559809.py:13: FutureWarning: Series.__getitem__ treating keys as positions is deprecated. In a future version, integer keys will always be treated as labels (consistent with DataFrame behavior). To access a value by position, use `ser.iloc[pos]`\n",
            "  print(label[0])          # الأصلي\n"
          ]
        }
      ]
    },
    {
      "cell_type": "code",
      "source": [
        "import string\n",
        "\n",
        "translator = str.maketrans(\"\", \"\", string.punctuation)\n",
        "\n",
        "def remove_punctuation(text):\n",
        "    return text.translate(translator)\n",
        "\n",
        "# تطبيق على كل جملة\n",
        "Sentenc = Sentenc.apply(lambda word_list: [remove_punctuation(word) for word in word_list])\n",
        "\n",
        "print(Sentenc.head())"
      ],
      "metadata": {
        "colab": {
          "base_uri": "https://localhost:8080/"
        },
        "id": "t29BLK47MvIB",
        "outputId": "841c16a8-bfa7-4c59-9fd5-9017c0ecb20a"
      },
      "execution_count": null,
      "outputs": [
        {
          "output_type": "stream",
          "name": "stdout",
          "text": [
            "Sentence #\n",
            "Sentence: 1        [thousands, of, demonstrators, have, marched, ...\n",
            "Sentence: 10       [iranian, officials, say, they, expect, to, ge...\n",
            "Sentence: 100      [helicopter, gunships, saturday, pounded, mili...\n",
            "Sentence: 1000     [they, left, after, a, tense, hourlong, stando...\n",
            "Sentence: 10000    [un, relief, coordinator, jan, egeland, said, ...\n",
            "Name: Word, dtype: object\n"
          ]
        }
      ]
    },
    {
      "cell_type": "code",
      "source": [
        "import nltk\n",
        "from nltk.corpus import stopwords\n",
        "nltk.download('stopwords')\n",
        "stop_words = set(stopwords.words('english'))\n",
        "stop_words.remove('not')"
      ],
      "metadata": {
        "colab": {
          "base_uri": "https://localhost:8080/"
        },
        "id": "jpyIDcyZMvCL",
        "outputId": "9f77a8cd-4c9d-4608-9c72-c5cc5c1f49d9"
      },
      "execution_count": null,
      "outputs": [
        {
          "output_type": "stream",
          "name": "stderr",
          "text": [
            "[nltk_data] Downloading package stopwords to /root/nltk_data...\n",
            "[nltk_data]   Package stopwords is already up-to-date!\n"
          ]
        }
      ]
    },
    {
      "cell_type": "code",
      "source": [
        "def remove_stopwords(text):\n",
        "    return [word for word in text if word not in stop_words]\n",
        "\n",
        "Sentenc = Sentenc.apply(remove_stopwords)"
      ],
      "metadata": {
        "id": "gJRTJiHcR6X8"
      },
      "execution_count": null,
      "outputs": []
    },
    {
      "cell_type": "code",
      "source": [
        "Sentenc.head()"
      ],
      "metadata": {
        "colab": {
          "base_uri": "https://localhost:8080/",
          "height": 272
        },
        "id": "qfG4RD4RR6TY",
        "outputId": "628bfb50-abf6-44e8-ec7b-9b6f2373c888"
      },
      "execution_count": null,
      "outputs": [
        {
          "output_type": "execute_result",
          "data": {
            "text/plain": [
              "Sentence #\n",
              "Sentence: 1        [thousands, demonstrators, marched, london, pr...\n",
              "Sentence: 10       [iranian, officials, say, expect, get, access,...\n",
              "Sentence: 100      [helicopter, gunships, saturday, pounded, mili...\n",
              "Sentence: 1000     [left, tense, hourlong, standoff, riot, police, ]\n",
              "Sentence: 10000    [un, relief, coordinator, jan, egeland, said, ...\n",
              "Name: Word, dtype: object"
            ],
            "text/html": [
              "<div>\n",
              "<style scoped>\n",
              "    .dataframe tbody tr th:only-of-type {\n",
              "        vertical-align: middle;\n",
              "    }\n",
              "\n",
              "    .dataframe tbody tr th {\n",
              "        vertical-align: top;\n",
              "    }\n",
              "\n",
              "    .dataframe thead th {\n",
              "        text-align: right;\n",
              "    }\n",
              "</style>\n",
              "<table border=\"1\" class=\"dataframe\">\n",
              "  <thead>\n",
              "    <tr style=\"text-align: right;\">\n",
              "      <th></th>\n",
              "      <th>Word</th>\n",
              "    </tr>\n",
              "    <tr>\n",
              "      <th>Sentence #</th>\n",
              "      <th></th>\n",
              "    </tr>\n",
              "  </thead>\n",
              "  <tbody>\n",
              "    <tr>\n",
              "      <th>Sentence: 1</th>\n",
              "      <td>[thousands, demonstrators, marched, london, pr...</td>\n",
              "    </tr>\n",
              "    <tr>\n",
              "      <th>Sentence: 10</th>\n",
              "      <td>[iranian, officials, say, expect, get, access,...</td>\n",
              "    </tr>\n",
              "    <tr>\n",
              "      <th>Sentence: 100</th>\n",
              "      <td>[helicopter, gunships, saturday, pounded, mili...</td>\n",
              "    </tr>\n",
              "    <tr>\n",
              "      <th>Sentence: 1000</th>\n",
              "      <td>[left, tense, hourlong, standoff, riot, police, ]</td>\n",
              "    </tr>\n",
              "    <tr>\n",
              "      <th>Sentence: 10000</th>\n",
              "      <td>[un, relief, coordinator, jan, egeland, said, ...</td>\n",
              "    </tr>\n",
              "  </tbody>\n",
              "</table>\n",
              "</div><br><label><b>dtype:</b> object</label>"
            ]
          },
          "metadata": {},
          "execution_count": 101
        }
      ]
    },
    {
      "cell_type": "code",
      "source": [
        "from nltk.stem import WordNetLemmatizer\n",
        "nltk.download('wordnet')\n",
        "lemmatizer = WordNetLemmatizer()"
      ],
      "metadata": {
        "colab": {
          "base_uri": "https://localhost:8080/"
        },
        "id": "fL_xKDk3R6P7",
        "outputId": "205929b2-ef9d-47e4-d429-262b3a91511f"
      },
      "execution_count": null,
      "outputs": [
        {
          "output_type": "stream",
          "name": "stderr",
          "text": [
            "[nltk_data] Downloading package wordnet to /root/nltk_data...\n",
            "[nltk_data]   Package wordnet is already up-to-date!\n"
          ]
        }
      ]
    },
    {
      "cell_type": "code",
      "source": [
        "def lemmatize_words(text):\n",
        "    return [lemmatizer.lemmatize(word) for word in text]\n",
        "\n",
        "Sentenc = Sentenc.apply(lemmatize_words)"
      ],
      "metadata": {
        "id": "niASjBmNR6N7"
      },
      "execution_count": null,
      "outputs": []
    },
    {
      "cell_type": "code",
      "source": [
        "Sentenc.head()"
      ],
      "metadata": {
        "colab": {
          "base_uri": "https://localhost:8080/",
          "height": 272
        },
        "id": "zotmMLFsR6Lf",
        "outputId": "549b7425-69ae-4c49-b62a-7ac1be1ecc02"
      },
      "execution_count": null,
      "outputs": [
        {
          "output_type": "execute_result",
          "data": {
            "text/plain": [
              "Sentence #\n",
              "Sentence: 1        [thousand, demonstrator, marched, london, prot...\n",
              "Sentence: 10       [iranian, official, say, expect, get, access, ...\n",
              "Sentence: 100      [helicopter, gunships, saturday, pounded, mili...\n",
              "Sentence: 1000     [left, tense, hourlong, standoff, riot, police, ]\n",
              "Sentence: 10000    [un, relief, coordinator, jan, egeland, said, ...\n",
              "Name: Word, dtype: object"
            ],
            "text/html": [
              "<div>\n",
              "<style scoped>\n",
              "    .dataframe tbody tr th:only-of-type {\n",
              "        vertical-align: middle;\n",
              "    }\n",
              "\n",
              "    .dataframe tbody tr th {\n",
              "        vertical-align: top;\n",
              "    }\n",
              "\n",
              "    .dataframe thead th {\n",
              "        text-align: right;\n",
              "    }\n",
              "</style>\n",
              "<table border=\"1\" class=\"dataframe\">\n",
              "  <thead>\n",
              "    <tr style=\"text-align: right;\">\n",
              "      <th></th>\n",
              "      <th>Word</th>\n",
              "    </tr>\n",
              "    <tr>\n",
              "      <th>Sentence #</th>\n",
              "      <th></th>\n",
              "    </tr>\n",
              "  </thead>\n",
              "  <tbody>\n",
              "    <tr>\n",
              "      <th>Sentence: 1</th>\n",
              "      <td>[thousand, demonstrator, marched, london, prot...</td>\n",
              "    </tr>\n",
              "    <tr>\n",
              "      <th>Sentence: 10</th>\n",
              "      <td>[iranian, official, say, expect, get, access, ...</td>\n",
              "    </tr>\n",
              "    <tr>\n",
              "      <th>Sentence: 100</th>\n",
              "      <td>[helicopter, gunships, saturday, pounded, mili...</td>\n",
              "    </tr>\n",
              "    <tr>\n",
              "      <th>Sentence: 1000</th>\n",
              "      <td>[left, tense, hourlong, standoff, riot, police, ]</td>\n",
              "    </tr>\n",
              "    <tr>\n",
              "      <th>Sentence: 10000</th>\n",
              "      <td>[un, relief, coordinator, jan, egeland, said, ...</td>\n",
              "    </tr>\n",
              "  </tbody>\n",
              "</table>\n",
              "</div><br><label><b>dtype:</b> object</label>"
            ]
          },
          "metadata": {},
          "execution_count": 104
        }
      ]
    },
    {
      "cell_type": "code",
      "source": [
        "from tensorflow.keras.preprocessing.text import Tokenizer\n",
        "from tensorflow.keras.preprocessing.sequence import pad_sequences"
      ],
      "metadata": {
        "id": "rikmBuQZeJkQ"
      },
      "execution_count": null,
      "outputs": []
    },
    {
      "cell_type": "code",
      "source": [
        "#from re import T\n",
        "Tokenizer=Tokenizer(oov_token=\"<OOV>\")\n",
        "Tokenizer.fit_on_texts(Sentenc)"
      ],
      "metadata": {
        "id": "DrmYssvgUceV"
      },
      "execution_count": null,
      "outputs": []
    },
    {
      "cell_type": "code",
      "source": [
        "word_index=Tokenizer.word_index\n",
        "print(word_index)"
      ],
      "metadata": {
        "colab": {
          "base_uri": "https://localhost:8080/"
        },
        "id": "tNSDWui7UcRk",
        "outputId": "88d62e88-760e-4c26-d0ea-f9d7095106ab"
      },
      "execution_count": null,
      "outputs": [
        {
          "output_type": "stream",
          "name": "stdout",
          "text": [
            "{'<OOV>': 1, '': 2, 'say': 3, 'said': 4, 'u': 5, 'official': 6, 'president': 7, 'government': 8, 'mr': 9, 'killed': 10, 'two': 11, 'state': 12, 'people': 13, 'country': 14, 'not': 15, 'year': 16, 'also': 17, 'new': 18, 'attack': 19, 'minister': 20, 'united': 21, 'military': 22, 'last': 23, 'police': 24, 'group': 25, 'force': 26, 'iraq': 27, 'one': 28, 'week': 29, 'security': 30, 'leader': 31, 'report': 32, 'militant': 33, 'month': 34, 'least': 35, 'election': 36, 'tuesday': 37, 'nation': 38, 'since': 39, 'world': 40, 'authority': 41, 'thursday': 42, 'iran': 43, 'friday': 44, 'iraqi': 45, 'city': 46, 'monday': 47, 'wednesday': 48, 'three': 49, 'palestinian': 50, 'troop': 51, 'sunday': 52, 'day': 53, 'saturday': 54, 'would': 55, 'prime': 56, 'foreign': 57, 'first': 58, 'oil': 59, 'international': 60, 'nuclear': 61, 'israeli': 62, 'province': 63, 'afghanistan': 64, 'talk': 65, 'million': 66, 'former': 67, 'china': 68, 'soldier': 69, 'south': 70, 'rebel': 71, 'party': 72, 'bush': 73, 'war': 74, 'israel': 75, 'called': 76, 'region': 77, 'agency': 78, 'several': 79, 'un': 80, 'member': 81, 'north': 82, 'near': 83, 'pakistan': 84, 'american': 85, 'southern': 86, 'afghan': 87, 'earlier': 88, 'bomb': 89, 'plan': 90, 'including': 91, 'national': 92, 'area': 93, 'part': 94, 'could': 95, 'saying': 96, 'four': 97, 'baghdad': 98, 'news': 99, 'statement': 100, 'european': 101, 'violence': 102, 'court': 103, 'spokesman': 104, 'border': 105, 'capital': 106, 'economic': 107, 'right': 108, 'political': 109, 'death': 110, 'bird': 111, 'wounded': 112, 'program': 113, 'union': 114, 'time': 115, 'told': 116, 'insurgent': 117, 'meeting': 118, 'killing': 119, 'percent': 120, 'made': 121, 'effort': 122, 'company': 123, 'house': 124, 'peace': 125, 'human': 126, 'british': 127, 'economy': 128, 'others': 129, 'may': 130, 'next': 131, 'five': 132, 'town': 133, 'home': 134, 'many': 135, 'power': 136, 'expected': 137, 'russia': 138, 'died': 139, 'fighting': 140, 'aid': 141, 'health': 142, 'price': 143, 'general': 144, 'charge': 145, 'vote': 146, 'opposition': 147, 'another': 148, 'ministry': 149, 'flu': 150, 'late': 151, 'held': 152, 'recent': 153, 'northern': 154, 'weapon': 155, 'help': 156, 'thousand': 157, 'bank': 158, 'taleban': 159, 'organization': 160, 'washington': 161, 'gaza': 162, 'suspected': 163, 'korea': 164, 'operation': 165, 'russian': 166, 'released': 167, 'protest': 168, 'top': 169, 'terrorist': 170, 'army': 171, 'western': 172, 'india': 173, 'later': 174, 'set': 175, 'support': 176, 'parliament': 177, 'number': 178, 'pakistani': 179, 'men': 180, 'civilian': 181, 'nearly': 182, 'agreement': 183, 'muslim': 184, 'defense': 185, 'island': 186, 'announced': 187, 'coalition': 188, 'accused': 189, 'second': 190, 'council': 191, 'take': 192, 'visit': 193, 'end': 194, 'reported': 195, 'early': 196, 'chief': 197, 'worker': 198, 'six': 199, 'following': 200, 'nato': 201, 'central': 202, 'found': 203, 'woman': 204, 'west': 205, 'case': 206, 'arrested': 207, 'car': 208, 'bombing': 209, 'african': 210, 'meanwhile': 211, 'chinese': 212, '10': 213, 'call': 214, 'suspect': 215, 'took': 216, 'high': 217, 'began': 218, 'among': 219, 'alqaida': 220, 'officer': 221, 'come': 222, 'trade': 223, 'local': 224, 'major': 225, 'service': 226, 'suicide': 227, 'deal': 228, 'office': 229, 'french': 230, 'place': 231, 'energy': 232, 'secretary': 233, 'blast': 234, 'iranian': 235, 'medium': 236, 'islamic': 237, 'work': 238, 'eastern': 239, 'billion': 240, 'control': 241, 'hamas': 242, 'man': 243, 'presidential': 244, 'came': 245, 'make': 246, 'january': 247, 'department': 248, 'still': 249, 'issue': 250, 'meet': 251, 'head': 252, 'newspaper': 253, 'child': 254, 'east': 255, 'reporter': 256, 'shiite': 257, 'public': 258, 'eu': 259, 'sudan': 260, 'japan': 261, 'chavez': 262, 'venezuela': 263, 'turkey': 264, 'fire': 265, 'food': 266, 'democratic': 267, 'law': 268, 'dead': 269, 'used': 270, 'virus': 271, 'prison': 272, 'incident': 273, 'africa': 274, 'development': 275, 'indian': 276, 'growth': 277, 'past': 278, 'concern': 279, 'march': 280, 'lawmaker': 281, '2003': 282, 'ago': 283, 'tehran': 284, 'gunman': 285, 'met': 286, 'show': 287, '20': 288, 'britain': 289, 'hit': 290, 'strike': 291, 'seven': 292, 'face': 293, '15': 294, 'darfur': 295, 'hundred': 296, 'want': 297, 'left': 298, 'detained': 299, 'victim': 300, 'confirmed': 301, 'demand': 302, 'candidate': 303, 'france': 304, 'market': 305, 'policy': 306, 'crime': 307, 'global': 308, 'outside': 309, 'body': 310, 'building': 311, 'beijing': 312, 'burma': 313, 'well': 314, 'white': 315, 'across': 316, 'center': 317, 'agreed': 318, 'september': 319, 'system': 320, 'known': 321, 'way': 322, 'release': 323, 'continue': 324, 'gas': 325, 'stop': 326, 'hour': 327, 'december': 328, 'information': 329, 'around': 330, 'along': 331, 'team': 332, 'family': 333, 'bomber': 334, 'scheduled': 335, 'activity': 336, 'lebanon': 337, 'financial': 338, 'result': 339, 'coast': 340, 'korean': 341, 'explosion': 342, 'water': 343, 'kilometer': 344, 'administration': 345, 'signed': 346, 'issued': 347, 'hold': 348, 'station': 349, 'led': 350, 'reform': 351, 'move': 352, '30': 353, 'eight': 354, 'syria': 355, 'return': 356, 'export': 357, 'vehicle': 358, 'base': 359, 'comment': 360, 'decision': 361, 'hospital': 362, 'television': 363, 'prisoner': 364, 'back': 365, 'must': 366, 'separate': 367, 'shot': 368, 'measure': 369, 'hurricane': 370, 'use': 371, 'trying': 372, 'claimed': 373, 'july': 374, 'cut': 375, 'without': 376, 'arrest': 377, 'site': 378, 'germany': 379, 'republic': 380, 'conflict': 381, 'journalist': 382, 'constitution': 383, 'mission': 384, 'intelligence': 385, 'investigation': 386, 'life': 387, 'however': 388, 'missile': 389, 'key': 390, 'independence': 391, 'action': 392, '11': 393, 'air': 394, 'europe': 395, 'sector': 396, 'drug': 397, 'trial': 398, 'conference': 399, 'district': 400, 'york': 401, 'include': 402, 'responsibility': 403, 'somalia': 404, 'discus': 405, 'parliamentary': 406, 'november': 407, 'main': 408, 'increase': 409, 'arab': 410, 'largest': 411, 'term': 412, 'series': 413, 'aimed': 414, 'taliban': 415, 'crisis': 416, 'fired': 417, 'third': 418, 'london': 419, 'february': 420, 'egypt': 421, 'ruling': 422, 'supply': 423, 'commission': 424, 'final': 425, 'test': 426, 'large': 427, 'change': 428, 'dollar': 429, 'strip': 430, 'despite': 431, 'territory': 432, 'possible': 433, 'ahead': 434, 'threat': 435, 'civil': 436, 'august': 437, 'urged': 438, 'process': 439, 'business': 440, 'facility': 441, 'june': 442, 'summit': 443, 'alleged': 444, 'taken': 445, '2008': 446, 'venezuelan': 447, 'deadly': 448, 'storm': 449, 'today': 450, 'october': 451, 'fighter': 452, 'abbas': 453, '12': 454, 'record': 455, 'clash': 456, 'relation': 457, 'obama': 458, 'give': 459, 'free': 460, 'problem': 461, 'condition': 462, 'small': 463, 'close': 464, '2004': 465, 'fuel': 466, 'camp': 467, 'sanction': 468, 'need': 469, 'injured': 470, 'community': 471, 'congress': 472, 'voa': 473, 'poll': 474, 'embassy': 475, 'roadside': 476, 'remain': 477, 'senior': 478, 'cuba': 479, 'terrorism': 480, 'rate': 481, 'mahmoud': 482, 'witness': 483, 'begin': 484, 'raid': 485, '2001': 486, 'latest': 487, 'usled': 488, 'warned': 489, 'campaign': 490, 'much': 491, 'good': 492, 'approved': 493, 'post': 494, 'outbreak': 495, 'village': 496, '25': 497, 'disease': 498, 'side': 499, 'press': 500, 'rice': 501, 'rocket': 502, 'sunni': 503, 'armed': 504, 'rule': 505, 'john': 506, 'claim': 507, 'bill': 508, 'hope': 509, 'protester': 510, 'ban': 511, 'turkish': 512, 'production': 513, 'carried': 514, 'kurdish': 515, 'colombia': 516, 'denied': 517, 'federal': 518, 'run': 519, 'committee': 520, 'whether': 521, 'working': 522, 'judge': 523, 'indonesia': 524, 'asia': 525, 'already': 526, 'allow': 527, 'commander': 528, '2010': 529, 'caused': 530, 'remains': 531, 'emergency': 532, 'money': 533, 'calling': 534, 'school': 535, 'attacked': 536, 'order': 537, 'fund': 538, 'decade': 539, 'clear': 540, 'prosecutor': 541, 'h5n1': 542, 'lebanese': 543, 'failed': 544, 'recently': 545, 'attempt': 546, '50': 547, 'industry': 548, 'ukraine': 549, 'german': 550, 'pope': 551, 'kidnapped': 552, 'saudi': 553, 'rejected': 554, 'resident': 555, 'due': 556, 'strain': 557, 'ordered': 558, 'moscow': 559, 'sent': 560, '2006': 561, '2009': 562, 'majority': 563, 'go': 564, 'justice': 565, 'supporter': 566, 'within': 567, 'expressed': 568, 'refugee': 569, 'mexico': 570, 'movement': 571, 'japanese': 572, 'middle': 573, 'opened': 574, 'radio': 575, 'relief': 576, 'citizen': 577, 'kashmir': 578, 'future': 579, 'put': 580, 'diplomat': 581, 'century': 582, 'lead': 583, 'tax': 584, 'trip': 585, 'occurred': 586, 'role': 587, 'situation': 588, 'carrying': 589, '100': 590, 'investment': 591, 'seized': 592, 'planned': 593, 'expert': 594, 'land': 595, 'seat': 596, 'detainee': 597, 'taking': 598, 'increased': 599, 'neighboring': 600, 'asked': 601, 'launched': 602, 'project': 603, 'quote': 604, 'tie': 605, 'source': 606, 'job': 607, 'democracy': 608, 'criticized': 609, 'april': 610, 'captured': 611, 'saddam': 612, 'ethnic': 613, 'king': 614, 'dispute': 615, 'independent': 616, 'corruption': 617, 'taiwan': 618, 'ended': 619, 'heavy': 620, 'deputy': 621, 'nine': 622, 'cabinet': 623, 'share': 624, 'involved': 625, 'leading': 626, 'ambassador': 627, 'strong': 628, '13': 629, 'long': 630, 'policeman': 631, 'barrel': 632, '40': 633, '2002': 634, 'cooperation': 635, 'activist': 636, 'america': 637, 'open': 638, 'vice': 639, 'charged': 640, '2007': 641, 'road': 642, 'sale': 643, 'egyptian': 644, 'nigeria': 645, 'haiti': 646, 'syrian': 647, 'representative': 648, 'round': 649, 'get': 650, 'space': 651, 'half': 652, 'detail': 653, 'became': 654, 'regional': 655, 'helicopter': 656, 'spain': 657, 'target': 658, '2005': 659, 'level': 660, 'proposal': 661, 'form': 662, 'gdp': 663, 'poor': 664, 'labor': 665, 'blamed': 666, 'm': 667, '14': 668, 'special': 669, 'went': 670, 'believed': 671, 'negotiation': 672, 'forced': 673, 'travel': 674, 'ship': 675, 'guard': 676, 'current': 677, 'dozen': 678, 'continued': 679, 'cuban': 680, 'interview': 681, 'missing': 682, 'provide': 683, 'network': 684, 'joint': 685, 'game': 686, 'exploded': 687, 'medical': 688, 'win': 689, 'plane': 690, 'address': 691, 'fight': 692, 'uranium': 693, 'militia': 694, 'street': 695, 'become': 696, 'making': 697, 'allegation': 698, 'senate': 699, 'speaking': 700, 'explosive': 701, 'tribal': 702, 'earthquake': 703, 'referendum': 704, 'step': 705, '18': 706, 'cost': 707, '2000': 708, 'musharraf': 709, 'far': 710, 'event': 711, 'alliance': 712, 'somali': 713, 'illegal': 714, 'warning': 715, 'per': 716, 'interest': 717, 'reached': 718, 'seeking': 719, 'aircraft': 720, 'received': 721, 'annan': 722, 'natural': 723, 'hostage': 724, 'exchange': 725, 'arrived': 726, 'withdrawal': 727, 'asian': 728, 'supreme': 729, 'offensive': 730, 'gulf': 731, 'sharon': 732, 'declared': 733, 'point': 734, 'threatened': 735, 'governor': 736, 'convoy': 737, 'toward': 738, 'olympic': 739, '17': 740, 'arm': 741, 'holding': 742, 'name': 743, 'population': 744, 'published': 745, 'mostly': 746, 'ali': 747, 'kandahar': 748, 'senator': 749, 'fled': 750, 'immediately': 751, 'religious': 752, 'voter': 753, 'abuse': 754, 'based': 755, 'hugo': 756, 'wanted': 757, 'toll': 758, 'tried': 759, 'fell': 760, 'atomic': 761, 'seen': 762, 'person': 763, 'kabul': 764, 'similar': 765, 'abu': 766, 'cause': 767, 'sea': 768, 'patrol': 769, 'mass': 770, 'construction': 771, 'ceasefire': 772, 'karzai': 773, 'sign': 774, 'ten': 775, 'pressure': 776, 'private': 777, 'rain': 778, 'announcement': 779, 'build': 780, 'interim': 781, 'debt': 782, 'interior': 783, 'response': 784, 'plant': 785, 'refused': 786, 'continues': 787, 'bring': 788, 'sudanese': 789, 'using': 790, 'brazil': 791, 'christian': 792, 'ceremony': 793, 'broke': 794, 'casualty': 795, 'crude': 796, 'injury': 797, 'lawyer': 798, 'almost': 799, 'rival': 800, 'detention': 801, 'ally': 802, 'fatah': 803, 'putin': 804, 'ousted': 805, 'separatist': 806, 'leave': 807, 'yet': 808, 'sri': 809, 'tsunami': 810, 'massive': 811, 'growing': 812, 'offer': 813, 'demonstration': 814, 'wounding': 815, 'spread': 816, 'congo': 817, 'passed': 818, 'lost': 819, 'account': 820, 'document': 821, 'prevent': 822, 'assistance': 823, 'damage': 824, 'assembly': 825, '16': 826, 'currently': 827, 'communist': 828, 'bus': 829, 'ahmadinejad': 830, 'likely': 831, 'total': 832, 'loss': 833, 'ruled': 834, 'proposed': 835, 'keep': 836, 'australia': 837, 'line': 838, 'analyst': 839, 'farm': 840, 'figure': 841, 'returned': 842, 'secretarygeneral': 843, '1': 844, 'soon': 845, 'added': 846, 'port': 847, '60': 848, 'probe': 849, 'voted': 850, 'katrina': 851, 'start': 852, '200': 853, 'allowed': 854, 'annual': 855, 'assassination': 856, 'position': 857, 'named': 858, 'tension': 859, 'church': 860, 'airport': 861, 'evidence': 862, 'director': 863, 'legal': 864, 'kill': 865, 'although': 866, 'peaceful': 867, 'associated': 868, 'hussein': 869, 'mine': 870, 'rally': 871, 'jewish': 872, 'demonstrator': 873, 'full': 874, 'needed': 875, 'progress': 876, 'terror': 877, 'hand': 878, 'resolution': 879, 'nepal': 880, 'speech': 881, 'flight': 882, 'italy': 883, 'marine': 884, 'yushchenko': 885, 'away': 886, 'fraud': 887, 'spoke': 888, 'mosque': 889, 'hezbollah': 890, 'australian': 891, 'reach': 892, 'destroyed': 893, 'act': 894, 'request': 895, 'elsewhere': 896, 'appeal': 897, 'peacekeeper': 898, 'castro': 899, 'violent': 900, 'enough': 901, 'spending': 902, 'resume': 903, 'republican': 904, 'diplomatic': 905, 'video': 906, 'paul': 907, 'pyongyang': 908, 'given': 909, 'blair': 910, 'less': 911, 'struck': 912, 'believe': 913, 'settlement': 914, 'democrat': 915, 'doctor': 916, 'even': 917, 'tribunal': 918, 'agriculture': 919, 'georgia': 920, 'elected': 921, 'list': 922, 'access': 923, 'freed': 924, 'estimated': 925, 'freedom': 926, 'broadcast': 927, 'criminal': 928, 'pay': 929, 'river': 930, 'secret': 931, 'student': 932, 'constitutional': 933, 'living': 934, 'important': 935, 'like': 936, 'mark': 937, 'board': 938, 'peacekeeping': 939, 'linked': 940, 'xinhua': 941, 'lack': 942, 'front': 943, 'truck': 944, 'accident': 945, 'islamist': 946, 'unit': 947, 'insurgency': 948, 'custody': 949, 'spanish': 950, 'closed': 951, 'join': 952, 'italian': 953, 'message': 954, 'develop': 955, 'revenue': 956, 'promised': 957, 'battle': 958, 'murder': 959, 'night': 960, 'launch': 961, 'san': 962, 'social': 963, 'behind': 964, 'includes': 965, 'planning': 966, 'rose': 967, 'firm': 968, 'consumer': 969, 'brought': 970, 'cup': 971, 'thailand': 972, 'poultry': 973, 'kenya': 974, 'cleric': 975, 'turned': 976, 'southeast': 977, 'indonesian': 978, 'tourism': 979, 'ocean': 980, 'clinton': 981, 'critic': 982, 'enrichment': 983, 'scientist': 984, 'weather': 985, 'politician': 986, 'gave': 987, '26': 988, 'allegedly': 989, 'resource': 990, 'humanitarian': 991, 'responsible': 992, 'disaster': 993, 'visited': 994, 'connection': 995, 'fear': 996, 'identified': 997, 'challenge': 998, 'investigating': 999, 'popular': 1000, 'higher': 1001, 'involvement': 1002, 'discovered': 1003, 'passenger': 1004, 'link': 1005, 'pledged': 1006, 'joined': 1007, 'suspended': 1008, 'denies': 1009, 'contact': 1010, 'seek': 1011, 'girl': 1012, 'victory': 1013, 'coming': 1014, '80': 1015, 'lower': 1016, 'serb': 1017, 'abducted': 1018, 'mohammed': 1019, 'hamid': 1020, 'rising': 1021, 'leaving': 1022, 'condemned': 1023, 'trading': 1024, 'try': 1025, 'provincial': 1026, 'season': 1027, 'accord': 1028, 'budget': 1029, 'de': 1030, 'gathered': 1031, 'niger': 1032, 'helped': 1033, 'islamabad': 1034, 'see': 1035, 'ethiopia': 1036, 'focus': 1037, 'developing': 1038, 'begun': 1039, 'kidnapping': 1040, 'find': 1041, 'affair': 1042, 'helmand': 1043, 'shooting': 1044, 'match': 1045, 'ready': 1046, 'northwest': 1047, 'tourist': 1048, 'train': 1049, 'criticism': 1050, 'ii': 1051, 'letter': 1052, 'immediate': 1053, 'treatment': 1054, 'word': 1055, 'education': 1056, 'worldwide': 1057, 'able': 1058, 'treaty': 1059, 'showed': 1060, 'internet': 1061, 'colombian': 1062, 'appeared': 1063, 'convicted': 1064, 'arabia': 1065, 'low': 1066, 'coup': 1067, 'ukrainian': 1068, 'demanding': 1069, 'technology': 1070, 'chairman': 1071, 'targeted': 1072, 'crew': 1073, 'period': 1074, 'unemployment': 1075, 'tour': 1076, 'staff': 1077, 'every': 1078, 'holiday': 1079, '19': 1080, 'anniversary': 1081, 'often': 1082, 'previous': 1083, 'training': 1084, 'stock': 1085, 'nearby': 1086, 'together': 1087, 'paris': 1088, 'study': 1089, 'mosul': 1090, 'controversial': 1091, 'attacker': 1092, 'serious': 1093, '1000': 1094, 'domestic': 1095, 'delay': 1096, 'included': 1097, 'never': 1098, 'better': 1099, '21': 1100, 'material': 1101, 'envoy': 1102, 'infected': 1103, 'offered': 1104, 'date': 1105, 'ground': 1106, '24': 1107, 'monitor': 1108, 'delegation': 1109, 'approval': 1110, 'negotiator': 1111, 'bosnian': 1112, 'sentence': 1113, 'faction': 1114, 'previously': 1115, 'poverty': 1116, 'combat': 1117, 'amid': 1118, 'employee': 1119, 'search': 1120, 'staterun': 1121, 'electoral': 1122, 'effect': 1123, 'personnel': 1124, 'separately': 1125, 'watch': 1126, 'provided': 1127, 'boost': 1128, 'care': 1129, 'protect': 1130, 'entered': 1131, 'executive': 1132, 'robert': 1133, 'northwestern': 1134, 'poland': 1135, 'guilty': 1136, 'hong': 1137, 'chad': 1138, 'product': 1139, 'kosovo': 1140, 'rescue': 1141, 'crossing': 1142, 'suffered': 1143, 'son': 1144, 'described': 1145, 'remark': 1146, 'crackdown': 1147, 'largely': 1148, 'association': 1149, 'dropped': 1150, 'highest': 1151, 'followed': 1152, 'reserve': 1153, 'canada': 1154, 'mexican': 1155, 'infrastructure': 1156, 'kofi': 1157, 'burmese': 1158, '70': 1159, 'daily': 1160, 'red': 1161, 'extremist': 1162, 'hurt': 1163, 'legislation': 1164, 'guantanamo': 1165, 'bin': 1166, 'cross': 1167, 'create': 1168, 'ethiopian': 1169, 'soviet': 1170, '22': 1171, 'whose': 1172, 'jerusalem': 1173, 'fox': 1174, 'condoleezza': 1175, 'safety': 1176, 'imposed': 1177, 'checkpoint': 1178, 'driver': 1179, 'traveling': 1180, 'raise': 1181, 'deficit': 1182, 'play': 1183, 'cia': 1184, 'opening': 1185, 'barack': 1186, 'attend': 1187, '2': 1188, 'kong': 1189, 'voting': 1190, 'rise': 1191, 'fall': 1192, 'declined': 1193, 'common': 1194, 'electricity': 1195, 'reduce': 1196, 'boat': 1197, 'southeastern': 1198, 'brother': 1199, 'beirut': 1200, 'hariri': 1201, 'significant': 1202, 'sentenced': 1203, 'income': 1204, 'regime': 1205, 'quoted': 1206, 'goal': 1207, 'maoist': 1208, 'mogadishu': 1209, 'young': 1210, 'zimbabwe': 1211, 'riot': 1212, 'carry': 1213, 'displaced': 1214, 'islam': 1215, 'donor': 1216, 'helping': 1217, 'review': 1218, 'agricultural': 1219, 'fourth': 1220, 'cairo': 1221, 'player': 1222, 'spokeswoman': 1223, 'demanded': 1224, 'import': 1225, 'chemical': 1226, 'inside': 1227, 'running': 1228, 'orleans': 1229, 'quake': 1230, 'risk': 1231, '27': 1232, 'concerned': 1233, 'wind': 1234, 'ending': 1235, 'raised': 1236, 'disputed': 1237, 'field': 1238, 'dutch': 1239, 'produce': 1240, 'canadian': 1241, 'lanka': 1242, 'stand': 1243, 'send': 1244, 'jordan': 1245, 'boy': 1246, 'vietnam': 1247, 'session': 1248, 'crash': 1249, '23': 1250, 'viktor': 1251, 'reason': 1252, 'california': 1253, 'morning': 1254, 'tony': 1255, 'great': 1256, 'improve': 1257, 'facing': 1258, 'short': 1259, 'texas': 1260, 'stability': 1261, 'additional': 1262, 'withdraw': 1263, 'pirate': 1264, 'little': 1265, 'investigator': 1266, 'estimate': 1267, 'opponent': 1268, 'philippine': 1269, 'gain': 1270, 'banned': 1271, 'membership': 1272, 'presence': 1273, 'crowd': 1274, 'urging': 1275, 'upon': 1276, 'violation': 1277, 'vladimir': 1278, 'agent': 1279, 'catholic': 1280, 'served': 1281, 'mainly': 1282, '1995': 1283, 'counterpart': 1284, 'hearing': 1285, 'heavily': 1286, 'grenade': 1287, 'tokyo': 1288, 'history': 1289, 'invasion': 1290, 'holy': 1291, 'amnesty': 1292, 'host': 1293, 'tournament': 1294, 'decided': 1295, 'wave': 1296, 'remote': 1297, 'affected': 1298, 'flood': 1299, 'minute': 1300, '7': 1301, 'pipeline': 1302, 'plot': 1303, 'minority': 1304, 'hotel': 1305, 'genocide': 1306, 'au': 1307, 'resolve': 1308, '90': 1309, 'live': 1310, 'black': 1311, 'replace': 1312, 'formally': 1313, 'sparked': 1314, 'resignation': 1315, 'vatican': 1316, 'presidency': 1317, 'might': 1318, 'tamil': 1319, 'shortly': 1320, 'paid': 1321, 'repeatedly': 1322, 'fishing': 1323, 'winner': 1324, 'investor': 1325, '1991': 1326, 'dismissed': 1327, 'kidnapper': 1328, 'old': 1329, 'started': 1330, 'stepped': 1331, 'continuing': 1332, 'considered': 1333, 'olmert': 1334, 'finance': 1335, 'wife': 1336, 'unless': 1337, 'greater': 1338, 'present': 1339, 'panel': 1340, 'question': 1341, 'direct': 1342, 'delhi': 1343, 'christmas': 1344, 'limited': 1345, 'laden': 1346, 'filed': 1347, 'resigned': 1348, 'george': 1349, 'film': 1350, 'nigerian': 1351, 'erupted': 1352, 'chicken': 1353, 'jet': 1354, 'beginning': 1355, 'buy': 1356, 'consider': 1357, 'abdullah': 1358, 'football': 1359, 'throughout': 1360, 'avoid': 1361, 'waziristan': 1362, 'survey': 1363, '9': 1364, 'widespread': 1365, 'currency': 1366, 'northeastern': 1367, 'producer': 1368, 'pervez': 1369, 'housing': 1370, 'recovery': 1371, 'kenyan': 1372, 'located': 1373, 'spent': 1374, 'failure': 1375, 'florida': 1376, 'shut': 1377, 'delivery': 1378, 'headquarters': 1379, 'bilateral': 1380, 'race': 1381, 'ivory': 1382, 'giving': 1383, 'permanent': 1384, 'runoff': 1385, '31': 1386, '8': 1387, 'upcoming': 1388, 'haitian': 1389, 'increasing': 1390, 'university': 1391, 'gold': 1392, 'mubarak': 1393, 'hu': 1394, 'worst': 1395, 'vessel': 1396, 'singh': 1397, 'research': 1398, 'immigrant': 1399, 'sending': 1400, '500': 1401, 'blew': 1402, 'mohammad': 1403, '3': 1404, '1999': 1405, 'zone': 1406, 'resort': 1407, 'contract': 1408, 'partner': 1409, 'huge': 1410, 'leadership': 1411, 'blame': 1412, 'ballot': 1413, 'protection': 1414, 'backed': 1415, 'stopped': 1416, 'deployed': 1417, 'league': 1418, 'push': 1419, 'torture': 1420, 'scene': 1421, 'looking': 1422, 'potential': 1423, 'industrial': 1424, 'conservative': 1425, 'draft': 1426, 'kim': 1427, 'value': 1428, 'targeting': 1429, 'stay': 1430, 'fair': 1431, 'visiting': 1432, 'ongoing': 1433, 'positive': 1434, 'equipment': 1435, 'airline': 1436, 'khan': 1437, 'decline': 1438, 'reuters': 1439, 'standard': 1440, 'netherlands': 1441, 'survivor': 1442, 'mean': 1443, 'reconstruction': 1444, 'stronghold': 1445, 'jail': 1446, '1998': 1447, 'powerful': 1448, 'rumsfeld': 1449, 'father': 1450, 'southwestern': 1451, '2011': 1452, 'apparently': 1453, 'providing': 1454, 'wall': 1455, 'recession': 1456, 'conducted': 1457, 'critical': 1458, 'best': 1459, 'jose': 1460, 'instead': 1461, 'ecuador': 1462, 'attorney': 1463, 'ariel': 1464, 'created': 1465, 'damaged': 1466, 'aung': 1467, 'abroad': 1468, 'established': 1469, '1990s': 1470, 'funeral': 1471, 'finding': 1472, 'olympics': 1473, 'scandal': 1474, 'enter': 1475, 'worth': 1476, 'ahmed': 1477, 'committed': 1478, 'break': 1479, 'mayor': 1480, 'iaea': 1481, 'heart': 1482, 'related': 1483, 'necessary': 1484, 'worked': 1485, '5': 1486, 'considering': 1487, 'moved': 1488, 'detonated': 1489, 'inflation': 1490, 'divided': 1491, 'agree': 1492, 'latin': 1493, 'champion': 1494, 'ton': 1495, 'farmer': 1496, 'triggered': 1497, 'gang': 1498, 'norway': 1499, 'petroleum': 1500, 'belief': 1501, 'czech': 1502, 'quarter': 1503, 'kirkuk': 1504, 'liberation': 1505, 'limit': 1506, 'vowed': 1507, 'operating': 1508, 'unidentified': 1509, 'relative': 1510, 'navy': 1511, 'sharply': 1512, 'award': 1513, 'argentina': 1514, '28': 1515, 'age': 1516, 'hague': 1517, 'bangladesh': 1518, 'compound': 1519, 'allowing': 1520, 'opinion': 1521, 'praised': 1522, 'benefit': 1523, 'neighbor': 1524, 'remaining': 1525, 'real': 1526, 'neighborhood': 1527, 'device': 1528, 'bay': 1529, 'peninsula': 1530, 'weekly': 1531, 'restriction': 1532, 'guerrilla': 1533, 'tropical': 1534, 'unclear': 1535, 'light': 1536, 'shortage': 1537, 'giant': 1538, 'drop': 1539, 'benedict': 1540, 'dictator': 1541, 'saw': 1542, 'discussed': 1543, 'caracas': 1544, 'moving': 1545, 'payment': 1546, '300': 1547, 'opportunity': 1548, 'strengthen': 1549, 'accept': 1550, 'cheney': 1551, 'peru': 1552, 'meter': 1553, 'leftist': 1554, 'matter': 1555, 'severe': 1556, 'bid': 1557, 'foreigner': 1558, 'naval': 1559, 'aide': 1560, 'deadline': 1561, 'socalled': 1562, 'dialogue': 1563, 'escaped': 1564, 'valley': 1565, 'formed': 1566, 'status': 1567, 'fiscal': 1568, 'funding': 1569, 'according': 1570, 'assault': 1571, 'halt': 1572, 'mortar': 1573, 'happened': 1574, 'damascus': 1575, 'dangerous': 1576, '4': 1577, 'kyi': 1578, 'nationwide': 1579, 'cell': 1580, 'designed': 1581, 'winter': 1582, 'image': 1583, 'supporting': 1584, 'placed': 1585, 'initiative': 1586, 'pledge': 1587, 'imf': 1588, 'al': 1589, 'safe': 1590, 'overall': 1591, 'block': 1592, 'tibetan': 1593, 'completed': 1594, 'truce': 1595, 'ugandan': 1596, 'pacific': 1597, 'institution': 1598, 'troubled': 1599, 'music': 1600, 'mining': 1601, 'biggest': 1602, '150': 1603, 'jihad': 1604, 'accusation': 1605, 'expect': 1606, 'speaker': 1607, 'destruction': 1608, 'package': 1609, 'involving': 1610, 'prominent': 1611, 'conduct': 1612, 'hiv': 1613, 'handed': 1614, 'occupied': 1615, 'resistance': 1616, 'kingdom': 1617, 'quickly': 1618, 'revolutionary': 1619, 'chancellor': 1620, 'exercise': 1621, 'nt': 1622, 'single': 1623, 'posted': 1624, 'michael': 1625, 'gasoline': 1626, 'marched': 1627, 'flooding': 1628, 'loan': 1629, 'ensure': 1630, '1996': 1631, 'tiger': 1632, 'average': 1633, 'david': 1634, 'look': 1635, 'web': 1636, 'sought': 1637, 'slow': 1638, 'tennis': 1639, 'extended': 1640, 'omar': 1641, 'though': 1642, 'osama': 1643, 'autonomy': 1644, 'receive': 1645, 'favor': 1646, 'asset': 1647, 'hard': 1648, 'nothing': 1649, 'amount': 1650, 'greek': 1651, 'tested': 1652, 'pkk': 1653, 'double': 1654, 'suu': 1655, 'struggle': 1656, 'indicted': 1657, 'commitment': 1658, 'highly': 1659, 'friend': 1660, 'turn': 1661, 'croatia': 1662, 'twoday': 1663, 'maintain': 1664, 'played': 1665, 'fought': 1666, 'strategy': 1667, 'bloc': 1668, 'officially': 1669, 'reactor': 1670, 'rest': 1671, 'exile': 1672, 'environmental': 1673, 'pushed': 1674, 'settler': 1675, 'farc': 1676, 'star': 1677, 'observer': 1678, 'preparing': 1679, 'internal': 1680, 'approve': 1681, 'computer': 1682, 'accuses': 1683, 'formal': 1684, 'prayer': 1685, 'showing': 1686, 'illegally': 1687, '200000': 1688, 'phone': 1689, 'complete': 1690, 'fully': 1691, 'suffering': 1692, 'communication': 1693, 'questioned': 1694, 'unity': 1695, 'restore': 1696, 'follows': 1697, 'earth': 1698, 'fifth': 1699, 'thought': 1700, 'patient': 1701, 'reportedly': 1702, 'voice': 1703, 'boycott': 1704, 'strongly': 1705, 'economist': 1706, 'talabani': 1707, 'defeated': 1708, 'sovereignty': 1709, 'immigration': 1710, 'addition': 1711, 'uganda': 1712, 'square': 1713, 'radical': 1714, 'accuse': 1715, 'initial': 1716, 'ransom': 1717, 'range': 1718, 'hassan': 1719, 'developed': 1720, 'pas': 1721, '1994': 1722, 'bolivia': 1723, 'delta': 1724, 'indicate': 1725, 'homeland': 1726, 'impact': 1727, 'either': 1728, 'difficult': 1729, 'longer': 1730, 'stage': 1731, 'difference': 1732, 'especially': 1733, 'inspector': 1734, 'determine': 1735, 'particularly': 1736, 'uk': 1737, 'defeat': 1738, 'ever': 1739, 'forecaster': 1740, '6': 1741, 'sweden': 1742, 'polish': 1743, 'threatening': 1744, 'manufacturing': 1745, 'climate': 1746, 'index': 1747, 'rwanda': 1748, 'widely': 1749, 'commercial': 1750, 'gate': 1751, 'pentagon': 1752, 'jailed': 1753, 'raided': 1754, 'gun': 1755, 'route': 1756, 'factory': 1757, 'collapse': 1758, '1989': 1759, 'debate': 1760, 'cartoon': 1761, 'crashed': 1762, 'sell': 1763, 'practice': 1764, 'animal': 1765, 'fidel': 1766, 'resumed': 1767, 'caught': 1768, 'cent': 1769, 'serbian': 1770, '1990': 1771, 'confidence': 1772, 'unrest': 1773, 'chile': 1774, 'promote': 1775, 'cancer': 1776, 'secure': 1777, 'headed': 1778, 'picture': 1779, 'know': 1780, 'kurd': 1781, 'tibet': 1782, 'uprising': 1783, 'shell': 1784, 'abdul': 1785, 'forward': 1786, 'expand': 1787, 'paper': 1788, 'postponed': 1789, 'satellite': 1790, 'intended': 1791, 'brazilian': 1792, 'temporarily': 1793, 'morocco': 1794, 'failing': 1795, '35': 1796, 'opec': 1797, 'opposed': 1798, 'merkel': 1799, 'discussion': 1800, 'sectarian': 1801, 'prize': 1802, 'towards': 1803, 'lion': 1804, 'nomination': 1805, 'reduced': 1806, 'overnight': 1807, 'pleaded': 1808, 'gathering': 1809, 'granted': 1810, 'prophet': 1811, 'sold': 1812, 'credit': 1813, 'certain': 1814, 'appears': 1815, 'canceled': 1816, 'miner': 1817, 'avian': 1818, 'returning': 1819, 'sport': 1820, 'villager': 1821, 'blood': 1822, 'snow': 1823, 'chance': 1824, 'going': 1825, 'yanukovych': 1826, 'legislative': 1827, 'bringing': 1828, 'aristide': 1829, 'shelter': 1830, 'rock': 1831, 'view': 1832, 'surgery': 1833, 'unknown': 1834, 'reporting': 1835, 'let': 1836, 'investigate': 1837, '10000': 1838, 'count': 1839, 'caribbean': 1840, 'danish': 1841, 'mother': 1842, 'vienna': 1843, 'recognize': 1844, 'data': 1845, 'refinery': 1846, 'mohamed': 1847, 'expects': 1848, 'causing': 1849, 'england': 1850, 'adopted': 1851, 'withdrew': 1852, 'appear': 1853, 'stable': 1854, 'continent': 1855, 'serve': 1856, 'celebration': 1857, 'purpose': 1858, 'serbia': 1859, 'morale': 1860, 'moderate': 1861, 'built': 1862, 'output': 1863, 'scored': 1864, 'congressional': 1865, 'aceh': 1866, 'anyone': 1867, 'monetary': 1868, 'female': 1869, 'attending': 1870, 'mountain': 1871, 'attention': 1872, 'nominee': 1873, 'ambushed': 1874, 'location': 1875, 'increasingly': 1876, '29': 1877, 'score': 1878, 'deployment': 1879, 'offering': 1880, 'available': 1881, 'renewed': 1882, 'follow': 1883, 'removed': 1884, 'attended': 1885, 'remained': 1886, 'repeated': 1887, 'recovered': 1888, 'larger': 1889, 'transfer': 1890, 'environment': 1891, 'delayed': 1892, 'cooperate': 1893, 'prodemocracy': 1894, 'cash': 1895, 'profit': 1896, 'oppose': 1897, 'nasa': 1898, 'resulted': 1899, 'euro': 1900, 'bad': 1901, 'track': 1902, 'highway': 1903, 'los': 1904, 'presented': 1905, 'receiving': 1906, 'drove': 1907, 'roman': 1908, 'briefly': 1909, 'firing': 1910, 'paramilitary': 1911, 'donald': 1912, 'yukos': 1913, 'compared': 1914, 'zealand': 1915, 'banking': 1916, 'crop': 1917, 'grant': 1918, 'respect': 1919, 'federation': 1920, 'tell': 1921, 'contractor': 1922, 'evening': 1923, 'slightly': 1924, 'contain': 1925, 'finished': 1926, 'transport': 1927, 'improved': 1928, 'seriously': 1929, 'capacity': 1930, 'entire': 1931, 'responded': 1932, 'prompted': 1933, 'eve': 1934, 'survived': 1935, 'admitted': 1936, 'accusing': 1937, 'ambush': 1938, 'hideout': 1939, 'rafik': 1940, 'enemy': 1941, 'complaint': 1942, 'georgian': 1943, 'extend': 1944, 'ehud': 1945, 'revolution': 1946, 'grew': 1947, 'blocked': 1948, 'willing': 1949, 'duty': 1950, 'teacher': 1951, 'khartoum': 1952, 'traveled': 1953, 'summer': 1954, 'smuggling': 1955, 'nobel': 1956, 'longterm': 1957, 'cast': 1958, 'battling': 1959, 'various': 1960, 'deadliest': 1961, '1997': 1962, 'management': 1963, 'surveillance': 1964, 'collapsed': 1965, 'different': 1966, 'daughter': 1967, 'influence': 1968, 'organized': 1969, 'earnings': 1970, 'shop': 1971, 'treated': 1972, 'alzarqawi': 1973, 'pilgrim': 1974, 'angeles': 1975, 'brigade': 1976, 'forcing': 1977, 'jakarta': 1978, 'devastated': 1979, 'peter': 1980, 'fallujah': 1981, 'soil': 1982, 'pontiff': 1983, 'command': 1984, 'falling': 1985, 'aziz': 1986, '45': 1987, 'struggling': 1988, 'kuwait': 1989, 'individual': 1990, 'karachi': 1991, 'magazine': 1992, 'stressed': 1993, 'typhoon': 1994, 'threeday': 1995, 'burned': 1996, 'grand': 1997, 'story': 1998, 'suspend': 1999, 'bodyguard': 2000, 'decide': 2001, 'option': 2002, 'ibrahim': 2003, 'beat': 2004, 'protesting': 2005, 'northeast': 2006, 'website': 2007, 'schroeder': 2008, 'pact': 2009, 'conducting': 2010, 'drive': 2011, 'escape': 2012, 'havana': 2013, 'laboratory': 2014, 'amendment': 2015, 'tank': 2016, 'thai': 2017, 'corporation': 2018, 'threw': 2019, 'store': 2020, 'vaccine': 2021, 'bureau': 2022, 'memorial': 2023, '32': 2024, 'engineer': 2025, 'clashed': 2026, 'photograph': 2027, 'staged': 2028, 'astronaut': 2029, 'ease': 2030, '3000': 2031, 'traditional': 2032, 'pulled': 2033, 'marked': 2034, 'meant': 2035, 'appointed': 2036, 'raising': 2037, 'shuttle': 2038, 'rwandan': 2039, 'chirac': 2040, 'effective': 2041, 'risen': 2042, 'switzerland': 2043, 'trafficking': 2044, 'videotape': 2045, 'defendant': 2046, 'citing': 2047, 'transferred': 2048, 'singapore': 2049, '1980s': 2050, 'capture': 2051, 'primary': 2052, 'book': 2053, 'pullout': 2054, 'musab': 2055, 'driving': 2056, '36': 2057, 'austria': 2058, 'defend': 2059, 'corp': 2060, 'empire': 2061, 'mccain': 2062, 'marking': 2063, 'custom': 2064, 'tape': 2065, 'flying': 2066, 'discovery': 2067, 'secretly': 2068, 'ice': 2069, 'shown': 2070, 'signing': 2071, 'reconciliation': 2072, 'asking': 2073, 'advance': 2074, 'lankan': 2075, 'society': 2076, 'advisor': 2077, 'youth': 2078, 'stormed': 2079, 'respond': 2080, 'promise': 2081, 'singer': 2082, 'honor': 2083, 'muhammad': 2084, 'malaysia': 2085, 'temperature': 2086, 'strategic': 2087, 'allawi': 2088, 'done': 2089, 'rape': 2090, 'gained': 2091, 'provides': 2092, 'searching': 2093, 'kyrgyzstan': 2094, 'infection': 2095, 'drone': 2096, 'requested': 2097, 'polling': 2098, 'tunnel': 2099, 'rather': 2100, 'sample': 2101, 'magnitude': 2102, 'getting': 2103, 'prepared': 2104, 'retired': 2105, 'erdogan': 2106, 'insurance': 2107, 'appealed': 2108, 'van': 2109, '400': 2110, 'jalal': 2111, 'devastating': 2112, 'frequent': 2113, '1993': 2114, 'dissident': 2115, 'kazakhstan': 2116, 'disappeared': 2117, 'ghraib': 2118, 'insists': 2119, 'progovernment': 2120, 'luis': 2121, 'brown': 2122, 'cyprus': 2123, 'museum': 2124, 'serving': 2125, 'crossed': 2126, 'smaller': 2127, 'expansion': 2128, 'cypriot': 2129, 'passing': 2130, 'offshore': 2131, 'prince': 2132, 'split': 2133, 'homeless': 2134, 'migrant': 2135, 'plotting': 2136, 'net': 2137, 'treasury': 2138, 'uribe': 2139, 'stronger': 2140, 'establish': 2141, 'organizer': 2142, 'starting': 2143, 'hiding': 2144, 'yemen': 2145, 'noted': 2146, 'deep': 2147, 'numerous': 2148, 'belarus': 2149, '30000': 2150, 'seoul': 2151, 'monarchy': 2152, 'suspension': 2153, 'dominated': 2154, 'jordanian': 2155, 'buried': 2156, 'james': 2157, 'affect': 2158, 'suspicion': 2159, 'atlantic': 2160, 'allows': 2161, 'relationship': 2162, 'confirm': 2163, '19th': 2164, 'title': 2165, 'note': 2166, 'produced': 2167, 'improving': 2168, 'rangoon': 2169, 'swiss': 2170, 'reject': 2171, 'subway': 2172, 'incentive': 2173, 'restive': 2174, 'draw': 2175, 'blow': 2176, 'delegate': 2177, 'channel': 2178, 'coastal': 2179, 'wartorn': 2180, 'ask': 2181, 'fate': 2182, 'basic': 2183, 'aim': 2184, 'got': 2185, 'reelection': 2186, 'colonel': 2187, 'commerce': 2188, 'swept': 2189, 'stalled': 2190, 'presidentelect': 2191, 'heading': 2192, 'acting': 2193, 'festival': 2194, 'photo': 2195, 'rebuild': 2196, 'humanity': 2197, 'cover': 2198, 'brief': 2199, 'royal': 2200, 'active': 2201, 'arafat': 2202, 'supported': 2203, 'commissioner': 2204, 'hunger': 2205, 'almaliki': 2206, 'suggested': 2207, 'winning': 2208, 'neither': 2209, 'basra': 2210, 'coal': 2211, 'driven': 2212, 'movie': 2213, 'article': 2214, 'defended': 2215, 'sarkozy': 2216, 'baluchistan': 2217, 'accepted': 2218, 'twice': 2219, 'resign': 2220, 'spying': 2221, 'cargo': 2222, 'kept': 2223, 'distribution': 2224, 'straight': 2225, 'alexander': 2226, 'powell': 2227, 'koizumi': 2228, 'possibility': 2229, 'kathmandu': 2230, 'rome': 2231, 'lifted': 2232, 'closing': 2233, 'closely': 2234, 'temporary': 2235, 'delivered': 2236, 'chen': 2237, 'lieutenant': 2238, 'impose': 2239, 'acknowledged': 2240, 'congolese': 2241, 'nouri': 2242, 'embargo': 2243, 'agenda': 2244, 'fish': 2245, 'producing': 2246, 'rich': 2247, 'intention': 2248, 'successful': 2249, 'jintao': 2250, 'illness': 2251, 'backing': 2252, 'heard': 2253, 'participate': 2254, 'denmark': 2255, 'mugabe': 2256, 'tree': 2257, 'mainland': 2258, 'appearance': 2259, 'quit': 2260, 'gazprom': 2261, 'becoming': 2262, 'procedure': 2263, '600': 2264, 'required': 2265, 'determined': 2266, 'declining': 2267, 'partnership': 2268, 'trapped': 2269, 'traffic': 2270, 'socialist': 2271, 'division': 2272, 'aljazeera': 2273, 'recover': 2274, 'preval': 2275, 'grave': 2276, 'southwest': 2277, 'closer': 2278, 'setting': 2279, 'probably': 2280, 'competition': 2281, 'monitoring': 2282, 'inmate': 2283, 'brussels': 2284, 'career': 2285, 'natoled': 2286, 'overthrow': 2287, 'hosni': 2288, 'leaf': 2289, 'disarm': 2290, 'researcher': 2291, 'usbased': 2292, 'drought': 2293, 'milosevic': 2294, 'identify': 2295, 'husband': 2296, 'external': 2297, 'subsidy': 2298, 'ramadi': 2299, 'brotherhood': 2300, 'preliminary': 2301, 'telephone': 2302, 'poorest': 2303, 'foundation': 2304, 'easily': 2305, 'cited': 2306, 'colony': 2307, 'portion': 2308, '250': 2309, '06mar': 2310, 'finland': 2311, 'faced': 2312, 'broken': 2313, '5000': 2314, 'rodriguez': 2315, 'costa': 2316, 'attempted': 2317, 'foot': 2318, 'dealing': 2319, 'jew': 2320, 'regulation': 2321, 'sustained': 2322, 'rescued': 2323, 'ayatollah': 2324, 'welcomed': 2325, 'bordering': 2326, 'greece': 2327, 'reduction': 2328, 'remove': 2329, 'cutting': 2330, 'directly': 2331, 'encourage': 2332, 'lama': 2333, 'spy': 2334, 'senegal': 2335, 'identity': 2336, 'owner': 2337, 'mobile': 2338, 'strength': 2339, 'newly': 2340, 'bail': 2341, 'declaration': 2342, 'die': 2343, 'referred': 2344, 'transportation': 2345, 'artillery': 2346, 'hardline': 2347, 'stem': 2348, 'prepare': 2349, 'speed': 2350, 'advanced': 2351, 'speak': 2352, 'personal': 2353, 'bosnia': 2354, 'kurdistan': 2355, 'frequently': 2356, 'playing': 2357, 'mudslide': 2358, 'flow': 2359, 'surrounding': 2360, 'save': 2361, 'khodorkovsky': 2362, 'english': 2363, '75': 2364, 'hutu': 2365, 'ankara': 2366, 'section': 2367, 'nairobi': 2368, 'consulate': 2369, 'panama': 2370, 'pull': 2371, 'beating': 2372, 'landslide': 2373, 'fresh': 2374, 'politics': 2375, 'rescuer': 2376, 'lawsuit': 2377, 'nicaragua': 2378, 'standoff': 2379, 'upper': 2380, 'surge': 2381, 'chilean': 2382, 'piece': 2383, 'denounced': 2384, 'prevented': 2385, 'liberia': 2386, 'seeing': 2387, 'abduction': 2388, 'lukashenko': 2389, 'confirmation': 2390, 'manmohan': 2391, 'couple': 2392, 'charity': 2393, 'quota': 2394, 'relatively': 2395, 'antigovernment': 2396, 'swat': 2397, 'mullah': 2398, 'ahmad': 2399, 'class': 2400, 'stadium': 2401, 'croatian': 2402, 'native': 2403, 'apartment': 2404, 'underground': 2405, 'negotiate': 2406, 'indicated': 2407, 'geneva': 2408, 'wing': 2409, 'execution': 2410, 'think': 2411, 'uzbekistan': 2412, 'uzbek': 2413, 'launching': 2414, 'wild': 2415, 'closure': 2416, 'reducing': 2417, 'changed': 2418, 'alert': 2419, 'apparent': 2420, 'replaced': 2421, 'sharp': 2422, 'cartel': 2423, 'selling': 2424, 'creation': 2425, 'kiev': 2426, 'hall': 2427, 'khatami': 2428, 'fine': 2429, 'lived': 2430, 'stroke': 2431, 'experienced': 2432, 'dependent': 2433, 'counter': 2434, 'fallen': 2435, 'eventually': 2436, 'richard': 2437, 'focused': 2438, 'contracted': 2439, 'big': 2440, 'purchase': 2441, 'sugar': 2442, '06apr': 2443, 'hill': 2444, 'complex': 2445, 'warrant': 2446, 'initially': 2447, 'imported': 2448, 'overseas': 2449, '700': 2450, 'grow': 2451, 'jacques': 2452, 'cold': 2453, 'textile': 2454, 'gunfire': 2455, 'landed': 2456, 'performance': 2457, 'mali': 2458, 'abandon': 2459, 'warming': 2460, 'asylum': 2461, '120': 2462, 'libya': 2463, 'tanker': 2464, 'restored': 2465, 'questioning': 2466, 'mar': 2467, 'retirement': 2468, 'twothirds': 2469, 'penalty': 2470, 'teenager': 2471, 'tv': 2472, 'pilot': 2473, 'bridge': 2474, 'born': 2475, 'transitional': 2476, 'unharmed': 2477, 'permit': 2478, 'roughly': 2479, 'danger': 2480, 'lift': 2481, 'ismail': 2482, 'withdrawing': 2483, 'wake': 2484, 'handling': 2485, 'spreading': 2486, 'zabul': 2487, 'violating': 2488, 'sergei': 2489, 'bosniaherzegovina': 2490, 'championship': 2491, 'hostile': 2492, 'assistant': 2493, 'shootout': 2494, 'usually': 2495, 'mountainous': 2496, 'joseph': 2497, 'angry': 2498, 'extradition': 2499, 'map': 2500, 'ability': 2501, 'deliver': 2502, 'editor': 2503, 'uruzgan': 2504, 'norwegian': 2505, 'property': 2506, 'ramadan': 2507, 'implement': 2508, 'medal': 2509, 'ripped': 2510, 'prosecution': 2511, 'rare': 2512, 'stateowned': 2513, 'indicates': 2514, 'entry': 2515, 'massacre': 2516, 'testing': 2517, 'professional': 2518, 'club': 2519, 'saint': 2520, '1992': 2521, 'parent': 2522, 'seed': 2523, 'basis': 2524, 'eritrea': 2525, 'course': 2526, 'originally': 2527, 'salvador': 2528, 'plunged': 2529, '100000': 2530, 'kibaki': 2531, 'require': 2532, 'antiterrorism': 2533, 'moroccan': 2534, 'resolved': 2535, '800': 2536, 'restaurant': 2537, 'indictment': 2538, 'raul': 2539, 'green': 2540, 'pursue': 2541, 'slogan': 2542, 'attacking': 2543, 'lay': 2544, 'nationality': 2545, 'charter': 2546, 'solution': 2547, 'expanded': 2548, 'standing': 2549, 'executed': 2550, 'size': 2551, 'centered': 2552, '55': 2553, 'idea': 2554, 'celebrate': 2555, 'legislature': 2556, 'telecommunication': 2557, 'televised': 2558, 'subject': 2559, 'barred': 2560, '34': 2561, 'hijacked': 2562, 'dick': 2563, 'swedish': 2564, 'contribution': 2565, 'contributed': 2566, 'gone': 2567, 'specific': 2568, '33': 2569, 'arriving': 2570, 'hunter': 2571, 'wide': 2572, 'dalai': 2573, 'pandemic': 2574, 'aired': 2575, 'shrine': 2576, 'angola': 2577, 'william': 2578, 'chechen': 2579, 'warplane': 2580, 'el': 2581, 'destroy': 2582, 'kennedy': 2583, 'transition': 2584, 'recommendation': 2585, 'email': 2586, 'qatar': 2587, 'airstrikes': 2588, 'priority': 2589, 'territorial': 2590, 'enclave': 2591, 'surrounded': 2592, 'cnn': 2593, 'barrier': 2594, 'breakaway': 2595, 'forming': 2596, 'success': 2597, 'invited': 2598, 'parade': 2599, 'tight': 2600, 'charles': 2601, 'mikhail': 2602, 'promoting': 2603, 'flag': 2604, 'approach': 2605, 'settled': 2606, 'thing': 2607, 'introduced': 2608, 'volatile': 2609, 'ambition': 2610, 'item': 2611, 'alassad': 2612, 'discussing': 2613, 'prosyrian': 2614, 'ramallah': 2615, 'gyanendra': 2616, 'elder': 2617, 'proceeding': 2618, 'da': 2619, 'exporter': 2620, 'blockade': 2621, 'aboard': 2622, 'hospitalized': 2623, 'emission': 2624, 'detected': 2625, 'st': 2626, 'injuring': 2627, 'kunar': 2628, 'togo': 2629, 'replied': 2630, '52': 2631, 'seventh': 2632, 'sixparty': 2633, 'substantial': 2634, 'martyr': 2635, 'considers': 2636, 'requires': 2637, 'priest': 2638, 'carlos': 2639, 'citizenship': 2640, 'minor': 2641, 'birth': 2642, 'gap': 2643, 'nationalist': 2644, 'combined': 2645, 'extensive': 2646, 'eagle': 2647, 'flew': 2648, 'as': 2649, 'putting': 2650, 'fast': 2651, 'bloody': 2652, 'crowded': 2653, 'successfully': 2654, '06feb': 2655, 'martin': 2656, 'preparation': 2657, 'evacuated': 2658, 'loyal': 2659, 'khost': 2660, 'boeing': 2661, 'prior': 2662, 'eta': 2663, 'participation': 2664, 'science': 2665, '20th': 2666, 'art': 2667, 'squad': 2668, 'creating': 2669, 'bashar': 2670, 'doubt': 2671, 'polio': 2672, 'moment': 2673, 'macedonia': 2674, 'rural': 2675, 'airstrike': 2676, 'assumed': 2677, 'remittance': 2678, 'wealth': 2679, 'owned': 2680, 'alternative': 2681, 'bali': 2682, 'inquiry': 2683, 'achieved': 2684, 'afternoon': 2685, 'protested': 2686, 'historic': 2687, 'buddhist': 2688, 'entering': 2689, 'permission': 2690, 'mediator': 2691, '38': 2692, 'speculation': 2693, 'operated': 2694, 'industrialized': 2695, 'occupation': 2696, 'false': 2697, 'disrupt': 2698, 'sheikh': 2699, 'torch': 2700, 'arrival': 2701, 'song': 2702, 'counterterrorism': 2703, 'transit': 2704, 'ruler': 2705, 'institute': 2706, 'finally': 2707, 'park': 2708, 'visa': 2709, 'opposes': 2710, 'trouble': 2711, 'pressing': 2712, 'surrender': 2713, 'junta': 2714, 'israelipalestinian': 2715, 'centimeter': 2716, 'baquba': 2717, 'fiveyear': 2718, 'curfew': 2719, 'oilrich': 2720, 'belgium': 2721, 'alive': 2722, 'shipment': 2723, 'coordinated': 2724, 'window': 2725, 'freeze': 2726, 'tradition': 2727, 'latvia': 2728, 'medicine': 2729, 'outgoing': 2730, 'elbaradei': 2731, 'nonproliferation': 2732, 'albanian': 2733, 'primarily': 2734, 'fatality': 2735, 'g8': 2736, 'afp': 2737, 'fugitive': 2738, 'engaged': 2739, 'kremlin': 2740, 'experience': 2741, 'legislator': 2742, 'motor': 2743, 'visitor': 2744, 'publicly': 2745, 'suburb': 2746, 'ghana': 2747, 'announce': 2748, 'alvaro': 2749, 'reaching': 2750, 'intense': 2751, 'successor': 2752, 'scott': 2753, 'sound': 2754, 'malawi': 2755, 'fujimori': 2756, 'fisherman': 2757, 'instability': 2758, 'guatemala': 2759, 'string': 2760, 'mandate': 2761, 'forum': 2762, 'pinochet': 2763, 'longtime': 2764, 'influential': 2765, 'madrid': 2766, 'liberty': 2767, 'obtained': 2768, 'cleared': 2769, 'type': 2770, 'caput': 2771, 'strained': 2772, 'kashmiri': 2773, 'netanyahu': 2774, 'congressman': 2775, 'straw': 2776, '17th': 2777, 'informed': 2778, 'slowly': 2779, '20000': 2780, 'college': 2781, 'cambodia': 2782, 'warlord': 2783, '16th': 2784, 'provision': 2785, 'downturn': 2786, 'written': 2787, 'rebuilding': 2788, 'prospect': 2789, 'generally': 2790, 'merger': 2791, 'persian': 2792, 'nazi': 2793, 'claiming': 2794, 'withdrawn': 2795, 'unable': 2796, 'sexual': 2797, 'busy': 2798, 'silva': 2799, 'recorded': 2800, 'gnassingbe': 2801, 'complained': 2802, 'welcome': 2803, 'uncovered': 2804, 'deny': 2805, 'extending': 2806, 'portugal': 2807, 'burning': 2808, 'structure': 2809, 'hike': 2810, 'vicente': 2811, 'cricket': 2812, 'audience': 2813, 'registered': 2814, 'sixth': 2815, 'boycotted': 2816, 'anbar': 2817, 'google': 2818, 'imprisoned': 2819, 'dog': 2820, 'feared': 2821, 'investigated': 2822, 'spot': 2823, 'wearing': 2824, 'regular': 2825, 'interrogation': 2826, 'diamond': 2827, 'ran': 2828, 'mistake': 2829, 'succeed': 2830, 'controlled': 2831, 'stone': 2832, 'fierce': 2833, 'veteran': 2834, 'depends': 2835, 'reopened': 2836, 'solidarity': 2837, 'demonstrated': 2838, 'ghazni': 2839, '4000': 2840, '37': 2841, 'azerbaijan': 2842, '2012': 2843, 'protecting': 2844, 'boosting': 2845, 'maker': 2846, 'moon': 2847, 'assailant': 2848, 'politically': 2849, '300000': 2850, 'deposed': 2851, 'normal': 2852, 'eligible': 2853, 'urge': 2854, 'chechnya': 2855, 'soccer': 2856, 'arrive': 2857, 'calm': 2858, '64': 2859, 'thomas': 2860, 'yugoslav': 2861, 'zardari': 2862, 'hoping': 2863, 'nominated': 2864, 'endorsed': 2865, 'schedule': 2866, 'angela': 2867, 'largescale': 2868, 'mumbai': 2869, 'burn': 2870, 'wound': 2871, 'encouraged': 2872, 'denying': 2873, 'medvedev': 2874, 'rating': 2875, 'captain': 2876, 'drc': 2877, 'alaqsa': 2878, 'tymoshenko': 2879, 'wage': 2880, 'managed': 2881, 'recep': 2882, 'tayyip': 2883, 'license': 2884, 'sworn': 2885, 'semifinal': 2886, 'belonging': 2887, 'sensitive': 2888, 'preventing': 2889, 'destroying': 2890, '8000': 2891, 'advocate': 2892, 'culture': 2893, 'hunt': 2894, 'predicted': 2895, 'adding': 2896, 'choice': 2897, 'algerian': 2898, 'annually': 2899, 'possibly': 2900, 'conspiracy': 2901, 'jury': 2902, 'donation': 2903, 'allied': 2904, 'pose': 2905, 'surrendered': 2906, 'employment': 2907, 'motorcycle': 2908, 'louisiana': 2909, 'turin': 2910, 'existing': 2911, 'rapidly': 2912, 'burundi': 2913, 'carrier': 2914, 'howard': 2915, 'ireland': 2916, 'ill': 2917, 'rica': 2918, 'concluded': 2919, 'joining': 2920, 'compensation': 2921, 'motion': 2922, 'lee': 2923, 'packed': 2924, 'completely': 2925, 'extremely': 2926, 'path': 2927, 'advantage': 2928, 'garang': 2929, 'leg': 2930, 'curb': 2931, '7000': 2932, 'brings': 2933, 'linking': 2934, 'insisted': 2935, 'worry': 2936, 'colleague': 2937, 'crossborder': 2938, 'exporting': 2939, 'trained': 2940, 'repair': 2941, 'seizure': 2942, 'clean': 2943, 'bolivian': 2944, 'sure': 2945, 'inspection': 2946, '500000': 2947, 'mauritania': 2948, 'room': 2949, 'technical': 2950, 'bear': 2951, 'compete': 2952, 'angered': 2953, 'uruguay': 2954, 'saakashvili': 2955, 'scale': 2956, 'waiting': 2957, 'concert': 2958, 'addressed': 2959, 'peres': 2960, 'alone': 2961, 'subsistence': 2962, '53': 2963, 'stopping': 2964, 'maintained': 2965, 'christopher': 2966, 'commodity': 2967, 'operate': 2968, 'recognized': 2969, 'blocking': 2970, 'rifle': 2971, '95': 2972, 'offense': 2973, 'williams': 2974, '140': 2975, 'language': 2976, 'comprehensive': 2977, 'surface': 2978, 'band': 2979, 'berlin': 2980, 'hamasled': 2981, 'male': 2982, 'dr': 2983, 'manuel': 2984, 'rejecting': 2985, 'impoverished': 2986, 'check': 2987, 'choose': 2988, 'wrong': 2989, '1988': 2990, 'opium': 2991, 'volunteer': 2992, 'directed': 2993, 'commented': 2994, 'testimony': 2995, 'celebrated': 2996, 'vast': 2997, 'violate': 2998, 'appointment': 2999, 'installed': 3000, 'ivanov': 3001, 'ranch': 3002, 'spill': 3003, 'abandoned': 3004, 'gunbattle': 3005, 'flee': 3006, 'fifa': 3007, 'governing': 3008, 'enforcement': 3009, 'fellow': 3010, 'unveiled': 3011, 'reward': 3012, 'submitted': 3013, 'weak': 3014, 'portauprince': 3015, 'chaos': 3016, 'ring': 3017, 'jackson': 3018, 'turning': 3019, 'smith': 3020, 'underwent': 3021, 'broad': 3022, 'relay': 3023, 'fly': 3024, 'associate': 3025, 'peruvian': 3026, 'factor': 3027, 'adult': 3028, 'carroll': 3029, 'innocent': 3030, 'religion': 3031, 'bar': 3032, 'founded': 3033, 'equal': 3034, 'trust': 3035, 'pace': 3036, 'tough': 3037, 'timetable': 3038, 'capability': 3039, 'residence': 3040, 'machine': 3041, 'disrupted': 3042, 'drew': 3043, 'journal': 3044, 'always': 3045, 'worried': 3046, 'enriched': 3047, 'walked': 3048, 'airliner': 3049, 'wrote': 3050, 'irish': 3051, '85': 3052, 'vulnerable': 3053, 'earned': 3054, 'picked': 3055, 'motivated': 3056, 'hopeful': 3057, 'harsh': 3058, 'eye': 3059, 'ammunition': 3060, 'stamp': 3061, 'pursuing': 3062, 'ayman': 3063, 'disarmament': 3064, 'libyan': 3065, 'irregularity': 3066, 'contribute': 3067, 'gbagbo': 3068, 'branch': 3069, '1979': 3070, 'client': 3071, 'planted': 3072, 'crucial': 3073, 'exploration': 3074, 'tikrit': 3075, 'difficulty': 3076, 'subsequent': 3077, 'fence': 3078, 'weekend': 3079, 'privatization': 3080, 'improvement': 3081, 'extension': 3082, 'drinking': 3083, 'balance': 3084, 'fleet': 3085, 'flooded': 3086, 'soaring': 3087, 'electronic': 3088, 'tanzania': 3089, 'unnamed': 3090, '41': 3091, 'likud': 3092, 'chamber': 3093, 'warns': 3094, 'counted': 3095, 'nature': 3096, 'kind': 3097, 'refusal': 3098, 'plea': 3099, 'tom': 3100, 'atrocity': 3101, 'beyond': 3102, 'faith': 3103, 'srebrenica': 3104, 'surprise': 3105, 'austrian': 3106, 'slowed': 3107, 'overwhelmingly': 3108, 'bulgaria': 3109, 'read': 3110, 'bought': 3111, 'del': 3112, 'modern': 3113, '1967': 3114, 'romania': 3115, 'manager': 3116, 'gerhard': 3117, '1984': 3118, 'mount': 3119, 'alqaidalinked': 3120, 'possession': 3121, 'expanding': 3122, 'inadequate': 3123, 'card': 3124, 'aviation': 3125, 'eating': 3126, 'strengthening': 3127, 'carolina': 3128, 'rubble': 3129, 'conviction': 3130, 'retaliation': 3131, 'bombed': 3132, 'attempting': 3133, 'resolving': 3134, 'us': 3135, 'judicial': 3136, '57': 3137, 'dam': 3138, 'planet': 3139, 'thaksin': 3140, 'wto': 3141, 'correspondent': 3142, 'integration': 3143, 'rallied': 3144, 'obasanjo': 3145, 'county': 3146, 'processing': 3147, 'bangladeshi': 3148, 'nicolas': 3149, 'paying': 3150, 'fbi': 3151, 'sichuan': 3152, 'uniform': 3153, 'argentine': 3154, 'indigenous': 3155, 'fee': 3156, 'formerly': 3157, 'microsoft': 3158, 'musician': 3159, 'multiple': 3160, 'refer': 3161, 'administrative': 3162, 'harm': 3163, 'represent': 3164, 'abkhazia': 3165, 'junichiro': 3166, 'municipal': 3167, 'jack': 3168, 'balkan': 3169, 'pop': 3170, 'slovakia': 3171, 'upset': 3172, 'evacuation': 3173, 'compromise': 3174, 'nepalese': 3175, 'iyad': 3176, '1982': 3177, 'warn': 3178, 'refuge': 3179, 'climbed': 3180, 'artist': 3181, 'clearing': 3182, 'holocaust': 3183, 'himalayan': 3184, 'desire': 3185, 'usbacked': 3186, 'colombo': 3187, 'hitting': 3188, 'trafficker': 3189, 'mixed': 3190, 'roof': 3191, 'attracted': 3192, 'landing': 3193, 'istanbul': 3194, '48': 3195, 'unacceptable': 3196, 'grown': 3197, 'importance': 3198, 'tent': 3199, 'extra': 3200, '1970s': 3201, 'sideline': 3202, 'java': 3203, 'express': 3204, 'publication': 3205, 'broadcasting': 3206, 'principle': 3207, 'underway': 3208, 'hoped': 3209, '1960': 3210, 'hunting': 3211, 'veto': 3212, 'expires': 3213, 'keeping': 3214, 'sun': 3215, 'contained': 3216, 'sex': 3217, 'canal': 3218, 'oneday': 3219, 'beach': 3220, 'formation': 3221, 'assist': 3222, 'dubai': 3223, 'rapid': 3224, 'significantly': 3225, 'duck': 3226, 'lagos': 3227, 'shield': 3228, 'sixnation': 3229, 'lopez': 3230, 'jan': 3231, 'reflect': 3232, 'task': 3233, 'malaria': 3234, 'subsequently': 3235, 'recognition': 3236, 'someone': 3237, 'highlevel': 3238, 'belarusian': 3239, 'consecutive': 3240, 'famous': 3241, 'indication': 3242, 'sometimes': 3243, 'tied': 3244, 'phase': 3245, 'spend': 3246, 'deeply': 3247, 'aljaafari': 3248, 'alberto': 3249, 'lake': 3250, 'degree': 3251, 'forecast': 3252, 'karbala': 3253, 'traveler': 3254, 'revealed': 3255, 'eid': 3256, 'generate': 3257, 'shared': 3258, 'slowdown': 3259, 'la': 3260, 'yugoslavia': 3261, 'album': 3262, 'root': 3263, 'occasion': 3264, 'revive': 3265, 'consequence': 3266, 'emerging': 3267, 'salary': 3268, 'flawed': 3269, 'awarded': 3270, 'venture': 3271, 'hillary': 3272, 'margin': 3273, 'undermine': 3274, 'original': 3275, 'guinea': 3276, 'thanked': 3277, 'object': 3278, 'authorized': 3279, 'balloting': 3280, 'trader': 3281, '1300': 3282, 'brain': 3283, 'responding': 3284, 'aggressive': 3285, 'lahoud': 3286, 'jeanbertrand': 3287, 'missed': 3288, 'kimoon': 3289, 'worse': 3290, 'secular': 3291, 'solana': 3292, 'landmark': 3293, 'incursion': 3294, 'alito': 3295, 'spiritual': 3296, 'rebellion': 3297, 'jesus': 3298, 'fed': 3299, 'mcclellan': 3300, 'livestock': 3301, 'stimulus': 3302, 'swine': 3303, 'arizona': 3304, 'swan': 3305, 'taylor': 3306, 'debris': 3307, 'mounting': 3308, 'operative': 3309, 'whale': 3310, 'rigged': 3311, 'boosted': 3312, 'chosen': 3313, 'powersharing': 3314, 'wolf': 3315, 'anger': 3316, 'involves': 3317, 'soared': 3318, 'stake': 3319, 'millennium': 3320, 'evasion': 3321, 'emerged': 3322, '76': 3323, 'carter': 3324, 'bahrain': 3325, 'oilforfood': 3326, 'colin': 3327, 'focusing': 3328, 'srinagar': 3329, 'gunned': 3330, 'armored': 3331, 'easier': 3332, 'palace': 3333, 'shah': 3334, 'wait': 3335, 'guarantee': 3336, 'display': 3337, 'unprecedented': 3338, 'mourning': 3339, 'strict': 3340, 'aside': 3341, 'dinner': 3342, 'regarding': 3343, 'crack': 3344, 'version': 3345, 'estate': 3346, 'qureia': 3347, 'employ': 3348, 'damaging': 3349, 'mottaki': 3350, 'antonio': 3351, 'add': 3352, 'liberian': 3353, 'maritime': 3354, 'discrimination': 3355, 'miami': 3356, 'bound': 3357, 'condolence': 3358, 'wfp': 3359, 'variety': 3360, 'covered': 3361, 'farming': 3362, 'plagued': 3363, 'representing': 3364, 'codefendant': 3365, 'criticizing': 3366, 'cable': 3367, 'abc': 3368, 'follower': 3369, 'outskirt': 3370, 'recommended': 3371, 'designated': 3372, 'maximum': 3373, '18th': 3374, 'succeeded': 3375, 'inauguration': 3376, 'cocaine': 3377, 'unification': 3378, 'peshawar': 3379, 'triggering': 3380, 'algeria': 3381, 'intensified': 3382, 'orthodox': 3383, 'selected': 3384, 'baseball': 3385, 'hungary': 3386, 'outlawed': 3387, 'coverage': 3388, 'elaborate': 3389, '42': 3390, 'physical': 3391, 'specie': 3392, 'quetta': 3393, 'tribesman': 3394, 'sean': 3395, 'married': 3396, 'marriage': 3397, 'belgrade': 3398, 'shopping': 3399, 'djibouti': 3400, 'abortion': 3401, 'rushed': 3402, 'tragedy': 3403, 'adviser': 3404, 'narrow': 3405, 'comply': 3406, 'stranded': 3407, 'bbc': 3408, 'platform': 3409, 'arabic': 3410, 'unmanned': 3411, 'dropping': 3412, 'fleeing': 3413, 'code': 3414, 'nablus': 3415, 'percentage': 3416, 'flown': 3417, 'vital': 3418, 'marred': 3419, 'dissolved': 3420, 'mineral': 3421, 'whole': 3422, 'cambodian': 3423, 'governmentbacked': 3424, '160': 3425, 'clothing': 3426, 'challenger': 3427, 'militiaman': 3428, 'alsadr': 3429, 'metal': 3430, 'stabilize': 3431, 'lithuania': 3432, 'conversation': 3433, 'cape': 3434, '65': 3435, 'objection': 3436, 'fan': 3437, 'feed': 3438, 'convention': 3439, 'lowest': 3440, 'montenegro': 3441, 'cocoa': 3442, 'shipping': 3443, 'andres': 3444, 'represents': 3445, 'door': 3446, 'rita': 3447, 'flame': 3448, 'harry': 3449, 'writing': 3450, 'symptom': 3451, 'observed': 3452, 'installation': 3453, 'bhutto': 3454, 'restructuring': 3455, 'prompting': 3456, 'reverse': 3457, 'zoellick': 3458, '1500': 3459, 'defending': 3460, 'hindu': 3461, 'onethird': 3462, 'ouster': 3463, 'isolation': 3464, 'multiparty': 3465, 'rank': 3466, 'toxic': 3467, 'requirement': 3468, 'weah': 3469, 'tutsi': 3470, 'emirate': 3471, 'atmosphere': 3472, 'frontier': 3473, 'passage': 3474, 'herald': 3475, 'daniel': 3476, 'recording': 3477, 'twoyear': 3478, 'cache': 3479, 'dc': 3480, 'burden': 3481, 'fever': 3482, 'surged': 3483, 'taipei': 3484, 'fail': 3485, 'approximately': 3486, 'actor': 3487, 'argued': 3488, 'sick': 3489, 'recruit': 3490, 'khamenei': 3491, 'antarctic': 3492, 'recruiting': 3493, 'meat': 3494, 'goose': 3495, 'finish': 3496, 'voiced': 3497, 'everything': 3498, 'overwhelming': 3499, 'attributed': 3500, 'founder': 3501, 'campaigning': 3502, 'threeyear': 3503, 'lose': 3504, 'haniyeh': 3505, 'alongside': 3506, 'benjamin': 3507, 'spring': 3508, '43': 3509, 'renew': 3510, 'maintaining': 3511, 'lavrov': 3512, 'rafah': 3513, 'motive': 3514, 'gesture': 3515, 'scientific': 3516, 'juan': 3517, 'coordinate': 3518, 'mississippi': 3519, 'isolated': 3520, 'sparking': 3521, 'badly': 3522, 'freezing': 3523, 'hear': 3524, 'punish': 3525, '1949': 3526, 'slave': 3527, 'hemisphere': 3528, 'armenian': 3529, 'suspicious': 3530, 'croat': 3531, 'mediterranean': 3532, 'confrontation': 3533, 'anticorruption': 3534, '6000': 3535, 'capable': 3536, 'silence': 3537, 'reading': 3538, 'abdel': 3539, 'alzawahiri': 3540, 'suffer': 3541, 'potentially': 3542, 'reaction': 3543, 'purported': 3544, 'urban': 3545, 'generation': 3546, 'deposit': 3547, 'engine': 3548, 'coordination': 3549, 'deby': 3550, 'oust': 3551, 'threaten': 3552, 'deploy': 3553, 'aftermath': 3554, 'commando': 3555, 'turmoil': 3556, 'chadian': 3557, 'inventory': 3558, 'strengthened': 3559, 'reza': 3560, 'content': 3561, 'noting': 3562, 'feature': 3563, 'businessman': 3564, '59': 3565, 'exiled': 3566, 'pension': 3567, 'violated': 3568, 'vietnamese': 3569, 'museveni': 3570, 'evo': 3571, 'apart': 3572, 'element': 3573, 'blaze': 3574, 'suit': 3575, 'reid': 3576, 'fatal': 3577, 'elect': 3578, 'sovereign': 3579, 'threatens': 3580, 'register': 3581, 'resulting': 3582, 'severely': 3583, 'honduras': 3584, 'yemeni': 3585, 'pollution': 3586, 'conversion': 3587, 'drill': 3588, 'interrogator': 3589, 'cyclone': 3590, 'halted': 3591, 'beef': 3592, 'hare': 3593, 'catch': 3594, 'verdict': 3595, 'monsoon': 3596, 'bolton': 3597, 'lahore': 3598, 'ancient': 3599, 'drawn': 3600, 'lie': 3601, 'jones': 3602, 'gonzales': 3603, 'egg': 3604, 'behalf': 3605, '50000': 3606, 'arrangement': 3607, 'achieve': 3608, 'benin': 3609, 'wrongdoing': 3610, 'obstacle': 3611, 'rene': 3612, 'monk': 3613, 'treat': 3614, 'coach': 3615, 'sahara': 3616, 'lord': 3617, 'tip': 3618, 'rashid': 3619, 'zarqawi': 3620, 'diplomacy': 3621, 'cite': 3622, 'disperse': 3623, 'competing': 3624, 'zapatero': 3625, 'commonwealth': 3626, 'brutal': 3627, 'implemented': 3628, '1974': 3629, 'yasser': 3630, 'committing': 3631, 'intends': 3632, 'god': 3633, 'upsurge': 3634, 'supplier': 3635, 'retailer': 3636, 'blaming': 3637, 'diyala': 3638, 'paktika': 3639, 'onto': 3640, 'garden': 3641, 'absolute': 3642, 'error': 3643, 'weakened': 3644, 'gadhafi': 3645, 'petition': 3646, 'abusing': 3647, 'addressing': 3648, 'tel': 3649, 'heroin': 3650, 'carbon': 3651, 'shanghai': 3652, 'fails': 3653, 'airspace': 3654, 'wreckage': 3655, 'felipe': 3656, 'horn': 3657, 'balad': 3658, 'propaganda': 3659, 'regularly': 3660, 'declare': 3661, 'counting': 3662, 'airplane': 3663, 'vaccination': 3664, 'contingent': 3665, 'ticket': 3666, 'theater': 3667, 'shwe': 3668, 'covering': 3669, 'sydney': 3670, 'extradited': 3671, 'laid': 3672, 'toppled': 3673, 'larijani': 3674, 'confiscated': 3675, '46': 3676, 'outstanding': 3677, 'overcome': 3678, 'surplus': 3679, 'melbourne': 3680, 'mentioned': 3681, 'longrunning': 3682, 'particular': 3683, 'karen': 3684, 'referring': 3685, 'cultural': 3686, 'greenspan': 3687, 'regulator': 3688, 'everyone': 3689, 'user': 3690, 'adam': 3691, 'acted': 3692, 'paraguay': 3693, 'maliki': 3694, '39': 3695, 'file': 3696, 'disagreement': 3697, 'customer': 3698, 'dry': 3699, 'pick': 3700, '130': 3701, 'protocol': 3702, 'luxury': 3703, 'thanksgiving': 3704, 'jumped': 3705, 'reelected': 3706, 'romanian': 3707, 'retail': 3708, 'ford': 3709, 'aden': 3710, 'assured': 3711, 'cattle': 3712, 'lifting': 3713, 'highranking': 3714, 'engage': 3715, 'participant': 3716, 'healthy': 3717, 'diagnosed': 3718, 'understanding': 3719, 'malaysian': 3720, 'prosperous': 3721, 'longstanding': 3722, 'awareness': 3723, 'regard': 3724, 'ballistic': 3725, 'direction': 3726, '11th': 3727, 'ossetia': 3728, 'brigadier': 3729, 'specifically': 3730, 'sweep': 3731, 'restoring': 3732, 'seize': 3733, 'transmission': 3734, 'gather': 3735, 'notorious': 3736, 'founding': 3737, 'peacefully': 3738, 'herat': 3739, 'worshipper': 3740, 'guest': 3741, 'refuse': 3742, 'basque': 3743, 'classified': 3744, 'granting': 3745, 'tear': 3746, '1976': 3747, 'shareholder': 3748, 'davis': 3749, 'online': 3750, 'broadcaster': 3751, 'argument': 3752, 'bond': 3753, 'height': 3754, 'hampered': 3755, 'solar': 3756, 'beneath': 3757, 'kabila': 3758, 'ignored': 3759, 'dumped': 3760, 'oneyear': 3761, 'luxembourg': 3762, 'laureate': 3763, 'inacio': 3764, 'lula': 3765, 'renounce': 3766, '58': 3767, 'tariff': 3768, 'category': 3769, 'except': 3770, 'organizing': 3771, 'deteriorating': 3772, 'aviv': 3773, 'scotland': 3774, 'pain': 3775, 'abused': 3776, 'shadow': 3777, 'nongovernmental': 3778, 'pardon': 3779, 'quick': 3780, 'dramatically': 3781, 'partial': 3782, 'slain': 3783, 'mourner': 3784, 'easing': 3785, 'trend': 3786, 'assassinated': 3787, 'calderon': 3788, 'virginia': 3789, 'transporting': 3790, 'asif': 3791, 'birthday': 3792, 'attached': 3793, 'dominican': 3794, 'participating': 3795, 'regret': 3796, 'tribe': 3797, 'influenza': 3798, 'escalating': 3799, 'hailed': 3800, 'kuchma': 3801, 'internationally': 3802, 'method': 3803, 'archbishop': 3804, 'appoint': 3805, 'anderson': 3806, 'provisional': 3807, 'distance': 3808, 'challenged': 3809, 'kilogram': 3810, 'extremism': 3811, 'something': 3812, 'aware': 3813, 'fueled': 3814, 'recalled': 3815, 'actually': 3816, 'behavior': 3817, 'exposed': 3818, 'reopen': 3819, 'kidnap': 3820, 'culled': 3821, 'kevin': 3822, 'hightech': 3823, 'launcher': 3824, 'ramirez': 3825, 'household': 3826, 'admiral': 3827, 'dependence': 3828, '15000': 3829, 'notice': 3830, 'liberal': 3831, 'buying': 3832, 'manila': 3833, 'asean': 3834, 'dismantle': 3835, 'orakzai': 3836, 'greatest': 3837, 'mehlis': 3838, 'listed': 3839, 'sharing': 3840, 'smoking': 3841, 'alan': 3842, 'handled': 3843, 'overthrew': 3844, 'prove': 3845, 'pound': 3846, 'evacuate': 3847, 'conclusion': 3848, 'recognizes': 3849, 'postelection': 3850, 'ratified': 3851, 'smuggler': 3852, '07may': 3853, 'losing': 3854, 'searched': 3855, 'fort': 3856, 'expire': 3857, 'master': 3858, 'shuibian': 3859, 'imposing': 3860, 'samarra': 3861, '56': 3862, 'enrich': 3863, 'friendly': 3864, 'implementation': 3865, 'fewer': 3866, 'purchased': 3867, 'dujail': 3868, 'shore': 3869, 'establishment': 3870, 'murdered': 3871, 'wilma': 3872, 'rocketpropelled': 3873, 'filled': 3874, 'monthlong': 3875, 'delaying': 3876, 'moqtada': 3877, 'treating': 3878, 'sabotage': 3879, 'kyrgyz': 3880, 'negotiating': 3881, 'chanted': 3882, 'luiz': 3883, 'signature': 3884, 'tomb': 3885, 'baidoa': 3886, 'establishing': 3887, 'steady': 3888, 'coffee': 3889, 'laurent': 3890, 'decree': 3891, 'conflicting': 3892, 'arroyo': 3893, 'expressing': 3894, 'exist': 3895, 'topic': 3896, 'lab': 3897, 'slaughtered': 3898, 'properly': 3899, 'ranking': 3900, 'weaken': 3901, 'businessmen': 3902, 'expelled': 3903, 'suggestion': 3904, 'fiveday': 3905, 'academy': 3906, 'turk': 3907, 'stepping': 3908, 'stephen': 3909, '1962': 3910, 'slovenia': 3911, '15th': 3912, 'firefight': 3913, 'implicated': 3914, 'rio': 3915, 'bullet': 3916, 'spark': 3917, 'assess': 3918, '51': 3919, 'hijacking': 3920, '60th': 3921, 'prepares': 3922, 'logistical': 3923, 'londonbased': 3924, 'mil': 3925, 'arcega': 3926, 'passport': 3927, 'pharmaceutical': 3928, 'annexed': 3929, 'solid': 3930, 'waste': 3931, 'scheffer': 3932, 'expense': 3933, 'houston': 3934, 'bangkok': 3935, 'correa': 3936, 'footage': 3937, 'beaten': 3938, 'interfax': 3939, 'warsaw': 3940, 'villepin': 3941, 'cancel': 3942, 'atlanta': 3943, 'wealthy': 3944, 'bloomberg': 3945, 'surveyed': 3946, 'dressed': 3947, 'yousuf': 3948, 'chair': 3949, 'equality': 3950, 'kid': 3951, '1200': 3952, 'resumption': 3953, 'predominantly': 3954, 'promising': 3955, 'sister': 3956, 'staffer': 3957, 'marburg': 3958, 'jim': 3959, 'rightwing': 3960, 'takeover': 3961, 'gedi': 3962, 'answer': 3963, 'carriles': 3964, 'guangdong': 3965, 'stationed': 3966, 'flock': 3967, 'appealing': 3968, 'disrupting': 3969, 'gradually': 3970, 'clinic': 3971, 'sharif': 3972, 'asiapacific': 3973, 'zuma': 3974, 'negroponte': 3975, 'lao': 3976, 'alshabab': 3977, 'boom': 3978, 'sealed': 3979, 'gunships': 3980, 'condemning': 3981, 'tiny': 3982, 'weight': 3983, 'mention': 3984, 'geological': 3985, 'deemed': 3986, 'simply': 3987, 'objective': 3988, 'eighth': 3989, 'bolster': 3990, 'approached': 3991, 'fraudulent': 3992, 'chain': 3993, 'chose': 3994, 'unanimously': 3995, 'rammed': 3996, 'ioc': 3997, 'implementing': 3998, 'none': 3999, '1973': 4000, 'software': 4001, 'diversify': 4002, 'restricted': 4003, 'rioting': 4004, '12000': 4005, 'transaction': 4006, 'heat': 4007, 'ownership': 4008, 'depend': 4009, 'structural': 4010, 'quiet': 4011, 'recovering': 4012, 'temple': 4013, 'dedicated': 4014, 'interference': 4015, 'divide': 4016, 'depression': 4017, 'manouchehr': 4018, 'thanks': 4019, 'sacrifice': 4020, 'mediate': 4021, 'screen': 4022, 'saving': 4023, 'pair': 4024, 'noconfidence': 4025, 'akayev': 4026, 'sierra': 4027, 'leone': 4028, 'mastermind': 4029, 'biden': 4030, 'accompanied': 4031, 'expression': 4032, 'example': 4033, 'posed': 4034, 'happy': 4035, 'love': 4036, 'midnight': 4037, 'edition': 4038, 'circumstance': 4039, '150000': 4040, 'kaczynski': 4041, 'kuwaiti': 4042, 'inc': 4043, '10th': 4044, 'slum': 4045, 'adequate': 4046, '1986': 4047, 'component': 4048, 'observance': 4049, 'consideration': 4050, 'francisco': 4051, 'feeling': 4052, 'refining': 4053, 'amman': 4054, 'irna': 4055, 'greenhouse': 4056, 'judiciary': 4057, 'controversy': 4058, 'medication': 4059, 'khaled': 4060, 'shaukat': 4061, '110': 4062, 'accidentally': 4063, 'suspending': 4064, 'breaking': 4065, 'yesterday': 4066, 'bit': 4067, 'predict': 4068, 'andrew': 4069, 'li': 4070, 'apologized': 4071, 'drafting': 4072, 'electrical': 4073, 'smoke': 4074, 'routine': 4075, 'automaker': 4076, 'else': 4077, 'origin': 4078, 'sexually': 4079, 'resuming': 4080, 'destination': 4081, '1980': 4082, 'firefighter': 4083, 'rafael': 4084, 'gul': 4085, 'predecessor': 4086, 'tactic': 4087, 'sadr': 4088, 'cope': 4089, 'pushing': 4090, 'eat': 4091, '70000': 4092, '170': 4093, 'stolen': 4094, 'homemade': 4095, 'entrance': 4096, 'steel': 4097, 'alanbar': 4098, 'alltime': 4099, 'gilani': 4100, 'eliminate': 4101, 'substantially': 4102, 'mutharika': 4103, 'baby': 4104, '07jun': 4105, 'highprofile': 4106, 'reunification': 4107, 'hanoi': 4108, 'awaiting': 4109, 'koran': 4110, 'enacted': 4111, 'karadzic': 4112, 'traditionally': 4113, 'actress': 4114, 'monthly': 4115, 'lasted': 4116, 'pending': 4117, 'guideline': 4118, 'posada': 4119, 'frozen': 4120, 'zambia': 4121, 'reaffirmed': 4122, 'spin': 4123, '47': 4124, 'enjoy': 4125, 'younger': 4126, 'gaining': 4127, 'bengal': 4128, 'electric': 4129, 'panda': 4130, 'mccormack': 4131, 'trillion': 4132, 'true': 4133, 'veterinary': 4134, 'dismiss': 4135, 'intercepted': 4136, 'elephant': 4137, 'ranked': 4138, 'professor': 4139, 'apec': 4140, 'apply': 4141, 'tense': 4142, 'spacecraft': 4143, '14000': 4144, 'railway': 4145, '900': 4146, 'mwai': 4147, 'detailed': 4148, 'tally': 4149, 'jill': 4150, 'cooperating': 4151, 'assessment': 4152, 'forest': 4153, 'longrange': 4154, 'battled': 4155, 'manufactured': 4156, 'briefing': 4157, 'duma': 4158, 'spotted': 4159, 'carol': 4160, 'landfall': 4161, 'learned': 4162, 'connected': 4163, 'emperor': 4164, 'symbol': 4165, 'rig': 4166, 'effectively': 4167, 'weeklong': 4168, 'imam': 4169, 'sisco': 4170, 'destabilize': 4171, 'narrowly': 4172, 'interpreter': 4173, 'auction': 4174, 'maintains': 4175, 'gotovina': 4176, '1960s': 4177, 'acquisition': 4178, 'instrument': 4179, 'rely': 4180, 'describes': 4181, 'design': 4182, 'bernard': 4183, 'sailor': 4184, 'intervention': 4185, 'exhibition': 4186, 'captive': 4187, 'interfering': 4188, 'signal': 4189, 'antisyrian': 4190, 'substance': 4191, 'cardinal': 4192, 'bogota': 4193, 'bethlehem': 4194, 'treason': 4195, 'samuel': 4196, 'dominant': 4197, 'younis': 4198, 'attracting': 4199, 'livelihood': 4200, 'transparency': 4201, 'candidacy': 4202, 'lot': 4203, 'essential': 4204, 'represented': 4205, 'drilling': 4206, 'cameroon': 4207, 'verified': 4208, 'famine': 4209, 'application': 4210, 'decreased': 4211, 'publishing': 4212, 'ben': 4213, 'jersey': 4214, 'arresting': 4215, 'punishment': 4216, 'optimistic': 4217, 'plastic': 4218, 'tore': 4219, 'proper': 4220, 'khyber': 4221, 'multinational': 4222, 'horse': 4223, 'mitchell': 4224, 'wen': 4225, 'downtown': 4226, 'welfare': 4227, 'progressive': 4228, 'tobacco': 4229, 'blown': 4230, 'exit': 4231, 'remnant': 4232, 'entity': 4233, 'abuja': 4234, 'myanmar': 4235, 'alleging': 4236, '72': 4237, '1987': 4238, 'wish': 4239, 'consultation': 4240, 'johannesburg': 4241, 'volcano': 4242, 'gabon': 4243, 'unlikely': 4244, 'copper': 4245, 'jeddah': 4246, 'hoop': 4247, 'bag': 4248, 'celebrating': 4249, 'basketball': 4250, 'belgian': 4251, 'steadily': 4252, 'airbus': 4253, 'outrage': 4254, 'rightist': 4255, 'epidemic': 4256, 'minibus': 4257, 'margaret': 4258, 'archipelago': 4259, 'physician': 4260, 'bystander': 4261, 'prowestern': 4262, 'unilateral': 4263, 'dominique': 4264, 'khin': 4265, 'lady': 4266, 'revised': 4267, 'unfair': 4268, 'laborer': 4269, 'highlight': 4270, 'eliminated': 4271, 'watched': 4272, 'wildlife': 4273, 'releasing': 4274, '800000': 4275, 'santiago': 4276, 'model': 4277, 'fact': 4278, 'massachusetts': 4279, 'observe': 4280, 'mutate': 4281, 'outpost': 4282, 'drink': 4283, 'blue': 4284, 'akbar': 4285, 'fourday': 4286, 'riyadh': 4287, 'oman': 4288, 'xvi': 4289, 'administrator': 4290, 'undersecretary': 4291, 'semiautonomous': 4292, 'liter': 4293, 'miller': 4294, '1975': 4295, 'lethal': 4296, 'repression': 4297, 'succession': 4298, 'derail': 4299, 'sixyear': 4300, 'banner': 4301, 'enterprise': 4302, 'quarterfinal': 4303, 'wood': 4304, 'flash': 4305, 'macau': 4306, 'bakiyev': 4307, 'levee': 4308, 'wicket': 4309, 'tung': 4310, 'iowa': 4311, 'spirit': 4312, 'twoweek': 4313, 'desert': 4314, 'hectare': 4315, 'washed': 4316, 'kidney': 4317, 'abductor': 4318, 'pradesh': 4319, 'precaution': 4320, 'postwar': 4321, 'ambitious': 4322, 'macroeconomic': 4323, 'factional': 4324, '40000': 4325, 'integrity': 4326, 'aging': 4327, 'kamal': 4328, 'diabetes': 4329, 'pearson': 4330, 'achievement': 4331, 'athlete': 4332, 'existence': 4333, 'skill': 4334, '61': 4335, 'jericho': 4336, 'sky': 4337, 'autonomous': 4338, 'descent': 4339, 'arsenal': 4340, 'tajikistan': 4341, 'hair': 4342, 'manufacturer': 4343, 'obtain': 4344, 'columbus': 4345, 'restart': 4346, 'planting': 4347, 'extreme': 4348, 'yusuf': 4349, 'consists': 4350, 'ashore': 4351, '69': 4352, 'fouryear': 4353, '49': 4354, 'writer': 4355, 'burkina': 4356, 'faso': 4357, 'contaminated': 4358, 'ordering': 4359, 'exact': 4360, 'poisoned': 4361, 'ninth': 4362, 'settle': 4363, 'downhill': 4364, 'cafe': 4365, 'crush': 4366, 'estonia': 4367, 'characterized': 4368, 'addis': 4369, 'explain': 4370, 'commit': 4371, 'retain': 4372, '88': 4373, 'postpone': 4374, 'plus': 4375, 'simon': 4376, 'federalism': 4377, 'quantity': 4378, 'overseeing': 4379, 'phosphate': 4380, 'pray': 4381, 'yield': 4382, 'mbeki': 4383, 'eln': 4384, 'struggled': 4385, 'afar': 4386, 'pulling': 4387, 'emile': 4388, 'drawing': 4389, 'bernanke': 4390, 'asefi': 4391, 'photographer': 4392, '105': 4393, 'submit': 4394, 'protaleban': 4395, 'parisbased': 4396, 'consumption': 4397, 'ceded': 4398, 'ottoman': 4399, '44': 4400, 'contested': 4401, 'harbor': 4402, 'mouth': 4403, 'fill': 4404, 'quell': 4405, 'javier': 4406, '66': 4407, 'barre': 4408, 'populated': 4409, 'donated': 4410, 'incoming': 4411, 'shift': 4412, '350': 4413, 'encountered': 4414, 'smuggled': 4415, 'laundering': 4416, 'employed': 4417, 'bp': 4418, 'warhead': 4419, 'outlet': 4420, 'najaf': 4421, 'spaniard': 4422, 'westerner': 4423, 'praise': 4424, 'rebounded': 4425, 'operational': 4426, '17000': 4427, 'collect': 4428, 'feel': 4429, 'attract': 4430, 'rangel': 4431, 'invitation': 4432, 'locked': 4433, 'libby': 4434, 'dmitri': 4435, 'argue': 4436, 'legitimate': 4437, 'consensus': 4438, 'bribe': 4439, 'encouraging': 4440, 'minsk': 4441, 'rioter': 4442, 'raza': 4443, 'cleveland': 4444, 'albashir': 4445, 'apology': 4446, 'cholera': 4447, 'stance': 4448, 'authorizing': 4449, 'brokered': 4450, 'liechtenstein': 4451, 'crow': 4452, '1985': 4453, 'audio': 4454, 'dayton': 4455, 'warship': 4456, 'isaf': 4457, 'learn': 4458, 'mozambique': 4459, 'telling': 4460, 'poppy': 4461, 'opposing': 4462, '2500': 4463, 'upheld': 4464, 'via': 4465, 'cubic': 4466, 'incumbent': 4467, 'belt': 4468, 'roddick': 4469, 'maintenance': 4470, 'informal': 4471, 'kyoto': 4472, 'gordon': 4473, 'sinai': 4474, 'berlusconi': 4475, 'captivity': 4476, 'bachelet': 4477, 'obrador': 4478, 'shepherd': 4479, 'throne': 4480, 'illinois': 4481, 'namibia': 4482, 'mike': 4483, 'peretz': 4484, 'kadima': 4485, 'besigye': 4486, 'pounded': 4487, 'residential': 4488, 'concrete': 4489, 'cigarette': 4490, 'invest': 4491, 'monitored': 4492, 'protectorate': 4493, 'timber': 4494, 'secured': 4495, 'corrupt': 4496, 'prorussian': 4497, 'coffin': 4498, 'brian': 4499, 'narrates': 4500, 'slowing': 4501, 'sentiment': 4502, 'wartime': 4503, 'owns': 4504, 'sporadic': 4505, 'assume': 4506, 'suddenly': 4507, 'bulk': 4508, 'musical': 4509, 'performing': 4510, 'obligation': 4511, 'defacto': 4512, 'chris': 4513, 'peak': 4514, 'maryland': 4515, 'patrolling': 4516, 'osman': 4517, 'watchdog': 4518, 'adopt': 4519, 'sponsor': 4520, 'marxist': 4521, '1983': 4522, 'drowned': 4523, 'tulkarem': 4524, 'aggression': 4525, 'joe': 4526, 'removing': 4527, 'rebelheld': 4528, 'jamaica': 4529, 'willingness': 4530, 'gift': 4531, 'ellen': 4532, 'overturned': 4533, 'silver': 4534, 'sharm': 4535, 'albania': 4536, 'specify': 4537, 'masked': 4538, 'congratulated': 4539, 'ababa': 4540, 'restraint': 4541, 'framework': 4542, 'oath': 4543, 'camera': 4544, 'sayyaf': 4545, 'floor': 4546, '1945': 4547, 'rail': 4548, 'dominate': 4549, 'sponsored': 4550, 'ouattara': 4551, 'challenging': 4552, 'armenia': 4553, 'ricardo': 4554, 'adjourned': 4555, 'ingredient': 4556, 'bitter': 4557, 'chaudhry': 4558, 'defuse': 4559, 'mofaz': 4560, 'nangarhar': 4561, 'table': 4562, 'advised': 4563, 'box': 4564, '73': 4565, '63': 4566, 'centrifuge': 4567, '180000': 4568, 'guardian': 4569, 'frank': 4570, 'kinshasa': 4571, 'janeiro': 4572, 'clan': 4573, 'roh': 4574, 'prevention': 4575, 'hosted': 4576, 'suffers': 4577, 'gm': 4578, 'elderly': 4579, 'approaching': 4580, 'confederation': 4581, 'infighting': 4582, 'studying': 4583, 'clothes': 4584, 'phoenix': 4585, 'polar': 4586, 'negative': 4587, 'tandja': 4588, 'leonid': 4589, 'convert': 4590, 'ball': 4591, 'landmine': 4592, 'spurred': 4593, 'moussa': 4594, 'page': 4595, 'container': 4596, 'aso': 4597, 'restrict': 4598, 'sense': 4599, 'pool': 4600, 'concession': 4601, 'financing': 4602, 'dance': 4603, 'hanging': 4604, 'siege': 4605, 'proof': 4606, '78': 4607, 'revolt': 4608, 'lying': 4609, 'cotton': 4610, 'sustain': 4611, 'statistic': 4612, 'unified': 4613, 'administered': 4614, 'bowler': 4615, 'simple': 4616, 'athens': 4617, 'confessed': 4618, 'condemns': 4619, 'jump': 4620, 'sufficient': 4621, 'arctic': 4622, 'stretch': 4623, 'slaughter': 4624, 'piracy': 4625, 'participated': 4626, 'faster': 4627, 'tal': 4628, 'intestinal': 4629, 'tortured': 4630, 'dictatorship': 4631, 'grain': 4632, 'transmitted': 4633, 'confident': 4634, 'extradite': 4635, 'widow': 4636, 'janjaweed': 4637, 'popularity': 4638, '3500': 4639, 'jurisdiction': 4640, 'companion': 4641, 'tail': 4642, 'inning': 4643, 'subsidiary': 4644, 'supposed': 4645, 'seychelles': 4646, 'santa': 4647, 'meantime': 4648, 'cat': 4649, 'breach': 4650, 'sao': 4651, 'receipt': 4652, 'relies': 4653, 'oversee': 4654, 'monopoly': 4655, 'hingis': 4656, 'favored': 4657, 'riding': 4658, 'junior': 4659, '13th': 4660, 'knowledge': 4661, 'selection': 4662, '1981': 4663, 'archaeologist': 4664, 'basayev': 4665, 'collected': 4666, 'parked': 4667, 'reference': 4668, 'raw': 4669, 'contraction': 4670, '54': 4671, 'mongolia': 4672, 'registration': 4673, 'mousavi': 4674, 'representation': 4675, 'chanting': 4676, 'wilson': 4677, 'mandela': 4678, 'hungarian': 4679, 'malta': 4680, 'cow': 4681, 'egeland': 4682, 'describe': 4683, 'sumatra': 4684, 'dutyfree': 4685, 'spare': 4686, 'punished': 4687, 'waging': 4688, 'shimon': 4689, 'ski': 4690, 'dying': 4691, 'separated': 4692, 'landlocked': 4693, 'sitting': 4694, 'copy': 4695, 'criticize': 4696, 'reveal': 4697, 'breast': 4698, 'doubled': 4699, 'wheat': 4700, 'condemnation': 4701, 'baton': 4702, 'managing': 4703, '06jan': 4704, 'advancing': 4705, 'appropriate': 4706, 'slammed': 4707, 'battered': 4708, 'eventual': 4709, 'oldest': 4710, 'stemming': 4711, 'billionaire': 4712, 'pointed': 4713, 'bulgarian': 4714, 'palestine': 4715, 'boundary': 4716, 'invaded': 4717, 'roger': 4718, 'accounting': 4719, 'ronald': 4720, 'mind': 4721, 'crown': 4722, 'hurled': 4723, 'lunar': 4724, 'excessive': 4725, 'examine': 4726, 'catastrophe': 4727, 'lieberman': 4728, 'departure': 4729, 'mideast': 4730, 'capsized': 4731, 'dhaka': 4732, 'remember': 4733, 'ratify': 4734, 'reviewing': 4735, 'contains': 4736, 'pledging': 4737, 'johnson': 4738, '1600': 4739, 'askar': 4740, 'harmful': 4741, 'orange': 4742, 'partly': 4743, '25yearold': 4744, 'barroso': 4745, 'shelling': 4746, 'stealing': 4747, 'promotion': 4748, 'throwing': 4749, 'dolphin': 4750, 'ailing': 4751, 'bolivar': 4752, 'yorkbased': 4753, 'considerable': 4754, 'character': 4755, 'sergeant': 4756, 'replacement': 4757, 'cancellation': 4758, 'refusing': 4759, 'belong': 4760, 'eased': 4761, 'gloria': 4762, 'dismissal': 4763, 'latortue': 4764, 'baltic': 4765, 'enforce': 4766, 'brand': 4767, '400000': 4768, 'tycoon': 4769, 'galaxy': 4770, 'repeat': 4771, 'iron': 4772, 'gunfight': 4773, 'coca': 4774, 'nonprofit': 4775, 'summoned': 4776, 'hub': 4777, 'farah': 4778, 'khalid': 4779, 'ranging': 4780, 'breakthrough': 4781, 'antidrug': 4782, 'fixed': 4783, 'nevertheless': 4784, 'independently': 4785, 'twin': 4786, 'jaap': 4787, 'agassi': 4788, 'bagram': 4789, 'filmmaker': 4790, 'unique': 4791, 'battery': 4792, 'zebari': 4793, 'rotating': 4794, 'poorly': 4795, 'roadblock': 4796, 'coastline': 4797, 'generated': 4798, 'charging': 4799, 'sanctuary': 4800, 'minimum': 4801, '180': 4802, 'flowing': 4803, 'placing': 4804, 'truth': 4805, 'sanitation': 4806, 'maneuver': 4807, 'outcome': 4808, 'benchmark': 4809, 'olusegun': 4810, 'teen': 4811, 'distributing': 4812, 'eritrean': 4813, '10year': 4814, 'delivering': 4815, 'shook': 4816, 'humantohuman': 4817, 'unicef': 4818, 'colonial': 4819, 'mladic': 4820, 'triple': 4821, 'dna': 4822, 'rafsanjani': 4823, 'observing': 4824, 'hidden': 4825, 'auto': 4826, 'install': 4827, 'seal': 4828, 'acquitted': 4829, 'servant': 4830, 'marino': 4831, 'thus': 4832, 'instance': 4833, 'victor': 4834, 'fame': 4835, 'topple': 4836, 'facebook': 4837, 'boldak': 4838, 'expensive': 4839, 'expectation': 4840, 'dump': 4841, 'alislam': 4842, 'heightened': 4843, 'slight': 4844, 'stood': 4845, 'mwanawasa': 4846, 'governance': 4847, 'shock': 4848, 'referral': 4849, 'technique': 4850, 'gore': 4851, 'yekhanurov': 4852, 'kagame': 4853, 'logistics': 4854, 'yonhap': 4855, 'enriching': 4856, '1947': 4857, 'johnsonsirleaf': 4858, 'metric': 4859, 'multilateral': 4860, 'fertilizer': 4861, 'supplying': 4862, 'teach': 4863, 'dow': 4864, 'mir': 4865, 'hossein': 4866, 'poison': 4867, 'roche': 4868, 'expired': 4869, 'allege': 4870, 'tighten': 4871, 'homeowner': 4872, 'monument': 4873, 'lasting': 4874, 'coordinator': 4875, 'burst': 4876, 'demonstrate': 4877, 'fit': 4878, 'courtroom': 4879, 'casting': 4880, 'amir': 4881, 'jaffna': 4882, 'twitter': 4883, 'empty': 4884, 'reinstated': 4885, 'employer': 4886, 'stayed': 4887, 'loaded': 4888, 'lhasa': 4889, 'disarming': 4890, 'normally': 4891, 'strait': 4892, 'taiwanese': 4893, 'persuade': 4894, 'bloodshed': 4895, 'runway': 4896, 'lra': 4897, 'universal': 4898, 'vision': 4899, 'foiled': 4900, 'dismantling': 4901, 'proved': 4902, 'unsuccessful': 4903, 'jointly': 4904, '9000': 4905, 'hampering': 4906, 'talking': 4907, 'intel': 4908, 'orbiting': 4909, 'rouge': 4910, '220': 4911, 'cbs': 4912, 'greeting': 4913, 'muzaffarabad': 4914, 'hosting': 4915, 'disruption': 4916, 'touch': 4917, 'handing': 4918, 'hebron': 4919, 'bronze': 4920, 'vacation': 4921, 'surfaced': 4922, 'hijacker': 4923, 'older': 4924, 'supplied': 4925, 'zawahiri': 4926, 'karimov': 4927, 'indirect': 4928, 'mob': 4929, 'devastation': 4930, 'bean': 4931, 'storage': 4932, 'overcrowded': 4933, 'sole': 4934, 'operator': 4935, 'handle': 4936, 'advocacy': 4937, 'guaranteed': 4938, 'portuguese': 4939, 'offset': 4940, 'compact': 4941, 'fragile': 4942, 'kerry': 4943, 'embattled': 4944, 'dispatched': 4945, 'engineering': 4946, 'dan': 4947, 'intervene': 4948, 'deadlock': 4949, 'buildup': 4950, 'idriss': 4951, 'hybrid': 4952, 'tougher': 4953, 'exposure': 4954, 'persistent': 4955, 'medic': 4956, 'itartass': 4957, 'slobodan': 4958, 'bahamas': 4959, 'alleges': 4960, 'rehabilitation': 4961, 'celsius': 4962, 'afford': 4963, '15yearold': 4964, 'wrapped': 4965, 'bicycle': 4966, 'medalist': 4967, 'premier': 4968, 'alpha': 4969, 'mistakenly': 4970, 'chest': 4971, 'load': 4972, 'controlling': 4973, 'personally': 4974, 'bishop': 4975, 'yoweri': 4976, '12th': 4977, 'era': 4978, 'lowlevel': 4979, 'theft': 4980, 'siad': 4981, 'inspect': 4982, 'saad': 4983, 'kicked': 4984, 'motorcade': 4985, 'antiwar': 4986, 'absence': 4987, 'negotiated': 4988, 'suggests': 4989, 'critically': 4990, 'commemoration': 4991, 'faithful': 4992, 'hometown': 4993, 'fruit': 4994, 'machinery': 4995, 'anything': 4996, 'safeguard': 4997, 'queen': 4998, 'federer': 4999, 'nicholas': 5000, 'hubble': 5001, 'uncertain': 5002, 'row': 5003, 'beslan': 5004, 'wellknown': 5005, 'puerto': 5006, 'jenin': 5007, 'sam': 5008, '62': 5009, 'coincide': 5010, 'workforce': 5011, 'ad': 5012, 'beast': 5013, 'nld': 5014, 'odds': 5015, 'entirely': 5016, 'contest': 5017, 'greeted': 5018, 'author': 5019, '84': 5020, 'boris': 5021, 'tadic': 5022, 'strongest': 5023, '2020': 5024, 'fined': 5025, 'goodwill': 5026, 'endangered': 5027, 'wiped': 5028, 'ruin': 5029, 'productivity': 5030, 'steep': 5031, 'utility': 5032, 'tripoli': 5033, 'thief': 5034, 'operates': 5035, 'preserve': 5036, 'jonathan': 5037, '31yearold': 5038, 'steve': 5039, 'imprisonment': 5040, 'schwarzenegger': 5041, 'chicago': 5042, 'threequarters': 5043, 'uige': 5044, 'affiliated': 5045, 'experiment': 5046, 'suggesting': 5047, 'bankruptcy': 5048, 'preferred': 5049, 'modified': 5050, 'subsaharan': 5051, 'credible': 5052, 'dubbed': 5053, 'exclusive': 5054, 'abdullahi': 5055, 'relocate': 5056, 'coma': 5057, 'bob': 5058, 'musa': 5059, 'reflected': 5060, 'printed': 5061, 'waged': 5062, 'jongil': 5063, 'mortgage': 5064, 'staging': 5065, 'heating': 5066, 'harvest': 5067, 'credibility': 5068, 'prosecute': 5069, 'rocked': 5070, '13000': 5071, 'rounded': 5072, 'undergoing': 5073, 'aiding': 5074, 'honest': 5075, 'wali': 5076, 'stalemate': 5077, 'fastest': 5078, 'gutierrez': 5079, 'fashion': 5080, 'nagin': 5081, 'routinely': 5082, 'fake': 5083, 'moldova': 5084, 'patriot': 5085, 'quite': 5086, 'eliminating': 5087, 'walk': 5088, 'nose': 5089, 'spacewalk': 5090, 'tbilisi': 5091, 'confront': 5092, 'deported': 5093, 'solve': 5094, 'commuter': 5095, 'hot': 5096, 'deportation': 5097, 'contacted': 5098, 'bushehr': 5099, 'bishkek': 5100, 'radar': 5101, 'nour': 5102, 'slick': 5103, 'imbalance': 5104, 'hawk': 5105, 'floodwaters': 5106, 'walmart': 5107, 'yen': 5108, 'mercosur': 5109, 'aquino': 5110, 'undergo': 5111, 'hole': 5112, 'panic': 5113, '67': 5114, 'lunch': 5115, 'screening': 5116, 'academic': 5117, 'flores': 5118, 'augusto': 5119, 'jungle': 5120, 'sixmonth': 5121, 'melinda': 5122, 'spur': 5123, 'glass': 5124, 'tuberculosis': 5125, 'finalized': 5126, 'combatant': 5127, 'initiated': 5128, '1972': 5129, 'accounted': 5130, 'pursuit': 5131, 'mutual': 5132, 'function': 5133, 'audit': 5134, 'escalated': 5135, 'harder': 5136, 'donate': 5137, 'diesel': 5138, 'graf': 5139, 'honoring': 5140, 'tribute': 5141, 'seeded': 5142, 'andy': 5143, 'doping': 5144, 'skilled': 5145, 'anonymity': 5146, 'enjoyed': 5147, 'hardesthit': 5148, '83': 5149, 'extraordinary': 5150, 'specialist': 5151, 'pass': 5152, 'depicting': 5153, 'gross': 5154, 'buyer': 5155, 'performed': 5156, 'compliance': 5157, '1978': 5158, 'regulatory': 5159, 'combination': 5160, 'indiancontrolled': 5161, 'jammu': 5162, 'tool': 5163, 'dignitary': 5164, 'discipline': 5165, 'unarmed': 5166, 'repay': 5167, 'gandhi': 5168, 'barghouti': 5169, 'antiamerican': 5170, 'regained': 5171, 'kasuri': 5172, 'proliferation': 5173, 'authenticity': 5174, 'missionary': 5175, 'defector': 5176, 'liquid': 5177, 'lech': 5178, 'explanation': 5179, 'please': 5180, 'thabo': 5181, 'racism': 5182, 'strasbourg': 5183, 'impossible': 5184, 'cultivation': 5185, 'identification': 5186, 'shoe': 5187, 'smashed': 5188, 'edward': 5189, 'removal': 5190, 'knee': 5191, 'antiterror': 5192, 'shaul': 5193, 'calendar': 5194, 'gerard': 5195, 'viewed': 5196, 'petersburg': 5197, 'taxi': 5198, 'shortfall': 5199, 'benazir': 5200, 'togolese': 5201, 'tin': 5202, 'stiff': 5203, 'botswana': 5204, 'applied': 5205, 'mainstay': 5206, 'co': 5207, 'jiabao': 5208, 'exchanged': 5209, 'blackout': 5210, 'felt': 5211, 'infant': 5212, 'detaining': 5213, 'organize': 5214, 'teaching': 5215, 'backer': 5216, 'cameraman': 5217, 'inform': 5218, 'beheading': 5219, 'habitat': 5220, 'fix': 5221, 'threeweek': 5222, 'stabilization': 5223, 'stole': 5224, 'robust': 5225, 'lengthy': 5226, '30th': 5227, 'beit': 5228, 'accordance': 5229, 'surprised': 5230, 'hatred': 5231, 'privately': 5232, 'warfare': 5233, 'slalom': 5234, 'grab': 5235, 'stockpile': 5236, 'probing': 5237, 'turkmenistan': 5238, 'unspecified': 5239, 'ratification': 5240, 'investigative': 5241, 'pocket': 5242, 'canary': 5243, 'icy': 5244, 'espionage': 5245, 'oilproducing': 5246, 'mill': 5247, 'yulia': 5248, 'biased': 5249, 'conservation': 5250, 'greatly': 5251, 'hid': 5252, 'democratically': 5253, 'kirchner': 5254, 'wimbledon': 5255, '135': 5256, 'update': 5257, 'assassinate': 5258, 'shinawatra': 5259, 'broader': 5260, 'rosneft': 5261, 'plutonium': 5262, 'oecd': 5263, 'uncertainty': 5264, 'journey': 5265, 'looked': 5266, 'chung': 5267, 'fueling': 5268, 'dawn': 5269, '1400': 5270, 'legally': 5271, 'containing': 5272, 'housed': 5273, '1959': 5274, 'disclosed': 5275, 'radovan': 5276, '125': 5277, 'recordhigh': 5278, 'moratorium': 5279, 'whaling': 5280, 'teenage': 5281, 'tolerate': 5282, 'rctv': 5283, 'mustafa': 5284, 'serpent': 5285, 'shoulder': 5286, 'reconnaissance': 5287, 'arabian': 5288, 'serviceman': 5289, 'severed': 5290, 'il': 5291, 'knocked': 5292, 'briton': 5293, 'murdering': 5294, 'consular': 5295, 'urgent': 5296, '02jan': 5297, 'menezes': 5298, 'merge': 5299, 'caucasus': 5300, 'electronics': 5301, 'persecution': 5302, 'pearl': 5303, 'afterwards': 5304, 'ira': 5305, 'louis': 5306, 'driveby': 5307, 'alcohol': 5308, 'rugged': 5309, 'ould': 5310, 'yudhoyono': 5311, '81': 5312, 'cautioned': 5313, 'assurance': 5314, 'core': 5315, 'thrown': 5316, 'xinjiang': 5317, 'fema': 5318, 'ussr': 5319, 'migratory': 5320, 'andean': 5321, 'cheaper': 5322, 'banning': 5323, 'setback': 5324, 'jean': 5325, 'ray': 5326, 'monarch': 5327, 'nasser': 5328, 'chased': 5329, 'promoted': 5330, 'actual': 5331, 'inhabitant': 5332, 'acquired': 5333, 'repeal': 5334, 'caretaker': 5335, 'nicaraguan': 5336, 'ortega': 5337, 'cancun': 5338, 'arguing': 5339, 'pig': 5340, '1948': 5341, 'hollywood': 5342, 'suggest': 5343, 'ushered': 5344, 'antarctica': 5345, 'interpol': 5346, 'zelaya': 5347, 'impeachment': 5348, 'dera': 5349, 'nationalize': 5350, 'saleh': 5351, 'easter': 5352, 'goss': 5353, 'commemorate': 5354, 'chertoff': 5355, 'foreclosure': 5356, 'hero': 5357, 'procession': 5358, 'khalilzad': 5359, 'talat': 5360, 'anwar': 5361, 'ferry': 5362, 'happen': 5363, 'gay': 5364, 'defected': 5365, 'functioning': 5366, 'strife': 5367, 'detlev': 5368, 'disorder': 5369, 'broker': 5370, 'tackle': 5371, 'upgrade': 5372, 'tightened': 5373, '750': 5374, 'permanently': 5375, 'proceed': 5376, 'globe': 5377, 'gunbattles': 5378, 'serf': 5379, 'inflow': 5380, 'corporate': 5381, 'tire': 5382, 'kharrazi': 5383, 'shortterm': 5384, 'hired': 5385, 'inaugurated': 5386, 'choosing': 5387, 'clark': 5388, 'roedlarsen': 5389, 'warm': 5390, '185': 5391, 'colorado': 5392, 'interrupted': 5393, 'kony': 5394, 'reversed': 5395, 'fm': 5396, 'yuri': 5397, 'interamerican': 5398, 'emerge': 5399, 'scottish': 5400, 'latter': 5401, 'attained': 5402, 'ivan': 5403, 'sailing': 5404, 'manner': 5405, 'sends': 5406, 'invested': 5407, 'utc': 5408, 'programming': 5409, 'khmer': 5410, 'cayman': 5411, 'denouncing': 5412, 'imperial': 5413, 'sikh': 5414, 'nervous': 5415, 'competitor': 5416, 'midst': 5417, 'interviewed': 5418, 'dirty': 5419, 'improvised': 5420, 'approving': 5421, 'complain': 5422, 'shoot': 5423, 'dismantled': 5424, 'lastminute': 5425, 'andijan': 5426, 'evil': 5427, 'moammar': 5428, 'safely': 5429, 'protected': 5430, 'detect': 5431, 'restricting': 5432, 'warehouse': 5433, 'pursued': 5434, 'replacing': 5435, 'reliance': 5436, 'completion': 5437, 'exploiting': 5438, 'mismanagement': 5439, 'martial': 5440, 'scrutiny': 5441, 'slavery': 5442, 'venue': 5443, 'curtail': 5444, 'patrick': 5445, 'throat': 5446, '115': 5447, 'acknowledge': 5448, 'notified': 5449, 'efficiency': 5450, '20yearold': 5451, 'occupying': 5452, 'accomplice': 5453, 'separation': 5454, 'pardoned': 5455, 'fao': 5456, 'reiterated': 5457, 'deliberately': 5458, 'laptop': 5459, 'milan': 5460, 'basilica': 5461, 'insulting': 5462, 'oversight': 5463, 'festivity': 5464, 'yearlong': 5465, 'irresponsible': 5466, 'eyadema': 5467, 'chronic': 5468, 'cleaning': 5469, 'enjoys': 5470, 'revenge': 5471, 'ecuadorean': 5472, 'saeb': 5473, 'erekat': 5474, 'amend': 5475, 'turnout': 5476, 'learning': 5477, 'drugrelated': 5478, 'usfunded': 5479, 'quality': 5480, 'disappointed': 5481, 'sandra': 5482, 'oconnor': 5483, 'wedding': 5484, 'moohyun': 5485, '25000': 5486, 'shipped': 5487, 'ultimately': 5488, 'postponement': 5489, 'warring': 5490, 'nikkei': 5491, 'hang': 5492, 'rush': 5493, 'hurting': 5494, 'hardest': 5495, 'cote': 5496, 'rebound': 5497, 'accession': 5498, 'polisario': 5499, 'prayed': 5500, 'advisory': 5501, 'eruption': 5502, 'endured': 5503, 'collision': 5504, 'tower': 5505, '700000': 5506, 'haven': 5507, 'tolerance': 5508, 'text': 5509, 'expulsion': 5510, 'telescope': 5511, 'seizing': 5512, 'changing': 5513, 'regain': 5514, 'somewhat': 5515, 'documentary': 5516, 'viewer': 5517, 'credential': 5518, 'arrives': 5519, 'emancipation': 5520, 'leak': 5521, 'banny': 5522, 'robbery': 5523, 'hayden': 5524, 'experiencing': 5525, 'lender': 5526, 'favorable': 5527, 'jazeera': 5528, 'pressured': 5529, 'nyunt': 5530, 'meal': 5531, 'rainfall': 5532, '94': 5533, 'kostelic': 5534, 'fairly': 5535, 'manufacture': 5536, 'confirms': 5537, 'outage': 5538, 'rejection': 5539, 'retaliated': 5540, 'usa': 5541, 'zimbabwean': 5542, 'shouting': 5543, 'parliamentarian': 5544, '77': 5545, 'beheaded': 5546, 'baath': 5547, 'arbitration': 5548, 'hostility': 5549, 'correct': 5550, 'cousin': 5551, 'ansar': 5552, 'restoration': 5553, 'fernandez': 5554, 'constructed': 5555, 'fluid': 5556, 'betancourt': 5557, 'nearing': 5558, 'handful': 5559, 'midwestern': 5560, 'cleanup': 5561, 'meaning': 5562, 'ratko': 5563, 'timing': 5564, 'knew': 5565, 'clarke': 5566, 'countryside': 5567, 'belonged': 5568, 'inciting': 5569, 'becomes': 5570, 'haditha': 5571, 'madonna': 5572, 'studio': 5573, 'grade': 5574, 'ap': 5575, 'medina': 5576, 'oklahoma': 5577, 'avalanche': 5578, 'translator': 5579, 'adoption': 5580, 'christianity': 5581, 'sheep': 5582, 'lashed': 5583, 'populous': 5584, 'completing': 5585, 'diverse': 5586, 'bounty': 5587, 'appearing': 5588, 'rubber': 5589, '148': 5590, 'swaziland': 5591, 'lindsay': 5592, 'nawaz': 5593, 'nonpermanent': 5594, 'prolonged': 5595, '79': 5596, '98': 5597, 'voluntarily': 5598, 'protestant': 5599, 'respondent': 5600, 'undercover': 5601, 'justified': 5602, 'ox': 5603, 'alternate': 5604, 'interested': 5605, 'kivu': 5606, 'loved': 5607, 'perez': 5608, 'socialism': 5609, 'separating': 5610, 'prosperity': 5611, 'background': 5612, 'automobile': 5613, 'reality': 5614, 'select': 5615, 'qala': 5616, 'pill': 5617, 'nuristan': 5618, 'torrential': 5619, 'abramoff': 5620, 'resurgent': 5621, 'mqm': 5622, 'ashura': 5623, 'apartheid': 5624, 'madoff': 5625, 'benzene': 5626, 'deter': 5627, 'ebola': 5628, 'downward': 5629, 'wishing': 5630, 'virtually': 5631, 'undisclosed': 5632, 'nationalization': 5633, 'ohio': 5634, 'hate': 5635, 'enhance': 5636, 'spector': 5637, 'ereli': 5638, 'capitol': 5639, 'zidane': 5640, 'cheek': 5641, 'handover': 5642, 'haradinaj': 5643, 'saud': 5644, 'barzani': 5645, 'iceland': 5646, 'allen': 5647, 'perform': 5648, 'bottle': 5649, 'banker': 5650, 'concentrated': 5651, 'francois': 5652, 'garcia': 5653, 'whereabouts': 5654, 'courtordered': 5655, 'predicts': 5656, 'dramatic': 5657, 'witnessed': 5658, 'exported': 5659, 'transformed': 5660, 'bloodless': 5661, 'forestry': 5662, 'antijapanese': 5663, 'inspired': 5664, 'acute': 5665, 'respiratory': 5666, 'sniper': 5667, 'misuse': 5668, 'hardhit': 5669, 'doha': 5670, 'endorsement': 5671, 'rampage': 5672, 'highlighting': 5673, 'accepting': 5674, 'agrees': 5675, 'predawn': 5676, 'plain': 5677, 'postal': 5678, 'jalalabad': 5679, '30yearold': 5680, 'intervened': 5681, 'guardsman': 5682, 'forged': 5683, 'resisted': 5684, 'azeri': 5685, 'ponte': 5686, 'suriname': 5687, 'ant': 5688, 'striking': 5689, 'simultaneous': 5690, 'authorize': 5691, 'censorship': 5692, 'memory': 5693, 'outright': 5694, 'shape': 5695, '21st': 5696, 'engaging': 5697, 'toured': 5698, 'qaida': 5699, 'michel': 5700, 'batch': 5701, 'michelle': 5702, 'outdoor': 5703, 'pennsylvania': 5704, '93': 5705, 'remotecontrolled': 5706, 'zenawi': 5707, '77yearold': 5708, 'precondition': 5709, 'weaponsgrade': 5710, 'dated': 5711, 'repressive': 5712, 'extent': 5713, 'gustav': 5714, 'vegetable': 5715, 'announcing': 5716, 'oslo': 5717, '1968': 5718, 'fortified': 5719, 'transported': 5720, 'neck': 5721, 'w': 5722, 'orbit': 5723, 'rough': 5724, 'ate': 5725, '1977': 5726, 'frontrunner': 5727, 'indiana': 5728, 'unfairly': 5729, 'chocolate': 5730, 'originated': 5731, 'shaken': 5732, 'interfere': 5733, 'dark': 5734, 'convince': 5735, 'jemaah': 5736, '202': 5737, 'trace': 5738, 'weakening': 5739, 'pump': 5740, 'mcdonald': 5741, 'parchin': 5742, 'torsello': 5743, 'downer': 5744, 'toy': 5745, '13yearold': 5746, '1971': 5747, 'faure': 5748, 'ailment': 5749, 'vow': 5750, 'dynasty': 5751, 'principality': 5752, 'contentious': 5753, 'excellent': 5754, 'providencia': 5755, 'inappropriate': 5756, 'densely': 5757, 'pm': 5758, 'retiring': 5759, 'really': 5760, 'crawford': 5761, 'stampede': 5762, 'competitive': 5763, 'mastrogiacomo': 5764, 'mediation': 5765, 'diarrhea': 5766, 'judgment': 5767, 'ministerial': 5768, 'nuevo': 5769, 'indefinitely': 5770, 'deploying': 5771, 'mashaal': 5772, 'richards': 5773, 'walking': 5774, 'pressed': 5775, 'mdc': 5776, 'constituency': 5777, 'blowing': 5778, 'continental': 5779, 'punjab': 5780, 'unusual': 5781, '1700': 5782, 'slam': 5783, 'maria': 5784, 'madagascar': 5785, 'transferring': 5786, 'yao': 5787, 'nba': 5788, 'aqsa': 5789, 'celebrates': 5790, '330': 5791, '2014': 5792, 'majorgeneral': 5793, 'classic': 5794, 'swap': 5795, 'granma': 5796, 'insult': 5797, 'bajaur': 5798, 'harcourt': 5799, 'alonso': 5800, 'steinmeier': 5801, 'dual': 5802, 'countryman': 5803, 'describing': 5804, 'slashed': 5805, 'tunisia': 5806, 'wildfire': 5807, 'disappearance': 5808, 'celebrity': 5809, 'declaring': 5810, '119': 5811, 'perceived': 5812, 'scheme': 5813, 'freeing': 5814, 'servicing': 5815, 'harassment': 5816, 'disclose': 5817, 'decisionmaking': 5818, 'deteriorated': 5819, '97': 5820, 'akhtar': 5821, 'zhang': 5822, 'combine': 5823, 'skating': 5824, 'poisoning': 5825, 'harare': 5826, 'syed': 5827, 'modest': 5828, 'soft': 5829, 'unbacked': 5830, 'securing': 5831, 'lending': 5832, 'clue': 5833, 'captor': 5834, 'reconsider': 5835, 'random': 5836, 'spear': 5837, 'merck': 5838, 'luanda': 5839, 'anywhere': 5840, 'toilet': 5841, 'cantoni': 5842, 'assad': 5843, 'nephew': 5844, 'threemonth': 5845, 'secession': 5846, 'scrap': 5847, 'impasse': 5848, 'unresolved': 5849, 'cruel': 5850, 'alfitr': 5851, 'filing': 5852, 'sarajevo': 5853, '78yearold': 5854, 'insufficient': 5855, 'banana': 5856, 'reformist': 5857, 'bermuda': 5858, 'asleep': 5859, 'stomach': 5860, 'manage': 5861, 'rahman': 5862, 'compensate': 5863, 'slated': 5864, 'renegade': 5865, 'le': 5866, 'understand': 5867, 'fundamental': 5868, 'exhausted': 5869, 'style': 5870, 'retreat': 5871, 'verify': 5872, 'maskhadov': 5873, 'penny': 5874, 'exceed': 5875, 'checked': 5876, 'mud': 5877, 'renewable': 5878, 'detonate': 5879, 'absentia': 5880, 'assertion': 5881, 'euphrates': 5882, 'desperate': 5883, 'jong': 5884, 'assisting': 5885, 'mainstream': 5886, 'roll': 5887, 'publish': 5888, 'confidential': 5889, 'moral': 5890, 'levy': 5891, 'memo': 5892, 'deadlocked': 5893, 'defied': 5894, 'grounded': 5895, 'examined': 5896, 'toyota': 5897, 'zoo': 5898, 'cub': 5899, 'distributed': 5900, 'cook': 5901, 'columbia': 5902, 'watching': 5903, 'mohmand': 5904, 'perpetrator': 5905, 'youngest': 5906, 'algiers': 5907, '87': 5908, 'courage': 5909, 'distant': 5910, 'taught': 5911, 'quito': 5912, 'discount': 5913, 'barcelona': 5914, 'pattani': 5915, 'yala': 5916, 'disbanded': 5917, 'undermining': 5918, '89': 5919, 'royalty': 5920, 'bhutan': 5921, 'kite': 5922, 'tiananmen': 5923, 'hide': 5924, 'stan': 5925, 'entertainment': 5926, 'decadelong': 5927, 'accidental': 5928, 'guangzhou': 5929, 'openly': 5930, 'uighur': 5931, 'seeker': 5932, 'slump': 5933, 'bombmaking': 5934, 'heritage': 5935, 'mall': 5936, 'stream': 5937, 'soul': 5938, 'reacted': 5939, 'namibian': 5940, 'chinook': 5941, 'disgraced': 5942, 'ethic': 5943, 'harper': 5944, 'rican': 5945, 'ritual': 5946, 'burial': 5947, 'transparent': 5948, 'yuan': 5949, 'slovak': 5950, 'harbin': 5951, 'involve': 5952, 'qualified': 5953, 'oxfam': 5954, 'beta': 5955, 'paulo': 5956, 'testfired': 5957, 'livni': 5958, 'projected': 5959, 'macedonian': 5960, 'tortoise': 5961, 'nun': 5962, 'chevron': 5963, 'shirt': 5964, 'liu': 5965, 'booming': 5966, 'carefully': 5967, 'engagement': 5968, 'aftershock': 5969, 'zero': 5970, 'hakimi': 5971, 'sony': 5972, 'wolfowitz': 5973, 'fat': 5974, 'bc': 5975, 'guerilla': 5976, 'mistreatment': 5977, 'whittington': 5978, 'juarez': 5979, 'recall': 5980, 'elsheikh': 5981, 'slot': 5982, 'venus': 5983, 'hwang': 5984, 'glacier': 5985, 'skull': 5986, 'siniora': 5987, 'missouri': 5988, 'epicenter': 5989, '2200': 5990, 'zapatista': 5991, 'washingtonbased': 5992, 'immunization': 5993, 'allegiance': 5994, '1963': 5995, 'imminent': 5996, 'deciding': 5997, 'authoritarian': 5998, 'capturing': 5999, 'locally': 6000, 'slipped': 6001, 'filipino': 6002, 'friendship': 6003, 'determination': 6004, '20year': 6005, 'unchanged': 6006, 'indicator': 6007, 'unhurt': 6008, 'forensic': 6009, 'rider': 6010, 'topseeded': 6011, '04jun': 6012, 'inequality': 6013, 'contributing': 6014, 'consistent': 6015, 'inability': 6016, 'unofficial': 6017, '104': 6018, 'sixday': 6019, '86': 6020, 'dostum': 6021, 'disarmed': 6022, 'midday': 6023, 'miguel': 6024, 'deport': 6025, 'emphasized': 6026, 'airway': 6027, 'flat': 6028, 'testify': 6029, 'sustainable': 6030, 'turkmen': 6031, 'zagreb': 6032, 'literature': 6033, 'proclaimed': 6034, 'occur': 6035, 'austerity': 6036, 'rescheduled': 6037, 'recruitment': 6038, 'caution': 6039, 'worsened': 6040, 'investing': 6041, 'respected': 6042, 'firstround': 6043, 'pakistanbased': 6044, 'justify': 6045, 'recognizing': 6046, 'batticaloa': 6047, 'rahim': 6048, 'blessing': 6049, 'ministerdesignate': 6050, 'ian': 6051, 'golan': 6052, 'stabilizing': 6053, 'boucher': 6054, 'gem': 6055, 'rerun': 6056, 'convinced': 6057, 'clandestine': 6058, 'audiotape': 6059, 'alsistani': 6060, 'bell': 6061, 'weaponry': 6062, 'repatriated': 6063, 'antiaircraft': 6064, 'satisfied': 6065, 'ernesto': 6066, 'meles': 6067, 'nationally': 6068, 'solomon': 6069, 'instituted': 6070, '1100': 6071, 'plantation': 6072, 'collection': 6073, 'creole': 6074, 'hydropower': 6075, 'amended': 6076, 'exploitation': 6077, 'swing': 6078, 'successive': 6079, 'siberia': 6080, 'flower': 6081, 'adel': 6082, 'longest': 6083, 'barricade': 6084, 'ivorian': 6085, 'unlike': 6086, 'hungry': 6087, 'en': 6088, 'alhariri': 6089, 'makeshift': 6090, 'directorgeneral': 6091, 'muslimmajority': 6092, 'dioxide': 6093, 'lyon': 6094, 'pistol': 6095, 'inner': 6096, 'nightclub': 6097, 'detain': 6098, 'counsel': 6099, 'blasphemous': 6100, 'ignore': 6101, 'affecting': 6102, 'nordic': 6103, 'length': 6104, 'beauty': 6105, 'hawaii': 6106, 'ideology': 6107, 'richest': 6108, 'advice': 6109, 'blanket': 6110, 'factfinding': 6111, 'scattered': 6112, 'stockholm': 6113, 'virtual': 6114, 'beckham': 6115, 'dividend': 6116, 'assisted': 6117, 'indie': 6118, 'austrohungarian': 6119, 'dissolution': 6120, 'exceeded': 6121, 'lesotho': 6122, 'stag': 6123, 'sank': 6124, 'reinforcement': 6125, 'eradication': 6126, 'measured': 6127, 'proindependence': 6128, 'boarded': 6129, 'lacked': 6130, 'objected': 6131, 'generating': 6132, 'mired': 6133, 'tainted': 6134, 'excuse': 6135, 'replaces': 6136, 'scenario': 6137, 'explosivesladen': 6138, 'dig': 6139, 'composite': 6140, 'seng': 6141, 'frankfurt': 6142, 'tim': 6143, 'divoire': 6144, 'fortune': 6145, 'mild': 6146, 'chairmanship': 6147, 'reflects': 6148, 'mid': 6149, 'collided': 6150, 'maharashtra': 6151, 'bombay': 6152, 'sued': 6153, 'connecticut': 6154, 'islamiyah': 6155, 'pride': 6156, 'ordinary': 6157, 'borrowing': 6158, '19yearold': 6159, 'andre': 6160, 'vocal': 6161, 'dissolve': 6162, 'affiliate': 6163, 'hispanic': 6164, 'caucus': 6165, 'carnival': 6166, 'fuelefficient': 6167, 'youssef': 6168, 'jupiter': 6169, 'stoppage': 6170, 'unpopular': 6171, 'looting': 6172, 'hoshyar': 6173, 'covert': 6174, 'dakar': 6175, 'honduran': 6176, 'fatally': 6177, 'idol': 6178, 'intensive': 6179, 'frog': 6180, 'pitcher': 6181, 'swift': 6182, 'presiding': 6183, 'smallscale': 6184, 'closest': 6185, 'reputation': 6186, 'mary': 6187, 'contends': 6188, 'jobless': 6189, 'secessionist': 6190, 'farther': 6191, 'melting': 6192, 'consortium': 6193, 'wa': 6194, 'minnesota': 6195, 'nahr': 6196, 'multimillion': 6197, 'throw': 6198, 'pole': 6199, 'hurriyat': 6200, 'convenes': 6201, 'feather': 6202, 'touched': 6203, 'drafted': 6204, 'lull': 6205, 'derailed': 6206, 'auschwitz': 6207, 'kerekou': 6208, 'brownfield': 6209, '123': 6210, 'selfimposed': 6211, 'embezzlement': 6212, 'bertel': 6213, '650': 6214, 'turban': 6215, 'telegraph': 6216, 'bargain': 6217, 'quarantine': 6218, 'holder': 6219, 'expenditure': 6220, 'contributes': 6221, 'neutrality': 6222, 'honored': 6223, 'cry': 6224, 'carolyn': 6225, 'journalism': 6226, 'relating': 6227, 'smuggle': 6228, 'sovietera': 6229, 'readiness': 6230, 'bracing': 6231, 'conclude': 6232, 'bashir': 6233, 'interceptor': 6234, 'yes': 6235, 'timor': 6236, 'stick': 6237, 'tracking': 6238, 'displayed': 6239, 'oversaw': 6240, 'disappointing': 6241, 'depart': 6242, 'constructive': 6243, 'contracting': 6244, 'contender': 6245, 'centrist': 6246, 'raped': 6247, 'singled': 6248, '14th': 6249, 'airborne': 6250, 'antisecession': 6251, 'indebted': 6252, 'picking': 6253, 'isfahan': 6254, 'brad': 6255, 'boston': 6256, 'afterward': 6257, 'bathroom': 6258, 'leftwing': 6259, 'revote': 6260, 'basescu': 6261, 'collecting': 6262, 'nazarbayev': 6263, 'violates': 6264, 'neutral': 6265, 'preserving': 6266, 'lightning': 6267, 'preelection': 6268, 'ituri': 6269, 'grip': 6270, 'comedy': 6271, 'rodrigo': 6272, 'rid': 6273, 'frequency': 6274, 'steal': 6275, 'mehmet': 6276, 'fault': 6277, 'lohan': 6278, 'chrysler': 6279, 'starvation': 6280, 'zambian': 6281, 'banda': 6282, 'guilder': 6283, 'bambang': 6284, 'hussain': 6285, 'perhaps': 6286, 'extends': 6287, 'scare': 6288, 'kumaratunga': 6289, 'karami': 6290, 'posing': 6291, 'outlined': 6292, 'accountable': 6293, 'sweeping': 6294, 'outline': 6295, 'crushed': 6296, 'strapped': 6297, 'cemetery': 6298, 'narathiwat': 6299, 'pelosi': 6300, 'dating': 6301, 'brent': 6302, 'sits': 6303, '23yearold': 6304, 'saved': 6305, 'proceeds': 6306, '15member': 6307, 'anthony': 6308, 'gibraltar': 6309, '82': 6310, 'depot': 6311, 'everest': 6312, 'secondlargest': 6313, 'dependency': 6314, 'yard': 6315, 'admit': 6316, 'intensify': 6317, 'analysis': 6318, 'bloodiest': 6319, 'mounted': 6320, 'jennifer': 6321, 'valued': 6322, 'fiji': 6323, 'hipc': 6324, 'abe': 6325, 'torched': 6326, 'britney': 6327, 'propose': 6328, 'proven': 6329, 'cruise': 6330, 'scope': 6331, 'armor': 6332, 'nasrallah': 6333, 'tashkent': 6334, 'termed': 6335, 'cluster': 6336, 'mehdi': 6337, 'flotilla': 6338, 'prey': 6339, 'lashkar': 6340, 'kurmanbek': 6341, 'bidding': 6342, 'kerik': 6343, 'slashing': 6344, 'poured': 6345, 'songhua': 6346, 'meteorological': 6347, 'anc': 6348, 'nelson': 6349, 'hay': 6350, 'mv': 6351, 'baluch': 6352, 'detroit': 6353, 'evacuee': 6354, 'flush': 6355, 'samesex': 6356, 'toure': 6357, 'mahathir': 6358, 'najib': 6359, 'atop': 6360, 'oas': 6361, 'stored': 6362, 'qinghai': 6363, 'somewhere': 6364, 'referee': 6365, 'lip': 6366, 'confession': 6367, 'opera': 6368, 'locate': 6369, 'mirror': 6370, 'pattern': 6371, 'christ': 6372, 'brunei': 6373, 'hiker': 6374, 'provocation': 6375, 'maduro': 6376, 'sizable': 6377, '\\x92s': 6378, 'restarted': 6379, 'cloud': 6380, 'exactly': 6381, 'hiroshima': 6382, 'poster': 6383, 'petraeus': 6384, 'laying': 6385, 'upjohn': 6386, 'hart': 6387, 'ash': 6388, 'bagapsh': 6389, 'laredo': 6390, 'prescription': 6391, 'hick': 6392, 'touchdown': 6393, 'tata': 6394, 'kcna': 6395, 'finalize': 6396, 'centerleft': 6397, 'marcos': 6398, '28yearold': 6399, 'alarabiya': 6400, 'scholar': 6401, 'harassed': 6402, 'whenever': 6403, 'vaccinate': 6404, '60000': 6405, 'assaulted': 6406, 'crippled': 6407, 'enabled': 6408, 'partially': 6409, 'peasant': 6410, 'trap': 6411, 'arranged': 6412, 'lesson': 6413, 'sevan': 6414, 'diverted': 6415, 'proclamation': 6416, 'johnston': 6417, 'shortrange': 6418, 'invade': 6419, 'collaboration': 6420, 'sher': 6421, 'ethical': 6422, 'usmade': 6423, 'quarterly': 6424, 'indicating': 6425, 'dispersed': 6426, 'funded': 6427, 'corps': 6428, 'skeleton': 6429, 'abducting': 6430, 'blake': 6431, '03jun': 6432, 'gender': 6433, 'authorizes': 6434, 'unannounced': 6435, 'skier': 6436, 'rein': 6437, 'campbell': 6438, 'enjoying': 6439, 'victoria': 6440, '1917': 6441, 'revered': 6442, 'communism': 6443, 'geographic': 6444, 'commanded': 6445, 'juba': 6446, 'shouted': 6447, 'recipient': 6448, 'docked': 6449, 'purportedly': 6450, 'hindered': 6451, 'benefited': 6452, '737': 6453, 'momentum': 6454, 'historically': 6455, 'wale': 6456, 'grenada': 6457, 'reflection': 6458, 'fischer': 6459, 'painting': 6460, 'vincent': 6461, 'criticizes': 6462, 'volcanic': 6463, 'manipulating': 6464, 'parking': 6465, 'harming': 6466, 'mouse': 6467, 'videotaped': 6468, 'lacking': 6469, 'papal': 6470, 'valid': 6471, 'detonating': 6472, 'twelve': 6473, 'muscle': 6474, 'anticipated': 6475, 'unauthorized': 6476, 'raged': 6477, 'submarine': 6478, 'optimism': 6479, 'modernization': 6480, 'verde': 6481, 'disciplinary': 6482, 'qualifying': 6483, 'weakness': 6484, 'confirming': 6485, 'virgin': 6486, 'preference': 6487, 'apparel': 6488, 'proximity': 6489, 'bos': 6490, 'condemn': 6491, 'governmentcontrolled': 6492, 'assessing': 6493, 'examination': 6494, 'stress': 6495, '1969': 6496, '11000': 6497, '103': 6498, 'nutrition': 6499, 'examining': 6500, 'logar': 6501, 'remembered': 6502, 'munition': 6503, '1800': 6504, 'munich': 6505, 'secondincommand': 6506, 'regulate': 6507, 'complicity': 6508, 'shocked': 6509, 'byelection': 6510, 'qadeer': 6511, 'stuart': 6512, 'realized': 6513, 'magna': 6514, 'mcalpine': 6515, 'consulting': 6516, '10day': 6517, 'historical': 6518, '1966': 6519, 'hamper': 6520, 'personality': 6521, 'commanding': 6522, '600000': 6523, 'terminal': 6524, 'bulldozer': 6525, 'campaigned': 6526, 'cycle': 6527, 'allocated': 6528, 'miers': 6529, 'assigned': 6530, 'lineup': 6531, 'newlyelected': 6532, 'trash': 6533, 'dana': 6534, 'mile': 6535, 'understands': 6536, 'explained': 6537, 'habit': 6538, 'memorandum': 6539, 'hydroelectric': 6540, 'mamadou': 6541, 'technician': 6542, 'vacuum': 6543, 'golden': 6544, 'holiest': 6545, 'whatever': 6546, 'incorporated': 6547, 'seasonal': 6548, 'retains': 6549, 'yellow': 6550, 'kitts': 6551, 'rarely': 6552, 'possessing': 6553, 'hazardous': 6554, 'skin': 6555, 'taro': 6556, 'wrapping': 6557, 'digging': 6558, 'teargas': 6559, 'highlighted': 6560, 'patriarch': 6561, 'sharapova': 6562, 'talebanled': 6563, 'miss': 6564, '114': 6565, 'crippling': 6566, 'talked': 6567, 'aggressively': 6568, 'dealt': 6569, 'featuring': 6570, 'fasting': 6571, 'boycotting': 6572, 'malik': 6573, 'decadesold': 6574, 'convened': 6575, 'bigger': 6576, 'rewrite': 6577, 'tamiflu': 6578, 'militancy': 6579, 'lewis': 6580, 'almasri': 6581, 'publisher': 6582, 'axe': 6583, 'sang': 6584, 'confinement': 6585, 'swallow': 6586, 'injunction': 6587, 'milestone': 6588, 'amr': 6589, 'outlining': 6590, 'ignoring': 6591, 'gradual': 6592, 'shifting': 6593, 'governmentrun': 6594, 'intimidation': 6595, 'afraid': 6596, 'laura': 6597, 'reunite': 6598, 'hughes': 6599, 'tube': 6600, 'discharged': 6601, 'supervision': 6602, 'sibling': 6603, 'chan': 6604, 'retire': 6605, 'hivpositive': 6606, 'applying': 6607, 'mechanism': 6608, 'graft': 6609, 'circuit': 6610, 'guidance': 6611, 'heaviest': 6612, 'morris': 6613, 'hailing': 6614, 'racial': 6615, 'nestor': 6616, 'azahari': 6617, 'formula': 6618, '250000': 6619, 'publicist': 6620, 'merchant': 6621, 'lowered': 6622, 'diversified': 6623, 'color': 6624, 'switch': 6625, 'alaska': 6626, 'denounce': 6627, 'nonbinding': 6628, 'creditor': 6629, 'compatriot': 6630, 'andhra': 6631, 'midwest': 6632, 'valuable': 6633, 'motorist': 6634, 'ram': 6635, 'chilumpha': 6636, 'wouldbe': 6637, 'threeyearold': 6638, 'gunshot': 6639, 'decrease': 6640, 'panamanian': 6641, 'sultan': 6642, 'dining': 6643, 'revived': 6644, 'arnold': 6645, 'interrogated': 6646, '92': 6647, 'stricken': 6648, '1930s': 6649, 'sight': 6650, 'halutz': 6651, 'overrun': 6652, 'lima': 6653, 'thein': 6654, 'owes': 6655, 'sewage': 6656, 'ophelia': 6657, 'classify': 6658, 'chapter': 6659, 'sharia': 6660, '1953': 6661, 'subjected': 6662, 'unite': 6663, 'explore': 6664, 'authorization': 6665, 'blindfolded': 6666, 'michigan': 6667, 'existed': 6668, 'labeled': 6669, 'famed': 6670, 'pigeon': 6671, 'sophisticated': 6672, 'pressuring': 6673, 'molestation': 6674, 'juror': 6675, 'aref': 6676, '91': 6677, 'indoor': 6678, 'hansen': 6679, 'ryan': 6680, 'insist': 6681, 'bipartisan': 6682, '275': 6683, 'mercantile': 6684, 'declares': 6685, 'elite': 6686, 'songwriter': 6687, 'remainder': 6688, 'f': 6689, 'onetime': 6690, 'shannon': 6691, 'jr': 6692, 'principal': 6693, '68': 6694, 'standby': 6695, 'bailout': 6696, 'paint': 6697, 'influenced': 6698, 'secondary': 6699, 'insisting': 6700, 'notably': 6701, 'milinkevich': 6702, 'harboring': 6703, 'belize': 6704, 'natwar': 6705, 'quarantined': 6706, 'slate': 6707, 'sacred': 6708, 'garrigues': 6709, 'charitable': 6710, 'salman': 6711, 'resistant': 6712, 'firework': 6713, 'perry': 6714, 'biotechnology': 6715, 'rabbi': 6716, 'shalom': 6717, 'adjacent': 6718, 'exacerbated': 6719, 'flared': 6720, 'clijsters': 6721, 'warmup': 6722, 'migrating': 6723, 'fraction': 6724, 'ward': 6725, 'bunker': 6726, 'liaoning': 6727, 'belongs': 6728, 'submerged': 6729, 'swede': 6730, 'f16': 6731, 'escalation': 6732, 'advertising': 6733, 'barry': 6734, 'accurate': 6735, '73000': 6736, 'lodge': 6737, 'diego': 6738, 'baseless': 6739, 'ceremonial': 6740, 'susilo': 6741, 'cap': 6742, 'grouping': 6743, 'moya': 6744, 'thirdseeded': 6745, 'downed': 6746, 'pave': 6747, '96': 6748, 'upward': 6749, 'forcibly': 6750, 'vowing': 6751, 'catastrophic': 6752, 'hadley': 6753, '165': 6754, '155': 6755, 'editorial': 6756, 'muslimdominated': 6757, 'lawless': 6758, 'recess': 6759, 'massoud': 6760, 'clarkson': 6761, 'disney': 6762, 'eightyear': 6763, 'dominance': 6764, 'eduardo': 6765, 'intend': 6766, '1970': 6767, 'sect': 6768, '147': 6769, 'disguised': 6770, 'wear': 6771, 'gaming': 6772, 'yucatan': 6773, 'apologize': 6774, 'ratio': 6775, 'sacu': 6776, 'vanuatu': 6777, 'pet': 6778, 'kuala': 6779, 'lumpur': 6780, 'surviving': 6781, 'unconstitutional': 6782, 'familiar': 6783, 'manhattan': 6784, 'jorge': 6785, 'borrower': 6786, 'database': 6787, 'conventional': 6788, 'landless': 6789, 'waited': 6790, 'sat': 6791, 'determining': 6792, 'veracruz': 6793, 'federline': 6794, 'pdvsa': 6795, 'militaryruled': 6796, 'buenos': 6797, 'aire': 6798, '99': 6799, 'garment': 6800, 'worsening': 6801, 'wrongly': 6802, 'depiction': 6803, 'awami': 6804, 'waved': 6805, 'hunan': 6806, 'luther': 6807, 'katsav': 6808, 'lobbying': 6809, 'irving': 6810, 'guarding': 6811, 'santos': 6812, 'certificate': 6813, 'tommy': 6814, 'immunity': 6815, 'requiring': 6816, 'reshuffle': 6817, 'negligence': 6818, 'legend': 6819, 'wardak': 6820, 'senegalese': 6821, 'automatically': 6822, 'birdflu': 6823, 'heel': 6824, 'slide': 6825, 'exxonmobil': 6826, 'minster': 6827, 'over': 6828, 'comprises': 6829, 'offender': 6830, 'hilla': 6831, 'mohsen': 6832, 'outspoken': 6833, 'oversees': 6834, 'kozulin': 6835, 'impressive': 6836, 'arrange': 6837, 'dividing': 6838, 'scoring': 6839, 'tumor': 6840, 'decadeslong': 6841, 'bonus': 6842, 'retained': 6843, 'zalmay': 6844, 'g20': 6845, 'phil': 6846, 'reopening': 6847, 'tea': 6848, 'coral': 6849, 'jamal': 6850, 'embezzling': 6851, 'shetty': 6852, 'cord': 6853, 'recommend': 6854, 'mad': 6855, '\\x96': 6856, 'melilla': 6857, 'ear': 6858, 'mesa': 6859, 'underwater': 6860, 'manned': 6861, 'financed': 6862, 'assembled': 6863, 'coincides': 6864, 'lucia': 6865, 'prohibited': 6866, 'smoker': 6867, 'transplant': 6868, 'mercy': 6869, 'jimmy': 6870, 'thaw': 6871, 'diversification': 6872, 'pit': 6873, 'perfect': 6874, 'sack': 6875, 'provoked': 6876, 'lighting': 6877, 'consolidate': 6878, 'automatic': 6879, 'unemployed': 6880, 'inclusion': 6881, 'migration': 6882, 'bandit': 6883, 'nancy': 6884, 'ivo': 6885, 'mayer': 6886, 'murray': 6887, 'frenchman': 6888, 'pregnant': 6889, 'crosscountry': 6890, 'antidoping': 6891, 'salt': 6892, 'lowlying': 6893, 'hire': 6894, 'exists': 6895, 'snowstorm': 6896, 'rushing': 6897, 'brutality': 6898, 'kurram': 6899, 'hamdi': 6900, 'issac': 6901, 'praying': 6902, 'aladha': 6903, 'privilege': 6904, '1961': 6905, 'achieving': 6906, 'quartet': 6907, 'b': 6908, 'plague': 6909, 'ante': 6910, 'explored': 6911, 'cheered': 6912, 'inhabited': 6913, 'smallest': 6914, 'touring': 6915, 'sake': 6916, 'gogh': 6917, 'bangalore': 6918, 'stimulate': 6919, 'innovation': 6920, '12yearold': 6921, 'architect': 6922, 'resist': 6923, '240': 6924, 'abide': 6925, 'muslimcroat': 6926, '16000': 6927, 'compassion': 6928, 'enact': 6929, 'marwan': 6930, '9th': 6931, 'walid': 6932, 'paralysis': 6933, 'apple': 6934, 'heated': 6935, 'vacant': 6936, 'biological': 6937, 'nuclearcapable': 6938, 'paktia': 6939, 'prestigious': 6940, 'vanunu': 6941, 'coincided': 6942, 'informant': 6943, 'discourage': 6944, 'conspiring': 6945, 'undermined': 6946, 'multicandidate': 6947, 'antius': 6948, 'jolo': 6949, 'economics': 6950, 'barrage': 6951, 'petrobras': 6952, 'equipped': 6953, 'denial': 6954, 'certified': 6955, '128': 6956, 'mauritius': 6957, 'federated': 6958, 'outlook': 6959, 'equatorial': 6960, 'phased': 6961, 'intimidated': 6962, 'alassane': 6963, 'narrowed': 6964, 'aerial': 6965, 'galan': 6966, 'tone': 6967, 'cease': 6968, 'reinstate': 6969, 'curbing': 6970, 'distribute': 6971, 'spike': 6972, 'excess': 6973, 'possess': 6974, 'bekaa': 6975, 'mandatory': 6976, 'profile': 6977, 'bet': 6978, 'maher': 6979, 'instructed': 6980, 'taped': 6981, 'sudden': 6982, 'attractive': 6983, 'exception': 6984, 'recruited': 6985, 'meshaal': 6986, 'unusually': 6987, 'shattered': 6988, 'makeup': 6989, 'recorder': 6990, 'marijuana': 6991, 'highestranking': 6992, 'strictly': 6993, 'adnan': 6994, 'aldulaimi': 6995, 'trio': 6996, 'write': 6997, 'withheld': 6998, 'overhead': 6999, 'unsuccessfully': 7000, 'slovene': 7001, '1929': 7002, 'transformation': 7003, 'constituent': 7004, 'iii': 7005, 'budgetary': 7006, 'guide': 7007, 'inquired': 7008, 'grieving': 7009, 'govern': 7010, 'globalization': 7011, 'barrack': 7012, 'sincere': 7013, 'confined': 7014, 'feud': 7015, 'suppression': 7016, 'thirdlargest': 7017, 'surgeon': 7018, 'lung': 7019, 'maung': 7020, 'rumor': 7021, 'perino': 7022, 'fernando': 7023, 'martian': 7024, 'rebate': 7025, 'selfdefense': 7026, 'wetland': 7027, 'cheering': 7028, 'wealthiest': 7029, 'monaco': 7030, 'casino': 7031, 'gambling': 7032, 'deserve': 7033, 'cried': 7034, 'answered': 7035, 'thwart': 7036, 'p': 7037, 'converted': 7038, 'privacy': 7039, 'citrus': 7040, 'elizabeth': 7041, 'joy': 7042, 'cathedral': 7043, 'infiltration': 7044, 'mid1990s': 7045, 'ravalomanana': 7046, 'alhakim': 7047, 'oregon': 7048, 'costume': 7049, 'slash': 7050, 'chaotic': 7051, 'spoken': 7052, 'tariq': 7053, 'sympathizer': 7054, 'transcript': 7055, 'nepali': 7056, 'persuading': 7057, 'assaulting': 7058, 'finnish': 7059, 'mend': 7060, 'karl': 7061, 'coconut': 7062, 'frankwalter': 7063, 'timothy': 7064, 'thirdquarter': 7065, 'educational': 7066, '1956': 7067, 'pashtun': 7068, 'prague': 7069, 'skirmish': 7070, 'hanged': 7071, 'segment': 7072, 'downgraded': 7073, 'unfounded': 7074, 'crushing': 7075, 'nominate': 7076, 'havel': 7077, 'reestablish': 7078, 'desmond': 7079, 'tutu': 7080, 'manger': 7081, 'outcry': 7082, 'seem': 7083, 'shutting': 7084, 'reviewed': 7085, 'h1n1': 7086, 'reagan': 7087, 'otherwise': 7088, 'disapprove': 7089, 'sarah': 7090, 'arson': 7091, 'plata': 7092, 'mohamad': 7093, 'husin': 7094, '24yearold': 7095, '450': 7096, 'eleven': 7097, 'concentration': 7098, 'nov': 7099, 'fuad': 7100, 'prudent': 7101, 'balloon': 7102, 'khabarovsk': 7103, 'shiitedominated': 7104, 'remembrance': 7105, 'rope': 7106, 'mate': 7107, 'crimea': 7108, 'lucrative': 7109, 'dehydration': 7110, 'sheet': 7111, 'print': 7112, '71': 7113, 'bodily': 7114, 'aiming': 7115, 'shrink': 7116, 'kibo': 7117, 'petitioned': 7118, '1965': 7119, 'tasked': 7120, 'permitted': 7121, 'easy': 7122, 'dmitry': 7123, 'robbed': 7124, 'nicotine': 7125, 'concerning': 7126, 'accomplished': 7127, 'marshall': 7128, 'uri': 7129, 'shaky': 7130, 'yahoo': 7131, '190': 7132, 'totally': 7133, 'sighting': 7134, 'depending': 7135, 'ceased': 7136, 'newsweek': 7137, 'prachanda': 7138, 'lu': 7139, 'thenpresident': 7140, 'hanoun': 7141, 'productive': 7142, 'lawlessness': 7143, 'kiribati': 7144, 'exclaimed': 7145, 'obtaining': 7146, 'leaked': 7147, 'hashemi': 7148, 'printing': 7149, 'demonstrating': 7150, 'infiltrated': 7151, 'pregnancy': 7152, 'russianmade': 7153, 'prosecuted': 7154, 'vilks': 7155, 'snap': 7156, 'orphan': 7157, 'demolition': 7158, '31st': 7159, 'lage': 7160, 'petrochemical': 7161, 'expatriate': 7162, 'slower': 7163, 'deeper': 7164, 'anticipation': 7165, 'merged': 7166, 'gambia': 7167, 'sit': 7168, 'unnecessary': 7169, 'silent': 7170, 'canberra': 7171, 'anatolia': 7172, 'encourages': 7173, 'digital': 7174, 'grass': 7175, 'martina': 7176, 'unrelated': 7177, 'occurs': 7178, 'desecrated': 7179, 'dragan': 7180, '74': 7181, 'andorra': 7182, 'jazz': 7183, 'unlawful': 7184, 'physically': 7185, 'izmir': 7186, 'performer': 7187, 'curtain': 7188, 'pumping': 7189, 'statehood': 7190, 'mauritanian': 7191, 'hamza': 7192, 'gamal': 7193, 'stall': 7194, 'suleiman': 7195, 'waving': 7196, 'silvio': 7197, 'abdelaziz': 7198, '26000': 7199, 'rauf': 7200, 'moustapha': 7201, 'mistaken': 7202, 'occasionally': 7203, 'postage': 7204, 'handicraft': 7205, 'hydrocarbon': 7206, 'extraction': 7207, 'actively': 7208, 'wreath': 7209, '80000': 7210, 'cool': 7211, 'cameron': 7212, 'explode': 7213, 'roberto': 7214, 'roy': 7215, 'upgraded': 7216, 'sometime': 7217, 'shamil': 7218, 'restrictive': 7219, 'rage': 7220, 'astronomer': 7221, 'guarded': 7222, '167': 7223, 'yaradua': 7224, 'airbase': 7225, 'narcotic': 7226, 'revision': 7227, 'gen': 7228, 'ruz': 7229, 'seattle': 7230, '850': 7231, 'survive': 7232, 'accelerating': 7233, 'renounced': 7234, 'supplement': 7235, 'alabama': 7236, '32yearold': 7237, 'dagestan': 7238, 'nickel': 7239, 'executionstyle': 7240, 'eviction': 7241, 'retaliate': 7242, 'resting': 7243, 'hebei': 7244, 'robot': 7245, 'fiercely': 7246, 'sum': 7247, 'mistreated': 7248, 'pemex': 7249, 'scared': 7250, 'loeb': 7251, 'alerted': 7252, 'haaretz': 7253, 'admission': 7254, 'subcommittee': 7255, 'myers': 7256, 'oaxaca': 7257, 'culling': 7258, 'reyes': 7259, 'dynamic': 7260, 'lawrence': 7261, '27yearold': 7262, 'haider': 7263, 'spilled': 7264, 'marcher': 7265, '16yearold': 7266, 'undecided': 7267, 'vine': 7268, 'berenson': 7269, 'reverend': 7270, 'zhejiang': 7271, 'goldman': 7272, 'gah': 7273, 'otunbayeva': 7274, 'cracking': 7275, 'connect': 7276, 'abruptly': 7277, 'czechoslovakia': 7278, 'citigroup': 7279, 'gheit': 7280, 'unsponsored': 7281, 'trigger': 7282, 'aig': 7283, 'wiesenthal': 7284, 'unexpected': 7285, 'moyo': 7286, 'debut': 7287, 'coordinating': 7288, 'hilary': 7289, 'girlfriend': 7290, 'baker': 7291, 'sort': 7292, 'seemed': 7293, 'forbes': 7294, 'creature': 7295, 'bleeding': 7296, 'armitage': 7297, 'lifetime': 7298, 'catherine': 7299, 'mobilize': 7300, 'descendant': 7301, 'cafta': 7302, 'theme': 7303, 'seems': 7304, 'elaine': 7305, 'lowcost': 7306, 'sivaram': 7307, 'acknowledges': 7308, 'vacationing': 7309, 'abidjan': 7310, 'preaching': 7311, 'heninhardenne': 7312, 'brick': 7313, 'prematurely': 7314, 'revoked': 7315, 'sint': 7316, 'oneparty': 7317, 'titan': 7318, 'facilitate': 7319, 'additionally': 7320, 'courageous': 7321, 'constrained': 7322, 'shourd': 7323, 'saturn': 7324, 'evolved': 7325, 'chalabi': 7326, 'nucleararmed': 7327, 'meridian': 7328, 'sheriff': 7329, 'salim': 7330, 'antipiracy': 7331, 'rivalry': 7332, 'chase': 7333, 'ratners': 7334, 'atoll': 7335, 'repelled': 7336, 'refrain': 7337, 'donating': 7338, 'chihuahua': 7339, 'pork': 7340, '4500': 7341, 'childhood': 7342, 'contamination': 7343, 'tusk': 7344, 'rawalpindi': 7345, 'urgently': 7346, 'glasgow': 7347, 'shaft': 7348, 'preacher': 7349, 'krajicek': 7350, 'disastrous': 7351, 'gere': 7352, 'pierre': 7353, 'cannon': 7354, 'forbids': 7355, 'mtv': 7356, 'ceuta': 7357, 'comb': 7358, 'rehnquist': 7359, 'antiquity': 7360, 'saberi': 7361, 'kadyrov': 7362, 'alfaisal': 7363, 'fujian': 7364, 'rowhani': 7365, 'baiji': 7366, 'tuvalu': 7367, 'lubanga': 7368, 'masri': 7369, 'obelisk': 7370, 'luck': 7371, 'passaro': 7372, 'tb': 7373, 'asghari': 7374, 'abac': 7375, 'maldives': 7376, 'designer': 7377, 'snoop': 7378, 'dogg': 7379, 'disturbance': 7380, 'heathrow': 7381, 'scuffled': 7382, 'odinga': 7383, 'usbound': 7384, 'subcomandante': 7385, 'mask': 7386, 'uttar': 7387, 'studied': 7388, 'suppress': 7389, 'salafist': 7390, 'escorted': 7391, 'nonoil': 7392, 'busiest': 7393, 'drag': 7394, 'talon': 7395, 'snatched': 7396, 'proceeded': 7397, 'bribery': 7398, 'volcker': 7399, 'networking': 7400, 'dy': 7401, 'barak': 7402, 'concludes': 7403, 'repairing': 7404, 'corn': 7405, 'deborah': 7406, 'pelted': 7407, 'sangin': 7408, 'reclaim': 7409, 'therapy': 7410, 'bone': 7411, 'forbidden': 7412, 'rode': 7413, 'complication': 7414, 'juvenile': 7415, 'hewitt': 7416, 'hardcourt': 7417, 'sing': 7418, 'biathlon': 7419, 'walter': 7420, 'vancouver': 7421, 'domination': 7422, 'terje': 7423, 'kurt': 7424, 'suppressing': 7425, 'grandson': 7426, 'sandstorm': 7427, 'alexandria': 7428, 'paved': 7429, 'insight': 7430, 'fazlullah': 7431, 'recaptured': 7432, 'dereliction': 7433, 'plead': 7434, 'naked': 7435, 'eaten': 7436, 'moreno': 7437, 'mail': 7438, 'worsen': 7439, 'yassin': 7440, 'philadelphia': 7441, 'threedecade': 7442, 'renounces': 7443, 'carla': 7444, 'onefourth': 7445, '1821': 7446, 'guitarist': 7447, 'sizeable': 7448, 'bauxite': 7449, 'introduction': 7450, 'surpassed': 7451, 'ringleader': 7452, 'stung': 7453, 'indeed': 7454, 'alike': 7455, 'indiscriminately': 7456, 'craft': 7457, 'farda': 7458, 'wolfgang': 7459, 'tomas': 7460, 'continuously': 7461, 'internally': 7462, 'encounter': 7463, 'swim': 7464, 'reprimanded': 7465, 'commemorates': 7466, 'exchanging': 7467, 'bureaucracy': 7468, 'concentrate': 7469, 'withstand': 7470, 'exhibit': 7471, 'mandelson': 7472, 'jerry': 7473, 'gunpoint': 7474, 'provider': 7475, 'sirleaf': 7476, 'parallel': 7477, 'hardliner': 7478, 'overloaded': 7479, 'stated': 7480, 'kwan': 7481, 'deserted': 7482, 'amur': 7483, 'kunduz': 7484, 'thinking': 7485, 'spectator': 7486, 'victorious': 7487, 'polluted': 7488, 'healthcare': 7489, 'minus': 7490, 'pretoria': 7491, 'shutdown': 7492, 'spla': 7493, 'disabled': 7494, 'hardware': 7495, '275member': 7496, 'discontent': 7497, '140000': 7498, 'seller': 7499, 'malay': 7500, 'disparity': 7501, 'averaged': 7502, 'onefifth': 7503, 'inefficient': 7504, 'embarked': 7505, 'extractive': 7506, 'zinc': 7507, 'attraction': 7508, 'hood': 7509, 'intolerance': 7510, 'span': 7511, 'gorge': 7512, 'alarcon': 7513, 'valencia': 7514, 'cheap': 7515, 'ninemember': 7516, 'knife': 7517, 'precious': 7518, 'takeoff': 7519, 'fearing': 7520, 'packing': 7521, 'respective': 7522, 'kouchner': 7523, 'spate': 7524, 'torturing': 7525, 'hosseini': 7526, 'lessen': 7527, 'participates': 7528, 'posting': 7529, 'assignment': 7530, 'nonaligned': 7531, 'nam': 7532, '17year': 7533, 'safin': 7534, 'noordin': 7535, 'ethnically': 7536, 'headscarf': 7537, 'foe': 7538, 'impacted': 7539, 'survival': 7540, 'lined': 7541, 'restructure': 7542, 'mistook': 7543, 'khalis': 7544, 'thwarted': 7545, 'halabja': 7546, 'technological': 7547, 'reconcile': 7548, 'superior': 7549, 'efficient': 7550, 'naming': 7551, '35yearold': 7552, 'teammate': 7553, 'automotive': 7554, '1918': 7555, 'dissatisfied': 7556, 'zeta': 7557, 'heilongjiang': 7558, 'hotly': 7559, 'welldeveloped': 7560, 'lease': 7561, 'refined': 7562, 'overcame': 7563, 'beautiful': 7564, 'vanished': 7565, 'iskandariyah': 7566, 'ravaged': 7567, 'loyalist': 7568, 'holed': 7569, 'karni': 7570, 'farmland': 7571, 'ridiculous': 7572, 'housetohouse': 7573, 'reviving': 7574, 'proportion': 7575, 'receives': 7576, 'candle': 7577, 'contrast': 7578, 'sheehan': 7579, 'ore': 7580, 'inflated': 7581, 'ideal': 7582, 'moshe': 7583, 'lieutenantgeneral': 7584, 'deliberate': 7585, 'clearly': 7586, 'demobilized': 7587, 'accelerate': 7588, 'feeding': 7589, 'unfortunately': 7590, 'dragged': 7591, 'zanupf': 7592, 'complied': 7593, 'reigning': 7594, 'striker': 7595, 'defender': 7596, 'bottom': 7597, '01jan': 7598, 'importing': 7599, 'occurring': 7600, 'tractor': 7601, 'hemorrhage': 7602, 'spokesperson': 7603, 'nonessential': 7604, 'beer': 7605, 'spree': 7606, 'distributor': 7607, 'domestically': 7608, 'employing': 7609, 'averaging': 7610, 'excerpt': 7611, 'signaled': 7612, 'faltering': 7613, 'positioned': 7614, 'filibuster': 7615, 'frist': 7616, 'arranging': 7617, 'khursheed': 7618, 'incorrect': 7619, 'rico': 7620, 'paving': 7621, '24hour': 7622, 'walkout': 7623, 'antiviral': 7624, 'dish': 7625, 'reserved': 7626, '64yearold': 7627, 'beckett': 7628, 'andaman': 7629, 'baghlan': 7630, 'pedro': 7631, 'nick': 7632, 'cowell': 7633, 'prospered': 7634, 'leslie': 7635, 'cautious': 7636, 'endemic': 7637, 'caspian': 7638, 'disappointment': 7639, 'stump': 7640, 'ganguly': 7641, 'kumble': 7642, 'antiterrorist': 7643, 'sayed': 7644, 'agha': 7645, 'ahmadi': 7646, 'fencing': 7647, 'tunceli': 7648, 'complaining': 7649, 'accra': 7650, 'syrianbacked': 7651, 'dennis': 7652, 'gran': 7653, 'environmentalist': 7654, 'triangle': 7655, 'hrw': 7656, 'danilo': 7657, 'bugti': 7658, 'outdated': 7659, 'predicting': 7660, 'chaired': 7661, 'mukherjee': 7662, 'elbared': 7663, 'twotime': 7664, 'tatiana': 7665, 'kitchen': 7666, 'lavish': 7667, 'penitentiary': 7668, 'airing': 7669, 'resettled': 7670, 'dust': 7671, 'firstever': 7672, 'circulated': 7673, 'paulson': 7674, 'wade': 7675, 'bingu': 7676, 'icrc': 7677, 'conveyed': 7678, 'guineabissau': 7679, 'ramon': 7680, 'embrace': 7681, 'freely': 7682, '34day': 7683, 'cliff': 7684, 'observatory': 7685, 'mina': 7686, 'cervical': 7687, 'gazaegypt': 7688, 'updated': 7689, 'fundamentalism': 7690, 'contagious': 7691, 'expelling': 7692, 'clementina': 7693, 'ecosystem': 7694, 'occasional': 7695, '102': 7696, '166': 7697, 'genevabased': 7698, 'perpetual': 7699, 'defensive': 7700, 'succeeding': 7701, 'pleasure': 7702, 'clerk': 7703, 'dongyoung': 7704, 'machimura': 7705, 'airstrip': 7706, 'presutti': 7707, 'resettlement': 7708, 'enhanced': 7709, 'polled': 7710, 'iranianamerican': 7711, 'attendance': 7712, 'yunnan': 7713, 'bennett': 7714, 'mehsud': 7715, 'surayud': 7716, 'crescent': 7717, '26yearold': 7718, 'extracted': 7719, 'demarcation': 7720, 'desecration': 7721, 'scrapped': 7722, 'royalist': 7723, 'await': 7724, 'sue': 7725, 'fourmonth': 7726, 'testified': 7727, 'climb': 7728, 'entertainer': 7729, 'liquor': 7730, '132': 7731, '1941': 7732, 'pasture': 7733, 'consented': 7734, 'accepts': 7735, 'briefed': 7736, 'credited': 7737, 'rover': 7738, 'fourthlargest': 7739, 'costly': 7740, 'fundraising': 7741, 'default': 7742, 'u2': 7743, '130000': 7744, 'breathing': 7745, 'crocker': 7746, 'pronk': 7747, 'knocking': 7748, 'fulfill': 7749, 'interviewer': 7750, 'refiner': 7751, 'converting': 7752, 'impressed': 7753, 'barbaric': 7754, '8th': 7755, 'counternarcotics': 7756, 'pleased': 7757, 'yediot': 7758, 'sentencing': 7759, 'h5': 7760, 'reasonable': 7761, 'costner': 7762, 'speaks': 7763, '74yearold': 7764, 'painful': 7765, 'impediment': 7766, 'purchasing': 7767, 'ridge': 7768, 'ultimate': 7769, 'raping': 7770, 'farid': 7771, 'angel': 7772, 'zulima': 7773, 'palacio': 7774, 'waterway': 7775, 'adumim': 7776, 'ultranationalist': 7777, 'grill': 7778, '23rd': 7779, '02jun': 7780, 'youtube': 7781, 'highsecurity': 7782, 'trincomalee': 7783, 'bucharest': 7784, 'traian': 7785, 'marc': 7786, 'hightechnology': 7787, 'atom': 7788, 'jannati': 7789, 'sermon': 7790, 'theory': 7791, 'ultraorthodox': 7792, 'campus': 7793, 'waterborne': 7794, 'disposal': 7795, 'ppp': 7796, 'upswing': 7797, '1940': 7798, 'monkey': 7799, 'dancing': 7800, 'merely': 7801, 'midseptember': 7802, 'nowak': 7803, 'tennessee': 7804, 'vault': 7805, 'thick': 7806, 'oneyearold': 7807, 'sein': 7808, 'antitaliban': 7809, 'pipe': 7810, 'erkinbayev': 7811, 'rift': 7812, 'granda': 7813, 'froze': 7814, '12year': 7815, 'worsthit': 7816, 'unearthed': 7817, 'homicide': 7818, 'dealer': 7819, 'philip': 7820, 'heather': 7821, 'utah': 7822, '21yearold': 7823, 'maghreb': 7824, 'reprisal': 7825, 'openness': 7826, 'ljubicic': 7827, '100meter': 7828, 'taha': 7829, 'chandrika': 7830, 'pedophile': 7831, 'accountability': 7832, 'fishery': 7833, 'jacob': 7834, 'uae': 7835, 'vioxx': 7836, 'carmaker': 7837, 'explorer': 7838, 'nurse': 7839, 'rolled': 7840, 'khalaf': 7841, 'evacuating': 7842, 'abolished': 7843, 'recurrent': 7844, 'fowl': 7845, 'presided': 7846, 'promptly': 7847, 'ganji': 7848, 'unanimous': 7849, 'latvian': 7850, 'blanco': 7851, 'tidal': 7852, 'marathon': 7853, 'fukuda': 7854, 'paula': 7855, 'shipyard': 7856, '27th': 7857, 'rampant': 7858, 'ravi': 7859, 'khanna': 7860, 'defiance': 7861, 'santo': 7862, 'compensated': 7863, 'nbc': 7864, 'pyramid': 7865, 'reestablished': 7866, 'violator': 7867, 'disneyland': 7868, 'downing': 7869, 'plachkov': 7870, 'wu': 7871, 'lt': 7872, 'predominately': 7873, 'contrary': 7874, 'starbucks': 7875, 'entitled': 7876, 'frustration': 7877, 'qazi': 7878, 'portfolio': 7879, 'licensing': 7880, 'equally': 7881, 'halting': 7882, 'olive': 7883, 'kiir': 7884, 'infectious': 7885, '191': 7886, 'alien': 7887, 'nicobar': 7888, 'sindh': 7889, 'canaveral': 7890, 'safarova': 7891, 'safina': 7892, 'firearm': 7893, 'charm': 7894, 'statecontrolled': 7895, 'wta': 7896, 'exceeding': 7897, 'natanz': 7898, 'tighter': 7899, 'elmaan': 7900, 'frustrated': 7901, '06jul': 7902, 'carbomb': 7903, 'outsider': 7904, 'statue': 7905, 'tall': 7906, 'rang': 7907, 'walchhofer': 7908, 'super': 7909, 'provocative': 7910, 'mujahedin': 7911, 'outraged': 7912, 'hijack': 7913, 'thirteen': 7914, 'advising': 7915, 'underscore': 7916, 'prudential': 7917, 'strayed': 7918, 'resilient': 7919, 'totaling': 7920, 'muttahida': 7921, 'yi': 7922, '270': 7923, 'dispatch': 7924, 'mei': 7925, 'kot': 7926, 'besides': 7927, 'secularist': 7928, 'telerate': 7929, 'evolution': 7930, 'noticed': 7931, 'proud': 7932, 'taxation': 7933, 'praising': 7934, 'infantry': 7935, 'roza': 7936, 'intercontinental': 7937, 'mahdi': 7938, 'legendary': 7939, 'safer': 7940, 'hitler': 7941, 'asks': 7942, 'helpful': 7943, 'nfl': 7944, '1910': 7945, '1937': 7946, 'col': 7947, 'shall': 7948, 'armistice': 7949, 'hail': 7950, 'acid': 7951, 'boarding': 7952, 'prompt': 7953, 'photographed': 7954, 'protaliban': 7955, 'menem': 7956, 'ngo': 7957, 'dar': 7958, 'e': 7959, 'wei': 7960, 'tampering': 7961, 'mario': 7962, 'grammy': 7963, '225': 7964, 'hoax': 7965, 'nargis': 7966, 'earner': 7967, 'jewelry': 7968, 'poised': 7969, 'legality': 7970, 'thorough': 7971, 'osthoff': 7972, 'shaanxi': 7973, 'expedition': 7974, 'hemorrhagic': 7975, 'renault': 7976, 'ferrari': 7977, 'intrusion': 7978, 'delaware': 7979, 'polynesian': 7980, 'liverpool': 7981, 'reservoir': 7982, 'shanxi': 7983, 'manhunt': 7984, 'sooner': 7985, 'dwyer': 7986, 'prokurdish': 7987, 'blind': 7988, 'aspiration': 7989, 'janet': 7990, 'sporting': 7991, 'adjustment': 7992, '1863': 7993, 'colom': 7994, 'divorce': 7995, 'phrase': 7996, 'alliotmarie': 7997, 'batsman': 7998, 'colorful': 7999, 'slim': 8000, 'rooting': 8001, 'advertisement': 8002, 'hubei': 8003, 'porter': 8004, 'nebraska': 8005, 'boko': 8006, 'j': 8007, 'nevis': 8008, 'reply': 8009, 'patrolled': 8010, 'newest': 8011, 'weaver': 8012, 'bandar': 8013, 'widening': 8014, 'fifteen': 8015, 'clone': 8016, 'mule': 8017, 'natsios': 8018, 'cannes': 8019, 'yuganskneftegaz': 8020, 'vomiting': 8021, 'vukovar': 8022, 'commemorating': 8023, 'comparing': 8024, 'stirred': 8025, 'mongol': 8026, 'debttogdp': 8027, 'clause': 8028, 'dos': 8029, 'baku': 8030, 'flexibility': 8031, 'mosquito': 8032, 'latif': 8033, 'proposes': 8034, 'pak': 8035, 'usual': 8036, 'wooden': 8037, 'provoke': 8038, 'kano': 8039, 'assuming': 8040, 'lash': 8041, 'daoud': 8042, 'moodie': 8043, 'protein': 8044, 'dravid': 8045, 'atlantis': 8046, 'circulating': 8047, '1950': 8048, 'surgical': 8049, 'zhao': 8050, 'kosumi': 8051, 'dissent': 8052, 'telephoned': 8053, 'papua': 8054, 'pohamba': 8055, 'bull': 8056, 'ciudad': 8057, 'disqualified': 8058, 'buffer': 8059, 'clot': 8060, 'trump': 8061, 'igor': 8062, 'amin': 8063, 'owed': 8064, 'rigging': 8065, 'uninhabited': 8066, 'ashraf': 8067, 'competed': 8068, 'sham': 8069, 'booster': 8070, 'kickback': 8071, 'favoring': 8072, 'gibbs': 8073, 'mecca': 8074, '1898': 8075, 'cadmium': 8076, 'falkland': 8077, 'bed': 8078, 'archive': 8079, 'benigno': 8080, 'ralston': 8081, 'g7': 8082, 'curtailed': 8083, 'nationalized': 8084, 'manslaughter': 8085, 'favorite': 8086, 'pickens': 8087, 'loose': 8088, 'papacy': 8089, 'pristina': 8090, 'lesser': 8091, 'lashkaretoiba': 8092, 'prodi': 8093, 'chariot': 8094, 'mussa': 8095, 'self': 8096, 'konare': 8097, 'pepsico': 8098, 'surging': 8099, '11yearold': 8100, 'obesity': 8101, '26year': 8102, 'decoration': 8103, 'blogger': 8104, 'stimulant': 8105, 'paz': 8106, 'breakup': 8107, 'grievance': 8108, 'medicare': 8109, 'depressed': 8110, 'nissan': 8111, 'miliband': 8112, 'alkhanov': 8113, 'trench': 8114, 'hamm': 8115, 'nsa': 8116, 'fourthseeded': 8117, 'moore': 8118, 'mueller': 8119, 'greenland': 8120, 'eide': 8121, 'nevirapine': 8122, 'pierce': 8123, 'python': 8124, 'razuri': 8125, 'hospitalization': 8126, 'equivalent': 8127, 'nias': 8128, 'rap': 8129, 'swornin': 8130, 'probusiness': 8131, 'seminary': 8132, 'madrassas': 8133, 'imad': 8134, '370': 8135, 'hamad': 8136, 'legacy': 8137, 'assuring': 8138, 'zhvania': 8139, 'potato': 8140, 'systematic': 8141, 'mansion': 8142, 'hung': 8143, 'crossfire': 8144, 'kfc': 8145, 'sander': 8146, 'effigy': 8147, 'syndrome': 8148, 'amer': 8149, 'payroll': 8150, 'hiring': 8151, 'generous': 8152, 'arbitrary': 8153, 'karlovic': 8154, 'unseeded': 8155, 'nieminen': 8156, 'exert': 8157, 'counterattack': 8158, 'loud': 8159, 'exclude': 8160, '65000': 8161, 'decides': 8162, 'folk': 8163, 'snowfall': 8164, 'sunny': 8165, 'denver': 8166, 'skubiszewski': 8167, 'pj': 8168, 'crowley': 8169, 'helsinki': 8170, 'dismayed': 8171, 'maulana': 8172, 'withholding': 8173, 'usrussian': 8174, 'nikolai': 8175, 'felony': 8176, 'integrated': 8177, 'anonymous': 8178, 'cartoonist': 8179, 'fun': 8180, 'toronto': 8181, 'yearend': 8182, 'stretched': 8183, 'cancelled': 8184, '63yearold': 8185, 'liberalize': 8186, 'wire': 8187, 'injustice': 8188, 'mercury': 8189, 'joschka': 8190, 'combating': 8191, 'contemporary': 8192, 'gallery': 8193, 'smart': 8194, 'graham': 8195, 'governmentsponsored': 8196, 'ransacked': 8197, 'prevents': 8198, '325': 8199, 'yahya': 8200, 'worship': 8201, 'guterres': 8202, 'titled': 8203, 'hardship': 8204, 'incite': 8205, 'chinesemade': 8206, 'expel': 8207, 'withdraws': 8208, 'eradicate': 8209, 'patriotic': 8210, 'barnier': 8211, 'technically': 8212, 'unstable': 8213, 'osh': 8214, 'radioactive': 8215, 'hip': 8216, 'alpine': 8217, 'skiing': 8218, 'registering': 8219, 'congratulate': 8220, 'lithuanian': 8221, '129': 8222, 'forgiveness': 8223, 'mindanao': 8224, 'cooking': 8225, 'fivemember': 8226, 'postabc': 8227, 'presumed': 8228, 'alarmed': 8229, 'ogaden': 8230, 'totaled': 8231, 'fta': 8232, 'subsidized': 8233, 'sluggish': 8234, 'confronting': 8235, 'catalyst': 8236, 'prevalence': 8237, 'relieve': 8238, 'hinder': 8239, 'establishes': 8240, 'neglect': 8241, 'montreal': 8242, 'solely': 8243, 'touching': 8244, 'profession': 8245, 'humanrights': 8246, 'centuriesold': 8247, 'marching': 8248, 'magnate': 8249, 'adequately': 8250, 'monastery': 8251, 'privileged': 8252, 'ndjamena': 8253, 'censor': 8254, 'prasad': 8255, 'jam': 8256, 'veered': 8257, 'nighttime': 8258, 'jumblatt': 8259, 'circulation': 8260, 'hooded': 8261, 'edge': 8262, 'almajid': 8263, 'gambari': 8264, 'iftikhar': 8265, 'sochi': 8266, 'subpoena': 8267, 'believer': 8268, 'requesting': 8269, '18000': 8270, 'julian': 8271, 'laghman': 8272, 'tissue': 8273, 'interpreted': 8274, 'alarm': 8275, 'meteorologist': 8276, 'daylong': 8277, 'gabriele': 8278, 'rini': 8279, 'retrieved': 8280, 'blizzard': 8281, 'ebadi': 8282, 'maine': 8283, 'dir': 8284, '171': 8285, 'innocence': 8286, 'zeng': 8287, 'fifthlargest': 8288, 'assert': 8289, 'ecowas': 8290, 'reluctant': 8291, 'earmarked': 8292, 'documentation': 8293, 'taxpayer': 8294, 'henan': 8295, 'stronach': 8296, '375': 8297, 'c': 8298, '108': 8299, 'grenadine': 8300, 'renamed': 8301, 'curacao': 8302, 'accommodate': 8303, 'conquer': 8304, 'dakota': 8305, 'noon': 8306, 'scrambling': 8307, 'gauge': 8308, 'sail': 8309, 'forth': 8310, 'unafghan': 8311, 'intergovernmental': 8312, 'daylight': 8313, 'shantytown': 8314, 'mobilized': 8315, 'torn': 8316, 'saran': 8317, 'obstructing': 8318, 'sailed': 8319, 'prof': 8320, 'fourthquarter': 8321, 'marketplace': 8322, 'kingpin': 8323, 'counterproductive': 8324, 'compelled': 8325, 'indefinite': 8326, 'layer': 8327, 'headline': 8328, 'lingering': 8329, 'plunge': 8330, 'revitalize': 8331, 'rejoin': 8332, 'contacting': 8333, 'mekong': 8334, 'methamphetamine': 8335, 'evict': 8336, 'durable': 8337, 'uneven': 8338, 'contesting': 8339, 'seashore': 8340, 'fulfilled': 8341, 'singing': 8342, '22yearold': 8343, 'kick': 8344, 'qualify': 8345, 'jeopardize': 8346, 'abdominal': 8347, 'lend': 8348, 'relying': 8349, 'clamp': 8350, 'cracked': 8351, 'anxious': 8352, 'eroded': 8353, 'feast': 8354, 'wise': 8355, 'nadal': 8356, 'numberone': 8357, 'ankle': 8358, 'liberalization': 8359, 'allstar': 8360, 'termination': 8361, 'wracked': 8362, 'monrovia': 8363, 'richardson': 8364, 'endorse': 8365, 'wary': 8366, 'pack': 8367, 'lent': 8368, 'filmed': 8369, 'ingushetia': 8370, 'caledonia': 8371, 'showdown': 8372, 'drastically': 8373, 'jetliner': 8374, 'entreated': 8375, 'inaugural': 8376, 'unsafe': 8377, 'grower': 8378, 'shelled': 8379, 'rehman': 8380, 'discouraging': 8381, 'uniformed': 8382, 'tueni': 8383, 'nice': 8384, '1830': 8385, 'bureaucratic': 8386, 'governed': 8387, 'ravine': 8388, 'matthew': 8389, '124': 8390, 'anil': 8391, 'nabih': 8392, 'berri': 8393, 'mutilated': 8394, 'consolidation': 8395, 'arabiclanguage': 8396, 'lynndie': 8397, 'bias': 8398, 'entrenched': 8399, 'rainy': 8400, 'depletion': 8401, 'stabilized': 8402, 'inspected': 8403, '84yearold': 8404, 'nativity': 8405, 'registry': 8406, 'unexpectedly': 8407, '145': 8408, 'speculate': 8409, 'charred': 8410, 'antitrust': 8411, 'unjustified': 8412, 'condom': 8413, 'aligned': 8414, 'javed': 8415, 'electrocuted': 8416, 'destroyer': 8417, 'featured': 8418, 'runner': 8419, '25year': 8420, 'lashkarejhangvi': 8421, 'multan': 8422, 'abyan': 8423, '111': 8424, 'spanta': 8425, 'morgan': 8426, 'sheltering': 8427, 'westward': 8428, 'underlying': 8429, 'tuna': 8430, 'arose': 8431, 'swam': 8432, 'alter': 8433, 'bible': 8434, 'malnutrition': 8435, 'divert': 8436, 'debating': 8437, 'henry': 8438, 'distress': 8439, 'pessimistic': 8440, 'avoided': 8441, 'yankee': 8442, 'extermination': 8443, 'assassin': 8444, 'casebycase': 8445, 'impression': 8446, 'flaw': 8447, 'justin': 8448, 'alsunna': 8449, 'pakistanicontrolled': 8450, 'treasure': 8451, 'profiling': 8452, 'revise': 8453, 'redistribute': 8454, 'accompanying': 8455, 'eric': 8456, 'ebolalike': 8457, 'minimize': 8458, 'crane': 8459, 'conte': 8460, 'installing': 8461, 'landmines': 8462, 'whoever': 8463, 'canyon': 8464, 'fog': 8465, 'dousteblazy': 8466, 'acquire': 8467, '58yearold': 8468, 'logging': 8469, 'rogers': 8470, 'restrain': 8471, 'complicated': 8472, 'pathogenic': 8473, 'kaduna': 8474, 'anders': 8475, 'rasmussen': 8476, 'slowmoving': 8477, 'yielded': 8478, '116': 8479, 'patience': 8480, 'hmong': 8481, 'filling': 8482, 'whitman': 8483, 'plateau': 8484, 'loading': 8485, 'psychological': 8486, 'northernbased': 8487, 'displacing': 8488, 'lander': 8489, 'panjwayi': 8490, 'reputed': 8491, 'rioted': 8492, 'bayelsa': 8493, 'berger': 8494, '1950s': 8495, 'argues': 8496, 'alexei': 8497, 'camilla': 8498, 'glimpse': 8499, 'aslam': 8500, '7085': 8501, 'initiate': 8502, 'turki': 8503, 'yacht': 8504, 'gotten': 8505, 'graphic': 8506, 'halfbrother': 8507, 'clampdown': 8508, '36yearold': 8509, 'wideranging': 8510, 'brawl': 8511, 'presenting': 8512, 'sped': 8513, 'loyalty': 8514, 'lara': 8515, 'jeweler': 8516, 'affirmed': 8517, 'gilbert': 8518, 'garrison': 8519, 'relinquished': 8520, '02': 8521, 'reversal': 8522, 'competitiveness': 8523, 'iraniraq': 8524, 'cooling': 8525, 'plunging': 8526, 'mahinda': 8527, 'rajapakse': 8528, 'enhancing': 8529, 'intimidate': 8530, '750000': 8531, 'northsouth': 8532, 'azimi': 8533, 'crater': 8534, 'leta': 8535, 'fincher': 8536, 'onequarter': 8537, '1958': 8538, 'isolate': 8539, 'looter': 8540, 'enduring': 8541, 'bongo': 8542, 'tract': 8543, 'letting': 8544, 'chun': 8545, '8500': 8546, 'unreported': 8547, 'bodman': 8548, 'zahir': 8549, 'finishing': 8550, 'shocking': 8551, 'devoted': 8552, 'conform': 8553, 'comrade': 8554, '101st': 8555, 'slept': 8556, 'constant': 8557, 'plight': 8558, 'breached': 8559, 'fledgling': 8560, 'mahee': 8561, 'marketing': 8562, 'reneged': 8563, 'popularly': 8564, 'ann': 8565, 'tome': 8566, 'rogue': 8567, 'alvarez': 8568, 'succeeds': 8569, 'blueprint': 8570, 'comparable': 8571, 'nauru': 8572, 'autocratic': 8573, 'restarting': 8574, 'discounted': 8575, 'profitable': 8576, 'illegitimate': 8577, 'typical': 8578, 'commissioned': 8579, 'financially': 8580, 'yuganskneftegas': 8581, 'maale': 8582, 'delp': 8583, 'hilltop': 8584, '55yearold': 8585, 'protective': 8586, '03feb': 8587, 'anabel': 8588, 'cho': 8589, 'mid1980s': 8590, 'clergy': 8591, 'butt': 8592, 'bowl': 8593, 'correctly': 8594, 'waheed': 8595, 'arshad': 8596, 'politkovskaya': 8597, 'fred': 8598, 'mechanical': 8599, 'grozny': 8600, 'discredit': 8601, 'rudd': 8602, 'guam': 8603, 'salehi': 8604, 'nursultan': 8605, 'miranshah': 8606, 'hainan': 8607, '173': 8608, 'projection': 8609, 'nonetheless': 8610, 'tearing': 8611, 'huntsman': 8612, 'wished': 8613, 'raffaele': 8614, 'impunity': 8615, 'cleaner': 8616, 'h5n2': 8617, 'carmona': 8618, 'reformer': 8619, 'comic': 8620, 'fourteen': 8621, 'killer': 8622, 'fossil': 8623, 'brisbane': 8624, '15year': 8625, 'overwhelmed': 8626, 'blasted': 8627, 'synagogue': 8628, 'comoros': 8629, 'verbal': 8630, 'courthouse': 8631, 'mccartney': 8632, 'miran': 8633, 'periodic': 8634, 'airlift': 8635, 'cirque': 8636, 'ca': 8637, 'baja': 8638, 'undergone': 8639, 'rupiah': 8640, 'vojislav': 8641, 'emigration': 8642, 'ecuadorian': 8643, 'startup': 8644, 'staple': 8645, 'lament': 8646, 'improper': 8647, 'poorer': 8648, 'asadabad': 8649, 'fournation': 8650, 'balanced': 8651, 'lendu': 8652, 'ride': 8653, 'barinov': 8654, 'hersh': 8655, 'sprinter': 8656, 'athletics': 8657, 'moi': 8658, 'knesset': 8659, 'reappointed': 8660, 'lightwater': 8661, 'lucio': 8662, 'cement': 8663, 'floating': 8664, 'forging': 8665, 'antiapartheid': 8666, 'nuclearfree': 8667, 'resettle': 8668, 'bouteflika': 8669, 'camara': 8670, 'translation': 8671, 'appreciation': 8672, 'copra': 8673, 'coin': 8674, 'medieval': 8675, '1865': 8676, 'emigrant': 8677, 'devil': 8678, 'dwelling': 8679, 'reader': 8680, 'grounding': 8681, 'flare': 8682, 'dove': 8683, 'flattened': 8684, 'wheelchair': 8685, 'stab': 8686, 'ahmet': 8687, 'justification': 8688, 'photojournalist': 8689, 'selfgoverning': 8690, 'commonly': 8691, 'acquiring': 8692, 'wrap': 8693, 'raymond': 8694, 'thigh': 8695, 'identifying': 8696, 'hallums': 8697, 'drum': 8698, 'sustainability': 8699, 'tarasyuk': 8700, 'doubling': 8701, 'nguyen': 8702, 'talibanled': 8703, 'illicit': 8704, 'bremer': 8705, 'smithsonian': 8706, 'mix': 8707, 'wholesale': 8708, 'sultanate': 8709, 'freemarket': 8710, 'warden': 8711, 'elementary': 8712, 'shandong': 8713, 'lobby': 8714, 'transmit': 8715, 'basin': 8716, 'madrazo': 8717, 'ethiopianbacked': 8718, 'c130': 8719, 'wayne': 8720, 'needy': 8721, 'unused': 8722, 'soar': 8723, 'yuriy': 8724, '18month': 8725, 'jason': 8726, 'respectively': 8727, 'barno': 8728, 'hillah': 8729, 'burundian': 8730, 'transform': 8731, 'eldest': 8732, 'pneumonia': 8733, 'innovative': 8734, 'altitude': 8735, 'ron': 8736, 'drunk': 8737, 'forever': 8738, 'contributor': 8739, 'criterion': 8740, 'introduce': 8741, 'jay': 8742, 'peacock': 8743, 'inch': 8744, 'teeth': 8745, 'cleaned': 8746, 'executing': 8747, 'robotic': 8748, 'salva': 8749, 'wider': 8750, 'mao': 8751, 'discover': 8752, 'kerala': 8753, 'lucie': 8754, 'dinara': 8755, 'pitch': 8756, 'economically': 8757, 'vazquez': 8758, 'montevideo': 8759, 'nevada': 8760, 'binding': 8761, 'fruitful': 8762, 'alias': 8763, 'backpack': 8764, 'wiretap': 8765, 'mandated': 8766, 'gateway': 8767, 'description': 8768, 'harmed': 8769, 'diving': 8770, '80yearold': 8771, 'shinzo': 8772, 'wielgus': 8773, 'telesur': 8774, 'attach': 8775, 'bode': 8776, 'rahlves': 8777, 'anton': 8778, 'appointing': 8779, 'ultimatum': 8780, 'mikheil': 8781, 'serbheld': 8782, 'heinous': 8783, 'bravo': 8784, 'blasting': 8785, 'intelogic': 8786, 'chartered': 8787, 'lobbyist': 8788, 'denis': 8789, 'tong': 8790, 'alston': 8791, 'alejandro': 8792, 'toledo': 8793, '67yearold': 8794, 'grateful': 8795, 'diaz': 8796, 'andrei': 8797, 'speeding': 8798, 'propalestinian': 8799, 'canister': 8800, 'gazabound': 8801, 'ak': 8802, 'tendered': 8803, 'backyard': 8804, 'norm': 8805, 'socioeconomic': 8806, 'aloft': 8807, 'reminded': 8808, 'narrated': 8809, 'sachs': 8810, 'tenure': 8811, '1954': 8812, '112': 8813, 'soup': 8814, 'aboul': 8815, 'hadassah': 8816, 'historian': 8817, 'damrey': 8818, 'alkidwa': 8819, '260': 8820, 'khz': 8821, 'crimean': 8822, 'elpaso': 8823, 'decent': 8824, 'underemployment': 8825, 'fullscale': 8826, 'tuareg': 8827, 'lamb': 8828, 'durban': 8829, 'privatelyowned': 8830, 'cooked': 8831, 'improperly': 8832, 'warmer': 8833, 'spectrum': 8834, 'presentday': 8835, 'bombardment': 8836, 'alazhar': 8837, 'haifa': 8838, 'shrinking': 8839, 'monde': 8840, 'robber': 8841, 'pounding': 8842, '60yearold': 8843, 'tornado': 8844, '113': 8845, 'abdulkadir': 8846, 'salaam': 8847, 'jokonya': 8848, 'regiment': 8849, 'tremendous': 8850, 'osce': 8851, 'regardless': 8852, 'casablanca': 8853, 'issuing': 8854, 'salvadoran': 8855, 'peg': 8856, 'angolan': 8857, 'indirectly': 8858, 'tsang': 8859, 'intent': 8860, 'ruegen': 8861, 'environmentally': 8862, 'abductees': 8863, 'ottawa': 8864, 'dock': 8865, 'scorpion': 8866, 'susanne': 8867, 'prone': 8868, 'planner': 8869, 'dunkin': 8870, 'middleincome': 8871, 'mid2008': 8872, 'cock': 8873, 'corner': 8874, 'spam': 8875, 'thank': 8876, 'hyderabad': 8877, 'akihito': 8878, '1944': 8879, 'glory': 8880, 'conocophillips': 8881, 'grief': 8882, 'eavesdropping': 8883, 'guatemalan': 8884, 'orchestrated': 8885, 'ancic': 8886, 'threeset': 8887, 'hekmatyar': 8888, 'emmanuel': 8889, 'akitanibob': 8890, 'husaybah': 8891, 'wang': 8892, 'cancercausing': 8893, 'mohamud': 8894, 'measuring': 8895, 'township': 8896, 'joyful': 8897, 'ghazi': 8898, 'parole': 8899, 'phnom': 8900, 'penh': 8901, 'fatigue': 8902, 'myth': 8903, 'statute': 8904, 'symonds': 8905, 'michele': 8906, 'rogge': 8907, 'sebastian': 8908, 'lowering': 8909, 'abkhaz': 8910, 'suitcase': 8911, 'uefa': 8912, 'postponing': 8913, 'kansa': 8914, 'anguilla': 8915, 'brutally': 8916, 'parkinson': 8917, 'duelfer': 8918, 'nonarab': 8919, 'seminar': 8920, 'karnataka': 8921, 'accreditation': 8922, 'budapest': 8923, 'adhere': 8924, 'breakdown': 8925, 'antiinsurgent': 8926, 'overturn': 8927, 'effectiveness': 8928, 'relieved': 8929, 'opener': 8930, 'reunited': 8931, 'processed': 8932, 'amorim': 8933, 'maarten': 8934, 'antilles': 8935, 'constitute': 8936, '1964': 8937, '1900': 8938, 'mood': 8939, 'uncle': 8940, 'sonia': 8941, 'beside': 8942, 'flurry': 8943, 'earn': 8944, 'pinera': 8945, 'relic': 8946, 'conquered': 8947, 'hawass': 8948, 'enormous': 8949, 'eager': 8950, 'suppressed': 8951, 'husseinov': 8952, 'huygens': 8953, 'roque': 8954, 'abandoning': 8955, 'rapper': 8956, 'horizon': 8957, 'rightly': 8958, 'sampling': 8959, '1939': 8960, 'dp': 8961, 'bakiev': 8962, 'brasilia': 8963, 'antiislamic': 8964, 'umbrella': 8965, 'turbulent': 8966, 'mental': 8967, 'confronted': 8968, 'twostate': 8969, 'workshop': 8970, 'cruz': 8971, 'fend': 8972, 'profitability': 8973, 'renewing': 8974, 'prefecture': 8975, 'sorry': 8976, 'demolished': 8977, 'intercept': 8978, '40yearold': 8979, 'anatoly': 8980, 'kampala': 8981, '81yearold': 8982, 'undetermined': 8983, 'nonmuslims': 8984, 'disturbed': 8985, 'inspire': 8986, 'widen': 8987, 'bacteria': 8988, 'dprk': 8989, 'myungbak': 8990, 'guyana': 8991, 'abolition': 8992, 'downplayed': 8993, 'auspex': 8994, 'farright': 8995, 'cdc': 8996, 'inflicted': 8997, 'bakery': 8998, 'nujoma': 8999, 'construct': 9000, 'scarce': 9001, 'outer': 9002, 'renewal': 9003, 'arena': 9004, 'unocal': 9005, 'gust': 9006, 'mentioning': 9007, 'anfal': 9008, 'usrun': 9009, 'suffocation': 9010, 'barcodes': 9011, 'silvan': 9012, 'padilla': 9013, 'lone': 9014, 'metro': 9015, 'mardi': 9016, 'gras': 9017, 'ngwira': 9018, 'iles': 9019, 'stewart': 9020, 'goat': 9021, '11day': 9022, 'infamous': 9023, 'seismologist': 9024, 'tianjin': 9025, '550': 9026, 'pricing': 9027, 'hound': 9028, 'cyber': 9029, 'protects': 9030, 'discharge': 9031, 'runup': 9032, 'auckland': 9033, 'flour': 9034, '106': 9035, 'chaco': 9036, '1932': 9037, 'pilgrimage': 9038, 'noise': 9039, 'bei': 9040, 'gatlin': 9041, 'aided': 9042, '1955': 9043, 'backlash': 9044, 'tremor': 9045, 'agca': 9046, 'elton': 9047, 'poisonous': 9048, 'smooth': 9049, '120member': 9050, 'francis': 9051, 'qari': 9052, 'abubakar': 9053, 'borrow': 9054, 'cordoned': 9055, 'haas': 9056, 'conquest': 9057, 'halliburton': 9058, 'advocating': 9059, 'danielle': 9060, 'manning': 9061, 'cardenas': 9062, 'rohmer': 9063, 'absent': 9064, 'erik': 9065, 'solheim': 9066, 'km': 9067, 'rezko': 9068, 'horror': 9069, 'republicancontrolled': 9070, 'prewar': 9071, 'adjust': 9072, 'quran': 9073, 'consciousness': 9074, 'conferred': 9075, 'fillon': 9076, 'abusive': 9077, 'consult': 9078, 'molina': 9079, 'stripped': 9080, 'zia': 9081, 'isle': 9082, 'aswat': 9083, 'raffarin': 9084, 'mukasey': 9085, 'organ': 9086, 'jos': 9087, 'nonviolent': 9088, 'hercules': 9089, 'ramda': 9090, 'rsf': 9091, 'concede': 9092, 'djindjic': 9093, 'prediction': 9094, 'sticking': 9095, 'slaying': 9096, 'insecurity': 9097, 'expansionary': 9098, 'dream': 9099, 'mashaie': 9100, '101': 9101, 'breakfast': 9102, 'stern': 9103, 'exam': 9104, 'jameson': 9105, 'fiery': 9106, 'bakri': 9107, 'cosatu': 9108, 'playoff': 9109, 'mullen': 9110, 'traded': 9111, 'fda': 9112, 'moiseyev': 9113, 'reyna': 9114, 'steele': 9115, 'acceptable': 9116, 'witty': 9117, 'flea': 9118, 'pius': 9119, 'ltte': 9120, 'axum': 9121, 'pastrana': 9122, 'dome': 9123, 'papadopoulos': 9124, 'srebotnik': 9125, 'mourn': 9126, 'badghis': 9127, 'mikati': 9128, 'fitting': 9129, 'jankovic': 9130, 'falun': 9131, 'gong': 9132, 'gamsakhurdia': 9133, 'asteroid': 9134, 'bishara': 9135, 'upscale': 9136, 'cerkez': 9137, 'tripura': 9138, 'soprano': 9139, 'mowlam': 9140, 'defect': 9141, 'partition': 9142, 'cofounder': 9143, 'raila': 9144, '\\x85': 9145, '\\x94': 9146, 'truly': 9147, 'attendee': 9148, 'hiriart': 9149, 'chiapas': 9150, 'mysterious': 9151, 'execute': 9152, 'brigadiergeneral': 9153, 'sabah': 9154, 'contradicts': 9155, 'dire': 9156, 'shed': 9157, 'deprived': 9158, 'sleep': 9159, 'diversifying': 9160, 'continuous': 9161, 'siphoning': 9162, 'constraint': 9163, 'yearold': 9164, 'unequal': 9165, 'mathematician': 9166, 'pink': 9167, 'geoff': 9168, 'testifying': 9169, 'mock': 9170, 'kupwara': 9171, 'fried': 9172, 'frivolous': 9173, 'comfortable': 9174, 'hotbed': 9175, 'alex': 9176, 'beset': 9177, 'inexpensive': 9178, 'abed': 9179, 'aghazadeh': 9180, 'tightly': 9181, 'eyewitness': 9182, 'exhumed': 9183, 'rolling': 9184, 'lincoln': 9185, 'raider': 9186, 'lleyton': 9187, 'numbertwo': 9188, 'secondseeded': 9189, 'florian': 9190, 'andreas': 9191, 'jarkko': 9192, 'kenneth': 9193, 'tune': 9194, 'mandy': 9195, 'parish': 9196, 'specialty': 9197, 'kilometerperhour': 9198, 'overture': 9199, 'enforcing': 9200, 'injected': 9201, 'tuz': 9202, 'visibility': 9203, 'sympathy': 9204, 'statesman': 9205, 'archaeological': 9206, 'prizewinning': 9207, '82yearold': 9208, 'exercising': 9209, 'assemble': 9210, 'courtmartial': 9211, 'cosmonaut': 9212, 'humiliating': 9213, 'robbing': 9214, 'alhaidari': 9215, 'deepen': 9216, 'proving': 9217, 'piano': 9218, 'saeed': 9219, 'thrift': 9220, 'fertile': 9221, 'highland': 9222, 'alumina': 9223, 'carib': 9224, 'nest': 9225, 'trampled': 9226, 'artwork': 9227, 'chip': 9228, 'clay': 9229, 'orphanage': 9230, 'shortwave': 9231, '52yearold': 9232, 'blank': 9233, 'prijedor': 9234, 'abraham': 9235, 'nicosia': 9236, 'fleming': 9237, 'impartial': 9238, 'monthslong': 9239, 'diwaniyah': 9240, 'ruined': 9241, 'dioxin': 9242, 'groin': 9243, 'bye': 9244, 'alqaeda': 9245, 'kommersant': 9246, 'sinhalese': 9247, 'relaxed': 9248, 'qalqiliya': 9249, 'nimroz': 9250, 'naqib': 9251, '25member': 9252, 'adamkus': 9253, 'vastly': 9254, 'egyptianborn': 9255, 'complying': 9256, 'pullback': 9257, 'millimeter': 9258, 'twoyearold': 9259, 'swath': 9260, 'firmly': 9261, 'hiroyuki': 9262, 'hosoda': 9263, 'occurrence': 9264, 'saddened': 9265, 'ike': 9266, 'ration': 9267, 'pen': 9268, 'chooses': 9269, 'icon': 9270, 'franklin': 9271, 'roosevelt': 9272, 'disability': 9273, 'paralyzed': 9274, 'shabelle': 9275, 'lowpriced': 9276, '373': 9277, 'cane': 9278, 'antisubmarine': 9279, 'premise': 9280, 'widened': 9281, 'gray': 9282, 'spared': 9283, 'highgrade': 9284, 'diminished': 9285, 'peaked': 9286, 'reservist': 9287, '350000': 9288, 'module': 9289, 'soyuz': 9290, 'motorbike': 9291, 'gholam': 9292, 'haddad': 9293, 'endanger': 9294, 'exceptional': 9295, '90000': 9296, 'britishbased': 9297, 'airfield': 9298, 'splinter': 9299, 'gleneagles': 9300, 'implicates': 9301, 'roaming': 9302, 'humiliation': 9303, 'bombmaker': 9304, 'hopman': 9305, 'perth': 9306, 'groupa': 9307, 'surrendering': 9308, 'circle': 9309, 'avenge': 9310, 'madeleine': 9311, 'farewell': 9312, 'headache': 9313, 'bayji': 9314, 'prohibiting': 9315, 'perception': 9316, 'vigilant': 9317, 'uphold': 9318, 'tracked': 9319, 'interpretation': 9320, 'fundamentalist': 9321, 'tijuana': 9322, 'blatant': 9323, 'alzawahri': 9324, 'cd': 9325, 'pretrial': 9326, 'hindering': 9327, 'reacting': 9328, 'unconditional': 9329, 'haste': 9330, '22nd': 9331, 'withhold': 9332, 'satisfactory': 9333, '1783': 9334, 'distanced': 9335, 'absorbed': 9336, 'complicate': 9337, 'prefer': 9338, 'bramble': 9339, 'hedge': 9340, 'vain': 9341, '03': 9342, 'junk': 9343, 'auditing': 9344, 'annulled': 9345, 'corrected': 9346, 'renovation': 9347, 'mulford': 9348, 'shyam': 9349, 'petersen': 9350, 'tsunamihit': 9351, '225seat': 9352, '176': 9353, 'maize': 9354, 'semlow': 9355, 'mastery': 9356, 'harriet': 9357, 'misunderstanding': 9358, 'democratization': 9359, 'secondhand': 9360, '430': 9361, 'rugova': 9362, 'cordon': 9363, 'cindy': 9364, 'aye': 9365, 'daniele': 9366, 'repubblica': 9367, 'reversing': 9368, 'cochair': 9369, '49yearold': 9370, 'covertly': 9371, 'signaling': 9372, 'tnkbp': 9373, 'enrique': 9374, 'oumarou': 9375, 'amadou': 9376, 'nardiello': 9377, 'tablet': 9378, 'instill': 9379, 'paddy': 9380, 'bow': 9381, 'magistrate': 9382, 'assure': 9383, 'tender': 9384, 'anemic': 9385, 'railroad': 9386, 'chinamasa': 9387, '25th': 9388, 'pharaoh': 9389, 'midafternoon': 9390, 'g': 9391, 'inconclusive': 9392, 'headon': 9393, 'moussaoui': 9394, 'dumping': 9395, 'accelerated': 9396, 'davos': 9397, 'stormy': 9398, 'availability': 9399, 'interruption': 9400, 'petty': 9401, 'diversity': 9402, 'siberian': 9403, 'imposes': 9404, 'normalize': 9405, '199': 9406, '136': 9407, 'erosion': 9408, 'aggravated': 9409, 'universe': 9410, 'infidel': 9411, 'authenticated': 9412, 'reveler': 9413, 'samba': 9414, 'sirnak': 9415, 'facetoface': 9416, 'inefficiency': 9417, 'beachfront': 9418, 'punching': 9419, 'handcuff': 9420, 'ekmeleddin': 9421, 'ihsanoglu': 9422, 'rove': 9423, '170000': 9424, 'recapture': 9425, 'spiraling': 9426, 'absolutely': 9427, 'implicating': 9428, 'marketoriented': 9429, 'impede': 9430, 'introducing': 9431, 'heal': 9432, 'prescribe': 9433, 'bitterly': 9434, 'lamented': 9435, 'disregard': 9436, '18yearold': 9437, 'ejected': 9438, 'lagging': 9439, 'exhaustion': 9440, 'spends': 9441, 'ghanaian': 9442, 'conceived': 9443, 'occupy': 9444, 'mistreating': 9445, 'escalate': 9446, 'decapitated': 9447, 'likelihood': 9448, 'multibillion': 9449, 'amanullah': 9450, '2700': 9451, 'differs': 9452, 'sulawesi': 9453, 'herd': 9454, 'tenerife': 9455, 'autocracy': 9456, 'subsided': 9457, 'chart': 9458, 'cheer': 9459, 'applause': 9460, 'microphone': 9461, 'yasukuni': 9462, 'electionrelated': 9463, '3600': 9464, 'kate': 9465, 'mccann': 9466, 'regarded': 9467, 'occupant': 9468, 'ak47': 9469, 'prosecuting': 9470, 'iberoamerican': 9471, 'assessed': 9472, 'smoothly': 9473, 'snapped': 9474, 'ken': 9475, 'faulty': 9476, 'natoafghan': 9477, 'cheema': 9478, 'jirga': 9479, 'precinct': 9480, 'residency': 9481, 'bypass': 9482, 'recovers': 9483, 'collective': 9484, 'pranab': 9485, 'bombarded': 9486, 'skepticism': 9487, 'intensifying': 9488, 'barring': 9489, 'bargaining': 9490, 'grandmother': 9491, 'miracle': 9492, 'littleknown': 9493, 'unverifiable': 9494, 'sprayed': 9495, 'dadfar': 9496, 'qureshi': 9497, 'upheaval': 9498, '235': 9499, 'hammer': 9500, 'mere': 9501, 'pegged': 9502, 'procurement': 9503, 'remarkable': 9504, 'fluctuation': 9505, 'cleansing': 9506, 'perished': 9507, 'nile': 9508, 'elevator': 9509, 'frame': 9510, 'boroujerdi': 9511, 'desk': 9512, 'forgiven': 9513, 'luge': 9514, 'shattering': 9515, 'shrank': 9516, '04': 9517, 'salih': 9518, 'josh': 9519, 'sounded': 9520, 'feuding': 9521, 'geneina': 9522, 'mathieu': 9523, 'jaroslaw': 9524, 'sickened': 9525, 'malisse': 9526, 'guillermo': 9527, 'plaguing': 9528, 'practicing': 9529, 'bold': 9530, 'badr': 9531, 'rockslide': 9532, 'cristina': 9533, 'sana': 9534, 'alyousifi': 9535, 'qaim': 9536, 'incurable': 9537, 'conceded': 9538, 'sculpture': 9539, 'sprint': 9540, '10kilometer': 9541, '118': 9542, 'lap': 9543, 'downstream': 9544, 'discovering': 9545, 'philippe': 9546, 'ingrid': 9547, 'publicity': 9548, 'konstantin': 9549, 'luzon': 9550, 'weightlifting': 9551, 'convertible': 9552, 'induced': 9553, 'nominal': 9554, 'franc': 9555, 'efta': 9556, 'grey': 9557, 'vigorous': 9558, 'float': 9559, 'centralized': 9560, 'tow': 9561, 'insured': 9562, 'softball': 9563, 'cure': 9564, 'improves': 9565, 'disinfected': 9566, 'applies': 9567, 'fogh': 9568, 'battering': 9569, 'nova': 9570, 'fifty': 9571, 'grows': 9572, 'nobutaka': 9573, 'nimeiri': 9574, '79yearold': 9575, '22year': 9576, 'gunship': 9577, 'transatlantic': 9578, 'bryan': 9579, 'friction': 9580, 'fitzgerald': 9581, 'dresden': 9582, 'yorker': 9583, 'plame': 9584, 'flipped': 9585, 'drenched': 9586, 'garmser': 9587, 'tangerang': 9588, '29yearold': 9589, 'transmissible': 9590, 'zhari': 9591, 'expands': 9592, 'warmest': 9593, 'arming': 9594, 'olli': 9595, 'heinonen': 9596, 'mau': 9597, '1952': 9598, 'undersea': 9599, 'rattle': 9600, 'retracted': 9601, 'onlooker': 9602, 'fist': 9603, 'accumulated': 9604, 'wo': 9605, 'inviting': 9606, 'provoking': 9607, 'recount': 9608, 'governmentinexile': 9609, 'sevenyearold': 9610, 'greenpeace': 9611, '280': 9612, 'proopposition': 9613, 'katowice': 9614, 'wine': 9615, 'nearest': 9616, 'threemember': 9617, 'sidr': 9618, 'derives': 9619, 'selfrule': 9620, '16year': 9621, 'privatize': 9622, 'unhappy': 9623, 'punishing': 9624, 'thereafter': 9625, 'barbara': 9626, 'disgusting': 9627, 'secede': 9628, 'majid': 9629, 'aged': 9630, 'middecember': 9631, 'yu': 9632, 'stabbing': 9633, 'overthrown': 9634, 'prop': 9635, 'herbert': 9636, 'subprime': 9637, 'specified': 9638, 'oppressed': 9639, 'stride': 9640, 'joaquin': 9641, 'navarrovalls': 9642, '1924': 9643, 'segolene': 9644, 'loaned': 9645, 'moneylaundering': 9646, 'susan': 9647, 'overhaul': 9648, 'albaghdadi': 9649, 'modification': 9650, 'fahd': 9651, 'alsabah': 9652, 'unwelcome': 9653, 'ridicule': 9654, 'demolish': 9655, 'jalgaon': 9656, 'therefore': 9657, 'evicted': 9658, 'advises': 9659, 'stuttgart': 9660, 'vaz': 9661, 'almeida': 9662, 'torrijos': 9663, 'splitting': 9664, 'tunisian': 9665, 'versus': 9666, 'aluminum': 9667, 'repatriate': 9668, 'arkansas': 9669, 'horseback': 9670, 'begged': 9671, 'physicist': 9672, 'bucket': 9673, 'solved': 9674, 'modeled': 9675, 'harmony': 9676, 'billingslea': 9677, 'creates': 9678, 'roadmap': 9679, 'peer': 9680, 'threehour': 9681, 'julia': 9682, 'robertson': 9683, 'unionist': 9684, 'tabloid': 9685, 'pascal': 9686, 'lakshman': 9687, 'kadirgamar': 9688, 'hw': 9689, 'aslan': 9690, 'consistently': 9691, 'timeline': 9692, 'unconfirmed': 9693, '38yearold': 9694, 'shaikh': 9695, 'facilitating': 9696, 'federico': 9697, 'lombardi': 9698, 'samir': 9699, 'judaism': 9700, 'lightly': 9701, 'sundown': 9702, 'reed': 9703, 'delphi': 9704, 'rebounding': 9705, 'viking': 9706, '1814': 9707, '1905': 9708, 'bent': 9709, 'kigali': 9710, 'spectacle': 9711, 'inspiration': 9712, 'chittagong': 9713, 'drain': 9714, 'quadruple': 9715, 'breath': 9716, 'variant': 9717, 'bernie': 9718, 'leash': 9719, 'disagree': 9720, '2400': 9721, 'titanosaur': 9722, 'rancher': 9723, 'jordanianborn': 9724, 'dodd': 9725, '12month': 9726, 'departed': 9727, 'receding': 9728, 'instruction': 9729, 'airlifted': 9730, 'pleading': 9731, 'contend': 9732, 'aspect': 9733, '195': 9734, 'artificial': 9735, 'slipping': 9736, 'wiping': 9737, '05': 9738, '230': 9739, 'nabil': 9740, 'jolted': 9741, 'bam': 9742, 'administering': 9743, 'excluded': 9744, 'nouakchott': 9745, '144': 9746, 'defaulted': 9747, 'navigation': 9748, 'sgrena': 9749, 'engulfed': 9750, 'nath': 9751, 'scuffle': 9752, 'trucker': 9753, 'abdelrahman': 9754, 'transforming': 9755, 'lukoil': 9756, 'neverland': 9757, 'accorded': 9758, 'jeep': 9759, 'clogged': 9760, 'elia': 9761, 'mena': 9762, 'olsson': 9763, 'wreck': 9764, 'ceasefires': 9765, 'brazzaville': 9766, 'casey': 9767, 'vigil': 9768, 'shopper': 9769, 'erez': 9770, 'midjune': 9771, 'subdue': 9772, 'consensual': 9773, 'incidence': 9774, 'defines': 9775, 'invite': 9776, 'wheel': 9777, 'fatwa': 9778, 'taba': 9779, '1928': 9780, 'urine': 9781, 'enable': 9782, 'undercut': 9783, 'bedouin': 9784, 'stir': 9785, '10yearold': 9786, 'frightened': 9787, 'teamed': 9788, 'tokelau': 9789, 'underdeveloped': 9790, 'encouragement': 9791, 'mongolian': 9792, 'arlington': 9793, '137': 9794, 'escaping': 9795, 'ruthless': 9796, 'necdet': 9797, 'sezer': 9798, 'consuming': 9799, 'grid': 9800, '1867': 9801, 'kathleen': 9802, 'noguchi': 9803, 'fracture': 9804, 'parcel': 9805, 'defused': 9806, 'streamline': 9807, 'affluent': 9808, 'fairness': 9809, '117': 9810, 'quitting': 9811, 'premiere': 9812, '168': 9813, 'convincing': 9814, 'agreeing': 9815, 'domingo': 9816, 'resurfaced': 9817, 'pornography': 9818, 'appropriately': 9819, 'menatep': 9820, 'overshot': 9821, 'pumped': 9822, 'hizbul': 9823, 'figueredo': 9824, 'sabotaged': 9825, 'presentation': 9826, 'yearearlier': 9827, '192': 9828, 'softer': 9829, 'hockey': 9830, '1946': 9831, 'alasad': 9832, 'shane': 9833, 'groupb': 9834, 'trafficked': 9835, 'sand': 9836, 'ah': 9837, 'qingdao': 9838, 'kemal': 9839, 'fared': 9840, 'amazon': 9841, 'petroecuador': 9842, 'thirty': 9843, 'pan': 9844, 'institutional': 9845, 'pri': 9846, 'electing': 9847, 'lovato': 9848, 'citgo': 9849, 'shorter': 9850, 'publishes': 9851, 'noriega': 9852, 'neutralized': 9853, 'joel': 9854, 'uncongolese': 9855, '21member': 9856, 'panamanianflagged': 9857, 'dane': 9858, 'equitable': 9859, 'raft': 9860, 'petroleos': 9861, 'impending': 9862, 'hugh': 9863, 'insurer': 9864, 'marketbased': 9865, 'alleviate': 9866, 'annoyed': 9867, 'claw': 9868, 'auditor': 9869, 'selfgovernment': 9870, 'sir': 9871, 'unreasonable': 9872, 'spearheaded': 9873, 'injure': 9874, 'moro': 9875, 'slumping': 9876, 'kalam': 9877, 'distinctive': 9878, 'carl': 9879, 'streak': 9880, 'gregory': 9881, 'coconspirator': 9882, 'psychiatric': 9883, 'zulia': 9884, 'warner': 9885, 'dominguez': 9886, 'raced': 9887, 'threetenths': 9888, 'pretty': 9889, 'khel': 9890, 'airlifting': 9891, 'formality': 9892, 'marco': 9893, 'textbook': 9894, 'acceptance': 9895, 'applicant': 9896, 'steppedup': 9897, 'bruce': 9898, 'golding': 9899, 'nathan': 9900, 'justine': 9901, 'wiretapping': 9902, 'aquatic': 9903, 'homosexuality': 9904, 'primerica': 9905, 'endowed': 9906, 'relied': 9907, 'secretive': 9908, 'opted': 9909, 'disguise': 9910, '230000': 9911, '21000': 9912, 'clarification': 9913, 'angrily': 9914, 'spinal': 9915, 'reimposed': 9916, 'vary': 9917, 'communistera': 9918, 'rhetoric': 9919, 'fiction': 9920, '53nation': 9921, 'sway': 9922, 'bidder': 9923, 'rajoelina': 9924, 'midmarch': 9925, 'advocated': 9926, 'stretching': 9927, 'melted': 9928, 'subaru': 9929, 'demobilization': 9930, 'n': 9931, '37yearold': 9932, 'gearing': 9933, 'sleeping': 9934, 'charsadda': 9935, 'kam': 9936, 'alhindi': 9937, 'unexploded': 9938, 'painted': 9939, 'thin': 9940, 'fourdecade': 9941, 'edelman': 9942, '162': 9943, 'ackerman': 9944, 'harvesting': 9945, 'manpower': 9946, 'purely': 9947, 'guiana': 9948, 'reunion': 9949, 'sugarcane': 9950, 'stating': 9951, 'debated': 9952, 'sheik': 9953, 'climbing': 9954, 'emotional': 9955, 'knowing': 9956, 'reprinting': 9957, 'reprinted': 9958, 'urduspeaking': 9959, 'deplored': 9960, 'galle': 9961, 'lankans': 9962, 'laughed': 9963, 'bannu': 9964, 'cursed': 9965, 'karroubi': 9966, 'ghulam': 9967, '22000': 9968, 'choking': 9969, 'steven': 9970, 'hamascontrolled': 9971, 'catching': 9972, 'islamistrooted': 9973, 'cereal': 9974, 'rand': 9975, '1815': 9976, 'colonized': 9977, '1951': 9978, 'subdued': 9979, 'expresident': 9980, 'bertrand': 9981, 'johndroe': 9982, 'xi': 9983, 'battalion': 9984, 'tolerated': 9985, 'dictate': 9986, 'topolm': 9987, 'payload': 9988, 'topol': 9989, 'camped': 9990, 'awardwinning': 9991, 'choreographer': 9992, 'nobody': 9993, 'traced': 9994, 'degrading': 9995, 'bratislava': 9996, 'farouk': 9997, 'weighing': 9998, 'birthplace': 9999, 'atrophy': 10000, 'capped': 10001, 'commended': 10002, 'zuloaga': 10003, 'peyton': 10004, 'onboard': 10005, 'equus': 10006, 'boer': 10007, 'bare': 10008, 'minimal': 10009, 'agrarian': 10010, 'oh': 10011, 'enabling': 10012, 'thirst': 10013, 'softening': 10014, 'pretext': 10015, 'vandalism': 10016, 'dale': 10017, 'threematch': 10018, 'reassured': 10019, 'forbid': 10020, 'usmexican': 10021, 'infecting': 10022, 'fixing': 10023, 'usaid': 10024, 'longwang': 10025, 'cartagena': 10026, 'paerson': 10027, 'differ': 10028, 'installment': 10029, 'sharma': 10030, 'escorting': 10031, 'reckless': 10032, 'churn': 10033, 'sofia': 10034, 'comprised': 10035, 'grammys': 10036, 'dignity': 10037, 'orderly': 10038, 'guitar': 10039, 'endeavour': 10040, 'intellectual': 10041, 'rebuilt': 10042, 'rafiq': 10043, 'exploitable': 10044, '1957': 10045, 'wrath': 10046, 'sung': 10047, 'hammered': 10048, 'micheletti': 10049, 'reclusive': 10050, 'fiveyearold': 10051, 'theo': 10052, 'bouyeri': 10053, 'normalization': 10054, 'sighted': 10055, 'medecins': 10056, 'bihar': 10057, 'influx': 10058, 'derbez': 10059, 'eighteen': 10060, 'nyamwasa': 10061, 'benn': 10062, 'reconstruct': 10063, 'memoir': 10064, 'firecracker': 10065, 'shiiteled': 10066, 'symbolic': 10067, 'falcon': 10068, 'quail': 10069, 'hispaniola': 10070, 'bore': 10071, 'billboard': 10072, 'larry': 10073, 'dd': 10074, 'palm': 10075, 'decreasing': 10076, '1936': 10077, 'franco': 10078, 'sixteen': 10079, 'tzipi': 10080, '41yearold': 10081, 'telecom': 10082, 'gallon': 10083, 'animated': 10084, 'aussie': 10085, 'unwanted': 10086, 'expertise': 10087, 'sided': 10088, 'scooter': 10089, 'jing': 10090, 'miroslav': 10091, 'nastase': 10092, 'pensioner': 10093, 'bosch': 10094, 'boskovski': 10095, 'cheehwa': 10096, 'usiraqi': 10097, '320': 10098, 'ashkelon': 10099, '71yearold': 10100, 'cutoff': 10101, 'beattie': 10102, 'nur': 10103, 'aegean': 10104, 'timberlake': 10105, 'noncombat': 10106, 'nonamerican': 10107, 'ripping': 10108, 'detonator': 10109, 'diver': 10110, 'hamadi': 10111, 'principally': 10112, 'dhekelia': 10113, 'fold': 10114, 'interrupting': 10115, 'oscar': 10116, 'aria': 10117, 'backdrop': 10118, 'concealed': 10119, 'typically': 10120, 'wrestler': 10121, 'purge': 10122, 'steroid': 10123, 'outlaw': 10124, 'civilization': 10125, 'cauldron': 10126, 'simultaneously': 10127, 'lowincome': 10128, 'pouring': 10129, 'chlorine': 10130, 'backup': 10131, 'allowance': 10132, 'napolitano': 10133, 'flatly': 10134, 'kumar': 10135, 'sp': 10136, 'ndc': 10137, 'quang': 10138, 'hivaids': 10139, 'incitement': 10140, 'culminated': 10141, 'unabated': 10142, 'owe': 10143, 'policymakers': 10144, 'concerted': 10145, 'jamie': 10146, 'sen': 10147, 'spiral': 10148, 'recalling': 10149, 'explains': 10150, 'inductee': 10151, 'kicking': 10152, 'costcutting': 10153, 'decisive': 10154, 'onehalf': 10155, 'handgun': 10156, 'listener': 10157, 'abdulaziz': 10158, '156': 10159, 'beck': 10160, 'ortiz': 10161, 'jaffer': 10162, 'laxman': 10163, 'defying': 10164, 'panicked': 10165, 'restated': 10166, 'eprdf': 10167, 'fuji': 10168, 'daimlerchrysler': 10169, 'zebra': 10170, 'copei': 10171, 'obvious': 10172, 'clearance': 10173, 'austin': 10174, 'stalin': 10175, 'stagnated': 10176, 'niue': 10177, 'honey': 10178, 'cream': 10179, 'battlefield': 10180, 'bakool': 10181, 'sevastopol': 10182, 'nabi': 10183, 'bauer': 10184, 'fattal': 10185, '50yearold': 10186, 'ilham': 10187, 'armstrong': 10188, 'genetic': 10189, 'earning': 10190, 'misfortune': 10191, 'schoolgirl': 10192, 'partisan': 10193, 'stuck': 10194, 'answering': 10195, 'comedian': 10196, 'nerve': 10197, 'rent': 10198, 'frigate': 10199, 'pittsburgh': 10200, 'finalizing': 10201, 'jerzy': 10202, 'reliberation': 10203, 'robredo': 10204, 'ayad': 10205, 'unsealed': 10206, 'tech': 10207, 'iraqiya': 10208, '142': 10209, 'claus': 10210, 'cave': 10211, 'nineyearold': 10212, 'perisic': 10213, 'erratic': 10214, 'preceding': 10215, 'presides': 10216, 'secrecy': 10217, 'siti': 10218, 'supari': 10219, 'ace': 10220, 'runnerup': 10221, 'funneling': 10222, 'stoning': 10223, 'capitalized': 10224, 'hinge': 10225, 'accuracy': 10226, 'inaccuracy': 10227, 'pat': 10228, 'culprit': 10229, 'gene': 10230, 'stabbed': 10231, 'din': 10232, 'leaflet': 10233, 'sketchy': 10234, 'ursula': 10235, 'prohibit': 10236, 'hospitality': 10237, 'domino': 10238, 'portrait': 10239, 'verifying': 10240, 'ensuing': 10241, 'assumption': 10242, '1920s': 10243, 'reef': 10244, 'placard': 10245, 'shopkeeper': 10246, 'flagdraped': 10247, 'disciplined': 10248, 'bajram': 10249, 'ceku': 10250, 'foster': 10251, 'janata': 10252, 'corridor': 10253, 'landfill': 10254, 'backward': 10255, 'deserter': 10256, 'julio': 10257, 'designation': 10258, 'dawei': 10259, 'legalized': 10260, 'discusses': 10261, 'mortality': 10262, 'alkhaznawi': 10263, 'diyarbakir': 10264, 'perspective': 10265, 'voyage': 10266, 'cylinder': 10267, 'apparatus': 10268, 'tajik': 10269, 'twohour': 10270, 'fascist': 10271, 'ostrich': 10272, 'reprehensible': 10273, 'blog': 10274, 'diwali': 10275, 'hun': 10276, '31000': 10277, 'strifetorn': 10278, '35member': 10279, 'ghad': 10280, 'informing': 10281, 'nagasaki': 10282, 'delimit': 10283, 'kanu': 10284, 'deceased': 10285, 'kyodo': 10286, 'groenefeld': 10287, 'clemency': 10288, 'kai': 10289, 'inundated': 10290, 'juventus': 10291, 'clunkers': 10292, 'suez': 10293, '141': 10294, 'comprise': 10295, '34yearold': 10296, 'jumping': 10297, 'pitcairn': 10298, 'akrotiri': 10299, 'embroiled': 10300, 'undertook': 10301, 'degradation': 10302, 'davenport': 10303, 'mutually': 10304, 'practical': 10305, 'bouterse': 10306, 'shilpa': 10307, 'kissed': 10308, 'bayan': 10309, 'jabr': 10310, 'ariana': 10311, 'greekowned': 10312, 'collins': 10313, 'orissa': 10314, 'directive': 10315, 'ningbo': 10316, 'racing': 10317, 'newer': 10318, 'cutback': 10319, '1921': 10320, 'sutherland': 10321, 'friedan': 10322, 'controller': 10323, 'infect': 10324, 'destabilizing': 10325, 'antimissile': 10326, 'dairy': 10327, 'ramush': 10328, 'subordinate': 10329, '14yearold': 10330, 'careful': 10331, 'dye': 10332, 'exceeds': 10333, 'hoon': 10334, 'antiisrael': 10335, 'wheeler': 10336, 'terrorrelated': 10337, 'commentary': 10338, 'camel': 10339, 'jockey': 10340, 'misery': 10341, 'inaccessible': 10342, 'yam': 10343, 'wet': 10344, 'shortselling': 10345, 'mutua': 10346, 'leasing': 10347, 'chadsudan': 10348, 'abdallah': 10349, 'reinforced': 10350, 'adkins': 10351, 'homecoming': 10352, '40year': 10353, 'bolstered': 10354, 'weigh': 10355, 'doubledigit': 10356, '1492': 10357, 'karim': 10358, 'choudhury': 10359, 'negatively': 10360, 'solider': 10361, 'carlo': 10362, 'tsunamidevastated': 10363, 'corporal': 10364, 'converging': 10365, 'usher': 10366, '32000': 10367, 'shrapnel': 10368, 'desai': 10369, 'wisdom': 10370, 'oo': 10371, 'bollea': 10372, 'kizza': 10373, 'sadness': 10374, 'paisley': 10375, 'sinn': 10376, 'fein': 10377, 'heir': 10378, 'recommending': 10379, 'kulov': 10380, '1872': 10381, 'ecotourism': 10382, 'fearfully': 10383, 'hemp': 10384, 'heed': 10385, 'foca': 10386, '1922': 10387, 'ardzinba': 10388, 'khadjimba': 10389, 'forge': 10390, 'pedestrian': 10391, 'dallas': 10392, 'bahr': 10393, 'affection': 10394, 'pluto': 10395, 'injection': 10396, 'insistence': 10397, 'genetically': 10398, 'shaped': 10399, 'oumar': 10400, 'deterioration': 10401, 'nevzlin': 10402, 'nonenergy': 10403, 'neighbour': 10404, 'parachinar': 10405, 'sphere': 10406, 'duekoue': 10407, 'ramzan': 10408, 'epsilon': 10409, 'doctrine': 10410, 'zaragoza': 10411, 'weaker': 10412, 'avert': 10413, 'sanchez': 10414, 'pa': 10415, 'crept': 10416, 'assumes': 10417, 'shoving': 10418, 'alharbi': 10419, 'eternal': 10420, 'yearly': 10421, 'maiduguri': 10422, 'murderer': 10423, 'sandinista': 10424, 'nutrient': 10425, '109': 10426, 'hogg': 10427, 'sudharmono': 10428, 'seselj': 10429, 'curve': 10430, 'saadi': 10431, '444': 10432, 'tomato': 10433, 'variation': 10434, 'trent': 10435, 'uhm': 10436, 'spacewalks': 10437, 'betting': 10438, 'bluefin': 10439, 'measles': 10440, 'karbouli': 10441, 'malpractice': 10442, 'josef': 10443, '747': 10444, 'explosiveladen': 10445, 'overflowed': 10446, 'lebedev': 10447, 'defy': 10448, 'andijon': 10449, 'owl': 10450, 'scam': 10451, 'di': 10452, 'solitary': 10453, 'comeback': 10454, 'stein': 10455, 'foolish': 10456, 'thorn': 10457, 'jeffrey': 10458, 'fivestory': 10459, 'echoupal': 10460, 'stirring': 10461, 'buckovski': 10462, 'clinical': 10463, 'jamaican': 10464, 'bolt': 10465, 'shenzhou': 10466, 'worshiper': 10467, 'vajpayee': 10468, 'cobain': 10469, 'martyrdom': 10470, 'craybas': 10471, 'bengali': 10472, 'melt': 10473, 'parma': 10474, 'anheuserbusch': 10475, 'caldera': 10476, 'qantas': 10477, 'chang': 10478, 'antibiotic': 10479, 'materazzi': 10480, 'newseum': 10481, 'benesova': 10482, 'bild': 10483, 'laquila': 10484, 'acosta': 10485, 'banderas': 10486, 'viper': 10487, 'foreman': 10488, 'advani': 10489, 'karabilah': 10490, 'satterfield': 10491, 'sliding': 10492, 'sperling': 10493, 'lapdog': 10494, 'compare': 10495, 'nist': 10496, 'adverse': 10497, 'vortex': 10498, 'terrain': 10499, 'ellison': 10500, 'groundhog': 10501, 'convergence': 10502, 'lithium': 10503, 'hondo': 10504, 'guernsey': 10505, 'fayaz': 10506, 'karpinski': 10507, 'opel': 10508, 'hakim': 10509, 'mattel': 10510, 'fleihan': 10511, 'aguilar': 10512, 'zinser': 10513, 'boudhiba': 10514, 'arauca': 10515, 'beiring': 10516, 'jolie': 10517, 'mprp': 10518, 'echeverria': 10519, 'qanuni': 10520, 'shotgun': 10521, 'buechel': 10522, '127000': 10523, 'fouad': 10524, 'spaceshipone': 10525, 'richter': 10526, 'entourage': 10527, 'lounge': 10528, 'calamity': 10529, 'disclosure': 10530, '65yearold': 10531, 'vying': 10532, 'congresswoman': 10533, '96000': 10534, '110000': 10535, 'mid1970s': 10536, 'promoter': 10537, 'oppression': 10538, '290': 10539, 'normandy': 10540, 'endeavor': 10541, 'thani': 10542, 'generates': 10543, 'extraordinarily': 10544, 'contrive': 10545, 'zurab': 10546, 'leisure': 10547, 'grandfather': 10548, 'benon': 10549, 'satisfaction': 10550, 'lit': 10551, 'poonch': 10552, 'kentucky': 10553, 'patron': 10554, '08': 10555, '224': 10556, 'propelled': 10557, 'bahadur': 10558, 'deuba': 10559, 'campaignfinance': 10560, 'leukemia': 10561, 'himalaya': 10562, 'displacement': 10563, 'gholamreza': 10564, 'zvornik': 10565, 'thunder': 10566, 'brace': 10567, 'topping': 10568, 'eighthseeded': 10569, 'ignacio': 10570, 'chela': 10571, 'serra': 10572, 'carlsen': 10573, 'unborn': 10574, 'incompatible': 10575, '1559': 10576, 'mughal': 10577, 'westnorthwest': 10578, 'doctorate': 10579, 'inseparable': 10580, 'postcommunist': 10581, 'lyudmila': 10582, 'connecting': 10583, 'skyrocketing': 10584, 'reliant': 10585, 'demoted': 10586, 'simonyi': 10587, 'defiant': 10588, 'mazarisharif': 10589, 'stuffed': 10590, 'toughen': 10591, 'curriculum': 10592, 'merit': 10593, 'readying': 10594, 'manuscript': 10595, 'beethoven': 10596, 'sotheby': 10597, 'library': 10598, 'palmer': 10599, 'duet': 10600, 'pencil': 10601, '1920': 10602, 'reluctance': 10603, 'sanader': 10604, 'ltd': 10605, 'pursues': 10606, 'wrangling': 10607, 'swamp': 10608, 'cooler': 10609, '1838': 10610, 'pete': 10611, 'devalued': 10612, 'vigorously': 10613, 'performs': 10614, '2800': 10615, 'oriented': 10616, 'barrett': 10617, '04jan': 10618, 'endangering': 10619, 'rigid': 10620, '210': 10621, 'extrajudicial': 10622, 'colliding': 10623, '1933': 10624, 'scandinavian': 10625, '454': 10626, 'sneak': 10627, 'loving': 10628, 'talent': 10629, 'streamlining': 10630, 'materialize': 10631, 'embedded': 10632, 'indira': 10633, 'arbiter': 10634, 'agitation': 10635, 'jamming': 10636, 'portable': 10637, 'patent': 10638, 'supportive': 10639, 'completes': 10640, 'meaningful': 10641, 'schoolchildren': 10642, 'uncommon': 10643, 'consultant': 10644, '12hour': 10645, 'skater': 10646, 'superstar': 10647, 'recurring': 10648, 'mordechai': 10649, 'tolled': 10650, 'stateoftheart': 10651, 'kalashnikov': 10652, 'hitch': 10653, 'paperwork': 10654, 'objectivity': 10655, 'troubling': 10656, 'rife': 10657, 'stove': 10658, 'chemistry': 10659, 'alfred': 10660, 'banquet': 10661, 'literary': 10662, '138000': 10663, 'hypothetical': 10664, 'nears': 10665, 'restricts': 10666, 'lecturer': 10667, 'yoh': 10668, 'materialized': 10669, 'timex': 10670, 'napoleonic': 10671, 'strategically': 10672, 'vi': 10673, 'fdi': 10674, 'thermal': 10675, 'micronesia': 10676, 'fsm': 10677, '2023': 10678, 'payouts': 10679, 'forgive': 10680, 'imaginary': 10681, 'preempt': 10682, 'abdulmahdi': 10683, 'contention': 10684, 'enforced': 10685, 'tramway': 10686, 'feat': 10687, 'slaughtering': 10688, 'qasab': 10689, 'gripping': 10690, 'koirala': 10691, 'curtailing': 10692, '143': 10693, 'egyptgaza': 10694, 'diminishing': 10695, 'karshikhanabad': 10696, 'taste': 10697, 'freelance': 10698, 'caraballo': 10699, 'intermediary': 10700, '45000': 10701, '2025': 10702, 'waterfowl': 10703, 'marat': 10704, 'normalizing': 10705, 'alfasher': 10706, 'uda': 10707, 'authentic': 10708, 'azhari': 10709, 'kapisa': 10710, 'sens': 10711, 'reflecting': 10712, 'twotenths': 10713, 'tangible': 10714, 'speculator': 10715, 'pointing': 10716, 'disagrees': 10717, 'imposition': 10718, 'ceiling': 10719, 'meddling': 10720, 'stricter': 10721, 'specially': 10722, 'indecent': 10723, 'supervise': 10724, 'snyder': 10725, 'honiara': 10726, 'asserts': 10727, 'shirin': 10728, 'instantly': 10729, 'unlicensed': 10730, 'pisanu': 10731, 'submission': 10732, 'presently': 10733, 'anraat': 10734, '62yearold': 10735, 'coinciding': 10736, 'oilexporting': 10737, 'naturally': 10738, 'retroactive': 10739, 'h': 10740, 'r': 10741, 'stint': 10742, 'rationing': 10743, 'ml': 10744, '76th': 10745, 'incompetence': 10746, 'antifraud': 10747, 'kwasniewski': 10748, 'valdas': 10749, 'alphabet': 10750, 'proponent': 10751, 'outburst': 10752, 'manfred': 10753, 'colonization': 10754, 'acceded': 10755, 'eurozone': 10756, 'severing': 10757, 'caveins': 10758, 'quarrel': 10759, 'traveller': 10760, 'splendid': 10761, 'tongue': 10762, 'ellsworth': 10763, 'mwenda': 10764, 'broadly': 10765, 'sterilization': 10766, 'overseen': 10767, 'promotes': 10768, 'intermittent': 10769, 'sixto': 10770, '27year': 10771, 'ninh': 10772, 'zhaoxing': 10773, 'chengdu': 10774, 'clashing': 10775, 'lobbing': 10776, 'generator': 10777, 'stray': 10778, 'shihab': 10779, 'kilinochchi': 10780, 'somalian': 10781, 'freighter': 10782, 'chitral': 10783, 'abdelal': 10784, 'alahbash': 10785, 'clarify': 10786, 'statesponsored': 10787, 'arbil': 10788, 'nonsmoker': 10789, 'asthma': 10790, '46000': 10791, 'lisbon': 10792, '820': 10793, 'elevated': 10794, 'beni': 10795, '73yearold': 10796, 'gravely': 10797, 'bulletriddled': 10798, 'jeanclaude': 10799, 'staunch': 10800, 'resurgence': 10801, '55000': 10802, 'orlandez': 10803, 'gamboa': 10804, 'distorting': 10805, 'dudley': 10806, 'monterrey': 10807, 'ramos': 10808, 'lodged': 10809, '227': 10810, 'glitch': 10811, 'yaalon': 10812, 'farce': 10813, 'retiree': 10814, 'pond': 10815, 'slap': 10816, 'forcefully': 10817, '39yearold': 10818, 'almallah': 10819, 'daba': 10820, 'jumpstart': 10821, 'montedison': 10822, 'nv': 10823, 'pursuant': 10824, 'density': 10825, 'lag': 10826, 'unbrokered': 10827, 'crab': 10828, 'meadow': 10829, 'mustard': 10830, 'chidambaram': 10831, 'colonist': 10832, 'chiweshe': 10833, '35000': 10834, 'kickoff': 10835, 'maazou': 10836, 'hormone': 10837, 'yadav': 10838, 'zacarias': 10839, 'grape': 10840, 'manganese': 10841, 'beverage': 10842, 'disgruntled': 10843, 'welcoming': 10844, 'antiindia': 10845, 'deed': 10846, 'fitness': 10847, 'infiltrating': 10848, 'lifethreatening': 10849, 'ming': 10850, 'toe': 10851, 'abhisit': 10852, 'dispersing': 10853, 'deforestation': 10854, 'endorses': 10855, 'portland': 10856, 'sambadrome': 10857, 'squeeze': 10858, 'collaborating': 10859, 'owen': 10860, 'commits': 10861, 'alhashimi': 10862, 'vengeance': 10863, 'bikindi': 10864, 'composed': 10865, 'lyric': 10866, 'baathist': 10867, 'soured': 10868, 'defusing': 10869, 'hence': 10870, 'geo': 10871, 'averted': 10872, 'fourhour': 10873, 'anticipates': 10874, 'marti': 10875, 'anticastro': 10876, 'spanishlanguage': 10877, 'internationallyrecognized': 10878, 'offend': 10879, '57member': 10880, 'konan': 10881, 'wandering': 10882, 'mian': 10883, 'tactical': 10884, 'tegucigalpa': 10885, 'markey': 10886, '44yearold': 10887, 'accessory': 10888, 'cosmetic': 10889, 'technologically': 10890, 'frenchspeaking': 10891, 'consumed': 10892, 'antonella': 10893, 'liberalizing': 10894, 'reared': 10895, 'snake': 10896, 'unwilling': 10897, 'sourav': 10898, 'surpassing': 10899, 'juma': 10900, 'calorie': 10901, 'discomfort': 10902, 'inspiring': 10903, 'volunteered': 10904, 'skip': 10905, '48yearold': 10906, 'exploited': 10907, 'canaria': 10908, 'moderated': 10909, 'arsonist': 10910, 'vaclav': 10911, 'robinson': 10912, 'soros': 10913, 'overlooking': 10914, 'infiltrate': 10915, 'supervised': 10916, 'flareup': 10917, 'fouryearold': 10918, 'gerry': 10919, 'emotion': 10920, 'absurd': 10921, 'bench': 10922, 'javad': 10923, 'haqqani': 10924, 'honorary': 10925, 'positively': 10926, 'salazar': 10927, 'janica': 10928, '213': 10929, '008': 10930, 'soninlaw': 10931, 'spilling': 10932, 'lifesaving': 10933, 'absentee': 10934, 'gubernatorial': 10935, 'christine': 10936, 'explicitly': 10937, 'khurmatu': 10938, 'max': 10939, 'bastion': 10940, 'artery': 10941, 'tripled': 10942, 'firefights': 10943, 'alsheikh': 10944, 'shalit': 10945, 'marinin': 10946, 'totmianina': 10947, 'poiree': 10948, 'rented': 10949, 'lequipe': 10950, '5300': 10951, 'sheltered': 10952, 'rangin': 10953, 'komuri': 10954, 'tsvangirai': 10955, 'mehmood': 10956, 'exercised': 10957, 'lagged': 10958, 'timorleste': 10959, 'markedly': 10960, 'duchy': 10961, 'exportdriven': 10962, 'raven': 10963, 'desired': 10964, 'supposing': 10965, 'washing': 10966, 'altar': 10967, 'silk': 10968, 'financier': 10969, 'stationary': 10970, 'trailing': 10971, 'norad': 10972, 'peterson': 10973, 'uraniumenrichment': 10974, 'preston': 10975, 'niccum': 10976, 'samantha': 10977, 'lantos': 10978, 'swollen': 10979, 'barham': 10980, '02feb': 10981, 'siren': 10982, 'threekilometer': 10983, 'trek': 10984, 'gypsy': 10985, '21year': 10986, 'mislead': 10987, 'listing': 10988, 'lefevre': 10989, '17yearold': 10990, 'kojo': 10991, 'upbeat': 10992, 'centanni': 10993, 'olaf': 10994, 'wiig': 10995, 'caption': 10996, '177': 10997, 'instigate': 10998, 'delray': 10999, 'xavier': 11000, 'humanely': 11001, 'jemua': 11002, 'soy': 11003, 'behead': 11004, 'immune': 11005, 'glaxosmithkline': 11006, 'atmar': 11007, 'separatism': 11008, 'hygienic': 11009, 'mughani': 11010, 'lansana': 11011, 'plenty': 11012, 'ancestry': 11013, 'andresen': 11014, '298': 11015, 'muzadi': 11016, 'bhumibol': 11017, 'adulyadej': 11018, 'der': 11019, 'spiegel': 11020, 'adre': 11021, 'manmade': 11022, 'sediment': 11023, 'tallest': 11024, 'shabab': 11025, 'bisengimina': 11026, 'confess': 11027, 'ensuring': 11028, 'anyway': 11029, 'suing': 11030, 'placement': 11031, 'informationsharing': 11032, 'exportoriented': 11033, 'considerably': 11034, 'smell': 11035, 'accustomed': 11036, 'blackboard': 11037, 'chalk': 11038, 'natorussia': 11039, 'northward': 11040, 'khushab': 11041, 'cautiously': 11042, 'nonmuslim': 11043, 'barge': 11044, 'warri': 11045, 'ijaw': 11046, 'joyce': 11047, 'mujuru': 11048, 'vacancy': 11049, 'ariane': 11050, 'adrian': 11051, 'yanjin': 11052, 'hillside': 11053, '03jan': 11054, 'echoing': 11055, 'valerie': 11056, 'betty': 11057, 'knowingly': 11058, 'marlon': 11059, 'shelf': 11060, 'tightening': 11061, 'soe': 11062, 'wanting': 11063, 'chulanont': 11064, 'abstaining': 11065, 'scorching': 11066, 'ineffectiveness': 11067, 'bilfinger': 11068, 'flushed': 11069, 'reparation': 11070, 'duchess': 11071, 'cornwall': 11072, 'tasnim': 11073, 'amarah': 11074, 'relocated': 11075, 'ms13': 11076, 'lynn': 11077, 'ihab': 11078, 'alsherif': 11079, 'krishna': 11080, 'yelled': 11081, 'ritchie': 11082, 'presumptive': 11083, 'babar': 11084, 'biologist': 11085, 'accuser': 11086, '13year': 11087, 'disqualification': 11088, '900000': 11089, 'tareq': 11090, 'plentiful': 11091, 'reinsurance': 11092, 'amphibious': 11093, 'mortal': 11094, 'agony': 11095, 'domain': 11096, 'madagonia': 11097, 'ensued': 11098, 'garnered': 11099, 'malicious': 11100, 'overpowered': 11101, 'mahabad': 11102, 'petra': 11103, 'litani': 11104, 'prevail': 11105, 'izzadeen': 11106, 'disruptive': 11107, 'checking': 11108, '90th': 11109, 'leveled': 11110, 'deterrent': 11111, 'stifle': 11112, 'walker': 11113, 'moody': 11114, 'sensitivity': 11115, 'highaltitude': 11116, 'southcentral': 11117, 'mai': 11118, 'gravity': 11119, 'macy': 11120, 'guided': 11121, 'hat': 11122, 'endorsing': 11123, 'putumayo': 11124, 'extortion': 11125, '184': 11126, 'allimportant': 11127, 'redeployment': 11128, 'ahronot': 11129, 'dismay': 11130, 'hasan': 11131, 'ambushing': 11132, 'blantyre': 11133, 'translated': 11134, 'lilongwe': 11135, 'lenient': 11136, '65th': 11137, 'annexation': 11138, 'nonpeaceful': 11139, 'kfar': 11140, 'villaraigosa': 11141, 'germanborn': 11142, 'figaro': 11143, 'unsustainable': 11144, 'qiyue': 11145, 'kaka': 11146, 'ntawukulilyayo': 11147, 'bernardo': 11148, '1st': 11149, 'citadel': 11150, 'l': 11151, 'sept': 11152, 'hobbled': 11153, 'overdependence': 11154, 'sponsorship': 11155, 'necessity': 11156, 'occupier': 11157, 'mined': 11158, 'casamance': 11159, 'undeclared': 11160, 'pretense': 11161, 'sorely': 11162, 'relevant': 11163, 'ashcroft': 11164, 'triumph': 11165, 'builder': 11166, 'tossed': 11167, 'slovenian': 11168, 'helm': 11169, 'ceo': 11170, 'genuine': 11171, 'planche': 11172, 'wana': 11173, 'embarrassment': 11174, 'admiration': 11175, 'coping': 11176, 'luxembourgbased': 11177, 'server': 11178, 'feasible': 11179, 'sulaymaniya': 11180, 'hampshire': 11181, 'daytime': 11182, 'regrettable': 11183, 'toxicology': 11184, 'sealing': 11185, 'charcoal': 11186, 'twentytwo': 11187, 'bounced': 11188, 'sixthseeded': 11189, 'catalonia': 11190, 'classical': 11191, 'frenchcolombian': 11192, 'icc': 11193, 'derived': 11194, 'antimalaria': 11195, 'ineffective': 11196, 'grabbed': 11197, '275seat': 11198, 'eckhard': 11199, 'stocking': 11200, 'badakhshan': 11201, 'exploring': 11202, 'ion': 11203, 'eduard': 11204, 'tapped': 11205, '257': 11206, 'mammoth': 11207, 'nanotechnology': 11208, 'instigating': 11209, 'schelling': 11210, 'aumann': 11211, 'kazakh': 11212, 'politicallymotivated': 11213, 'sumaidaie': 11214, 'sabbath': 11215, 'noble': 11216, 'kyaw': 11217, 'varies': 11218, 'muhammed': 11219, 'everyday': 11220, 'plc': 11221, 'oct': 11222, 'pretax': 11223, 'demographic': 11224, 'attributable': 11225, 'likewise': 11226, '2016': 11227, 'nationalism': 11228, 'rpf': 11229, 'retaking': 11230, 'welltodo': 11231, 'consist': 11232, 'danced': 11233, 'nut': 11234, 'laughter': 11235, 'newyork': 11236, 'rooted': 11237, 'unleashed': 11238, 'taji': 11239, 'flashpoint': 11240, 'douchevina': 11241, 'mauresmo': 11242, 'flamingo': 11243, 'milder': 11244, 'virulent': 11245, '10member': 11246, 'strengthens': 11247, 'erupt': 11248, 'opposite': 11249, 'hauling': 11250, 'mac': 11251, 'drama': 11252, 'karrada': 11253, 'greed': 11254, 'hazem': 11255, 'dinosaur': 11256, 'fielding': 11257, 'rajasthan': 11258, 'guerrero': 11259, 'amritsar': 11260, 'problematic': 11261, 'ploy': 11262, 'desperately': 11263, 'podium': 11264, 'ferrer': 11265, 'atp': 11266, 'robin': 11267, 'pale': 11268, 'contestant': 11269, 'adversely': 11270, 'kadhimiya': 11271, 'aquifer': 11272, 'seismic': 11273, 'coretta': 11274, 'ovarian': 11275, 'jessenpetersen': 11276, 'kostunica': 11277, 'hamma': 11278, 'dsm': 11279, 'outlay': 11280, 'barthelemy': 11281, 'attracts': 11282, 'abundant': 11283, 'prix': 11284, 'frelimo': 11285, 'delicate': 11286, 'armando': 11287, 'questionable': 11288, 'domenech': 11289, 'respecting': 11290, 'prevalent': 11291, 'manifesto': 11292, 'energyefficient': 11293, 'desperation': 11294, 'flexible': 11295, 'cavaco': 11296, 'centerright': 11297, 'protectionism': 11298, 'relaunch': 11299, 'hygiene': 11300, 'premature': 11301, '25nation': 11302, 'africanamericans': 11303, '67000': 11304, 'chennai': 11305, 'rallying': 11306, 'collapsing': 11307, 'drainage': 11308, 'kenteris': 11309, 'thanou': 11310, '200meter': 11311, 'systemic': 11312, 'arap': 11313, 'gomez': 11314, 'gallbladder': 11315, 'shinui': 11316, 'unimaginable': 11317, 'powered': 11318, 'errant': 11319, 'busan': 11320, 'sandy': 11321, 'swimming': 11322, 'greenback': 11323, 'priced': 11324, 'alqawasmi': 11325, 'lure': 11326, '450seat': 11327, 'liable': 11328, 'tentatively': 11329, 'levey': 11330, 'cornerstone': 11331, 'fallout': 11332, 'umm': 11333, 'unafrican': 11334, 'kellenberger': 11335, 'jurist': 11336, 'perjury': 11337, 'contradictory': 11338, '29000': 11339, '330000': 11340, 'atta': 11341, '1125': 11342, 'onset': 11343, 'dried': 11344, 'ec': 11345, 'emu': 11346, '1885': 11347, 'plaintiff': 11348, 'bloated': 11349, 'dug': 11350, 'sown': 11351, 'barber': 11352, 'simeus': 11353, 'harmless': 11354, '134': 11355, 'disadvantage': 11356, 'han': 11357, 'adjourn': 11358, 'anhui': 11359, 'cowardly': 11360, 'curling': 11361, '07feb': 11362, '10nation': 11363, 'arturo': 11364, 'holbrooke': 11365, 'relocation': 11366, 'quebec': 11367, 'dominion': 11368, 'liaison': 11369, 'tragic': 11370, 'stranding': 11371, 'tarongoy': 11372, 'jeff': 11373, 'gdansk': 11374, 'mansour': 11375, 'destabilized': 11376, 'adventure': 11377, 'expecting': 11378, 'stagnant': 11379, 'kenichiro': 11380, 'sasae': 11381, 'sacrificed': 11382, 'detecting': 11383, '248': 11384, 'incurred': 11385, 'plummeted': 11386, 'kajaki': 11387, '228': 11388, 'ahlu': 11389, 'sunna': 11390, '35nation': 11391, 'oshkosh': 11392, 'chassis': 11393, 'arabisraeli': 11394, 'julyaugust': 11395, 'midapril': 11396, 'remarkably': 11397, 'bite': 11398, 'grudge': 11399, 'militaryled': 11400, 'sirte': 11401, 'pillar': 11402, 'cologne': 11403, 'mausoleum': 11404, 'ghorbanpour': 11405, '160000': 11406, 'scout': 11407, 'masood': 11408, 'visible': 11409, 'reinforce': 11410, 'sucumbios': 11411, 'marshal': 11412, 'orinoco': 11413, 'goodluck': 11414, 'notify': 11415, 'notification': 11416, 'merida': 11417, 'unpunished': 11418, 'precursor': 11419, 'label': 11420, '169': 11421, 'hafun': 11422, 'swimmer': 11423, 'granada': 11424, 'threetime': 11425, 'danube': 11426, 'populist': 11427, 'jumper': 11428, 'roar': 11429, 'evaluating': 11430, '1795': 11431, 'partitioned': 11432, 'unlawfully': 11433, 'tolerant': 11434, 'siddiqui': 11435, 'ubaydi': 11436, 'ho': 11437, 'hayat': 11438, '80th': 11439, 'culminate': 11440, 'midoctober': 11441, 'emptied': 11442, 'autopsy': 11443, 'jun': 11444, 'chaman': 11445, 'extort': 11446, 'daschle': 11447, 'majliseamal': 11448, 'npt': 11449, '46yearold': 11450, 'swung': 11451, 'defined': 11452, '1902': 11453, 'administer': 11454, 'bolted': 11455, 'vent': 11456, 'lisa': 11457, 'inland': 11458, 'reestablishing': 11459, 'nitrogen': 11460, 'ridiculed': 11461, 'figtree': 11462, 'yasuo': 11463, 'radicalism': 11464, 'milf': 11465, 'pure': 11466, 'spaceship': 11467, 'geldof': 11468, 'grim': 11469, 'refers': 11470, 'tammy': 11471, 'wizard': 11472, 'restructured': 11473, 'dvd': 11474, 'rosales': 11475, 'pennetta': 11476, '01jun': 11477, 'solis': 11478, 'compassionate': 11479, 'floral': 11480, 'vigilance': 11481, 'ruptured': 11482, '06': 11483, 'repayment': 11484, 'astana': 11485, 'serhiy': 11486, 'holovaty': 11487, 'suitable': 11488, 'datta': 11489, 'bertie': 11490, 'ahern': 11491, 'belfast': 11492, 'overturning': 11493, 'solemn': 11494, 'helmet': 11495, 'yasir': 11496, 'adil': 11497, 'musliminhabited': 11498, 'metropolitan': 11499, 'morgenthau': 11500, 'glorifies': 11501, 'mishandling': 11502, 'shenzhen': 11503, 'uruguayan': 11504, 'gallup': 11505, 'guise': 11506, 'griffin': 11507, 'netted': 11508, 'unchartered': 11509, 'nowdefunct': 11510, 'nationsrun': 11511, 'paracha': 11512, 'slip': 11513, 'plotted': 11514, 'almashhadani': 11515, 'irbil': 11516, 'disagreed': 11517, 'dublin': 11518, 'flushing': 11519, 'ernest': 11520, 'serena': 11521, 'imprisoning': 11522, 'financialservices': 11523, 'marketed': 11524, 'dipped': 11525, 'benefiting': 11526, 'civic': 11527, 'flourish': 11528, 'sculptor': 11529, 'juno': 11530, 'certainly': 11531, 'oneseat': 11532, 'hollow': 11533, 'ai': 11534, 'documented': 11535, 'haul': 11536, 'screened': 11537, 'projectile': 11538, 'alzheimer': 11539, 'lifestyle': 11540, 'skidded': 11541, 'causality': 11542, 'drugresistant': 11543, 'lineitem': 11544, 'attitude': 11545, 'telegram': 11546, 'veal': 11547, 'uncensored': 11548, 'rankandfile': 11549, 'admitting': 11550, 'collaborated': 11551, 'mouthpiece': 11552, 'vinci': 11553, 'disclaimer': 11554, 'maier': 11555, 'fritz': 11556, 'forensics': 11557, 'harmonious': 11558, 'forbidding': 11559, 'overran': 11560, 'echo': 11561, 'filmyard': 11562, 'pulp': 11563, 'sovietbacked': 11564, 'antidumping': 11565, 'petter': 11566, 'solberg': 11567, 'auc': 11568, 'lahiya': 11569, 'gurgenidze': 11570, 'technocrat': 11571, '75yearold': 11572, 'jabaliya': 11573, 'veneman': 11574, 'cimoszewicz': 11575, 'trucking': 11576, 'littered': 11577, 'ruiz': 11578, 'antisemitic': 11579, 'interfaith': 11580, 'internationallybacked': 11581, 'premeditated': 11582, 'nyan': 11583, 'marty': 11584, 'krill': 11585, 'nationstate': 11586, 'guadeloupe': 11587, 'threefourths': 11588, 'beware': 11589, 'mossad': 11590, 'weatherrelated': 11591, 'quartercentury': 11592, 'tamara': 11593, '2300': 11594, 'gansu': 11595, 'eighty': 11596, 'quami': 11597, 'sassounguesso': 11598, 'palma': 11599, 'britishborn': 11600, 'cofounded': 11601, 'airman': 11602, 'rotate': 11603, 'kaibyshev': 11604, 'lauderdale': 11605, 'reservation': 11606, 'resembles': 11607, 'avenue': 11608, 'underneath': 11609, 'neumann': 11610, 'phoned': 11611, 'portrays': 11612, 'showcasing': 11613, 'showcase': 11614, 'mort': 11615, 'earliest': 11616, 'crypt': 11617, 'harshly': 11618, 'usindia': 11619, 'fourparty': 11620, 'pulwama': 11621, 'shortcoming': 11622, 'phenomenon': 11623, 'dynastic': 11624, 'cede': 11625, 'orientation': 11626, 'kooyong': 11627, 'tentative': 11628, 'izvestia': 11629, 'prolong': 11630, 'ninevah': 11631, 'wipe': 11632, 'mutation': 11633, 'kidd': 11634, 'guy': 11635, 'vientiane': 11636, 'ablaze': 11637, 'ambulance': 11638, 'complicating': 11639, 'alghad': 11640, 'elimination': 11641, 'adb': 11642, 'tanzanian': 11643, 'dheere': 11644, 'diluted': 11645, 'underscored': 11646, 'resolutely': 11647, 'exploratory': 11648, '131': 11649, 'dreamliner': 11650, 'nippon': 11651, 'hamdania': 11652, 'orbiter': 11653, 'harassing': 11654, 'petro': 11655, 'succumbed': 11656, 'embankment': 11657, 'abundance': 11658, 'oakland': 11659, 'apartheidera': 11660, 'locomotive': 11661, 'constitutionally': 11662, 'intensively': 11663, 'singleparty': 11664, 'standstill': 11665, 'selfish': 11666, 'reign': 11667, 'swooped': 11668, 'exertion': 11669, 'deserves': 11670, 'afflicted': 11671, 'crease': 11672, 'steyn': 11673, 'englishlanguage': 11674, 'towed': 11675, 'crewmembers': 11676, 'unconditionally': 11677, 'usmediated': 11678, 'retake': 11679, 'alqaim': 11680, 'interrupt': 11681, 'jailing': 11682, 'goodbye': 11683, 'tireless': 11684, 'adolf': 11685, 'valenzuela': 11686, 'franz': 11687, 'dorfmeister': 11688, 'downplaying': 11689, 'haley': 11690, 'barbour': 11691, 'malindi': 11692, 'vermont': 11693, 'kuo': 11694, 'bergersen': 11695, 'dongzhou': 11696, 'savannah': 11697, 'georgetown': 11698, 'albert': 11699, 'vega': 11700, 'duff': 11701, 'realizes': 11702, 'mindful': 11703, 'anarchy': 11704, 'dextre': 11705, 'havoc': 11706, 'reining': 11707, 'manigat': 11708, 'savimbi': 11709, 'possesses': 11710, 'revival': 11711, '1942': 11712, 'razak': 11713, 'salesman': 11714, 'bamako': 11715, 'jem': 11716, 'khalil': 11717, 'warren': 11718, 'buffett': 11719, 'hsieh': 11720, 'andras': 11721, 'batiz': 11722, 'rattled': 11723, 'bingol': 11724, 'peat': 11725, 'nadia': 11726, 'kokang': 11727, 'levin': 11728, 'sans': 11729, 'frontieres': 11730, 'labado': 11731, 'insulza': 11732, 'recessed': 11733, 'ngabo': 11734, 'multimilliondollar': 11735, 'hasina': 11736, 'inhuman': 11737, 'octopus': 11738, 'toppling': 11739, '30year': 11740, 'herzegovina': 11741, 'jovic': 11742, 'vieira': 11743, 'trumpet': 11744, 'luggage': 11745, 'relax': 11746, 'defection': 11747, 'patagonian': 11748, 'toothfish': 11749, 'overflight': 11750, 'volume': 11751, 'vanquished': 11752, 'kewell': 11753, 'inconsistent': 11754, 'merk': 11755, 'stuff': 11756, 'zedong': 11757, 'empress': 11758, 'plowed': 11759, 'prostate': 11760, 'bright': 11761, 'dai': 11762, 'chopan': 11763, 'exaggerated': 11764, 'depicts': 11765, 'jesse': 11766, 'racist': 11767, 'ruth': 11768, 'poaching': 11769, 'bunia': 11770, 'bralo': 11771, 'toplevel': 11772, 'najim': 11773, 'mironov': 11774, 'cppcc': 11775, 'useful': 11776, 'retaliatory': 11777, 'categorically': 11778, 'gulbuddin': 11779, 'commandeered': 11780, '243': 11781, 'schultz': 11782, 'demonstrates': 11783, 'endangers': 11784, 'elarish': 11785, 'pavarotti': 11786, 'upstream': 11787, 'adaado': 11788, 'jiangxi': 11789, 'convene': 11790, 'duarte': 11791, '223': 11792, 'trawler': 11793, 'newmont': 11794, 'focal': 11795, 'candy': 11796, '51yearold': 11797, 'savin': 11798, 'amounted': 11799, 'falklands': 11800, 'wayside': 11801, 'shame': 11802, 'greg': 11803, 'schulte': 11804, 'cochairman': 11805, 'pinault': 11806, 'ugly': 11807, 'dismissing': 11808, 'breeding': 11809, '337': 11810, 'yousef': 11811, 'luo': 11812, 'firsttime': 11813, 'mutates': 11814, 'extravagant': 11815, 'torchbearer': 11816, 'haguebased': 11817, 'cholesterol': 11818, 'mok': 11819, 'lipsky': 11820, 'tenet': 11821, 'voluntary': 11822, 'sinking': 11823, 'undertaken': 11824, 'fundraiser': 11825, 'previouslyowned': 11826, 'dharmeratnam': 11827, 'prorebel': 11828, 'tamilnet': 11829, 'columnist': 11830, 'staying': 11831, 'newlybuilt': 11832, 'qin': 11833, '1250': 11834, 'reexamine': 11835, 'detection': 11836, 'speculated': 11837, 'hooliganism': 11838, 'damn': 11839, 'gagged': 11840, 'classroom': 11841, '126': 11842, 'btselem': 11843, 'rabat': 11844, 'communistruled': 11845, 'algerianbased': 11846, 'connie': 11847, 'eradicated': 11848, 'bab': 11849, 'foxx': 11850, 'hudson': 11851, 'unpredictable': 11852, 'ashdown': 11853, 'scaling': 11854, 'cropper': 11855, 'homage': 11856, 'evaluation': 11857, 'edict': 11858, 'thad': 11859, 'inducted': 11860, '655': 11861, 'competent': 11862, 'sidebyside': 11863, 'mitrovica': 11864, 'seceded': 11865, 'disadvantaged': 11866, 'celso': 11867, 'manas': 11868, 'bunch': 11869, 'muentefering': 11870, 'smiled': 11871, 'presley': 11872, 'memphis': 11873, 'graceland': 11874, 'dancer': 11875, 'shariat': 11876, 'hymn': 11877, 'colombant': 11878, 'bowled': 11879, 'wong': 11880, 'insider': 11881, 'reforming': 11882, 'kazemi': 11883, 'qomi': 11884, 'naji': 11885, 'eden': 11886, 'fivematch': 11887, 'kutesa': 11888, 'costing': 11889, 'golovin': 11890, 'marta': 11891, 'marion': 11892, 'brink': 11893, 'straightset': 11894, 'gilles': 11895, 'srichaphan': 11896, 'midaugust': 11897, 'extinction': 11898, 'diocese': 11899, 'biblical': 11900, 'crucifixion': 11901, 'unchallenged': 11902, 'bolstering': 11903, 'enlisted': 11904, 'fabricated': 11905, '05jul': 11906, 'interkorean': 11907, 'fictional': 11908, 'rms': 11909, 'waiver': 11910, 'russojapanese': 11911, '1904': 11912, 'shifted': 11913, 'legitimacy': 11914, 'uninhabitable': 11915, 'topped': 11916, 'passion': 11917, 'cottage': 11918, 'durbin': 11919, 'machar': 11920, 'rezaei': 11921, 'seated': 11922, 'mostafa': 11923, 'stun': 11924, 'constantinople': 11925, 'crusader': 11926, 'daunting': 11927, 'velasco': 11928, 'bot': 11929, 'zahi': 11930, 'saqqara': 11931, 'mummy': 11932, 'marriott': 11933, 'milk': 11934, 'russert': 11935, 'undefeated': 11936, 'elmar': 11937, 'oppressive': 11938, 'aliyev': 11939, 'inherit': 11940, 'relaying': 11941, 'cassini': 11942, 'rooftop': 11943, 'appointee': 11944, 'feasibility': 11945, 'trick': 11946, 'followup': 11947, 'overpass': 11948, 'longevity': 11949, 'longawaited': 11950, 'ghor': 11951, 'fibroid': 11952, 'madrassa': 11953, 'foxy': 11954, 'fastgrowing': 11955, 'indianapolis': 11956, 'writes': 11957, 'chiyangwa': 11958, 'kenny': 11959, 'disapproval': 11960, 'judged': 11961, 'principe': 11962, 'incredible': 11963, 'manipulated': 11964, 'pryor': 11965, 'florence': 11966, 'extraditing': 11967, 'tolo': 11968, '360': 11969, 'layoff': 11970, 'replenish': 11971, 'ferencevych': 11972, 'warshattered': 11973, 'definitive': 11974, 'imran': 11975, '30day': 11976, 'kyiv': 11977, 'phyu': 11978, 'szmajdzinski': 11979, 'zionism': 11980, 'ruhollah': 11981, 'khomeini': 11982, 'stanisic': 11983, 'crafting': 11984, 'blackmail': 11985, 'blasphemy': 11986, 'defaming': 11987, 'punishable': 11988, 'saarc': 11989, 'confusion': 11990, 'simkins': 11991, 'barretto': 11992, 'incomprehensible': 11993, 'spit': 11994, 'anticipate': 11995, 'ahtisaari': 11996, 'ging': 11997, 'cultivated': 11998, 'du': 11999, 'lambert': 12000, 'leonel': 12001, 'helen': 12002, 'weisfield': 12003, 'qalqilya': 12004, 'gerald': 12005, 'fluctuates': 12006, 'mixture': 12007, 'vendor': 12008, 'interrogating': 12009, 'lana': 12010, 'mason': 12011, 'bat': 12012, 'preside': 12013, 'perkins': 12014, 'hajj': 12015, 'milton': 12016, 'obote': 12017, 'murat': 12018, 'descended': 12019, 'antiglobalization': 12020, 'reunify': 12021, 'schumer': 12022, 'jilin': 12023, '840000': 12024, '44000': 12025, 'nearsimultaneous': 12026, 'compiled': 12027, 'rahul': 12028, 'anchored': 12029, 'cermak': 12030, 'mladen': 12031, 'markac': 12032, 'floated': 12033, 'ericsson': 12034, 'adversary': 12035, 'blade': 12036, 'starring': 12037, 'hostagetakers': 12038, 'mutating': 12039, 'sadio': 12040, 'grappling': 12041, 'equity': 12042, 'defamation': 12043, 'nickname': 12044, 'uncover': 12045, 'handsome': 12046, 'apprehended': 12047, 'kujundzic': 12048, 'alahram': 12049, 'kazimierz': 12050, 'marcinkiewicz': 12051, 'rok': 12052, 'demilitarized': 12053, '1493': 12054, '1648': 12055, 'importation': 12056, 'persisted': 12057, 'abrupt': 12058, 'beja': 12059, 'elsa': 12060, '159': 12061, 'jawad': 12062, 'recordbreaking': 12063, 'denktash': 12064, 'klebnikov': 12065, 'hanover': 12066, 'bombgrade': 12067, 'autobiography': 12068, 'trunk': 12069, 'overuse': 12070, 'isaias': 12071, 'lublin': 12072, 'militarybacked': 12073, 'severance': 12074, 'defeating': 12075, 'governmental': 12076, 'geographical': 12077, 'helpless': 12078, 'ozawa': 12079, 'brett': 12080, 'prabhakaran': 12081, 'wyoming': 12082, 'renowned': 12083, 'chahine': 12084, 'imperialism': 12085, 'instructor': 12086, 'solaiman': 12087, 'cnooc': 12088, 'forceful': 12089, 'pollutant': 12090, 'bearing': 12091, 'sepat': 12092, 'weathered': 12093, 'voterigging': 12094, 'fade': 12095, 'creator': 12096, 'mariam': 12097, 'henri': 12098, 'mack': 12099, 'indianborn': 12100, 'sabeel': 12101, 'kafeel': 12102, 'haneef': 12103, 'soliciting': 12104, 'destined': 12105, 'informer': 12106, 'smashing': 12107, 'cohen': 12108, 'hazard': 12109, 'andreev': 12110, 'appease': 12111, 'finisher': 12112, 'jeanmarie': 12113, 'coleco': 12114, 'anjouan': 12115, 'azali': 12116, 'moreover': 12117, 'amerindian': 12118, 'entrant': 12119, 'bursting': 12120, '1861': 12121, 'benito': 12122, 'mussolini': 12123, 'azerbaijani': 12124, 'encamped': 12125, 'chodo': 12126, 'shiptoship': 12127, 'lighthouse': 12128, 'maronite': 12129, 'ilo': 12130, '24th': 12131, 'tomorrow': 12132, 'bakara': 12133, 'yuschenko': 12134, 'nasiriyah': 12135, 'ansa': 12136, 'mediumsized': 12137, 'bellerive': 12138, 'analyze': 12139, 'vx': 12140, 'emergence': 12141, 'plenary': 12142, 'kirk': 12143, 'luncheon': 12144, 'warrior': 12145, 'guber': 12146, '1840': 12147, 'eligibility': 12148, 'unreliable': 12149, 'kiel': 12150, 'hydrographic': 12151, 'latitude': 12152, 'automated': 12153, 'ought': 12154, 'drunken': 12155, 'quoting': 12156, 'drugtrafficking': 12157, '220000': 12158, 'chorus': 12159, 'filtering': 12160, 'regulating': 12161, 'worded': 12162, 'choe': 12163, 'bestknown': 12164, 'peng': 12165, 'annalena': 12166, 'stanley': 12167, 'zinedine': 12168, 'tirin': 12169, 'farraj': 12170, 'allibbi': 12171, 'insein': 12172, 'pad': 12173, 'equator': 12174, 'convey': 12175, 'asserted': 12176, 'paralympic': 12177, 'shortened': 12178, 'chongqing': 12179, 'doubledecker': 12180, 'prototype': 12181, 'rental': 12182, 'starred': 12183, 'rhyme': 12184, '38year': 12185, 'kanyarukiga': 12186, 'xerox': 12187, 'crum': 12188, 'forster': 12189, 'comparison': 12190, 'transshipment': 12191, 'hooper': 12192, '254': 12193, 'southernmost': 12194, 'ensured': 12195, 'obstructed': 12196, 'unveil': 12197, 'happens': 12198, '540': 12199, 'checkup': 12200, 'dunem': 12201, '16day': 12202, 'colder': 12203, 'frail': 12204, 'aharonot': 12205, 'murungi': 12206, 'michoacan': 12207, 'alshihri': 12208, 'umar': 12209, 'worn': 12210, 'commuted': 12211, 'nottingham': 12212, 'raich': 12213, 'soonthorn': 12214, 'botched': 12215, 'statefunded': 12216, 'lantern': 12217, 'bowed': 12218, 'fonseka': 12219, '1914': 12220, 'wellington': 12221, 'obscenity': 12222, 'dilute': 12223, 'administers': 12224, 'yearandahalf': 12225, 'ordaz': 12226, 'obstruction': 12227, 'azima': 12228, 'shakeri': 12229, 'samawa': 12230, '139': 12231, 'rainstorm': 12232, 'scarcely': 12233, 'destructive': 12234, 'regev': 12235, 'gadget': 12236, 'interactive': 12237, 'filter': 12238, 'horne': 12239, 'dominates': 12240, 'bind': 12241, 'occupies': 12242, 'tramp': 12243, 'carved': 12244, 'verification': 12245, 'mengistu': 12246, 'preview': 12247, 'surfacetosurface': 12248, 'deporting': 12249, 'chacon': 12250, 'akerson': 12251, 'turnaround': 12252, 'shoddy': 12253, 'belair': 12254, 'intersection': 12255, 'broadband': 12256, 'continuation': 12257, 'sinbad': 12258, 'wikipedia': 12259, '193': 12260, 'stonethrowing': 12261, 'supervisor': 12262, 'intact': 12263, 'bread': 12264, 'taino': 12265, 'dahlan': 12266, 'caftadr': 12267, 'mahmud': 12268, 'educated': 12269, 'excluding': 12270, 'limitation': 12271, 'crunch': 12272, 'midterm': 12273, 'saluted': 12274, '154': 12275, 'firsthand': 12276, 'houghton': 12277, 'soulja': 12278, 'sidelined': 12279, 'bagosora': 12280, 'immunized': 12281, 'routed': 12282, 'afghanpakistani': 12283, 'sparrow': 12284, 'fivepoint': 12285, 'leeward': 12286, 'yoadimnadji': 12287, 'dell': 12288, 'veerman': 12289, 'emphasizing': 12290, 'governmentheld': 12291, 'jebel': 12292, 'marra': 12293, 'farooq': 12294, 'dense': 12295, 'scaled': 12296, 'razorwire': 12297, '93000': 12298, 'novel': 12299, 'humane': 12300, 'blagojevic': 12301, 'logical': 12302, 'betraying': 12303, 'jafarzadeh': 12304, 'shake': 12305, 'rakhine': 12306, 'median': 12307, 'jassar': 12308, 'speedskater': 12309, 'endure': 12310, 'reasonably': 12311, 'drugsmuggling': 12312, 'kopra': 12313, 'spanishamerican': 12314, 'guaranteeing': 12315, 'fodder': 12316, 'confer': 12317, 'ruggiero': 12318, 'jane': 12319, 'fonda': 12320, 'scolded': 12321, 'massey': 12322, 'charleston': 12323, 'ansip': 12324, 'explaining': 12325, 'yugansk': 12326, 'ass': 12327, 'blanketed': 12328, 'digit': 12329, 'felix': 12330, 'rechnitzer': 12331, 'gamma': 12332, 'elgon': 12333, 'exempt': 12334, 'avigdor': 12335, 'yayi': 12336, 'commercially': 12337, 'emulate': 12338, 'extract': 12339, 'nonemergency': 12340, 'recommends': 12341, 'romano': 12342, 'reinstatement': 12343, 'todovic': 12344, 'alexandre': 12345, 'wikileaks': 12346, 'alarian': 12347, 'reschedule': 12348, 'africanamerican': 12349, 'depth': 12350, 'vladislav': 12351, 'vicious': 12352, 'pollster': 12353, '2013': 12354, 'disappear': 12355, 'reprocessing': 12356, 'invading': 12357, 'compounded': 12358, 'siraj': 12359, 'eldawoody': 12360, 'nonstop': 12361, 'observes': 12362, 'ma': 12363, 'wit': 12364, 'wag': 12365, '345': 12366, 'convict': 12367, 'frontline': 12368, 'suli': 12369, 'smallarms': 12370, 'naqoura': 12371, 'swearingin': 12372, 'nooyi': 12373, 'closelywatched': 12374, 'cholmondeley': 12375, 'sympathetic': 12376, 'farmyard': 12377, 'seibu': 12378, 'sogo': 12379, 'diary': 12380, 'suspecting': 12381, 'abating': 12382, 'blacklisted': 12383, 'militaryrun': 12384, 'supercombined': 12385, 'enlargement': 12386, 'sars': 12387, 'preemptive': 12388, 'trapping': 12389, 'blonska': 12390, 'shaways': 12391, 'kareem': 12392, 'hamed': 12393, 'erode': 12394, 'raouf': 12395, 'cud': 12396, 'hebrides': 12397, 'privatesector': 12398, 'didier': 12399, 'bedside': 12400, 'misconduct': 12401, 'detachment': 12402, 'hobart': 12403, 'introduces': 12404, 'subcommander': 12405, 'gwyneth': 12406, 'vetowielding': 12407, 'portray': 12408, 'retreated': 12409, 'val': 12410, 'lukic': 12411, 'sling': 12412, 'orator': 12413, 'unblotted': 12414, 'escutcheon': 12415, 'interreligious': 12416, 'haq': 12417, 'foy': 12418, 'misusing': 12419, 'coexist': 12420, 'sibal': 12421, 'dharamsala': 12422, 'selfproclaimed': 12423, 'martic': 12424, 'duke': 12425, 'detainment': 12426, 'toss': 12427, 'hoggard': 12428, 'panesar': 12429, 'baba': 12430, 'banditry': 12431, 'abqaiq': 12432, 'detector': 12433, 'v': 12434, 'almahdi': 12435, 'arbor': 12436, 'albared': 12437, 'zaidi': 12438, 'manipulation': 12439, 'contra': 12440, 'pastor': 12441, 'divorced': 12442, 'pitting': 12443, 'antiretroviral': 12444, 'tac': 12445, 'dimona': 12446, 'nasdaq': 12447, 'cac40': 12448, 'dax': 12449, 'ounce': 12450, 'tomohito': 12451, 'counterfeit': 12452, 'affordable': 12453, 'baki': 12454, 'dunham': 12455, 'alexis': 12456, 'harorodriguez': 12457, 'overheating': 12458, 'concluding': 12459, 'yedioth': 12460, 'ahronoth': 12461, 'megawatt': 12462, 'privatized': 12463, 'midmay': 12464, 'plummeting': 12465, 'mortally': 12466, 'consisting': 12467, '42yearold': 12468, 'ulema': 12469, 'misguided': 12470, 'gao': 12471, 'alshara': 12472, 'pretending': 12473, 'floodprone': 12474, 'capitalism': 12475, 'rejoined': 12476, 'reaffirm': 12477, 'schuessel': 12478, 'aisha': 12479, 'assailed': 12480, 'taya': 12481, 'leigh': 12482, 'liang': 12483, 'identifies': 12484, 'shadi': 12485, 'unaccounted': 12486, 'israeliarab': 12487, 'raffle': 12488, 'distinct': 12489, 'estrada': 12490, 'premium': 12491, 'exposing': 12492, 'tareen': 12493, 'disbursement': 12494, 'inserted': 12495, 'abbott': 12496, 'xii': 12497, 'platon': 12498, 'alexeyev': 12499, 'kappes': 12500, 'quarterback': 12501, 'repaired': 12502, 'thu': 12503, 'mende': 12504, 'merchandise': 12505, 'cozumel': 12506, 'guttenberg': 12507, 'schneiderhan': 12508, 'cheapest': 12509, 'vulnerability': 12510, 'altered': 12511, 'gymnast': 12512, 'tshabalala': 12513, 'curator': 12514, 'shula': 12515, 'laughing': 12516, 'believing': 12517, 'maariv': 12518, 'chambliss': 12519, 'rohrabacher': 12520, 'dormitory': 12521, 'colt': 12522, 'cowboy': 12523, 'ipad': 12524, 'seaside': 12525, '3d': 12526, 'riddled': 12527, 'waive': 12528, 'storming': 12529, 'superjumbo': 12530, 'kremlinbacked': 12531, 'alu': 12532, '163': 12533, 'sadeq': 12534, 'horrified': 12535, '1850': 12536, 'kramer': 12537, 'abizaid': 12538, 'tsunamiravaged': 12539, 'rowing': 12540, 'adolfo': 12541, '1000meter': 12542, '54000': 12543, 'smyr': 12544, 'confidentiality': 12545, 'oceanic': 12546, 'turtle': 12547, 'equatoria': 12548, 'facilitated': 12549, 'hint': 12550, 'aluloum': 12551, '23000': 12552, 'berman': 12553, 'aka': 12554, 'acapulco': 12555, 'rood': 12556, 'highestlevel': 12557, 'akayeva': 12558, 'approves': 12559, 'genoino': 12560, 'nestle': 12561, 'silo': 12562, 'schoch': 12563, 'bruhin': 12564, 'baptist': 12565, 'trademark': 12566, 'vuitton': 12567, 'canterbury': 12568, 'flashing': 12569, 'tombstone': 12570, 'freetrade': 12571, 'almanar': 12572, 'iqbal': 12573, 'warravaged': 12574, 'conducive': 12575, 'yakubov': 12576, 'peso': 12577, 'dean': 12578, 'afforded': 12579, 'groaned': 12580, 'rehn': 12581, 'manipulate': 12582, 'demonizing': 12583, 'lugar': 12584, 'satisfy': 12585, 'dad': 12586, 'broadened': 12587, 'arsala': 12588, 'corpus': 12589, 'christi': 12590, 'redraw': 12591, 'combining': 12592, 'agitated': 12593, 'walikale': 12594, 'exotic': 12595, 'maaleh': 12596, 'nullified': 12597, 'khayam': 12598, 'cocacola': 12599, 'cse': 12600, 'stringent': 12601, '3700': 12602, 'miljus': 12603, 'bankrupt': 12604, 'balaguer': 12605, 'catholicism': 12606, 'vasp': 12607, 'raviglione': 12608, 'hyperinflation': 12609, 'eavesdrop': 12610, 'midway': 12611, 'nwr': 12612, 'shbak': 12613, 'gasquet': 12614, 'mirnyi': 12615, 'byzantine': 12616, 'guild': 12617, 'cate': 12618, 'blanchett': 12619, 'europol': 12620, 'nh': 12621, 'paktiawal': 12622, 'verveer': 12623, 'alnaimi': 12624, 'ellice': 12625, 'tonga': 12626, 'zanzibar': 12627, 'fowler': 12628, 'disengagement': 12629, 'shas': 12630, 'abolish': 12631, 's300': 12632, 'kononov': 12633, 'solecki': 12634, 'montagnards': 12635, 'tokage': 12636, 'kindergarten': 12637, 'warcrimes': 12638, 'attorneygeneral': 12639, 'passersby': 12640, 'matesi': 12641, 'quist': 12642, 'petkoff': 12643, 'larose': 12644, 'arising': 12645, 'depended': 12646, 'anp': 12647, '258': 12648, 'taboo': 12649, 'realizing': 12650, 'gration': 12651, 'saqib': 12652, 'nazareth': 12653, 'emigrated': 12654, '07': 12655, 'clarifies': 12656, 'meoni': 12657, 'benisede': 12658, 'jimenez': 12659, 'bergman': 12660, 'idema': 12661, 'hornet': 12662, 'rezai': 12663, 'preventive': 12664, '29th': 12665, 'olpc': 12666, 'samper': 12667, 'methane': 12668, 'talibanlinked': 12669, 'pokhrel': 12670, 'ahnlund': 12671, 'butcher': 12672, 'clemens': 12673, 'frightening': 12674, 'housedog': 12675, 'promoscow': 12676, 'collier': 12677, 'ousting': 12678, 'zim': 12679, 'merapi': 12680, 'merimee': 12681, 'floodravaged': 12682, 'demirel': 12683, 'fiat': 12684, 'kamin': 12685, 'pamphlet': 12686, 'ghost': 12687, 'mswati': 12688, 'costeira': 12689, 'rower': 12690, 'azizuddin': 12691, 'diouf': 12692, 'minuteman': 12693, 'partridge': 12694, 'hen': 12695, 'bittok': 12696, 'ney': 12697, 'johanns': 12698, 'nightingale': 12699, 'caste': 12700, 'kindhearts': 12701, 'rhee': 12702, 'sb': 12703, 'inoperable': 12704, 'murtha': 12705, 'rostropovich': 12706, 'monte': 12707, 'heifer': 12708, 'worm': 12709, 'hourlong': 12710, 'ferrying': 12711, 'bottleneck': 12712, 'sow': 12713, 'trophy': 12714, 'geir': 12715, 'countless': 12716, 'calvin': 12717, 'broadus': 12718, 'crips': 12719, 'engages': 12720, 'complimentary': 12721, 'loser': 12722, 'highrisk': 12723, 'overtaking': 12724, 'comandante': 12725, 'ramona': 12726, 'zapatistas': 12727, 'rumored': 12728, 'americanislamic': 12729, 'welldocumented': 12730, 'abd': 12731, 'unislamic': 12732, 'concept': 12733, 'immunize': 12734, '2015': 12735, 'barakat': 12736, 'keyser': 12737, '2030': 12738, 'responsibly': 12739, 'nicephore': 12740, 'soglo': 12741, 'ignorance': 12742, 'rebuffed': 12743, 'insurgencyrelated': 12744, 'accessible': 12745, 'dia': 12746, '1819': 12747, 'qatari': 12748, 'khalifa': 12749, 'backbone': 12750, 'outlying': 12751, 'unskilled': 12752, 'bundle': 12753, 'rendered': 12754, 'wasted': 12755, 'tetiana': 12756, 'koprowicz': 12757, 'brake': 12758, 'steadfastly': 12759, 'udhampur': 12760, 'brisk': 12761, 'superpower': 12762, 'qalat': 12763, 'flaming': 12764, 'arrow': 12765, 'downplay': 12766, 'baduel': 12767, 'pilotless': 12768, 'f5': 12769, 'formalize': 12770, 'jama': 12771, 'dora': 12772, 'formidable': 12773, 'sweilam': 12774, 'tend': 12775, 'census': 12776, 'petrocaribe': 12777, 'jaafar': 12778, 'diabetic': 12779, 'exhuming': 12780, 'garage': 12781, 'massacred': 12782, 'revere': 12783, 'hrbaty': 12784, 'adelaide': 12785, 'onslaught': 12786, 'bouncing': 12787, 'hernych': 12788, 'junaid': 12789, 'philippoussis': 12790, 'seppi': 12791, 'florent': 12792, 'transfusion': 12793, 'stalling': 12794, 'arif': 12795, 'h1b': 12796, 'balata': 12797, 'clout': 12798, 'leadup': 12799, 'omi': 12800, 'measurable': 12801, '40day': 12802, 'sixstory': 12803, 'krzysztof': 12804, 'visionary': 12805, 'graveyard': 12806, 'taunting': 12807, 'bujumbura': 12808, 'fnl': 12809, 'remanded': 12810, 'ismael': 12811, 'oleg': 12812, 'gourmet': 12813, 'idb': 12814, 'enrolled': 12815, 'composer': 12816, 'ink': 12817, 'gara': 12818, 'portrayed': 12819, 'centerpiece': 12820, '212': 12821, 'zenith': 12822, 'depleted': 12823, 'daltrey': 12824, '1563': 12825, 'townshend': 12826, 'barely': 12827, 'volatility': 12828, 'inherited': 12829, 'owing': 12830, 'nutmeg': 12831, 'philosopher': 12832, 'providence': 12833, 'perish': 12834, 'chaldean': 12835, 'pablo': 12836, 'seville': 12837, 'almansoorain': 12838, 'smart1': 12839, 'excellence': 12840, '7200': 12841, 'propulsion': 12842, 'kariye': 12843, 'lindsey': 12844, 'howe': 12845, 'huot': 12846, 'wat': 12847, 'twohectare': 12848, 'eisenman': 12849, 'evokes': 12850, 'nonjewish': 12851, 'archer': 12852, 'nrc': 12853, 'farmhouse': 12854, 'internationallybrokered': 12855, '85000': 12856, 'proportionately': 12857, 'lax': 12858, 'tying': 12859, 'daybreak': 12860, 'itv': 12861, 'reeling': 12862, 'kevljani': 12863, 'safavi': 12864, 'scripture': 12865, 'allah': 12866, 'dimitris': 12867, 'christofias': 12868, 'islandnation': 12869, 'earthquakeravaged': 12870, 'quakehit': 12871, 'centenary': 12872, 'burge': 12873, 'sattler': 12874, 'mural': 12875, 'ohara': 12876, 'limiting': 12877, 'antisikh': 12878, '45yearold': 12879, 'brushing': 12880, 'azamiyah': 12881, 'amiriyah': 12882, 'eutelsat': 12883, '1170': 12884, 'infertility': 12885, 'shaab': 12886, 'overdue': 12887, 'redeploy': 12888, 'khurshid': 12889, 'tcdd': 12890, 'deminers': 12891, 'regrouped': 12892, 'eluded': 12893, 'rearrested': 12894, 'divulging': 12895, 'elsheik': 12896, 'bazaar': 12897, 'bagpipe': 12898, 'lawn': 12899, 'shanksville': 12900, 'pokhara': 12901, 'legitimize': 12902, 'specifies': 12903, 'mazaresharif': 12904, 'collaborator': 12905, 'jailhouse': 12906, 'debby': 12907, 'stephanides': 12908, 'siphoned': 12909, 'devised': 12910, 'settling': 12911, 'nascent': 12912, 'can': 12913, 'jang': 12914, 'appalling': 12915, 'prohibits': 12916, 'canned': 12917, 'cage': 12918, 'shallow': 12919, 'philanthropist': 12920, '1896': 12921, '1901': 12922, 'unexplored': 12923, 'rehabilitate': 12924, 'matchup': 12925, 'gai': 12926, 'integrate': 12927, 'alrai': 12928, 'cashstrapped': 12929, 'classification': 12930, 'beneficiary': 12931, 'amiin': 12932, 'illiteracy': 12933, 'mediumterm': 12934, 'fluctuating': 12935, 'preindependence': 12936, 'reinvest': 12937, 'undeveloped': 12938, 'taunted': 12939, 'rite': 12940, 'headlight': 12941, 'unjust': 12942, 'remind': 12943, 'lonely': 12944, 'graner': 12945, 'sabrina': 12946, 'nearearth': 12947, '20ton': 12948, 'capsule': 12949, '2018': 12950, '43000': 12951, 'enslaved': 12952, 'saharan': 12953, 'usowned': 12954, 'taksim': 12955, 'offlimits': 12956, 'dawa': 12957, 'burton': 12958, 'girija': 12959, 'saadoun': 12960, 'skirted': 12961, 'suffocating': 12962, 'stopover': 12963, 'azarov': 12964, 'bury': 12965, 'nanmadol': 12966, 'twothousand': 12967, 'eightthousand': 12968, 'issa': 12969, 'tchiroma': 12970, 'bakassi': 12971, 'advancement': 12972, 'flavinols': 12973, 'motorway': 12974, 'precedent': 12975, 'schalkwyk': 12976, 'deif': 12977, 'seasonending': 12978, 'teimuraz': 12979, 'gabashvili': 12980, 'serbiamontenegro': 12981, 'impulse': 12982, 'subur': 12983, 'sugiarto': 12984, 'shin': 12985, 'intoxicated': 12986, '187': 12987, 'infringe': 12988, 'rudolf': 12989, 'apostolic': 12990, 'eucharist': 12991, 'assadullah': 12992, 'parwan': 12993, 'crucifix': 12994, 'reverence': 12995, 'ministrokes': 12996, 'oxford': 12997, 'facial': 12998, 'thinning': 12999, 'disturbing': 13000, 'circumvent': 13001, 'wording': 13002, 'inconvenient': 13003, 'rohani': 13004, 'europeanbrokered': 13005, 'nevsky': 13006, 'prospekt': 13007, 'terroristrelated': 13008, 'cater': 13009, 'alghoul': 13010, 'ethnicchinese': 13011, 'bust': 13012, 'holmes': 13013, 'summons': 13014, 'certify': 13015, 'zaman': 13016, 'sardinia': 13017, 'bologna': 13018, 'drawdown': 13019, 'marginalized': 13020, 'qinghong': 13021, 'fivenation': 13022, 'trinidad': 13023, 'tobago': 13024, 'discrepancy': 13025, 'widower': 13026, 'zimmermann': 13027, 'grubbs': 13028, 'schrock': 13029, 'yves': 13030, 'chauvin': 13031, 'environmentallyfriendly': 13032, 'molecule': 13033, 'reproduce': 13034, 'impassable': 13035, 'branded': 13036, 'tottenham': 13037, 'hotspur': 13038, 'achilles': 13039, 'ac': 13040, 'bowen': 13041, 'aleksander': 13042, 'caicos': 13043, 'eilat': 13044, 'armorgroup': 13045, 'enters': 13046, '1719': 13047, 'invoked': 13048, 'threshold': 13049, 'mutiny': 13050, 'aggrieved': 13051, 'proportional': 13052, 'jaw': 13053, 'saddled': 13054, 'foil': 13055, 'appletree': 13056, 'dear': 13057, 'flourishing': 13058, 'statistician': 13059, 'accountant': 13060, '33yearold': 13061, 'doomed': 13062, 'governmentfunded': 13063, 'erben': 13064, 'kanyabayonga': 13065, 'fragment': 13066, 'dweller': 13067, 'urgency': 13068, 'hottest': 13069, 'appliance': 13070, 'yunis': 13071, 'forgives': 13072, 'tsunamiaffected': 13073, '386': 13074, 'miltzow': 13075, 'unloaded': 13076, 'torgelow': 13077, 'hamidzada': 13078, 'aleem': 13079, 'siddique': 13080, 'allotment': 13081, 'ntv': 13082, 'forget': 13083, 'implies': 13084, 'suef': 13085, 'rationale': 13086, 'hypertension': 13087, 'squared': 13088, 'counterprotesters': 13089, '387': 13090, '722': 13091, 'buyout': 13092, 'rajouri': 13093, 'juncker': 13094, 'gear': 13095, 'boasted': 13096, 'plo': 13097, 'hayward': 13098, 'skeptical': 13099, 'leon': 13100, 'mezni': 13101, 'jendayi': 13102, 'frazer': 13103, 'khawaza': 13104, 'tumbled': 13105, 'stave': 13106, 'seyni': 13107, '31member': 13108, 'yanukovich': 13109, 'inadmissible': 13110, 'slider': 13111, 'lund': 13112, '18year': 13113, 'hydrogen': 13114, 'unrealistic': 13115, 'tachileik': 13116, 'sevenhour': 13117, '756': 13118, 'carnage': 13119, 'postsaddam': 13120, 'degraded': 13121, 'revitalizing': 13122, 'farfetched': 13123, 'erbamont': 13124, 'blaise': 13125, 'compaore': 13126, 'stubbornly': 13127, 'overreliance': 13128, '1297': 13129, '1419': 13130, 'recreation': 13131, 'happiness': 13132, 'groom': 13133, 'ala': 13134, 'scoundrel': 13135, 'pitching': 13136, 'excessively': 13137, 'gel': 13138, 'preparedness': 13139, 'montserrat': 13140, 'islamistled': 13141, 'qualifier': 13142, 'surprising': 13143, 'stunning': 13144, 'niamey': 13145, 'stade': 13146, 'abel': 13147, 'essam': 13148, 'seventime': 13149, 'stallone': 13150, 'performanceenhancing': 13151, '86000': 13152, 'nagpur': 13153, 'oral': 13154, 'radiation': 13155, 'ulcer': 13156, 'alcoholic': 13157, 'hartford': 13158, 'equip': 13159, 'repatriating': 13160, 'renovating': 13161, 'solo': 13162, 'onemeter': 13163, 'seventeenyearold': 13164, 'bakutbilisiceyhan': 13165, 'capitalize': 13166, 'entirety': 13167, 'gratitude': 13168, 'alexy': 13169, 'yakutsk': 13170, 'epiphany': 13171, 'iacovou': 13172, 'greekled': 13173, 'sadrist': 13174, 'boomed': 13175, '266': 13176, 'agoa': 13177, 'prothaksin': 13178, 'firewood': 13179, 'persuaded': 13180, 'outlandish': 13181, 'anytime': 13182, 'penal': 13183, 'priscilla': 13184, '2019': 13185, 'mankind': 13186, 'prevailed': 13187, 'heaven': 13188, 'righteous': 13189, 'consulted': 13190, 'juvenal': 13191, 'habyarimana': 13192, 'eluniversal': 13193, 'attaché': 13194, 'decreed': 13195, 'henceforth': 13196, 'illustrate': 13197, 'beneliezer': 13198, 'ueberroth': 13199, 'arises': 13200, 'singly': 13201, 'yasin': 13202, 'attendant': 13203, 'orchid': 13204, 'wagner': 13205, 'valle': 13206, 'stripping': 13207, 'redefine': 13208, 'ilam': 13209, 'tang': 13210, 'undertaking': 13211, 'drunkenness': 13212, 'kaliningrad': 13213, 'refuted': 13214, 'tribespeople': 13215, 'deutsche': 13216, 'welle': 13217, 'musayyib': 13218, 'atrocious': 13219, 'pronounced': 13220, 'mourned': 13221, 'rendition': 13222, 'dec': 13223, 'kearny': 13224, 'yearago': 13225, 'irrigated': 13226, 'simone': 13227, 'excommunist': 13228, 'barba': 13229, 'berdimuhamedow': 13230, 'polyglot': 13231, 'lame': 13232, 'wrinkled': 13233, 'filbert': 13234, 'grasped': 13235, 'readily': 13236, 'federally': 13237, 'malakand': 13238, '3379': 13239, '28th': 13240, 'damper': 13241, 'entice': 13242, 'hezbollahled': 13243, 'himat': 13244, '60day': 13245, 'cheerful': 13246, 'kwame': 13247, 'nkrumah': 13248, 'notch': 13249, 'gongadze': 13250, 'maltreatment': 13251, 'mistrial': 13252, 'bowman': 13253, 'bahraini': 13254, 'aiyar': 13255, 'threeway': 13256, 'pangandaran': 13257, 'skipped': 13258, 'ranger': 13259, 'scorched': 13260, 'nasal': 13261, 'intake': 13262, 'armchair': 13263, 'bless': 13264, 'hinted': 13265, 'timely': 13266, 'canceling': 13267, 'saboteur': 13268, 'blessed': 13269, 'devout': 13270, 'publicize': 13271, 'vaeedi': 13272, '787': 13273, 'facilitator': 13274, 'guiding': 13275, 'glenn': 13276, 'domodedovo': 13277, 'novosti': 13278, 'guess': 13279, 'usbrokered': 13280, 'balochistan': 13281, 'gasrich': 13282, 'berlinbased': 13283, '146': 13284, 'ignores': 13285, 'kryvorizhstal': 13286, 'qaeda': 13287, 'woefully': 13288, 'atheist': 13289, '95000': 13290, '429': 13291, 'locale': 13292, 'indoors': 13293, 'exemption': 13294, 'concealing': 13295, 'conscripted': 13296, 'sweet': 13297, 'shallah': 13298, 'gilad': 13299, 'randomly': 13300, 'salerno': 13301, 'duel': 13302, 'fivetime': 13303, 'maxim': 13304, '15kilometer': 13305, 'snowboarding': 13306, 'kelly': 13307, '85yearold': 13308, 'encompass': 13309, '676': 13310, 'rossi': 13311, 'compiling': 13312, 'shoved': 13313, 'pediatrician': 13314, '85th': 13315, 'mullaittivu': 13316, 'duncan': 13317, 'denounces': 13318, 'integra': 13319, 'hallwood': 13320, 'masoum': 13321, 'piped': 13322, 'repository': 13323, 'mid2006': 13324, 'idp': 13325, 'plumage': 13326, 'nettle': 13327, 'boldly': 13328, 'philosophy': 13329, 'previouslyunknown': 13330, 'hiking': 13331, 'draining': 13332, 'ninety': 13333, 'aerospace': 13334, 'extorting': 13335, 'trainer': 13336, 'antieuropean': 13337, 'davy': 13338, 'democraticcontrolled': 13339, 'override': 13340, 'derailment': 13341, 'griffal': 13342, 'joye': 13343, 'quinn': 13344, 'tworun': 13345, 'myles': 13346, 'erin': 13347, 'courtney': 13348, 'yang': 13349, 'bhat': 13350, 'stroll': 13351, 'clad': 13352, 'colored': 13353, 'marlin': 13354, 'shofar': 13355, 'birkenau': 13356, '21monthold': 13357, 'cassim': 13358, 'flurelated': 13359, '530': 13360, 'sterility': 13361, 'vicepresidential': 13362, 'spotlight': 13363, 'padden': 13364, 'lapse': 13365, 'delgado': 13366, 'oliver': 13367, 'garcialopez': 13368, 'raad': 13369, 'hashim': 13370, 'darren': 13371, '420000': 13372, 'capping': 13373, 'laith': 13374, 'iranianbacked': 13375, 'alrashid': 13376, 'manshiyet': 13377, 'nasr': 13378, 'midweek': 13379, 'sidnaya': 13380, 'scanned': 13381, 'iraqiborn': 13382, 'karabila': 13383, 'experimental': 13384, 'gardasil': 13385, 'cancerous': 13386, 'hpvs': 13387, 'kiraithe': 13388, 'hanif': 13389, 'hai': 13390, 'puppet': 13391, 'milliyet': 13392, 'willingly': 13393, 'aggressor': 13394, 'fatahled': 13395, 'everglades': 13396, 'chronicle': 13397, 'behnam': 13398, 'nateghi': 13399, 'tearful': 13400, 'raphael': 13401, 'itno': 13402, 'mulino': 13403, 'khartoumbacked': 13404, 'kempthorne': 13405, 'regulates': 13406, 'gabriel': 13407, 'unthinkable': 13408, 'stunt': 13409, 'kosachyov': 13410, 'faxed': 13411, 'contempt': 13412, 'shein': 13413, '175': 13414, '1533': 13415, 'freeenterprise': 13416, 'incorporation': 13417, 'sanctioned': 13418, 'harmonize': 13419, 'readmitted': 13420, 'depreciate': 13421, 'locality': 13422, '1499': 13423, '1848': 13424, '1874': 13425, 'jealous': 13426, 'omen': 13427, 'loudly': 13428, 'wondered': 13429, 'caw': 13430, 'tanner': 13431, 'inconvenience': 13432, 'centre': 13433, 'dissemble': 13434, 'leaned': 13435, 'scotia': 13436, 'pul': 13437, 'varied': 13438, 'sook': 13439, 'omdurman': 13440, 'alienated': 13441, 'wisconsin': 13442, 'derailing': 13443, 'educating': 13444, 'kar': 13445, 'seismological': 13446, 'repealing': 13447, 'regressing': 13448, 'acrosstheboard': 13449, 'substitute': 13450, 'deflected': 13451, 'twogoal': 13452, 'shaktoi': 13453, 'hakimullah': 13454, 'schapelle': 13455, 'corby': 13456, 'toughest': 13457, 'viennabased': 13458, 'savic': 13459, 'visegrad': 13460, 'recreated': 13461, 'vargas': 13462, 'importer': 13463, 'kamchatka': 13464, 'remorse': 13465, 'unfit': 13466, 'mutilation': 13467, 'circumcision': 13468, 'nowin': 13469, 'abuser': 13470, 'militaryinstalled': 13471, 'sunset': 13472, 'nyala': 13473, 'elfasher': 13474, 'naturalized': 13475, 'marseille': 13476, 'royaldutch': 13477, 'deepsea': 13478, 'analyzing': 13479, 'uproar': 13480, 'kuznetsov': 13481, 'characteristic': 13482, 'fabricating': 13483, 'massacring': 13484, 'princess': 13485, 'dragomir': 13486, 'yusef': 13487, 'manchester': 13488, 'fawaz': 13489, 'nineteen': 13490, 'mara': 13491, 'salvatrucha': 13492, 'chandler': 13493, 'highseas': 13494, 'accumulation': 13495, 'ningxia': 13496, 'barzan': 13497, 'divorcing': 13498, 'pamela': 13499, 'exempts': 13500, 'inconsistency': 13501, 'blindness': 13502, 'saqiz': 13503, 'radioed': 13504, 'mammal': 13505, 'drown': 13506, 'prowhaling': 13507, 'molested': 13508, 'bedroom': 13509, 'narsingh': 13510, 'disqualify': 13511, 'overly': 13512, 'exposition': 13513, 'homing': 13514, 'gemstone': 13515, 'carat': 13516, 'moriarty': 13517, 'mid2000s': 13518, 'arable': 13519, 'bozize': 13520, 'persist': 13521, 'sparsely': 13522, 'capitalist': 13523, 'jalil': 13524, 'highlyindebted': 13525, 'greedily': 13526, 'windfall': 13527, 'desiring': 13528, 'stranger': 13529, 'novakatka': 13530, 'novakatkan': 13531, 'novakatkans': 13532, 'pulicharki': 13533, 'heidar': 13534, 'moslehi': 13535, 'expediency': 13536, 'archrival': 13537, '404': 13538, '7500': 13539, 'electrician': 13540, 'slit': 13541, 'malatya': 13542, 'appeasing': 13543, 'taunt': 13544, 'affront': 13545, 'punched': 13546, 'cremation': 13547, 'stakeholder': 13548, 'mystery': 13549, 'adolescent': 13550, 'alfagih': 13551, 'overweight': 13552, 'obese': 13553, 'clearer': 13554, 'bonny': 13555, 'overboard': 13556, 'birmingham': 13557, 'antonovs': 13558, 'naypyidaw': 13559, 'yong': 13560, 'alperon': 13561, 'lamp': 13562, 'resemble': 13563, 'lamppost': 13564, 'bayrou': 13565, 'leyva': 13566, 'cavern': 13567, 'mobster': 13568, 'hapoalim': 13569, 'schwab': 13570, 'lars': 13571, 'bountiful': 13572, 'osuji': 13573, 'comprising': 13574, '509': 13575, 'bragg': 13576, 'bolivarian': 13577, 'orchestrate': 13578, 'liberated': 13579, 'exterminate': 13580, 'darom': 13581, 'evaded': 13582, 'kato': 13583, 'sustaining': 13584, '44th': 13585, 'halftime': 13586, 'wonderful': 13587, 'professionalism': 13588, 'norman': 13589, 'sword': 13590, 'righteousness': 13591, 'rebellious': 13592, 'arusha': 13593, 'inflight': 13594, 'demagogue': 13595, 'fidelity': 13596, 'kane': 13597, 'aftertax': 13598, 'terminated': 13599, 'modernizing': 13600, 'emphasis': 13601, 'publicprivate': 13602, 'competes': 13603, 'ceramic': 13604, 'fabric': 13605, 'furniture': 13606, 'tile': 13607, 'outflow': 13608, 'cushion': 13609, 'varying': 13610, 'abdoulaye': 13611, 'horseman': 13612, 'faculty': 13613, 'sink': 13614, 'melissa': 13615, 'schoomaker': 13616, 'nuclearrelated': 13617, 'cleland': 13618, 'steer': 13619, 'governmentowned': 13620, 'leumi': 13621, 'stockpiling': 13622, 'enticed': 13623, 'sutanto': 13624, 'batu': 13625, 'masterminding': 13626, '69th': 13627, 'subcontinent': 13628, 'fiorina': 13629, 'hp': 13630, 'resisting': 13631, 'vintsuk': 13632, 'vyachorka': 13633, 'quashing': 13634, 'keen': 13635, 'preceded': 13636, 'mireya': 13637, 'moscoso': 13638, 'mejia': 13639, 'inflammatory': 13640, 'baikal': 13641, 'fiancee': 13642, 'monoxide': 13643, 'adriano': 13644, 'ronaldinho': 13645, 'naftogaz': 13646, 'sullivan': 13647, 'ekaterina': 13648, 'aiko': 13649, 'nakamura': 13650, 'cassation': 13651, '05feb': 13652, 'yoonjeong': 13653, 'pianist': 13654, 'irina': 13655, 'leverage': 13656, 'calmed': 13657, 'notable': 13658, 'cricketer': 13659, 'matchfixing': 13660, 'intentionally': 13661, 'mosquitoborne': 13662, 'imitation': 13663, 'aleppo': 13664, 'sofyan': 13665, 'edited': 13666, 'ambiguous': 13667, 'anna': 13668, 'rick': 13669, 'misunderstood': 13670, 'pattaya': 13671, 'homelessness': 13672, 'atagi': 13673, 'adamantly': 13674, 'faizabad': 13675, 'kohistan': 13676, 'mariejeanne': 13677, 'sorin': 13678, 'miscoci': 13679, 'ovidiu': 13680, 'ohanesian': 13681, 'crnogorac': 13682, 'banja': 13683, 'luka': 13684, 'unprotected': 13685, 'minustah': 13686, 'mansoor': 13687, 'ayodhya': 13688, 'anatolian': 13689, 'israeliamerican': 13690, 'galina': 13691, 'dogged': 13692, 'firebombing': 13693, 'eidalfitr': 13694, 'centuryold': 13695, 'hsann': 13696, 'subsidizing': 13697, 'sunrise': 13698, 'greedy': 13699, 'packaging': 13700, 'discontinued': 13701, '133': 13702, 'reorganize': 13703, 'fertility': 13704, 'municipality': 13705, 'chronically': 13706, 'deepest': 13707, 'culminating': 13708, 'retribution': 13709, 'zaire': 13710, 'rout': 13711, 'perfume': 13712, 'apt': 13713, 'pupil': 13714, 'courtier': 13715, 'till': 13716, 'forgot': 13717, 'robe': 13718, 'basket': 13719, 'abstain': 13720, 'dragging': 13721, 'inaction': 13722, 'machinegun': 13723, 'claudia': 13724, 'ted': 13725, 'parker': 13726, 'hooker': 13727, 'eyesight': 13728, 'golf': 13729, 'vera': 13730, 'amelie': 13731, 'stewardship': 13732, 'dealership': 13733, 'daring': 13734, 'phony': 13735, 'araujo': 13736, 'maltreating': 13737, 'rampaging': 13738, 'seclusion': 13739, 'sur': 13740, 'grinning': 13741, 'sunk': 13742, 'compliant': 13743, 'explosivesfilled': 13744, 'mess': 13745, 'shaalan': 13746, 'respirator': 13747, 'inhumane': 13748, 'bayaman': 13749, 'queensland': 13750, 'nicknamed': 13751, 'cooper': 13752, 'alrishawi': 13753, 'bluntly': 13754, 'possessed': 13755, 'mozambican': 13756, 'anjar': 13757, 'wagah': 13758, 'miamibased': 13759, 'kurzban': 13760, 'depleting': 13761, 'berdych': 13762, 'novak': 13763, 'djokovic': 13764, 'finalist': 13765, 'verdasco': 13766, 'nikolay': 13767, 'davydenko': 13768, 'branislav': 13769, 'cartosat1': 13770, 'hamsat': 13771, 'sriharokota': 13772, 'pslav': 13773, '882': 13774, 'wellsupplied': 13775, 'platero': 13776, 'advertise': 13777, '05apr': 13778, 'violenceplagued': 13779, 'altercation': 13780, 'counterterrorist': 13781, 'limb': 13782, 'highestrated': 13783, 'panicking': 13784, 'fairer': 13785, 'deepening': 13786, 'resorted': 13787, 'antiisraeli': 13788, 'percapita': 13789, 'depress': 13790, 'steepest': 13791, 'ryazanov': 13792, 'sundance': 13793, 'monica': 13794, 'xrays': 13795, 'pyinmana': 13796, 'soren': 13797, 'vuk': 13798, 'draskovic': 13799, 'albanianled': 13800, 'bombproof': 13801, 'gereshk': 13802, '246': 13803, 'villa': 13804, 'longestserving': 13805, 'guebuza': 13806, 'terminate': 13807, 'discouraged': 13808, 'midyear': 13809, 'awori': 13810, 'giuliana': 13811, 'blockaded': 13812, 'environmentfriendly': 13813, 'conserve': 13814, 'necessarily': 13815, 'onitsha': 13816, 'anambra': 13817, 'hausa': 13818, 'overshadowed': 13819, 'repercussion': 13820, 'inter': 13821, 'persecuting': 13822, 'almuhajer': 13823, 'calmer': 13824, 'succumb': 13825, 'alshahristani': 13826, 'timeframe': 13827, 'molesting': 13828, 'acquittal': 13829, 'mannar': 13830, 'squandered': 13831, 'tiebreaker': 13832, 'vliegen': 13833, 'seymour': 13834, 'drowning': 13835, 'electrocution': 13836, 'downpour': 13837, 'lausannebased': 13838, 'render': 13839, 'provisionally': 13840, 'napoleon': 13841, 'grooming': 13842, 'dn': 13843, 'ethnicity': 13844, 'sixcountry': 13845, 'infiltrator': 13846, 'piling': 13847, 'gazabased': 13848, '2900': 13849, 'straining': 13850, 'truckloads': 13851, 'weakest': 13852, 'baluchi': 13853, 'mendez': 13854, 'soweto': 13855, 'corruptionrelated': 13856, 'constitutes': 13857, 'alattiya': 13858, 'nativeborn': 13859, 'migrated': 13860, 'lutfullah': 13861, 'mashal': 13862, 'newborn': 13863, 'yinghua': 13864, 'authenticate': 13865, 'facilitation': 13866, 'goahead': 13867, 'neglecting': 13868, 'warrelated': 13869, 'jakob': 13870, 'dadis': 13871, 'erecting': 13872, 'knock': 13873, 'celebratory': 13874, 'turpan': 13875, 'offshoot': 13876, 'elco': 13877, 'overthecounter': 13878, 'commoditybased': 13879, '1829': 13880, 'protracted': 13881, 'saparmurat': 13882, 'nyyazow': 13883, 'rekindled': 13884, 'thistle': 13885, 'kari': 13886, 'reveals': 13887, 'overrule': 13888, 'haitianborn': 13889, 'dumarsais': 13890, 'symbolizing': 13891, 'picnic': 13892, 'loom': 13893, 'xian': 13894, 'dongfeng': 13895, 'uniting': 13896, 'crumpton': 13897, '324': 13898, 'paired': 13899, 'southsoutheast': 13900, 'relocating': 13901, 'immigrated': 13902, 'dictatorial': 13903, 'riga': 13904, 'tirah': 13905, 'azar': 13906, 'australianled': 13907, 'sting': 13908, 'switched': 13909, 'vitaly': 13910, 'churkin': 13911, 'tattoo': 13912, 'storied': 13913, 'californiabased': 13914, 'bordered': 13915, 'hefty': 13916, 'walesa': 13917, 'speedy': 13918, 'alnida': 13919, 'mostwatched': 13920, 'ashley': 13921, 'stalinist': 13922, 'kharazzi': 13923, 'nuclearfuel': 13924, 'kocharian': 13925, 'characterizing': 13926, 'russiabacked': 13927, 'thanh': 13928, 'hoa': 13929, 'nalchik': 13930, 'reliable': 13931, 'maulvi': 13932, 'decentralized': 13933, 'resilience': 13934, 'shoulderfired': 13935, 'gonzalo': 13936, 'dimming': 13937, '930': 13938, 'cube': 13939, 'candlelight': 13940, 'maarib': 13941, 'phasing': 13942, 'midsized': 13943, 'muscat': 13944, 'qaboos': 13945, 'reshuffled': 13946, 'ostensible': 13947, 'hizballah': 13948, 'dredging': 13949, 'lock': 13950, 'mechanic': 13951, 'wonder': 13952, 'awakened': 13953, 'ross': 13954, 'metin': 13955, 'kaplan': 13956, 'ataturk': 13957, 'cyberdissidents': 13958, 'basilan': 13959, 'precipitation': 13960, 'zionist': 13961, 'lucky': 13962, 'roasted': 13963, 'nicole': 13964, 'mitofsky': 13965, 'umaru': 13966, 'edged': 13967, 'medellin': 13968, '780': 13969, 'assassinating': 13970, 'democraticallyelected': 13971, 'punk': 13972, 'defunct': 13973, 'mest': 13974, 'matt': 13975, 'disbanding': 13976, 'blumenthal': 13977, 'costar': 13978, 'fivetenths': 13979, 'onetenth': 13980, 'markos': 13981, 'kongsak': 13982, 'bangguo': 13983, 'mebki': 13984, 'bouake': 13985, 'ivorians': 13986, 'ljoekelsoey': 13987, '788': 13988, 'widhoelzl': 13989, 'gunboat': 13990, 'madden': 13991, 'charlotte': 13992, 'halfway': 13993, 'hamburger': 13994, 'hey': 13995, 'download': 13996, 'hamburg': 13997, 'yazidi': 13998, 'sinjar': 13999, 'qasim': 14000, 'saeedi': 14001, '64000': 14002, 'prussia': 14003, 'foreignbacked': 14004, 'nioka': 14005, 'spied': 14006, 'amisom': 14007, 'bahonar': 14008, 'vahidi': 14009, 'vahid': 14010, 'dilapidated': 14011, 'sajjad': 14012, 'sharki': 14013, 'shadid': 14014, 'thoroughly': 14015, 'culmination': 14016, 'belatedly': 14017, 'gala': 14018, '3937': 14019, 'wrongfully': 14020, 'purged': 14021, 'banjul': 14022, 'privatizing': 14023, 'simplify': 14024, 'selfdeclared': 14025, 'thune': 14026, '09': 14027, 'ed': 14028, 'xingning': 14029, 'harmonized': 14030, 'mutahida': 14031, 'religionbased': 14032, 'betterment': 14033, 'retaining': 14034, 'consolidated': 14035, 'tub': 14036, 'baked': 14037, 'milling': 14038, 'leather': 14039, 'jute': 14040, '3625': 14041, '1907': 14042, 'bhutanese': 14043, 'formalized': 14044, 'unhcr': 14045, 'jigme': 14046, 'wangchuck': 14047, 'abdicated': 14048, 'renegotiated': 14049, 'preferential': 14050, 'cheat': 14051, 'borrowed': 14052, 'plume': 14053, 'richly': 14054, 'sour': 14055, 'nineyear': 14056, 'skimming': 14057, 'containment': 14058, '53000': 14059, '6322': 14060, 'manifestation': 14061, 'gallows': 14062, '197': 14063, 'hoshide': 14064, 'shower': 14065, 'mayardit': 14066, 'purity': 14067, 'subscriber': 14068, 'disappearing': 14069, 'folly': 14070, 'nearrecord': 14071, 'bono': 14072, 'vinh': 14073, 'nadu': 14074, 'dissipating': 14075, 'oz': 14076, 'mgm': 14077, 'patterson': 14078, 'hammad': 14079, 'hilda': 14080, 'makeover': 14081, 'dhahran': 14082, 'frequented': 14083, 'gustavo': 14084, 'feeder': 14085, 'shurpayev': 14086, 'arboleda': 14087, 'malfunctioned': 14088, 'strangled': 14089, 'untapped': 14090, 'uraniumenriching': 14091, 'observation': 14092, 'seventeen': 14093, '120000': 14094, 'piled': 14095, 'vandalized': 14096, 'sergio': 14097, 'viera': 14098, 'mello': 14099, 'wirayuda': 14100, 'albar': 14101, 'diplomatically': 14102, 'singeractress': 14103, 'unaware': 14104, 'supermarket': 14105, 'tabare': 14106, 'meddle': 14107, 'usvenezuelan': 14108, 'heydari': 14109, 'inevitable': 14110, 'shaping': 14111, 'voicing': 14112, 'vested': 14113, 'factual': 14114, 'electronically': 14115, 'turkicspeaking': 14116, 'explores': 14117, 'chandrayaan1': 14118, 'sensor': 14119, 'pointblank': 14120, 'iscuande': 14121, 'morenoocampo': 14122, 'duped': 14123, 'reassure': 14124, 'indiaus': 14125, 'sulaimaniya': 14126, 'quadrupled': 14127, 'spelling': 14128, 'conditional': 14129, 'baotou': 14130, 'canadianmade': 14131, 'crj200': 14132, 'bakr': 14133, 'intercepting': 14134, 'wrongful': 14135, 'hurtado': 14136, 'usbuilt': 14137, 'roth': 14138, 'murderous': 14139, 'developer': 14140, '2325': 14141, 'ga': 14142, 'liability': 14143, 'fijian': 14144, 'smarter': 14145, 'realize': 14146, 'mcc': 14147, 'violently': 14148, 'gum': 14149, 'flesh': 14150, 'nearer': 14151, 'outrun': 14152, 'sadly': 14153, 'ample': 14154, 'retrieve': 14155, 'spray': 14156, 'lobbed': 14157, 'inclusive': 14158, 'militarily': 14159, 'mingled': 14160, 'fireball': 14161, 'wasteful': 14162, 'xdrtb': 14163, 'quo': 14164, 'grime': 14165, 'angelo': 14166, 'sodano': 14167, 'madcow': 14168, 'vladivostok': 14169, 'alhassani': 14170, 'stoned': 14171, 'belaroussi': 14172, 'wakil': 14173, 'muttawakil': 14174, 'hardcore': 14175, 'stanislaw': 14176, 'izarra': 14177, '520': 14178, 'exhusband': 14179, 'lapd': 14180, 'probed': 14181, 'eimiller': 14182, 'jayden': 14183, 'daron': 14184, 'strobl': 14185, 'skate': 14186, 'stressing': 14187, 'daud': 14188, 'cooperative': 14189, 'strive': 14190, 'forgo': 14191, 'limmt': 14192, 'miramax': 14193, 'shakespeare': 14194, 'weinstein': 14195, 'stanizai': 14196, 'militarized': 14197, 'ronnie': 14198, 'andry': 14199, '111000': 14200, 'najibullah': 14201, 'mwangura': 14202, 'seafarer': 14203, 'kismayo': 14204, 'inconceivable': 14205, 'fradkov': 14206, 'anticommunist': 14207, '760': 14208, 'proposing': 14209, 'byrd': 14210, 'sebastien': 14211, 'choong': 14212, 'rearming': 14213, 'hurriyah': 14214, 'marcus': 14215, 'peugeot': 14216, 'eightyearold': 14217, 'zahar': 14218, 'charger': 14219, 'malfunction': 14220, 'hamasdominated': 14221, 'guajira': 14222, 'connects': 14223, 'inquest': 14224, 'routing': 14225, 'bernama': 14226, 'patricia': 14227, 'massing': 14228, 'atenco': 14229, 'tamin': 14230, 'nuristani': 14231, 'untouched': 14232, 'tarnished': 14233, 'searcher': 14234, 'eldabaa': 14235, 'barot': 14236, 'newark': 14237, 'julie': 14238, 'ulises': 14239, 'resigns': 14240, 'anxiety': 14241, 'antisemitism': 14242, 'daylam': 14243, 'camilo': 14244, 'razali': 14245, 'asher': 14246, 'maximize': 14247, 'specialized': 14248, 'pulse': 14249, 'susceptibility': 14250, 'plank': 14251, 'brook': 14252, 'lest': 14253, 'hrytsenko': 14254, 'catering': 14255, 'symbolically': 14256, 'ch47': 14257, 'jeancharles': 14258, 'foment': 14259, 'gymnasium': 14260, '497': 14261, 'bekasi': 14262, 'okinawa': 14263, 'abhorrent': 14264, 'caring': 14265, 'gerais': 14266, 'casket': 14267, 'lori': 14268, 'tupac': 14269, 'amaru': 14270, 'keesler': 14271, 'patented': 14272, 'outrageous': 14273, 'framed': 14274, 'dishonest': 14275, 'unlimited': 14276, 'nesterenko': 14277, 'mourino': 14278, 'tellez': 14279, 'studentled': 14280, 'whitcomb': 14281, 'servicemembers': 14282, 'manilabased': 14283, 'myuran': 14284, 'sukumaran': 14285, 'jalawla': 14286, 'embraced': 14287, 'antalya': 14288, 'emily': 14289, 'henochowicz': 14290, 'bartering': 14291, 'quezon': 14292, 'emptying': 14293, 'empowered': 14294, 'iranianborn': 14295, 'farsi': 14296, '576': 14297, '24000': 14298, 'alluvial': 14299, '707': 14300, '1806': 14301, 'sar': 14302, 'polishlithuanian': 14303, 'exodus': 14304, 'sanaa': 14305, 'hardened': 14306, 'unifying': 14307, 'strangle': 14308, 'coil': 14309, 'thereupon': 14310, 'bother': 14311, 'sukhoi': 14312, 'midlevel': 14313, 'detailing': 14314, 'geoffrey': 14315, 'allotted': 14316, 'inked': 14317, 'pacifist': 14318, 'hangzhou': 14319, 'nationsbacked': 14320, 'droughtstricken': 14321, 'modify': 14322, 'somber': 14323, '10percent': 14324, 'exsoviet': 14325, 'fragmented': 14326, 'undemocratic': 14327, 'asylumseekers': 14328, 'fatma': 14329, 'broadway': 14330, 'doll': 14331, 'bride': 14332, 'choreography': 14333, 'hafez': 14334, 'parisian': 14335, 'nanny': 14336, 'marjah': 14337, '2720': 14338, 'swindler': 14339, 'mets': 14340, 'grandchild': 14341, '481': 14342, 'whiteowned': 14343, '784': 14344, 'pneumonialike': 14345, 'guangxi': 14346, 'naeem': 14347, 'noor': 14348, 'exomars': 14349, 'flowed': 14350, 'foul': 14351, 'revelation': 14352, 'adopting': 14353, 'consultative': 14354, 'scrapping': 14355, 'globovision': 14356, 'pendleton': 14357, 'sponsoring': 14358, 'mhz': 14359, 'crank': 14360, 'abid': 14361, 'chained': 14362, 'antimilitant': 14363, '1365': 14364, 'boot': 14365, 'accrue': 14366, '1886': 14367, '1899': 14368, 'afrikaner': 14369, 'promarket': 14370, 'thinned': 14371, 'dukedom': 14372, '1603': 14373, '1854': 14374, 'modernize': 14375, 'gupta': 14376, 'longed': 14377, 'devouring': 14378, '53yearold': 14379, 'gentleman': 14380, 'excused': 14381, 'enlist': 14382, 'aswan': 14383, 'abul': 14384, 'appreciates': 14385, 'denunciation': 14386, 'rabin': 14387, 'theodore': 14388, 'newlands': 14389, 'chanderpaul': 14390, 'ntini': 14391, 'ilsung': 14392, 'mombasa': 14393, 'livingstone': 14394, 'lusaka': 14395, 'mediated': 14396, 'humidity': 14397, 'oppositionaligned': 14398, 'transmitting': 14399, 'seif': 14400, 'faulting': 14401, 'energetic': 14402, 'thales': 14403, 'sixyearold': 14404, 'cotonou': 14405, '7th': 14406, 'precautionary': 14407, 'eichmann': 14408, 'caseshiller': 14409, 'solving': 14410, 'grenoble': 14411, 'swirling': 14412, 'kleinkirchheim': 14413, 'klammer': 14414, 'michaela': 14415, 'anja': 14416, 'khristenko': 14417, 'panetta': 14418, 'alobeidi': 14419, 'lembe': 14420, 'bukavu': 14421, 'kenyon': 14422, 'reburied': 14423, 'rodrigues': 14424, 'malachite': 14425, 'determines': 14426, 'rhode': 14427, 'tai': 14428, 'qiang': 14429, 'traitor': 14430, 'katzenellenbogen': 14431, 'erect': 14432, 'surpass': 14433, 'keidel': 14434, 'carnegie': 14435, 'endowment': 14436, 'republicanled': 14437, 'gauging': 14438, 'overpricing': 14439, 'camila': 14440, 'guerra': 14441, 'singersongwriter': 14442, 'incessant': 14443, 'starlet': 14444, 'exboyfriend': 14445, 'log': 14446, 'ry': 14447, 'cooder': 14448, 'beloved': 14449, 'clanbased': 14450, 'destiny': 14451, 'disband': 14452, 'lane': 14453, 'bblday': 14454, 'jonas': 14455, 'arrears': 14456, 'borneo': 14457, 'glided': 14458, 'pricked': 14459, 'dart': 14460, 'fang': 14461, 'useless': 14462, '7000member': 14463, 'heavilyguarded': 14464, 'ashr': 14465, 'newsagency': 14466, 'hydara': 14467, '11700': 14468, 'ninemonth': 14469, 'martinez': 14470, 'balakot': 14471, 'jade': 14472, 'thirdparty': 14473, 'yingjeou': 14474, 'jeopardy': 14475, 'maharastra': 14476, 'guirassy': 14477, 'karliova': 14478, 'tectonic': 14479, 'mercenary': 14480, 'teodoro': 14481, 'baltica': 14482, 'reestablishment': 14483, 'dutchborn': 14484, 'sates': 14485, 'cohesion': 14486, '01': 14487, 'twoman': 14488, 'salizhan': 14489, 'sharipov': 14490, 'leroy': 14491, 'chiao': 14492, 'branko': 14493, 'decay': 14494, 'psychic': 14495, 'cochaired': 14496, 'kimchi': 14497, 'cabbage': 14498, 'achin': 14499, 'sarath': 14500, 'essay': 14501, 'rear': 14502, 'clocked': 14503, 'mclarenmercedes': 14504, 'wurz': 14505, 'raikkonen': 14506, 'trail': 14507, 'thirdplace': 14508, 'drifted': 14509, 'frayed': 14510, 'shunned': 14511, 'longestrunning': 14512, 'daya': 14513, 'nino': 14514, 'sanha': 14515, 'bandung': 14516, 'salina': 14517, 'edgar': 14518, 'norte': 14519, 'contrasted': 14520, 'campo': 14521, 'raiding': 14522, 'unicorp': 14523, 'cara': 14524, '501': 14525, '385': 14526, 'multifiber': 14527, 'tarifffree': 14528, 'highincome': 14529, 'valueadded': 14530, 'profited': 14531, 'petronas': 14532, '1925': 14533, 'guarantor': 14534, 'stamping': 14535, 'neigh': 14536, 'brilliant': 14537, 'indolent': 14538, 'hog': 14539, 'skulked': 14540, 'crowed': 14541, 'boasting': 14542, 'marjayoun': 14543, '14585': 14544, 'prepaid': 14545, '411': 14546, 'markus': 14547, 'insulted': 14548, 'mujahedeen': 14549, 'morsink': 14550, 'michiko': 14551, 'saipan': 14552, 'fading': 14553, 'torrent': 14554, 'bassist': 14555, 'vista': 14556, 'acclaim': 14557, 'ruben': 14558, 'gonzalez': 14559, 'memin': 14560, 'pinguin': 14561, 'sa': 14562, 'immensely': 14563, 'offended': 14564, 'demeanor': 14565, 'conservationist': 14566, 'guji': 14567, 'borena': 14568, 'shakiso': 14569, 'arero': 14570, 'yabello': 14571, '39000': 14572, 'virunga': 14573, 'segway': 14574, 'ndjabu': 14575, 'dwain': 14576, 'rodina': 14577, 'den': 14578, 'llodra': 14579, 'koukalova': 14580, 'firstset': 14581, 'countrywoman': 14582, 'grasscourt': 14583, 'johan': 14584, 'tarulovski': 14585, 'foodstuff': 14586, 'malcolm': 14587, 'reception': 14588, 'deploys': 14589, 'conferring': 14590, 'striving': 14591, 'ashdod': 14592, 'standin': 14593, 'gilchrist': 14594, 'olympio': 14595, 'andiwal': 14596, 'apologizes': 14597, 'levinson': 14598, 'locating': 14599, 'mar46': 14600, 'centurion': 14601, 'anthrax': 14602, 'dynamite': 14603, 'sderot': 14604, 'southerner': 14605, 'boiled': 14606, 'reassuring': 14607, 'singleday': 14608, 'beiji': 14609, 'paulos': 14610, 'faraj': 14611, 'nineveh': 14612, 'blackmailed': 14613, 'baber': 14614, 'mcdaniel': 14615, 'yokota': 14616, 'alfonso': 14617, '340': 14618, 'logo': 14619, '138': 14620, 'arsenic': 14621, '352': 14622, 'conn': 14623, 'ko': 14624, 'stimulated': 14625, 'longerterm': 14626, 'ushering': 14627, 'indochina': 14628, 'semblance': 14629, 'norodom': 14630, 'aboriginal': 14631, '1770': 14632, 'capt': 14633, 'alalam': 14634, 'qom': 14635, 'ascension': 14636, 'perceiving': 14637, 'antagonist': 14638, 'deprivation': 14639, 'spiderman': 14640, 'boxoffice': 14641, 'thriller': 14642, 'grossing': 14643, 'ideological': 14644, 'gossip': 14645, '314': 14646, 'hamilton': 14647, 'hayek': 14648, 'compatible': 14649, 'volt': 14650, 'f16s': 14651, 'manual': 14652, 'manipur': 14653, 'defenseless': 14654, 'gayle': 14655, 'occured': 14656, 'penetrate': 14657, 'balkenende': 14658, 'dragon': 14659, 'constructively': 14660, 'jowhar': 14661, 'abdulhamid': 14662, 'medusa': 14663, 'maksim': 14664, 'awakening': 14665, 'sexuality': 14666, 'examines': 14667, 'zheng': 14668, 'denuclearization': 14669, 'donkey': 14670, 'unanswered': 14671, 'ulf': 14672, 'henricsson': 14673, 'claudio': 14674, 'unwarranted': 14675, 'deactivated': 14676, 'nitrate': 14677, 'nikiforov': 14678, 'staffing': 14679, 'counterrevolutionary': 14680, 'madhav': 14681, 'memento': 14682, 'prerecorded': 14683, 'daytoday': 14684, 'yadana': 14685, 'realtor': 14686, 'resale': 14687, 'helgesen': 14688, 'mackay': 14689, 'sukhumi': 14690, 'motel': 14691, 'disbursing': 14692, 'millenium': 14693, 'protectionist': 14694, 'trouser': 14695, 'knit': 14696, 'underwear': 14697, 'asiaeurope': 14698, 'vedomosti': 14699, 'muifa': 14700, 'ngai': 14701, 'thua': 14702, 'thien': 14703, 'hue': 14704, 'rulingparty': 14705, 'bonfoh': 14706, 'muslimchristian': 14707, 'offending': 14708, 'hadson': 14709, 'melnichenko': 14710, 'unwillingness': 14711, 'couch': 14712, 'enthusiasm': 14713, 'dame': 14714, 'teller': 14715, 'wallet': 14716, 'whisper': 14717, 'breeze': 14718, 'discriminatory': 14719, 'israelpalestinian': 14720, 'enshrines': 14721, 'oppositionled': 14722, 'alhayat': 14723, 'panarab': 14724, 'sol': 14725, 'gazans': 14726, 'streamed': 14727, 'fostering': 14728, 'yousaf': 14729, 'sizably': 14730, 'trailer': 14731, 'mc': 14732, 'lobbied': 14733, 'velach': 14734, 'daffaires': 14735, 'mtetwa': 14736, 'gulu': 14737, 'cooperated': 14738, 'ghalib': 14739, 'kubba': 14740, 'investigates': 14741, 'haiphong': 14742, 'benedetti': 14743, 'blige': 14744, 'pasadena': 14745, 'naacp': 14746, 'csw': 14747, 'airdrop': 14748, 'uscontrolled': 14749, 'laidoff': 14750, 'chiang': 14751, 'whitney': 14752, 'surprisingly': 14753, 'biennial': 14754, 'jumbo': 14755, 'moscowbacked': 14756, 'architecture': 14757, 'minaret': 14758, 'hatem': 14759, 'hovered': 14760, 'unjustly': 14761, 'traumatic': 14762, 'understandable': 14763, 'rocker': 14764, 'reside': 14765, 'arghandab': 14766, 'feith': 14767, 'scheuer': 14768, 'inflamed': 14769, 'blacklist': 14770, 'sulphur': 14771, 'shite': 14772, 'fastfood': 14773, 'baqubah': 14774, 'gillard': 14775, 'instore': 14776, 'fourfifths': 14777, 'shiloh': 14778, 'secondmost': 14779, 'enactment': 14780, 'tenth': 14781, '1891': 14782, 'dpp': 14783, '1888': 14784, 'umpire': 14785, 'strolling': 14786, 'lofty': 14787, 'quoth': 14788, 'morsel': 14789, 'seldom': 14790, 'drawer': 14791, 'recruiter': 14792, 'oneninth': 14793, 'hitched': 14794, 'chancellordesignate': 14795, 'midnovember': 14796, 'elvis': 14797, 'magerovskiy': 14798, 'transmitter': 14799, 'valdes': 14800, 'nico': 14801, 'donatella': 14802, 'versace': 14803, 'syndicated': 14804, 'gaunt': 14805, 'ferrero': 14806, 'secondbiggest': 14807, 'mishandled': 14808, 'batumi': 14809, 'louise': 14810, 'araque': 14811, 'kiryenko': 14812, 'shurja': 14813, 'kolkata': 14814, 'wasim': 14815, 'vvs': 14816, 'keeper': 14817, 'mahendra': 14818, 'looted': 14819, 'yorkers': 14820, 'nathalie': 14821, 'dechy': 14822, 'marrero': 14823, 'bartoli': 14824, 'pascual': 14825, 'threeandahalf': 14826, '537': 14827, 'cheating': 14828, 'ginepri': 14829, 'muller': 14830, 'paradorn': 14831, 'h7': 14832, 'congratulatory': 14833, 'quagga': 14834, 'hunted': 14835, 'impeach': 14836, 'zabol': 14837, 'supper': 14838, 'apostle': 14839, 'resurrection': 14840, 'usmexico': 14841, 'booth': 14842, 'almaty': 14843, 'likudled': 14844, 'myna': 14845, 'aviary': 14846, 'antoine': 14847, 'flavia': 14848, 'patty': 14849, 'schnyder': 14850, 'arraigned': 14851, 'gary': 14852, 'distributes': 14853, 'gorbachev': 14854, 'inadvertently': 14855, 'splintered': 14856, 'postsoviet': 14857, 'seaport': 14858, 'antigua': 14859, 'bedding': 14860, 'hemispheric': 14861, 'whelp': 14862, 'collector': 14863, 'compliment': 14864, 'proxy': 14865, 'hudur': 14866, 'governmentallied': 14867, 'masorin': 14868, 'proreform': 14869, 'moin': 14870, 'qalibaf': 14871, 'bartholomew': 14872, 'insurmountable': 14873, 'najam': 14874, 'mostwanted': 14875, 'prochavez': 14876, 'onceaday': 14877, 'bristonmyers': 14878, 'gilead': 14879, 'collaborate': 14880, 'leftofcenter': 14881, 'harvard': 14882, 'yaqoob': 14883, 'ne': 14884, 'artifact': 14885, 'asfandyar': 14886, 'idle': 14887, 'nationalizing': 14888, 'blackmarket': 14889, 'maternity': 14890, 'eighttime': 14891, '09feb': 14892, 'garnering': 14893, 'nationallevel': 14894, 'caldwell': 14895, 'electorate': 14896, 'delight': 14897, 'chelyabinsk': 14898, 'rounding': 14899, 'doe': 14900, 'invasive': 14901, 'uterine': 14902, 'dave': 14903, 'heineman': 14904, 'saifullah': 14905, 'uproot': 14906, 'probation': 14907, 'plotter': 14908, 'reassessed': 14909, 'unify': 14910, 'siisii': 14911, '2600': 14912, 'profane': 14913, 'cetin': 14914, 'rotation': 14915, '8000strong': 14916, 'upside': 14917, 'inspecting': 14918, 'decorated': 14919, 'ohiobased': 14920, '1912': 14921, 'deficiency': 14922, '1856': 14923, '1878': 14924, 'ceausescu': 14925, 'draconian': 14926, 'prgf': 14927, 'nomadic': 14928, '1916': 14929, 'longlasting': 14930, 'spraying': 14931, 'ziemer': 14932, '1938': 14933, 'yonts': 14934, 'kusadasi': 14935, 'tak': 14936, 'alqassam': 14937, 'ravaging': 14938, 'spawned': 14939, 'influencing': 14940, 'rezayee': 14941, 'shaer': 14942, 'booking': 14943, '4200': 14944, 'merrill': 14945, 'lynch': 14946, 'brokerage': 14947, 'sixty': 14948, 'hartmann': 14949, 'hamdan': 14950, 'turboprop': 14951, 'chant': 14952, '53member': 14953, 'povertystricken': 14954, 'seventhseeded': 14955, 'philipp': 14956, 'transformer': 14957, 'coerced': 14958, 'arid': 14959, 'razed': 14960, 'safehouse': 14961, 'kambakhsh': 14962, 'dissolving': 14963, 'shoreline': 14964, 'spanned': 14965, 'tito': 14966, 'rhythm': 14967, 'beached': 14968, 'giftgiving': 14969, 'martti': 14970, 'attribute': 14971, 'alerting': 14972, 'momcilo': 14973, 'cinema': 14974, '575': 14975, '164': 14976, 'downgrading': 14977, 'tipped': 14978, 'revamp': 14979, 'uneasy': 14980, 'stimulating': 14981, '245': 14982, 'consequently': 14983, 'incorporate': 14984, 'awaits': 14985, 'polynesia': 14986, 'distinguished': 14987, 'reexport': 14988, 'deficient': 14989, 'shipwrecked': 14990, 'awoke': 14991, 'plow': 14992, 'scrambled': 14993, 'reconvene': 14994, 'hostess': 14995, 'fadillah': 14996, 'probability': 14997, 'akmatbayev': 14998, 'substation': 14999, 'chubais': 15000, 'entitlement': 15001, 'wesley': 15002, 'legg': 15003, '86th': 15004, 'querrey': 15005, 'firstserve': 15006, 'nightfall': 15007, '6400': 15008, 'muqdadiyah': 15009, 'converge': 15010, 'ancestral': 15011, 'insolent': 15012, 'dervis': 15013, 'eroglu': 15014, 'tillman': 15015, 'sampled': 15016, 'chepas': 15017, 'elmallahi': 15018, '255': 15019, 'tendulkar': 15020, 'dinesh': 15021, 'doda': 15022, 'schlegel': 15023, 'krajina': 15024, 'smear': 15025, 'protibet': 15026, 'polecharkhi': 15027, 'raging': 15028, 'mourns': 15029, 'proaristide': 15030, 'shia': 15031, 'disturbia': 15032, 'penguin': 15033, 'surf': 15034, 'plassnik': 15035, 'pluralistic': 15036, 'nad': 15037, 'heartland': 15038, 'sud': 15039, 'orellana': 15040, 'hut': 15041, 'sevenday': 15042, 'firestorm': 15043, 'homily': 15044, 'qaidalinked': 15045, 'dangerously': 15046, 'doboj': 15047, 'streptococcus': 15048, 'suis': 15049, '174': 15050, 'midjanuary': 15051, 'writeoff': 15052, 'timed': 15053, 'cheonan': 15054, 'coat': 15055, 'marxistleninist': 15056, 'jagan': 15057, 'unequivocally': 15058, 'chiluba': 15059, 'usd': 15060, 'pozarevac': 15061, 'milorad': 15062, 'mash': 15063, 'vandalizing': 15064, 'shebaa': 15065, 'grossed': 15066, 'agim': 15067, 'lutfi': 15068, 'angering': 15069, 'bargal': 15070, 'encryption': 15071, 'bharatiya': 15072, 'thanking': 15073, 'quakestricken': 15074, 'albolani': 15075, 'alwaili': 15076, 'aigle': 15077, 'azur': 15078, 'nonmilitary': 15079, 'anticrime': 15080, 'stifling': 15081, 'robben': 15082, 'flamethrower': 15083, 'evangelist': 15084, 'wholly': 15085, 'farleft': 15086, 'declassified': 15087, 'godfather': 15088, 'sensible': 15089, 'sassou': 15090, 'nguesso': 15091, 'antitorture': 15092, 'definition': 15093, 'interstate': 15094, 'fingerprint': 15095, 'fingerprinting': 15096, 'sufficiently': 15097, 'susy': 15098, 'tekunan': 15099, 'quest': 15100, 'recycled': 15101, 'baking': 15102, 'unfriendly': 15103, 'thriving': 15104, 'preworld': 15105, 'hifikepunye': 15106, 'windhoek': 15107, 'swapo': 15108, 'irrawaddy': 15109, 'exorbitant': 15110, '3400': 15111, 'violencefree': 15112, 'kph': 15113, 'peoria': 15114, 'gayoom': 15115, 'nasheed': 15116, 'elevation': 15117, 'twoandahalfyear': 15118, 'tsz': 15119, 'eritreaethiopia': 15120, 'remotely': 15121, 'demarcated': 15122, 'frg': 15123, 'gdr': 15124, 'intervening': 15125, 'boar': 15126, 'vulture': 15127, 'gored': 15128, 'coward': 15129, 'vanallen': 15130, 'wead': 15131, 'apr28': 15132, 'triangular': 15133, '3rd': 15134, 'velupillai': 15135, 'lakhdaria': 15136, 'fomenting': 15137, 'vigilante': 15138, 'kerch': 15139, 'leftleaning': 15140, 'nashville': 15141, 'wealthsharing': 15142, 'yekiti': 15143, 'maashouq': 15144, 'kameshli': 15145, 'encountering': 15146, 'jaafari': 15147, 'defining': 15148, 'cull': 15149, 'comfort': 15150, 'partygoer': 15151, '646': 15152, 'calin': 15153, 'tariceanu': 15154, 'siirt': 15155, 'scanner': 15156, 'massed': 15157, 'trainee': 15158, 'macapagal': 15159, 'everybody': 15160, 'secretariat': 15161, 'francesca': 15162, 'chess': 15163, 'exprime': 15164, 'emomali': 15165, 'rakhmon': 15166, 'ultraconservative': 15167, 'reorganization': 15168, 'unsecured': 15169, 'reorganized': 15170, 'effected': 15171, '1825': 15172, 'consisted': 15173, 'countercoup': 15174, 'deepseated': 15175, 'lowland': 15176, 'bubble': 15177, 'sicily': 15178, 'eec': 15179, 'conserving': 15180, 'choked': 15181, 'att': 15182, 'resigning': 15183, 'instituting': 15184, 'negate': 15185, 'commute': 15186, 'karasin': 15187, 'toussaint': 15188, 'sfeir': 15189, 'unfiltered': 15190, 'click': 15191, 'ignited': 15192, 'bilis': 15193, '518': 15194, 'amsterdam': 15195, 'hm': 15196, 'koreabased': 15197, 'hyundai': 15198, 'kifaya': 15199, 'forgery': 15200, '211000': 15201, '190000': 15202, 'misquoting': 15203, 'erected': 15204, 'postsays': 15205, 'merging': 15206, 'nizar': 15207, 'trabelsi': 15208, '361': 15209, 'vasil': 15210, 'ivashov': 15211, 'duc': 15212, 'luong': 15213, 'jeanmax': 15214, 'chipmaker': 15215, 'golborne': 15216, 'precedes': 15217, 'purple': 15218, 'bead': 15219, 'boa': 15220, 'batlle': 15221, 'drained': 15222, 'sodium': 15223, 'escort': 15224, 'simmering': 15225, 'lowkey': 15226, 'risked': 15227, 'kandani': 15228, 'miyazaki': 15229, 'pajhwok': 15230, 'blechschmidt': 15231, 'consolidating': 15232, 'yulija': 15233, 'kosachev': 15234, '76yearold': 15235, 'awake': 15236, 'malignant': 15237, '355': 15238, 'jon': 15239, 'litigation': 15240, 'eparses': 15241, 'integral': 15242, 'kerguelen': 15243, 'ile': 15244, 'satisfying': 15245, 'kenyatta': 15246, 'fractured': 15247, 'dislodge': 15248, 'narc': 15249, 'qar': 15250, 'solvent': 15251, 'vakhitov': 15252, 'drifting': 15253, 'sara': 15254, 'mathew': 15255, 'surveying': 15256, 'chelsea': 15257, 'sevennation': 15258, 'lawbreaker': 15259, 'hotmail': 15260, 'bioterrorism': 15261, '336': 15262, 'su': 15263, 'hon': 15264, 'okah': 15265, 'norwaybased': 15266, 'bisphenol': 15267, 'liver': 15268, 'rachid': 15269, 'oxygen': 15270, '36th': 15271, 'michaella': 15272, 'wessels': 15273, 'kiefer': 15274, 'dent': 15275, 'preservation': 15276, 'grouped': 15277, 'unnerved': 15278, 'westinghouse': 15279, '157': 15280, 'préval': 15281, 'mobutu': 15282, 'legitimizing': 15283, 'asadullah': 15284, 'shiekh': 15285, 'alcantara': 15286, 'underfunded': 15287, 'pervasive': 15288, 'depict': 15289, 'sa18': 15290, 'iskandere': 15291, 'urumqi': 15292, 'sleek': 15293, 'magnetic': 15294, 'paige': 15295, 'kollock': 15296, 'chester': 15297, 'gunsmoke': 15298, 'qualification': 15299, 'emmy': 15300, 'taher': 15301, 'busta': 15302, 'lecture': 15303, 'uncooperative': 15304, 'recreational': 15305, 'amateur': 15306, 'inaccurate': 15307, 'staunchly': 15308, 'freight': 15309, 'overfishing': 15310, 'mutineer': 15311, 'tahitian': 15312, 'vestige': 15313, 'homegrown': 15314, 'qarase': 15315, 'bainimarama': 15316, 'cpa': 15317, '1911': 15318, 'hani': 15319, 'calabar': 15320, 'kirilenko': 15321, 'seemingly': 15322, 'beachside': 15323, 'exciting': 15324, 'surfer': 15325, 'elham': 15326, 'fundamentally': 15327, 'sepp': 15328, 'blatter': 15329, 'trim': 15330, 'kissing': 15331, 'looped': 15332, 'troedsson': 15333, 'tends': 15334, 'ausponsored': 15335, 'egyptianowned': 15336, 'alloceans': 15337, 'smigun': 15338, 'snowboard': 15339, 'sheibani': 15340, 'saderat': 15341, 'jabalya': 15342, 'arthritis': 15343, 'surfacetoair': 15344, 'akash': 15345, 'chandipur': 15346, 'bhubaneshwar': 15347, 'drinan': 15348, 'congestive': 15349, 'unsure': 15350, 'shaking': 15351, 'stratfor': 15352, 'turkestan': 15353, 'adumin': 15354, 'westernmost': 15355, 'rocking': 15356, 'githongo': 15357, 'asghar': 15358, 'everywhere': 15359, 'abdulmutallab': 15360, 'cloning': 15361, 'woosuk': 15362, 'veterinarian': 15363, 'deceiving': 15364, 'veil': 15365, 'wengen': 15366, 'practically': 15367, 'plate': 15368, 'ganei': 15369, 'oic': 15370, 'caved': 15371, 'drastic': 15372, 'tyre': 15373, 'sitin': 15374, 'lowgrade': 15375, 'horrific': 15376, '815': 15377, 'janakpur': 15378, 'delhibased': 15379, 'alqaidainspired': 15380, 'rajapaksa': 15381, 'visual': 15382, 'apiece': 15383, 'suitor': 15384, 'reaped': 15385, 'fiscally': 15386, 'attaining': 15387, '1857': 15388, 'biodiversity': 15389, '1903': 15390, 'alfredo': 15391, 'celtic': 15392, 'ulster': 15393, 'maiberger': 15394, 'smelter': 15395, 'politicizing': 15396, 'groundwork': 15397, 'feminine': 15398, 'mystique': 15399, 'groundbreaking': 15400, 'bestseller': 15401, 'goushmane': 15402, 'twinengine': 15403, '720': 15404, 'mindoro': 15405, 'albay': 15406, 'mayon': 15407, 'loaning': 15408, 'eugene': 15409, 'prescribed': 15410, 'iranianamericans': 15411, 'hyde': 15412, 'irrigation': 15413, 'napa': 15414, 'swelling': 15415, 'indict': 15416, 'selfruled': 15417, 'elusive': 15418, 'persecuted': 15419, 'widelyused': 15420, 'conceal': 15421, 'kuril': 15422, '561': 15423, 'aia': 15424, 'hakkari': 15425, 'wilmington': 15426, 'graduation': 15427, 'benita': 15428, 'breaststroke': 15429, 'verezbencomo': 15430, 'meningitis': 15431, 'midler': 15432, 'celine': 15433, 'dion': 15434, 'headliner': 15435, '61yearold': 15436, 'inaugurating': 15437, 'colosseum': 15438, 'awb': 15439, 'vaile': 15440, 'vuvuzelas': 15441, 'lighter': 15442, 'prisonlike': 15443, 'chikunova': 15444, 'unadministered': 15445, 'danforth': 15446, 'chesnot': 15447, 'malbrunot': 15448, 'wazirstan': 15449, 'accessing': 15450, 'rak': 15451, 'uninterrupted': 15452, 'unload': 15453, 'ninetenths': 15454, 'genius': 15455, 'correctness': 15456, 'cochairs': 15457, 'saiki': 15458, 'bwakira': 15459, 'sherzai': 15460, 'weed': 15461, 'bribed': 15462, '1627': 15463, 'fanning': 15464, '2846': 15465, 'kapilvastu': 15466, 'directing': 15467, 'prostitution': 15468, 'haile': 15469, 'politicize': 15470, 'mutilating': 15471, 'threejudge': 15472, 'arak': 15473, 'ensures': 15474, 'torah': 15475, 'overcrowding': 15476, 'almostdaily': 15477, 'anglo': 15478, 'tine': 15479, 'sixthousand': 15480, 'deshu': 15481, 'kakar': 15482, 'marshmallow': 15483, 'mujaddedi': 15484, 'cpp': 15485, 'ilbo': 15486, 'openended': 15487, 'erroneous': 15488, 'forwarded': 15489, 'rosh': 15490, 'hashanah': 15491, 'strangling': 15492, 'icelandic': 15493, 'kye': 15494, 'stanford': 15495, 'chesney': 15496, 'subfreezing': 15497, 'chill': 15498, 'clarence': 15499, 'gatemouth': 15500, 'shmatko': 15501, 'malda': 15502, 'tyranny': 15503, 'levan': 15504, 'gachechiladze': 15505, 'flowstations': 15506, 'chevrontexaco': 15507, 'eindhoven': 15508, 'fargo': 15509, 'squatter': 15510, 'plainclothes': 15511, 'afghaninternational': 15512, 'dushanbe': 15513, '452': 15514, 'seafood': 15515, 'cake': 15516, 'rechargeable': 15517, 'exterminated': 15518, '1834': 15519, 'geographically': 15520, 'ethanol': 15521, 'expiration': 15522, 'statist': 15523, '41st': 15524, 'geography': 15525, 'viceroyalty': 15526, '1822': 15527, 'offspring': 15528, 'handsomest': 15529, 'tenderness': 15530, 'allot': 15531, 'earthquakedevastated': 15532, 'scattering': 15533, 'demobilize': 15534, 'aiff': 15535, '5828': 15536, 'refine': 15537, 'militarism': 15538, 'stumbling': 15539, 'bancoro': 15540, 'liquidity': 15541, 'texasbased': 15542, '538': 15543, 'fadilah': 15544, 'payne': 15545, 'receptionist': 15546, 'confrontational': 15547, 'naisse': 15548, '34nation': 15549, '69000': 15550, 'tap': 15551, 'lashing': 15552, 'mryushchenko': 15553, 'zahedan': 15554, 'novelist': 15555, 'booker': 15556, 'orphaned': 15557, 'vidoje': 15558, 'jundollah': 15559, 'jihadist': 15560, 'adapt': 15561, 'sistanbaluchistan': 15562, 'ogun': 15563, 'torun': 15564, 'revisit': 15565, 'barley': 15566, 'cauvin': 15567, 'ojea': 15568, 'quintana': 15569, '2100': 15570, 'hogan': 15571, 'clearwater': 15572, 'shelor': 15573, 'graziano': 15574, 'joey': 15575, 'emphasizes': 15576, 'samoa': 15577, 'nkurunziza': 15578, 'overland': 15579, 'disgrace': 15580, '12273': 15581, 'oneonone': 15582, 'mauled': 15583, 'being': 15584, 'fini': 15585, 'koichi': 15586, 'wakata': 15587, 'crossroad': 15588, 'philosophical': 15589, 'claire': 15590, 'fulfills': 15591, 'hafeez': 15592, 'firstborn': 15593, 'ascend': 15594, 'chrysanthemum': 15595, 'rosa': 15596, 'hurricanedamaged': 15597, 'climatic': 15598, 'floodstricken': 15599, 'slutskaya': 15600, 'elena': 15601, 'reformminded': 15602, 'creativity': 15603, 'turbine': 15604, 'distinguish': 15605, 'ronaldo': 15606, 'selfreliance': 15607, 'roseneft': 15608, 'fiercest': 15609, 'calcutta': 15610, 'ghetto': 15611, 'frontrunners': 15612, 'diddy': 15613, 'mogul': 15614, 'salvage': 15615, 'bosco': 15616, 'katutsi': 15617, 'kulyab': 15618, 'ordinance': 15619, 'subsidizes': 15620, 'peanut': 15621, '107': 15622, 'boni': 15623, 'centrally': 15624, 'dampened': 15625, 'wool': 15626, 'jackdaw': 15627, 'envy': 15628, 'whir': 15629, 'daw': 15630, 'assented': 15631, 'sowing': 15632, 'hopping': 15633, 'despised': 15634, 'pausing': 15635, 'nixon': 15636, 'panhandle': 15637, 'hallandale': 15638, 'boating': 15639, 'inscribed': 15640, 'timoshenko': 15641, 'hornafrik': 15642, 'tut': 15643, 'taif': 15644, 'stephanie': 15645, 'breaching': 15646, 'harrison': 15647, 'taker': 15648, 'albahlul': 15649, 'diminish': 15650, 'luton': 15651, 'ramazan': 15652, 'sami': 15653, 'understood': 15654, 'novin': 15655, 'mesbah': 15656, 'highquality': 15657, 'douglas': 15658, 'badakshan': 15659, '186': 15660, 'sinmun': 15661, 'somaliland': 15662, 'reauthorize': 15663, 'hezbeislami': 15664, 'hamasruled': 15665, 'olympia': 15666, 'patan': 15667, 'stanishev': 15668, 'odom': 15669, '181': 15670, 'diverting': 15671, 'embolden': 15672, 'fushun': 15673, 'rob': 15674, 'flagship': 15675, 'frazier': 15676, 'heist': 15677, 'discretion': 15678, 'malegaon': 15679, 'minivan': 15680, 'undocumented': 15681, 'chieftain': 15682, 'rizeigat': 15683, 'aliu': 15684, 'sariyev': 15685, 'soro': 15686, 'taxfree': 15687, 'annapolis': 15688, 'languishing': 15689, 'bulky': 15690, 'smiling': 15691, 'shahidi': 15692, 'annulment': 15693, '7billion': 15694, 'dormant': 15695, '82000': 15696, 'uninsured': 15697, 'bale': 15698, 'drift': 15699, 'roxana': 15700, 'engineered': 15701, 'pest': 15702, 'detached': 15703, 'chairwoman': 15704, 'liner': 15705, 'casing': 15706, 'apache': 15707, 'pb': 15708, 'katyusha': 15709, 'governmentordered': 15710, 'onemonth': 15711, 'arc': 15712, 'nuri': 15713, 'potent': 15714, 'graduate': 15715, 'surroundings': 15716, 'lunchtime': 15717, 'excrement': 15718, 'motivation': 15719, 'geologist': 15720, 'revelry': 15721, 'apondi': 15722, '46member': 15723, 'maastricht': 15724, '1697': 15725, '1804': 15726, 'grievously': 15727, 'devoured': 15728, 'surfeited': 15729, 'nursing': 15730, '7eleven': 15731, 'afghani': 15732, 'kezerashvili': 15733, 'sahibzada': 15734, 'ani': 15735, 'kanow': 15736, 'unfunded': 15737, 'clinched': 15738, 'wellbeing': 15739, '203': 15740, 'skied': 15741, 'ivica': 15742, 'darkazanli': 15743, 'entrepreneur': 15744, 'unfolding': 15745, 'revoking': 15746, 'undermines': 15747, 'ibaraki': 15748, 'sabawi': 15749, 'alhasan': 15750, 'jvp': 15751, 'bleak': 15752, 'unhelpful': 15753, 'swastika': 15754, 'altamimi': 15755, 'rowsch': 15756, 'ustarkhanova': 15757, 'inflame': 15758, 'unprofessional': 15759, 'envisions': 15760, 'tauran': 15761, 'pluralism': 15762, 'nita': 15763, 'explosivespacked': 15764, 'inoculation': 15765, 'extinct': 15766, 'loosened': 15767, 'ratsiraka': 15768, 'lessened': 15769, '03apr': 15770, 'preserved': 15771, 'melody': 15772, 'stool': 15773, 'newell': 15774, 'letten': 15775, 'kenjic': 15776, 'petitioning': 15777, 'pitted': 15778, 'amezcua': 15779, 'sardar': 15780, 'barometer': 15781, 'gregorio': 15782, 'alec': 15783, 'chita': 15784, '\\x93': 15785, 'handcuffed': 15786, 'bartlett': 15787, 'spiked': 15788, 'haroon': 15789, 'paltrow': 15790, 'folha': 15791, 'fraenzi': 15792, 'infromation': 15793, 'nutritional': 15794, 'sprawling': 15795, 'fisher': 15796, 'tributary': 15797, 'yangtze': 15798, 'vest': 15799, 'ncri': 15800, '55th': 15801, '210000': 15802, 'baloyi': 15803, 'hiphop': 15804, 'jeanpierre': 15805, '56yearold': 15806, 'intifada': 15807, 'oak': 15808, 'hearty': 15809, 'commonsense': 15810, 'scorn': 15811, 'tired': 15812, 'partitioning': 15813, 'prestorm': 15814, 'machete': 15815, 'haram': 15816, 'ghani': 15817, 'undetected': 15818, 'debriefed': 15819, 'zenani': 15820, 'computing': 15821, 'browsing': 15822, 'videoconferencing': 15823, 'conson': 15824, 'floodwalls': 15825, 'berkeley': 15826, 'minke': 15827, 'binladen': 15828, 'anesthetic': 15829, 'bharti': 15830, 'unaffected': 15831, 'ethem': 15832, 'erdagi': 15833, 'amazed': 15834, 'deception': 15835, 'iraniantrained': 15836, 'militarystyle': 15837, 'militarypolice': 15838, 'sangakkara': 15839, 'divisive': 15840, 'roe': 15841, 'legalizing': 15842, 'sha': 15843, 'nonviolence': 15844, 'hailu': 15845, 'ammar': 15846, 'irreparable': 15847, 'ninthcentury': 15848, 'almuntadar': 15849, 'nhk': 15850, 'tsa': 15851, 'grassroots': 15852, 'overshadows': 15853, 'enroll': 15854, 'subjecting': 15855, 'fare': 15856, 'muntazer': 15857, 'alzaidi': 15858, 'invalid': 15859, '1919': 15860, 'shortlived': 15861, 'polarized': 15862, 'soaked': 15863, 'faint': 15864, 'scampered': 15865, 'woe': 15866, 'overtime': 15867, 'alam': 15868, 'terry': 15869, 'rath': 15870, 'defamatory': 15871, 'nenbutsushu': 15872, '463': 15873, 'waxman': 15874, 'suharto': 15875, 'viewing': 15876, 'twomillion': 15877, 'unopposed': 15878, 'aes': 15879, '450member': 15880, 'trusted': 15881, 'sinopec': 15882, 'vitoria': 15883, 'bribesforvotes': 15884, 'datafolha': 15885, 'zoran': 15886, 'milenkovic': 15887, 'covic': 15888, 'baluyevsky': 15889, 'clyburn': 15890, 'dusan': 15891, 'tesic': 15892, 'hargreaves': 15893, 'edouard': 15894, 'mountainside': 15895, 'stupid': 15896, 'gujarat': 15897, 'diseased': 15898, 'tucson': 15899, 'nabbed': 15900, 'garner': 15901, 'obey': 15902, 'adherence': 15903, 'cfa': 15904, 'jeopardized': 15905, 'breadfruit': 15906, 'spoil': 15907, 'modestly': 15908, 'heap': 15909, 'giddens': 15910, 'barman': 15911, 'naqba': 15912, 'counterinsurgency': 15913, 'ravix': 15914, 'makhachkala': 15915, 'returnees': 15916, 'incapacitated': 15917, 'moviemaking': 15918, 'reinforces': 15919, 'tarnishing': 15920, 'brainwasting': 15921, 'abuhafs': 15922, 'threevehicle': 15923, 'heater': 15924, 'arg': 15925, 'kakdwip': 15926, '225member': 15927, 'methodology': 15928, 'attache': 15929, 'exploding': 15930, 'escapee': 15931, 'resorting': 15932, 'kohlu': 15933, 'spouse': 15934, 'passover': 15935, 'motivating': 15936, 'shy': 15937, 'deir': 15938, 'caterpillar': 15939, 'vacationer': 15940, 'pago': 15941, 'gardener': 15942, 'tilemaker': 15943, 'watered': 15944, 'shine': 15945, 'alarming': 15946, 'chemist': 15947, 'coupled': 15948, 'bertone': 15949, 'mudasir': 15950, 'animist': 15951, 'notoriously': 15952, 'sarin': 15953, '26th': 15954, 'invader': 15955, 'frisked': 15956, '17month': 15957, 'communicate': 15958, 'conscience': 15959, 'literacy': 15960, 'refueling': 15961, 'stakic': 15962, 'warranted': 15963, 'kharazi': 15964, 'civility': 15965, 'reconstructive': 15966, 'inlaws': 15967, 'activated': 15968, '55member': 15969, 'wwf': 15970, 'sever': 15971, 'townspeople': 15972, 'sibneft': 15973, '335': 15974, 'nomad': 15975, 'comatose': 15976, 'unconscious': 15977, 'initiating': 15978, 'maybe': 15979, 'archery': 15980, 'yearround': 15981, 'enclosed': 15982, 'bray': 15983, 'linguistic': 15984, 'condominium': 15985, '1839': 15986, 'bolshevik': 15987, 'ferdinand': 15988, 'edsa': 15989, 'corazon': 15990, 'macapagalarroyo': 15991, 'kowal': 15992, 'franken': 15993, 'jung': 15994, 'et': 15995, 'terreblanche': 15996, 'stemmed': 15997, 'communal': 15998, 'poroshenko': 15999, 'heretic': 16000, 'relaxing': 16001, 'kilimo': 16002, 'habib': 16003, '45day': 16004, 'zctu': 16005, 'czar': 16006, 'okala': 16007, 'brownback': 16008, 'massouda': 16009, 'enthusiastic': 16010, 'rod': 16011, 'kaman': 16012, 'hasten': 16013, 'yury': 16014, 'gambira': 16015, 'mandalay': 16016, 'orchestrating': 16017, 'handpicked': 16018, 'bandundu': 16019, 'navigate': 16020, 'nickelodeon': 16021, 'signifies': 16022, 'trivial': 16023, 'meltdown': 16024, 'theodor': 16025, 'zu': 16026, 'ou': 16027, 'sabouri': 16028, 'disposition': 16029, 'nano': 16030, 'seaman': 16031, 'ttf': 16032, 'nz': 16033, 'remoteness': 16034, 'lobster': 16035, 'reuniting': 16036, 'flute': 16037, 'signboard': 16038, 'unwittingly': 16039, 'dashed': 16040, 'terribly': 16041, 'reindeer': 16042, 'deserved': 16043, 'rudolph': 16044, 'beltrame': 16045, 'chiapolino': 16046, 'concussion': 16047, 'montas': 16048, 'skewed': 16049, 'squadron': 16050, 'arawak': 16051, 'slows': 16052, 'siphiwe': 16053, 'safa': 16054, 'sedibe': 16055, 'memorable': 16056, 'spanning': 16057, 'zaken': 16058, 'cascade': 16059, 'faisalabad': 16060, 'sidique': 16061, 'sidon': 16062, 'shehade': 16063, 'housekeeper': 16064, '75000': 16065, 'brammertz': 16066, 'utmost': 16067, 'rightful': 16068, 'geagea': 16069, 'twentythree': 16070, 'nazif': 16071, 'saxby': 16072, 'waking': 16073, 'comfortably': 16074, 'abercrombie': 16075, 'silenced': 16076, 'acorn': 16077, 'sprout': 16078, 'ivanic': 16079, 'birdlime': 16080, 'pluck': 16081, '321': 16082, 'mothertochild': 16083, 'nagano': 16084, 'intending': 16085, 'phillip': 16086, 'hotline': 16087, 'zinjibar': 16088, 'insect': 16089, 'noaman': 16090, 'gomaa': 16091, 'aqaba': 16092, 'aspiazu': 16093, 'rubina': 16094, 'germanmade': 16095, 'demotion': 16096, 'prosecular': 16097, 'threedimensional': 16098, 'modell': 16099, 'nausea': 16100, 'feudal': 16101, 'ohrid': 16102, '1609': 16103, '1820s': 16104, 'unknowingly': 16105, 'splm': 16106, 'django': 16107, 'reinhardt': 16108, 'bossa': 16109, 'aneurysm': 16110, 'cerberus': 16111, 'straightened': 16112, 'buhriz': 16113, 'unscheduled': 16114, 'allnight': 16115, 'babil': 16116, 'mcadams': 16117, 'razor': 16118, 'brokering': 16119, 'tamir': 16120, 'soleil': 16121, 'persson': 16122, 'laila': 16123, 'freivalds': 16124, 'sharpest': 16125, 'cerveny': 16126, 'dtp': 16127, 'salmonella': 16128, 'rash': 16129, 'summoning': 16130, 'a380': 16131, 'danilovich': 16132, 'idled': 16133, '151': 16134, 'mpla': 16135, 'do': 16136, 'unita': 16137, 'helena': 16138, 'wig': 16139, 'bald': 16140, 'abstained': 16141, 'yogi': 16142, 'bathtub': 16143, 'invented': 16144, '1875': 16145, 'spammer': 16146, 'upgrading': 16147, 'jeffery': 16148, 'p3': 16149, 'orion': 16150, 'turf': 16151, 'ligament': 16152, 'magazzeni': 16153, 'christa': 16154, 'mcauliffe': 16155, 'liftoff': 16156, 'cycling': 16157, 'scilingo': 16158, 'recanted': 16159, 'cult': 16160, 'embracing': 16161, 'publicized': 16162, 'patzi': 16163, 'interahamwe': 16164, 'zhou': 16165, '500meter': 16166, 'hilton': 16167, '580': 16168, 'petrova': 16169, '149': 16170, 'postcard': 16171, 'qaumi': 16172, 'proreformist': 16173, 'jeanbaptiste': 16174, 'tan': 16175, 'rumbo': 16176, 'propio': 16177, 'courier': 16178, 'samburu': 16179, 'boast': 16180, '1870s': 16181, 'mahdist': 16182, '1236': 16183, 'dare': 16184, 'ladder': 16185, 'unregistered': 16186, 'shaath': 16187, 'staggered': 16188, 'abstention': 16189, 'spite': 16190, 'sk': 16191, 'twenty': 16192, 'adulthood': 16193, 'camouflage': 16194, 'lowey': 16195, '28000': 16196, 'yunesi': 16197, 'cabin': 16198, 'bermet': 16199, 'steam': 16200, 'closeddoor': 16201, 'trickle': 16202, 'kamel': 16203, 'gollnisch': 16204, 'disputing': 16205, 'nullify': 16206, 'discotheque': 16207, 'bernd': 16208, 'nogaideli': 16209, 'northcentral': 16210, 'anglican': 16211, 'rowan': 16212, 'mostar': 16213, 'krzyzewski': 16214, 'grocery': 16215, '265': 16216, 'halter': 16217, 'middleaged': 16218, 'courted': 16219, '439': 16220, 'cimpl': 16221, 'getty': 16222, 'eightday': 16223, 'muchneeded': 16224, 'alfayfi': 16225, 'veiled': 16226, 'destroys': 16227, 'bjp': 16228, '24meter': 16229, 'granite': 16230, 'f4': 16231, 'exdictator': 16232, 'policymaking': 16233, 'ovation': 16234, 'stumbled': 16235, 'likened': 16236, '218': 16237, '19nation': 16238, 'decisively': 16239, 'indiscriminate': 16240, 'resourcepoor': 16241, '48000': 16242, 'galloped': 16243, 'kohdamani': 16244, 'ajmal': 16245, 'alamzai': 16246, 'rated': 16247, 'nirvana': 16248, 'wed': 16249, 'aol': 16250, 'realistic': 16251, 'puebla': 16252, 'herceptin': 16253, 'drugmaker': 16254, 'bodysearching': 16255, 'intelligent': 16256, 'radius': 16257, 'alluding': 16258, 'badawi': 16259, 'obliged': 16260, 'tahhar': 16261, 'pietersen': 16262, 'islamophobia': 16263, 'xenophobia': 16264, 'haze': 16265, 'peipah': 16266, 'tasso': 16267, 'nme': 16268, 'exgirlfriend': 16269, 'confiscation': 16270, 'khagrachhari': 16271, 'karradah': 16272, 'zelenovic': 16273, 'globally': 16274, 'aggravating': 16275, 'sidi': 16276, 'cheikh': 16277, 'abdallahi': 16278, 'nurture': 16279, 'antibush': 16280, 'halifax': 16281, 'simulating': 16282, 'goldschmidt': 16283, 'rizgar': 16284, 'unpaid': 16285, 'interpret': 16286, 'millionaire': 16287, 'hopkins': 16288, 'karate': 16289, 'eddie': 16290, 'enzo': 16291, 'redline': 16292, 'budweiser': 16293, 'immense': 16294, 'hib': 16295, 'mukakibibi': 16296, 'umurabyo': 16297, 'hatf': 16298, 'confidencebuilding': 16299, 'asb': 16300, 'asagoe': 16301, 'a380s': 16302, 'silently': 16303, 'kalma': 16304, 'acropolis': 16305, 'straying': 16306, 'expedite': 16307, 'atwood': 16308, 'artificially': 16309, 'hajdib': 16310, 'latestage': 16311, 'hycamtin': 16312, 'ethiopianborn': 16313, 'loj': 16314, 'ecc': 16315, 'rmi': 16316, 'lackluster': 16317, 'unsettled': 16318, '1930': 16319, '380': 16320, 'slater': 16321, 'mcqueen': 16322, 'saturated': 16323, 'unforgivable': 16324, 'panyu': 16325, 'xdr': 16326, 'toyshaped': 16327, 'kuti': 16328, 'vivanco': 16329, 'laguna': 16330, 'semiarid': 16331, 'lustiger': 16332, 'admits': 16333, 'habsadeh': 16334, 'shargudud': 16335, 'feliciano': 16336, '115000': 16337, 'kimunya': 16338, '256': 16339, 'behave': 16340, 'lockerbie': 16341, 'brew': 16342, 'akhmad': 16343, 'sulaimaniyah': 16344, 'vegetation': 16345, 'aruba': 16346, 'footing': 16347, 'jaques': 16348, 'harbhajan': 16349, '332': 16350, 'midfebruary': 16351, 'aviator': 16352, 'sideways': 16353, 'duress': 16354, 'workinglevel': 16355, 'zurich': 16356, 'verbally': 16357, 'gunning': 16358, 'arafa': 16359, 'schatten': 16360, 'embryonic': 16361, '127': 16362, 'lance': 16363, 'beleaguered': 16364, 'explosively': 16365, 'efps': 16366, 'healing': 16367, 'adhamiya': 16368, 'significance': 16369, 'iveta': 16370, 'rtl': 16371, 'nyathi': 16372, 'downriver': 16373, 'inflexible': 16374, 'drel': 16375, '46th': 16376, 'contradict': 16377, 'caricature': 16378, 'loophole': 16379, 'disgust': 16380, '33000': 16381, 'invests': 16382, 'yomiuri': 16383, 'counselor': 16384, '710': 16385, 'almuqrin': 16386, 'squash': 16387, 'twig': 16388, 'trod': 16389, 'undersecretarygeneral': 16390, 'talha': 16391, 'betrayed': 16392, 'dovish': 16393, 'unilaterally': 16394, 'akhund': 16395, 'jinnah': 16396, 'reese': 16397, 'rdx': 16398, 'gomes': 16399, 'renunciation': 16400, 'lashkaretaiba': 16401, 'verizon': 16402, 'kgb': 16403, 'sukhorenko': 16404, 'proclaiming': 16405, 'sandwich': 16406, 'smearing': 16407, 'luca': 16408, 'cantv': 16409, 'yasar': 16410, '37000': 16411, 'tolling': 16412, 'wept': 16413, 'echoed': 16414, 'wajama': 16415, 'gojko': 16416, 'flourished': 16417, 'riza': 16418, 'bourguiba': 16419, 'viable': 16420, 'alderman': 16421, 'raccoon': 16422, 'outpouring': 16423, 'dicaprio': 16424, 'sparing': 16425, 'kakooza': 16426, 'fanatic': 16427, 'insulation': 16428, '617': 16429, 'gulag': 16430, 'ri': 16431, 'jo': 16432, 'bextra': 16433, 'donetsk': 16434, 'belligerence': 16435, 'circa': 16436, 'tenaris': 16437, 'natasha': 16438, 'couso': 16439, 'maori': 16440, 'coleman': 16441, 'brandished': 16442, 'rigorous': 16443, 'usage': 16444, 'botanical': 16445, 'hindilanguage': 16446, 'faroe': 16447, 'favourite': 16448, 'dhimbil': 16449, 'hawiye': 16450, 'fawzi': 16451, 'geithner': 16452, 'tytler': 16453, 'enticing': 16454, 'equate': 16455, 'sugiura': 16456, '453': 16457, 'lewthwaite': 16458, 'lid': 16459, 'peacebroker': 16460, 'eidsvig': 16461, 'choir': 16462, 'jac': 16463, 'ricci': 16464, 'hulya': 16465, 'kocyigit': 16466, 'profound': 16467, 'shameful': 16468, 'latenight': 16469, 'doghmush': 16470, 'gebran': 16471, 'nikola': 16472, 'paracel': 16473, 'foodprocessing': 16474, 'bailouts': 16475, 'dwindling': 16476, 'fasten': 16477, 'overtaken': 16478, 'amusement': 16479, 'perthbased': 16480, 'ludlam': 16481, 'glacial': 16482, 'danuri': 16483, 'temper': 16484, 'spontaneous': 16485, 'topranked': 16486, 'neardaily': 16487, '1908': 16488, 'auwaerter': 16489, 'dirt': 16490, 'incited': 16491, 'sarcophagus': 16492, 'theyab': 16493, 'beatified': 16494, 'sainthood': 16495, 'prizren': 16496, 'lakers': 16497, 'leavitt': 16498, 'interwar': 16499, 'voronin': 16500, 'threefifths': 16501, 'budgeted': 16502, 'tedder': 16503, 'onerepublic': 16504, 'beatboxing': 16505, 'mistaking': 16506, 'karel': 16507, 'osvaldo': 16508, 'hortefeux': 16509, 'unfolded': 16510, 'nicanor': 16511, 'faeldon': 16512, 'sardenberg': 16513, 'validity': 16514, 'infrared': 16515, 'ciamilitary': 16516, 'tf121': 16517, '38000': 16518, 'tomar': 16519, 'northernmost': 16520, 'mora': 16521, 'announces': 16522, 'waldron': 16523, 'encompasses': 16524, 'mcneill': 16525, 'seyranlioglu': 16526, 'astros': 16527, 'comerio': 16528, 'punxsutawney': 16529, 'copa': 16530, 'sufi': 16531, 'nassif': 16532, 'klein': 16533, 'rohingya': 16534, 'bmg': 16535, 'kabylie': 16536, 'ied': 16537, 'beijingbased': 16538, 'blackmailer': 16539, 'floquet': 16540, 'lek': 16541, 'alimony': 16542, '10monthold': 16543, 'mcgrady': 16544, 'cavalier': 16545, 'empowers': 16546, 'mayan': 16547, 'shevardnadze': 16548, 'acc': 16549, 'imply': 16550, 'fool': 16551, 'lausanne': 16552, 'ticona': 16553, 'chute': 16554, 'cavein': 16555, 'libel': 16556, 'sodomy': 16557, 'ahvaz': 16558, 'chamrouen': 16559, 'sonntag': 16560, 'sics': 16561, 'sapporo': 16562, 'jeremic': 16563, 'cyclist': 16564, 'duggal': 16565, 'atmospheric': 16566, 'dodik': 16567, 'balasingham': 16568, 'pacheco': 16569, 'ashtiani': 16570, 'adultery': 16571, 'measurement': 16572, 'surano': 16573, 'espersen': 16574, 'baghran': 16575, 'congratulation': 16576, 'flaring': 16577, 'kahar': 16578, 'screaming': 16579, 'documenting': 16580, 'cummings': 16581, 'sacirbey': 16582, 'resembling': 16583, 'flagwaving': 16584, 'thura': 16585, 'mahn': 16586, 'ghormley': 16587, 'janice': 16588, 'kabungulu': 16589, 'flagrant': 16590, 'interesting': 16591, 'herrington': 16592, 'unbeaten': 16593, 'junoon': 16594, 'falu': 16595, 'indiapakistan': 16596, 'rodham': 16597, 'iraqiled': 16598, '425': 16599, 'poleo': 16600, 'mezerhane': 16601, 'pulecharkhi': 16602, 'lott': 16603, 'witt': 16604, 'redmond': 16605, 'atambayev': 16606, 'absalon': 16607, 'aalam': 16608, 'kotkai': 16609, 'alzahar': 16610, 'datanalisis': 16611, 'piazza': 16612, 'schwarzenburg': 16613, 'quds': 16614, 'darmawan': 16615, 'bumper': 16616, '2017': 16617, 'invalidate': 16618, 'kubis': 16619, 'tain': 16620, 'marinellis': 16621, 'soundly': 16622, 'swazi': 16623, 'goatherd': 16624, 'pulikovsky': 16625, 'lively': 16626, 'sonata': 16627, 'puteh': 16628, 'kindhearted': 16629, 'nursery': 16630, 'abia': 16631, 'ge': 16632, 'mentally': 16633, 'volodymyr': 16634, 'bernal': 16635, 'episode': 16636, 'reprocess': 16637, 'velvet': 16638, 'udd': 16639, 'falash': 16640, 'mura': 16641, 'nonjews': 16642, 'nominating': 16643, 'diazbalart': 16644, 'antwerp': 16645, 'pitt': 16646, 'henman': 16647, 'mashhad': 16648, 'implicate': 16649, 'alsammarei': 16650, 'westminster': 16651, 'torkham': 16652, 'forklift': 16653, 'avril': 16654, 'lavigne': 16655, 'krasniqi': 16656, 'mpp': 16657, 'earnestly': 16658, 'mohaqiq': 16659, 'lazarevic': 16660, 'adi': 16661, 'abeto': 16662, 'purposely': 16663, 'netting': 16664, 'jaime': 16665, 'lloyd': 16666, 'olmo': 16667, 'lazaro': 16668, 'chanet': 16669, 'ushakov': 16670, '03mar': 16671, 'alsiddiq': 16672, 'surkhanpha': 16673, 'kiriyenko': 16674, 'zolfaghari': 16675, 'certainty': 16676, 'kostiw': 16677, 'distraction': 16678, 'tetanus': 16679, 'dabous': 16680, 'yanbu': 16681, 'howlwadaag': 16682, 'karua': 16683, 'murungaru': 16684, 'meek': 16685, 'ssr': 16686, 'truss': 16687, 'katharine': 16688, 'pellet': 16689, 'avid': 16690, 'montiglio': 16691, 'slaughterhouse': 16692, 'dushevina': 16693, 'razzano': 16694, 'tarmac': 16695, 'disembark': 16696, 'posttsunami': 16697, 'leatherback': 16698, 'grytviken': 16699, 'nm': 16700, 'stepanek': 16701, 'lilienfeld': 16702, 'udf': 16703, 'costello': 16704, 'aleksandar': 16705, 'yevpatoria': 16706, 'rumbling': 16707, 'achakzai': 16708, 'halloween': 16709, 'afars': 16710, 'flavor': 16711, 'avocado': 16712, 'lipstick': 16713, 'abetting': 16714, 'cellist': 16715, 'constrain': 16716, 'shawal': 16717, 'syvkovych': 16718, 'bengalispeaking': 16719, 'eminem': 16720, 'mathers': 16721, 'militarytomilitary': 16722, 'fuller': 16723, 'grasshopper': 16724, 'nambiar': 16725, 'equation': 16726, 'approximation': 16727, 'gospel': 16728, 'druze': 16729, 'tokar': 16730, 'fay': 16731, 'laquilla': 16732, 'middlesbrough': 16733, 'essebar': 16734, 'ekici': 16735, 'kohl': 16736, 'annul': 16737, 'resolute': 16738, 'shamble': 16739, 'cardiac': 16740, 'catheterization': 16741, 'inserting': 16742, 'catheter': 16743, 'umbrellalike': 16744, 'plug': 16745, 'burt': 16746, 'rutan': 16747, 'ansari': 16748, 'x': 16749, 'mojave': 16750, 'krona': 16751, 'wipha': 16752, '109000': 16753, 'haarde': 16754, 'tsunamiproducing': 16755, '176000': 16756, '128000': 16757, 'affray': 16758, 'firstclass': 16759, 'whisky': 16760, 'gritty': 16761, 'multibilliondollar': 16762, 'grignon': 16763, 'icg': 16764, 'akwei': 16765, 'thompson': 16766, 'deadliness': 16767, 'lourdes': 16768, 'ollanta': 16769, 'humala': 16770, 'tzotzil': 16771, 'arabislamic': 16772, 'alkarim': 16773, '150yearold': 16774, 'darululoom': 16775, 'deoband': 16776, 'falsely': 16777, 'bulletproof': 16778, 'remodeled': 16779, 'speciallybuilt': 16780, 'syrianborn': 16781, 'eddin': 16782, 'yarkas': 16783, 'veronique': 16784, 'lawandorder': 16785, 'gspc': 16786, 'xray': 16787, 'humiliated': 16788, 'liquefied': 16789, 'tonnage': 16790, 'mid1800s': 16791, 'pearling': 16792, 'attain': 16793, 'secondhighest': 16794, 'misdirected': 16795, 'revitalization': 16796, 'aclu': 16797, 'admiring': 16798, 'ungrateful': 16799, 'deliverer': 16800, 'marveled': 16801, 'clutched': 16802, 'nostalgia': 16803, 'grammar': 16804, 'blacksmith': 16805, 'toughened': 16806, 'rigor': 16807, 'blacksmithing': 16808, 'overlooked': 16809, 'overcharge': 16810, 'clearcut': 16811, 'bathed': 16812, 'ribbon': 16813, '519000': 16814, 'consul': 16815, 'makepeace': 16816, 'morrell': 16817, 'quicken': 16818, 'evaluate': 16819, 'prosocialist': 16820, 'vesna': 16821, 'harlan': 16822, 'kabob': 16823, 'pizza': 16824, 'rahimgul': 16825, 'sarawan': 16826, 'multiyear': 16827, 'minisatellites': 16828, 'carve': 16829, 'toshiyuki': 16830, 'takano': 16831, '1488': 16832, '6497': 16833, 'shay': 16834, 'continual': 16835, 'israelibased': 16836, 'antielection': 16837, 'burnt': 16838, 'widelyexpected': 16839, '7600': 16840, 'marrow': 16841, 'autoimmune': 16842, 'villarreal': 16843, 'nayef': 16844, 'forthcoming': 16845, 'busload': 16846, '71000': 16847, '144000': 16848, 'onceadecade': 16849, 'suhaila': 16850, 'snagovo': 16851, 'sistanbaluchestan': 16852, 'bikers': 16853, 'sinatra': 16854, 'dominik': 16855, 'rameez': 16856, 'numberfive': 16857, 'annie': 16858, 'lennox': 16859, 'outofcompetition': 16860, 'biathletes': 16861, 'blooddoping': 16862, 'sneaked': 16863, 'jehan': 16864, 'pronouncement': 16865, 'churned': 16866, 'programmer': 16867, 'shigeru': 16868, 'appreciate': 16869, 'balmy': 16870, 'snowman': 16871, 'khormato': 16872, 'arbaeen': 16873, 'backlog': 16874, 'lush': 16875, 'magezi': 16876, 'triumfalnaya': 16877, 'alexeyeva': 16878, 'sakharov': 16879, 'allahabad': 16880, 'eject': 16881, 'adraskan': 16882, 'megan': 16883, 'ambuhl': 16884, 'summary': 16885, 'soyuzcapsule': 16886, 'abdurahman': 16887, 'fyodor': 16888, 'yurchikhin': 16889, 'kotov': 16890, 'spaceflight': 16891, 'gagarin': 16892, 'tyurin': 16893, 'lopezalegria': 16894, 'sunita': 16895, 'cropped': 16896, 'beard': 16897, 'svinarov': 16898, 'illegals': 16899, 'reconciled': 16900, 'propagandist': 16901, 'hateful': 16902, 'weathering': 16903, 'ups': 16904, 'down': 16905, 'cr': 16906, '737800': 16907, '787s': 16908, 'cathay': 16909, '3billion': 16910, 'mustapha': 16911, 'ludwig': 16912, 'fuge': 16913, 'auctioneer': 16914, 'theological': 16915, '80page': 16916, '1826': 16917, 'annotation': 16918, 'crayon': 16919, 'rediscovery': 16920, 'reassessment': 16921, 'deaf': 16922, '1827': 16923, 'mortazavi': 16924, 'mana': 16925, 'neyestani': 16926, 'poked': 16927, 'tabriz': 16928, 'cockroach': 16929, 'peineta': 16930, 'foothold': 16931, 'trustco': 16932, 'mi': 16933, 'llion': 16934, 'tampa': 16935, 'devolution': 16936, 'colonizing': 16937, 'mosquitoinfested': 16938, 'cartago': 16939, 'disintegrated': 16940, 'offstage': 16941, 'bronchitis': 16942, 'trawling': 16943, 'venetiaan': 16944, 'tamed': 16945, 'waned': 16946, '1498': 16947, 'uncolonized': 16948, '1762': 16949, 'cacao': 16950, 'reinstituted': 16951, 'endless': 16952, 'shipwreck': 16953, 'inveighed': 16954, 'perchance': 16955, 'indulging': 16956, 'wand': 16957, 'hast': 16958, 'thyself': 16959, 'ramus': 16960, 'altayyah': 16961, 'counterterror': 16962, 'picasso': 16963, 'okeeffe': 16964, 'primimoda': 16965, 'ndimyake': 16966, 'mwakalyelye': 16967, 'hardcourts': 16968, 'carson': 16969, 'sopore': 16970, '542': 16971, 'orbited': 16972, 'schwehm': 16973, 'solarelectric': 16974, 'interplanetary': 16975, 'miniaturized': 16976, 'abdikadir': 16977, 'lafoole': 16978, 'evade': 16979, 'bristol': 16980, 'huon': 16981, 'angor': 16982, 'puth': 16983, 'lim': 16984, 'thierse': 16985, '2711': 16986, 'unadorned': 16987, 'slab': 16988, 'mid2004': 16989, 'similarly': 16990, 'surma': 16991, 'sunamganj': 16992, 'esad': 16993, 'bajramovic': 16994, 'serbrun': 16995, 'omarska': 16996, 'keraterm': 16997, 'wrested': 16998, 'obedience': 16999, 'generosity': 17000, 'salvaged': 17001, 'generously': 17002, 'miillion': 17003, 'americanmade': 17004, 'wired': 17005, 'deh': 17006, 'rawood': 17007, 'militantrelated': 17008, 'revising': 17009, '7800': 17010, 'faruq': 17011, 'qaddumi': 17012, 'prohezbollah': 17013, 'moualem': 17014, 'israelhezbollah': 17015, 'itu': 17016, 'macrumorscom': 17017, 'keyboard': 17018, '30yearlong': 17019, '75member': 17020, 'freetown': 17021, 'syphon': 17022, 'contaminant': 17023, 'interregnum': 17024, 'conclave': 17025, 'obtainable': 17026, 'toxin': 17027, 'radiological': 17028, 'egyptiansponsored': 17029, 'fatahcontrolled': 17030, 'recordsetting': 17031, '268': 17032, 'needle': 17033, 'demining': 17034, 'iranativu': 17035, 'dashing': 17036, 'nuclearwhistle': 17037, 'blower': 17038, 'ghazala': 17039, 'naama': 17040, 'exaggerate': 17041, '75minutelong': 17042, 'ascendant': 17043, 'wreathlaying': 17044, 'presumably': 17045, '636type': 17046, '677': 17047, 'shootdown': 17048, 'reaffirming': 17049, 'eightstep': 17050, 'designates': 17051, 'seoulbased': 17052, 'precision': 17053, 'europeanunionrussian': 17054, 'razek': 17055, 'majaidie': 17056, 'shielded': 17057, 'antitank': 17058, 'deputyleader': 17059, 'teshiktosh': 17060, 'karasu': 17061, 'chapel': 17062, 'memberstates': 17063, 'embarks': 17064, 'jae': 17065, 'carmen': 17066, 'physic': 17067, 'gavutu': 17068, 'scratch': 17069, 'sunburn': 17070, 'undernourished': 17071, '51to44': 17072, '12point': 17073, 'nonmember': 17074, 'unisa': 17075, 'democratize': 17076, 'fiveman': 17077, 'delano': 17078, 'zemedkun': 17079, 'tekle': 17080, 'wardheer': 17081, 'generalized': 17082, 'batteryoperated': 17083, 'maurits': 17084, 'nassau': 17085, '1715': 17086, '1810': 17087, 'adawe': 17088, 'saed': 17089, 'alleviating': 17090, 'underdevelopment': 17091, 'adapting': 17092, 'lowvalueadded': 17093, 'centrallyplanned': 17094, 'openmarket': 17095, 'dec15': 17096, 'residing': 17097, 'towering': 17098, 'antiquated': 17099, 'vlore': 17100, 'perpetuity': 17101, 'agricultureled': 17102, 'columbitetantalite': 17103, 'parting': 17104, 'topologist': 17105, 'doughnut': 17106, 'javal': 17107, 'harman': 17108, 'roskosmos': 17109, 'timidria': 17110, 'bondage': 17111, 'arabafrican': 17112, 'thirtyseven': 17113, 'kahraman': 17114, 'sadikoglu': 17115, 'adversity': 17116, '46nation': 17117, 'serzh': 17118, 'sarkisian': 17119, '57kilometer': 17120, 'vorotan': 17121, 'tatev': 17122, 'soften': 17123, 'sinoamerican': 17124, 'manipulates': 17125, 'midnighttodawn': 17126, 'aljanabi': 17127, 'fequiere': 17128, 'jeanbetrand': 17129, 'cocoagrowing': 17130, 'siegouekou': 17131, 'mykola': 17132, 'suck': 17133, 'speeded': 17134, 'heave': 17135, 'syrianlebanese': 17136, 'antioxidant': 17137, 'largerscale': 17138, 'highcalorie': 17139, 'a9': 17140, 'stirling': 17141, 'pivotal': 17142, 'hypothermia': 17143, 'input': 17144, 'marthinus': 17145, 'coalfired': 17146, 'swore': 17147, 'rana': 17148, 'bhagwandas': 17149, 'mixedteam': 17150, 'tendonitis': 17151, 'svetlana': 17152, 'kuznetsova': 17153, 'perceive': 17154, 'islamiah': 17155, 'netanya': 17156, 'proudly': 17157, 'albright': 17158, 'scharping': 17159, '17765': 17160, 'gregorian': 17161, 'conspicuous': 17162, 'skullcap': 17163, 'mismanaging': 17164, 'devotion': 17165, 'finest': 17166, 'hasty': 17167, 'disproportionately': 17168, 'lancetand': 17169, 'lancet': 17170, 'neurology': 17171, 'counteracting': 17172, 'rothwell': 17173, 'ministroke': 17174, 'numbness': 17175, 'slurred': 17176, 'anticholesterol': 17177, '3868': 17178, '549000': 17179, 'precisionguided': 17180, '10305': 17181, 'recordhighs': 17182, 'prohibition': 17183, 'damascusbased': 17184, 'shrapnelpacked': 17185, 'disprove': 17186, 'wiredcom': 17187, 'salon': 17188, 'parlor': 17189, 'unsuitable': 17190, 'hairdresser': 17191, 'nulcear': 17192, 'foreignmade': 17193, 'addict': 17194, 'somaliethiopian': 17195, 'squalid': 17196, 'brutalized': 17197, 'realignment': 17198, 'deliberation': 17199, 'mcpherson': 17200, 'footballshaped': 17201, 'hover': 17202, 'hurriyet': 17203, 'pech': 17204, 'younus': 17205, 'giuseppe': 17206, 'cagliari': 17207, 'petronio': 17208, 'fresco': 17209, 'misanthropic': 17210, 'frans': 17211, 'rotterdam': 17212, 'bureaucrat': 17213, 'renaming': 17214, 'sectarianism': 17215, 'roadway': 17216, 'evi': 17217, 'sachenbacher': 17218, 'enduranceboosting': 17219, 'epo': 17220, 'kikkan': 17221, 'randall': 17222, 'leif': 17223, 'metathesis': 17224, 'rearranged': 17225, 'twomonth': 17226, 'offseason': 17227, 'tendon': 17228, 'redknapp': 17229, '96million': 17230, 'twoweeklong': 17231, 'barahona': 17232, 'switching': 17233, 'cocked': 17234, 'israeliegyptian': 17235, 'automotiveparts': 17236, 'dengfeng': 17237, 'akerfeldt': 17238, 'wallowing': 17239, '52week': 17240, '16125': 17241, '1373': 17242, '9625': 17243, 'gingl': 17244, 'crnojevic': 17245, 'theocracy': 17246, '1852': 17247, 'looser': 17248, 'basutoland': 17249, 'basuto': 17250, 'hegang': 17251, 'moshoeshoe': 17252, 'letsie': 17253, 'aegis': 17254, 'arisen': 17255, 'saddle': 17256, 'bridled': 17257, 'pomegranate': 17258, 'boastful': 17259, 'disputings': 17260, 'boxinggloves': 17261, 'pugilist': 17262, 'frost': 17263, 'whispered': 17264, 'kfm': 17265, 'sedition': 17266, 'rory': 17267, 'irishman': 17268, 'manta': 17269, 'evolves': 17270, 'onechild': 17271, 'opt': 17272, 'stockhlom': 17273, 'harold': 17274, 'pinter': 17275, 'mocked': 17276, 'shahrekord': 17277, 'raz': 17278, 'binh': 17279, 'nana': 17280, 'effahapenteng': 17281, 'precede': 17282, 'israelilebanese': 17283, 'conditioning': 17284, 'rot': 17285, 'resold': 17286, 'israelgaza': 17287, 'kissufin': 17288, 'spotting': 17289, 'context': 17290, 'conductive': 17291, '174000': 17292, 'alwi': 17293, 'vied': 17294, 'kush': 17295, 'merka': 17296, 'turnabout': 17297, 'cosponsoring': 17298, 'tigray': 17299, 'amhara': 17300, 'oromia': 17301, 'humayun': 17302, 'persona': 17303, 'non': 17304, 'grata': 17305, 'bilge': 17306, 'mardin': 17307, 'besir': 17308, 'atalay': 17309, 'farmaner': 17310, '3200strong': 17311, 'troopreduction': 17312, 'smokefree': 17313, 'diseasecausing': 17314, 'earthquaketriggered': 17315, 'hatched': 17316, 'onestorey': 17317, 'calmly': 17318, 'badenbaden': 17319, '74000': 17320, 'hourly': 17321, 'ettore': 17322, 'francesco': 17323, 'sequi': 17324, 'responsiblity': 17325, '13point': 17326, 'worrisome': 17327, 'juncture': 17328, 'dubious': 17329, 'heavilymilitarized': 17330, 'khalikov': 17331, 'needing': 17332, 'barranquilla': 17333, 'obstruct': 17334, 'reciprocated': 17335, 'barrio': 17336, 'reynaldo': 17337, 'larrazabal': 17338, 'collusion': 17339, 'africanunion': 17340, 'nureddin': 17341, 'kidwai': 17342, 'alertness': 17343, 'conceivable': 17344, 'timessays': 17345, 'kehla': 17346, 'staving': 17347, 'bunji': 17348, '123kilometer': 17349, 'dogharoun': 17350, 'roadbuilding': 17351, 'salahaddin': 17352, 'zafaraniyah': 17353, 'britishrun': 17354, 'reutersnews': 17355, 'swapping': 17356, 'swapped': 17357, 'subterranean': 17358, 'vh1': 17359, 'sensex': 17360, 'hama': 17361, 'aichatou': 17362, 'mindaoudou': 17363, 'albade': 17364, 'abouba': 17365, 'mahamane': 17366, 'lamine': 17367, 'zeine': 17368, 'admired': 17369, 'unforseeable': 17370, 'arbitrator': 17371, 'bobsled': 17372, 'altenberg': 17373, 'zach': 17374, 'whistleblower': 17375, 'revealing': 17376, 'neutron': 17377, 'pointless': 17378, 'implicitly': 17379, 'beersheba': 17380, 'underestimated': 17381, 'nawzad': 17382, 'caffeine': 17383, 'grapple': 17384, 'ignite': 17385, 'dahoun': 17386, 'gignor': 17387, 'tabarre': 17388, 'exsoldiers': 17389, 'moutaz': 17390, 'slough': 17391, 'mohannad': 17392, 'spa': 17393, '37ashare': 17394, 'advertised': 17395, 'volta': 17396, 'securely': 17397, 'burkinabe': 17398, 'creditdriven': 17399, 'tame': 17400, 'kuna': 17401, 'unorganized': 17402, 'genoese': 17403, 'fortress': 17404, '1215': 17405, 'grimaldi': 17406, '1331': 17407, 'linkup': 17408, 'scenery': 17409, 'forsaking': 17410, 'adapted': 17411, 'contentment': 17412, 'currycombing': 17413, 'rubbing': 17414, 'oat': 17415, '150thousand': 17416, 'rochester': 17417, 'ny': 17418, 'fervently': 17419, 'styling': 17420, 'hairraising': 17421, 'alarmist': 17422, '1632': 17423, 'froce': 17424, '5member': 17425, 'redistricting': 17426, 'allinclusive': 17427, 'incorporating': 17428, 'frenzy': 17429, 'lawmaking': 17430, 'secondround': 17431, 'menas': 17432, 'landholding': 17433, '154th': 17434, 'général': 17435, 'kountché': 17436, 'blistering': 17437, 'ouwa': 17438, 'shafy': 17439, 'goalkeeper': 17440, 'elhadary': 17441, 'bordeaux': 17442, 'equalizer': 17443, 'midfield': 17444, 'fathallah': 17445, 'offside': 17446, 'inauspicious': 17447, 'soufriere': 17448, 'sylvester': 17449, 'musclebuilding': 17450, 'feb': 17451, 'laloo': 17452, 'sickness': 17453, 'dislodged': 17454, 'jabella': 17455, 'hazelnut': 17456, 'nonalcoholic': 17457, 'merciful': 17458, '18yearsold': 17459, '730': 17460, 'tufail': 17461, 'matoo': 17462, 'bakutbilisierzerum': 17463, 'karsakhalkalaki': 17464, 'mattoo': 17465, '47000': 17466, 'apprehension': 17467, 'simplified': 17468, 'invincible': 17469, 'neediest': 17470, 'isi': 17471, 'pinning': 17472, 'igniting': 17473, 'discarding': 17474, 'imfled': 17475, 'sore': 17476, 'regularseason': 17477, 'preseason': 17478, 'votegetter': 17479, 'vejjajiva': 17480, 'somchai': 17481, 'wongsawat': 17482, 'yellowshirted': 17483, 'sainworla': 17484, 'veritas': 17485, 'butty': 17486, 'ringshaped': 17487, 'beaming': 17488, 'revolutionized': 17489, 'tended': 17490, 'repentance': 17491, 'sensual': 17492, 'culminates': 17493, '60000seat': 17494, 'indulgence': 17495, '1853': 17496, '11style': 17497, '1864': 17498, 'ordeal': 17499, 'videoteleconference': 17500, 'noumea': 17501, 'asad': 17502, '1055': 17503, '1002': 17504, 'widebody': 17505, 'wafted': 17506, 'persecutor': 17507, 'tanzaniabased': 17508, 'antitutsi': 17509, 'stationing': 17510, 'unceasing': 17511, 'indissoluble': 17512, 'habitation': 17513, 'edelist': 17514, 'archival': 17515, '16team': 17516, 'abound': 17517, 'discern': 17518, 'zaraqawi': 17519, 'sanjaya': 17520, 'baru': 17521, 'jammukashmir': 17522, 'alitalia': 17523, 'bormio': 17524, 'cauca': 17525, 'cedatosgallup': 17526, 'centralize': 17527, '640000': 17528, 'wpmftv': 17529, '680': 17530, 'longdelayed': 17531, 'loi': 17532, 'rashakai': 17533, 'khata': 17534, 'manhandling': 17535, 'deserting': 17536, 'matti': 17537, 'vanhanen': 17538, 'paraded': 17539, 'maysan': 17540, 'muthana': 17541, 'redeployed': 17542, 'abijan': 17543, 'nicobari': 17544, 'emaciated': 17545, 'esmatullah': 17546, 'alizai': 17547, 'neshin': 17548, 'chora': 17549, 'unproven': 17550, 'desalinization': 17551, 'toulouse': 17552, 'esquisabel': 17553, 'urtuzaga': 17554, 'mushir': 17555, 'senseless': 17556, 'dea': 17557, 'gibran': 17558, 'alaina': 17559, 'tepid': 17560, 'dixie': 17561, 'chick': 17562, 'charisma': 17563, 'goody': 17564, 'payable': 17565, 'njbased': 17566, '992000': 17567, 'antitakeover': 17568, 'dutchspeaking': 17569, 'walloon': 17570, 'oasis': 17571, 'aj': 17572, 'tabaldo': 17573, 'nina': 17574, 'tribally': 17575, 'ashgabat': 17576, 'racy': 17577, 'sensation': 17578, 'redenomination': 17579, 'manat': 17580, 'bulwark': 17581, 'janos': 17582, 'kadar': 17583, 'goulash': 17584, 'marsh': 17585, 'pretend': 17586, 'gait': 17587, 'chink': 17588, 'fatas': 17589, 'synchronize': 17590, 'nadhem': 17591, 'bradman': 17592, 'ricky': 17593, 'ponting': 17594, 'may84': 17595, 'zaheer': 17596, 'mar93': 17597, 'saqeb': 17598, 'israelibuilt': 17599, 'rockthrowing': 17600, 'barbed': 17601, 'landgrab': 17602, '1050': 17603, 'pacifism': 17604, 'speculative': 17605, 'downgrade': 17606, 'quan': 17607, 'caller': 17608, 'prosyria': 17609, 'arraignment': 17610, 'georgy': 17611, 'maltreat': 17612, 'hastert': 17613, 'centraql': 17614, 'mani': 17615, 'shankar': 17616, 'jadoon': 17617, '57th': 17618, '5588': 17619, 'kravchenko': 17620, 'tomini': 17621, 'gorontalo': 17622, 'barreled': 17623, '668': 17624, 'tutwiler': 17625, 'incinerated': 17626, 'caregiver': 17627, 'mlada': 17628, 'fronta': 17629, 'dnes': 17630, 'tracheotomy': 17631, 'bethelehem': 17632, 'mardan': 17633, 'parlimentary': 17634, 'duluiyah': 17635, 'insurgentplagued': 17636, 'extinguished': 17637, 'twomember': 17638, 'sawers': 17639, 'lastditch': 17640, '247000': 17641, 'paktiya': 17642, 'lien': 17643, 'bullhorn': 17644, 'hubbard': 17645, 'feldstein': 17646, '11948': 17647, '32millionbarreladay': 17648, '357': 17649, 'neelie': 17650, 'kroes': 17651, '633': 17652, 'snarling': 17653, 'sheremetyevo': 17654, 'slicked': 17655, 'encased': 17656, 'ria': 17657, 'originate': 17658, 'ninemillimeter': 17659, 'touchstone': 17660, 'warms': 17661, 'raziq': 17662, 'alasay': 17663, 'spindleruv': 17664, 'mlyn': 17665, 'kathrin': 17666, 'zettel': 17667, 'marlies': 17668, 'schild': 17669, '22140': 17670, 'zvarych': 17671, 'mae': 17672, 'iranianmade': 17673, 'aborted': 17674, 'abduct': 17675, 'susceptible': 17676, 'affluence': 17677, 'inoculated': 17678, 'statemedia': 17679, 'gregoire': 17680, 'barreling': 17681, 'mayhem': 17682, 'discourages': 17683, 'sidewalk': 17684, 'kilowatt': 17685, 'alrasul': 17686, 'alaadham': 17687, 'baucus': 17688, 'montana': 17689, 'cashonly': 17690, 'rebuked': 17691, 'infringement': 17692, 'statesanctioned': 17693, 'starving': 17694, 'newswashington': 17695, '5388': 17696, 'avi': 17697, 'dichter': 17698, 'mhawesh': 17699, 'alqadi': 17700, 'naseem': 17701, 'haji': 17702, 'freeskate': 17703, 'hao': 17704, 'livgrete': 17705, 'halfpipe': 17706, '500meters': 17707, 'breakin': 17708, 'kogelo': 17709, 'winston': 17710, 'churchill': 17711, 'maneuvering': 17712, 'maroney': 17713, 'valentino': 17714, 'kenenisa': 17715, 'bekele': 17716, '814': 17717, '965': 17718, 'tigris': 17719, 'wildly': 17720, 'blackclad': 17721, 'stepgrandmother': 17722, 'zamfara': 17723, 'epidemiologist': 17724, 'reproductive': 17725, 'chinhoyi': 17726, 'disinfectant': 17727, 'reerected': 17728, 'masahiko': 17729, 'komura': 17730, 'geelani': 17731, 'quakedamaged': 17732, 'quashed': 17733, 'saga': 17734, 'massively': 17735, 'unvarnished': 17736, 'snuff': 17737, 'integraa': 17738, 'mailing': 17739, 'entitles': 17740, 'downsized': 17741, '317': 17742, 'overstated': 17743, 'antiindependence': 17744, 'supplemented': 17745, 'technologyintensive': 17746, 'oilandgas': 17747, '1809': 17748, 'albeit': 17749, 'finn': 17750, 'initiation': 17751, 'clipperton': 17752, 'gently': 17753, 'grasp': 17754, 'mathematics': 17755, 'helium': 17756, 'escalator': 17757, 'diaper': 17758, 'keel': 17759, 'recharge': 17760, 'fiftytwo': 17761, 'nonfood': 17762, 'malnourished': 17763, 'codenamed': 17764, 'elmendorf': 17765, 'drik': 17766, 'gassing': 17767, 'glyn': 17768, 'alaeddin': 17769, 'udi': 17770, 'votel': 17771, 'policysetting': 17772, 'reemergence': 17773, 'mangled': 17774, 'berth': 17775, '012': 17776, 'placid': 17777, 'grimmette': 17778, 'martinin': 17779, 'mazdzer': 17780, '0161': 17781, 'benshoofin': 17782, 'retrosi': 17783, 'hamlin': 17784, 'zablocki': 17785, 'presidium': 17786, 'hyongsop': 17787, 'paek': 17788, 'veligonda': 17789, 'inayatullah': 17790, 'marshy': 17791, 'brightly': 17792, 'sodden': 17793, '09sep': 17794, '376': 17795, 'postseason': 17796, 'wailed': 17797, 'yad': 17798, 'vashem': 17799, 'carriage': 17800, 'rom': 17801, 'malawai': 17802, 'luc': 17803, 'chatel': 17804, 'objecting': 17805, 'gauthier': 17806, 'antipolio': 17807, 'unmarried': 17808, 'palin': 17809, 'cotecna': 17810, 'siyam': 17811, 'solovtsov': 17812, 'intermediate': 17813, 'uncalled': 17814, 'mirek': 17815, 'topolanek': 17816, 'mixup': 17817, 'redskin': 17818, 'doubted': 17819, 'notched': 17820, 'cruised': 17821, 'gimelstob': 17822, 'marach': 17823, 'todd': 17824, 'widom': 17825, 'aljuhyi': 17826, 'purport': 17827, 'boisvert': 17828, 'winterized': 17829, 'essentially': 17830, 'eritreanbacked': 17831, 'ruphael': 17832, 'amen': 17833, 'benishangul': 17834, 'gumuz': 17835, 'latrine': 17836, 'contaminate': 17837, 'tribune': 17838, 'kuba': 17839, 'rat': 17840, 'limestone': 17841, '19day': 17842, 'sunflower': 17843, 'subsidize': 17844, 'energyrelated': 17845, 'rhinewestphalia': 17846, 'profiled': 17847, 'unauthenticated': 17848, '220kilogram': 17849, 'bavarian': 17850, 'guenther': 17851, 'beckstein': 17852, 'papillovirus': 17853, 'lesion': 17854, 'andrej': 17855, 'hermlin': 17856, 'gerd': 17857, 'uwe': 17858, 'fleur': 17859, 'dissel': 17860, 'gush': 17861, 'katif': 17862, 'muthmahien': 17863, '183': 17864, 'watchlist': 17865, '244': 17866, 'lowerhouse': 17867, 'fatahallied': 17868, 'abdulatif': 17869, 'sener': 17870, 'guinean': 17871, 'glade': 17872, 'wading': 17873, 'alligator': 17874, 'twolane': 17875, 'awesome': 17876, 'sanctioning': 17877, 'feminist': 17878, 'frode': 17879, 'ruhpolding': 17880, '250305': 17881, 'rösch': 17882, 'greis': 17883, '125kilometer': 17884, 'indonesiabased': 17885, 'nahdlatul': 17886, 'ulama': 17887, 'hasyim': 17888, 'drugrunning': 17889, 'abakar': 17890, 'dirk': 17891, 'lever': 17892, 'glen': 17893, 'skyscraper': 17894, 'darien': 17895, 'superintendent': 17896, 'nonenvironmental': 17897, 'motif': 17898, 'welltimed': 17899, 'frenchspanishswiss': 17900, 'usmani': 17901, 'daynunay': 17902, 'gobetweens': 17903, 'teheran': 17904, 'topsecret': 17905, 'pled': 17906, 'gikoro': 17907, 'arlete': 17908, 'ramaroson': 17909, 'organisation': 17910, 'doncasters': 17911, 'billiondollar': 17912, 'monteiro': 17913, 'hongkongbased': 17914, 'contemptofcourt': 17915, 'enshrine': 17916, 'selfdetermination': 17917, 'yuganskneftgaz': 17918, '1489': 17919, 'retractable': 17920, 'redeem': 17921, 'coupon': 17922, 'disrepute': 17923, 'welleducated': 17924, '2000s': 17925, 'decelerated': 17926, 'hoard': 17927, 'iwf': 17928, '1291': 17929, 'canton': 17930, 'perching': 17931, 'cawed': 17932, 'foreboded': 17933, 'unpleasant': 17934, 'tanyard': 17935, 'implacable': 17936, 'grainfield': 17937, 'pelt': 17938, 'math': 17939, 'jaji': 17940, 'ratifying': 17941, 'hanan': 17942, 'raufi': 17943, 'armorpiercing': 17944, 'antimine': 17945, '29member': 17946, 'sari': 17947, 'inhale': 17948, 'addictive': 17949, 'lslamic': 17950, 'tham': 17951, 'krabok': 17952, '49year': 17953, 'msika': 17954, 'muzenda': 17955, 'handchosen': 17956, 'emmerson': 17957, 'mnangawa': 17958, 'quentier': 17959, 'iraqiamericans': 17960, 'jordanianamerican': 17961, 'cyrus': 17962, 'laywers': 17963, 'prayerful': 17964, 'fenty': 17965, '51magnitude': 17966, 'zhaotong': 17967, 'yunnanguizhou': 17968, 'buyoung': 17969, 'firsthalf': 17970, 'khairul': 17971, 'amri': 17972, 'nigerianborn': 17973, 'agu': 17974, 'casmir': 17975, 'mahyadi': 17976, 'panggabean': 17977, 'osako': 17978, 'rossendorf': 17979, 'sovietbuilt': 17980, 'momir': 17981, 'oilrig': 17982, 'getulio': 17983, 'ironically': 17984, 'p50': 17985, 'kitgum': 17986, 'bigombe': 17987, 'drinkable': 17988, 'defillo': 17989, '83rd': 17990, 'oftendeadly': 17991, 'hashish': 17992, 'genital': 17993, 'genitalia': 17994, 'hemorrhaging': 17995, 'iftars': 17996, 'afghannato': 17997, 'morphine': 17998, 'kibar': 17999, 'delinquency': 18000, 'baume': 18001, 'colonialera': 18002, 'teikoku': 18003, 'plundering': 18004, 'resourcerich': 18005, 'dedicate': 18006, 'diana': 18007, 'bosnianserb': 18008, '182': 18009, 'refinement': 18010, '12country': 18011, '6408': 18012, '27member': 18013, 'fuheid': 18014, 'almuteiry': 18015, 'alnashmi': 18016, 'muteiry': 18017, 'khobar': 18018, 'racketeering': 18019, 'gangrelated': 18020, 'suburban': 18021, 'salute': 18022, 'rachel': 18023, 'armada': 18024, 'mashruh': 18025, 'mahara': 18026, 'dialysis': 18027, 'anat': 18028, 'dolev': 18029, 'zhongwei': 18030, 'farmraised': 18031, 'sitaula': 18032, 'reappearing': 18033, 'hassem': 18034, 'ramsey': 18035, 'headfirst': 18036, 'snowbank': 18037, 'roughed': 18038, 'marrying': 18039, 'garissa': 18040, 'commodies': 18041, '197page': 18042, 'dili': 18043, 'martinho': 18044, 'gusmao': 18045, 'ramoshorta': 18046, 'olo': 18047, 'deregulation': 18048, 'uncontrolled': 18049, 'sudi': 18050, 'yalahow': 18051, 'edgware': 18052, 'hafs': 18053, 'congratulating': 18054, 'concides': 18055, 'notifying': 18056, 'brandenburg': 18057, 'stefanie': 18058, 'werner': 18059, 'anchorage': 18060, 'arjun': 18061, 'compelling': 18062, 'caracasbased': 18063, 'silesia': 18064, '65to22': 18065, 'pricepercarat': 18066, 'auctioned': 18067, 'sixcarat': 18068, 'bested': 18069, 'hancock': 18070, 'fetched': 18071, 'moussaieff': 18072, 'vivid': 18073, 'boron': 18074, 'crystal': 18075, 'alhashemi': 18076, 'revoke': 18077, 'sarajevobased': 18078, 'anticipating': 18079, '1000000': 18080, 'horbach': 18081, 'ubangishari': 18082, 'tumultuous': 18083, 'misrule': 18084, 'angefelix': 18085, 'patasse': 18086, 'tacit': 18087, '1892': 18088, '1915': 18089, 'makin': 18090, 'tarawa': 18091, '1943': 18092, 'oversupply': 18093, 'jilani': 18094, 'contagion': 18095, 'nook': 18096, 'intruded': 18097, 'antipathy': 18098, 'apologise': 18099, 'madagonians': 18100, 'chagrined': 18101, 'fergana': 18102, 'courtapproved': 18103, 'nonexistent': 18104, 'uncontained': 18105, 'shiitemajority': 18106, 'christiane': 18107, 'berthiaume': 18108, 'navi': 18109, 'pillay': 18110, 'taint': 18111, 'amputation': 18112, 'heckling': 18113, 'anjem': 18114, 'choudary': 18115, 'alghurabaa': 18116, 'zirve': 18117, 'wrestling': 18118, 'trabzon': 18119, 'blabague': 18120, 'marboulaye': 18121, 'tram': 18122, 'lowintensity': 18123, 'propakistani': 18124, 'diluting': 18125, 'inhibit': 18126, 'roving': 18127, 'panorama': 18128, '800meterwide': 18129, '21month': 18130, 'sixwheeled': 18131, 'descend': 18132, 'wooik': 18133, 'obudu': 18134, 'oshiomole': 18135, 'fagih': 18136, 'healthier': 18137, 'cardiovascular': 18138, 'yongnam': 18139, 'estimating': 18140, 'adjuster': 18141, 'ravage': 18142, 'underestimating': 18143, 'dhafra': 18144, 'u2s': 18145, '380th': 18146, 'expeditionary': 18147, 'fullrange': 18148, 'mizhir': 18149, 'yousi': 18150, 'mukhtaran': 18151, 'gangraped': 18152, 'contractual': 18153, 'liberianflagged': 18154, 'biscaglia': 18155, 'overtook': 18156, 'triplejump': 18157, 'ashia': 18158, 'americanborn': 18159, '1516': 18160, 'circulatory': 18161, 'camillo': 18162, 'ruini': 18163, 'cardiocirculatory': 18164, 'urinary': 18165, 'soh': 18166, 'antonov': 18167, 'sok': 18168, 'chol': 18169, 'doohwan': 18170, 'yaakov': 18171, 'wayward': 18172, 'almanza': 18173, 'logarda': 18174, 'dror': 18175, 'soku': 18176, 'yoram': 18177, 'haham': 18178, 'vibrant': 18179, 'roemer': 18180, 'exchangerate': 18181, 'kazem': 18182, 'vazirihamaneh': 18183, 'momammad': 18184, 'amy': 18185, 'katz': 18186, '14thousand': 18187, 'fabian': 18188, 'adolphus': 18189, 'wabara': 18190, '273': 18191, 'welsh': 18192, 'hlinethaya': 18193, 'liz': 18194, 'rosenberg': 18195, '412': 18196, 'athanase': 18197, 'seromba': 18198, 'nandurbar': 18199, 'navapur': 18200, '30kilometer': 18201, 'heihe': 18202, 'blagoveshchensk': 18203, 'undesirable': 18204, 'pardoning': 18205, 'scouring': 18206, 'angelus': 18207, 'actorturnedmusician': 18208, 'llc': 18209, 'qualifies': 18210, 'takatoshi': 18211, 'imfworld': 18212, 'toufik': 18213, 'hanouichi': 18214, 'mohcine': 18215, 'bouarfa': 18216, 'meknes': 18217, 'fez': 18218, 'trilateral': 18219, 'gadahn': 18220, 'nairobibased': 18221, 'tibaijuka': 18222, 'semipermanent': 18223, '12500': 18224, 'charting': 18225, 'mentality': 18226, 'daioyu': 18227, 'senkaku': 18228, 'japanto': 18229, 'scoreless': 18230, 'jeanpaul': 18231, 'abalo': 18232, '53rd': 18233, 'chunsoo': 18234, 'ahn': 18235, 'junghwan': 18236, 'sputtered': 18237, 'kember': 18238, 'loney': 18239, 'harmeet': 18240, 'sooden': 18241, 'damiao': 18242, 'fradique': 18243, 'awarding': 18244, 'doubtful': 18245, 'gisagara': 18246, 'braved': 18247, 'complemented': 18248, 'cubana': 18249, 'walbrecher': 18250, 'franciscobased': 18251, '161': 18252, 'writedowns': 18253, '4575': 18254, 'capitalintensive': 18255, 'debtrestructuring': 18256, 'ineligible': 18257, 'debtrelief': 18258, 'feedstock': 18259, 'untaxed': 18260, 'harmonizing': 18261, 'exploit': 18262, 'overstaffed': 18263, 'afloat': 18264, 'senegambia': 18265, 'envisaged': 18266, 'mfdc': 18267, 'snared': 18268, 'homewards': 18269, 'leap': 18270, 'cofer': 18271, 'installs': 18272, 'bribing': 18273, 'janez': 18274, 'jansa': 18275, 'membercountries': 18276, 'roused': 18277, 'largelymuslim': 18278, 'elobeid': 18279, 'warinduced': 18280, 'booby': 18281, 'retrieving': 18282, 'hewlettpackard': 18283, 'carly': 18284, 'printer': 18285, 'compaq': 18286, 'wayman': 18287, 'syarhei': 18288, 'antonchyk': 18289, 'unsanctioned': 18290, 'insincere': 18291, 'shanwei': 18292, 'hostagetaking': 18293, 'soleiman': 18294, 'tolima': 18295, 'antioquia': 18296, 'simba': 18297, 'banadir': 18298, 'landscape': 18299, 'shatt': 18300, 'alarab': 18301, 'bulba': 18302, 'payback': 18303, 'midjuly': 18304, 'khogyani': 18305, 'multimillionselling': 18306, 'espino': 18307, 'thapa': 18308, 'examiner': 18309, 'castelgandolfo': 18310, 'nuremberg': 18311, 'frankenstadion': 18312, 'lukas': 18313, 'podolski': 18314, 'ballack': 18315, '48th': 18316, 'mexicoargentina': 18317, 'leipzig': 18318, 'ukrgazenergo': 18319, 'coowned': 18320, 'rosukrenergo': 18321, 'bychkova': 18322, 'shahar': 18323, 'scruff': 18324, 'czink': 18325, 'berkofsky': 18326, 'firebrand': 18327, 'virtuosity': 18328, 'berkovsky': 18329, 'scot': 18330, 'riddlesberger': 18331, 'solicit': 18332, 'islamicrooted': 18333, 'eightysix': 18334, 'solidify': 18335, 'nationalistic': 18336, 'tendency': 18337, 'russianspeaking': 18338, 'ukrainianspeaking': 18339, 'aflcio': 18340, 'vocation': 18341, 'pope2you': 18342, 'twoandhalf': 18343, 'noballs': 18344, 'ringwald': 18345, 'malariafighting': 18346, 'artemisia': 18347, 'artemisianbased': 18348, 'mefloquine': 18349, 'firat': 18350, 'hakurk': 18351, 'subcontractor': 18352, 'warmongering': 18353, 'plymouth': 18354, 'djalil': 18355, 'careless': 18356, 'discarded': 18357, 'novaya': 18358, 'gazeta': 18359, 'volvo': 18360, 'allocating': 18361, 'paya': 18362, 'lebar': 18363, 'refuel': 18364, 'starye': 18365, 'novye': 18366, 'disinformation': 18367, 'iraqiamerican': 18368, 'monaf': 18369, 'purnomo': 18370, 'yusgiantoro': 18371, '770': 18372, 'plum': 18373, 'nasir': 18374, 'dhakla': 18375, 'juster': 18376, 'microminiature': 18377, 'christina': 18378, 'rocca': 18379, 'onepointthree': 18380, 'mathematicallybased': 18381, 'mundane': 18382, 'poitoucharentes': 18383, 'respublika': 18384, 'disparaging': 18385, 'dyrdina': 18386, '11thhour': 18387, '700billion': 18388, '9626': 18389, 'desecrating': 18390, 'yosef': 18391, 'eliashiv': 18392, 'closedcircuit': 18393, 'refraining': 18394, '100yearold': 18395, 'halfhearted': 18396, 'iftaar': 18397, 'kabal': 18398, 'fatahlinked': 18399, 'danzhou': 18400, 'ripe': 18401, '897': 18402, '948': 18403, '1306': 18404, '388': 18405, 'necessitate': 18406, 'amounting': 18407, 'bundesbank': 18408, '035': 18409, 'annum': 18410, 'tapered': 18411, 'olav': 18412, 'tryggvason': 18413, '994': 18414, '1397': 18415, 'cession': 18416, 'outset': 18417, 'stateorchestrated': 18418, 'rpfled': 18419, 'postgenocide': 18420, 'comparative': 18421, 'noneu': 18422, 'mimic': 18423, 'arrayed': 18424, 'mischief': 18425, 'amidst': 18426, 'longing': 18427, 'gamebag': 18428, 'plunder': 18429, 'wiled': 18430, 'scar': 18431, 'cavity': 18432, 'annyaso': 18433, 'onulak': 18434, 'passionate': 18435, 'charlie': 18436, 'thunderstorm': 18437, 'qada': 18438, 'eastbourne': 18439, 'strapping': 18440, 'shortness': 18441, 'accomplishment': 18442, 'smoky': 18443, 'recommit': 18444, 'ozone': 18445, 'acre': 18446, 'chide': 18447, 'sidestep': 18448, 'antipollution': 18449, 'hector': 18450, 'belo': 18451, 'horizonte': 18452, 'fortaleza': 18453, '80meter': 18454, 'landscaping': 18455, '161seat': 18456, '944': 18457, 'antifree': 18458, 'bamboo': 18459, 'kyuhyung': 18460, 'interfered': 18461, 'aflame': 18462, '204': 18463, 'permitting': 18464, 'amiens': 18465, 'savignysurorge': 18466, 'firebomb': 18467, 'zamoanga': 18468, 'compressed': 18469, 'liquified': 18470, 'standup': 18471, 'mccullogh': 18472, 'letterman': 18473, 'cnnibn': 18474, '64th': 18475, 'battleship': 18476, 'waver': 18477, 'thenspecialist': 18478, 'karasuu': 18479, 'fossilized': 18480, '25meterlong': 18481, 'eromanga': 18482, 'weighs': 18483, 'prehistoric': 18484, 'roam': 18485, 'planteating': 18486, 'sauropod': 18487, 'sajida': 18488, 'dreadfully': 18489, '5500member': 18490, 'politicallydominant': 18491, 'barmer': 18492, 'anchorwoman': 18493, '60kilometer': 18494, 'twiceweekly': 18495, 'chilpancingo': 18496, 'so': 18497, 'dissatisified': 18498, 'soderling': 18499, 'eightman': 18500, 'finale': 18501, 'gael': 18502, 'monfils': 18503, 'thirdround': 18504, 'potro': 18505, 'photography': 18506, 'jovicevic': 18507, 'spaceport': 18508, 'heavier': 18509, 'highresolution': 18510, 'precise': 18511, '5400': 18512, '8761': 18513, 'turkishiraqi': 18514, 'albadri': 18515, 'alaskari': 18516, 'antialqaida': 18517, 'silencer': 18518, 'neftaly': 18519, 'deceptive': 18520, 'tar': 18521, 'cigarettelabeling': 18522, 'altria': 18523, 'weary': 18524, 'funneled': 18525, 'mansur': 18526, 'modelturnedactivist': 18527, 'sleeve': 18528, 'prosthesis': 18529, 'viva': 18530, 'underfoot': 18531, '55to45': 18532, 'akwa': 18533, 'ibom': 18534, 'afren': 18535, 'belowaverage': 18536, 'mukhtar': 18537, 'belownormal': 18538, 'yilmaz': 18539, 'resit': 18540, 'isik': 18541, 'hawija': 18542, 'combatrelated': 18543, 'scarcity': 18544, 'condolezza': 18545, 'nonpartisan': 18546, 'cbo': 18547, 'threefold': 18548, 'negar': 18549, 'kerman': 18550, 'midmorning': 18551, 'torbateheydariyeh': 18552, 'rehab': 18553, 'wonderland': 18554, '570': 18555, 'checkin': 18556, 'duirelated': 18557, 'alternativemedicine': 18558, 'unconventional': 18559, 'journalconstitution': 18560, '53country': 18561, 'iraqstyle': 18562, 'defensible': 18563, 'fallback': 18564, 'leaguenawaz': 18565, 'khair': 18566, 'shuja': 18567, 'malian': 18568, 'sidahmed': 18569, 'nouadhibou': 18570, '1132': 18571, '242': 18572, 'highend': 18573, 'inhibits': 18574, 'hadj': 18575, 'ondimba': 18576, 'stonemason': 18577, 'marinus': 18578, '301': 18579, 'marxism': 18580, 'unnegotiated': 18581, 'renamo': 18582, 'joaquim': 18583, 'chissano': 18584, 'emilio': 18585, 'silverstone': 18586, 'wellestablished': 18587, 'dollarization': 18588, 'nontraditional': 18589, 'uphill': 18590, 'saltillo': 18591, 'cameroonian': 18592, 'kilted': 18593, 'playlist': 18594, 'mwiraria': 18595, 'energysaving': 18596, '960000': 18597, 'unveiling': 18598, 'bellamy': 18599, 'baixinglou': 18600, 'chaoyang': 18601, 'diner': 18602, 'waiter': 18603, 'backtrack': 18604, 'mindset': 18605, 'ibos': 18606, 'anibal': 18607, 'correo': 18608, 'caroni': 18609, 'styled': 18610, 'deploring': 18611, 'alkhalifa': 18612, 'jela': 18613, 'franceschi': 18614, 'hampton': 18615, 'mineralrich': 18616, 'alexi': 18617, 'nenets': 18618, 'rianovosti': 18619, 'twoandahalf': 18620, 'flulike': 18621, 'kristof': 18622, '02may': 18623, 'konstantinos': 18624, 'iaaf': 18625, 'pentastar': 18626, 'v6': 18627, 'dodge': 18628, 'alamiri': 18629, 'proshiite': 18630, 'retract': 18631, '250000member': 18632, 'safwat': 18633, 'sherif': 18634, 'hamstring': 18635, 'athletic': 18636, '17meters': 18637, 'marian': 18638, 'oprea': 18639, 'dmitrij': 18640, 'valukevic': 18641, 'flocked': 18642, 'staggering': 18643, '6943': 18644, 'scuttle': 18645, '120seat': 18646, 'outofwork': 18647, 'unled': 18648, 'dimension': 18649, 'priesthood': 18650, 'hierarchy': 18651, 'swiftly': 18652, '950': 18653, 'ninewa': 18654, '440000': 18655, 'jeered': 18656, 'probush': 18657, 'joan': 18658, 'baez': 18659, 'damiri': 18660, 'tayyeb': 18661, 'abelrahim': 18662, 'ayoub': 18663, 'fewest': 18664, 'bankbased': 18665, 'cfco': 18666, 'pointe': 18667, 'noire': 18668, 'aabeghum': 18669, 'nonethnic': 18670, 'fnj': 18671, 'worsens': 18672, '4231': 18673, 'dhabi': 18674, 'painkiller': 18675, 'diploma': 18676, 'haggling': 18677, 'immigrate': 18678, 'unveils': 18679, 'marketshare': 18680, 'badran': 18681, 'suv': 18682, '8yearold': 18683, 'zookeepers': 18684, 'incubator': 18685, 'jingguo': 18686, 'gomoa': 18687, 'buduburam': 18688, 'nationsfunded': 18689, 'rabiah': 18690, 'catalina': 18691, 'perpetuate': 18692, 'ingestion': 18693, 'syriabased': 18694, 'excludes': 18695, 'alhaiman': 18696, 'netzarim': 18697, 'morag': 18698, 'ateret': 18699, 'unamid': 18700, 'listens': 18701, '60year': 18702, 'arbitrarily': 18703, 'fayssal': 18704, 'mekdad': 18705, 'stonethrowers': 18706, 'veracity': 18707, 'altikriti': 18708, 'disc': 18709, '690': 18710, '551': 18711, '268000': 18712, 'balkh': 18713, 'mihtarlam': 18714, 'stringer': 18715, 'rockford': 18716, 'fastener': 18717, '13625': 18718, 'outweighs': 18719, 'denominated': 18720, 'dwindled': 18721, 'dilma': 18722, 'rousseff': 18723, 'greekspeaking': 18724, 'anticommunists': 18725, 'eurodenominated': 18726, 'confine': 18727, 'souvenir': 18728, 'remitted': 18729, 'khurasan': 18730, 'merv': 18731, 'boon': 18732, 'fishingrich': 18733, 'gurbanguly': 18734, 'accumulating': 18735, 'heathen': 18736, 'peking': 18737, 'translate': 18738, 'pang': 18739, 'ki': 18740, 'barbarity': 18741, 'incensed': 18742, 'wager': 18743, 'janitor': 18744, 'organist': 18745, 'pew': 18746, 'deorbiting': 18747, 'conakry': 18748, 'squeezed': 18749, 'spacecom': 18750, 'okeefe': 18751, 'earthorbiting': 18752, 'incredibly': 18753, 'celestial': 18754, 'astronomical': 18755, 'haitianamerican': 18756, 'mulgueta': 18757, 'debalk': 18758, 'newcastle': 18759, 'drownings': 18760, 'origami': 18761, 'folded': 18762, 'occassion': 18763, 'wuhan': 18764, 'peugeotcitroen': 18765, 'yakaghund': 18766, 'extricate': 18767, 'bilingual': 18768, 'ashti': 18769, 'antiiranian': 18770, 'dangtu': 18771, 'identical': 18772, 'winloss': 18773, 'stampa': 18774, 'parisi': 18775, 'trajectory': 18776, 'miliant': 18777, 'iskandariya': 18778, 'graduated': 18779, 'sulaymaniyeh': 18780, 'emerli': 18781, 'maref': 18782, 'mirpur': 18783, 'sacramento': 18784, 'scurrying': 18785, 'conditioner': 18786, 'mahmood': 18787, 'developmentalyoriented': 18788, 'moghaddasi': 18789, '640': 18790, 'stockpiled': 18791, 'michaelle': 18792, 'adrienne': 18793, 'turnover': 18794, 'awacs': 18795, 'margraten': 18796, 'erased': 18797, 'vermilion': 18798, 'kohat': 18799, 'mizuki': 18800, 'tomiaki': 18801, 'marathoner': 18802, 'radcliffe': 18803, 'lancaster': 18804, '25yearsold': 18805, 'tzachi': 18806, 'hanegbi': 18807, 'anarchist': 18808, 'kaesong': 18809, 'bridetobe': 18810, 'bugle': 18811, 'pageant': 18812, 'twilight': 18813, 'feuer': 18814, 'entrapment': 18815, 'closeally': 18816, 'somaliborn': 18817, 'postassassination': 18818, 'useuropean': 18819, 'plaza': 18820, 'encircled': 18821, 'revava': 18822, '5056': 18823, 'demarcating': 18824, 'abyei': 18825, 'saffirsimpson': 18826, '172': 18827, 'viewership': 18828, 'recordholder': 18829, 'sixto11yearold': 18830, 'musicalphenomenon': 18831, 'zac': 18832, 'efron': 18833, 'tisdale': 18834, 'spawning': 18835, 'soldout': 18836, 'defeatism': 18837, 'mockery': 18838, 'turkisharmenian': 18839, 'higüey': 18840, 'faxas': 18841, '216': 18842, 'quand': 18843, 'quoc': 18844, 'kabardinobalkaria': 18845, 'exploiter': 18846, 'exponential': 18847, 'tehriketaliban': 18848, 'baghdadi': 18849, 'hadithah': 18850, 'blitz': 18851, 'natonski': 18852, 'adamantios': 18853, 'vassilakis': 18854, 'recommitted': 18855, 'skeptic': 18856, 'hatta': 18857, 'radjasa': 18858, 'microsystems': 18859, 'beitar': 18860, 'illit': 18861, 'efrat': 18862, 'marcelo': 18863, 'antezana': 18864, 'disposing': 18865, '830': 18866, 'cheated': 18867, 'castle': 18868, 'sleet': 18869, 'bout': 18870, 'decimate': 18871, 'dhusamareb': 18872, 'marergur': 18873, 'waljama': 18874, 'strewn': 18875, 'jeny': 18876, 'frias': 18877, 'attachés': 18878, 'evangelicals': 18879, 'apprehend': 18880, 'alaqili': 18881, 'mainz': 18882, 'aqili': 18883, 'wi': 18884, '3529': 18885, 'motorhome': 18886, 'deere': 18887, 'largerthannormal': 18888, 'alsaid': 18889, 'omani': 18890, 'hafiz': 18891, 'bath': 18892, 'alawite': 18893, 'jarome': 18894, 'iginla': 18895, 'dany': 18896, 'heatley': 18897, 'doan': 18898, 'dara': 18899, 'legalization': 18900, 'quelling': 18901, 'tjarnqvist': 18902, 'henrik': 18903, 'sedin': 18904, 'corruptionfree': 18905, 'eg': 18906, 'aragonite': 18907, 'imprudent': 18908, 'imprudence': 18909, 'thoughtful': 18910, 'vicissitude': 18911, 'nap': 18912, 'cosily': 18913, 'slumber': 18914, 'barked': 18915, 'muttering': 18916, 'betsy': 18917, 'gallop': 18918, 'jinan': 18919, 'lowflying': 18920, 'caliph': 18921, 'caliphate': 18922, 'alireza': 18923, 'jamshidi': 18924, 'soheil': 18925, 'farshad': 18926, 'bastani': 18927, 'ghalawiya': 18928, 'mauritanianalgerian': 18929, 'sleeper': 18930, 'isselmou': 18931, 'illegallybuilt': 18932, 'communistrun': 18933, 'fourdecadelong': 18934, 'liberate': 18935, 'ohare': 18936, 'ushosted': 18937, 'lago': 18938, 'agrio': 18939, 'valiant': 18940, '423': 18941, 'prd': 18942, '598seat': 18943, '673': 18944, 'melchior': 18945, 'ndadaye': 18946, 'kalenga': 18947, 'ramadhani': 18948, '12yearcivil': 18949, 'analyzed': 18950, 'telephoning': 18951, 'maverick': 18952, 'venezuelanowned': 18953, 'embarrass': 18954, 'alnabaie': 18955, '764': 18956, 'inspects': 18957, 'desolation': 18958, 'dianne': 18959, 'sawyer': 18960, '8956': 18961, 'dune': 18962, 'fourkilometer': 18963, 'sainct': 18964, 'thessaloniki': 18965, 'cocaineproducing': 18966, 'fourtenths': 18967, 'kyprianou': 18968, 'wanthana': 18969, 'airdropping': 18970, 'selfsufficient': 18971, 'cocalled': 18972, 'rebelbacked': 18973, 'jared': 18974, 'cotter': 18975, 'sloan': 18976, 'vie': 18977, 'mitterndorf': 18978, 'faultless': 18979, '2075': 18980, '7624': 18981, 'morgenstern': 18982, '7522': 18983, 'planica': 18984, 'overpayment': 18985, '678000': 18986, 'unlocked': 18987, 'footlocker': 18988, 'gambled': 18989, 'boxing': 18990, '18000strong': 18991, 'ecommerce': 18992, 'egaming': 18993, 'baylesa': 18994, 'boyfriend': 18995, 'pricey': 18996, '4th': 18997, 'coffeedrinkers': 18998, 'avoiding': 18999, 'briskly': 19000, 'ballad': 19001, 'pharrell': 19002, 'downloads': 19003, 'environmentthemed': 19004, 'dakhil': 19005, 'yazidis': 19006, 'kurdishspeaking': 19007, 'preislamic': 19008, 'postinvasion': 19009, 'gentry': 19010, '1772': 19011, '279aton': 19012, 'comparatively': 19013, 'onyango': 19014, 'omollo': 19015, 'ochami': 19016, 'marzieh': 19017, 'dastjerdi': 19018, 'underclass': 19019, 'indulge': 19020, 'seeduzzaman': 19021, 'elahi': 19022, 'bakhsh': 19023, 'soomro': 19024, 'fakhar': 19025, 'undated': 19026, 'euroatlantic': 19027, 'computerchip': 19028, 'krzanich': 19029, 'chi': 19030, 'minh': 19031, '300milliondollar': 19032, 'worldleading': 19033, 'evaluates': 19034, 'tenman': 19035, 'presenter': 19036, 'broadbased': 19037, 'ohn': 19038, 'bo': 19039, 'zin': 19040, 'khun': 19041, 'sai': 19042, 'nib': 19043, 'bused': 19044, 'communiqué': 19045, 'consumptiondriven': 19046, 'halemi': 19047, 'pathology': 19048, 'fukusho': 19049, 'shinobu': 19050, 'hasegawa': 19051, 'sightseeing': 19052, 'disillusioned': 19053, 'runthrough': 19054, 'zonen': 19055, 'rodney': 19056, 'melville': 19057, 'cyclical': 19058, 'ganey': 19059, 'firimbi': 19060, 'baseclosing': 19061, 'b1': 19062, '111th': 19063, 'rendell': 19064, 'daxing': 19065, 'meizhou': 19066, 'domineering': 19067, 'narrowminded': 19068, 'whittaker': 19069, 'notting': 19070, '942': 19071, '306': 19072, '415': 19073, 'underperforming': 19074, 'basotho': 19075, 'mineworker': 19076, 'canning': 19077, 'apparelassembly': 19078, 'herding': 19079, 'drawback': 19080, 'precipitously': 19081, 'sinchulu': 19082, 'ceding': 19083, 'whereby': 19084, 'krone': 19085, 'indobhutanese': 19086, 'singye': 19087, 'khesar': 19088, 'namgyel': 19089, 'thimphu': 19090, 'loosening': 19091, 'selfemployment': 19092, 'venturing': 19093, 'moulting': 19094, 'strutted': 19095, 'striding': 19096, 'pecked': 19097, 'plucked': 19098, 'behaviour': 19099, 'seagull': 19100, 'gulletbag': 19101, 'spendthrift': 19102, 'pawned': 19103, 'cloak': 19104, 'solemnly': 19105, 'bougainville': 19106, 'oilladen': 19107, 'oily': 19108, 'skimmer': 19109, 'thenhurricane': 19110, 'hookup': 19111, '1890s': 19112, 'pensacola': 19113, 'leased': 19114, 'gushing': 19115, 'guesthouse': 19116, 'tegua': 19117, 'executes': 19118, 'timestamped': 19119, 'newscaster': 19120, 'malfeasance': 19121, '289': 19122, 'allan': 19123, 'kemakeza': 19124, 'ramsi': 19125, 'fossum': 19126, 'garan': 19127, '14day': 19128, 'olivetree': 19129, 'akihiko': 19130, 'foliage': 19131, 'despoiling': 19132, 'reoccupied': 19133, 'recentlyhalted': 19134, 'oftenstalled': 19135, 'denuded': 19136, 'deceive': 19137, 'democratizing': 19138, 'bossaso': 19139, 'vaunting': 19140, 'fearlessness': 19141, 'pained': 19142, 'silvestre': 19143, 'afable': 19144, '60member': 19145, 'malaysianled': 19146, 'threedecadeold': 19147, 'enterprising': 19148, 'fearless': 19149, 'modernizes': 19150, 'schearf': 19151, 'reasoned': 19152, 'swicord': 19153, 'signatory': 19154, 'rui': 19155, 'zhu': 19156, 'houze': 19157, 'pu': 19158, 'endeavoured': 19159, 'lundestad': 19160, 'sheepandcattle': 19161, 'roswell': 19162, 'dong': 19163, 'anh': 19164, 'oftenfatal': 19165, 'ha': 19166, 'tay': 19167, 'duong': 19168, 'pondicherry': 19169, 'mehrabpur': 19170, 'welded': 19171, 'darkness': 19172, 'meterologists': 19173, 'roaring': 19174, 'spyglass': 19175, 'outdo': 19176, 'icahn': 19177, 'plavia': 19178, 'levar': 19179, 'jamiyyat': 19180, 'ulislam': 19181, 'issaheeh': 19182, 'samana': 19183, 'latina': 19184, 'scapegoating': 19185, 'criminalizes': 19186, 'alienating': 19187, 'flocking': 19188, 'facelift': 19189, 'modernity': 19190, 'cubanization': 19191, 'amhed': 19192, 'osbek': 19193, 'castillo': 19194, 'diamondback': 19195, 'francisely': 19196, 'bueno': 19197, 'brave': 19198, 'ilyas': 19199, 'repressed': 19200, 'hernan': 19201, 'khetaguri': 19202, 'inguri': 19203, '05jan': 19204, 'extensively': 19205, 'violenceridden': 19206, 'contractstyle': 19207, 'betrayal': 19208, 'definite': 19209, 'shana': 19210, 'garhi': 19211, 'ransacking': 19212, 'bula': 19213, 'hawo': 19214, 'photographic': 19215, 'maoistled': 19216, 'baran': 19217, 'illusion': 19218, 'hoisting': 19219, 'aftab': 19220, 'sherpao': 19221, 'lodi': 19222, 'twoweekold': 19223, 'zazai': 19224, 'talibandominated': 19225, 'muniz': 19226, 'maywand': 19227, 'hosada': 19228, 'mobbed': 19229, 'posttaleban': 19230, 'oncologist': 19231, 'statenominee': 19232, 'meddles': 19233, 'interferes': 19234, 'suppresses': 19235, 'counselgeneral': 19236, 'checksandbalances': 19237, 'judith': 19238, 'latham': 19239, 'dateline': 19240, 'isro': 19241, 'madhavan': 19242, 'nair': 19243, 'array': 19244, 'salvation': 19245, 'sayidat': 19246, 'alnejat': 19247, 'mcguffin': 19248, '10person': 19249, 'noncooperation': 19250, 'harun': 19251, 'kushayb': 19252, 'uzair': 19253, 'solicited': 19254, 'ecolog': 19255, 'summon': 19256, 'almustaqbal': 19257, 'liuguantun': 19258, 'tangshan': 19259, 'helland': 19260, 'stanilas': 19261, 'warwrinka': 19262, 'allspanish': 19263, 'foursets': 19264, 'gulbis': 19265, 'henin': 19266, '325000': 19267, 'compilation': 19268, 'banco': 19269, 'championed': 19270, 'zabi': 19271, 'ultaifi': 19272, 'taifi': 19273, 'creditrating': 19274, 'industrywide': 19275, 'nanhai': 19276, 'bombardier': 19277, 'wiretapped': 19278, 'semana': 19279, 'pilar': 19280, 'thug': 19281, 'shengyou': 19282, 'feigning': 19283, 'oda': 19284, '976': 19285, 'hok': 19286, 'buro': 19287, 'happold': 19288, 'multipleuse': 19289, '476': 19290, 'balfour': 19291, 'beatty': 19292, 'reconfigured': 19293, 'chattisgarh': 19294, 'antimaoist': 19295, 'newlysigned': 19296, 'rocco': 19297, 'buttiglione': 19298, 'sin': 19299, '472': 19300, '082': 19301, 'delisted': 19302, '2825': 19303, 'duluth': 19304, 'adept': 19305, 'landholder': 19306, 'jubilee': 19307, 'unmasking': 19308, 'israeliimposed': 19309, 'unrwa': 19310, 'hamasregulated': 19311, 'nonapproved': 19312, 'astrology': 19313, 'underestimate': 19314, 'handicapped': 19315, '300km': 19316, 'astute': 19317, 'divideandrule': 19318, 'esteem': 19319, 'messenger': 19320, 'fling': 19321, 'journeying': 19322, 'loosen': 19323, 'faggot': 19324, 'strand': 19325, 'pursuer': 19326, 'recollecting': 19327, 'tumultous': 19328, 'heartless': 19329, 'skipper': 19330, 'convergent': 19331, 'murmured': 19332, 'marooned': 19333, 'shareman': 19334, 'pudong': 19335, 'deportee': 19336, 'qatada': 19337, 'lerner': 19338, 'sufa': 19339, 'nahal': 19340, '2631': 19341, 'antihistamine': 19342, 'heredity': 19343, 'batter': 19344, 'vero': 19345, 'southward': 19346, 'ticketing': 19347, 'rong': 19348, 'utilized': 19349, 'oversold': 19350, 'blackhawk': 19351, 'etienne': 19352, 'tshisekedi': 19353, 'coahuila': 19354, 'charai': 19355, 'persists': 19356, 'tacked': 19357, 'earmark': 19358, 'gauteng': 19359, 'manama': 19360, 'dialog': 19361, 'consultingsecurity': 19362, 'frederic': 19363, 'piry': 19364, 'kwazulunatal': 19365, 'sinorussian': 19366, 'oncebitter': 19367, 'hajim': 19368, 'mento': 19369, 'tshabalalamsimang': 19370, 'blacked': 19371, 'underscoring': 19372, 'palestinianowned': 19373, 'ghassan': 19374, 'daglas': 19375, 'blazing': 19376, 'retaliating': 19377, 'caravan': 19378, 'conscious': 19379, 'hayabullah': 19380, 'rafiqi': 19381, 'qabail': 19382, 'solder': 19383, '15second': 19384, 'repsol': 19385, 'norma': 19386, 'nonspecific': 19387, 'uncorroborated': 19388, 'hermann': 19389, 'apollo': 19390, 'ohno': 19391, '1500meters': 19392, 'pechstein': 19393, 'anni': 19394, 'friesinger': 19395, '3000meters': 19396, 'armin': 19397, 'zoeggeler': 19398, 'hostcountry': 19399, 'sciri': 19400, 'antiproliferation': 19401, 'norinco': 19402, 'zibo': 19403, 'chemet': 19404, 'aerotechnology': 19405, 'importexport': 19406, 'hongdu': 19407, 'ounion': 19408, 'metallurgy': 19409, 'walt': 19410, '660': 19411, 'nonrefundable': 19412, '40million': 19413, 'tutor': 19414, 'iger': 19415, 'pixar': 19416, 'marvel': 19417, 'drawnout': 19418, 'angelesbased': 19419, 'harvey': 19420, 'bloodthirsty': 19421, 'hated': 19422, 'monster': 19423, 'mccellan': 19424, 'baron': 19425, 'rearm': 19426, 'mombasabased': 19427, '740': 19428, 'receving': 19429, 'ecuadoreans': 19430, 'tachilek': 19431, 'noel': 19432, 'imb': 19433, 'pirateinfested': 19434, 'citroen': 19435, 'gronholm': 19436, 'immunizing': 19437, 'duaik': 19438, 'mitsubishi': 19439, 'gigi': 19440, 'galli': 19441, 'turbo': 19442, 'valve': 19443, 'maracaibo': 19444, '225kilometerlong': 19445, '334332': 19446, 'gazan': 19447, 'constituted': 19448, 'guilt': 19449, 'strippeddown': 19450, 'bickering': 19451, 'nearmonoply': 19452, 'xp': 19453, 'lado': 19454, 'grigol': 19455, 'mgalobishvili': 19456, 'markko': 19457, 'newhouse': 19458, 'sezibera': 19459, 'alqassim': 19460, 'branco': 19461, 'scathing': 19462, 'giliani': 19463, 'commerical': 19464, 'traumatized': 19465, 'untreated': 19466, 'earthquakehit': 19467, 'aladwa': 19468, 'wlodzimierz': 19469, 'wodzimierz': 19470, 'visafree': 19471, 'leopoldo': 19472, 'taiana': 19473, 'dhiren': 19474, 'qaisar': 19475, 'shaffi': 19476, 'nadeem': 19477, 'tarmohammed': 19478, 'esa': 19479, 'citicorp': 19480, '164000': 19481, 'foreignborn': 19482, 'graffiti': 19483, 'turner': 19484, 'durand': 19485, 'forcefed': 19486, 'forcefeeding': 19487, 'lauder': 19488, 'schneider': 19489, 'inforadio': 19490, 'oswaldo': 19491, 'jarrin': 19492, 'unaffiliated': 19493, 'computerservices': 19494, 'datapoint': 19495, 'buyback': 19496, 'abovemarket': 19497, 'finfish': 19498, 'presidentialparliamentary': 19499, 'martinique': 19500, 'mayotte': 19501, '05jun': 19502, 'overpopulated': 19503, 'inefficientlygoverned': 19504, 'singlemostimportant': 19505, 'fy09': 19506, 'fy10': 19507, '42000': 19508, 'mw': 19509, 'grasping': 19510, 'idf': 19511, 'strelets': 19512, 'anatoliy': 19513, 'theoretically': 19514, 'insurgencyplagued': 19515, 'tishrin': 19516, 'sincerity': 19517, 'israelsyria': 19518, 'cosponsored': 19519, '1254': 19520, 'zhouqu': 19521, '6045': 19522, '6095': 19523, '5985': 19524, 'usiranian': 19525, 'watcher': 19526, 'jammed': 19527, 'bombshaped': 19528, '775': 19529, 'jianlian': 19530, 'fouled': 19531, 'narvaez': 19532, 'locker': 19533, 'shielding': 19534, 'wore': 19535, 'tshirts': 19536, 'sola': 19537, 'chilitepic': 19538, 'medan': 19539, '5065': 19540, 'tahseen': 19541, 'poul': 19542, 'nielsen': 19543, 'farabaugh': 19544, 'thaiburmese': 19545, 'reebok': 19546, 'nord': 19547, 'eclair': 19548, 'gobernador': 19549, 'valadares': 19550, 'biloxi': 19551, 'expletive': 19552, 'bashkortostan': 19553, 'oskar': 19554, 'alekseyeva': 19555, 'rewriting': 19556, 'andrade': 19557, 'gereida': 19558, 'eastnortheast': 19559, 'formalizing': 19560, 'odd': 19561, 'totalitarian': 19562, 'pinchuk': 19563, 'guilin': 19564, 'wolong': 19565, 'nestrenko': 19566, 'farsilanguage': 19567, 'paseo': 19568, 'reforma': 19569, 'vasconcelos': 19570, 'nadi': 19571, 'tahab': 19572, 'hizbulmujahedeen': 19573, 'snarled': 19574, '2000000': 19575, '4000000': 19576, 'inception': 19577, '3000000': 19578, 'congestion': 19579, 'conjunction': 19580, 'simulated': 19581, 'tarin': 19582, 'insurgentrelated': 19583, 'purim': 19584, 'galloway': 19585, 'barter': 19586, 'disrepair': 19587, 'denpasar': 19588, 'czugaj': 19589, 'renae': 19590, 'lambasting': 19591, 'adoring': 19592, 'divisiveness': 19593, 'twentyoneyearold': 19594, 'sparingly': 19595, '236': 19596, 'domenici': 19597, 'reap': 19598, 'reinvested': 19599, 'indiacontrolled': 19600, 'propakistan': 19601, 'westernbacked': 19602, 'vetoed': 19603, '18ashare': 19604, 'est': 19605, 'barron': 19606, 'gemquality': 19607, '3540': 19608, 'gini': 19609, 'coefficient': 19610, 'onetoone': 19611, 'germanic': 19612, '1866': 19613, 'antimoneylaundering': 19614, 'practiced': 19615, 'supranational': 19616, 'annals': 19617, 'countrylevel': 19618, 'nationstates': 19619, 'overarching': 19620, 'delimitation': 19621, 'huthi': 19622, 'zaydi': 19623, 'revitalized': 19624, 'sprain': 19625, 'racquetball': 19626, 'loosed': 19627, 'irritated': 19628, 'rustic': 19629, 'ignorant': 19630, 'induce': 19631, 'semiannual': 19632, 'mused': 19633, 'ilyushin': 19634, 'rosoboronexport': 19635, 'nightline': 19636, 'balboa': 19637, 'embarking': 19638, '100year': 19639, '232nd': 19640, 'risking': 19641, 'juste': 19642, 'moradi': 19643, 'selfpromotion': 19644, 'avoidance': 19645, 'yoshimasa': 19646, 'hayashi': 19647, 'ledinvasion': 19648, 'jinping': 19649, 'undervalued': 19650, 'sunnidominated': 19651, '2nd': 19652, '502nd': 19653, 'scholarship': 19654, 'thousandstrong': 19655, 'specter': 19656, 'contradicted': 19657, 'governmentsubsidized': 19658, 'nsanje': 19659, 'italianrun': 19660, 'pepfar': 19661, 'maroua': 19662, 'rania': 19663, 'joyous': 19664, 'eni': 19665, 'wintry': 19666, 'prousimmigration': 19667, 'truckmounted': 19668, 'ivanovo': 19669, 'teikovo': 19670, 'oneton': 19671, 'countering': 19672, 'macarthur': 19673, 'elzahraa': 19674, 'etman': 19675, 'twentyseven': 19676, 'compel': 19677, 'fuelmaking': 19678, '92yearsold': 19679, 'exuberant': 19680, 'cancan': 19681, 'chanthalangsy': 19682, 'nonsawang': 19683, 'frigid': 19684, 'dikweneh': 19685, 'paddick': 19686, 'cellphone': 19687, 'russell': 19688, 'madaen': 19689, 'almutairi': 19690, 'bloemfontein': 19691, 'lieu': 19692, 'conjured': 19693, 'gasparovic': 19694, 'wholesaler': 19695, '162page': 19696, 'koufax': 19697, 'wilpon': 19698, '70yearold': 19699, 'yearslong': 19700, 'baladiyat': 19701, 'medicallyinduced': 19702, 'shlomo': 19703, 'moryosef': 19704, 'anesthesia': 19705, 'dosage': 19706, 'sedated': 19707, 'unconsciousness': 19708, 'vase': 19709, 'sutham': 19710, 'saengprathum': 19711, 'kelantan': 19712, '27million': 19713, 'polytechnic': 19714, 'backcountry': 19715, 'babri': 19716, 'godking': 19717, 'rama': 19718, 'shiv': 19719, 'sena': 19720, 'foodborne': 19721, 'heishan': 19722, 'seyoum': 19723, 'mesfin': 19724, 'awan': 19725, 'cayenne': 19726, 'khanun': 19727, 'talim': 19728, 'disfigured': 19729, 'mat': 19730, 'talal': 19731, 'sattar': 19732, 'qassem': 19733, 'suha': 19734, 'jeanjacques': 19735, 'dordain': 19736, 'chemicalplant': 19737, 'shoigu': 19738, 'outed': 19739, 'sad': 19740, 'defiled': 19741, 'diligence': 19742, 'crossstrait': 19743, 'choco': 19744, 'recordlow': 19745, '700e07': 19746, 'airasia': 19747, 'algomhouria': 19748, 'trumpedup': 19749, 'ralia': 19750, 'thrived': 19751, 'handheld': 19752, '100million': 19753, '924': 19754, '1041': 19755, '1030': 19756, 'thayer': 19757, 'kadhim': 19758, 'alsuraiwi': 19759, 'suraiwi': 19760, 'newlyreleased': 19761, 'defacate': 19762, 'uslaunched': 19763, 'finely': 19764, 'punitive': 19765, 'theorize': 19766, 'verbytsky': 19767, 'sandbagreinforced': 19768, 'winfield': 19769, 'inundate': 19770, 'rainflooded': 19771, 'ruining': 19772, 'soybean': 19773, 'skyrocketed': 19774, 'antiroyalists': 19775, 'sahafi': 19776, 'allcash': 19777, 'liquidation': 19778, 'redeemed': 19779, '1652': 19780, 'spice': 19781, 'trekked': 19782, 'subjugation': 19783, 'encroachment': 19784, 'whitesonly': 19785, 'multiracial': 19786, 'ancled': 19787, 'kgalema': 19788, 'motlanthe': 19789, 'generalsecretary': 19790, 'exportled': 19791, 'narcotrafficking': 19792, 'uscolombia': 19793, 'delimited': 19794, 'tokugawa': 19795, 'shogunate': 19796, 'flowering': 19797, 'kanagawa': 19798, 'industrialize': 19799, 'formosa': 19800, 'sakhalin': 19801, '1931': 19802, 'manchuria': 19803, 'strongestever': 19804, 'honshu': 19805, 'saibou': 19806, 'madhuri': 19807, 'duration': 19808, 'subsistencebased': 19809, 'sahel': 19810, 'nigerien': 19811, 'growling': 19812, 'snapping': 19813, 'wrathful': 19814, 'tyrannical': 19815, 'gentle': 19816, 'panther': 19817, 'amity': 19818, 'lifeanddeath': 19819, 'spat': 19820, 'drinkinghorn': 19821, 'slake': 19822, 'draught': 19823, 'housecat': 19824, 'defurred': 19825, 'yongchun': 19826, 'unimaginably': 19827, 'blackhearted': 19828, 'lurking': 19829, 'yitzhak': 19830, 'leah': 19831, 'landforpeace': 19832, 'herzl': 19833, 'defaced': 19834, 'neo': 19835, 'beilin': 19836, 'gurion': 19837, 'rootingout': 19838, 'sadah': 19839, '2408': 19840, 'shivnarine': 19841, '297': 19842, '214': 19843, 'makhaya': 19844, 'feb63': 19845, 'wwwgovcn': 19846, 'bucca': 19847, '647': 19848, 'biography': 19849, '10man': 19850, 'editorinchief': 19851, 'miscommunication': 19852, 'offloaded': 19853, 'antiwhaling': 19854, 'cetacean': 19855, 'cabeza': 19856, 'vaca': 19857, 'shoko': 19858, 'muallem': 19859, 'sheiria': 19860, 'unionsponsored': 19861, 'iraqsyria': 19862, 'overthe': 19863, 'riad': 19864, 'dovonou': 19865, 'adjarra': 19866, 'porto': 19867, 'novo': 19868, 'scheussel': 19869, 'pelting': 19870, 'incapacitating': 19871, 'wellqualified': 19872, 'paused': 19873, 'streetcar': 19874, 'departs': 19875, 'tecnica': 19876, 'loja': 19877, 'universidad': 19878, 'andes': 19879, '2633meter': 19880, '0068472222': 19881, '017': 19882, 'nike': 19883, '13853': 19884, 'secondplace': 19885, '592': 19886, 'jensen': 19887, 'phuket': 19888, 'yazoo': 19889, 'incomplete': 19890, 'stayorder': 19891, 'anup': 19892, 'raj': 19893, 'codirector': 19894, 'jabril': 19895, 'abdulle': 19896, 'mauritian': 19897, 'grouper': 19898, 'eel': 19899, 'medically': 19900, 'chaka': 19901, 'fattah': 19902, 'copacabana': 19903, 'ipanema': 19904, 'legalize': 19905, 'taiwaneseamerican': 19906, 'shen': 19907, 'gregg': 19908, 'jawid': 19909, 'threephased': 19910, 'tichaona': 19911, '68yearold': 19912, 'allrace': 19913, 'withered': 19914, 'helpe': 19915, 'chasseursvolontaires': 19916, 'saintdomingue': 19917, '1779': 19918, 'turb': 19919, 'ulent': 19920, 'passy': 19921, '2035': 19922, 'midcentury': 19923, 'sahrawi': 19924, 'bart': 19925, 'stupak': 19926, 'grammyawards': 19927, 'domm': 19928, 'samo': 19929, 'parra': 19930, 'mientes': 19931, 'dejarte': 19932, 'amar': 19933, 'guerraas': 19934, 'bachata': 19935, 'fukuoko': 19936, 'univision': 19937, 'actresssinger': 19938, 'judgmental': 19939, 'richie': 19940, 'councilor': 19941, 'jiaxuan': 19942, 'lehman': 19943, 'ubs': 19944, 'stearns': 19945, 'renowed': 19946, 'farka': 19947, 'genre': 19948, 'timbuktu': 19949, 'belet': 19950, 'weyn': 19951, 'mudbrick': 19952, 'heatshielding': 19953, 'compartment': 19954, 'latifiya': 19955, 'alhafidh': 19956, 'alkhalis': 19957, 'deferring': 19958, 'amani': 19959, 'wreaking': 19960, 'laissezfaire': 19961, 'archaic': 19962, 'serviceoriented': 19963, 'entrepot': 19964, 'ballooning': 19965, 'israelihizballah': 19966, 'conditioned': 19967, 'mayen': 19968, '27yearlong': 19969, 'accrued': 19970, 'kwanza': 19971, 'depreciated': 19972, 'workingage': 19973, 'rutile': 19974, 'britishruled': 19975, 'malaya': 19976, 'sarawak': 19977, 'armourer': 19978, 'insensible': 19979, 'dina': 19980, 'cody': 19981, 'monthtomonth': 19982, 'minsoon': 19983, 'asiaoceania': 19984, 'forcible': 19985, 'almabhouh': 19986, 'circulate': 19987, 'deyda': 19988, 'berezovsky': 19989, 'akhmed': 19990, 'zakayev': 19991, 'greenest': 19992, 'soothe': 19993, 'counterproposal': 19994, 'h9n2': 19995, 'subtypes': 19996, 'mansehra': 19997, 'emerges': 19998, 'ruby': 19999, 'nishin': 20000, 'asphyxiated': 20001, 'salvatore': 20002, 'sagues': 20003, 'kandill': 20004, 'faultline': 20005, 'chenembiri': 20006, 'bhunu': 20007, 'ranged': 20008, 'obiang': 20009, 'nguema': 20010, 'reroute': 20011, 'unspoiled': 20012, 'maciej': 20013, 'nowicki': 20014, 'rospuda': 20015, 'pristine': 20016, 'bog': 20017, 'lynx': 20018, 'augustow': 20019, 'fayoum': 20020, 'michalak': 20021, 'thuan': 20022, 'congressionalexecutive': 20023, 'clouded': 20024, 'harass': 20025, 'hofstad': 20026, 'nansan': 20027, 'brader': 20028, 'insurgencyhit': 20029, 'soothing': 20030, 'tenghui': 20031, 'wellequipped': 20032, 'perpetrating': 20033, 'erkki': 20034, 'tuomioja': 20035, 'haisori': 20036, 'destabilization': 20037, 'rugigana': 20038, 'faustin': 20039, 'kayumba': 20040, 'develops': 20041, 'izzat': 20042, 'aldouri': 20043, '80percent': 20044, '2330': 20045, '11500': 20046, 'grujic': 20047, 'decadence': 20048, 'aspire': 20049, 'perfection': 20050, 'oberhausen': 20051, 'eightlegged': 20052, 'mussel': 20053, 'peacemaker': 20054, 'reconstructing': 20055, 'wayaobao': 20056, 'zichang': 20057, 'howells': 20058, '277': 20059, 'kantathi': 20060, 'supamongkhon': 20061, 'spicy': 20062, 'garlicky': 20063, 'epitomizes': 20064, 'zerogravity': 20065, 'prelaunch': 20066, 'alzouma': 20067, 'yada': 20068, 'adamou': 20069, 'cuvette': 20070, 'heath': 20071, 'anura': 20072, 'bandaranaike': 20073, 'amunugama': 20074, 'mediocre': 20075, 'peril': 20076, 'isaiah': 20077, 'unpublished': 20078, 'authored': 20079, '1294': 20080, '12nation': 20081, 'surpasses': 20082, '12927': 20083, 'polarize': 20084, 'interlagos': 20085, '0060092593': 20086, '0050474537': 20087, 'kimi': 20088, '0193': 20089, 'realistically': 20090, 'schumacher': 20091, '76000': 20092, 'prolific': 20093, 'nexttolast': 20094, 'nonfunctional': 20095, 'joao': 20096, 'millionselling': 20097, 'mostsuccessful': 20098, 'lamm': 20099, 'loughnane': 20100, 'sandagiri': 20101, 'malam': 20102, 'bacai': 20103, 'tamildominated': 20104, 'toddler': 20105, '2698': 20106, 'ethnicallytibetan': 20107, 'yushu': 20108, 'guangrong': 20109, 'kamau': 20110, 'artur': 20111, 'marina': 20112, 'otalora': 20113, 'condoleeza': 20114, 'ludicrous': 20115, 'barricaded': 20116, 'shangla': 20117, 'sarfraz': 20118, 'naeemi': 20119, 'kingsbridge': 20120, '45ashare': 20121, 'donut': 20122, '468': 20123, 'randolph': 20124, 'locallycontrolled': 20125, 'gamingrelated': 20126, '552300': 20127, 'cepa': 20128, 'macaumade': 20129, 'pataca': 20130, 'multisector': 20131, 'riskier': 20132, '1889': 20133, '126976': 20134, '104586': 20135, 'euphausia': 20136, 'superba': 20137, '12027': 20138, 'dissostichus': 20139, 'eleginoides': 20140, 'bass': 20141, '127910': 20142, '106591': 20143, '12396': 20144, 'ccamlr': 20145, 'unregulated': 20146, '8376': 20147, '45213': 20148, '35552': 20149, '29799': 20150, 'iaato': 20151, 'uniosil': 20152, 'furthering': 20153, 'fatherland': 20154, 'wintertime': 20155, 'curled': 20156, 'tee': 20157, 'olden': 20158, 'enchanted': 20159, 'imitate': 20160, 'dull': 20161, 'industrious': 20162, 'seventy': 20163, 'poetry': 20164, 'honoured': 20165, 'compiler': 20166, 'tabulated': 20167, 'lustily': 20168, 'behold': 20169, 'goeth': 20170, 'hidingplace': 20171, 'calamitously': 20172, 'prowl': 20173, 'dwell': 20174, 'whichever': 20175, 'aquarrelling': 20176, '13828': 20177, 'pep': 20178, 'redirect': 20179, 'groomed': 20180, 'sim': 20181, 'fixedline': 20182, 'unicom': 20183, '628': 20184, 'westerly': 20185, 'siegler': 20186, 'handelsblad': 20187, 'henk': 20188, 'forested': 20189, 'ironore': 20190, 'orlando': 20191, 'cachaito': 20192, 'buena': 20193, 'compay': 20194, 'segundo': 20195, '1008': 20196, 'nurja': 20197, 'oncepopular': 20198, 'wideopened': 20199, 'chiefofstaff': 20200, 'euthanized': 20201, 'alhindawi': 20202, 'duluiya': 20203, 'pakistaniafghan': 20204, 'machinea': 20205, 'jaatanni': 20206, 'taadhii': 20207, 'upright': 20208, 'twowheeled': 20209, 'onemeterlong': 20210, 'gyroscope': 20211, 'tricky': 20212, 'warrantless': 20213, 'nonopec': 20214, 'mascot': 20215, 'floribert': 20216, 'integrationist': 20217, 'precedence': 20218, 'rigoberta': 20219, 'menchu': 20220, 'joker': 20221, 'forcers': 20222, 'alliancehead': 20223, 'contradicting': 20224, 'dhia': 20225, 'assimilating': 20226, 'visually': 20227, 'impaired': 20228, 'ordina': 20229, 'taping': 20230, 'klara': 20231, 'ljube': 20232, 'ljubotno': 20233, 'skopje': 20234, 'pre2007': 20235, 'radisson': 20236, 'militarization': 20237, 'telecast': 20238, 'hizbeislami': 20239, 'weaponization': 20240, 'singnaghi': 20241, 'tugboat': 20242, 'mavi': 20243, 'marmaraout': 20244, 'neuilly': 20245, 'marja': 20246, 'jalani': 20247, 'kish': 20248, 'duffle': 20249, '2185': 20250, 'ashwell': 20251, '87run': 20252, '1315': 20253, 'dwayne': 20254, 'jerome': 20255, 'feb45': 20256, 'germ': 20257, 'rihab': 20258, 'huda': 20259, 'amash': 20260, 'marwa': 20261, 'highvalue': 20262, 'brookings': 20263, 'camaraderie': 20264, 'outdoors': 20265, 'monaliza': 20266, 'noormohammadi': 20267, 'porous': 20268, 'iraqisyrian': 20269, 'thunderous': 20270, '58000': 20271, 'aluthmani': 20272, 'funnel': 20273, 'luciano': 20274, 'modena': 20275, 'polyclinic': 20276, 'pancreatic': 20277, 'aficionado': 20278, 'tenor': 20279, 'fourmillion': 20280, 'minghe': 20281, '80kilometerlong': 20282, 'salad': 20283, 'pakistanbound': 20284, 'sixtyeight': 20285, 'crooner': 20286, 'shrugged': 20287, 'suichuan': 20288, '6954': 20289, 'mala': 20290, 'shorish': 20291, 'akrebijeel': 20292, 'shaikan': 20293, 'rovi': 20294, 'sarta': 20295, 'dihok': 20296, 'chimney': 20297, 'embarrased': 20298, 'jacksonville': 20299, 'bared': 20300, 'mccarthy': 20301, 'facet': 20302, '12minute': 20303, 'baya': 20304, 'rahho': 20305, 'archeologist': 20306, 'reenergize': 20307, 'verifiably': 20308, 'pontchartrain': 20309, 'megumi': 20310, 'faking': 20311, 'antipyongyang': 20312, 'threethousand': 20313, 'hamesh': 20314, 'koreb': 20315, '61000': 20316, 'hmawbi': 20317, 'sixkilometers': 20318, 'gracious': 20319, 'bijbehera': 20320, 'amor': 20321, 'almagro': 20322, 'buyat': 20323, 'aridi': 20324, 'bugojno': 20325, 'twa': 20326, 'stethem': 20327, 'lover': 20328, '4410kilogram': 20329, 'guinness': 20330, 'yerevan': 20331, '3587kilogram': 20332, 'elah': 20333, 'dufournovi': 20334, 'alessandria': 20335, 'piemonte': 20336, 'stamford': 20337, 'magnified': 20338, 'nonrecurring': 20339, 'assetvaluation': 20340, '857': 20341, '933': 20342, 'geodynamic': 20343, 'astypaleia': 20344, 'excels': 20345, 'selfsufficiency': 20346, 'postrecession': 20347, 'angkor': 20348, 'cham': 20349, '1887': 20350, 'pol': 20351, 'pot': 20352, 'normalcy': 20353, 'uncambodian': 20354, 'contending': 20355, 'sihanouk': 20356, 'sihamoni': 20357, 'ageing': 20358, 'fy0607': 20359, 'earns': 20360, 'penning': 20361, 'leisurely': 20362, 'sauntering': 20363, 'schemed': 20364, 'tailless': 20365, 'brush': 20366, 'spun': 20367, 'effectsladen': 20368, 'shahab3': 20369, 'openingday': 20370, 'salma': 20371, 'valentina': 20372, 'paloma': 20373, 'francoishenri': 20374, 'ventanazul': 20375, 'metrogoldwynmayer': 20376, 'ppr': 20377, 'gucci': 20378, 'balenciaga': 20379, 'puma': 20380, '159th': 20381, 'paynesville': 20382, 'congotown': 20383, 'needlessly': 20384, 'antagonizes': 20385, 'uncalculated': 20386, 'melih': 20387, 'gokcek': 20388, 'drapchi': 20389, 'otton': 20390, '351': 20391, 'heraldo': 20392, 'munoz': 20393, 'imphal': 20394, 'okram': 20395, 'ibobi': 20396, '2824': 20397, 'raininterrupted': 20398, 'hussey': 20399, 'lbw': 20400, 'recordtying': 20401, 'meng': 20402, 'diuretic': 20403, 'byproduct': 20404, 'hua': 20405, 'ouyang': 20406, 'kunpeng': 20407, '2814': 20408, 'easypaced': 20409, '267': 20410, 'authorites': 20411, 'seabased': 20412, 'bulava': 20413, 'stavropol': 20414, 'delanoe': 20415, 'coe': 20416, 'suite': 20417, 'yimou': 20418, 'threeandonehalf': 20419, 'rocketlaunched': 20420, 'perina': 20421, 'nonsmoking': 20422, 'antismoking': 20423, 'artibonite': 20424, 'refocus': 20425, 'azimbek': 20426, 'beknazarov': 20427, 'nepotism': 20428, 'adolescence': 20429, 'fullpage': 20430, 'reciprocate': 20431, 'coldweather': 20432, 'verifiable': 20433, '14kilometerlong': 20434, 'yichang': 20435, 'wanzhou': 20436, 'mujhava': 20437, 'cubavenezuela': 20438, 'commonplace': 20439, 'reshape': 20440, 'broadening': 20441, 'ojedokun': 20442, 'screener': 20443, 'baggage': 20444, '915000': 20445, 'glut': 20446, 'unsold': 20447, 'giovanni': 20448, 'fava': 20449, 'lawmakes': 20450, '3929': 20451, 'overdraft': 20452, 'kallenberger': 20453, 'bellinger': 20454, '1039': 20455, 'ammonium': 20456, 'anfo': 20457, 'deactivate': 20458, 'maccabi': 20459, 'qualifyinground': 20460, 'secondleg': 20461, 'betar': 20462, 'dinamo': 20463, 'nikolas': 20464, 'clichysousbois': 20465, 'counterradicalization': 20466, 'businesswoman': 20467, '8900': 20468, 'sherpa': 20469, 'unfurled': 20470, 'rededicate': 20471, 'ciabacked': 20472, 'commemorated': 20473, 'itinerary': 20474, 'thamilselvan': 20475, 'vidar': 20476, 'russiangeorgian': 20477, 'gagra': 20478, 'subzero': 20479, 'slippery': 20480, 'blizzardlike': 20481, 'exclusion': 20482, 'haruna': 20483, 'idrissu': 20484, 'reimposition': 20485, 'softened': 20486, 'adopts': 20487, 'jaua': 20488, 'speculating': 20489, 'climatefriendly': 20490, 'paralyzing': 20491, 'tri': 20492, 'daklak': 20493, 'suicidal': 20494, 'allots': 20495, 'immorality': 20496, 'nonislamic': 20497, 'reimpose': 20498, 'repealed': 20499, 'shoichi': 20500, 'nakagawa': 20501, 'penn': 20502, 'thendirector': 20503, 'roundly': 20504, 'testifies': 20505, 'naturalgas': 20506, 'fixedprice': 20507, 'reimbursed': 20508, 'amortization': 20509, '1699': 20510, 'sugarbased': 20511, 'lingered': 20512, 'precipitated': 20513, '1623': 20514, 'rebelled': 20515, 'sekou': 20516, 'sekouba': 20517, 'konate': 20518, 'conde': 20519, 'trilliondollar': 20520, 'uscanada': 20521, 'nafta': 20522, 'absorbs': 20523, 'buffeted': 20524, 'capitalization': 20525, 'stuffing': 20526, 'goosequills': 20527, 'aux': 20528, 'wearily': 20529, 'etc': 20530, 'plaster': 20531, 'noticeable': 20532, 'confidently': 20533, 'rowdy': 20534, 'busied': 20535, 'flap': 20536, 'stapler': 20537, 'stapled': 20538, 'debilitating': 20539, 'addendum': 20540, 'debriefing': 20541, 'weaponsrelated': 20542, 'mekorot': 20543, 'bursa': 20544, 'modifies': 20545, 'enhances': 20546, 'detriment': 20547, 'ishac': 20548, 'diwan': 20549, 'qusai': 20550, 'abdulwahab': 20551, 'bahrainian': 20552, 'satisfies': 20553, 'verhofstadt': 20554, 'tuzla': 20555, 'gijs': 20556, 'vries': 20557, 'muriel': 20558, 'degauque': 20559, 'anyama': 20560, 'gendarme': 20561, 'newman': 20562, 'flagrantly': 20563, 'semester': 20564, 'tulane': 20565, 'flooddamaged': 20566, 'moinuddin': 20567, 'fivestar': 20568, 'puri': 20569, 'affirming': 20570, 'fayyum': 20571, 'giza': 20572, 'filip': 20573, 'tkachev': 20574, 'krasnodar': 20575, 'beatrice': 20576, 'norton': 20577, 'toby': 20578, 'harnden': 20579, 'simmonds': 20580, 'sorting': 20581, 'sabotaging': 20582, 'schmit': 20583, 'zabayda': 20584, 'chitchai': 20585, 'wannasathit': 20586, 'navarro': 20587, 'durango': 20588, 'resembled': 20589, 'incendiary': 20590, 'pardo': 20591, 'alsharjee': 20592, 'frangiskos': 20593, 'ragoussis': 20594, 'castoff': 20595, 'cinderella': 20596, 'dreamgirls': 20597, 'miro': 20598, 'yousifiyah': 20599, 'simplifying': 20600, 'ler': 20601, 'minesweeper': 20602, 'karkh': 20603, 'singleworst': 20604, 'alqaidainiraq': 20605, 'ogero': 20606, '403': 20607, '456000': 20608, '255000': 20609, 'compromised': 20610, 'regaining': 20611, 'pingkun': 20612, 'ghangzhou': 20613, 'yat': 20614, 'nangjing': 20615, 'slideshow': 20616, 'sgt': 20617, '74th': 20618, 'researching': 20619, 'malwiya': 20620, 'jagged': 20621, 'abbassid': 20622, 'sunniled': 20623, 'alp': 20624, 'closeness': 20625, 'starstudded': 20626, 'multitude': 20627, 'vincennes': 20628, 'lynyrd': 20629, 'skynyrd': 20630, 'butch': 20631, 'kievenaar': 20632, 'blondie': 20633, 'trumpeter': 20634, 'herb': 20635, 'alpert': 20636, 'moss': 20637, 'ethnicallydivided': 20638, 'lafayette': 20639, 'novosibirsk': 20640, 'stymied': 20641, 'inspires': 20642, 'hubris': 20643, 'anonymously': 20644, 'onscene': 20645, 'festive': 20646, 'decked': 20647, 'zhanjun': 20648, 'accredited': 20649, 'binjie': 20650, 'brazilianmade': 20651, 'aircraftmaker': 20652, 'embraer': 20653, 'ramping': 20654, 'sheng': 20655, 'huaren': 20656, 'simmons': 20657, 'fayyaz': 20658, 'cobbled': 20659, '150member': 20660, 'industrybacked': 20661, 'refinancing': 20662, '1475': 20663, 'customized': 20664, 'simulates': 20665, 'juliana': 20666, 'weisgan': 20667, 'tourismdriven': 20668, 'bahamian': 20669, 'nyasaland': 20670, 'hastings': 20671, 'kamuzu': 20672, 'sprat': 20673, 'orchard': 20674, 'ripening': 20675, 'quench': 20676, 'tempting': 20677, 'despise': 20678, 'butler': 20679, 'chauffeur': 20680, 'circlek': 20681, 'backfired': 20682, 'obscene': 20683, 'tourniquet': 20684, 'noticing': 20685, 'tshirt': 20686, 'slyly': 20687, 'andrea': 20688, 'nahles': 20689, 'kajo': 20690, 'wasserhoevel': 20691, 'solbes': 20692, 'constructing': 20693, 'firehouse': 20694, 'nongovernment': 20695, 'saudisyrian': 20696, 'mm': 20697, 'wesson': 20698, 'unfastened': 20699, 'journeyed': 20700, 'russianborn': 20701, 'sergey': 20702, 'tiffany': 20703, 'stiegler': 20704, 'rebecca': 20705, 'naturalization': 20706, 'tanith': 20707, 'belbin': 20708, 'shagh': 20709, 'initialed': 20710, 'seydou': 20711, 'diarra': 20712, 'thundershower': 20713, 'rounder': 20714, 'nel': 20715, 'boeta': 20716, 'dippenaar': 20717, 'wai': 20718, 'stylized': 20719, 'scifi': 20720, '2047': 20721, 'bernando': 20722, 'vavuniya': 20723, 'beatle': 20724, 'bogdanchikov': 20725, 'allegra': 20726, 'anorexia': 20727, 'zimmerman': 20728, 'estanged': 20729, 'correspond': 20730, '564000': 20731, '3268': 20732, 'akhalkalaki': 20733, 'nationshosted': 20734, 'inject': 20735, '60to36': 20736, '240000': 20737, 'otri': 20738, 'antiiraqi': 20739, 'singaporeflagged': 20740, 'pramoni': 20741, 'frechette': 20742, 'plaque': 20743, '6165': 20744, 'delighted': 20745, 'holing': 20746, 'sohail': 20747, 'tanvir': 20748, 'dhoni': 20749, 'threetest': 20750, 'waw': 20751, 'trudging': 20752, 'jogged': 20753, 'biked': 20754, 'emilie': 20755, 'loit': 20756, 'ruano': 20757, 'bleach': 20758, 'russiaaustria': 20759, 'kickstart': 20760, 'smerdon': 20761, 'alfahd': 20762, '23millionstrong': 20763, 'awaited': 20764, 'mrksic': 20765, 'radic': 20766, 'veselin': 20767, 'sljivancanin': 20768, '534': 20769, 'energyproducing': 20770, 'reforestation': 20771, 'neartotal': 20772, 'robby': 20773, 'yeutzuoo': 20774, 'sungho': 20775, 'neurosurgeon': 20776, 'nihon': 20777, 'keizai': 20778, 'pioneered': 20779, 'fuelpowered': 20780, 'economical': 20781, 'gwangju': 20782, '3800': 20783, '206': 20784, 'tomislav': 20785, 'nikolic': 20786, 'antiwestern': 20787, 'quaha': 20788, 'subspecies': 20789, 'reinhold': 20790, 'rau': 20791, 'nonnuclear': 20792, 'pakitka': 20793, 'thrust': 20794, 'submitting': 20795, 'wash': 20796, 'liturgy': 20797, 'mexicanamerican': 20798, 'disapproved': 20799, 'clamping': 20800, 'coaltion': 20801, 'fourmonthold': 20802, 'murugupillai': 20803, 'jenita': 20804, 'jeyarajah': 20805, 'crested': 20806, 'galam': 20807, 'playground': 20808, 'ghanem': 20809, 'deflecting': 20810, 'nuria': 20811, 'llagostera': 20812, 'vives': 20813, 'fourthseed': 20814, 'aryanto': 20815, 'boedihardjo': 20816, 'aip': 20817, 'hidayat': 20818, 'ciamis': 20819, 'regency': 20820, 'salik': 20821, 'firdaus': 20822, 'misno': 20823, 'lauro': 20824, 'iraqpoverty': 20825, 'savor': 20826, 'martini': 20827, 'chef': 20828, 'rep': 20829, 'dohio': 20830, 'freer': 20831, '558page': 20832, 'clotting': 20833, 'codefendents': 20834, 'alzubeidi': 20835, '6532': 20836, 'hasbrouk': 20837, 'nj': 20838, 'cashflow': 20839, 'debenture': 20840, '158': 20841, '666': 20842, '26956': 20843, 'zalkin': 20844, '608': 20845, '413': 20846, '967': 20847, '809': 20848, 'muscovy': 20849, 'absorb': 20850, 'romanov': 20851, '1682': 20852, '1725': 20853, 'hegemony': 20854, 'lenin': 20855, 'iosif': 20856, 'glasnost': 20857, 'perestroika': 20858, 'semiauthoritarian': 20859, 'buttressed': 20860, 'dislocation': 20861, '1228': 20862, 'barbuda': 20863, 'dualisland': 20864, 'enclavetype': 20865, 'spencer': 20866, 'antiguan': 20867, 'yawning': 20868, 'abject': 20869, 'equaling': 20870, 'gardening': 20871, 'reengagement': 20872, 'mis2009': 20873, 'lime': 20874, 'pitied': 20875, 'bough': 20876, 'fowlingpiece': 20877, 'lookout': 20878, 'famishing': 20879, 'babe': 20880, 'sneered': 20881, 'id': 20882, 'riek': 20883, 'homestead': 20884, 'nyongwa': 20885, 'ankunda': 20886, 'remarked': 20887, 'weakly': 20888, '87magnitude': 20889, 'jolt': 20890, 'fy0809': 20891, 'tartu': 20892, 'decimated': 20893, 'doodipora': 20894, 'azad': 20895, 'baqer': 20896, 'ecumenical': 20897, 'chrysostom': 20898, 'nazianzen': 20899, '1054': 20900, 'sacking': 20901, '1204': 20902, 'salome': 20903, 'zurabishvili': 20904, 'inforamtion': 20905, 'petroleumbased': 20906, 'institutionalizing': 20907, 'squibb': 20908, 'singledose': 20909, 'sustiva': 20910, 'viread': 20911, 'emtriva': 20912, 'replication': 20913, '140kilometers': 20914, 'civiliantocivilian': 20915, 'malaki': 20916, 'untied': 20917, 'bittersweet': 20918, 'concertacion': 20919, 'foxley': 20920, '1824': 20921, 'notari': 20922, 'selfappointed': 20923, 'involuntarily': 20924, 'excavation': 20925, '4000yearold': 20926, 'scribe': 20927, 'motorized': 20928, 'rickshaw': 20929, 'hello': 20930, 'collectivization': 20931, 'foreignrun': 20932, 'bestselling': 20933, 'chronicled': 20934, 'skated': 20935, 'moallem': 20936, 'appalled': 20937, 'barbarism': 20938, 'composition': 20939, 'banbury': 20940, 'seventyfive': 20941, 'lenghty': 20942, 'alhayam': 20943, 'zahri': 20944, 'borroto': 20945, 'contemplating': 20946, 'glittering': 20947, 'gemelli': 20948, '84year': 20949, 'inflammation': 20950, 'minya': 20951, 'unsanitary': 20952, 'simulation': 20953, 'solidifies': 20954, 'oft': 20955, 'oer': 20956, 'descending': 20957, 'mick': 20958, 'jagger': 20959, 'hostessproducer': 20960, 'oprah': 20961, 'winfrey': 20962, 'golfer': 20963, 'consitutional': 20964, 'spearker': 20965, 'reversible': 20966, 'statedesignate': 20967, 'minimally': 20968, 'oneandahalf': 20969, 'embolization': 20970, 'hysterectomy': 20971, 'rowed': 20972, 'alimport': 20973, 'qilla': 20974, 'arrogance': 20975, 'deeprooted': 20976, '654000': 20977, 'inga': 20978, 'marchand': 20979, 'runin': 20980, 'spitting': 20981, 'counseling': 20982, 'manicurist': 20983, 'rapidlygrowing': 20984, 'fixedasset': 20985, 'slightest': 20986, '384': 20987, 'muchmaligned': 20988, 'proeuropean': 20989, 'supremacy': 20990, 'federallymandated': 20991, 'bereavement': 20992, 'h2a': 20993, 'haswa': 20994, 'jib': 20995, 'dial': 20996, 'stefan': 20997, 'mellar': 20998, 'denier': 20999, 'ballpoint': 21000, 'hikmet': 21001, '°c': 21002, 'mashonaland': 21003, 'ambassadordesignate': 21004, 'godfrey': 21005, 'dzvairo': 21006, 'itai': 21007, 'marchi': 21008, 'karidza': 21009, 'tendai': 21010, 'matambanadzo': 21011, 'naad': 21012, 'mangwana': 21013, 'krygyz': 21014, '3point': 21015, 'dubrovka': 21016, 'haden': 21017, 'maclellan': 21018, 'surrey': 21019, 'feniger': 21020, 'xenophobic': 21021, 'combative': 21022, 'lsi': 21023, 'wallachia': 21024, 'moldavia': 21025, 'suzerainty': 21026, '1859': 21027, '1862': 21028, 'transylvania': 21029, 'axis': 21030, 'abdication': 21031, 'nicolae': 21032, 'securitate': 21033, 'concessional': 21034, 'rescheduling': 21035, '3year': 21036, '6040': 21037, '1876': 21038, 'tsarist': 21039, 'onesixth': 21040, 'akaev': 21041, 'otunbaeva': 21042, 'interethnic': 21043, 'lark': 21044, 'uninterred': 21045, 'crest': 21046, 'gravehillock': 21047, 'monstrous': 21048, 'refrained': 21049, 'nonlethal': 21050, 'posthumous': 21051, 'deft': 21052, 'degenerative': 21053, 'bowie': 21054, 'merle': 21055, 'haggard': 21056, 'jessye': 21057, 'twinrotor': 21058, 'wadajir': 21059, 'hodan': 21060, 'reconciling': 21061, 'seacoast': 21062, 'ezzedin': 21063, 'smoldering': 21064, 'parched': 21065, 'smog': 21066, 'sonthi': 21067, 'boonyaratglin': 21068, 'shaima': 21069, 'privatelyrun': 21070, 'char': 21071, 'bowing': 21072, 'alshaer': 21073, 'bombard': 21074, 'booked': 21075, 'fingerprinted': 21076, 'shrunk': 21077, 'citi': 21078, 'maoistcalled': 21079, '7943': 21080, 'fifteenyear': 21081, 'waning': 21082, 'naha': 21083, 'mint': 21084, 'mouknass': 21085, 'conspirator': 21086, 'brig': 21087, 'sexy': 21088, 'pertains': 21089, 'nasty': 21090, 'fsg': 21091, 'spessart': 21092, 'rheinlandpfalz': 21093, 'onesentence': 21094, 'uichun': 21095, 'strutting': 21096, 'catwalk': 21097, 'mellon': 21098, 'siddiqi': 21099, 'quakeravaged': 21100, 'beechcraft': 21101, 'zhulyany': 21102, 'questionandanswer': 21103, 'intoning': 21104, 'mica': 21105, 'adde': 21106, 'slovakian': 21107, 'zsolt': 21108, 'grebe': 21109, 'peregrine': 21110, 'gabcikovo': 21111, 'kohlschreiber': 21112, 'denselypopulated': 21113, 'kayettuli': 21114, 'tightlypacked': 21115, 'gloomier': 21116, 'haris': 21117, 'ehsanul': 21118, 'sadequee': 21119, 'positioning': 21120, 'recentlycompleted': 21121, 'thinktank': 21122, 'bheri': 21123, 'surkhet': 21124, '325member': 21125, 'takirambudde': 21126, 'crossethnic': 21127, 'waterdropping': 21128, 'firefighting': 21129, 'carpentry': 21130, 'kuomintang': 21131, 'hsiao': 21132, 'bikhim': 21133, 'perwiz': 21134, 'stipulated': 21135, 'baribari': 21136, 'alhurra': 21137, 'repel': 21138, 'grammywinning': 21139, 'percussionist': 21140, 'conga': 21141, 'dizzy': 21142, 'gillespie': 21143, 'puente': 21144, 'salsa': 21145, 'celia': 21146, 'fortynine': 21147, 'hopeless': 21148, 'refloating': 21149, 'refloat': 21150, 'fourdaylong': 21151, 'mythical': 21152, 'winding': 21153, 'borg': 21154, 'risky': 21155, 'consulgeneral': 21156, 'farris': 21157, 'redrawing': 21158, 'pierced': 21159, 'assahab': 21160, '25million': 21161, 'europrean': 21162, 'renate': 21163, 'kuenast': 21164, 'coleader': 21165, 'kuhn': 21166, 'batasuna': 21167, 'qinglin': 21168, 'cnnturk': 21169, 'mersin': 21170, 'counterkidnapping': 21171, 'antigang': 21172, 'thatcher': 21173, 'pathe': 21174, 'dj': 21175, 'frears': 21176, 'oscarwinning': 21177, 'mirren': 21178, 'reawakened': 21179, 'acquisitionminded': 21180, 'seattlebased': 21181, '621': 21182, 'outbid': 21183, 'ratner': 21184, 'sweetened': 21185, '87store': 21186, 'nearsubsistence': 21187, 'uppermiddle': 21188, '07aug': 21189, 'tourismrelated': 21190, 'rupee': 21191, 'overvalued': 21192, 'amortizing': 21193, 'eff': 21194, 'erm2': 21195, 'bounce': 21196, 'supplanted': 21197, 'overstaffing': 21198, 'mortgaged': 21199, 'oilbacked': 21200, 'nearterm': 21201, 'specializes': 21202, 'knowledgebased': 21203, 'conformity': 21204, 'qamdo': 21205, 'zerointerest': 21206, 'bern': 21207, 'prized': 21208, 'doubletaxation': 21209, 'behest': 21210, 'accountholders': 21211, 'mururoa': 21212, 'microenterprises': 21213, 'buffeting': 21214, 'reproach': 21215, 'calmness': 21216, 'fury': 21217, '9413': 21218, 'issawiya': 21219, 'criminalizing': 21220, 'tainting': 21221, 'erich': 21222, 'circumventing': 21223, 'rumbek': 21224, 'fidler': 21225, 'cutler': 21226, 'tynychbek': 21227, 'ricegrowing': 21228, 'transferable': 21229, 'tula': 21230, 'escravos': 21231, 'chookiat': 21232, 'ophaswongse': 21233, 'sixthseed': 21234, 'grosjean': 21235, 'danai': 21236, 'udomchoke': 21237, '43rdranked': 21238, 'oudsema': 21239, 'riceproducing': 21240, 'scan': 21241, 'proclaim': 21242, 'accordingly': 21243, 'purification': 21244, 'sunrisetosunset': 21245, 'thirteenth': 21246, 'jailings': 21247, 'batted': 21248, 'shaharyar': 21249, 'cw': 21250, 'moveonorg': 21251, 'inzamamulhaq': 21252, 'jamarat': 21253, 'grueling': 21254, 'ablebodied': 21255, 'communion': 21256, 'wasit': 21257, 'mwesige': 21258, 'shaka': 21259, 'ssali': 21260, 'sutalinov': 21261, 'objectionable': 21262, 'cancelation': 21263, 'herman': 21264, 'rompuy': 21265, 'edinburgh': 21266, 'geight': 21267, 'antimilitary': 21268, 'antinuclear': 21269, 'proreunification': 21270, 'chhattisgarh': 21271, 'raipur': 21272, 'jharkhand': 21273, 'fratto': 21274, 'selloff': 21275, 'halfapercent': 21276, 'dehui': 21277, 'tulsi': 21278, 'giri': 21279, 'mostafavi': 21280, 'jude': 21281, 'josefa': 21282, 'baeza': 21283, 'mexicous': 21284, 'aston': 21285, 'mulally': 21286, 'costreduction': 21287, 'khamis': 21288, 'tawhid': 21289, 'wal': 21290, 'dahab': 21291, '3523': 21292, 'doublecentury': 21293, 'sachin': 21294, 'kartik': 21295, 'secondwicket': 21296, '175run': 21297, 'tallied': 21298, '117ball': 21299, 'brar': 21300, 'shamsbari': 21301, 'slowlyimplemented': 21302, 'bushclinton': 21303, 'wreaked': 21304, 'blockage': 21305, 'antimonopoly': 21306, 'sidakan': 21307, 'sevenpoint': 21308, 'rex': 21309, 'walheim': 21310, 'orbital': 21311, 'outing': 21312, 'sixandahalf': 21313, 'crewmates': 21314, 'exgenerals': 21315, 'leopold': 21316, 'eyharts': 21317, 'plundered': 21318, 'handset': 21319, 'hashimzai': 21320, 'obeyed': 21321, 'twentyfive': 21322, 'nsc': 21323, 'selecting': 21324, 'landuse': 21325, 'explicit': 21326, 'centralleftist': 21327, 'theatergoer': 21328, 'suspense': 21329, 'disturbiaunseated': 21330, 'peeping': 21331, 'labeouf': 21332, 'morse': 21333, 'dreamworks': 21334, 'lebeouf': 21335, 'hualan': 21336, 'satan': 21337, 'interwoven': 21338, 'salif': 21339, 'ousamane': 21340, 'ngom': 21341, 'taraba': 21342, 'suspends': 21343, '10week': 21344, 'encampment': 21345, 'afflicting': 21346, 'imperative': 21347, 'oblivious': 21348, 'destitute': 21349, 'threemeter': 21350, 'postmonsoon': 21351, '135000': 21352, 'supplemental': 21353, 'recounted': 21354, 'rhythmandblues': 21355, 'blueberry': 21356, 'erasmus': 21357, 'kremlincontrolled': 21358, 'longsuffering': 21359, 'avenging': 21360, 'oleksiy': 21361, 'ivchenko': 21362, 'ukrainy': 21363, 'predrag': 21364, 'dulles': 21365, 'omission': 21366, 'muhajer': 21367, 'rostock': 21368, 'heiligendamm': 21369, 'rostok': 21370, 'pigborne': 21371, 'gargash': 21372, 'sift': 21373, 'displaying': 21374, 'bara': 21375, '899': 21376, '1209': 21377, 'nuys': 21378, 'calif': 21379, '132000': 21380, 'realestate': 21381, '3618': 21382, 'communiststyle': 21383, '38th': 21384, 'youngsam': 21385, 'punctuated': 21386, 'bartolomeo': 21387, '1784': 21388, 'gustavia': 21389, 'repurchased': 21390, 'appellation': 21391, 'threecrown': 21392, 'populace': 21393, 'collectivity': 21394, 'hereditary': 21395, 'tenyear': 21396, 'promulgation': 21397, 'plurality': 21398, 'overruled': 21399, 'nepalunited': 21400, 'gridlock': 21401, 'jhala': 21402, 'khanal': 21403, 'indentured': 21404, 'ethnocultural': 21405, 'socialistoriented': 21406, 'cheddi': 21407, 'bharrat': 21408, 'jagdeo': 21409, 'rhodesia': 21410, '1923': 21411, 'spratly': 21412, 'overlap': 21413, 'drygoods': 21414, 'vucelic': 21415, 'mira': 21416, 'markovic': 21417, 'germanybased': 21418, 'trauma': 21419, 'blockbuster': 21420, 'thermopylae': 21421, '480': 21422, 'illegallycopied': 21423, 'trafficlaw': 21424, 'absolve': 21425, 'watchful': 21426, 'ziyang': 21427, 'magnolia': 21428, 'oneman': 21429, 'fatmir': 21430, 'sejdiu': 21431, 'nationsmediated': 21432, 'waseem': 21433, 'sohrab': 21434, 'goth': 21435, 'cartographer': 21436, 'haziri': 21437, 'puntland': 21438, 'interparliamentary': 21439, 'elyor': 21440, 'ganiyev': 21441, 'alvarezes': 21442, 'partyled': 21443, '261': 21444, '543member': 21445, 'kwanzaa': 21446, 'wintery': 21447, 'qader': 21448, 'jassim': 21449, 'sherwan': 21450, 'gaulle': 21451, 'qarabaugh': 21452, 'klerk': 21453, 'aljafaari': 21454, 'commend': 21455, 'torshin': 21456, 'prosecutorgeneral': 21457, 'shepel': 21458, 'highlyenriched': 21459, 'disapproves': 21460, 'gimble': 21461, 'papa': 21462, 'usgerman': 21463, 'conflictrelated': 21464, 'cofinance': 21465, 'mariann': 21466, 'boel': 21467, 'zhenchuan': 21468, 'breaker': 21469, 'hurling': 21470, 'permissible': 21471, 'gvero': 21472, 'transafghan': 21473, '2400kilometer': 21474, 'reenter': 21475, 'usvisit': 21476, 'mocny': 21477, 'greencard': 21478, 'accosted': 21479, 'annemarie': 21480, 'idrac': 21481, 'sustains': 21482, 'afeworki': 21483, 'rethink': 21484, 'carfree': 21485, 'organic': 21486, 'cooky': 21487, 'nasariyah': 21488, 'latte': 21489, 'exbeatle': 21490, 'stilluntitled': 21491, 'featurelength': 21492, 'cobos': 21493, '3636': 21494, 'schudrich': 21495, 'scroll': 21496, 'rabinnical': 21497, 'merbau': 21498, 'undisturbed': 21499, 'antismuggling': 21500, 'iraniansponsored': 21501, 'admhaiyah': 21502, 'almomen': 21503, 'sunniruled': 21504, 'daweiye': 21505, 'heliodoro': 21506, 'reclassify': 21507, 'bloating': 21508, 'dot': 21509, 'riverbank': 21510, 'profiteer': 21511, 'lashkareislam': 21512, 'knu': 21513, 'mostlysunni': 21514, 'ghazaliyah': 21515, 'policing': 21516, 'hovers': 21517, 'chequer': 21518, 'kalamazoo': 21519, 'michbased': 21520, 'maumoon': 21521, 'embark': 21522, 'majlis': 21523, 'sealevel': 21524, 'kmwide': 21525, 'badme': 21526, 'eebc': 21527, 'antiethiopian': 21528, 'immersed': 21529, 'advent': 21530, 'sovietled': 21531, 'expended': 21532, 'mitigating': 21533, 'radicova': 21534, 'fiercer': 21535, 'unto': 21536, 'gasping': 21537, 'growled': 21538, 'majesty': 21539, 'marry': 21540, 'proliferating': 21541, 'ichiro': 21542, 'sinojapanese': 21543, 'doug': 21544, 'pathologically': 21545, 'liar': 21546, '179run': 21547, '343': 21548, 'csongrad': 21549, 'apr46': 21550, '196': 21551, '170meter': 21552, 'abnormally': 21553, 'ratnayke': 21554, 'bruised': 21555, '28member': 21556, 'cosmopolitan': 21557, 'multiculturalism': 21558, 'multisport': 21559, 'etihad': 21560, 'bastille': 21561, 'inalienable': 21562, 'basij': 21563, 'azov': 21564, 'volganeft139': 21565, 'sulfur': 21566, 'cary': 21567, 'porpoise': 21568, 'uscoalition': 21569, 'afghancoalition': 21570, 'tuneup': 21571, 'fallouj': 21572, 'petrodar': 21573, 'conglomerate': 21574, 'arbab': 21575, 'basir': 21576, 'democracybuilding': 21577, 'rajah': 21578, 'zamboanga': 21579, 'largestever': 21580, '80kilometer': 21581, 'inlet': 21582, 'fume': 21583, 'petrechemical': 21584, 'interpreting': 21585, 'taitung': 21586, 'plowing': 21587, 'guardedly': 21588, 'regrettably': 21589, 'channeled': 21590, '555': 21591, 'wisely': 21592, 'krugman': 21593, 'halfmeasures': 21594, 'trichet': 21595, 'boao': 21596, 'mowaffaq': 21597, 'rubaie': 21598, 'phillips': 21599, 'battleground': 21600, 'sinaloa': 21601, '2728': 21602, 'emitted': 21603, 'nosedive': 21604, 'holidayshortened': 21605, 'venezuelabased': 21606, '890': 21607, 'usimposed': 21608, 'popov': 21609, 'poncet': 21610, 'barcode': 21611, 'barcoded': 21612, 'chewing': 21613, 'invalidated': 21614, 'redoing': 21615, 'nail': 21616, '70day': 21617, 'refiling': 21618, 'sacrilegious': 21619, 'majoritymuslim': 21620, 'valdivia': 21621, 'ultrasound': 21622, '1709': 21623, 'unicameral': 21624, 'verkhovna': 21625, 'rada': 21626, 'immobility': 21627, 'rocketpowered': 21628, 'nycz': 21629, 'dreaded': 21630, 'uthai': 21631, 'burying': 21632, 'afghanpakistan': 21633, 'petrovka': 21634, 'bakyt': 21635, 'seitov': 21636, 'ramechhap': 21637, 'trailed': 21638, 'schiavone': 21639, 'kasparov': 21640, 'kasyanov': 21641, 'magnet': 21642, 'disparate': 21643, 'transcends': 21644, 'superseded': 21645, 'highrise': 21646, 'selfnamed': 21647, 'blondhaired': 21648, '04feb': 21649, 'jokhang': 21650, 'gongga': 21651, 'rabdhure': 21652, 'inflate': 21653, 'fourthplace': 21654, 'highflying': 21655, 'stockholder': 21656, '225000': 21657, 'avon': 21658, 'patch': 21659, 'craze': 21660, 'bankruptcylaw': 21661, 'moheli': 21662, 'fomboni': 21663, 'rotates': 21664, 'sambi': 21665, 'bacar': 21666, 'anjouanais': 21667, 'comoran': 21668, 'curia': 21669, 'nonbudgetary': 21670, 'widest': 21671, 'empower': 21672, 'nonindigenous': 21673, 'wavered': 21674, 'tallinn': 21675, 'forefront': 21676, 'outperformed': 21677, 'antinato': 21678, 'boediono': 21679, 'continuity': 21680, 'nearpoor': 21681, 'peatlands': 21682, 'trailblazing': 21683, 'redd': 21684, 'suppose': 21685, 'err': 21686, 'testament': 21687, 'antialliance': 21688, 'interred': 21689, 'nofly': 21690, 'elkheir': 21691, 'terrorizing': 21692, 'morally': 21693, 'landtoship': 21694, 'basing': 21695, 'grigory': 21696, 'bachelor': 21697, 'rewarded': 21698, '93rd': 21699, 'redirected': 21700, 'noncontroversial': 21701, 'redirecting': 21702, 'hack': 21703, 'drummond': 21704, 'pallipat': 21705, 'snack': 21706, '346': 21707, 'unverified': 21708, 'aidsrelated': 21709, 'rizkar': 21710, 'pawn': 21711, 'steadfast': 21712, 'stateradio': 21713, 'covenant': 21714, 'deposited': 21715, 'disbarred': 21716, 'rollout': 21717, 'hennes': 21718, 'mauritz': 21719, 'ab': 21720, 'purse': 21721, 'risque': 21722, 'conical': 21723, 'bra': 21724, 'stockholmbased': 21725, 'fellowship': 21726, 'reliability': 21727, 'honda': 21728, 'nonfarm': 21729, 'taxrelief': 21730, 'bombsniffing': 21731, 'nearcontinuous': 21732, 'sherry': 21733, 'fining': 21734, 'usborn': 21735, 'washingtonarea': 21736, 'goddess': 21737, 'rainswollen': 21738, 'hacksaw': 21739, 'muse': 21740, '4600': 21741, '7620': 21742, '777': 21743, 'kochi': 21744, 'baziv': 21745, 'faceoff': 21746, 'slauta': 21747, 'kharkiv': 21748, 'yevhen': 21749, 'kushnaryov': 21750, 'rousing': 21751, 'ryzhkov': 21752, 'yevgeny': 21753, 'primakov': 21754, 'phan': 21755, 'khai': 21756, 'tran': 21757, '218000': 21758, '172000': 21759, 'giustra': 21760, 'smalland': 21761, 'selfsustainable': 21762, '217000': 21763, 'osterholm': 21764, 'worstcase': 21765, 'katsuya': 21766, 'okada': 21767, 'naoto': 21768, 'kan': 21769, 'laurence': 21770, 'boring': 21771, 'literally': 21772, 'connick': 21773, 'chao': 21774, 'congratuatlions': 21775, 'poshterud': 21776, 'artemisinin': 21777, 'bala': 21778, 'boluk': 21779, '950000': 21780, 'midestern': 21781, 'newport': 21782, 'hydroxide': 21783, 'revers': 21784, 'definitely': 21785, 'falciparum': 21786, 'plastered': 21787, 'baathists': 21788, 'reignite': 21789, 'mosquitoborn': 21790, 'sui': 21791, 'nawab': 21792, 'almaliky': 21793, 'jaghato': 21794, 'nahim': 21795, 'malawian': 21796, 'willy': 21797, 'mwaluka': 21798, 'artisan': 21799, 'hotspot': 21800, 'adijon': 21801, 'tendering': 21802, '993': 21803, 'taaf': 21804, 'crozet': 21805, 'saintpaul': 21806, 'fauna': 21807, 'adelie': 21808, 'slice': 21809, 'mutharikas': 21810, 'exhibited': 21811, 'goodall': 21812, 'gondwe': 21813, 'oresund': 21814, 'denmarksweden': 21815, 'bosporus': 21816, 'moroccospain': 21817, 'seaway': 21818, 'canadaus': 21819, 'jomo': 21820, 'toroitich': 21821, 'multiethnic': 21822, 'rainbow': 21823, 'uhuru': 21824, 'conciliatory': 21825, 'israelioccupied': 21826, 'odm': 21827, 'eliminates': 21828, 'willis': 21829, 'islet': 21830, 'beacon': 21831, 'gladly': 21832, 'nay': 21833, 'wallow': 21834, 'converged': 21835, 'owning': 21836, 'jeungsan': 21837, 'dhi': 21838, 'nautical': 21839, 'listen': 21840, '7115': 21841, '9885': 21842, '11705': 21843, '11725': 21844, 'voanewscom': 21845, '1024': 21846, '1046': 21847, 'depressing': 21848, 'argentinean': 21849, 'angie': 21850, 'sanclemente': 21851, 'valenica': 21852, 'airat': 21853, '14year': 21854, 'haesung': 21855, 'panmunjom': 21856, 'meadowbrook': 21857, 'ozlam': 21858, 'sanabel': 21859, 'obsessed': 21860, 'alexeyenko': 21861, 'ordnance': 21862, 'swiergosz': 21863, 'vaguely': 21864, 'fortinet': 21865, 'irawaddy': 21866, 'valery': 21867, 'sitnikov': 21868, 'enacts': 21869, 'fitzpatrick': 21870, 'habbaniya': 21871, 'twodegrees': 21872, 'halfadegree': 21873, 'benghazi': 21874, 'twopointseven': 21875, 'heightening': 21876, 'thae': 21877, 'bok': 21878, 'geoservices': 21879, 'chineselanguage': 21880, 'mandarin': 21881, 'tuo': 21882, 'bpa': 21883, 'ilhami': 21884, 'gafir': 21885, 'abdelkader': 21886, 'alnimnim': 21887, 'palestinianruled': 21888, 'talangama': 21889, 'protamil': 21890, 'eightnation': 21891, 'shuai': 21892, 'stosur': 21893, 'arthur': 21894, '1850s': 21895, 'disrespectful': 21896, 'dissipated': 21897, 'tookie': 21898, 'inspirational': 21899, 'playmaker': 21900, 'exportimport': 21901, 'wrecking': 21902, 'tradein': 21903, 'fulayfill': 21904, 'geyer': 21905, 'cavalry': 21906, 'nearempty': 21907, 'jeb': 21908, 'rené': 21909, 'sanderson': 21910, 'rony': 21911, 'trooper': 21912, 'sese': 21913, 'seko': 21914, 'shajoy': 21915, 'insurgenthit': 21916, 'jesper': 21917, 'helsoe': 21918, 'feyzabad': 21919, 'yazdi': 21920, 'mahendranagar': 21921, 'bager': 21922, 'uspi': 21923, 'onemetertall': 21924, 'lntelligence': 21925, 'altcantara': 21926, 'vsv30': 21927, 'voto': 21928, 'bernales': 21929, 'likening': 21930, 'practitioner': 21931, 'tarnish': 21932, 'detractor': 21933, 'illwishers': 21934, 'paralympics': 21935, '16stop': 21936, 'chrome': 21937, 'oversized': 21938, 'velocity': 21939, 'v150': 21940, 'streaked': 21941, '515': 21942, '581': 21943, 'levitates': 21944, 'alstom': 21945, 'horsepower': 21946, '786': 21947, 'burnedout': 21948, 'alleviation': 21949, 'citibank': 21950, 'bankfunded': 21951, '295': 21952, 'wardamaged': 21953, 'weightloss': 21954, 'mayo': 21955, '\\x91': 21956, '\\x92': 21957, 'unsupervised': 21958, 'decathlon': 21959, 'limping': 21960, 'mccloud': 21961, 'alani': 21962, 'trevor': 21963, 'jianchao': 21964, 'lounderma': 21965, 'unnerve': 21966, 'hanun': 21967, 'spoiled': 21968, 'cristobal': 21969, 'casas': 21970, 'uribana': 21971, 'maskwearing': 21972, 'panzhihua': 21973, 'titfortat': 21974, 'gaspard': 21975, 'bulldozing': 21976, 'nyange': 21977, 'schooled': 21978, '492': 21979, '455': 21980, 'cutthroat': 21981, '1767': 21982, '1790': 21983, 'outmigration': 21984, '233': 21985, 'cemented': 21986, 'melanesian': 21987, 'melanesians': 21988, 'indofijian': 21989, 'civilianled': 21990, 'laisenia': 21991, 'commodore': 21992, 'voreqe': 21993, 'islamicoriented': 21994, 'faminerelated': 21995, 'sprang': 21996, 'snatch': 21997, 'brawny': 21998, 'refrigerator': 21999, 'doorbell': 22000, 'pinkung': 22001, 'elsibaie': 22002, 'moustafa': 22003, 'overinterpreted': 22004, 'yafei': 22005, 'googlebased': 22006, 'condone': 22007, 'amil': 22008, 'aladamiya': 22009, 'andré': 22010, 'nesnera': 22011, 'korea\\x92s': 22012, 'pectoral': 22013, 'booed': 22014, 'domachowska': 22015, 'twometer': 22016, 'berm': 22017, 'surfboard': 22018, 'emphasize': 22019, 'swell': 22020, 'posse': 22021, 'gholamhossein': 22022, 'convenient': 22023, 'theoretical': 22024, 'daimler': 22025, 'desi': 22026, 'varanasi': 22027, 'meerut': 22028, 'endeavourhas': 22029, 'undocked': 22030, 'exterior': 22031, 'threeperson': 22032, 'hatch': 22033, 'recycling': 22034, 'dollardenominated': 22035, 'expectant': 22036, 'umbilical': 22037, 'suna': 22038, 'afewerki': 22039, '7000strong': 22040, 'ontario': 22041, 'rebellinked': 22042, 'wornout': 22043, 'coastguard': 22044, 'spyros': 22045, 'kristina': 22046, 'marit': 22047, 'bjoergen': 22048, 'hilde': 22049, 'pedersen': 22050, 'stateapproved': 22051, 'statemonitored': 22052, 'speedskating': 22053, 'ebrahim': 22054, 'thirdcountry': 22055, 'multitarget': 22056, 'supersedes': 22057, 'defer': 22058, 'overlook': 22059, 'asiaafrica': 22060, 'calculation': 22061, 'postcastro': 22062, 'characterization': 22063, 'cynical': 22064, '880': 22065, 'azzedine': 22066, 'belkadi': 22067, 'pakistaniowned': 22068, 'kerimli': 22069, 'pflp': 22070, 'saadat': 22071, 'rehavam': 22072, 'zeevi': 22073, 'splattered': 22074, 'pettigrew': 22075, 'bowling': 22076, 'rolando': 22077, 'otoniel': 22078, 'guevara': 22079, 'samahdna': 22080, 'libertador': 22081, 'ohiggins': 22082, 'valparaiso': 22083, '88magnitude': 22084, 'intelcenter': 22085, 'heeding': 22086, 'newlyenergized': 22087, 'thenjustice': 22088, 'kiraitu': 22089, 'angloleasing': 22090, '1600kilometer': 22091, 'milliondollar': 22092, 'payday': 22093, 'divine': 22094, 'summed': 22095, 'barbecue': 22096, 'bulandshahr': 22097, 'elleil': 22098, '454member': 22099, 'lambeth': 22100, 'misappropriation': 22101, 'patientspecific': 22102, 'khori': 22103, '4480': 22104, 'lauberhorn': 22105, '3054': 22106, 'alley': 22107, 'bib': 22108, '706': 22109, '589': 22110, 'evenodd': 22111, 'rittipakdee': 22112, 'unvetted': 22113, 'yuanmu': 22114, 'overpopulation': 22115, 'sixtysix': 22116, 'delegitimize': 22117, '45000person': 22118, 'amrullah': 22119, 'militaristic': 22120, 'motoyasu': 22121, 'candlelit': 22122, 'itahari': 22123, 'astonished': 22124, 'hongyao': 22125, 'arafura': 22126, 'merauke': 22127, 'headcountcontrol': 22128, 'gelles': 22129, 'wertheim': 22130, 'schroder': 22131, '875': 22132, '38875': 22133, 'shareholderrights': 22134, 'costcontrol': 22135, 'igad': 22136, 'staffreduction': 22137, 'trimmed': 22138, 'kubilius': 22139, '179': 22140, 'eskom': 22141, 'necessitating': 22142, 'loadshedding': 22143, 'empowerment': 22144, 'guano': 22145, 'navassa': 22146, 'rested': 22147, '1811': 22148, '35year': 22149, 'stroessner': 22150, 'omra': 22151, 'norseman': 22152, 'boru': 22153, '1014': 22154, 'angloirish': 22155, 'trotted': 22156, 'scudded': 22157, 'optimist': 22158, 'pessimist': 22159, '13857': 22160, '22772': 22161, '10741': 22162, '10725': 22163, 'loder': 22164, 'misdemeanor': 22165, 'sobriety': 22166, 'uturn': 22167, 'misdmeanor': 22168, 'keifer': 22169, 'hui': 22170, 'metropolis': 22171, 'baishiyao': 22172, 'feminism': 22173, 'psychology': 22174, 'housewife': 22175, 'unfulfilled': 22176, 'abdouramane': 22177, 'conviasa': 22178, 'thirtysix': 22179, 'sidor': 22180, 'margarita': 22181, 'usorganized': 22182, 'yvon': 22183, 'neptune': 22184, 'jocelerme': 22185, 'privert': 22186, 'protestors': 22187, 'naryn': 22188, 'dutchshell': 22189, 'pour': 22190, 'onshore': 22191, 'changbei': 22192, 'petrochina': 22193, 'unreleased': 22194, 'pneumonic': 22195, 'footandmouth': 22196, 'tawilla': 22197, 'widens': 22198, 'firsttrimester': 22199, 'incest': 22200, 'addington': 22201, 'hannah': 22202, 'utor': 22203, 'whipping': 22204, 'huddled': 22205, 'sludge': 22206, 'walayo': 22207, 'hepatitis': 22208, 'cubanengineered': 22209, 'iraniancuban': 22210, 'cerda': 22211, 'belkhadem': 22212, 'ugalde': 22213, '24year': 22214, 'milky': 22215, 'magellanic': 22216, 'fragmentary': 22217, 'parnaz': 22218, 'haleh': 22219, 'esfandiari': 22220, 'woodrow': 22221, 'kian': 22222, 'tajbakhsh': 22223, 'conflictresolution': 22224, 'malibu': 22225, 'concentrating': 22226, 'ohlmert': 22227, 'qasr': 22228, 'uncomplicated': 22229, 'patu': 22230, 'extolling': 22231, 'eightyeight': 22232, 'addiyar': 22233, 'quakezone': 22234, 'nourished': 22235, 'winemaking': 22236, 'sonoma': 22237, 'receded': 22238, 'rained': 22239, 'shieh': 22240, 'jhywey': 22241, 'tu': 22242, 'chengsheng': 22243, 'shubian': 22244, 'ezzedine': 22245, 'alqassem': 22246, 'contemplate': 22247, '11year': 22248, 'prithviii': 22249, '500kilogram': 22250, 'aggravate': 22251, 'idriz': 22252, 'balaj': 22253, 'lahi': 22254, 'brahimaj': 22255, 'pune': 22256, '134503': 22257, '816': 22258, 'mixedrace': 22259, 'misquoted': 22260, '71person': 22261, '603': 22262, 'tidjane': 22263, 'thiam': 22264, 'exiting': 22265, 'atrisk': 22266, 'recife': 22267, 'gabgbo': 22268, 'matteo': 22269, 'duran': 22270, '850000': 22271, 'ferrerowalder': 22272, 'brendan': 22273, '20850': 22274, 'kosuke': 22275, 'kitajima': 22276, '20751': 22277, 'omaha': 22278, '21137': 22279, '400meter': 22280, 'medley': 22281, 'katie': 22282, 'hoff': 22283, 'freestyle': 22284, 'regent': 22285, '31500': 22286, 'squaremeter': 22287, 'verez': 22288, 'bencomo': 22289, 'thembanyathi': 22290, 'demirbag': 22291, 'forgave': 22292, 'bette': 22293, 'caesar': 22294, 'hotelcasino': 22295, 'bawdy': 22296, 'fivenightaweek': 22297, 'frenchcanadian': 22298, '4100seat': 22299, 'showperyear': 22300, 'meglen': 22301, 'probable': 22302, 'cher': 22303, '10yearsago': 22304, '545': 22305, 'reduces': 22306, 'ambient': 22307, 'racer': 22308, 'experimenting': 22309, 'underage': 22310, 'underfed': 22311, 'johnny': 22312, 'unpremeditated': 22313, 'garbage': 22314, 'akhrorkhodzha': 22315, 'tolipkhodzhayev': 22316, 'militantappointed': 22317, 'offline': 22318, 'talibanappointed': 22319, 'denialofservice': 22320, 'tearfully': 22321, 'doaba': 22322, 'hangu': 22323, 'klaus': 22324, 'toepfer': 22325, 'riverside': 22326, '377': 22327, 'mushtaq': 22328, 'bechuanaland': 22329, '1895': 22330, 'reverted': 22331, 'democratized': 22332, 'watermelon': 22333, 'quarry': 22334, 'subsuming': 22335, 'legislated': 22336, 'reasoning': 22337, 'overgrazing': 22338, 'linen': 22339, 'travelling': 22340, 'superb': 22341, 'unconcern': 22342, 'contemptuously': 22343, 'bark': 22344, 'birchtree': 22345, 'gump': 22346, 'overheard': 22347, 'pie': 22348, 'disbursed': 22349, 'akitaka': 22350, 'hammering': 22351, 'transsaharan': 22352, 'creatively': 22353, 'k4': 22354, 'vforvictory': 22355, 'tankbuster': 22356, 'kheyal': 22357, 'baaz': 22358, 'gardez': 22359, 'cantarell': 22360, 'antinarcotic': 22361, 'antipoppy': 22362, 'alilayan': 22363, 'duda': 22364, 'mendonca': 22365, '12story': 22366, 'crumbled': 22367, 'inferior': 22368, 'correcting': 22369, 'dengue': 22370, 'larva': 22371, 'breed': 22372, 'opiumbased': 22373, 'jongnam': 22374, 'jongchul': 22375, 'jongwoon': 22376, '626': 22377, 'nzerekore': 22378, 'yentai': 22379, 'bhaikaji': 22380, 'ghimire': 22381, 'prostitute': 22382, 'handicap': 22383, 'lebanesesyrian': 22384, 'pioneering': 22385, 'lagham': 22386, 'chaudry': 22387, 'sebastiao': 22388, 'veloso': 22389, 'abdali': 22390, 'powder': 22391, 'keg': 22392, 'servicmen': 22393, 'jennings': 22394, '88000': 22395, '8100': 22396, 'borrows': 22397, 'cuomo': 22398, 'wemple': 22399, 'stoffel': 22400, 'clarified': 22401, 'kerem': 22402, 'yaracuy': 22403, 'lapi': 22404, 'carabobo': 22405, 'henrique': 22406, 'salas': 22407, 'jailbreak': 22408, 'banghazi': 22409, 'unbeatable': 22410, 'abdi': 22411, 'dagoberto': 22412, 'swirled': 22413, '8200': 22414, 'privatelyheld': 22415, 'narrowing': 22416, 'redistributed': 22417, 'witchhunting': 22418, 'discriminate': 22419, 'muthaura': 22420, 'kospi': 22421, 'interestrate': 22422, 'housingloan': 22423, 'noureddine': 22424, 'sibghatullah': 22425, 'hilario': 22426, 'davide': 22427, 'alluded': 22428, 'psychiatrist': 22429, 'carreno': 22430, 'altalhi': 22431, 'sughayr': 22432, 'alaziz': 22433, 'alkhashiban': 22434, 'frantic': 22435, 'chosun': 22436, 'kuduna': 22437, 'cough': 22438, 'lubroth': 22439, '645': 22440, 'collateral': 22441, 'actorcomedian': 22442, 'demise': 22443, 'awe': 22444, 'woldemichael': 22445, 'meshesha': 22446, 'ozcan': 22447, 'disrupts': 22448, 'aena': 22449, 'belching': 22450, 'onandoff': 22451, 'abrasive': 22452, 'minarepakistan': 22453, 'yongbyong': 22454, 'temptation': 22455, 'dropin': 22456, 'parachute': 22457, 'zydeco': 22458, 'cajun': 22459, 'okie': 22460, 'dokie': 22461, 'stomp': 22462, 'dandy': 22463, 'zaw': 22464, 'recentlydisbanded': 22465, 'masud': 22466, 'mirkazemi': 22467, 'murshidabad': 22468, 'obeid': 22469, 'greatness': 22470, 'bullring': 22471, 'theofilos': 22472, 'malenchenko': 22473, 'kula': 22474, 'under20': 22475, 'babel': 22476, 'psv': 22477, 'afellay': 22478, 'sota': 22479, 'hirayama': 22480, '68th': 22481, 'omotoyossi': 22482, '32nd': 22483, '59th': 22484, '5th': 22485, 'thuggish': 22486, 'fitch': 22487, 'aa': 22488, 'bbb': 22489, 'shidiac': 22490, 'lbc': 22491, 'prejudging': 22492, 'configuring': 22493, 'longestheld': 22494, 'brining': 22495, 'eloy': 22496, 'designate': 22497, 'talbak': 22498, 'nazarov': 22499, 'rakhmonov': 22500, 'purina': 22501, '849': 22502, '4225': 22503, '644': 22504, '3878': 22505, '563': 22506, '702': 22507, 'phaseout': 22508, 'greenville': 22509, 'nc': 22510, 'cincinnati': 22511, 'eveready': 22512, '805': 22513, '1494': 22514, '1655': 22515, 'mohmmed': 22516, 'republiccentral': 22517, '461': 22518, 'countercyclical': 22519, 'distortion': 22520, 'rigidity': 22521, 'privatesectorled': 22522, 'investmentgrade': 22523, 'fended': 22524, 'decaying': 22525, 'neglected': 22526, 'kazakhstani': 22527, 'tenge': 22528, 'lucayan': 22529, '1647': 22530, 'inca': 22531, '1717': 22532, 'flatnosed': 22533, 'hairless': 22534, 'illfeatured': 22535, 'laugh': 22536, 'dearest': 22537, 'additive': 22538, 'blockbyblock': 22539, 'recede': 22540, '828kilometer': 22541, 'jixinehe': 22542, 'floruan': 22543, 'barbey': 22544, 'fataki': 22545, 'pradip': 22546, 'carmo': 22547, 'fernandes': 22548, 'deandre': 22549, 'itunes': 22550, 'jayz': 22551, 'globalized': 22552, 'pinpoint': 22553, '521': 22554, '229': 22555, 'abductee': 22556, 'admited': 22557, 'shanghaibound': 22558, 'contrite': 22559, 'funk': 22560, 'khayrat': 22561, 'elshater': 22562, 'linguist': 22563, 'theoneste': 22564, 'crj200s': 22565, 'giordani': 22566, 'communistled': 22567, 'recoverable': 22568, 'azeglio': 22569, 'ciampi': 22570, 'prestige': 22571, '264': 22572, 'inhumanely': 22573, '583000': 22574, 'aaron': 22575, 'galindo': 22576, 'nandrolone': 22577, 'somebody': 22578, 'fiber': 22579, 'rebirth': 22580, 'unwavering': 22581, 'arinze': 22582, 'easterly': 22583, 'lawyeractivist': 22584, 'aktham': 22585, 'ennals': 22586, 'hatching': 22587, 'naise': 22588, 'embodied': 22589, 'bussereau': 22590, 'perfectly': 22591, 'properlycooked': 22592, 'plummet': 22593, 'jp': 22594, 'owneroccupied': 22595, 'finalizes': 22596, 'barney': 22597, '1275': 22598, 'disseminating': 22599, 'multiplatinum': 22600, 'rb': 22601, 'stylist': 22602, 'tameka': 22603, '311': 22604, 'carme': 22605, '01feb': 22606, 'yoadimadji': 22607, 'silicon': 22608, 'englishspeaking': 22609, 'outsourcing': 22610, 'numbering': 22611, 'capua': 22612, 'shihchien': 22613, 'wahid': 22614, 'golo': 22615, 'rebelcontrolled': 22616, 'moun': 22617, 'afghanbased': 22618, '6525': 22619, 'omari': 22620, '73276': 22621, '57600': 22622, 'sociology': 22623, 'razumkov': 22624, 'moscowleaning': 22625, 'zadar': 22626, 'zabihullah': 22627, 'mujahed': 22628, 'naxalites': 22629, 'burmeserun': 22630, 'exemplifies': 22631, 'welcometousagov': 22632, 'interagency': 22633, 'leaner': 22634, 'trimming': 22635, 'underreporting': 22636, 'europeanafrican': 22637, 'moratinos': 22638, 'kiran': 22639, 'inheritance': 22640, 'magnificent': 22641, 'breadth': 22642, 'acuteness': 22643, 'crumbling': 22644, 'granddaughter': 22645, 'anita': 22646, 'genocidal': 22647, 'embera': 22648, 'proalqaida': 22649, 'blend': 22650, 'norfolk': 22651, 'receptive': 22652, 'multiply': 22653, 'auditorium': 22654, 'decontaminating': 22655, 'boone': 22656, 'oilman': 22657, 'reno': 22658, 'thendemocratic': 22659, 'laser': 22660, 'sadrists': 22661, 'loach': 22662, 'palme': 22663, 'dor': 22664, 'flanders': 22665, 'inarritu': 22666, 'volver': 22667, 'collectively': 22668, 'longdominant': 22669, 'narino': 22670, 'cao': 22671, 'gangchuan': 22672, 'butheetaung': 22673, 'hulk': 22674, 'supra': 22675, 'extricated': 22676, 'bayfront': 22677, 'alrawi': 22678, 'aljibouri': 22679, 'champ': 22680, 'johann': 22681, 'kos': 22682, 'hidalgo': 22683, 'heriberto': 22684, 'lazcano': 22685, 'retaken': 22686, 'primitive': 22687, 'lifebearing': 22688, 'caroline': 22689, 'tutsidominated': 22690, 'pastured': 22691, 'guileful': 22692, 'feasted': 22693, '4153237': 22694, 'bentegeat': 22695, 'dutchbased': 22696, 'granville': 22697, 'rahama': 22698, 'confessing': 22699, 'ireju': 22700, 'bares': 22701, 'furious': 22702, '122': 22703, 'ageold': 22704, 'messaging': 22705, 'dalailama': 22706, 'evan': 22707, 'floundering': 22708, 'khartoumbased': 22709, 'kyegwan': 22710, 'exmexican': 22711, 'script': 22712, 'xijing': 22713, 'eyebrow': 22714, '14hour': 22715, 'recluse': 22716, 'disfigurement': 22717, 'tirelessly': 22718, 'denuclearize': 22719, 'gianfranco': 22720, 'bezoti': 22721, 'marshburn': 22722, '6hour': 22723, '53minute': 22724, '40th': 22725, '55hour': 22726, '10million': 22727, 'finetuning': 22728, 'athome': 22729, 'macchiavello': 22730, 'overthrowing': 22731, 'maud': 22732, '64page': 22733, 'chastelain': 22734, 'unitary': 22735, 'borys': 22736, '247': 22737, 'lutsenko': 22738, 'tsushko': 22739, 'staunchest': 22740, 'despises': 22741, 'soap': 22742, '982': 22743, 'vovk': 22744, 'rs12m': 22745, 'kapustin': 22746, 'yar': 22747, 'lenten': 22748, 'grassland': 22749, 'demostrators': 22750, 'activistjournalist': 22751, 'evgeny': 22752, 'plushenko': 22753, 'sokolova': 22754, 'viktoria': 22755, 'volchkova': 22756, 'navka': 22757, 'kostomarov': 22758, 'biodiesel': 22759, 'greener': 22760, 'equalize': 22761, 'sixthlargest': 22762, 'shota': 22763, 'utiashvili': 22764, 'abkhazcontrolled': 22765, 'poti': 22766, 'antic': 22767, 'widelypublicized': 22768, 'gcapp': 22769, 'wooten': 22770, 'raleigh': 22771, 'manchin': 22772, 'gazette': 22773, 'sago': 22774, 'fractious': 22775, 'define': 22776, 'euromediterranean': 22777, '09nov': 22778, 'marker': 22779, 'estonian': 22780, 'ruutel': 22781, 'andrus': 22782, 'juhan': 22783, 'andriy': 22784, 'shevchenko': 22785, 'sovietsponsored': 22786, 'balking': 22787, 'lightlypopulated': 22788, 'qeshm': 22789, 'unhitches': 22790, 'threestage': 22791, 'friendlyfire': 22792, 'unintentional': 22793, 'demonized': 22794, 'molded': 22795, 'exyukos': 22796, 'managerial': 22797, 'plouffe': 22798, 'misallocation': 22799, 'renegotiate': 22800, 'militaryrelated': 22801, 'wmd': 22802, 'rocketlaunching': 22803, 'adhamiyah': 22804, 'waziriyah': 22805, 'muscular': 22806, 'shafi': 22807, 'vahiuddin': 22808, 'inward': 22809, 'previouslyscheduled': 22810, 'bandage': 22811, 'quarteronquarter': 22812, 'retreating': 22813, 'fortyone': 22814, 'fourpoint': 22815, 'dissipate': 22816, 'coppola': 22817, 'limon': 22818, 'lawmakerselect': 22819, 'servicesbased': 22820, 'sirisia': 22821, 'warlike': 22822, 'sabaot': 22823, 'heavyhanded': 22824, 'yisrael': 22825, 'beitenu': 22826, 'goverment': 22827, 'calf': 22828, '51000': 22829, 'displeased': 22830, 'newfoundland': 22831, '12348': 22832, 'sq': 22833, 'cashew': 22834, 'haunch': 22835, 'mutton': 22836, 'kernel': 22837, 'senegalesebacked': 22838, 'undp': 22839, 'factionridden': 22840, 'dahomey': 22841, 'clamor': 22842, 'eu25': 22843, 'cumulative': 22844, 'imfeuworld': 22845, 'bankarranged': 22846, 'nigh': 22847, 'squid': 22848, 'furnish': 22849, 'selffinancing': 22850, '200mile': 22851, 'dampen': 22852, 'abated': 22853, 'perch': 22854, 'entangled': 22855, 'fleece': 22856, 'fluttered': 22857, 'clipped': 22858, 'woodcutter': 22859, 'expedient': 22860, 'importunity': 22861, 'cheerfully': 22862, 'toothless': 22863, 'clawless': 22864, 'woodman': 22865, 'repent': 22866, 'aisle': 22867, 'messed': 22868, 'crapping': 22869, 'semi': 22870, 'tayr': 22871, 'filsi': 22872, '18wheeler': 22873, 'solemly': 22874, 'obsolete': 22875, 'shalikashvili': 22876, 'tacitly': 22877, 'cardboard': 22878, 'deliberating': 22879, 'savo': 22880, 'comprehend': 22881, 'distracted': 22882, 'trumped': 22883, 'balikesir': 22884, 'antoin': 22885, 'dom': 22886, 'tutankhamun': 22887, 'skyline': 22888, 'britishsponsored': 22889, 'demerit': 22890, 'misused': 22891, 'fourtime': 22892, 'blanked': 22893, 'emmen': 22894, 'underage20': 22895, 'otalvaro': 22896, '52nd': 22897, 'lionel': 22898, 'messi': 22899, 'doetinchem': 22900, 'taye': 22901, 'taiwo': 22902, '80thminute': 22903, 'kolesnikov': 22904, '331': 22905, 'wirajuda': 22906, 'canadianborn': 22907, 'sassi': 22908, '347': 22909, '2027': 22910, 'oviedo': 22911, '7385': 22912, 'norbert': 22913, 'lammert': 22914, 'girona': 22915, 'bigot': 22916, 'apure': 22917, '2200kilometer': 22918, 'catalonians': 22919, 'rocio': 22920, 'esteban': 22921, 'thirtythree': 22922, 'cooperativa': 22923, 'boniface': 22924, 'localized': 22925, 'aftenposten': 22926, 'terrorismrelated': 22927, 'noneducational': 22928, 'proliferate': 22929, 'regina': 22930, 'hansjakob': 22931, 'reichenm': 22932, 'reassurance': 22933, 'infomation': 22934, '304569': 22935, 'mohean': 22936, 'nodar': 22937, 'khashba': 22938, 'voided': 22939, 'gali': 22940, 'kharj': 22941, 'majmaah': 22942, 'assorted': 22943, 'rodon': 22944, 'nonnatives': 22945, 'hargeisa': 22946, 'maigao': 22947, 'paksitan': 22948, '1718': 22949, 'safta': 22950, 'naysayer': 22951, 'cynic': 22952, 'strenuously': 22953, 'democratcontrolled': 22954, 'balancing': 22955, 'counterproliferation': 22956, 'disturbingly': 22957, 'antiflu': 22958, 'merajudeen': 22959, 'threeparty': 22960, 'russianiranian': 22961, 'squander': 22962, 'gripped': 22963, 'hurry': 22964, '50th': 22965, 'ysidro': 22966, 'diameter': 22967, 'sinuiju': 22968, 'portman': 22969, 'thinktanks': 22970, 'iis': 22971, 'tipping': 22972, 'badaun': 22973, 'organiation': 22974, 'shahawar': 22975, 'matin': 22976, 'brooklyn': 22977, 'stoked': 22978, 'impress': 22979, '37million': 22980, 'scud': 22981, 'showering': 22982, 'thankful': 22983, 'bradford': 22984, 'ernst': 22985, 'disburses': 22986, 'kasami': 22987, 'shabebarat': 22988, '1621': 22989, 'sophistication': 22990, 'cpsc': 22991, 'darfuri': 22992, 'eissa': 22993, 'alghazal': 22994, 'tandem': 22995, 'jebaliya': 22996, 'podemos': 22997, 'akylbek': 22998, 'ricans': 22999, 'popularlyelected': 23000, 'plebiscite': 23001, 'guei': 23002, 'blatantly': 23003, 'disaffected': 23004, 'linasmarcoussis': 23005, 'guillaume': 23006, 'ouagadougou': 23007, 'reintegration': 23008, 'dramane': 23009, '6month': 23010, 'pleasant': 23011, 'highvalueadded': 23012, 'nonpolluting': 23013, 'thrives': 23014, 'computerized': 23015, 'tamperproof': 23016, 'biometric': 23017, 'reassert': 23018, 'optician': 23019, 'munificent': 23020, 'patronage': 23021, 'kangaroo': 23022, 'awkwardly': 23023, 'pouch': 23024, 'desirous': 23025, 'deceitful': 23026, 'insupportable': 23027, 'cheerless': 23028, 'unappreciated': 23029, 'implored': 23030, 'endow': 23031, 'resentment': 23032, 'fulness': 23033, 'thereof': 23034, 'incaudate': 23035, 'chin': 23036, 'gratification': 23037, '650million': 23038, 'charon': 23039, 'geology': 23040, 'kuiper': 23041, 'plutolike': 23042, 'payenda': 23043, 'guerrillastyle': 23044, 'rocketed': 23045, 'subverting': 23046, 'mahamadou': 23047, 'issoufou': 23048, 'sarturday': 23049, 'hassas': 23050, 'checkpost': 23051, 'khela': 23052, 'barbershop': 23053, 'jabber': 23054, 'belgaum': 23055, 'mohamuud': 23056, 'musse': 23057, 'gurage': 23058, 'dastardly': 23059, 'responsibilty': 23060, 'ossetian': 23061, 'katsina': 23062, 'mazda': 23063, 'outsold': 23064, 'volkswagen': 23065, 'agadez': 23066, 'mnj': 23067, 'snowcrusted': 23068, 'immobilized': 23069, 'deathrow': 23070, 'siding': 23071, 'sixtothree': 23072, 'antonin': 23073, 'scalia': 23074, 'hermogenes': 23075, 'esperon': 23076, 'dulmatin': 23077, 'patek': 23078, 'suspiciously': 23079, 'behaving': 23080, 'coverup': 23081, 'stopper': 23082, 'evin': 23083, 'cob': 23084, 'recognizable': 23085, 'monsanto': 23086, 'frattini': 23087, 'colllins': 23088, 'strangely': 23089, 'ineffectively': 23090, 'galveston': 23091, 'aurangabad': 23092, 'berrones': 23093, '57000': 23094, 'handkerchief': 23095, 'dazzled': 23096, 'restless': 23097, 'sunda': 23098, 'encircling': 23099, 'valdegrace': 23100, 'gaule': 23101, 'aldabaan': 23102, '28point': 23103, 'baalbek': 23104, 'ural': 23105, 'distorted': 23106, 'proamerican': 23107, 'unbiased': 23108, 'costsharing': 23109, '9percent': 23110, '32500': 23111, 'migrate': 23112, 'roshan': 23113, '35058': 23114, '7126': 23115, 'pepsi': 23116, 'indra': 23117, 'madras': 23118, 'undergraduate': 23119, 'yale': 23120, 'skillfully': 23121, 'jordanbased': 23122, 'congregate': 23123, '17thcentury': 23124, 'masjid': 23125, 'forgiving': 23126, 'piotr': 23127, 'stanczak': 23128, 'geofizyka': 23129, 'krakow': 23130, 'rehearsing': 23131, 'penitence': 23132, 'kidwa': 23133, 'unami': 23134, 'muga': 23135, 'delamere': 23136, 'harbored': 23137, 'nonassociated': 23138, '2022': 23139, 'qatarbahrain': 23140, 'causeway': 23141, 'annihilated': 23142, 'sugarrelated': 23143, 'revolted': 23144, 'louverture': 23145, 'inaugurate': 23146, 'avarice': 23147, 'avaricious': 23148, 'envious': 23149, 'scratched': 23150, 'jog': 23151, 'enables': 23152, 'ivaylo': 23153, 'kalfin': 23154, 'calculated': 23155, 'preparatory': 23156, 'convenience': 23157, 'magloire': 23158, 'retailing': 23159, 'viral': 23160, 'davit': 23161, 'nomura': 23162, 'militaryimposed': 23163, 'shootonsight': 23164, 'kasai': 23165, 'occidental': 23166, 'jeanconstatin': 23167, '217': 23168, 'irin': 23169, 'dominating': 23170, '05mar': 23171, '15feb': 23172, 'ilya': 23173, 'kovalchuk': 23174, 'goaltender': 23175, 'evgeni': 23176, 'nabokov': 23177, 'shutout': 23178, 'suleimaniya': 23179, 'abolishes': 23180, 'tier': 23181, '482': 23182, 'russianbuilt': 23183, 'salami': 23184, 'torm1': 23185, 'belfort': 23186, 'whistler': 23187, '4492': 23188, '33100ths': 23189, 'zurbriggen': 23190, '7100ths': 23191, 'superg': 23192, 'nkosazana': 23193, 'dlaminizuma': 23194, 'transitioning': 23195, 'fasttrack': 23196, 'revert': 23197, 'mamoun': 23198, 'germansyrian': 23199, '26member': 23200, 'prous': 23201, 'unstoppable': 23202, 'mariepaule': 23203, 'kieny': 23204, 'pakistaniruled': 23205, 'irreversible': 23206, 'zuckerberg': 23207, 'lessvisible': 23208, 'bacterium': 23209, 'ubiquitous': 23210, 'frenk': 23211, 'guni': 23212, 'rusere': 23213, '514': 23214, '416': 23215, 'otto': 23216, 'cpj': 23217, '36year': 23218, '13107': 23219, '13090': 23220, 'prosper': 23221, 'alcoa': 23222, 'bluechip': 23223, '552': 23224, 'santuario': 23225, 'guatica': 23226, 'restrepo': 23227, 'reintegrate': 23228, 'downbeat': 23229, '4167': 23230, 'showered': 23231, 'intercourse': 23232, 'windblown': 23233, 'contingency': 23234, 'fiveseat': 23235, 'aiddistribution': 23236, 'verge': 23237, 'clinching': 23238, 'huckabee': 23239, 'sayyed': 23240, 'tantawi': 23241, 'nationscoordinated': 23242, 'purifying': 23243, 'accommodating': 23244, 'navtej': 23245, 'sarna': 23246, 'neon': 23247, '7179': 23248, '43rd': 23249, '7264': 23250, 'underfunding': 23251, 'baltasar': 23252, 'garzon': 23253, 'ramzi': 23254, 'binalshibh': 23255, 'tahar': 23256, 'ezirouali': 23257, 'heptathlon': 23258, 'natalia': 23259, 'dobrynska': 23260, 'alwan': 23261, 'baquoba': 23262, 'twobomb': 23263, '767': 23264, 'afterhours': 23265, '7795': 23266, 'hourmadji': 23267, 'doumgor': 23268, 'khaleda': 23269, 'tarique': 23270, 'taka': 23271, 'antigraft': 23272, 'zhuang': 23273, 'collaborative': 23274, 'cabezas': 23275, 'unsatisfactory': 23276, 'antiinflationary': 23277, 'dzhennet': 23278, 'abdurakhmanova': 23279, 'umalat': 23280, 'magomedov': 23281, 'markha': 23282, '102member': 23283, 'recentlyunsealed': 23284, 'haidari': 23285, 'cairobased': 23286, 'illustrates': 23287, 'weekandahalf': 23288, '275members': 23289, 'independentminded': 23290, 'relented': 23291, 'reappointing': 23292, 'aberrahman': 23293, 'dubaibased': 23294, 'intensity': 23295, 'happening': 23296, 'earthpenetrating': 23297, 'bunkerbusters': 23298, 'jeanlouis': 23299, 'gmt': 23300, 'andrey': 23301, 'denisov': 23302, 'underline': 23303, 'almadaini': 23304, 'usproposed': 23305, 'overrunning': 23306, '249seat': 23307, 'particulate': 23308, 'cavic': 23309, 'azizullah': 23310, 'lodin': 23311, 'evangelical': 23312, 'zelenak': 23313, 'europeanowned': 23314, 'nipayia': 23315, 'norwegianowned': 23316, 'asir': 23317, 'handwriting': 23318, 'shorja': 23319, 'inflaming': 23320, 'uedf': 23321, 'vaccinating': 23322, 'jeanet': 23323, 'goot': 23324, 'infectiousness': 23325, 'thereby': 23326, '1765': 23327, 'manx': 23328, 'gaelic': 23329, 'idi': 23330, 'promulgated': 23331, 'nonparty': 23332, 'amending': 23333, '698': 23334, 'respectable': 23335, 'antananarivo': 23336, '15month': 23337, 'simplification': 23338, 'nontextile': 23339, 'mitigated': 23340, 'vineyard': 23341, 'spade': 23342, 'mattock': 23343, 'repaid': 23344, 'superabundant': 23345, 'surety': 23346, 'pleases': 23347, 'begging': 23348, 'cookstown': 23349, 'tyrone': 23350, 'paralysed': 23351, 'waist': 23352, 'negligent': 23353, 'bernazzani': 23354, 'nacion': 23355, 'mladjen': 23356, 'vojkovici': 23357, 'fraught': 23358, '10000strong': 23359, 'natoeu': 23360, 'somalibased': 23361, 'kiwayu': 23362, 'ta': 23363, 'tuol': 23364, 'sleng': 23365, 'duch': 23366, '53year': 23367, 'adan': 23368, 'nineandahalf': 23369, 'mirrored': 23370, 'yettobeannounced': 23371, 'despondent': 23372, 'boulevard': 23373, 'infested': 23374, 'vasilily': 23375, 'filipchuk': 23376, 'thespian': 23377, 'shakespearean': 23378, 'zaher': 23379, 'lifeline': 23380, 'vaccinated': 23381, 'rosal': 23382, 'greenery': 23383, 'sonntagsblick': 23384, 'reassigned': 23385, 'millerwise': 23386, 'dyck': 23387, 'hierarchical': 23388, 'staffed': 23389, 'pleshkov': 23390, 'krasnokamensk': 23391, 'kremlindriven': 23392, 'foray': 23393, 'harcharik': 23394, 'angioplasty': 23395, 'khyberpakhtunkhwa': 23396, 'impeding': 23397, 'mid2007': 23398, 'alhadjiya': 23399, 'terrorize': 23400, 'fldr': 23401, 'handler': 23402, 'canine': 23403, 'soiling': 23404, 'ketzer': 23405, 'preemptively': 23406, 'halfun': 23407, 'thirtytwo': 23408, 'niyazov': 23409, 'schulz': 23410, 'corroborate': 23411, 'chevallier': 23412, 'shek': 23413, 'jarrah': 23414, 'danny': 23415, 'ayalon': 23416, 'coldplay': 23417, 'rude': 23418, 'paolo': 23419, 'opined': 23420, 'nicest': 23421, '20minute': 23422, 'testy': 23423, 'ringtone': 23424, 'edging': 23425, '004': 23426, '0068171296': 23427, '0068217593': 23428, 'aufdenblatten': 23429, '0068263889': 23430, '001': 23431, '0068275463': 23432, '782': 23433, '685': 23434, 'redesigned': 23435, 'slope': 23436, 'nearcapacity': 23437, 'sangju': 23438, 'mexicali': 23439, 'marghzar': 23440, 'unprepared': 23441, 'nigerla': 23442, 'fourstory': 23443, '18story': 23444, 'shoppertrak': 23445, 'rct': 23446, 'quietly': 23447, 'elaborating': 23448, 'chaparhar': 23449, 'radioactivity': 23450, 'antikurd': 23451, 'narim': 23452, 'alcolac': 23453, 'vwr': 23454, 'thermo': 23455, 'typhoontriggered': 23456, '5005': 23457, 'colderthannormal': 23458, 'maruf': 23459, 'bakhit': 23460, 'kheir': 23461, 'faisal': 23462, 'fayez': 23463, 'alturk': 23464, '23member': 23465, '630': 23466, '18monthold': 23467, 'minia': 23468, '22kilometer': 23469, '329': 23470, 'exxon': 23471, 'reaping': 23472, 'cheadle': 23473, 'remixed': 23474, 'benham': 23475, 'natagehi': 23476, 'paratrooper': 23477, 'excursion': 23478, 'landale': 23479, 'mirko': 23480, 'norac': 23481, 'ademi': 23482, 'medak': 23483, 'gall': 23484, 'bladder': 23485, 'reims': 23486, 'grace': 23487, 'penjwin': 23488, 'durham': 23489, 'taxiway': 23490, 'abdirahman': 23491, 'dinari': 23492, 'sreten': 23493, 'vascular': 23494, '1726': 23495, '1828': 23496, 'tupamaros': 23497, 'frente': 23498, 'amplio': 23499, 'freest': 23500, 'singledigit': 23501, 'standardofliving': 23502, 'salam': 23503, 'fayyad': 23504, 'uptick': 23505, 'israelicontrolled': 23506, 'highcost': 23507, 'mandeb': 23508, 'djiboutiyemen': 23509, 'hormuz': 23510, 'iranoman': 23511, 'malacca': 23512, 'indonesiamalaysia': 23513, 'plowland': 23514, 'brandishing': 23515, 'forsook': 23516, 'liliput': 23517, 'earnest': 23518, 'suffice': 23519, 'groan': 23520, 'finger': 23521, 'misdeed': 23522, 'whitewash': 23523, 'mortification': 23524, 'unsettling': 23525, 'breakout': 23526, 'kuru': 23527, 'wareng': 23528, 'barakin': 23529, 'ladi': 23530, 'pakistanafghanistan': 23531, 'anwarul': 23532, 'useducated': 23533, 'usman': 23534, '454seat': 23535, 'unseated': 23536, 'railed': 23537, 'wadia': 23538, 'jaishemohammad': 23539, 'srinagarbased': 23540, 'hafsa': 23541, '6435': 23542, 'sixthstraight': 23543, '2031': 23544, '365000': 23545, 'hiked': 23546, 'busier': 23547, 'quelled': 23548, 'panafrica': 23549, 'yaounde': 23550, 'fasted': 23551, 'nidal': 23552, 'saada': 23553, 'amona': 23554, 'overstaying': 23555, 'greatgranddaughter': 23556, 'onecar': 23557, 'culpable': 23558, 'greatgrandchildren': 23559, 'hrd': 23560, 'touchscreen': 23561, 'kapil': 23562, 'ipadlike': 23563, 'linuxbased': 23564, 'perito': 23565, 'glacieres': 23566, 'spectacular': 23567, 'abdolsamad': 23568, 'khorramshahi': 23569, 'shatters': 23570, 'interception': 23571, 'arjangi': 23572, 'rainswept': 23573, 'elliott': 23574, 'abrams': 23575, 'welch': 23576, 'catandunes': 23577, 'alqaidaaffiliated': 23578, 'crusade': 23579, 'satirical': 23580, '15000ton': 23581, 'rockefeller': 23582, 'zaldivar': 23583, 'gusting': 23584, 'treacherous': 23585, 'icecovered': 23586, 'm1': 23587, 'multicar': 23588, 'pileup': 23589, 'bratislavatrnava': 23590, '40car': 23591, 'compensating': 23592, 'nineday': 23593, 'tuition': 23594, 'wielding': 23595, 'biak': 23596, 'tremendously': 23597, 'substantiate': 23598, 'supposition': 23599, 'activeduty': 23600, 'involuntary': 23601, 'callup': 23602, 'chimango': 23603, '188': 23604, 'asgiriya': 23605, 'kandy': 23606, 'seam': 23607, 'spinner': 23608, 'monty': 23609, 'apr29': 23610, 'collingwood': 23611, 'prasanna': 23612, 'jayawardene': 23613, 'alastair': 23614, 'gana': 23615, 'kingibe': 23616, 'intrude': 23617, 'unintended': 23618, 'conception': 23619, 'liken': 23620, 'latifullah': 23621, 'zukang': 23622, 'shawel': 23623, 'mosaic': 23624, 'farthest': 23625, 'snapshot': 23626, 'bang': 23627, 'mature': 23628, 'galactic': 23629, 'clarity': 23630, 'nom': 23631, 'guerre': 23632, 'muqataa': 23633, 'headsofstate': 23634, 'morality': 23635, 'headdress': 23636, 'patdowns': 23637, 'wearer': 23638, 'escalates': 23639, 'shaaban': 23640, 'testfire': 23641, 'headgear': 23642, 'preventative': 23643, 'pronounces': 23644, 'expriest': 23645, 'protégé': 23646, 'wellsuited': 23647, 'jusuf': 23648, 'kalla': 23649, 'almukmin': 23650, 'mammy': 23651, 'mohtarem': 23652, 'manzur': 23653, 'europewide': 23654, 'twiceserving': 23655, '246000': 23656, 'disengage': 23657, 'adamant': 23658, 'ducked': 23659, 'masterminded': 23660, 'khazaee': 23661, 'tightens': 23662, 'reluctantly': 23663, '1713': 23664, 'utrecht': 23665, 'gibraltarian': 23666, 'tripartite': 23667, 'cooperatively': 23668, 'noncolonial': 23669, 'sporadically': 23670, 'durrani': 23671, '1747': 23672, 'notional': 23673, 'tottering': 23674, 'relentless': 23675, 'pakistanisponsored': 23676, 'ladin': 23677, 'bonn': 23678, 'antisandinista': 23679, 'saavedra': 23680, 'mitch': 23681, 'proinvestment': 23682, 'marchmay': 23683, 'buoyant': 23684, 'strange': 23685, 'lacerated': 23686, 'belabored': 23687, 'tonight': 23688, 'toil': 23689, 'waggon': 23690, 'rut': 23691, 'tuba': 23692, 'firmn': 23693, 'japaneseowned': 23694, 'mitsumi': 23695, 'foreignowned': 23696, 'obscure': 23697, 'mizhar': 23698, '689': 23699, '618': 23700, 'varema': 23701, 'tellall': 23702, 'pummeling': 23703, 'eastwest': 23704, 'westnorthwesterly': 23705, 'vitamin': 23706, 'matthias': 23707, 'bounnyang': 23708, 'vorachit': 23709, 'ome': 23710, 'taj': 23711, '2163': 23712, 'fourmatch': 23713, 'yuganskeneftegaz': 23714, 'ramin': 23715, 'mahmanparast': 23716, 'adhaim': 23717, 'emissary': 23718, 'golkar': 23719, 'jonah': 23720, 'brass': 23721, '4123': 23722, '3153': 23723, '4532': 23724, '7864': 23725, '13406': 23726, '78047': 23727, 'electricidad': 23728, 'edc': 23729, 'badmouthing': 23730, 'articulated': 23731, 'iadb': 23732, 'crimping': 23733, 'quarterpoint': 23734, '475': 23735, 'worsethanusual': 23736, '6247': 23737, '6125': 23738, 'mikasa': 23739, 'concubine': 23740, 'recentlydetained': 23741, 'saidi': 23742, 'tohid': 23743, 'bighi': 23744, 'henghameh': 23745, 'somaieh': 23746, 'nosrati': 23747, 'matinpour': 23748, '239million': 23749, '300kilometer': 23750, 'espirito': 23751, 'catu': 23752, 'bahia': 23753, 'gasene': 23754, 'dejan': 23755, 'bugsy': 23756, 'nebojsa': 23757, 'instrumental': 23758, 'hajime': 23759, 'massaki': 23760, 'mutalib': 23761, 'convening': 23762, 'procedural': 23763, 'gamble': 23764, 'andar': 23765, 'rejoining': 23766, 'longailing': 23767, '86yearold': 23768, 'madelyn': 23769, 'impregnating': 23770, 'matabeleland': 23771, 'counterfeiting': 23772, 'mid2003': 23773, 'badlyneeded': 23774, 'censored': 23775, 'piot': 23776, 'lesserknown': 23777, 'pear': 23778, 'shoebombing': 23779, 'baitullah': 23780, 'perpetuating': 23781, 'a320': 23782, 'ericq': 23783, 'cayes': 23784, 'attainable': 23785, 'augustin': 23786, 'twentyeightyearold': 23787, 'welt': 23788, 'saroki': 23789, 'eighttenths': 23790, 'bolder': 23791, 'coalproducing': 23792, 'herve': 23793, 'morin': 23794, 'areva': 23795, 'silbert': 23796, 'californian': 23797, 'ditch': 23798, 'socialconservative': 23799, 'chuck': 23800, 'hamel': 23801, 'corrosion': 23802, 'prudhoe': 23803, 'implanted': 23804, 'syncardia': 23805, 'eskisehir': 23806, 'kiliclar': 23807, 'nazer': 23808, '3300': 23809, 'osprey': 23810, 'minehunting': 23811, 'reacts': 23812, 'rulesbased': 23813, 'unfold': 23814, 'weblogs': 23815, 'amazoncom': 23816, 'aleim': 23817, 'gothenburg': 23818, 'scandinavia': 23819, 'gungoren': 23820, 'savage': 23821, 'olusegan': 23822, 'trouncing': 23823, 'prefers': 23824, 'hostagetaker': 23825, 'younes': 23826, 'antiopium': 23827, 'deutchmark': 23828, 'dinar': 23829, 'infusion': 23830, 'criminality': 23831, 'chernobyl': 23832, 'riverine': 23833, 'semidesert': 23834, 'imfrecommended': 23835, 'devaluation': 23836, 'predominate': 23837, 'melon': 23838, '17500': 23839, 'booty': 23840, 'witnessing': 23841, 'learns': 23842, 'beg': 23843, 'requite': 23844, 'kindness': 23845, 'flattered': 23846, 'eats': 23847, 'behaves': 23848, '60thousand': 23849, 'cubapetroleo': 23850, '10000squarekilometer': 23851, 'cnbc': 23852, 'coercive': 23853, '98000': 23854, 'conniving': 23855, 'dismisses': 23856, '58to42': 23857, 'heattrapping': 23858, 'doubting': 23859, 'bombmangled': 23860, 'z': 23861, 'beltran': 23862, 'shyloh': 23863, 'entangle': 23864, '405': 23865, 'falluja': 23866, 'conduit': 23867, 'remissaninthe': 23868, 'roared': 23869, 'formulation': 23870, 'differing': 23871, '2050': 23872, 'polluting': 23873, 'bitar': 23874, 'bitarov': 23875, 'adilgerei': 23876, 'magomedtagirov': 23877, '6834': 23878, 'xianghe': 23879, 'salang': 23880, '3400meterhigh': 23881, 'statoil': 23882, 'krasnoyarsk': 23883, 'assortment': 23884, 'subtracted': 23885, 'mawlawi': 23886, 'masah': 23887, 'cambridge': 23888, 'azocar': 23889, 'bollywood': 23890, 'hindi': 23891, 'kiteswere': 23892, 'silverman': 23893, 'deifies': 23894, 'militarist': 23895, 'demonstrably': 23896, 'antinarcotics': 23897, 'antony': 23898, 'mh': 23899, 'ambareesh': 23900, 'actorturned': 23901, 'jayprakash': 23902, 'narain': 23903, 'rashtriya': 23904, 'dal': 23905, 'thenminister': 23906, 'threelevel': 23907, 'jabel': 23908, 'creutzfeldtjakob': 23909, 'bovine': 23910, 'spongiform': 23911, 'encephalopathy': 23912, 'alienation': 23913, 'victimize': 23914, 'loosely': 23915, 'smash': 23916, 'delivers': 23917, 'samho': 23918, 'qater': 23919, 'latemorning': 23920, 'heavilyfortified': 23921, 'frontal': 23922, 'semiofficial': 23923, 'aboutorabifard': 23924, 'asylumseeker': 23925, 'joongang': 23926, 'esfandiar': 23927, 'multicount': 23928, 'chinabased': 23929, 'llammi': 23930, 'impassioned': 23931, 'vandemoortele': 23932, 'defies': 23933, '1004': 23934, 'fiftyfour': 23935, 'maghazi': 23936, 'thun': 23937, 'prenatal': 23938, 'statistical': 23939, 'lindy': 23940, 'makubalo': 23941, 'olesgun': 23942, 'antideby': 23943, 'miserable': 23944, 'turkana': 23945, 'rongai': 23946, 'marigat': 23947, 'mogotio': 23948, 'corresponding': 23949, 'sledge': 23950, 'structurally': 23951, 'unsound': 23952, 'seabees': 23953, 'shujaat': 23954, 'zamir': 23955, '54page': 23956, 'asef': 23957, 'shawkat': 23958, 'brotherinlaw': 23959, 'bumpy': 23960, 'firebase': 23961, 'ripley': 23962, 'baskin': 23963, 'bypassed': 23964, 'sunnidominant': 23965, 'inroad': 23966, '40member': 23967, 'alwefaq': 23968, 'botanic': 23969, 'partnered': 23970, 'splash': 23971, 'brilliance': 23972, 'shahid': 23973, 'durjoy': 23974, 'bangla': 23975, 'bogra': 23976, 'demographer': 23977, 'mu': 23978, 'guangzhong': 23979, 'fetus': 23980, 'nonbeliever': 23981, 'heartened': 23982, 'lifespan': 23983, 'kanan': 23984, 'duffy': 23985, 'balah': 23986, 'swerve': 23987, 'aweil': 23988, 'alhanifa': 23989, '733': 23990, '70page': 23991, 'azizi': 23992, 'jalali': 23993, 'benoit': 23994, 'maimed': 23995, 'mineaffected': 23996, 'ceel': 23997, 'waaq': 23998, 'campsite': 23999, 'bundled': 24000, 'iapa': 24001, 'freedomloving': 24002, 'lessdeveloped': 24003, 'welfaredependent': 24004, 'overhauling': 24005, 'quotadriven': 24006, 'exceedingly': 24007, 'samoan': 24008, 'togoland': 24009, 'facade': 24010, 'rpt': 24011, 'continually': 24012, 'rewelcomed': 24013, 'statemajorityowned': 24014, 'ninthlargest': 24015, 'francealbert': 24016, 'prospering': 24017, 'bolting': 24018, 'sugarbowl': 24019, 'abstraction': 24020, 'picklefork': 24021, 'fork': 24022, 'needless': 24023, 'lens': 24024, 'wharf': 24025, 'stumped': 24026, 'predator': 24027, 'brewed': 24028, 'adhesive': 24029, 'togetherness': 24030, 'monosodium': 24031, 'glue': 24032, 'shimbun': 24033, 'valero': 24034, 'prejudice': 24035, 'tarcisio': 24036, 'furor': 24037, 'priestly': 24038, 'celibacy': 24039, 'galo': 24040, 'chiriboga': 24041, 'buehring': 24042, 'gujri': 24043, 'gopal': 24044, 'tolerating': 24045, 'heineken': 24046, 'pingdingshan': 24047, 'coded': 24048, 'correspondence': 24049, 'deciphering': 24050, 'endeavouris': 24051, 'endeavourundocked': 24052, 'educate': 24053, 'hell': 24054, 'razorthin': 24055, '498': 24056, 'jongwook': 24057, 'wellcooked': 24058, 'gainer': 24059, 'performace': 24060, 'highestever': 24061, 'concacaf': 24062, 'hamarjajab': 24063, 'bridged': 24064, '613': 24065, 'twofifths': 24066, 'khatibi': 24067, 'rangeen': 24068, 'fluinfected': 24069, 'milomir': 24070, 'h7n3': 24071, 'droppings': 24072, 'thyroid': 24073, 'ak47s': 24074, 'zvyagintsev': 24075, 'parulski': 24076, 'smolensk': 24077, 'fasher': 24078, 'djinnit': 24079, 'unacceptably': 24080, 'grossman': 24081, 'sliced': 24082, 'hacked': 24083, 'canon': 24084, 'glad': 24085, 'unravel': 24086, 'calculator': 24087, 'bookmaking': 24088, '6395': 24089, 'khurul': 24090, 'kalmykia': 24091, 'ipsos': 24092, '03may': 24093, 'khouna': 24094, 'haidallah': 24095, 'maaouiya': 24096, 'expansive': 24097, 'communicated': 24098, 'firmest': 24099, 'paniraqi': 24100, 'mediating': 24101, '1600member': 24102, 'pepper': 24103, 'truncheon': 24104, 'beyazit': 24105, 'sushi': 24106, 'kung': 24107, 'jinling': 24108, 'spiraled': 24109, 'hagino': 24110, 'uji': 24111, 'ethnicalbanian': 24112, 'shfaram': 24113, 'renen': 24114, 'schorr': 24115, 'shooter': 24116, 'kach': 24117, 'belhadj': 24118, 'inoculate': 24119, 'thenyukos': 24120, 'ziyad': 24121, 'desouki': 24122, 'vaccinator': 24123, 'macheke': 24124, 'aeneas': 24125, 'chigwedere': 24126, 'lci': 24127, 'alshaalan': 24128, 'react': 24129, 'relate': 24130, 'incur': 24131, '237': 24132, '7383': 24133, 'raiser': 24134, 'kickball': 24135, 'volleyball': 24136, 'creek': 24137, 'roast': 24138, '2412661': 24139, 'jcfundrzraolcom': 24140, 'colonizer': 24141, '1906': 24142, 'anglofrench': 24143, '963': 24144, 'benelux': 24145, 'agrochemicals': 24146, 'aral': 24147, 'stagnation': 24148, 'curtailment': 24149, '1935': 24150, 'thaiburma': 24151, 'vicepresident': 24152, 'onagain': 24153, 'offagain': 24154, 'maoistinspired': 24155, 'conqueror': 24156, 'flapped': 24157, 'exultingly': 24158, 'pounced': 24159, 'undisputed': 24160, 'comission': 24161, 'sportsman': 24162, 'coho': 24163, 'walleye': 24164, 'reproduced': 24165, 'muskie': 24166, 'kowalski': 24167, 'franceafrica': 24168, 'laotian': 24169, 'harkin': 24170, 'dispose': 24171, 'alsalami': 24172, 'farmdependent': 24173, 'uday': 24174, 'numaniya': 24175, 'kilometerlong': 24176, 'domed': 24177, 'farreaching': 24178, 'cykla': 24179, 'fathi': 24180, 'alnuaimi': 24181, 'void': 24182, 'firmer': 24183, 'fiftyone': 24184, 'jiang': 24185, 'jufeng': 24186, 'bildnewspaper': 24187, 'fastening': 24188, 'ornament': 24189, 'align': 24190, 'propped': 24191, 'johnsonmorris': 24192, 'robustly': 24193, 'biggerthanexpected': 24194, 'votegetters': 24195, 'mizarkhel': 24196, '5282': 24197, '737s': 24198, 'rashad': 24199, '3566': 24200, 'defaulting': 24201, 'reenactment': 24202, 'pontificate': 24203, 'delegated': 24204, 'urbi': 24205, 'orbi': 24206, 'supremacist': 24207, 'mahlangu': 24208, 'bludgeoned': 24209, '3month': 24210, 'fenced': 24211, 'leastdeveloped': 24212, '259': 24213, 'kaletra': 24214, 'generic': 24215, 'muted': 24216, 'caucasian': 24217, 'violencetorn': 24218, 'teresa': 24219, 'borcz': 24220, 'limitedover': 24221, 'mailed': 24222, 'harkatulzihad': 24223, 'ranbir': 24224, 'onedayers': 24225, 'thenprime': 24226, 'mathematically': 24227, 'acrimonious': 24228, 'chrysostomos': 24229, 'poacher': 24230, 'imperialist': 24231, 'crucified': 24232, 'neiva': 24233, 'jebii': 24234, '1582': 24235, 'pakhtunkhwa': 24236, 'noncompliant': 24237, 'yunlin': 24238, 'antisecessionist': 24239, '8year': 24240, 'mariane': 24241, 'africanbased': 24242, 'odierno': 24243, 'bobbie': 24244, 'marie': 24245, 'vihemina': 24246, 'prout': 24247, 'wrought': 24248, 'singling': 24249, 'chibebe': 24250, 'seige': 24251, 'jeantobie': 24252, '12percent': 24253, 'homosexual': 24254, 'reexamining': 24255, 'strasbourgbased': 24256, 'discriminated': 24257, 'sulik': 24258, 'rebut': 24259, '44yard': 24260, 'bronco': 24261, '30oct': 24262, '41000': 24263, 'undrafted': 24264, 'jake': 24265, 'plummer': 24266, 'oneyard': 24267, 'kicker': 24268, 'elam': 24269, 'receiver': 24270, 'samie': 24271, 'corpse': 24272, 'sevenman': 24273, 'squidfishing': 24274, 'kit': 24275, 'archrivals': 24276, 'usiraq': 24277, 'luzhkov': 24278, 'satanic': 24279, 'htay': 24280, 'ashin': 24281, 'hkamti': 24282, 'sagaing': 24283, 'willian': 24284, '167seat': 24285, 'sadiq': 24286, 'notguilty': 24287, 'slimy': 24288, 'messiest': 24289, 'dispenser': 24290, 'goo': 24291, 'sandler': 24292, 'stiller': 24293, 'wannabe': 24294, 'youthful': 24295, 'lighthearted': 24296, 'imprisioned': 24297, 'aidsprevention': 24298, '1745': 24299, 'xinqian': 24300, 'adjusted': 24301, 'asadollah': 24302, 'obligates': 24303, 'relates': 24304, 'threephase': 24305, 'buraydah': 24306, 'clericsupported': 24307, 'singur': 24308, 'uttarakhand': 24309, 'governmentappointed': 24310, 'chapfika': 24311, 'zvakwana': 24312, '5200': 24313, '1311': 24314, 'anguillan': 24315, 'intercommunal': 24316, 'cypriotoccupied': 24317, 'trnc': 24318, 'impetus': 24319, 'acquis': 24320, 'forbade': 24321, 'projecting': 24322, 'leaping': 24323, 'perverse': 24324, 'merrily': 24325, 'goblet': 24326, 'jarring': 24327, 'zeal': 24328, 'goodnaturedly': 24329, 'benefactor': 24330, 'gnawed': 24331, 'yankeesorioles': 24332, 'baltimore': 24333, 'outfield': 24334, 'glowing': 24335, 'proboscis': 24336, 'pinna': 24337, '34member': 24338, 'multistory': 24339, 'stefano': 24340, 'preolympic': 24341, 'predazzo': 24342, 'belluno': 24343, 'spleen': 24344, 'cavalese': 24345, 'fourperson': 24346, 'someday': 24347, 'zwelinzima': 24348, 'vavi': 24349, 'saiduz': 24350, 'mushahid': 24351, 'leaguen': 24352, 'tu160': 24353, 'shawn': 24354, 'brightest': 24355, 'enming': 24356, 'aspiring': 24357, 'olympian': 24358, 'sagging': 24359, '372000': 24360, '1672': 24361, 'inevitably': 24362, 'simmer': 24363, 'policharki': 24364, 'dronefired': 24365, 'khaisor': 24366, 'symbolism': 24367, 'heighten': 24368, 'enviable': 24369, 'xinmiao': 24370, 'qing': 24371, '1644': 24372, '650000': 24373, 'illinformed': 24374, 'taiwangrown': 24375, 'crossstraits': 24376, 'adwar': 24377, 'rabiyaa': 24378, 'knifewielding': 24379, 'shehzad': 24380, 'tanweer': 24381, 'hasib': 24382, 'rebelblockade': 24383, 'farwestern': 24384, 'slid': 24385, 'uncovering': 24386, '180000employee': 24387, 'taser': 24388, 'giuliani': 24389, 'hema': 24390, 'serge': 24391, 'acutely': 24392, 'ilna': 24393, 'sajedinia': 24394, 'karoubi': 24395, '29year': 24396, 'carryon': 24397, 'heidelberg': 24398, 'intestine': 24399, 'hoekstra': 24400, 'diane': 24401, 'feinstein': 24402, 'dozing': 24403, 'bailey': 24404, 'videolink': 24405, 'neil': 24406, 'horrifying': 24407, 'counseled': 24408, 'heroism': 24409, 'ignace': 24410, 'schops': 24411, 'voas': 24412, 'mistletoe': 24413, 'irremediable': 24414, 'insure': 24415, 'mikerevic': 24416, 'flax': 24417, 'boded': 24418, 'sadeh': 24419, 'lastly': 24420, 'disobey': 24421, 'parliamentinexile': 24422, 'credence': 24423, 'stubb': 24424, 'wisest': 24425, 'odde': 24426, 'solitude': 24427, 'mixing': 24428, 'ayyub': 24429, 'khakrez': 24430, '14706': 24431, 'tout': 24432, 'haleem': 24433, '12179': 24434, '1329': 24435, '065': 24436, '3913': 24437, '2781': 24438, '419': 24439, 'fourgame': 24440, '21jul': 24441, 'julius': 24442, 'madhya': 24443, 'buzzard': 24444, 'waitandsee': 24445, 'partyline': 24446, 'outstrip': 24447, '2022059942': 24448, 'vaeidi': 24449, 'soltanieh': 24450, 'provincal': 24451, 'crazy': 24452, 'fouling': 24453, 'onesided': 24454, 'extracting': 24455, 'cesar': 24456, 'abderrahaman': 24457, 'swearin': 24458, 'confiscate': 24459, 'floridabased': 24460, 'ashland': 24461, 'frontrunning': 24462, 'expartner': 24463, 'gyeongjun': 24464, 'nuptials': 24465, 'bryant': 24466, 'sita': 24467, 'miliatry': 24468, 'garikoitz': 24469, 'pyrenees': 24470, 'wireless': 24471, 'europeanbuilt': 24472, '1065': 24473, 'txeroki': 24474, 'myricks': 24475, 'samsun': 24476, 'fulllength': 24477, 'vertigo': 24478, 'filmmaking': 24479, 'replicating': 24480, 'physiology': 24481, '715': 24482, '1278': 24483, 'andorran': 24484, 'coprincipality': 24485, '1607': 24486, 'onward': 24487, 'seu': 24488, 'durgell': 24489, 'titular': 24490, 'benefitted': 24491, 'hellenic': 24492, '20month': 24493, 'inequity': 24494, 'keeling': 24495, 'clunieross': 24496, 'coco': 24497, '1841': 24498, 'skillful': 24499, 'mesh': 24500, 'exacted': 24501, 'promissory': 24502, '747s': 24503, 'chopper': 24504, 'locator': 24505, 'renouncing': 24506, 'crisp': 24507, 'overpaid': 24508, 'dilemma': 24509, 'athar': 24510, '17member': 24511, 'chalit': 24512, 'phukphasuk': 24513, 'armyled': 24514, 'thirapat': 24515, 'serirangsan': 24516, 'paulino': 24517, 'matip': 24518, 'ventura': 24519, 'dans': 24520, 'mon': 24521, 'jobim': 24522, 'acronym': 24523, 'expending': 24524, 'deviated': 24525, 'fortyseven': 24526, 'fragility': 24527, 'debtridden': 24528, 'enrollment': 24529, 'confuse': 24530, 'dubaiowned': 24531, 'mckiernan': 24532, 'unites': 24533, 'taza': 24534, 'dutton': 24535, 'buchan': 24536, 'curbed': 24537, 'peacekeeers': 24538, 'demented': 24539, 'invoke': 24540, 'fullfledged': 24541, 'stillclassified': 24542, 'twodozen': 24543, 'kien': 24544, 'premiering': 24545, 'dramatizes': 24546, 'integrating': 24547, 'indifferent': 24548, 'dishonor': 24549, 'pararajasingham': 24550, 'arabcontrolled': 24551, 'undertake': 24552, 'yuli': 24553, 'prosettlement': 24554, 'ronit': 24555, 'tirosh': 24556, 'reconstructed': 24557, 'pieced': 24558, 'goran': 24559, 'halfstaff': 24560, '317000': 24561, 'tempered': 24562, 'reissued': 24563, 'gag': 24564, 'colby': 24565, 'vokey': 24566, 'mcnuggets': 24567, 'abdurrahman': 24568, 'yalcinkaya': 24569, 'obesityrelated': 24570, 'unger': 24571, 'budny': 24572, 'jacqui': 24573, 'headless': 24574, 'mi8': 24575, 'jamaatiislami': 24576, 'fitna': 24577, 'geert': 24578, 'wilder': 24579, 'quotation': 24580, 'carbombing': 24581, 'bloom': 24582, 'narthiwat': 24583, 'sungai': 24584, 'kolok': 24585, '165seat': 24586, 'carrasquero': 24587, 'kumgang': 24588, 'mclaughlin': 24589, 'recentlyappointed': 24590, 'disrespectfully': 24591, 'tabulation': 24592, 'moines': 24593, 'intuitive': 24594, 'talker': 24595, 'creditcard': 24596, '370000': 24597, 'dismal': 24598, 'arabdominated': 24599, 'shuttered': 24600, 'humphreys': 24601, 'kozloduy': 24602, 'reinsurer': 24603, 'zurichbased': 24604, 'reinsurers': 24605, 'cargolux': 24606, '7478': 24607, 'japanbased': 24608, 'utilize': 24609, 'quieter': 24610, 'justly': 24611, 'nadeali': 24612, 'dahoud': 24613, 'withstood': 24614, '855': 24615, 'monthonmonth': 24616, 'tristan': 24617, 'cunha': 24618, 'agriculturally': 24619, 'tasalouti': 24620, 'expectancy': 24621, 'muchimproved': 24622, 'vertical': 24623, 'horizontal': 24624, 'mitigate': 24625, 'outreach': 24626, 'mid17th': 24627, '1667': 24628, 'nominally': 24629, '1650': 24630, 'saeedlou': 24631, 'precipice': 24632, 'endeavoring': 24633, 'willful': 24634, 'funny': 24635, 'mane': 24636, 'windy': 24637, 'charming': 24638, 'blandly': 24639, 'glistening': 24640, 'billiard': 24641, 'embarrassed': 24642, 'woodchopper': 24643, 'besought': 24644, 'mahsouli': 24645, 'thoughtless': 24646, 'deity': 24647, 'salivated': 24648, 'amphitheatre': 24649, 'devour': 24650, 'honourably': 24651, 'claimant': 24652, 'berra': 24653, 'swear': 24654, 'stocky': 24655, 'catcher': 24656, 'miraculous': 24657, 'bothered': 24658, 'miscreant': 24659, 'toad': 24660, 'evicting': 24661, 'query': 24662, 'utilization': 24663, 'interaction': 24664, 'unsolicited': 24665, 'disabling': 24666, 'alfaraa': 24667, 'alyamoun': 24668, 'africaninhabited': 24669, 'aghamohammadi': 24670, 'parental': 24671, 'hamstrung': 24672, 'workhorse': 24673, 'dhanush': 24674, 'subhadra': 24675, 'prithvi': 24676, 'worldrenowned': 24677, 'balletic': 24678, 'acrobatic': 24679, 'rockandroll': 24680, 'souq': 24681, 'alghazl': 24682, 'rye': 24683, 'bluegrass': 24684, 'mown': 24685, 'fertilized': 24686, 'billed': 24687, 'groupe': 24688, 'sprained': 24689, 'saddamists': 24690, 'gianni': 24691, '34000': 24692, '36000': 24693, 'pile': 24694, 'cohosted': 24695, 'kiosk': 24696, 'expensively': 24697, 'rafidain': 24698, 'finsbury': 24699, 'notoriety': 24700, 'earl': 24701, 'columbiadisintegred': 24702, 'reentering': 24703, '10dec': 24704, 'drugged': 24705, '22nation': 24706, 'headlining': 24707, 'differed': 24708, 'elerian': 24709, 'complains': 24710, 'ezzat': 24711, 'itv1': 24712, 'nowretired': 24713, 'suleimaniyah': 24714, 'salah': 24715, 'genitals': 24716, 'kerkorian': 24717, 'shedding': 24718, 'ghosn': 24719, 'frenchfunded': 24720, 'contry': 24721, 'transporation': 24722, '263': 24723, '299': 24724, 'virussharing': 24725, 'diagnostic': 24726, 'utterly': 24727, 'irrelevant': 24728, 'simpson': 24729, 'hudsondean': 24730, 'orjiako': 24731, 'hassanpour': 24732, 'abdolvahed': 24733, 'hiva': 24734, 'botimar': 24735, 'asou': 24736, 'guocong': 24737, '8700': 24738, 'grossly': 24739, 'wellplaced': 24740, 'jamuna': 24741, '1500meter': 24742, '0051655093': 24743, 'camille': 24744, 'pin': 24745, 'karolina': 24746, 'sprem': 24747, 'militaryage': 24748, 'housebyhouse': 24749, 'harkleroad': 24750, 'mujahadeen': 24751, 'adjourns': 24752, 'gaston': 24753, 'gaudio': 24754, 'kanaan': 24755, 'usallied': 24756, 'parlemannews': 24757, 'natofunded': 24758, 'alyaty': 24759, 'melange': 24760, '2million': 24761, 'edison': 24762, 'natama': 24763, 'unavoidable': 24764, 'wannian': 24765, 'whereas': 24766, 'hanyuan': 24767, 'zhengyu': 24768, 'dung': 24769, 'structuring': 24770, 'halo': 24771, '182000': 24772, 'lining': 24773, 'specialize': 24774, 'validated': 24775, 'si': 24776, 'cumple': 24777, 'mvr': 24778, '1262': 24779, 'westsouthwest': 24780, 'fourthbusiest': 24781, '1851': 24782, 'rustler': 24783, 'pokot': 24784, 'letimalo': 24785, 'combing': 24786, 'lowerthannormal': 24787, 'bend': 24788, 'wilderness': 24789, '410000': 24790, 'aquarium': 24791, 'vlado': 24792, 'cathy': 24793, 'majtenyi': 24794, 'uwezo': 24795, 'theatre': 24796, 'colonize': 24797, 'angloegyptian': 24798, 'rum': 24799, 'distilling': 24800, 'croix': 24801, 'mindaugas': 24802, '1386': 24803, '1569': 24804, 'abortive': 24805, 'lowermiddleincome': 24806, 'gonsalves': 24807, 'notarized': 24808, 'pinion': 24809, 'biceps': 24810, 'pugiliste': 24811, 'stepstools': 24812, 'macedonianamerican': 24813, 'kurdishmajority': 24814, 'demontrators': 24815, 'iranafghanistan': 24816, 'arafatallies': 24817, 'alqidwa': 24818, 'longcondemned': 24819, 'pall': 24820, 'diet': 24821, 'shelley': 24822, 'schlender': 24823, 'hammond': 24824, 'obamas': 24825, 'altayeb': 24826, 'almusbah': 24827, 'inflicting': 24828, 'khar': 24829, 'hacari': 24830, 'santander': 24831, 'honked': 24832, 'circled': 24833, 'unleaded': 24834, 'thirdhighest': 24835, '438000': 24836, 'kalameh': 24837, 'sabz': 24838, 'bazian': 24839, 'dahuk': 24840, 'disloyalty': 24841, '20yearolds': 24842, 'juristictions': 24843, 'kimono': 24844, 'jamaatuddawa': 24845, 'quakeaffected': 24846, 'gabla': 24847, 'antieritrean': 24848, 'concocted': 24849, 'animosity': 24850, 'aidtolebanon': 24851, 'appropriation': 24852, 'jalalzadeh': 24853, 'cai': 24854, 'guoquiang': 24855, 'gunpowder': 24856, 'designing': 24857, 'computercontrolled': 24858, 'guggenheim': 24859, 'yiru': 24860, 'warweary': 24861, 'bian': 24862, 'tanoh': 24863, 'bouna': 24864, 'abderahmane': 24865, 'vezzaz': 24866, 'tintane': 24867, 'californiamexico': 24868, 'otay': 24869, 'interrogate': 24870, 'pressipsos': 24871, 'moken': 24872, 'banged': 24873, 'loftis': 24874, 'schilling': 24875, 'asafa': 24876, 'usain': 24877, 'haniyah': 24878, 'farhat': 24879, 'cautioning': 24880, 'rematch': 24881, '988': 24882, 'one100th': 24883, 'aidar': 24884, '972': 24885, 'two100ths': 24886, 'sequence': 24887, 'tyson': 24888, 'sonora': 24889, 'windassisted': 24890, '968': 24891, 'anxiously': 24892, 'rubberstamp': 24893, '169000': 24894, 'liwei': 24895, 'naser': 24896, 'earthen': 24897, 'raba': 24898, 'borderline': 24899, 'spearheading': 24900, 'tarso': 24901, 'genro': 24902, 'treasurer': 24903, 'dirceu': 24904, 'reshuffling': 24905, 'noncontracted': 24906, 'timer': 24907, '87000': 24908, 'magnitude70': 24909, 'carnivallike': 24910, 'gaudy': 24911, 'muqudadiyah': 24912, 'earthquakegenerated': 24913, 'relais': 24914, 'prommegger': 24915, 'heinz': 24916, 'inniger': 24917, '1630': 24918, 'jaquet': 24919, '1460': 24920, 'kohli': 24921, 'daniela': 24922, 'meuli': 24923, 'pomagalski': 24924, 'isabelle': 24925, 'blanc': 24926, 'ibb': 24927, 'jibla': 24928, 'bruno': 24929, 'promusharraf': 24930, 'acholi': 24931, 'aphaluck': 24932, 'bhatiasevi': 24933, '292': 24934, 'vomit': 24935, 'saliva': 24936, 'dhess': 24937, 'shalabi': 24938, 'aldagma': 24939, 'altawhid': 24940, 'djamel': 24941, 'jewishowned': 24942, 'dusseldorf': 24943, 'abdalla': 24944, 'mostwidely': 24945, 'counterfeiter': 24946, 'alois': 24947, 'soldaten': 24948, 'cavernous': 24949, 'armory': 24950, '300member': 24951, '8billion': 24952, 'lekki': 24953, '450000': 24954, '6500': 24955, 'decommission': 24956, 'acehnese': 24957, 'resent': 24958, 'burdzhanadze': 24959, '42nd': 24960, 'murphy': 24961, 'translates': 24962, 'shaleyste': 24963, 'cart': 24964, 'reconcilation': 24965, 'eritreanbased': 24966, 'alimov': 24967, 'berkin': 24968, 'chaika': 24969, 'emigre': 24970, 'pavel': 24971, 'ryaguzov': 24972, 'annualized': 24973, 'ninepointtwo': 24974, 'jalbire': 24975, 'retires': 24976, 'shearer': 24977, 'initiator': 24978, 'middleman': 24979, 'lupolianski': 24980, 'slavonia': 24981, 'longsuccessful': 24982, 'interlarded': 24983, 'vagary': 24984, '934000': 24985, 'regulated': 24986, 'statutory': 24987, 'alleviated': 24988, 'strawyard': 24989, 'eater': 24990, 'ashamed': 24991, 'admirer': 24992, 'zealous': 24993, 'lena': 24994, 'elbashir': 24995, 'dazzling': 24996, 'boisterous': 24997, 'oneweek': 24998, 'tilt': 24999, 'kalachen': 25000, 'rapporteur': 25001, '557': 25002, '522': 25003, 'ah1n1': 25004, 'enroute': 25005, 'whatsoever': 25006, 'xiamen': 25007, 'kaohsiung': 25008, 'lambasted': 25009, 'unsavory': 25010, 'dunking': 25011, 'filthy': 25012, 'workable': 25013, 'jocic': 25014, 'stormravaged': 25015, 'floodwater': 25016, 'acehbased': 25017, 'marble': 25018, 'sculpted': 25019, 'voulgarakis': 25020, 'popovkin': 25021, 'jabir': 25022, 'jubran': 25023, 'yemenbased': 25024, 'hezbollahoperated': 25025, 'machinist': 25026, 'insulin': 25027, 'glucose': 25028, 'carrizales': 25029, 'communityowned': 25030, 'atal': 25031, 'bihari': 25032, 'bhartiya': 25033, 'earle': 25034, 'prosecutorial': 25035, 'pornographic': 25036, 'prearranged': 25037, 'password': 25038, 'proliferators': 25039, 'teshome': 25040, 'toga': 25041, 'structur': 25042, '2000yearsold': 25043, 'trans': 25044, 'unsaturated': 25045, 'clog': 25046, 'applauding': 25047, 'artistic': 25048, 'sahar': 25049, 'sepehri': 25050, 'evangelina': 25051, 'elizondo': 25052, 'phantom': 25053, '1245': 25054, '915': 25055, 'konarak': 25056, 'domesticallyproduced': 25057, 'furnished': 25058, 'wmo': 25059, 'factored': 25060, 'salaheddin': 25061, 'talib': 25062, 'nader': 25063, 'shaban': 25064, '1750': 25065, '427000': 25066, 'selfemployed': 25067, 'chipaque': 25068, 'sabirjon': 25069, 'kwaito': 25070, 'derivative': 25071, 'mbalax': 25072, 'youssou': 25073, 'ndour': 25074, '100th': 25075, 'stiffly': 25076, 'fracturing': 25077, 'batna': 25078, '25trillion': 25079, 'roulette': 25080, 'chineseus': 25081, 'irresponsibly': 25082, 'sittwe': 25083, 'sparrowhawk': 25084, 'jubilation': 25085, 'specializing': 25086, 'tightlyguarded': 25087, 'governmentlinked': 25088, 'antimonarchy': 25089, 'jamaat': 25090, 'ul': 25091, 'alquran': 25092, 'alnahda': 25093, 'rusafa': 25094, 'passportforging': 25095, 'latifiyah': 25096, 'aps': 25097, 'intercede': 25098, 'austere': 25099, 'pachyderm': 25100, 'foments': 25101, 'favoritism': 25102, 'usisraeli': 25103, '6615': 25104, 'crimp': 25105, '588': 25106, 'anticocaine': 25107, 'drugfueled': 25108, '27nov': 25109, 'arbour': 25110, 'pastoral': 25111, 'nomadism': 25112, 'sedentary': 25113, 'quarreled': 25114, 'literate': 25115, 'indebtedness': 25116, 'saa': 25117, 'duhalde': 25118, '1to1': 25119, 'bottomed': 25120, 'audacious': 25121, 'understating': 25122, 'exacerbating': 25123, 'dominica': 25124, 'geothermal': 25125, 'twodecade': 25126, 'ethnicbased': 25127, 'lightening': 25128, 'overburdened': 25129, 'everchanging': 25130, 'intensely': 25131, 'shining': 25132, 'antidenmark': 25133, 'quarreling': 25134, 'hopped': 25135, 'fahim': 25136, 'emroz': 25137, 'didadgah': 25138, 'rodong': 25139, 'wenesday': 25140, 'organizational': 25141, 'faulted': 25142, 'responder': 25143, 'gijira': 25144, 'fdic': 25145, 'tartous': 25146, 'togoleseflagged': 25147, 'flannel': 25148, 'sweater': 25149, 'patat': 25150, 'jabor': 25151, 'dalian': 25152, 'tian': 25153, 'neng': 25154, 'meishan': 25155, 'westleaning': 25156, 'lukewarm': 25157, 'recentlyrepaired': 25158, 'mosleshi': 25159, '637': 25160, 'texmelucan': 25161, 'turkishruled': 25162, '20percent': 25163, 'her2': 25164, 'ayar': 25165, 'postpones': 25166, 'lazio': 25167, 'fiorentina': 25168, 'serie': 25169, 'handpicking': 25170, 'relegation': 25171, 'fulani': 25172, 'herdsman': 25173, 'allaround': 25174, 'creationism': 25175, 'gymnastics': 25176, 'tsunamiwarning': 25177, 'healed': 25178, 'molucca': 25179, 'ternate': 25180, 'vivanewscom': 25181, '908': 25182, 'rotator': 25183, 'cuff': 25184, 'keywords': 25185, 'chat': 25186, 'syriandominated': 25187, 'talibanallied': 25188, 'accessed': 25189, 'storing': 25190, 'pbsnewshour': 25191, 'mighty': 25192, 'najjar': 25193, 'meza': 25194, 'oleksander': 25195, 'horobets': 25196, 'sixtenths': 25197, 'despicable': 25198, 'rfid': 25199, 'biographical': 25200, 'bezsmertniy': 25201, 'terrence': 25202, 'corina': 25203, 'morariu': 25204, 'mashona': 25205, 'usrussia': 25206, 'qutbi': 25207, 'aero': 25208, 'toluca': 25209, 'alistair': 25210, 'lefthanded': 25211, '297for': 25212, '367': 25213, '323': 25214, '305': 25215, 'aristolbulo': 25216, 'isturiz': 25217, 'timergarah': 25218, 'sibbi': 25219, 'streamlines': 25220, 'siphon': 25221, 'palestinianisraeli': 25222, 'rouen': 25223, 'hazehit': 25224, 'disproportionally': 25225, 'overrepresented': 25226, 'lowpaying': 25227, 'pekanbara': 25228, 'islamophobic': 25229, 'underdocumented': 25230, 'underreported': 25231, 'hexaflouride': 25232, 'tackling': 25233, 'tindouf': 25234, 'yudhyono': 25235, 'lekima': 25236, 'guanglie': 25237, 'mesopotamia': 25238, 'abnormality': 25239, 'prekatrina': 25240, 'have': 25241, 'havenots': 25242, 'keith': 25243, 'snorted': 25244, 'ingesting': 25245, 'cremated': 25246, 'cared': 25247, 'bert': 25248, 'famously': 25249, 'hardliving': 25250, '11judge': 25251, '10jan': 25252, 'dissenting': 25253, 'edmund': 25254, 'vacated': 25255, 'nationssponsored': 25256, 'strikingly': 25257, 'sews': 25258, 'devra': 25259, 'robitaille': 25260, 'flier': 25261, 'washingtonian': 25262, 'mousa': 25263, 'irrelevent': 25264, 'statments': 25265, 'baghaichhari': 25266, 'gravesite': 25267, 'khantymansiisk': 25268, 'padded': 25269, 'burdensome': 25270, 'popsl': 25271, 'businessfriendly': 25272, 'secondfastest': 25273, 'straddling': 25274, 'overexploitation': 25275, 'deepwater': 25276, '23846': 25277, '019': 25278, 'kjetil': 25279, 'aamodt': 25280, '0110474537': 25281, 'concessionary': 25282, 'deepened': 25283, 'parity': 25284, 'debtdriven': 25285, 'inflationary': 25286, '0110625': 25287, 'maaouya': 25288, 'sid': 25289, 'afromauritanians': 25290, 'moor': 25291, 'arabberber': 25292, 'aqim': 25293, 'supercombi': 25294, 'jar': 25295, 'smeared': 25296, 'suffocated': 25297, 'expiring': 25298, 'fondles': 25299, 'caressed': 25300, 'smothered': 25301, 'nurtured': 25302, 'banjo': 25303, 'alishar': 25304, 'mirajuddin': 25305, 'giro': 25306, 'rignot': 25307, 'kenedy': 25308, 'neal': 25309, 'lieutenantcolonel': 25310, 'unmonitored': 25311, 'josslyn': 25312, 'aberle': 25313, 'incarceration': 25314, 'readied': 25315, 'homayun': 25316, 'khamail': 25317, 'reassess': 25318, 'electionday': 25319, 'wnba': 25320, 'hawi': 25321, 'peeling': 25322, 'khao': 25323, 'lak': 25324, 'trumpeting': 25325, 'nonperishable': 25326, 'dodger': 25327, '85yearsold': 25328, 'exfar': 25329, 'alison': 25330, 'sportscar': 25331, 'irwindale': 25332, 'speedway': 25333, 'deuce': 25334, 'bigalow': 25335, 'sadek': 25336, 'enzos': 25337, 'brewing': 25338, 'bottler': 25339, 'drinker': 25340, 'brewer': 25341, 'coltan': 25342, 'cassiterite': 25343, 'socialchristian': 25344, 'diaoyu': 25345, 'unguarded': 25346, 'perimeter': 25347, '83yearold': 25348, 'olivegreen': 25349, 'leftover': 25350, 'palestinianclaimed': 25351, 'retroactively': 25352, 'shuffle': 25353, '541': 25354, 'dharmendra': 25355, 'rajaratnam': 25356, 'sasa': 25357, 'radak': 25358, 'ovcara': 25359, 'saidati': 25360, 'agnes': 25361, 'uwimana': 25362, 'disobedience': 25363, '8462': 25364, '13543': 25365, '74571': 25366, 'uladi': 25367, 'mazlan': 25368, 'jusoh': 25369, 'resonated': 25370, 'deepens': 25371, 'katarina': 25372, 'shinboue': 25373, 'leanne': 25374, 'lubiani': 25375, '87th': 25376, 'fullyloaded': 25377, 'midair': 25378, 'royce': 25379, 'volley': 25380, 'katyushatype': 25381, 'navarre': 25382, 'corpsman': 25383, 'kor': 25384, '25meterhigh': 25385, '150meterlong': 25386, 'stormrelated': 25387, 'affirmation': 25388, 'yankham': 25389, 'kengtung': 25390, 'countdown': 25391, 'locallevel': 25392, 'tor': 25393, 'manan': 25394, 'edible': 25395, 'nonelectrical': 25396, 'kavkazcentercom': 25397, 'abdulkhalim': 25398, 'sadulayev': 25399, 'rivaling': 25400, '30thousand': 25401, 'telethons': 25402, '60million': 25403, 'unesco': 25404, 'parthenon': 25405, 'canadiandonated': 25406, 'projunta': 25407, '392': 25408, '485': 25409, 'clamped': 25410, 'drywall': 25411, 'helipad': 25412, 'mart': 25413, 'kruif': 25414, 'bedfordshire': 25415, 'bedford': 25416, 'skyjackers': 25417, '726': 25418, 'selfinflicted': 25419, 'nanking': 25420, 'pesticide': 25421, 'residue': 25422, 'statistically': 25423, 'jacqueline': 25424, 'onassis': 25425, 'stillborn': 25426, 'repose': 25427, 'hkd': 25428, 'konstanz': 25429, 'dortmund': 25430, 'koblenz': 25431, 'kazmi': 25432, 'outnumbering': 25433, '623000': 25434, 'cisplatin': 25435, 'cervix': 25436, 'smallcell': 25437, 'lifeprolonging': 25438, 'hina': 25439, 'jutarnji': 25440, 'diligently': 25441, 'casual': 25442, 'grinstein': 25443, 'highlycompetitive': 25444, 'moreprofitable': 25445, 'budgetprice': 25446, 'rafat': 25447, 'costliest': 25448, 'downsizing': 25449, 'nonexport': 25450, 'cooled': 25451, 'productionsharing': 25452, 'psa': 25453, 'nagornokarabakh': 25454, 'chiefdoms': 25455, 'springboard': 25456, '1844': 25457, 'nonrepresentative': 25458, 'leonidas': 25459, 'trujillo': 25460, '1870': 25461, 'circumscribed': 25462, 'lateran': 25463, 'concordat': 25464, 'primacy': 25465, 'profess': 25466, 'ungrudgingly': 25467, 'commiserated': 25468, 'surely': 25469, 'financiallytroubled': 25470, 'celma': 25471, 'illustrious': 25472, 'greatuncle': 25473, 'bullitt': 25474, 'papillon': 25475, 'memorabilia': 25476, 'boyhood': 25477, 'yungwoo': 25478, 'meaningless': 25479, 'graz': 25480, 'nozari': 25481, 'hamshahri': 25482, 'shargh': 25483, '10story': 25484, 'quartermillion': 25485, 'chow': 25486, 'chilled': 25487, 'highspeed': 25488, 'fuzhou': 25489, 'jessica': 25490, 'fiance': 25491, 'xtr': 25492, 'assultan': 25493, 'ludford': 25494, 'hanjiang': 25495, 'mashjid': 25496, 'jalna': 25497, 'osaid': 25498, 'alfalluji': 25499, 'alnajdi': 25500, 'newsletter': 25501, 'sawt': 25502, 'aljihad': 25503, 'disseminate': 25504, 'khaleeq': 25505, 'tumbling': 25506, 'kel': 25507, 'seun': 25508, 'afrobeat': 25509, 'fela': 25510, 'multicultural': 25511, 'nnamdi': 25512, 'moweta': 25513, 'leo': 25514, 'cheaply': 25515, 'undercutting': 25516, 'bomblet': 25517, 'dub': 25518, 'monkled': 25519, 'discriminating': 25520, 'disregarding': 25521, 'alaynin': 25522, 'haaretzthat': 25523, 'zigana': 25524, 'gumushane': 25525, 'surround': 25526, 'intersect': 25527, 'arla': 25528, '10point': 25529, 'loses': 25530, 'chretien': 25531, 'koksal': 25532, 'toptan': 25533, 'neoliberal': 25534, 'koreanflagged': 25535, 'rim': 25536, 'libyanowned': 25537, 'disowning': 25538, 'notre': 25539, 'patriarchal': 25540, 'halfpage': 25541, 'alkhalayleh': 25542, 'doomsday': 25543, '70year': 25544, 'gobe': 25545, 'uprooting': 25546, 'onemillion': 25547, 'conclusive': 25548, 'waded': 25549, 'unprovoked': 25550, 'hamidreza': 25551, 'estefan': 25552, 'thalia': 25553, 'jamrud': 25554, 'venevision': 25555, 'ovidio': 25556, 'cuesta': 25557, 'baramullah': 25558, 'srinigar': 25559, 'profreedom': 25560, 'indianadministered': 25561, 'assembling': 25562, '117000': 25563, 'bikaner': 25564, 'sketch': 25565, 'amos': 25566, 'esmat': 25567, 'klain': 25568, '8599': 25569, '9041': 25570, 'emanate': 25571, 'dahl': 25572, 'froeshaug': 25573, 'fourman': 25574, '4x5kilometer': 25575, 'atiku': 25576, 'lai': 25577, 'immoral': 25578, 'yambio': 25579, 'seyi': 25580, 'memene': 25581, 'kerosene': 25582, 'ramdi': 25583, 'deepak': 25584, 'gurung': 25585, 'bago': 25586, 'kyaukeinsu': 25587, 'sardan': 25588, 'kanyutkwin': 25589, 'allert': 25590, '428': 25591, 'sounding': 25592, 'kleiner': 25593, 'caufield': 25594, 'byers': 25595, 'computerrelated': 25596, 'blossomed': 25597, 'thirdincommand': 25598, 'lowerlevel': 25599, 'machakos': 25600, 'drank': 25601, 'makutano': 25602, 'methanol': 25603, 'changaa': 25604, 'stateofthenation': 25605, 'palpa': 25606, 'bitlis': 25607, 'pejak': 25608, 'cessation': 25609, 'hawaiian': 25610, 'papahanaumokuakea': 25611, 'terrestriallife': 25612, 'shellfish': 25613, 'seabird': 25614, 'dollarbased': 25615, 'colon': 25616, 'traverse': 25617, 'graylist': 25618, 'uschina': 25619, 'aruban': 25620, 'dip': 25621, 'frequenting': 25622, 'lamentation': 25623, 'fuss': 25624, '3517': 25625, '493': 25626, 'runchase': 25627, '6500strong': 25628, '70member': 25629, 'intimidating': 25630, 'intrapalestinian': 25631, 'sucre': 25632, 'olivier': 25633, 'rochus': 25634, '495': 25635, 'ramstein': 25636, 'pontifical': 25637, 'poupard': 25638, 'castel': 25639, 'gandolfo': 25640, '14thcentury': 25641, 'theorized': 25642, 'othman': 25643, 'swank': 25644, 'supportingactress': 25645, 'portrayal': 25646, 'katherine': 25647, 'hepburn': 25648, 'freeman': 25649, 'supportingactor': 25650, 'shaloub': 25651, 'orbach': 25652, 'ensemble': 25653, 'quirky': 25654, 'roadtrip': 25655, 'jpmorgan': 25656, 'midfielder': 25657, 'headbutt': 25658, 'ramming': 25659, 'wael': 25660, 'alrubaei': 25661, 'izzariya': 25662, 'embryo': 25663, 'preclude': 25664, 'underling': 25665, 'coercion': 25666, 'impropriety': 25667, 'fadela': 25668, 'chaib': 25669, 'sufferer': 25670, 'nonaggression': 25671, 'ltgen': 25672, '315member': 25673, 'unionun': 25674, '26000member': 25675, 'kandili': 25676, 'anatolianews': 25677, 'erzurum': 25678, 'governorates': 25679, 'qods': 25680, 'shorten': 25681, 'gye': 25682, 'gwan': 25683, 'wafd': 25684, 'votebuying': 25685, 'baleno': 25686, 'picnicking': 25687, 'aleg': 25688, 'qadi': 25689, 'na': 25690, 'numbereight': 25691, 'jarmila': 25692, 'gajdosova': 25693, 'ting': 25694, 'tiantian': 25695, 'oppositioncontrolled': 25696, 'scandalized': 25697, 'anymore': 25698, 'deeplyflawed': 25699, 'ana': 25700, 'rauchenstein': 25701, 'testlaunch': 25702, 'alsabaa': 25703, 'spelled': 25704, 'gasguzzling': 25705, '13member': 25706, '12member': 25707, 'lobe': 25708, 'sedative': 25709, 'frenchegyptian': 25710, 'soir': 25711, 'acquaint': 25712, 'inflammable': 25713, 'attamills': 25714, 'consumes': 25715, 'postcivil': 25716, 'philanthropy': 25717, 'developingworld': 25718, 'hutton': 25719, 'forgivable': 25720, 'faras': 25721, 'aljabouri': 25722, 'jabouri': 25723, 'alaqidi': 25724, 'joanne': 25725, '5779': 25726, '5725': 25727, '577': 25728, 'fahad': 25729, 'alahmad': 25730, 'goldmansachs': 25731, 'cured': 25732, 'melanne': 25733, 'ambassadoratlarge': 25734, 'nanjing': 25735, 'haerbaling': 25736, 'divulge': 25737, 'crafted': 25738, '5495': 25739, 'tsholotsho': 25740, 'chinotimba': 25741, 'dayvisit': 25742, 'inbalance': 25743, 'madero': 25744, 'otis': 25745, 'powerlines': 25746, 'whiskey': 25747, 'abolishing': 25748, 'footprint': 25749, 'khuzestan': 25750, 'saudia': 25751, 'jules': 25752, 'guere': 25753, 'influnce': 25754, 'majzoub': 25755, 'samkelo': 25756, 'mokhine': 25757, 'jehangir': 25758, 'mirza': 25759, 'kyotostyle': 25760, 'enthusiastically': 25761, 'acknowledgment': 25762, 'iraqbased': 25763, 'thrifty': 25764, 'handmade': 25765, 'micronesians': 25766, 'vanilla': 25767, 'tongan': 25768, 'upturn': 25769, 'tanganyika': 25770, 'minimizing': 25771, 'negation': 25772, '1010': 25773, 'lowerpriced': 25774, '280000': 25775, 'uscambodia': 25776, 'tifa': 25777, 'fashioning': 25778, 'povertyridden': 25779, 'thrush': 25780, 'intently': 25781, 'upwards': 25782, 'swoon': 25783, 'purposed': 25784, 'unawares': 25785, 'snare': 25786, 'ahmedou': 25787, 'alashayier': 25788, 'kouk': 25789, 'sadun': 25790, 'hamduni': 25791, 'hmas': 25792, 'fitted': 25793, 'f35': 25794, 'turnbull': 25795, 'doctorpatient': 25796, 'awantipora': 25797, 'sealedoff': 25798, 'saldanha': 25799, 'lateef': 25800, 'adegbite': 25801, 'darkest': 25802, 'alzarqwai': 25803, 'insurgentheld': 25804, 'scrubbed': 25805, 'hangar': 25806, 'annex': 25807, 'sabri': 25808, 'annexing': 25809, 'treetop': 25810, 'shorterrange': 25811, 'obaidullah': 25812, 'lal': 25813, 'patched': 25814, '80year': 25815, 'vassily': 25816, 'slandered': 25817, 'yoshie': 25818, 'sato': 25819, 'yokosuka': 25820, 'kitty': 25821, 'assessor': 25822, 'vimpelcom': 25823, 'jaunpur': 25824, 'patna': 25825, 'hexogen': 25826, 'unclaimed': 25827, 'bavaria': 25828, 'allay': 25829, 'usnigerian': 25830, '594': 25831, '58th': 25832, 'wrecked': 25833, 'aijalon': 25834, 'sixpoint': 25835, 'unhindered': 25836, 'preconflict': 25837, 'kasab': 25838, 'faizullah': 25839, 'akhbar': 25840, 'alyoum': 25841, 'drugmaking': 25842, 'twomonthlong': 25843, '72hour': 25844, 'jamia': 25845, 'antiamericanism': 25846, '12012': 25847, '12049': 25848, 'softdrink': 25849, 'livefire': 25850, 'stepan': 25851, 'georgi': 25852, 'parvanov': 25853, 'prolongs': 25854, 'normalized': 25855, 'hennadiy': 25856, 'vasylyev': 25857, 'epa': 25858, 'proenvironment': 25859, 'projobs': 25860, 'ecweru': 25861, 'swahili': 25862, 'mulongoti': 25863, 'bududa': 25864, 'header': 25865, 'khedira': 25866, '82nd': 25867, 'mesut': 25868, 'oezil': 25869, 'edinson': 25870, 'cavani': 25871, 'equalized': 25872, 'forlan': 25873, 'marcell': 25874, 'jansen': 25875, 'resettling': 25876, 'unsubstantiated': 25877, 'categorized': 25878, 'shegag': 25879, 'karo': 25880, 'sixtyseven': 25881, 'alhudaidah': 25882, 'poliofree': 25883, 'badoer': 25884, 'f430': 25885, 'spider': 25886, 'maranello': 25887, 'reggio': 25888, 'emilia': 25889, 'venice': 25890, 'ignites': 25891, 'scoop': 25892, 'footprintshaped': 25893, 'subsurface': 25894, '679': 25895, '447': 25896, 'buyukanit': 25897, '10597': 25898, 'dollarpriced': 25899, 'oilimporting': 25900, 'billionmember': 25901, 'wadowice': 25902, 'worshipped': 25903, 'metersdeep': 25904, 'seventytwo': 25905, 'gurirab': 25906, 'redistribution': 25907, 'speedsensing': 25908, 'petting': 25909, 'binyamina': 25910, 'some500': 25911, 'chilling': 25912, '22member': 25913, 'nonlocal': 25914, 'bullying': 25915, 'deprive': 25916, 'mastering': 25917, 'wabho': 25918, 'shababheld': 25919, 'electricial': 25920, 'lifelong': 25921, 'trusting': 25922, 'triumf': 25923, 'easternmost': 25924, 'kwajalein': 25925, 'usaka': 25926, '1881': 25927, 'paroled': 25928, 'joachim': 25929, 'ruecker': 25930, 'repressing': 25931, 'unmatched': 25932, 'zine': 25933, 'abidine': 25934, 'tunis': 25935, 'ghannouchi': 25936, 'mbazaa': 25937, 'fluctuated': 25938, 'terrible': 25939, 'zoological': 25940, 'tale': 25941, 'graze': 25942, 'tidings': 25943, 'whence': 25944, 'entertained': 25945, 'boatman': 25946, 'yielding': 25947, 'gasped': 25948, 'wretched': 25949, 'perilous': 25950, 'renoun': 25951, 'elf': 25952, 'leonardo': 25953, 'overaggressive': 25954, '92000': 25955, 'chinghsi': 25956, 'mid1999': 25957, '1247': 25958, 'mistreats': 25959, 'baltim': 25960, 'kafr': 25961, 'zigazag': 25962, 'entebbe': 25963, 'jovica': 25964, 'simatovic': 25965, 'insidious': 25966, 'nihilism': 25967, 'halfhour': 25968, 'copt': 25969, 'nightly': 25970, 'renegotiating': 25971, '77000': 25972, '368': 25973, 'remotecontrol': 25974, 'cone': 25975, 'foam': 25976, 'disintegration': 25977, 'goldsmith': 25978, 'aluzayra': 25979, 'larkin': 25980, 'khayber': 25981, 'oilbased': 25982, 'soohyuck': 25983, 'format': 25984, 'worthless': 25985, 'newlyappointed': 25986, 'dae': 25987, 'alhamash': 25988, 'levied': 25989, 'somavia': 25990, 'coeducational': 25991, 'colderthanusual': 25992, 'borjomi': 25993, 'jaca': 25994, 'pyeongchang': 25995, 'salzburg': 25996, '25point': 25997, 'questionnaire': 25998, 'accommodation': 25999, '6th': 26000, 'buddhism': 26001, 'midthird': 26002, 'anuradhapura': 26003, 'polonnaruwa': 26004, '1070': 26005, 'mcchrystal': 26006, '07apr': 26007, 'pinerolo': 26008, '09aug': 26009, '1500s': 26010, 'glide': 26011, 'circular': 26012, 'briquette': 26013, 'aluminummaker': 26014, 'norpro': 26015, 'xingguang': 26016, '3200': 26017, '1796': 26018, '1802': 26019, 'alain': 26020, 'pellegrini': 26021, 'ceylon': 26022, 'lubero': 26023, 'guehenno': 26024, 'eelam': 26025, 'overshadow': 26026, 'kofoworola': 26027, 'anguish': 26028, 'cual': 26029, 'ojeda': 26030, 'borges': 26031, 'proficiency': 26032, 'indoctrinate': 26033, '128member': 26034, 'meterlong': 26035, 'gravel': 26036, 'kihonge': 26037, 'supervising': 26038, 'atlarge': 26039, 'yugoslavian': 26040, 'dacic': 26041, 'everincreasing': 26042, 'colleen': 26043, 'pedraz': 26044, 'tara': 26045, 'portsyuk': 26046, '40man': 26047, 'buenaventura': 26048, 'waitangi': 26049, 'npa': 26050, '1843': 26051, 'tsotne': 26052, 'zviad': 26053, 'proindia': 26054, 'hajan': 26055, 'prejudge': 26056, 'lapsed': 26057, 'printemps': 26058, 'publicopinion': 26059, '464': 26060, 'fivepercent': 26061, 'fortythree': 26062, 'dispatching': 26063, 'vampire': 26064, 'renationalized': 26065, 'refill': 26066, 'antisettlement': 26067, 'fourthousand': 26068, 'trespassing': 26069, 'seini': 26070, 'leniency': 26071, 'rebuke': 26072, 'khama': 26073, 'hajem': 26074, 'standbyagreement': 26075, 'bole': 26076, 'nihal': 26077, 'denigrates': 26078, 'ruble': 26079, 'steward': 26080, 'supermajority': 26081, 'göteborg': 26082, 'somalialinked': 26083, 'krisztina': 26084, 'nagy': 26085, '4800': 26086, 'tiechui': 26087, 'paramedic': 26088, 'irrawady': 26089, 'fazul': 26090, '5million': 26091, 'stanezai': 26092, 'impervious': 26093, 'buster': 26094, 'lioness': 26095, 'harden': 26096, '400kilometer': 26097, 'wildboar': 26098, 'easley': 26099, 'laszlo': 26100, 'solyom': 26101, 'sovietimposed': 26102, 'mufti': 26103, 'jalula': 26104, 'amerli': 26105, 'petrol': 26106, 'twoterm': 26107, 'invariably': 26108, 'leveraged': 26109, 'maltese': 26110, 'riskmanagement': 26111, 'faroese': 26112, 'moorish': 26113, 'almansur': 26114, '1578': 26115, 'alaouite': 26116, '1860': 26117, 'internationalized': 26118, 'tangier': 26119, 'bicameral': 26120, 'moderately': 26121, 'hobble': 26122, 'overspending': 26123, 'offbudget': 26124, 'overborrowing': 26125, '14month': 26126, 'licked': 26127, 'dainty': 26128, 'blinking': 26129, 'stroked': 26130, 'commenced': 26131, 'prancing': 26132, 'pitchfork': 26133, 'clumsy': 26134, 'jesting': 26135, 'joke': 26136, 'clintonera': 26137, 'goodnatured': 26138, 'shibis': 26139, 'llasa': 26140, '1157': 26141, 'radhia': 26142, 'achouri': 26143, 'nogo': 26144, 'trily': 26145, 'reprimand': 26146, 'coleand': 26147, 'supertanker': 26148, 'limburg': 26149, 'retraining': 26150, 'supervises': 26151, 'dmitrivev': 26152, 'prestwick': 26153, 'jagdish': 26154, 'sakhalin2': 26155, '20kilometer': 26156, 'yongbyon': 26157, 'renaissance': 26158, 'kedallah': 26159, 'younous': 26160, 'videosharing': 26161, 'purging': 26162, 'demeans': 26163, 'gratuitous': 26164, 'instructional': 26165, 'kuta': 26166, 'taormina': 26167, 'sexuallysuggestive': 26168, 'newlydeclassified': 26169, 'menstrual': 26170, 'unidentifed': 26171, 'provocateur': 26172, '600meterlong': 26173, 'europeannorth': 26174, 'falsifying': 26175, 'pakistanibased': 26176, '60hour': 26177, 'eastward': 26178, 'militarypolitical': 26179, 'alternately': 26180, 'illtreatment': 26181, 'hendrik': 26182, 'taatgen': 26183, 'ambrosio': 26184, 'americanrun': 26185, 'wastewater': 26186, 'yingde': 26187, 'neurological': 26188, 'saudiowned': 26189, 'knockout': 26190, 'unmediated': 26191, 'strongman': 26192, 'yardenna': 26193, 'courtyard': 26194, 'annunciation': 26195, 'noninterference': 26196, 'copenhagen': 26197, 'enacting': 26198, 'snub': 26199, 'peopletopeople': 26200, 'siachen': 26201, '6000meter': 26202, 'kalikot': 26203, 'antijapan': 26204, 'seiken': 26205, 'torres': 26206, 'yake': 26207, '4218': 26208, '3348': 26209, '4867': 26210, 'headband': 26211, '8577': 26212, '13969': 26213, '72988': 26214, 'peaceloving': 26215, 'jamaicanborn': 26216, 'germaine': 26217, 'twisted': 26218, 'antitaleban': 26219, 'holdout': 26220, 'drugcombination': 26221, 'aurobindo': 26222, 'pharma': 26223, 'lamivudine': 26224, 'zidovudine': 26225, 'regimen': 26226, 'sharpened': 26227, 'exclinton': 26228, 'daley': 26229, 'rahm': 26230, 'repays': 26231, 'liempde': 26232, 'nuriye': 26233, 'kesbir': 26234, 'cot': 26235, '708': 26236, 'stateoftheunion': 26237, 'selfexam': 26238, 'malakhel': 26239, 'osmani': 26240, '5415': 26241, 'aubenas': 26242, 'reopens': 26243, 'xinjuan': 26244, 'bruise': 26245, 'georg': 26246, 'trondheim': 26247, 'vague': 26248, 'bernt': 26249, 'pedophilia': 26250, 'senegalbased': 26251, 'takeifa': 26252, 'albumrelease': 26253, 'keita': 26254, 'shyrock': 26255, '1675': 26256, 'architectural': 26257, 'burgeoning': 26258, 'hinting': 26259, 'managua': 26260, 'disavowed': 26261, 'murr': 26262, 'oilgiant': 26263, 'auctionoff': 26264, 'middlelevel': 26265, 'thuggery': 26266, 'michuki': 26267, 'bitten': 26268, 'neskovic': 26269, 'bijeljina': 26270, 'sevencar': 26271, 'amagasaki': 26272, 'osaka': 26273, 'chinaafrica': 26274, '1148': 26275, 'milososki': 26276, 'beneficial': 26277, 'mia': 26278, 'crvenkovski': 26279, 'gruevski': 26280, 'swerved': 26281, 'althing': 26282, 'askja': 26283, 'pattle': 26284, 'woody': 26285, '1788': 26286, 'islander': 26287, 'mechanized': 26288, 'mortgagebacked': 26289, 'rutte': 26290, 'industrialization': 26291, 'gasbased': 26292, 'unlucky': 26293, 'pedestal': 26294, 'hardly': 26295, 'splendour': 26296, 'dukeness': 26297, 'liege': 26298, 'gorgeous': 26299, 'jewel': 26300, 'gleaming': 26301, 'badgesty': 26302, 'catarrh': 26303, 'rabbit': 26304, 'obstructs': 26305, 'cheyenne': 26306, 'upholding': 26307, 'abbasali': 26308, 'kadkhodai': 26309, 'altahreer': 26310, 'commerciallyavailable': 26311, 'peshmerga': 26312, 'christman': 26313, 'energystarved': 26314, 'menoufia': 26315, '43nd': 26316, 'antigenetic': 26317, 'unasur': 26318, 'basile': 26319, 'casmoussa': 26320, 'guenael': 26321, 'rodier': 26322, 'attributing': 26323, 'colonia': 26324, 'cachet': 26325, 'burrow': 26326, 'gino': 26327, 'casassa': 26328, 'segun': 26329, 'odegbami': 26330, 'nfa': 26331, 'salisu': 26332, 'hendarso': 26333, 'sumatran': 26334, 'religiously': 26335, '269': 26336, 'alienate': 26337, 'hazel': 26338, 'blears': 26339, 'khalidiyah': 26340, 'fifthseeded': 26341, '22month': 26342, 'bakwa': 26343, 'ziba': 26344, 'sharq': 26345, 'awsat': 26346, 'designating': 26347, 'worldnumberone': 26348, 'excited': 26349, 'dietary': 26350, 'hauled': 26351, 'antichina': 26352, 'pragmatist': 26353, 'revisited': 26354, 'stargazer': 26355, '50meter': 26356, 'wd5': 26357, 'onein75': 26358, 'threemegaton': 26359, 'exhumation': 26360, 'glorious': 26361, 'whiteclad': 26362, 'fabrizio': 26363, 'kiffa': 26364, 'motorcyclist': 26365, 'charter97': 26366, 'cyril': 26367, 'despres': 26368, 'ktm': 26369, '8956kilometer': 26370, 'ceremon': 26371, 'flabbergasted': 26372, 'earthbound': 26373, 'asparagus': 26374, 'acidic': 26375, 'vapor': 26376, '500million': 26377, 'unocalchevron': 26378, 'cassette': 26379, 'talibanstyle': 26380, 'augment': 26381, 'mcbride': 26382, 'vocalist': 26383, 'nichols': 26384, 'craig': 26385, 'wiseman': 26386, 'peformed': 26387, 'mcgraw': 26388, 'gretchen': 26389, 'kris': 26390, 'kristofferson': 26391, 'zamani': 26392, 'speedboat': 26393, 'coherent': 26394, 'sevenyear': 26395, 'nyein': 26396, 'min': 26397, 'naing': 26398, 'appropriated': 26399, 'proalsadr': 26400, 'fadhila': 26401, 'perverted': 26402, 'cctv': 26403, 'mi5': 26404, 'fuelpump': 26405, 'nozzle': 26406, 'salomi': 26407, 'blackwater': 26408, 'ire': 26409, 'benedicto': 26410, 'elcommercio': 26411, 'zevallos': 26412, 'dee': 26413, 'boersma': 26414, 'indianbased': 26415, 'serfdom': 26416, 'dumitru': 26417, 'newsroom': 26418, 'snowpacked': 26419, 'ingmar': 26420, 'ullman': 26421, 'bibi': 26422, 'andersson': 26423, 'faro': 26424, 'strawberry': 26425, 'madness': 26426, 'tinged': 26427, 'melancholy': 26428, 'humor': 26429, 'iconic': 26430, 'knight': 26431, 'bylaw': 26432, 'thg': 26433, 'tetrahydrogestrinone': 26434, '100meters': 26435, 'americanisrael': 26436, 'mailbox': 26437, 'measurer': 26438, 'machining': 26439, 'invent': 26440, 'braille': 26441, 'sightimpaired': 26442, 'cybersecurity': 26443, 'standardized': 26444, 'hose': 26445, 'remeasured': 26446, 'brandnew': 26447, 'mummified': 26448, 'earthenware': 26449, 'wellpreserved': 26450, 'teir': 26451, 'atoun': 26452, 'thirdholiest': 26453, 'openair': 26454, 'habsburg': 26455, 'anne': 26456, 'emmerick': 26457, 'mel': 26458, 'gibson': 26459, 'ludovica': 26460, 'angelis': 26461, 'mid20th': 26462, 'beatification': 26463, 'directorate': 26464, 'touted': 26465, 'thirdranked': 26466, 'edwin': 26467, 'workload': 26468, 'principlists': 26469, 'reem': 26470, 'zeid': 26471, 'khazaal': 26472, 'gheorghe': 26473, 'flutur': 26474, 'caraorman': 26475, 'huy': 26476, 'nga': 26477, 'locus': 26478, 'moldovan': 26479, 'dniester': 26480, 'slavic': 26481, 'transnistria': 26482, 'pcrm': 26483, 'aie': 26484, 'reconstituted': 26485, 'aiecoalition': 26486, 'barren': 26487, 'subantarctic': 26488, 'heyday': 26489, '1755': 26490, 'guizhou': 26491, 'crocodile': 26492, 'bosom': 26493, 'coldness': 26494, 'grin': 26495, 'thawed': 26496, 'civilly': 26497, '238000': 26498, 'foreshadows': 26499, '940': 26500, 'bedingfield': 26501, 'dreaming': 26502, 'beatboxers': 26503, 'dispenses': 26504, 'aidscausing': 26505, 'dose': 26506, 'anybody': 26507, 'kapondi': 26508, 'joshua': 26509, 'kutuny': 26510, 'wilfred': 26511, 'machage': 26512, 'dragmulla': 26513, 'hurl': 26514, 'walmarts': 26515, 'elvira': 26516, 'nabiullina': 26517, 'gucht': 26518, 'shoaib': 26519, 'panafrican': 26520, 'festus': 26521, 'okonkwo': 26522, 'attends': 26523, 'ussub': 26524, 'amed': 26525, 'snag': 26526, 'exclusively': 26527, 'kordofan': 26528, 'sla': 26529, 'ghubaysh': 26530, 'kilometersperhour': 26531, 'mudslideprone': 26532, 'edel': 26533, 'poet': 26534, 'rivero': 26535, 'espinoso': 26536, 'chepe': 26537, 'conspired': 26538, 'gulzar': 26539, 'nabeel': 26540, 'shamin': 26541, 'uddin': 26542, 'dakhlallah': 26543, 'brice': 26544, 'flashlight': 26545, 'azmi': 26546, 'enkhbayar': 26547, 'fivemillion': 26548, 'cali': 26549, 'barco': 26550, 'bogata': 26551, 'tagging': 26552, 'mastered': 26553, 'earthlike': 26554, 'doused': 26555, 'herder': 26556, 'lateyear': 26557, 'prefamine': 26558, 'afder': 26559, 'liban': 26560, 'gode': 26561, 'deteriorate': 26562, 'atomstroyexport': 26563, 'blowtorch': 26564, 'deteriorates': 26565, 'kisangani': 26566, 'shakeup': 26567, '623': 26568, '6098': 26569, 'temur': 26570, 'pasted': 26571, 'krivtsov': 26572, 'iraqna': 26573, 'posh': 26574, 'makati': 26575, 'deluxe': 26576, 'ghorian': 26577, 'thailandflagged': 26578, 'navfor': 26579, 'harardhere': 26580, 'sacrificial': 26581, 'ubt': 26582, 'trampling': 26583, 'keck': 26584, 'teenaged': 26585, 'mastung': 26586, 'voltage': 26587, 'naushki': 26588, 'wellhead': 26589, 'cawthorne': 26590, 'ricabased': 26591, 'ein': 26592, 'azhar': 26593, 'dignified': 26594, 'flakus': 26595, 'weird': 26596, 'mingora': 26597, 'neolithic': 26598, 'retried': 26599, 'republished': 26600, 'alok': 26601, '10toeight': 26602, 'lauded': 26603, 'palocci': 26604, 'rato': 26605, 'nationsprotected': 26606, 'ringing': 26607, '15day': 26608, 'tet': 26609, 'hermosa': 26610, 'myitsone': 26611, 'kachin': 26612, 'humam': 26613, 'hammoudi': 26614, 'alkharj': 26615, 'narayan': 26616, 'huerta': 26617, 'knut': 26618, 'elfriede': 26619, 'jelinek': 26620, 'irreparably': 26621, 'horace': 26622, 'engdahl': 26623, 'madison': 26624, 'rosetinted': 26625, 'lennon': 26626, 'lyricist': 26627, 'taupin': 26628, 'serenaded': 26629, 'whoopie': 26630, 'goldberg': 26631, 'unionlatin': 26632, 'portraying': 26633, '159000': 26634, 'shaheen': 26635, 'nexus': 26636, 'cheecha': 26637, 'watni': 26638, 'c295': 26639, 'corvette': 26640, 'sipahesahaba': 26641, 'husbandry': 26642, 'conscientious': 26643, 'entrepreneurship': 26644, 'pretended': 26645, 'lameness': 26646, 'mouthful': 26647, 'vexation': 26648, 'sup': 26649, 'flagon': 26650, 'insert': 26651, 'requital': 26652, 'pager': 26653, 'anesthetist': 26654, 'stethoscope': 26655, 'dangling': 26656, 'hardfought': 26657, 'opiumproducing': 26658, '286': 26659, '252': 26660, 'tuncay': 26661, 'heroic': 26662, 'tabinda': 26663, 'doublebombing': 26664, 'kamiya': 26665, 'britishdutch': 26666, 'emailed': 26667, '18million': 26668, 'outfielder': 26669, 'sammy': 26670, 'sosa': 26671, 'fourthhighest': 26672, 'hander': 26673, 'strikeout': 26674, 'cy': 26675, 'rippled': 26676, 'calledoff': 26677, 'deauville': 26678, 'kouguell': 26679, 'padang': 26680, 'daraga': 26681, 'durian': 26682, 'catanduanes': 26683, 'alenezi': 26684, 'kut': 26685, 'rescind': 26686, '57yearold': 26687, 'hongryon': 26688, 'dawoud': 26689, 'rasheed': 26690, 'thawing': 26691, 'predictor': 26692, 'carryover': 26693, 'candlemas': 26694, '400page': 26695, 'wwii': 26696, 'blared': 26697, 'aldabbagh': 26698, 'keynote': 26699, 'complementary': 26700, 'genome': 26701, 'dripped': 26702, 'notion': 26703, 'atttacks': 26704, 'hurriya': 26705, 'kufa': 26706, 'boodai': 26707, 'floodswamped': 26708, 'tearfund': 26709, 'andrhra': 26710, 'arrutbah': 26711, 'khurram': 26712, 'mehran': 26713, 'msn': 26714, 'bing': 26715, 'abdulhussein': 26716, 'turkman': 26717, 'qaratun': 26718, 'khairuddin': 26719, '590': 26720, 'yair': 26721, 'landlord': 26722, 'mykolaiv': 26723, 'chasing': 26724, 'lvf': 26725, 'tyrant': 26726, 'oppress': 26727, 'springsteen': 26728, 'repertoire': 26729, 'idolwinner': 26730, 'noman': 26731, 'refrigerated': 26732, 'abass': 26733, '585': 26734, 'nonmanufacturing': 26735, 'barbero': 26736, 'neutralizing': 26737, 'theniraqi': 26738, 'tessa': 26739, 'jowell': 26740, 'expose': 26741, 'baojing': 26742, 'jianhao': 26743, 'blackmailing': 26744, 'maurice': 26745, '88th': 26746, 'somme': 26747, 'triomphe': 26748, 'pongpa': 26749, 'wasser': 26750, 'irreconcilable': 26751, '22monthold': 26752, 'tracy': 26753, '9081': 26754, 'secondstraight': 26755, 'lebron': 26756, 'pacer': 26757, '9989': 26758, 'croshere': 26759, 'dunleavy': 26760, 'faridullah': 26761, 'kani': 26762, 'wam': 26763, 'fourpointfive': 26764, 'interivew': 26765, 'jianzhong': 26766, 'surkh': 26767, 'nangahar': 26768, 'proimmigrant': 26769, 'guestworker': 26770, 'penalize': 26771, 'baptismal': 26772, 'arranges': 26773, 'shutter': 26774, 'portico': 26775, 'anticapitalist': 26776, 'asserting': 26777, 'sarabjit': 26778, '817000': 26779, 'politicized': 26780, 'resubmit': 26781, 'derg': 26782, 'selassie': 26783, 'widescale': 26784, 'colchis': 26785, 'kartliiberia': 26786, '330s': 26787, 'oceanographic': 26788, 'circumpolar': 26789, 'mingle': 26790, 'discrete': 26791, 'ecologic': 26792, 'approximates': 26793, '1631': 26794, 'retook': 26795, '1633': 26796, 'amongst': 26797, 'roamed': 26798, 'amused': 26799, 'frighten': 26800, 'perched': 26801, 'beak': 26802, 'wily': 26803, 'stratagem': 26804, 'complexion': 26805, 'deservedly': 26806, 'deceitfully': 26807, 'refute': 26808, 'reproached': 26809, 'luxuriate': 26810, 'depicted': 26811, 'zuhair': 26812, 'alchalabi': 26813, 'reapprove': 26814, 'upsidedown': 26815, 'abiya': 26816, 'rizvan': 26817, 'chitigov': 26818, 'shali': 26819, 'rescinded': 26820, 'judo': 26821, 'repatriation': 26822, 'esperanza': 26823, 'copiapo': 26824, 'shadowed': 26825, 'nazran': 26826, 'zyazikov': 26827, 'jafri': 26828, 'venomous': 26829, 'vindicated': 26830, 'samara': 26831, 'arsamokov': 26832, '270000': 26833, 'ingush': 26834, '15nation': 26835, 'newlyconstructed': 26836, 'equipping': 26837, 'interacted': 26838, 'kayhan': 26839, 'antikidnapping': 26840, 'pinas': 26841, 'schoof': 26842, 'ayala': 26843, 'alabang': 26844, '550000': 26845, 'baikonur': 26846, 'cosmodrome': 26847, 'kandal': 26848, 'wedded': 26849, 'kroung': 26850, 'pich': 26851, 'subscribe': 26852, 'animism': 26853, 'inhabit': 26854, 'inanimate': 26855, 'neth': 26856, 'vy': 26857, 'thentiny': 26858, '45thousand': 26859, 'dharmsala': 26860, 'acknowledging': 26861, 'worthwhile': 26862, 'rosary': 26863, 'venom': 26864, 'selectively': 26865, 'trialtaking': 26866, '516': 26867, 'leaguewide': 26868, 'howell': 26869, 'enlarged': 26870, 'franchise': 26871, 'echocardiogram': 26872, 'heartrelated': 26873, 'knicks': 26874, 'eddy': 26875, 'curry': 26876, 'irregular': 26877, 'heartbeat': 26878, 'hoiberg': 26879, 'guenter': 26880, 'verheugen': 26881, 'fivejudge': 26882, 'sheeting': 26883, 'coveted': 26884, 'entitle': 26885, 'salar': 26886, 'uyuni': 26887, 'spanishchinese': 26888, 'dahir': 26889, 'aweys': 26890, 'powerless': 26891, 'tvn': 26892, 'stainmeier': 26893, 'elmasri': 26894, 'butmir': 26895, 'eufor': 26896, 'karameh': 26897, 'antisyria': 26898, 'dwarfed': 26899, 'pressewednesday': 26900, 'bud': 26901, 'selig': 26902, 'fehr': 26903, 'sox': 26904, 'sama': 26905, 'murillo': 26906, 'hokkaido': 26907, 'stiffer': 26908, 'carphedon': 26909, 'murcia': 26910, 'gerolsteiner': 26911, 'issori': 26912, 'k': 26913, 'scourge': 26914, 'buoy': 26915, 'equipment2': 26916, 'thammararoj': 26917, 'dario': 26918, 'kordic': 26919, 'ganiyu': 26920, 'adewale': 26921, 'backedmilitias': 26922, 'badoosh': 26923, 'babaker': 26924, 'zibari': 26925, 'lajcak': 26926, 'anand': 26927, 'sterilized': 26928, 'nimal': 26929, 'siripala': 26930, 'salvaging': 26931, 'norwaybrokered': 26932, 'fouratatime': 26933, 'cab': 26934, 'fortunate': 26935, 'costan': 26936, 'bordercrossing': 26937, 'secondlowest': 26938, '510000': 26939, '610000': 26940, 'emphatically': 26941, 'sakineh': 26942, 'mohammadi': 26943, '43yearold': 26944, 'starve': 26945, 'inexplicable': 26946, '5\\xa0storm': 26947, 'lowpressure': 26948, 'bulletridden': 26949, 'shinsei': 26950, 'maru': 26951, 'bendavid': 26952, 'compensatiion': 26953, 'bayu': 26954, 'krisnamurthi': 26955, 'parviz': 26956, 'davoodi': 26957, '59yearold': 26958, 'vollsmose': 26959, 'odense': 26960, 'evangelization': 26961, 'threemillion': 26962, 'volcanologist': 26963, 'lene': 26964, 'jeanbernard': 26965, '185million': 26966, 'antiaids': 26967, 'understates': 26968, 'thankot': 26969, 'bhairahawa': 26970, 'geophysical': 26971, 'moroccanborn': 26972, 'sparse': 26973, 'summarizes': 26974, 'pollutes': 26975, 'waistcoat': 26976, 'stained': 26977, 'interlinked': 26978, 'biakand': 26979, 'alsunnah': 26980, '215': 26981, 'aulnaysousbois': 26982, 'eker': 26983, 'mellot': 26984, 'korangal': 26985, 'shon': 26986, 'meckfessel': 26987, 'fadlallah': 26988, 'dispel': 26989, 'koyair': 26990, '64year': 26991, 'drunkedness': 26992, 'ac130': 26993, 'hossam': 26994, 'zaki': 26995, 'sadat': 26996, 'outstripped': 26997, 'legia': 26998, 'footballrelated': 26999, 'elijah': 27000, 'misstep': 27001, 'frontpage': 27002, 'maas': 27003, 'muhamed': 27004, 'garza': 27005, 'antiinflammatory': 27006, 'superdome': 27007, 'workout': 27008, 'trinity': 27009, 'alamodome': 27010, 'herbal': 27011, 'palnoo': 27012, 'kulgam': 27013, 'siasi': 27014, 'highvoltage': 27015, 'unprincipled': 27016, 'coldest': 27017, 'mikulski': 27018, 'shyster': 27019, 'uhstad': 27020, 'fourstar': 27021, 'indicative': 27022, 'bermel': 27023, 'slumped': 27024, 'kibembi': 27025, 'shryock': 27026, 'carcass': 27027, 'manifest': 27028, 'sovietmade': 27029, 'portoroz': 27030, 'obita': 27031, 'deescalate': 27032, 'rostovondon': 27033, 'blocktoblock': 27034, 'dhangadi': 27035, 'reclaimed': 27036, 'fragmentation': 27037, 'nesterenk': 27038, 'nuclearpowered': 27039, 'cruiser': 27040, 'chabanenko': 27041, 'alharith': 27042, 'tayseer': 27043, 'endeavouron': 27044, 'spacewalking': 27045, 'reaffirms': 27046, 'bergner': 27047, 'rish': 27048, 'uspakistani': 27049, 'ashfaq': 27050, 'parvez': 27051, 'kayani': 27052, 'fatou': 27053, 'bensouda': 27054, 'hemingway': 27055, 'judgeandjury': 27056, 'brighton': 27057, 'everado': 27058, 'tobasco': 27059, 'montiel': 27060, 'higherlevel': 27061, 'ofakim': 27062, 'nonresident': 27063, '3767': 27064, 'feb88': 27065, 'resurrected': 27066, 'tajouri': 27067, 'antiviolence': 27068, 'campaigner': 27069, 'polska': 27070, 'diminishes': 27071, 'obsession': 27072, 'urdu': 27073, 'americanbased': 27074, 'ethnomusicologist': 27075, 'q': 27076, 'nabarro': 27077, 'poorlyequipped': 27078, 'mirwaiz': 27079, 'lineofcontrol': 27080, 'vilsack': 27081, 'kucinich': 27082, 'aldulaymi': 27083, 'nationalizes': 27084, 'eugenio': 27085, 'anez': 27086, 'nunez': 27087, 'romani': 27088, 'dulaymi': 27089, 'nonpolitical': 27090, 'lately': 27091, 'distract': 27092, 'morshed': 27093, 'ldp': 27094, '532': 27095, 'responsive': 27096, 'jawed': 27097, 'ludin': 27098, 'sordid': 27099, 'horticulture': 27100, 'evolving': 27101, 'derive': 27102, 'onerous': 27103, 'midtolate': 27104, 'jdx': 27105, 'highpriced': 27106, '27month': 27107, 'multilaterals': 27108, 'exacerbates': 27109, 'tarmiyah': 27110, 'judaidah': 27111, 'mingling': 27112, 'talebanlinked': 27113, 'kurdishdominated': 27114, 'zalinge': 27115, 'minimized': 27116, 'demoralized': 27117, 'antilabor': 27118, 'disinvest': 27119, 'suleyman': 27120, 'aysegul': 27121, 'esenler': 27122, 'bourgas': 27123, 'egebank': 27124, 'joblessness': 27125, 'haridy': 27126, 'mirdamadi': 27127, 'pakhtoonkhaw': 27128, 'iteere': 27129, 'tracing': 27130, 'almazbek': 27131, 'hashem': 27132, 'ashibli': 27133, '33member': 27134, 'arabiya': 27135, 'unproposed': 27136, 'manie': 27137, 'clerq': 27138, 'torching': 27139, 'jumbled': 27140, 'acclaimed': 27141, 'avantgarde': 27142, 'yakov': 27143, 'chernikhov': 27144, '274': 27145, 'antique': 27146, 'hermitage': 27147, 'gilded': 27148, 'ladle': 27149, 'fsb': 27150, 'gastrostomy': 27151, 'zoba': 27152, 'yass': 27153, 'alaalam': 27154, 'saloumi': 27155, 'nkunda': 27156, 'rutshuru': 27157, 'disproportionate': 27158, 'cordero': 27159, 'montezemolo': 27160, 'corriere': 27161, 'della': 27162, 'serum': 27163, 'usoccupied': 27164, '626000': 27165, 'informationcollecting': 27166, 'bajur': 27167, 'resealed': 27168, 'squeezing': 27169, 'pro': 27170, 'democratia': 27171, 'snowcovered': 27172, 'thengeorgian': 27173, 'channu': 27174, '64day': 27175, '11300': 27176, 'massaua': 27177, 'turinborn': 27178, 'livio': 27179, 'berruti': 27180, 'palazzo': 27181, 'citta': 27182, 'kissem': 27183, 'tchangaiwalla': 27184, 'lome': 27185, 'emmanual': 27186, 'onepercent': 27187, '055': 27188, 'townsend': 27189, 'suicidebomber': 27190, 'jacket': 27191, 'france3': 27192, 'asylumseeking': 27193, 'choi': 27194, 'younjin': 27195, 'spilt': 27196, 'unjustifiable': 27197, 'beruit': 27198, 'longarmed': 27199, 'odyssey': 27200, 'indignation': 27201, 'boulder': 27202, 'zwally': 27203, 'bioethics': 27204, 'sperm': 27205, 'kompas': 27206, 'iwan': 27207, 'roi': 27208, 'underlined': 27209, 'ridding': 27210, 'untrue': 27211, '5083': 27212, '1224': 27213, '1452': 27214, '1459': 27215, 'decried': 27216, 'vadym': 27217, 'chuprun': 27218, 'preach': 27219, 'namik': 27220, 'infuriated': 27221, 'russianbacked': 27222, 'abdulla': 27223, 'alshahin': 27224, 'freefloating': 27225, 'pagonis': 27226, 'habila': 27227, 'bluefields': 27228, 'steelers': 27229, '17jun': 27230, 'seahawks': 27231, '3417': 27232, '55nation': 27233, 'tarija': 27234, 'gasseparation': 27235, 'onebilliondollars': 27236, '212to206': 27237, '308to106': 27238, 'afari': 27239, 'djan': 27240, 'brong': 27241, 'ahafo': 27242, 'npp': 27243, 'duping': 27244, 'fleeced': 27245, 'ziauddin': 27246, 'gilgit': 27247, 'conoco': 27248, 'gela': 27249, 'bezhuashvili': 27250, 'abiding': 27251, 'rebuffing': 27252, '8206': 27253, '602': 27254, 'westernstyle': 27255, 'universally': 27256, 'originates': 27257, 'latgalians': 27258, 'panabaj': 27259, 'moviegoer': 27260, 'irate': 27261, 'propriety': 27262, 'thirtyoneyearold': 27263, 'bhagwagar': 27264, 'sensationalizing': 27265, '100day': 27266, 'revalue': 27267, 'anatol': 27268, 'liabedzka': 27269, 'krasovsky': 27270, '1776': 27271, 'confederacy': 27272, 'buoyed': 27273, 'desolate': 27274, 'indisputably': 27275, '1614': 27276, 'trapper': 27277, 'beerenberg': 27278, '175000': 27279, 'victorian': 27280, 'awkward': 27281, 'twopart': 27282, 'wajed': 27283, 'harangued': 27284, 'nineva': 27285, 'pushpa': 27286, 'dahal': 27287, 'dasain': 27288, 'risksharing': 27289, 'predetermined': 27290, 'stunned': 27291, 'reverberated': 27292, 'downfall': 27293, 'prabtibha': 27294, 'patil': 27295, 'quarterofamillion': 27296, 'fallujans': 27297, 'grudgingly': 27298, 'backslid': 27299, '155000': 27300, 'fisherprice': 27301, 'gagging': 27302, 'cesme': 27303, 'ksusadasi': 27304, 'bassel': 27305, 'sanitary': 27306, 'typhoid': 27307, 'morelos': 27308, 'exdiplomat': 27309, 'disdain': 27310, 'lugansville': 27311, 'espiritu': 27312, 'nonelected': 27313, 'bankroll': 27314, '1845': 27315, 'chandpur': 27316, 'giorgio': 27317, 'exhort': 27318, 'darwin': 27319, 'resurrect': 27320, 'adana': 27321, 'disparage': 27322, 'enraged': 27323, 'idolatry': 27324, 'eventide': 27325, 'selective': 27326, 'snowed': 27327, 'abundantly': 27328, 'qubad': 27329, 'ingratitude': 27330, 'hindrance': 27331, 'iwc': 27332, '3130': 27333, '107000': 27334, 'nahrawan': 27335, 'becher': 27336, 'comptroller': 27337, 'feeble': 27338, 'compassionately': 27339, 'advertiser': 27340, 'abayi': 27341, 'kourou': 27342, 'moan': 27343, 'tonic': 27344, 'helios': 27345, '2a': 27346, 'optical': 27347, 'parasol': 27348, '958': 27349, 'mistrust': 27350, 'fixation': 27351, 'reminder': 27352, 'hedi': 27353, 'yousseff': 27354, 'fivekilometer': 27355, '10meter': 27356, '20meter': 27357, '30meter': 27358, '25meter': 27359, 'fanned': 27360, 'andreu': 27361, 'hearse': 27362, 'lytvyn': 27363, 'nearlynaked': 27364, 'russianukrainian': 27365, 'ulrich': 27366, 'wilhelm': 27367, 'juventud': 27368, 'rebelde': 27369, 'conjwayo': 27370, 'eltiempo': 27371, 'mauricio': 27372, 'zapata': 27373, 'sevenmonth': 27374, 'restating': 27375, 'sununu': 27376, 'palestinianamericans': 27377, 'dangabari': 27378, 'rebidding': 27379, 'svalbard': 27380, 'wainganga': 27381, 'jens': 27382, 'stoltenberg': 27383, 'nobelprize': 27384, 'wangari': 27385, 'maathai': 27386, 'capsize': 27387, 'bhandara': 27388, '925': 27389, 'woo': 27390, 'janan': 27391, 'souray': 27392, 'gloom': 27393, 'lashkargah': 27394, '1000year': 27395, 'pham': 27396, 'thrive': 27397, 'painstakingly': 27398, 'anchor': 27399, 'ulsan': 27400, 'muchhonored': 27401, 'hangout': 27402, 'satriale': 27403, 'manny': 27404, 'condominum': 27405, 'serial': 27406, 'authentication': 27407, 'demolishing': 27408, 'pal': 27409, '130thousand': 27410, '100thousand': 27411, 'gref': 27412, 'germanowned': 27413, 'griefstricken': 27414, 'pai': 27415, 'f15': 27416, 'dohuk': 27417, 'okay': 27418, 'caters': 27419, 'caymanians': 27420, 'preoccupied': 27421, 'sudeten': 27422, 'ruthenians': 27423, 'reich': 27424, 'truncated': 27425, 'ruthenia': 27426, 'antisoviet': 27427, 'mid14th': 27428, 'siam': 27429, 'chinnawat': 27430, 'antithaksin': 27431, 'yellowshirts': 27432, 'shahdi': 27433, 'mohanna': 27434, 'wetchachiwa': 27435, 'redshirts': 27436, 'confiscating': 27437, 'arsonrelated': 27438, 'cleavage': 27439, 'politic': 27440, 'malaymuslim': 27441, 'marginal': 27442, 'underinvestment': 27443, 'highlydeveloped': 27444, 'woodprocessing': 27445, 'vitality': 27446, 'dombrovskis': 27447, 'meekness': 27448, 'gentleness': 27449, 'altogether': 27450, 'boldness': 27451, 'bridle': 27452, 'dread': 27453, 'breakins': 27454, 'valynkin': 27455, 'mainichi': 27456, 'nancyamelia': 27457, 'deradicalization': 27458, 'renting': 27459, 'lehava': 27460, 'su24': 27461, 'oildrilling': 27462, 'gulfarea': 27463, 'muttur': 27464, 'hanssenbauer': 27465, 'indescribable': 27466, 'offduty': 27467, 'militaryowned': 27468, 'askari': 27469, 'e2k': 27470, 'pingtung': 27471, 'flattening': 27472, 'shanty': 27473, 'browne': 27474, 'masser': 27475, 'burgie': 27476, 'bobby': 27477, 'teddy': 27478, 'randazzo': 27479, 'dylan': 27480, 'catalog': 27481, 'induction': 27482, 'heavilyarmed': 27483, 'vindicates': 27484, 'septum': 27485, 'cerebral': 27486, 'orenburg': 27487, 'polo': 27488, 'rugby': 27489, 'roller': 27490, 'equestrian': 27491, 'equine': 27492, 'hallams': 27493, 'muammar': 27494, 'diva': 27495, 'ninamaria': 27496, 'potts': 27497, 'reset': 27498, 'rapidreaction': 27499, 'angelina': 27500, 'naankuse': 27501, 'joliepitt': 27502, 'dedication': 27503, 'baboon': 27504, 'leopard': 27505, 'dalia': 27506, 'itzik': 27507, 'seasonally': 27508, 'tropic': 27509, 'rainfed': 27510, 'modifying': 27511, 'acidity': 27512, 'salinity': 27513, 'secondranked': 27514, 'roundrobin': 27515, 'federerroddick': 27516, 'idaho': 27517, 'taepodong2': 27518, 'geoscience': 27519, 'spewing': 27520, '12kilometerhigh': 27521, 'gulfport': 27522, 'ontheground': 27523, 'sancha': 27524, 'waterworks': 27525, 'changqi': 27526, 'turkishdominated': 27527, 'jubilant': 27528, 'neve': 27529, 'dekalim': 27530, 'commissioning': 27531, 'gazaegyptian': 27532, 'stateengineered': 27533, 'mo': 27534, 'penetrating': 27535, 'multilayered': 27536, 'hospice': 27537, 'radiotherapy': 27538, 'shelve': 27539, 'iskan': 27540, 'harithiya': 27541, 'brazen': 27542, 'nourollah': 27543, 'niaraki': 27544, 'dousing': 27545, 'fuselage': 27546, 'tupolev': 27547, 'airtour': 27548, 'logjam': 27549, 'ballenas': 27550, '1152': 27551, 'highpowered': 27552, 'defrauding': 27553, 'pleabargain': 27554, 'protibetan': 27555, 'tibetanamerican': 27556, 'psychologically': 27557, 'unfurling': 27558, 'ayham': 27559, 'mujaheddin': 27560, 'distinction': 27561, 'radhika': 27562, 'coomaraswamy': 27563, 'cormac': 27564, 'murphyoconnor': 27565, 'delmas': 27566, 'challengerspace': 27567, 'donovan': 27568, 'alwatan': 27569, 'blackburn': 27570, 'basically': 27571, 'sneaking': 27572, 'burqaclad': 27573, 'yoshinori': 27574, 'ono': 27575, '260000': 27576, 'yvelines': 27577, 'hautsdeseine': 27578, 'seinesaintdenis': 27579, 'oise': 27580, '1700yearold': 27581, 'zheijiang': 27582, 'inscription': 27583, '256ad': 27584, 'bestpreserved': 27585, 'etched': 27586, 'porcelain': 27587, 'poprock': 27588, 'derek': 27589, 'whibley': 27590, 'sum41': 27591, 'threestory': 27592, 'sauna': 27593, '132seat': 27594, 'disarms': 27595, 'noranit': 27596, 'setabutr': 27597, 'amass': 27598, 'sigou': 27599, 'solidaria': 27600, 'vulgar': 27601, '18day': 27602, 'gniljane': 27603, 'selim': 27604, 'transocean': 27605, 'trident': 27606, 'channeling': 27607, 'muslimrun': 27608, 'indus': 27609, 'fused': 27610, 'indoaryan': 27611, 'scythian': 27612, 'satisfactorily': 27613, 'marginalization': 27614, 'rocky': 27615, 'brightens': 27616, 'microchip': 27617, '1520': 27618, 'idiot': 27619, 'drunkard': 27620, 'clinging': 27621, 'uscentral': 27622, 'americandominican': 27623, 'chinchilla': 27624, 'chinggis': 27625, 'khaan': 27626, 'eurasian': 27627, 'steppe': 27628, 'waemu': 27629, 'nondisbursing': 27630, 'concealment': 27631, 'nibble': 27632, 'tendril': 27633, 'rustling': 27634, 'maltreated': 27635, 'recompense': 27636, 'scruple': 27637, 'pondered': 27638, 'matched': 27639, 'seventhcentury': 27640, 'nasab': 27641, 'haqooqizan': 27642, 'vujadin': 27643, 'popovic': 27644, 'milutinovic': 27645, 'sainovic': 27646, 'dragoljub': 27647, 'ojdanic': 27648, 'moses': 27649, 'lottery': 27650, 'refinances': 27651, 'cyanidebased': 27652, 'cashed': 27653, 'tavis': 27654, 'smiley': 27655, 'imagine': 27656, 'evading': 27657, 'conscription': 27658, 'asmara': 27659, 'qadir': 27660, 'sinak': 27661, 'almuadham': 27662, 'brillantes': 27663, 'kilju': 27664, 'longhaul': 27665, 'mediumhaul': 27666, 'jeancyril': 27667, 'spinetta': 27668, 'cricketerturnedpolitician': 27669, 'mauro': 27670, 'vechchio': 27671, 'shark': 27672, 'stalking': 27673, 'crittercam': 27674, 'saola': 27675, 'hachijo': 27676, 'habibur': 27677, 'gaddafi': 27678, 'thilan': 27679, 'samaraweera': 27680, 'tharanga': 27681, 'paranavithana': 27682, 'misleading': 27683, 'devise': 27684, 'sisli': 27685, 'obeidi': 27686, 'compounding': 27687, 'agence': 27688, 'presse': 27689, 'riskiest': 27690, 'halfaday': 27691, 'womb': 27692, 'farhatullah': 27693, 'kypriano': 27694, 'kristin': 27695, 'halvorsen': 27696, 'fundglobal': 27697, 'crave': 27698, 'leong': 27699, 'lazy': 27700, 'mandera': 27701, 'prep': 27702, 'skelleftea': 27703, 'carli': 27704, 'dribbled': 27705, 'leftfooted': 27706, 'ricocheted': 27707, 'pia': 27708, 'sundhage': 27709, 'severity': 27710, 'kazemeini': 27711, 'disapora': 27712, 'chacahua': 27713, 'cabo': 27714, 'corrientes': 27715, 'tabasco': 27716, 'mengal': 27717, 'salem': 27718, 'respectfully': 27719, 'overtake': 27720, 'erase': 27721, '16goal': 27722, 'clinch': 27723, 'kyat': 27724, 'unappointed': 27725, 'bombladen': 27726, 'mineclearing': 27727, 'ronco': 27728, 'doled': 27729, 'highness': 27730, 'brusselsbased': 27731, 'yearonyear': 27732, 'scimitar': 27733, 'graduating': 27734, 'sandhurst': 27735, 'accompany': 27736, 'isna': 27737, 'nie': 27738, 'frailty': 27739, 'polishborn': 27740, 'decriminalizing': 27741, 'sweltering': 27742, '37degree': 27743, 'tursunov': 27744, 'edgardo': 27745, 'massa': 27746, 'gremelmayr': 27747, 'bjorn': 27748, 'phau': 27749, 'teesta': 27750, 'riverlinking': 27751, 'ecology': 27752, 'ganges': 27753, 'damadola': 27754, 'scold': 27755, 'cuzco': 27756, 'reckon': 27757, 'incwala': 27758, 'nhlanhla': 27759, 'nhlabatsi': 27760, 'mbabane': 27761, 'seawater': 27762, 'yunus': 27763, 'newlyformed': 27764, 'worstever': 27765, 'tadjoura': 27766, 'loudspeaker': 27767, 'committeechairman': 27768, '1975to1990': 27769, 'ophir': 27770, 'pine': 27771, 'relinquish': 27772, 'rosemond': 27773, 'pradel': 27774, 'indiscretion': 27775, 'shoplifting': 27776, 'husseindoust': 27777, 'destablize': 27778, 'onestop': 27779, 'streamlined': 27780, 'weiner': 27781, 'proisrael': 27782, 'conservativedominated': 27783, 'semiretirement': 27784, 'tenzin': 27785, 'taklha': 27786, 'vial': 27787, 'profiting': 27788, 'ciampino': 27789, 'martha': 27790, 'goldenberg': 27791, 'kendrick': 27792, 'middleclass': 27793, 'cong': 27794, 'superhighway': 27795, 'shady': 27796, 'loitering': 27797, 'boyle': 27798, '1860s': 27799, 'sughd': 27800, 'deluge': 27801, 'prisonbreak': 27802, 'khujand': 27803, 'rasht': 27804, 'gasproducing': 27805, 'sedimentary': 27806, 'overflowing': 27807, '0': 27808, 'damsel': 27809, 'reclining': 27810, 'forgetting': 27811, 'oxstall': 27812, 'curious': 27813, 'sandbag': 27814, 'learnt': 27815, 'chevy': 27816, 'gallegos': 27817, '20thousand': 27818, '5565': 27819, 'sheldon': 27820, '232': 27821, 'honesty': 27822, '728': 27823, 'arnoldo': 27824, 'aleman': 27825, 'discredited': 27826, 'sandanista': 27827, '54th': 27828, 'dike': 27829, 'islandwide': 27830, 'vicinity': 27831, 'osnabrueck': 27832, 'processor': 27833, 'westland': 27834, 'hallmark': 27835, 'usda': 27836, 'vani': 27837, 'contreras': 27838, 'premarked': 27839, 'averting': 27840, 'jeopardizes': 27841, 'freshcut': 27842, 'antiabortion': 27843, '34th': 27844, 'sociallyconservative': 27845, 'hatim': 27846, '1657': 27847, 'basset': 27848, 'almegrahi': 27849, 'saydiyah': 27850, 'neighbourhood': 27851, 'streettostreet': 27852, '19month': 27853, 'lightened': 27854, 'lateral': 27855, 'limped': 27856, 'edt': 27857, 'doubly': 27858, '275000': 27859, 'aoun': 27860, 'sulieman': 27861, 'ivana': 27862, 'lisjak': 27863, 'gaz': 27864, 'virginie': 27865, 'kveta': 27866, 'peschke': 27867, '131000': 27868, 'tsvetana': 27869, 'pironkova': 27870, '11nation': 27871, 'rae': 27872, 'bareli': 27873, '70th': 27874, 'italianborn': 27875, 'rajiv': 27876, 'chinanorth': 27877, 'safeguarding': 27878, '27000': 27879, 'refurbished': 27880, 'replanted': 27881, 'bike': 27882, 'walkway': 27883, 'springbreak': 27884, 'sorted': 27885, 'crawl': 27886, 'unidentifiied': 27887, 'gruesome': 27888, 'largecaliber': 27889, 'chairperson': 27890, 'jaoko': 27891, 'recounting': 27892, 'pheasant': 27893, 'reinvigorate': 27894, 'fivedecade': 27895, 'doi': 27896, 'talaeng': 27897, 'burmathailand': 27898, 'quadriplegic': 27899, 'clip': 27900, 'neverbeforeseen': 27901, 'streaming': 27902, 'outward': 27903, 'sunspot': 27904, 'highdefinition': 27905, '489': 27906, 'forgotten': 27907, 'jaber': 27908, 'wafa': 27909, 'monthold': 27910, 'saboor': 27911, 'alhadhar': 27912, 'ceyhan': 27913, 'fascinate': 27914, 'roams': 27915, 'nesting': 27916, 'tubigan': 27917, 'joko': 27918, 'suyono': 27919, 'intensifies': 27920, 'apostate': 27921, 'qais': 27922, 'shameri': 27923, 'rekindle': 27924, 'lawfully': 27925, 'seche': 27926, 'alotari': 27927, 'unleash': 27928, 'miscalculated': 27929, 'zap': 27930, 'ararat': 27931, 'istanbulbased': 27932, 'mazlumder': 27933, 'cubanborn': 27934, 'doublestandards': 27935, 'seventythree': 27936, 'mattei': 27937, 'alnuimei': 27938, 'halfcentury': 27939, 'listened': 27940, 'republicanproposed': 27941, '\\x97': 27942, 'monuc': 27943, 'anyplace': 27944, 'catapulted': 27945, 'showcased': 27946, 'sinotibetan': 27947, 'madhoun': 27948, 'kara': 27949, '13100': 27950, '7080': 27951, 'leveling': 27952, 'kumtor': 27953, 'ci': 27954, 'mid1995': 27955, 'crisisrelated': 27956, 'recapitalization': 27957, 'shackleton': 27958, 'illfated': 27959, 'wont': 27960, 'sharmelsheik': 27961, 'opiumtraffickers': 27962, 'bajura': 27963, 'accham': 27964, 'kohistani': 27965, 'ulhaq': 27966, 'ahadi': 27967, 'locust': 27968, 'zinder': 27969, 'fortis': 27970, 'sudanchad': 27971, 'stella': 27972, 'artois': 27973, 'radek': 27974, 'johansson': 27975, 'tulkarm': 27976, 'maclang': 27977, 'batad': 27978, 'banaue': 27979, 'ifugao': 27980, 'legaspi': 27981, 'starmagazine': 27982, 'distorts': 27983, 'almuasher': 27984, 'nonjordanians': 27985, 'safehaven': 27986, 'wachira': 27987, 'waruru': 27988, '73rd': 27989, 'holodomor': 27990, 'antichinese': 27991, 'moraleboosting': 27992, 'limitedovers': 27993, 'kiwi': 27994, 'scorer': 27995, '2034': 27996, '421': 27997, '201': 27998, 'ashraful': 27999, 'napier': 28000, 'detective': 28001, 'cobra': 28002, 'revolver': 28003, 'definitively': 28004, 'holster': 28005, 'h5type': 28006, 'flyway': 28007, 'yuanshi': 28008, 'xianliang': 28009, 'earthmoving': 28010, 'gedo': 28011, 'bakili': 28012, 'muluzi': 28013, '3655': 28014, 'yuvraj': 28015, 'careerbest': 28016, 'araft': 28017, 'saca': 28018, 'shaowu': 28019, 'secondranking': 28020, 'chinesesanctioned': 28021, 'mumps': 28022, 'rubella': 28023, 'autism': 28024, 'upali': 28025, 'tamilmajority': 28026, 'ealier': 28027, 'affiliation': 28028, 'hypocrisy': 28029, 'snowshortened': 28030, 'gardena': 28031, '2799': 28032, '002': 28033, '12801': 28034, 'guay': 28035, '12819': 28036, 'supergiant': 28037, '442': 28038, '420': 28039, 'aksel': 28040, 'svindal': 28041, '417': 28042, 'configured': 28043, 'nahum': 28044, 'repeating': 28045, 'pera': 28046, 'petrasevic': 28047, 'vukov': 28048, 'csatia': 28049, 'metullah': 28050, 'teeple': 28051, 'unspent': 28052, 'helmund': 28053, 'hushiar': 28054, 'facilitates': 28055, '17jan': 28056, 'loveland': 28057, 'meatcutting': 28058, 'unionize': 28059, 'acetylene': 28060, 'basement': 28061, 'bongjo': 28062, '26500': 28063, 'saqlawiyah': 28064, 'nampo': 28065, 'permanentstatus': 28066, 'samad': 28067, 'kojak': 28068, 'sulaiman': 28069, 'pashtoonkhwa': 28070, 'milli': 28071, 'cholily': 28072, '221': 28073, 'chakul': 28074, 'consent': 28075, 'abune': 28076, 'sicko': 28077, 'humaneness': 28078, 'harshest': 28079, 'wealthier': 28080, 'httpswwwcelebritiesforcharityorgrafflesnetrafflemaincfm': 28081, 'roundtrip': 28082, 'airfare': 28083, 'chinausa': 28084, 'costumed': 28085, 'urchin': 28086, 'porch': 28087, 'trickortreaters': 28088, 'gravelly': 28089, 'beggar': 28090, 'decorating': 28091, 'upshot': 28092, 'dusk': 28093, 'ghoul': 28094, 'makebelieve': 28095, 'distasteful': 28096, 'abdalnisr': 28097, 'khantumani': 28098, '178': 28099, 'moravia': 28100, 'magyarization': 28101, 'sovietdominated': 28102, 'issas': 28103, 'gouled': 28104, 'aptidon': 28105, 'issadominated': 28106, 'guelleh': 28107, 'socializing': 28108, 'terrified': 28109, 'slew': 28110, 'pounce': 28111, 'remedy': 28112, 'doosnoswair': 28113, 'oliveira': 28114, '567': 28115, 'onion': 28116, 'chili': 28117, 'eggplant': 28118, 'smoked': 28119, 'trout': 28120, 'spaghetti': 28121, 'parmesan': 28122, 'spinach': 28123, 'custodian': 28124, 'longhandled': 28125, 'squeegee': 28126, 'educator': 28127, 'séances': 28128, 'merriment': 28129, 'fooling': 28130, 'gullible': 28131, 'poke': 28132, 'scenic': 28133, '9929': 28134, 'longdenied': 28135, 'amhariclanguage': 28136, 'stinging': 28137, 'misled': 28138, 'rotfeld': 28139, 'onal': 28140, 'ulus': 28141, 'cabello': 28142, 'youssifiyeh': 28143, 'kamdesh': 28144, 'halfenglish': 28145, 'abbreviation': 28146, 'transplanting': 28147, 'casualities': 28148, 'rawhi': 28149, 'fattouh': 28150, '407': 28151, 'islamistcontrolled': 28152, 'jokic': 28153, 'murghab': 28154, 'conductor': 28155, 'mstislav': 28156, 'moderating': 28157, '39th': 28158, 'adrien': 28159, 'houngbedji': 28160, 'vishnevskaya': 28161, '72yearold': 28162, 'laughable': 28163, 'wellplanned': 28164, '90yearold': 28165, '19000': 28166, 'laiyan': 28167, 'jiaotong': 28168, 'tp': 28169, 'anticonstitution': 28170, 'rovnag': 28171, 'abdullayev': 28172, '200kilometer': 28173, 'novofilya': 28174, 'implication': 28175, 'eubacked': 28176, 'nabucco': 28177, 'bypassing': 28178, 'colchester': 28179, 'shabat': 28180, 'albasra': 28181, 'jabbar': 28182, 'jeremy': 28183, 'hobbs': 28184, 'khasavyurt': 28185, 'longyan': 28186, 'mensehra': 28187, '7239': 28188, 'dialed': 28189, 'gibb': 28190, 'guadalupe': 28191, 'escamilla': 28192, 'mota': 28193, 'rajapakshe': 28194, 'kentung': 28195, 'ui': 28196, 'leonella': 28197, 'sgorbati': 28198, 'disable': 28199, 'amerzeb': 28200, 'welltrained': 28201, '1356': 28202, 'webslinging': 28203, 'irresistable': 28204, 'shrek': 28205, '599': 28206, 'bourj': 28207, 'abi': 28208, 'haidar': 28209, 'puccio': 28210, 'vince': 28211, 'spadea': 28212, 'straightsets': 28213, 'hyungtaik': 28214, 'melli': 28215, 'proliferator': 28216, 'agartala': 28217, 'indianpakistani': 28218, 'sébastien': 28219, 'seasonopening': 28220, 'citroën': 28221, 'xsara': 28222, 'wrc': 28223, '184609': 28224, 'duval': 28225, '327': 28226, 'grönholm': 28227, 'auriol': 28228, '112000': 28229, 'landbased': 28230, 'submachine': 28231, 'exwife': 28232, 'estranged': 28233, 'hailie': 28234, 'remarried': 28235, 'recouped': 28236, 'eulatin': 28237, 'ferrerowaldner': 28238, 'tycze': 28239, 'substantiated': 28240, 'usheld': 28241, 'pickup': 28242, 'ventilation': 28243, 'passive': 28244, 'petropavloskkamchatskii': 28245, 'fedorawearing': 28246, 'adventurer': 28247, 'spielberg': 28248, 'paramount': 28249, 'indy': 28250, 'mango': 28251, '1634': 28252, 'bonaire': 28253, 'isla': 28254, 'refineria': 28255, 'lied': 28256, 'charcoalburner': 28257, 'housekeeping': 28258, 'whiten': 28259, 'blacken': 28260, 'harnessed': 28261, 'tormented': 28262, 'yoke': 28263, 'smile': 28264, 'idleness': 28265, 'lighten': 28266, 'hive': 28267, 'tasted': 28268, 'honeycomb': 28269, 'selfinterest': 28270, 'brute': 28271, 'brayed': 28272, 'cudgelling': 28273, 'fright': 28274, 'irrationality': 28275, 'lakeside': 28276, 'vijay': 28277, 'silly': 28278, 'clapping': 28279, 'luay': 28280, 'zaid': 28281, 'eightmonth': 28282, 'maddalena': 28283, 'sardinian': 28284, 'stormdamaged': 28285, 'recentlyelected': 28286, 'humberto': 28287, 'valbuena': 28288, 'caqueta': 28289, '1890': 28290, 'dorsey': 28291, 'mahalia': 28292, '227kilogram': 28293, '13010': 28294, 'majdal': 28295, 'dutchbuilt': 28296, 'matara': 28297, 'muhsin': 28298, 'matwali': 28299, 'atwah': 28300, 'themeparklike': 28301, 'intoxicating': 28302, 'fivemonthlong': 28303, 'sunnibacked': 28304, 'maysoon': 28305, 'aldamaluji': 28306, 'crosssectarian': 28307, 'massum': 28308, '163seat': 28309, 'micky': 28310, 'rosenfeld': 28311, 'talansky': 28312, 'barka': 28313, 'kousalyan': 28314, 'disillusionment': 28315, 'pictured': 28316, 'kira': 28317, 'plastinina': 28318, 'mikhailova': 28319, 'emma': 28320, 'halfsister': 28321, 'sarrata': 28322, 'tractortrailer': 28323, 'jamahiriyah': 28324, 'pariah': 28325, 'walled': 28326, 'southernbased': 28327, 'sevilla': 28328, 'maresca': 28329, '78th': 28330, '84th': 28331, 'fabiano': 28332, 'frédéric': 28333, 'kanouté': 28334, 'anglospanish': 28335, 'moscowled': 28336, 'partiallycollapsed': 28337, 'collemaggio': 28338, 'tarsyuk': 28339, 'adriatic': 28340, 'dagger': 28341, 'stash': 28342, 'unleashing': 28343, 'atilla': 28344, 'onna': 28345, 'shkin': 28346, 'abruzzo': 28347, 'cruelty': 28348, 'lowranking': 28349, 'onechina': 28350, 'booksigning': 28351, 'amicable': 28352, 'gil': 28353, 'hoffman': 28354, '888000': 28355, 'exchancellor': 28356, 'helmut': 28357, 'reunifying': 28358, 'swearing': 28359, '238': 28360, 'membernations': 28361, 'europeaniranian': 28362, 'verbeke': 28363, 'symbolize': 28364, 'ishaq': 28365, 'alako': 28366, 'rahmatullah': 28367, 'nazari': 28368, '684': 28369, 'quentin': 28370, 'tarantino': 28371, 'grindhouse': 28372, 'muchpublicized': 28373, 'debuted': 28374, 'tracker': 28375, 'dergarabedian': 28376, 'takhar': 28377, 'icelander': 28378, 'bootleg': 28379, 'reykjavik': 28380, 'marginalize': 28381}\n"
          ]
        }
      ]
    },
    {
      "cell_type": "code",
      "source": [
        "#from collections.abc import Sequence\n",
        "Sequences=Tokenizer.texts_to_sequences(Sentenc)"
      ],
      "metadata": {
        "id": "sv21_e9UUb9v"
      },
      "execution_count": null,
      "outputs": []
    },
    {
      "cell_type": "code",
      "source": [
        "print(Sequences[0:5])"
      ],
      "metadata": {
        "colab": {
          "base_uri": "https://localhost:8080/"
        },
        "id": "vTYw8S3wiC7q",
        "outputId": "a2cdcc47-327c-40b8-9b07-ce6c6c7a6c47"
      },
      "execution_count": null,
      "outputs": [
        {
          "output_type": "stream",
          "name": "stdout",
          "text": [
            "[[157, 873, 1627, 419, 168, 74, 27, 302, 727, 127, 51, 14, 2], [235, 6, 3, 1606, 650, 923, 3979, 2888, 94, 785, 48, 2, 1481, 1964, 320, 484, 5366, 2], [656, 3980, 54, 4487, 33, 1939, 3836, 702, 77, 2, 135, 415, 33, 671, 750, 1361, 88, 22, 730, 1086, 70, 1362, 2], [298, 4142, 12710, 2379, 1212, 24, 2], [80, 576, 4875, 3231, 4682, 4, 52, 2, 5, 2, 978, 891, 22, 656, 12711, 266, 423, 1297, 93, 172, 1866, 63, 1106, 1073, 15, 892, 2]]\n"
          ]
        }
      ]
    },
    {
      "cell_type": "code",
      "source": [
        "padded=pad_sequences(Sequences,maxlen=50 ,padding=\"post\",truncating='post')\n",
        "print(padded[0:5])"
      ],
      "metadata": {
        "colab": {
          "base_uri": "https://localhost:8080/"
        },
        "id": "Kc2D1nVPiC5X",
        "outputId": "63bc5fee-58cd-43a5-c38f-69b574a5568d"
      },
      "execution_count": null,
      "outputs": [
        {
          "output_type": "stream",
          "name": "stdout",
          "text": [
            "[[  157   873  1627   419   168    74    27   302   727   127    51    14\n",
            "      2     0     0     0     0     0     0     0     0     0     0     0\n",
            "      0     0     0     0     0     0     0     0     0     0     0     0\n",
            "      0     0     0     0     0     0     0     0     0     0     0     0\n",
            "      0     0]\n",
            " [  235     6     3  1606   650   923  3979  2888    94   785    48     2\n",
            "   1481  1964   320   484  5366     2     0     0     0     0     0     0\n",
            "      0     0     0     0     0     0     0     0     0     0     0     0\n",
            "      0     0     0     0     0     0     0     0     0     0     0     0\n",
            "      0     0]\n",
            " [  656  3980    54  4487    33  1939  3836   702    77     2   135   415\n",
            "     33   671   750  1361    88    22   730  1086    70  1362     2     0\n",
            "      0     0     0     0     0     0     0     0     0     0     0     0\n",
            "      0     0     0     0     0     0     0     0     0     0     0     0\n",
            "      0     0]\n",
            " [  298  4142 12710  2379  1212    24     2     0     0     0     0     0\n",
            "      0     0     0     0     0     0     0     0     0     0     0     0\n",
            "      0     0     0     0     0     0     0     0     0     0     0     0\n",
            "      0     0     0     0     0     0     0     0     0     0     0     0\n",
            "      0     0]\n",
            " [   80   576  4875  3231  4682     4    52     2     5     2   978   891\n",
            "     22   656 12711   266   423  1297    93   172  1866    63  1106  1073\n",
            "     15   892     2     0     0     0     0     0     0     0     0     0\n",
            "      0     0     0     0     0     0     0     0     0     0     0     0\n",
            "      0     0]]\n"
          ]
        }
      ]
    },
    {
      "cell_type": "code",
      "source": [
        "from sklearn.model_selection import train_test_split\n",
        "\n",
        "train_sent, temp_sent, train_tags, temp_tags = train_test_split(\n",
        "    Sentenc, label, test_size=0.2, random_state=42\n",
        ")\n",
        "\n",
        "val_sent, test_sent, val_tags, test_tags = train_test_split(\n",
        "    temp_sent, temp_tags, test_size=0.5, random_state=42\n",
        ")\n"
      ],
      "metadata": {
        "id": "r61q_jsyl8X4"
      },
      "execution_count": null,
      "outputs": []
    },
    {
      "cell_type": "code",
      "source": [
        "pip install transformers datasets seqeval\n"
      ],
      "metadata": {
        "colab": {
          "base_uri": "https://localhost:8080/"
        },
        "id": "sfuCGWAekben",
        "outputId": "cc7bcc2e-809a-4098-881a-a7325f57d3c1"
      },
      "execution_count": null,
      "outputs": [
        {
          "output_type": "stream",
          "name": "stdout",
          "text": [
            "Requirement already satisfied: transformers in /usr/local/lib/python3.12/dist-packages (4.56.0)\n",
            "Requirement already satisfied: datasets in /usr/local/lib/python3.12/dist-packages (4.0.0)\n",
            "Requirement already satisfied: seqeval in /usr/local/lib/python3.12/dist-packages (1.2.2)\n",
            "Requirement already satisfied: filelock in /usr/local/lib/python3.12/dist-packages (from transformers) (3.19.1)\n",
            "Requirement already satisfied: huggingface-hub<1.0,>=0.34.0 in /usr/local/lib/python3.12/dist-packages (from transformers) (0.34.4)\n",
            "Requirement already satisfied: numpy>=1.17 in /usr/local/lib/python3.12/dist-packages (from transformers) (2.0.2)\n",
            "Requirement already satisfied: packaging>=20.0 in /usr/local/lib/python3.12/dist-packages (from transformers) (25.0)\n",
            "Requirement already satisfied: pyyaml>=5.1 in /usr/local/lib/python3.12/dist-packages (from transformers) (6.0.2)\n",
            "Requirement already satisfied: regex!=2019.12.17 in /usr/local/lib/python3.12/dist-packages (from transformers) (2024.11.6)\n",
            "Requirement already satisfied: requests in /usr/local/lib/python3.12/dist-packages (from transformers) (2.32.4)\n",
            "Requirement already satisfied: tokenizers<=0.23.0,>=0.22.0 in /usr/local/lib/python3.12/dist-packages (from transformers) (0.22.0)\n",
            "Requirement already satisfied: safetensors>=0.4.3 in /usr/local/lib/python3.12/dist-packages (from transformers) (0.6.2)\n",
            "Requirement already satisfied: tqdm>=4.27 in /usr/local/lib/python3.12/dist-packages (from transformers) (4.67.1)\n",
            "Requirement already satisfied: pyarrow>=15.0.0 in /usr/local/lib/python3.12/dist-packages (from datasets) (18.1.0)\n",
            "Requirement already satisfied: dill<0.3.9,>=0.3.0 in /usr/local/lib/python3.12/dist-packages (from datasets) (0.3.8)\n",
            "Requirement already satisfied: pandas in /usr/local/lib/python3.12/dist-packages (from datasets) (2.2.2)\n",
            "Requirement already satisfied: xxhash in /usr/local/lib/python3.12/dist-packages (from datasets) (3.5.0)\n",
            "Requirement already satisfied: multiprocess<0.70.17 in /usr/local/lib/python3.12/dist-packages (from datasets) (0.70.16)\n",
            "Requirement already satisfied: fsspec<=2025.3.0,>=2023.1.0 in /usr/local/lib/python3.12/dist-packages (from fsspec[http]<=2025.3.0,>=2023.1.0->datasets) (2025.3.0)\n",
            "Requirement already satisfied: scikit-learn>=0.21.3 in /usr/local/lib/python3.12/dist-packages (from seqeval) (1.6.1)\n",
            "Requirement already satisfied: aiohttp!=4.0.0a0,!=4.0.0a1 in /usr/local/lib/python3.12/dist-packages (from fsspec[http]<=2025.3.0,>=2023.1.0->datasets) (3.12.15)\n",
            "Requirement already satisfied: typing-extensions>=3.7.4.3 in /usr/local/lib/python3.12/dist-packages (from huggingface-hub<1.0,>=0.34.0->transformers) (4.15.0)\n",
            "Requirement already satisfied: hf-xet<2.0.0,>=1.1.3 in /usr/local/lib/python3.12/dist-packages (from huggingface-hub<1.0,>=0.34.0->transformers) (1.1.9)\n",
            "Requirement already satisfied: charset_normalizer<4,>=2 in /usr/local/lib/python3.12/dist-packages (from requests->transformers) (3.4.3)\n",
            "Requirement already satisfied: idna<4,>=2.5 in /usr/local/lib/python3.12/dist-packages (from requests->transformers) (3.10)\n",
            "Requirement already satisfied: urllib3<3,>=1.21.1 in /usr/local/lib/python3.12/dist-packages (from requests->transformers) (2.5.0)\n",
            "Requirement already satisfied: certifi>=2017.4.17 in /usr/local/lib/python3.12/dist-packages (from requests->transformers) (2025.8.3)\n",
            "Requirement already satisfied: scipy>=1.6.0 in /usr/local/lib/python3.12/dist-packages (from scikit-learn>=0.21.3->seqeval) (1.16.1)\n",
            "Requirement already satisfied: joblib>=1.2.0 in /usr/local/lib/python3.12/dist-packages (from scikit-learn>=0.21.3->seqeval) (1.5.2)\n",
            "Requirement already satisfied: threadpoolctl>=3.1.0 in /usr/local/lib/python3.12/dist-packages (from scikit-learn>=0.21.3->seqeval) (3.6.0)\n",
            "Requirement already satisfied: python-dateutil>=2.8.2 in /usr/local/lib/python3.12/dist-packages (from pandas->datasets) (2.9.0.post0)\n",
            "Requirement already satisfied: pytz>=2020.1 in /usr/local/lib/python3.12/dist-packages (from pandas->datasets) (2025.2)\n",
            "Requirement already satisfied: tzdata>=2022.7 in /usr/local/lib/python3.12/dist-packages (from pandas->datasets) (2025.2)\n",
            "Requirement already satisfied: aiohappyeyeballs>=2.5.0 in /usr/local/lib/python3.12/dist-packages (from aiohttp!=4.0.0a0,!=4.0.0a1->fsspec[http]<=2025.3.0,>=2023.1.0->datasets) (2.6.1)\n",
            "Requirement already satisfied: aiosignal>=1.4.0 in /usr/local/lib/python3.12/dist-packages (from aiohttp!=4.0.0a0,!=4.0.0a1->fsspec[http]<=2025.3.0,>=2023.1.0->datasets) (1.4.0)\n",
            "Requirement already satisfied: attrs>=17.3.0 in /usr/local/lib/python3.12/dist-packages (from aiohttp!=4.0.0a0,!=4.0.0a1->fsspec[http]<=2025.3.0,>=2023.1.0->datasets) (25.3.0)\n",
            "Requirement already satisfied: frozenlist>=1.1.1 in /usr/local/lib/python3.12/dist-packages (from aiohttp!=4.0.0a0,!=4.0.0a1->fsspec[http]<=2025.3.0,>=2023.1.0->datasets) (1.7.0)\n",
            "Requirement already satisfied: multidict<7.0,>=4.5 in /usr/local/lib/python3.12/dist-packages (from aiohttp!=4.0.0a0,!=4.0.0a1->fsspec[http]<=2025.3.0,>=2023.1.0->datasets) (6.6.4)\n",
            "Requirement already satisfied: propcache>=0.2.0 in /usr/local/lib/python3.12/dist-packages (from aiohttp!=4.0.0a0,!=4.0.0a1->fsspec[http]<=2025.3.0,>=2023.1.0->datasets) (0.3.2)\n",
            "Requirement already satisfied: yarl<2.0,>=1.17.0 in /usr/local/lib/python3.12/dist-packages (from aiohttp!=4.0.0a0,!=4.0.0a1->fsspec[http]<=2025.3.0,>=2023.1.0->datasets) (1.20.1)\n",
            "Requirement already satisfied: six>=1.5 in /usr/local/lib/python3.12/dist-packages (from python-dateutil>=2.8.2->pandas->datasets) (1.17.0)\n"
          ]
        }
      ]
    },
    {
      "cell_type": "code",
      "source": [
        "from datasets import Dataset\n"
      ],
      "metadata": {
        "id": "hlGRrwxmiC3m"
      },
      "execution_count": null,
      "outputs": []
    },
    {
      "cell_type": "code",
      "source": [
        "train_dict = {\"tokens\": train_sent, \"ner_tags\": train_tags}\n",
        "val_dict   = {\"tokens\": val_sent, \"ner_tags\": val_tags}\n",
        "test_dict  = {\"tokens\": test_sent, \"ner_tags\": test_tags}\n",
        "\n"
      ],
      "metadata": {
        "id": "CXJ1wZK4iC1Q"
      },
      "execution_count": null,
      "outputs": []
    },
    {
      "cell_type": "code",
      "source": [
        "train_dataset = Dataset.from_dict(train_dict)\n",
        "val_dataset   = Dataset.from_dict(val_dict)\n",
        "test_dataset  = Dataset.from_dict(test_dict)\n"
      ],
      "metadata": {
        "id": "fp4Lee0ciCyu"
      },
      "execution_count": null,
      "outputs": []
    },
    {
      "cell_type": "code",
      "source": [
        "from datasets import DatasetDict\n",
        "\n",
        "datasets = DatasetDict({\n",
        "    \"train\": train_dataset,\n",
        "    \"validation\": val_dataset,\n",
        "    \"test\": test_dataset\n",
        "})"
      ],
      "metadata": {
        "id": "8T1_mrTeiCw7"
      },
      "execution_count": null,
      "outputs": []
    },
    {
      "cell_type": "code",
      "source": [
        "print(datasets)\n",
        "print(datasets[\"train\"][0])   # أول مثال في train\n"
      ],
      "metadata": {
        "colab": {
          "base_uri": "https://localhost:8080/"
        },
        "id": "7E1wN2TiiCaP",
        "outputId": "695d4140-7065-4727-c32b-d3733ff7196e"
      },
      "execution_count": null,
      "outputs": [
        {
          "output_type": "stream",
          "name": "stdout",
          "text": [
            "DatasetDict({\n",
            "    train: Dataset({\n",
            "        features: ['tokens', 'ner_tags'],\n",
            "        num_rows: 38367\n",
            "    })\n",
            "    validation: Dataset({\n",
            "        features: ['tokens', 'ner_tags'],\n",
            "        num_rows: 4796\n",
            "    })\n",
            "    test: Dataset({\n",
            "        features: ['tokens', 'ner_tags'],\n",
            "        num_rows: 4796\n",
            "    })\n",
            "})\n",
            "{'tokens': ['south', 'korea', 'government', 'tuesday', 'also', 'unveiled', 'socalled', 'green', 'new', 'job', 'creation', 'plan', '', 'expected', 'create', '960000', 'new', 'job', ''], 'ner_tags': ['B-GEO', 'I-GEO', 'O', 'O', 'B-TIM', 'O', 'O', 'O', 'O', 'O', 'O', 'O', 'O', 'O', 'O', 'O', 'O', 'O', 'O', 'O', 'O', 'O']}\n"
          ]
        }
      ]
    },
    {
      "cell_type": "code",
      "source": [
        "from transformers import AutoTokenizer\n",
        "\n",
        "tokenizer = AutoTokenizer.from_pretrained(\"bert-base-cased\")\n"
      ],
      "metadata": {
        "id": "Az9MywnXUb3u"
      },
      "execution_count": null,
      "outputs": []
    },
    {
      "cell_type": "code",
      "source": [
        "def tokenize_and_align_labels(examples):\n",
        "    tokenized_inputs = tokenizer(\n",
        "        examples[\"tokens\"],\n",
        "        truncation=True,\n",
        "        is_split_into_words=True,   # مهم عشان البيانات عندنا متقسمة tokens بالفعل\n",
        "        padding=\"max_length\",       # هنحدد طول ثابت\n",
        "        max_length=128              # ممكن تغيريه حسب بياناتك\n",
        "    )\n",
        "\n",
        "    labels = []\n",
        "    for i, label in enumerate(examples[\"ner_tags\"]):\n",
        "        word_ids = tokenized_inputs.word_ids(batch_index=i)  # بيرجع الـ word لكل sub-token\n",
        "        previous_word_idx = None\n",
        "        label_ids = []\n",
        "        for word_idx in word_ids:\n",
        "            if word_idx is None:  # دي special tokens زي [CLS], [SEP], [PAD]\n",
        "                label_ids.append(-100)  # -100 معناها نتجاهلها في الحساب\n",
        "            elif word_idx != previous_word_idx:\n",
        "                label_ids.append(label[word_idx])  # أول sub-token ياخد label الكلمة\n",
        "            else:\n",
        "                label_ids.append(-100)  # بقية sub-tokens نتجاهلهم\n",
        "            previous_word_idx = word_idx\n",
        "        labels.append(label_ids)\n",
        "\n",
        "    tokenized_inputs[\"labels\"] = labels\n",
        "    return tokenized_inputs\n"
      ],
      "metadata": {
        "id": "oAUgGoDPoCeY"
      },
      "execution_count": null,
      "outputs": []
    },
    {
      "cell_type": "code",
      "source": [
        "from sklearn.preprocessing import LabelEncoder\n",
        "from datasets import Dataset\n",
        "\n",
        "# 1) نجهز كل التاجات مرة واحدة\n",
        "all_tags = [tag for doc in label for tag in doc]\n",
        "le = LabelEncoder()\n",
        "le.fit(all_tags)\n",
        "\n",
        "# 2) نعيد بناء الـ Datasets لكن بالـ numeric labels\n",
        "train_dataset = Dataset.from_dict({\n",
        "    \"tokens\": train_sent,\n",
        "    \"ner_tags\": [le.transform(tags).tolist() for tags in train_tags]\n",
        "})\n",
        "\n",
        "val_dataset = Dataset.from_dict({\n",
        "    \"tokens\": val_sent,\n",
        "    \"ner_tags\": [le.transform(tags).tolist() for tags in val_tags]\n",
        "})\n",
        "\n",
        "test_dataset = Dataset.from_dict({\n",
        "    \"tokens\": test_sent,\n",
        "    \"ner_tags\": [le.transform(tags).tolist() for tags in test_tags]\n",
        "})\n"
      ],
      "metadata": {
        "id": "yPhaynL9sH_B"
      },
      "execution_count": null,
      "outputs": []
    },
    {
      "cell_type": "code",
      "source": [
        "# 1. اعملي قائمة بكل الـ labels\n",
        "unique_tags = set(tag for doc in label for tag in doc)\n",
        "tag2id = {tag: idx for idx, tag in enumerate(sorted(unique_tags))}\n",
        "id2tag = {idx: tag for tag, idx in tag2id.items()}\n",
        "\n",
        "# 2. حولي الداتا بتاعت الـ labels من النصوص إلى أرقام\n",
        "encoded_labels = [[tag2id[tag] for tag in doc] for doc in label]\n",
        "\n",
        "# 3. استخدمي encoded_labels بدل labels وانتِ بتمرريها للـ dataset\n",
        "datasets = Dataset.from_dict({\n",
        "    \"tokens\": Sentenc,   # التوكنز بعد التوكنايزر\n",
        "    \"labels\": encoded_labels\n",
        "})\n"
      ],
      "metadata": {
        "id": "z5IHMwkK1zSo"
      },
      "execution_count": null,
      "outputs": []
    },
    {
      "cell_type": "code",
      "source": [
        "datasets = Dataset.from_dict({\n",
        "    \"tokens\":Sentenc ,\n",
        "    \"ner_tags\": encoded_labels\n",
        "})\n"
      ],
      "metadata": {
        "id": "CbmuHhZw2v6-"
      },
      "execution_count": null,
      "outputs": []
    },
    {
      "cell_type": "code",
      "source": [
        "from datasets import Dataset\n",
        "\n",
        "# نفترض إن datasets الأساسي فيه tokens و ner_tags\n",
        "datasets = Dataset.from_dict({\n",
        "    \"tokens\": Sentenc,\n",
        "    \"ner_tags\": encoded_labels\n",
        "})\n",
        "\n",
        "# قسميه إلى train و test و validation\n",
        "datasets = datasets.train_test_split(test_size=0.2)\n",
        "datasets = DatasetDict({\n",
        "    \"train\": datasets[\"train\"],\n",
        "    \"validation\": datasets[\"test\"].train_test_split(test_size=0.5)[\"train\"],\n",
        "    \"test\": datasets[\"test\"].train_test_split(test_size=0.5)[\"test\"],\n",
        "})\n",
        "\n",
        "print(datasets)\n"
      ],
      "metadata": {
        "colab": {
          "base_uri": "https://localhost:8080/"
        },
        "id": "R6-U4wBI5DBK",
        "outputId": "941a68cb-1f0a-4ffc-9e1b-b6092cab6ea1"
      },
      "execution_count": null,
      "outputs": [
        {
          "output_type": "stream",
          "name": "stdout",
          "text": [
            "DatasetDict({\n",
            "    train: Dataset({\n",
            "        features: ['tokens', 'ner_tags'],\n",
            "        num_rows: 38367\n",
            "    })\n",
            "    validation: Dataset({\n",
            "        features: ['tokens', 'ner_tags'],\n",
            "        num_rows: 4796\n",
            "    })\n",
            "    test: Dataset({\n",
            "        features: ['tokens', 'ner_tags'],\n",
            "        num_rows: 4796\n",
            "    })\n",
            "})\n"
          ]
        }
      ]
    },
    {
      "cell_type": "code",
      "source": [
        "tokenized_datasets = datasets.map(tokenize_and_align_labels, batched=True)\n"
      ],
      "metadata": {
        "colab": {
          "base_uri": "https://localhost:8080/",
          "height": 113,
          "referenced_widgets": [
            "89ece625481f43a89b0fee6340d209c6",
            "45131b4408564386a80e0ea564a353e9",
            "a2fce3da943849fa86ffc9255d484777",
            "38ff6b422c084ab6b47fc9bd598e4417",
            "a6506e036c94415799b1b0625c327b26",
            "5dbd31b8fd6d498ba2469b3f150ee5f9",
            "cccdf0b7b98b4191a556a237093b5e1a",
            "476b7aeb1ed24756b6791a00e3ffa65d",
            "e69c1a8d908840e3b78b96030aeb0119",
            "1e9b5727000b422eb2e4a8e466797199",
            "d78dda1b61da4174a9c799afd1344d3e",
            "7cbbf67bc9814f4aab3b3b97638fda46",
            "c775be62a07445f1a7c3784a06a983de",
            "d5fad1fe037f4af3a95fa222107a3505",
            "f3039b21124b4e209e9ef7e96978810c",
            "31b2ed1f2ed248c2b325d33f425cb1bb",
            "4ee13f85a39c4807941e87f8ce0ebc07",
            "53a985774ddc48cab64ce340d1713ffc",
            "21dcb4b7a28e499dbb7a9e5ce9d04cb4",
            "d046daed4d0240e0aa24ecbc08deddf7",
            "43ec6b7d2f3546cdabf85bc46fee410f",
            "26772bcdec7e4ae4b1a34aea59de9f35",
            "c48d3dc73a3b43e7974c368c63d9cb97",
            "ccbb9ab821224557abe5652555f59782",
            "eb18e2714ce34d49bb8b8be74a53e36c",
            "7671a3df91714c7ab19a87ceb57736c5",
            "e95dbda7612d4e4f99fce353a3355976",
            "697951e888354efe80a6da41dac849bd",
            "5c4d2040427f4f83a57177c60e36d798",
            "6f8116bc2f1a45f9a94e9ad5118a88a6",
            "040f4ec2853746b3aa4d4a0e4db61313",
            "e349cdb78fcb4ca1a6dd86c23f089881",
            "29f8273b5f764e229a7f1bda813d81e5"
          ]
        },
        "id": "nppHnP6zoTmD",
        "outputId": "1ee8cb1f-9a27-4c3b-eb76-33d9739eb246"
      },
      "execution_count": null,
      "outputs": [
        {
          "output_type": "display_data",
          "data": {
            "text/plain": [
              "Map:   0%|          | 0/38367 [00:00<?, ? examples/s]"
            ],
            "application/vnd.jupyter.widget-view+json": {
              "version_major": 2,
              "version_minor": 0,
              "model_id": "89ece625481f43a89b0fee6340d209c6"
            }
          },
          "metadata": {}
        },
        {
          "output_type": "display_data",
          "data": {
            "text/plain": [
              "Map:   0%|          | 0/4796 [00:00<?, ? examples/s]"
            ],
            "application/vnd.jupyter.widget-view+json": {
              "version_major": 2,
              "version_minor": 0,
              "model_id": "7cbbf67bc9814f4aab3b3b97638fda46"
            }
          },
          "metadata": {}
        },
        {
          "output_type": "display_data",
          "data": {
            "text/plain": [
              "Map:   0%|          | 0/4796 [00:00<?, ? examples/s]"
            ],
            "application/vnd.jupyter.widget-view+json": {
              "version_major": 2,
              "version_minor": 0,
              "model_id": "c48d3dc73a3b43e7974c368c63d9cb97"
            }
          },
          "metadata": {}
        }
      ]
    },
    {
      "cell_type": "code",
      "source": [
        "\n",
        "print(tokenized_datasets[\"train\"][0])"
      ],
      "metadata": {
        "colab": {
          "base_uri": "https://localhost:8080/"
        },
        "id": "xiKQAzakoTR2",
        "outputId": "d1157045-420a-4252-dbbe-453957a0b457"
      },
      "execution_count": null,
      "outputs": [
        {
          "output_type": "stream",
          "name": "stdout",
          "text": [
            "{'tokens': ['jacob', 'zuma', 'became', 'president', 'anc', 'general', 'election', 'april', '2009', ''], 'ner_tags': [6, 14, 16, 16, 16, 16, 5, 16, 16, 16, 16, 7, 15, 16], 'input_ids': [101, 179, 17312, 1830, 21458, 1918, 1245, 2084, 1126, 1665, 1704, 1728, 170, 1643, 13217, 1371, 102, 0, 0, 0, 0, 0, 0, 0, 0, 0, 0, 0, 0, 0, 0, 0, 0, 0, 0, 0, 0, 0, 0, 0, 0, 0, 0, 0, 0, 0, 0, 0, 0, 0, 0, 0, 0, 0, 0, 0, 0, 0, 0, 0, 0, 0, 0, 0, 0, 0, 0, 0, 0, 0, 0, 0, 0, 0, 0, 0, 0, 0, 0, 0, 0, 0, 0, 0, 0, 0, 0, 0, 0, 0, 0, 0, 0, 0, 0, 0, 0, 0, 0, 0, 0, 0, 0, 0, 0, 0, 0, 0, 0, 0, 0, 0, 0, 0, 0, 0, 0, 0, 0, 0, 0, 0, 0, 0, 0, 0, 0, 0], 'token_type_ids': [0, 0, 0, 0, 0, 0, 0, 0, 0, 0, 0, 0, 0, 0, 0, 0, 0, 0, 0, 0, 0, 0, 0, 0, 0, 0, 0, 0, 0, 0, 0, 0, 0, 0, 0, 0, 0, 0, 0, 0, 0, 0, 0, 0, 0, 0, 0, 0, 0, 0, 0, 0, 0, 0, 0, 0, 0, 0, 0, 0, 0, 0, 0, 0, 0, 0, 0, 0, 0, 0, 0, 0, 0, 0, 0, 0, 0, 0, 0, 0, 0, 0, 0, 0, 0, 0, 0, 0, 0, 0, 0, 0, 0, 0, 0, 0, 0, 0, 0, 0, 0, 0, 0, 0, 0, 0, 0, 0, 0, 0, 0, 0, 0, 0, 0, 0, 0, 0, 0, 0, 0, 0, 0, 0, 0, 0, 0, 0], 'attention_mask': [1, 1, 1, 1, 1, 1, 1, 1, 1, 1, 1, 1, 1, 1, 1, 1, 1, 0, 0, 0, 0, 0, 0, 0, 0, 0, 0, 0, 0, 0, 0, 0, 0, 0, 0, 0, 0, 0, 0, 0, 0, 0, 0, 0, 0, 0, 0, 0, 0, 0, 0, 0, 0, 0, 0, 0, 0, 0, 0, 0, 0, 0, 0, 0, 0, 0, 0, 0, 0, 0, 0, 0, 0, 0, 0, 0, 0, 0, 0, 0, 0, 0, 0, 0, 0, 0, 0, 0, 0, 0, 0, 0, 0, 0, 0, 0, 0, 0, 0, 0, 0, 0, 0, 0, 0, 0, 0, 0, 0, 0, 0, 0, 0, 0, 0, 0, 0, 0, 0, 0, 0, 0, 0, 0, 0, 0, 0, 0], 'labels': [-100, 6, -100, -100, 14, -100, 16, 16, 16, -100, 16, 5, 16, -100, -100, 16, -100, -100, -100, -100, -100, -100, -100, -100, -100, -100, -100, -100, -100, -100, -100, -100, -100, -100, -100, -100, -100, -100, -100, -100, -100, -100, -100, -100, -100, -100, -100, -100, -100, -100, -100, -100, -100, -100, -100, -100, -100, -100, -100, -100, -100, -100, -100, -100, -100, -100, -100, -100, -100, -100, -100, -100, -100, -100, -100, -100, -100, -100, -100, -100, -100, -100, -100, -100, -100, -100, -100, -100, -100, -100, -100, -100, -100, -100, -100, -100, -100, -100, -100, -100, -100, -100, -100, -100, -100, -100, -100, -100, -100, -100, -100, -100, -100, -100, -100, -100, -100, -100, -100, -100, -100, -100, -100, -100, -100, -100, -100, -100]}\n"
          ]
        }
      ]
    },
    {
      "cell_type": "code",
      "source": [
        "print(tokenized_datasets)\n"
      ],
      "metadata": {
        "colab": {
          "base_uri": "https://localhost:8080/"
        },
        "id": "fS3BC3pb4sxd",
        "outputId": "3a29817f-f3ee-4bf1-bfac-11d742403558"
      },
      "execution_count": null,
      "outputs": [
        {
          "output_type": "stream",
          "name": "stdout",
          "text": [
            "Dataset({\n",
            "    features: ['tokens', 'ner_tags', 'input_ids', 'token_type_ids', 'attention_mask', 'labels'],\n",
            "    num_rows: 47959\n",
            "})\n"
          ]
        }
      ]
    },
    {
      "cell_type": "code",
      "source": [
        "print(len(tokenized_datasets[\"train\"][0][\"input_ids\"]))\n"
      ],
      "metadata": {
        "colab": {
          "base_uri": "https://localhost:8080/"
        },
        "id": "6389j5nVoTOD",
        "outputId": "4cf1ef18-b987-4c84-c22c-8c9afb9de4f2"
      },
      "execution_count": null,
      "outputs": [
        {
          "output_type": "stream",
          "name": "stdout",
          "text": [
            "128\n"
          ]
        }
      ]
    },
    {
      "cell_type": "code",
      "source": [
        "from transformers import AutoModelForTokenClassification\n",
        "\n",
        "model = AutoModelForTokenClassification.from_pretrained(\n",
        "    \"bert-base-cased\",        # الموديل الأساسي\n",
        "    num_labels=len(le.classes_),  # عدد التاجات بعد الـ LabelEncoder\n",
        "    id2label={i: l for i, l in enumerate(le.classes_)},  # mapping رقم → label\n",
        "    label2id={l: i for i, l in enumerate(le.classes_)}   # mapping label → رقم\n",
        ")\n"
      ],
      "metadata": {
        "colab": {
          "base_uri": "https://localhost:8080/",
          "height": 106,
          "referenced_widgets": [
            "be962a18d9b146119341b23c33bb2017",
            "bf683abfa92e4c64a76d0baabf90f613",
            "bd4b79330ccd465490a96c79e10b09f8",
            "d95bb58830ec4bb4afa9b91d7534dce5",
            "1d9f7a78f0604c2f8089115c76ea7658",
            "f3422e112a384a6fb8ce601450e3c12b",
            "9506815a7bc94f6b85228407762b6b92",
            "afe65e741b7c445598a1e7eec05cfb8d",
            "978c987e35084b6f9f84c452e23b6285",
            "affc0b215a9d41cda63f1fc3c5f08d4a",
            "46bd180a5dd04d2f86036275bb432bbf"
          ]
        },
        "id": "XohaAfaZoTLh",
        "outputId": "4270a73b-0612-4036-f996-82056a6e1a5f"
      },
      "execution_count": null,
      "outputs": [
        {
          "output_type": "display_data",
          "data": {
            "text/plain": [
              "model.safetensors:   0%|          | 0.00/436M [00:00<?, ?B/s]"
            ],
            "application/vnd.jupyter.widget-view+json": {
              "version_major": 2,
              "version_minor": 0,
              "model_id": "be962a18d9b146119341b23c33bb2017"
            }
          },
          "metadata": {}
        },
        {
          "output_type": "stream",
          "name": "stderr",
          "text": [
            "Some weights of BertForTokenClassification were not initialized from the model checkpoint at bert-base-cased and are newly initialized: ['classifier.bias', 'classifier.weight']\n",
            "You should probably TRAIN this model on a down-stream task to be able to use it for predictions and inference.\n"
          ]
        }
      ]
    },
    {
      "cell_type": "code",
      "source": [
        "!pip install seqeval evaluate\n",
        "\n",
        "import evaluate\n",
        "metric = evaluate.load(\"seqeval\")\n",
        "\n",
        "def compute_metrics(p):\n",
        "    predictions, labels = p\n",
        "    predictions = predictions.argmax(axis=-1)\n",
        "\n",
        "    # تجاهل -100 (tokens اللي مش معنيّة)\n",
        "    true_predictions = [\n",
        "        [le.classes_[p] for (p, l) in zip(pred, label) if l != -100]\n",
        "        for pred, label in zip(predictions, labels)\n",
        "    ]\n",
        "    true_labels = [\n",
        "        [le.classes_[l] for (p, l) in zip(pred, label) if l != -100]\n",
        "        for pred, label in zip(predictions, labels)\n",
        "    ]\n",
        "\n",
        "    results = metric.compute(predictions=true_predictions, references=true_labels)\n",
        "    return {\n",
        "        \"precision\": results[\"overall_precision\"],\n",
        "        \"recall\": results[\"overall_recall\"],\n",
        "        \"f1\": results[\"overall_f1\"],\n",
        "        \"accuracy\": results[\"overall_accuracy\"],\n",
        "    }"
      ],
      "metadata": {
        "colab": {
          "base_uri": "https://localhost:8080/",
          "height": 863,
          "referenced_widgets": [
            "837407228a79413a9b848fca5acba2ad",
            "2fdac6bfad3e48b59b7d0096f9707255",
            "b8cf1c13117345e7a2b3ac0fccae092f",
            "132c29f910f644238fda8f40bd9c4b5a",
            "f0e6ab05422a4c449adf33893aa12837",
            "6b32775fe41f49dd8695cb43a3fe045c",
            "50e1fc0e686f4a588b8614d6324c59ce",
            "1a7db500bc5d42a78f57dae1620eac30",
            "1fab41bcac7143a48d4daee8be86700f",
            "e13586d01f3244a88da5aaf325981a40",
            "79bf81646d484309a1c96d8f604d368d"
          ]
        },
        "id": "ZvVBuB_zoTI9",
        "outputId": "f378ce0d-80e4-4fda-c655-7936d34762fa"
      },
      "execution_count": null,
      "outputs": [
        {
          "output_type": "stream",
          "name": "stdout",
          "text": [
            "Requirement already satisfied: seqeval in /usr/local/lib/python3.12/dist-packages (1.2.2)\n",
            "Collecting evaluate\n",
            "  Downloading evaluate-0.4.5-py3-none-any.whl.metadata (9.5 kB)\n",
            "Requirement already satisfied: numpy>=1.14.0 in /usr/local/lib/python3.12/dist-packages (from seqeval) (2.0.2)\n",
            "Requirement already satisfied: scikit-learn>=0.21.3 in /usr/local/lib/python3.12/dist-packages (from seqeval) (1.6.1)\n",
            "Requirement already satisfied: datasets>=2.0.0 in /usr/local/lib/python3.12/dist-packages (from evaluate) (4.0.0)\n",
            "Requirement already satisfied: dill in /usr/local/lib/python3.12/dist-packages (from evaluate) (0.3.8)\n",
            "Requirement already satisfied: pandas in /usr/local/lib/python3.12/dist-packages (from evaluate) (2.2.2)\n",
            "Requirement already satisfied: requests>=2.19.0 in /usr/local/lib/python3.12/dist-packages (from evaluate) (2.32.4)\n",
            "Requirement already satisfied: tqdm>=4.62.1 in /usr/local/lib/python3.12/dist-packages (from evaluate) (4.67.1)\n",
            "Requirement already satisfied: xxhash in /usr/local/lib/python3.12/dist-packages (from evaluate) (3.5.0)\n",
            "Requirement already satisfied: multiprocess in /usr/local/lib/python3.12/dist-packages (from evaluate) (0.70.16)\n",
            "Requirement already satisfied: fsspec>=2021.05.0 in /usr/local/lib/python3.12/dist-packages (from fsspec[http]>=2021.05.0->evaluate) (2025.3.0)\n",
            "Requirement already satisfied: huggingface-hub>=0.7.0 in /usr/local/lib/python3.12/dist-packages (from evaluate) (0.34.4)\n",
            "Requirement already satisfied: packaging in /usr/local/lib/python3.12/dist-packages (from evaluate) (25.0)\n",
            "Requirement already satisfied: filelock in /usr/local/lib/python3.12/dist-packages (from datasets>=2.0.0->evaluate) (3.19.1)\n",
            "Requirement already satisfied: pyarrow>=15.0.0 in /usr/local/lib/python3.12/dist-packages (from datasets>=2.0.0->evaluate) (18.1.0)\n",
            "Requirement already satisfied: pyyaml>=5.1 in /usr/local/lib/python3.12/dist-packages (from datasets>=2.0.0->evaluate) (6.0.2)\n",
            "Requirement already satisfied: aiohttp!=4.0.0a0,!=4.0.0a1 in /usr/local/lib/python3.12/dist-packages (from fsspec[http]>=2021.05.0->evaluate) (3.12.15)\n",
            "Requirement already satisfied: typing-extensions>=3.7.4.3 in /usr/local/lib/python3.12/dist-packages (from huggingface-hub>=0.7.0->evaluate) (4.15.0)\n",
            "Requirement already satisfied: hf-xet<2.0.0,>=1.1.3 in /usr/local/lib/python3.12/dist-packages (from huggingface-hub>=0.7.0->evaluate) (1.1.9)\n",
            "Requirement already satisfied: charset_normalizer<4,>=2 in /usr/local/lib/python3.12/dist-packages (from requests>=2.19.0->evaluate) (3.4.3)\n",
            "Requirement already satisfied: idna<4,>=2.5 in /usr/local/lib/python3.12/dist-packages (from requests>=2.19.0->evaluate) (3.10)\n",
            "Requirement already satisfied: urllib3<3,>=1.21.1 in /usr/local/lib/python3.12/dist-packages (from requests>=2.19.0->evaluate) (2.5.0)\n",
            "Requirement already satisfied: certifi>=2017.4.17 in /usr/local/lib/python3.12/dist-packages (from requests>=2.19.0->evaluate) (2025.8.3)\n",
            "Requirement already satisfied: scipy>=1.6.0 in /usr/local/lib/python3.12/dist-packages (from scikit-learn>=0.21.3->seqeval) (1.16.1)\n",
            "Requirement already satisfied: joblib>=1.2.0 in /usr/local/lib/python3.12/dist-packages (from scikit-learn>=0.21.3->seqeval) (1.5.2)\n",
            "Requirement already satisfied: threadpoolctl>=3.1.0 in /usr/local/lib/python3.12/dist-packages (from scikit-learn>=0.21.3->seqeval) (3.6.0)\n",
            "Requirement already satisfied: python-dateutil>=2.8.2 in /usr/local/lib/python3.12/dist-packages (from pandas->evaluate) (2.9.0.post0)\n",
            "Requirement already satisfied: pytz>=2020.1 in /usr/local/lib/python3.12/dist-packages (from pandas->evaluate) (2025.2)\n",
            "Requirement already satisfied: tzdata>=2022.7 in /usr/local/lib/python3.12/dist-packages (from pandas->evaluate) (2025.2)\n",
            "Requirement already satisfied: aiohappyeyeballs>=2.5.0 in /usr/local/lib/python3.12/dist-packages (from aiohttp!=4.0.0a0,!=4.0.0a1->fsspec[http]>=2021.05.0->evaluate) (2.6.1)\n",
            "Requirement already satisfied: aiosignal>=1.4.0 in /usr/local/lib/python3.12/dist-packages (from aiohttp!=4.0.0a0,!=4.0.0a1->fsspec[http]>=2021.05.0->evaluate) (1.4.0)\n",
            "Requirement already satisfied: attrs>=17.3.0 in /usr/local/lib/python3.12/dist-packages (from aiohttp!=4.0.0a0,!=4.0.0a1->fsspec[http]>=2021.05.0->evaluate) (25.3.0)\n",
            "Requirement already satisfied: frozenlist>=1.1.1 in /usr/local/lib/python3.12/dist-packages (from aiohttp!=4.0.0a0,!=4.0.0a1->fsspec[http]>=2021.05.0->evaluate) (1.7.0)\n",
            "Requirement already satisfied: multidict<7.0,>=4.5 in /usr/local/lib/python3.12/dist-packages (from aiohttp!=4.0.0a0,!=4.0.0a1->fsspec[http]>=2021.05.0->evaluate) (6.6.4)\n",
            "Requirement already satisfied: propcache>=0.2.0 in /usr/local/lib/python3.12/dist-packages (from aiohttp!=4.0.0a0,!=4.0.0a1->fsspec[http]>=2021.05.0->evaluate) (0.3.2)\n",
            "Requirement already satisfied: yarl<2.0,>=1.17.0 in /usr/local/lib/python3.12/dist-packages (from aiohttp!=4.0.0a0,!=4.0.0a1->fsspec[http]>=2021.05.0->evaluate) (1.20.1)\n",
            "Requirement already satisfied: six>=1.5 in /usr/local/lib/python3.12/dist-packages (from python-dateutil>=2.8.2->pandas->evaluate) (1.17.0)\n",
            "Downloading evaluate-0.4.5-py3-none-any.whl (84 kB)\n",
            "\u001b[2K   \u001b[90m━━━━━━━━━━━━━━━━━━━━━━━━━━━━━━━━━━━━━━━━\u001b[0m \u001b[32m84.1/84.1 kB\u001b[0m \u001b[31m9.3 MB/s\u001b[0m eta \u001b[36m0:00:00\u001b[0m\n",
            "\u001b[?25hInstalling collected packages: evaluate\n",
            "Successfully installed evaluate-0.4.5\n"
          ]
        },
        {
          "output_type": "display_data",
          "data": {
            "text/plain": [
              "Downloading builder script: 0.00B [00:00, ?B/s]"
            ],
            "application/vnd.jupyter.widget-view+json": {
              "version_major": 2,
              "version_minor": 0,
              "model_id": "837407228a79413a9b848fca5acba2ad"
            }
          },
          "metadata": {}
        }
      ]
    },
    {
      "cell_type": "code",
      "source": [
        "from transformers import TrainingArguments\n",
        "\n",
        "training_args = TrainingArguments(\n",
        "    output_dir=\"./ner_model\",      # مكان حفظ الموديل\n",
        "    eval_strategy=\"epoch\",   # نقيم بعد كل Epoch\n",
        "    save_strategy=\"epoch\",         # نحفظ الموديل بعد كل Epoch\n",
        "    learning_rate=2e-5,            # Learning rate مناسب لـ BERT\n",
        "    per_device_train_batch_size=16,\n",
        "    per_device_eval_batch_size=16,\n",
        "    num_train_epochs=3,            # عدد الـ Epochs\n",
        "    weight_decay=0.01,             # لتفادي overfitting\n",
        "    logging_dir=\"./logs\",          # مكان اللوجات\n",
        "    logging_steps=50,\n",
        ")"
      ],
      "metadata": {
        "colab": {
          "base_uri": "https://localhost:8080/"
        },
        "id": "_squf_VZoTGi",
        "outputId": "17b9b567-ceb3-4ba1-a0df-f81dc3b4edef"
      },
      "execution_count": null,
      "outputs": [
        {
          "output_type": "stream",
          "name": "stderr",
          "text": [
            "Using the `WANDB_DISABLED` environment variable is deprecated and will be removed in v5. Use the --report_to flag to control the integrations used for logging result (for instance --report_to none).\n"
          ]
        }
      ]
    },
    {
      "cell_type": "code",
      "source": [
        "from transformers import TrainingArguments\n",
        "\n",
        "# training_args = TrainingArguments(\n",
        "#     output_dir=\"./results\",\n",
        "#     eval_strategy=\"epoch\",   # استخدم eval_strategy بدلاً من evaluate_during_training\n",
        "#     per_device_train_batch_size=8,\n",
        "#     per_device_eval_batch_size=8,\n",
        "#     num_train_epochs=2,\n",
        "#     logging_dir=\"./logs\",\n",
        "#     logging_steps=10,\n",
        "#     report_to=\"none\"  # Add this line to disable reporting to wandb\n",
        ")"
      ],
      "metadata": {
        "id": "SbbUNB8ICXZI"
      },
      "execution_count": null,
      "outputs": []
    },
    {
      "cell_type": "code",
      "source": [
        "import os\n",
        "os.environ[\"WANDB_DISABLED\"] = \"true\"\n"
      ],
      "metadata": {
        "id": "lE3V3BlfFdsQ"
      },
      "execution_count": null,
      "outputs": []
    },
    {
      "cell_type": "code",
      "source": [
        "# small_train = tokenized_datasets[\"train\"].shuffle(seed=42).select(range(1000))\n",
        "# small_val   = tokenized_datasets[\"validation\"].shuffle(seed=42).select(range(200))\n",
        "\n",
        "# trainer = Trainer(\n",
        "#     model=model,\n",
        "#     args=training_args,\n",
        "#     train_dataset=small_train,\n",
        "#     eval_dataset=small_val,\n",
        "#     compute_metrics=compute_metrics,\n",
        "#     tokenizer=tokenizer,\n",
        "# )\n",
        "\n",
        "# trainer.train()\n"
      ],
      "metadata": {
        "colab": {
          "base_uri": "https://localhost:8080/",
          "height": 324
        },
        "id": "vSvi43VDDK7U",
        "outputId": "01bd1581-9f0e-48d5-b1c2-817b3774d57c"
      },
      "execution_count": null,
      "outputs": [
        {
          "output_type": "stream",
          "name": "stderr",
          "text": [
            "/tmp/ipython-input-2921342692.py:4: FutureWarning: `tokenizer` is deprecated and will be removed in version 5.0.0 for `Trainer.__init__`. Use `processing_class` instead.\n",
            "  trainer = Trainer(\n"
          ]
        },
        {
          "output_type": "display_data",
          "data": {
            "text/plain": [
              "<IPython.core.display.HTML object>"
            ],
            "text/html": [
              "\n",
              "    <div>\n",
              "      \n",
              "      <progress value='250' max='250' style='width:300px; height:20px; vertical-align: middle;'></progress>\n",
              "      [250/250 01:07, Epoch 2/2]\n",
              "    </div>\n",
              "    <table border=\"1\" class=\"dataframe\">\n",
              "  <thead>\n",
              " <tr style=\"text-align: left;\">\n",
              "      <th>Epoch</th>\n",
              "      <th>Training Loss</th>\n",
              "      <th>Validation Loss</th>\n",
              "      <th>Precision</th>\n",
              "      <th>Recall</th>\n",
              "      <th>F1</th>\n",
              "      <th>Accuracy</th>\n",
              "    </tr>\n",
              "  </thead>\n",
              "  <tbody>\n",
              "    <tr>\n",
              "      <td>1</td>\n",
              "      <td>0.635100</td>\n",
              "      <td>0.662961</td>\n",
              "      <td>0.263158</td>\n",
              "      <td>0.032051</td>\n",
              "      <td>0.057143</td>\n",
              "      <td>0.833874</td>\n",
              "    </tr>\n",
              "    <tr>\n",
              "      <td>2</td>\n",
              "      <td>0.475900</td>\n",
              "      <td>0.612063</td>\n",
              "      <td>0.360465</td>\n",
              "      <td>0.099359</td>\n",
              "      <td>0.155779</td>\n",
              "      <td>0.841167</td>\n",
              "    </tr>\n",
              "  </tbody>\n",
              "</table><p>"
            ]
          },
          "metadata": {}
        },
        {
          "output_type": "stream",
          "name": "stderr",
          "text": [
            "/usr/local/lib/python3.12/dist-packages/seqeval/metrics/v1.py:57: UndefinedMetricWarning: Precision and F-score are ill-defined and being set to 0.0 in labels with no predicted samples. Use `zero_division` parameter to control this behavior.\n",
            "  _warn_prf(average, modifier, msg_start, len(result))\n",
            "/usr/local/lib/python3.12/dist-packages/seqeval/metrics/v1.py:57: UndefinedMetricWarning: Precision and F-score are ill-defined and being set to 0.0 in labels with no predicted samples. Use `zero_division` parameter to control this behavior.\n",
            "  _warn_prf(average, modifier, msg_start, len(result))\n"
          ]
        },
        {
          "output_type": "execute_result",
          "data": {
            "text/plain": [
              "TrainOutput(global_step=250, training_loss=0.7106527633666992, metrics={'train_runtime': 68.4201, 'train_samples_per_second': 29.231, 'train_steps_per_second': 3.654, 'total_flos': 130666096128000.0, 'train_loss': 0.7106527633666992, 'epoch': 2.0})"
            ]
          },
          "metadata": {},
          "execution_count": 145
        }
      ]
    },
    {
      "cell_type": "code",
      "source": [
        "from transformers import Trainer\n",
        "\n",
        "trainer = Trainer(\n",
        "    model=model,\n",
        "    args=training_args,\n",
        "    train_dataset=tokenized_datasets[\"train\"],\n",
        "    eval_dataset=tokenized_datasets[\"validation\"],\n",
        "    tokenizer=tokenizer,\n",
        "    compute_metrics=compute_metrics\n",
        ")\n"
      ],
      "metadata": {
        "colab": {
          "base_uri": "https://localhost:8080/"
        },
        "id": "kMhs-cSCGe73",
        "outputId": "eb926000-6119-46ca-a65c-44f2c85b0ded"
      },
      "execution_count": null,
      "outputs": [
        {
          "output_type": "stream",
          "name": "stderr",
          "text": [
            "/tmp/ipython-input-3896286027.py:3: FutureWarning: `tokenizer` is deprecated and will be removed in version 5.0.0 for `Trainer.__init__`. Use `processing_class` instead.\n",
            "  trainer = Trainer(\n"
          ]
        }
      ]
    },
    {
      "cell_type": "code",
      "source": [
        "trainer.train()"
      ],
      "metadata": {
        "colab": {
          "base_uri": "https://localhost:8080/",
          "height": 356
        },
        "id": "Q_G8m8zRGevG",
        "outputId": "6e220252-1a11-4bf1-8de2-a55cd0b16595"
      },
      "execution_count": null,
      "outputs": [
        {
          "output_type": "display_data",
          "data": {
            "text/plain": [
              "<IPython.core.display.HTML object>"
            ],
            "text/html": [
              "\n",
              "    <div>\n",
              "      \n",
              "      <progress value='7194' max='7194' style='width:300px; height:20px; vertical-align: middle;'></progress>\n",
              "      [7194/7194 42:06, Epoch 3/3]\n",
              "    </div>\n",
              "    <table border=\"1\" class=\"dataframe\">\n",
              "  <thead>\n",
              " <tr style=\"text-align: left;\">\n",
              "      <th>Epoch</th>\n",
              "      <th>Training Loss</th>\n",
              "      <th>Validation Loss</th>\n",
              "      <th>Precision</th>\n",
              "      <th>Recall</th>\n",
              "      <th>F1</th>\n",
              "      <th>Accuracy</th>\n",
              "    </tr>\n",
              "  </thead>\n",
              "  <tbody>\n",
              "    <tr>\n",
              "      <td>1</td>\n",
              "      <td>0.417700</td>\n",
              "      <td>0.400441</td>\n",
              "      <td>0.533282</td>\n",
              "      <td>0.283602</td>\n",
              "      <td>0.370285</td>\n",
              "      <td>0.865898</td>\n",
              "    </tr>\n",
              "    <tr>\n",
              "      <td>2</td>\n",
              "      <td>0.362400</td>\n",
              "      <td>0.377075</td>\n",
              "      <td>0.511450</td>\n",
              "      <td>0.345314</td>\n",
              "      <td>0.412274</td>\n",
              "      <td>0.869962</td>\n",
              "    </tr>\n",
              "    <tr>\n",
              "      <td>3</td>\n",
              "      <td>0.340700</td>\n",
              "      <td>0.377284</td>\n",
              "      <td>0.511619</td>\n",
              "      <td>0.352367</td>\n",
              "      <td>0.417316</td>\n",
              "      <td>0.870642</td>\n",
              "    </tr>\n",
              "  </tbody>\n",
              "</table><p>"
            ]
          },
          "metadata": {}
        },
        {
          "output_type": "stream",
          "name": "stderr",
          "text": [
            "/usr/local/lib/python3.12/dist-packages/seqeval/metrics/v1.py:57: UndefinedMetricWarning: Precision and F-score are ill-defined and being set to 0.0 in labels with no predicted samples. Use `zero_division` parameter to control this behavior.\n",
            "  _warn_prf(average, modifier, msg_start, len(result))\n",
            "/usr/local/lib/python3.12/dist-packages/seqeval/metrics/v1.py:57: UndefinedMetricWarning: Precision and F-score are ill-defined and being set to 0.0 in labels with no predicted samples. Use `zero_division` parameter to control this behavior.\n",
            "  _warn_prf(average, modifier, msg_start, len(result))\n",
            "/usr/local/lib/python3.12/dist-packages/seqeval/metrics/v1.py:57: UndefinedMetricWarning: Precision and F-score are ill-defined and being set to 0.0 in labels with no predicted samples. Use `zero_division` parameter to control this behavior.\n",
            "  _warn_prf(average, modifier, msg_start, len(result))\n"
          ]
        },
        {
          "output_type": "execute_result",
          "data": {
            "text/plain": [
              "TrainOutput(global_step=7194, training_loss=0.38810534022535126, metrics={'train_runtime': 2527.2123, 'train_samples_per_second': 45.545, 'train_steps_per_second': 2.847, 'total_flos': 7519899165214464.0, 'train_loss': 0.38810534022535126, 'epoch': 3.0})"
            ]
          },
          "metadata": {},
          "execution_count": 148
        }
      ]
    }
  ]
}