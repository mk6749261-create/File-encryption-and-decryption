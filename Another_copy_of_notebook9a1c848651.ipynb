{
  "metadata": {
    "kernelspec": {
      "language": "python",
      "display_name": "Python 3",
      "name": "python3"
    },
    "language_info": {
      "name": "python",
      "version": "3.11.13",
      "mimetype": "text/x-python",
      "codemirror_mode": {
        "name": "ipython",
        "version": 3
      },
      "pygments_lexer": "ipython3",
      "nbconvert_exporter": "python",
      "file_extension": ".py"
    },
    "kaggle": {
      "accelerator": "none",
      "dataSources": [
        {
          "sourceId": 320111,
          "sourceType": "datasetVersion",
          "datasetId": 134715
        }
      ],
      "dockerImageVersionId": 31089,
      "isInternetEnabled": false,
      "language": "python",
      "sourceType": "notebook",
      "isGpuEnabled": false
    },
    "colab": {
      "provenance": [],
      "include_colab_link": true
    }
  },
  "nbformat_minor": 0,
  "nbformat": 4,
  "cells": [
    {
      "cell_type": "markdown",
      "metadata": {
        "id": "view-in-github",
        "colab_type": "text"
      },
      "source": [
        "<a href=\"https://colab.research.google.com/github/mk6749261-create/4-project-NLP-/blob/main/Another_copy_of_notebook9a1c848651.ipynb\" target=\"_parent\"><img src=\"https://colab.research.google.com/assets/colab-badge.svg\" alt=\"Open In Colab\"/></a>"
      ]
    },
    {
      "source": [
        "# IMPORTANT: RUN THIS CELL IN ORDER TO IMPORT YOUR KAGGLE DATA SOURCES,\n",
        "# THEN FEEL FREE TO DELETE THIS CELL.\n",
        "# NOTE: THIS NOTEBOOK ENVIRONMENT DIFFERS FROM KAGGLE'S PYTHON\n",
        "# ENVIRONMENT SO THERE MAY BE MISSING LIBRARIES USED BY YOUR\n",
        "# NOTEBOOK.\n",
        "import kagglehub\n",
        "lakshmi25npathi_imdb_dataset_of_50k_movie_reviews_path = kagglehub.dataset_download('lakshmi25npathi/imdb-dataset-of-50k-movie-reviews')\n",
        "\n",
        "print('Data source import complete.')\n"
      ],
      "metadata": {
        "id": "JwZyPKyJN4CX"
      },
      "cell_type": "code",
      "outputs": [],
      "execution_count": null
    },
    {
      "cell_type": "code",
      "source": [
        "# This Python 3 environment comes with many helpful analytics libraries installed\n",
        "# It is defined by the kaggle/python Docker image: https://github.com/kaggle/docker-python\n",
        "# For example, here's several helpful packages to load\n",
        "\n",
        "import numpy as np # linear algebra\n",
        "import pandas as pd # data processing, CSV file I/O (e.g. pd.read_csv)\n",
        "\n",
        "# Input data files are available in the read-only \"../input/\" directory\n",
        "# For example, running this (by clicking run or pressing Shift+Enter) will list all files under the input directory\n",
        "\n",
        "import os\n",
        "for dirname, _, filenames in os.walk('/kaggle/input'):\n",
        "    for filename in filenames:\n",
        "        print(os.path.join(dirname, filename))\n",
        "\n",
        "# You can write up to 20GB to the current directory (/kaggle/working/) that gets preserved as output when you create a version using \"Save & Run All\"\n",
        "# You can also write temporary files to /kaggle/temp/, but they won't be saved outside of the current session"
      ],
      "metadata": {
        "_uuid": "8f2839f25d086af736a60e9eeb907d3b93b6e0e5",
        "_cell_guid": "b1076dfc-b9ad-4769-8c92-a6c4dae69d19",
        "trusted": true,
        "execution": {
          "iopub.status.busy": "2025-08-15T22:33:09.307794Z",
          "iopub.execute_input": "2025-08-15T22:33:09.308161Z",
          "iopub.status.idle": "2025-08-15T22:33:09.774965Z",
          "shell.execute_reply.started": "2025-08-15T22:33:09.308137Z",
          "shell.execute_reply": "2025-08-15T22:33:09.77395Z"
        },
        "id": "FTCr1m1lN4CY"
      },
      "outputs": [],
      "execution_count": null
    },
    {
      "cell_type": "code",
      "source": [
        "import pandas as pd\n",
        "import matplotlib.pyplot as plt\n",
        "import seaborn as sns\n",
        "import numpy as np\n",
        "import nltk\n",
        "import re\n",
        "from nltk.corpus import stopwords\n",
        "from nltk.stem import WordNetLemmatizer\n",
        "nltk.download('stopwords')\n",
        "nltk.download('wordnet')\n",
        "from sklearn.feature_extraction.text import TfidfVectorizer , CountVectorizer\n",
        "from sklearn.model_selection import train_test_split\n",
        "from sklearn.linear_model import LogisticRegression\n",
        "from sklearn.metrics import accuracy_score, classification_report, confusion_matrix\n",
        "from sklearn.tree import DecisionTreeClassifier\n",
        "from sklearn.ensemble import RandomForestClassifier\n",
        "from sklearn.svm import SVC\n",
        "from nltk.tokenize import word_tokenize\n",
        "\n"
      ],
      "metadata": {
        "trusted": true,
        "execution": {
          "iopub.status.busy": "2025-08-15T22:40:56.267237Z",
          "iopub.execute_input": "2025-08-15T22:40:56.267596Z",
          "iopub.status.idle": "2025-08-15T22:42:00.616556Z",
          "shell.execute_reply.started": "2025-08-15T22:40:56.267573Z",
          "shell.execute_reply": "2025-08-15T22:42:00.615786Z"
        },
        "id": "LVussJHxN4Ca"
      },
      "outputs": [],
      "execution_count": null
    },
    {
      "cell_type": "code",
      "source": [
        "db=pd.read_csv (\"/kaggle/input/imdb-dataset-of-50k-movie-reviews/IMDB Dataset.csv\")"
      ],
      "metadata": {
        "trusted": true,
        "execution": {
          "iopub.status.busy": "2025-08-15T22:33:10.197184Z",
          "iopub.execute_input": "2025-08-15T22:33:10.197686Z",
          "iopub.status.idle": "2025-08-15T22:33:11.757795Z",
          "shell.execute_reply.started": "2025-08-15T22:33:10.197655Z",
          "shell.execute_reply": "2025-08-15T22:33:11.757073Z"
        },
        "id": "nkcRqpFWN4Cb"
      },
      "outputs": [],
      "execution_count": null
    },
    {
      "cell_type": "code",
      "source": [
        "db.head()"
      ],
      "metadata": {
        "trusted": true,
        "execution": {
          "iopub.status.busy": "2025-08-15T22:33:11.760126Z",
          "iopub.execute_input": "2025-08-15T22:33:11.760399Z",
          "iopub.status.idle": "2025-08-15T22:33:11.786109Z",
          "shell.execute_reply.started": "2025-08-15T22:33:11.760378Z",
          "shell.execute_reply": "2025-08-15T22:33:11.785107Z"
        },
        "id": "YP0eMmriN4Cb"
      },
      "outputs": [],
      "execution_count": null
    },
    {
      "cell_type": "code",
      "source": [
        "db.describe()"
      ],
      "metadata": {
        "trusted": true,
        "execution": {
          "iopub.status.busy": "2025-08-15T22:33:11.787128Z",
          "iopub.execute_input": "2025-08-15T22:33:11.78748Z",
          "iopub.status.idle": "2025-08-15T22:33:11.894776Z",
          "shell.execute_reply.started": "2025-08-15T22:33:11.787459Z",
          "shell.execute_reply": "2025-08-15T22:33:11.893946Z"
        },
        "id": "k9xaUHOgN4Cc"
      },
      "outputs": [],
      "execution_count": null
    },
    {
      "cell_type": "code",
      "source": [
        "sns.countplot(x=\"sentiment\",data=db)"
      ],
      "metadata": {
        "trusted": true,
        "execution": {
          "iopub.status.busy": "2025-08-15T22:33:11.895622Z",
          "iopub.execute_input": "2025-08-15T22:33:11.895921Z",
          "iopub.status.idle": "2025-08-15T22:33:12.161573Z",
          "shell.execute_reply.started": "2025-08-15T22:33:11.895867Z",
          "shell.execute_reply": "2025-08-15T22:33:12.160802Z"
        },
        "id": "iG1IyoECN4Cd"
      },
      "outputs": [],
      "execution_count": null
    },
    {
      "cell_type": "code",
      "source": [
        "db.info()"
      ],
      "metadata": {
        "trusted": true,
        "execution": {
          "iopub.status.busy": "2025-08-15T22:33:12.162324Z",
          "iopub.execute_input": "2025-08-15T22:33:12.162535Z",
          "iopub.status.idle": "2025-08-15T22:33:12.188116Z",
          "shell.execute_reply.started": "2025-08-15T22:33:12.162518Z",
          "shell.execute_reply": "2025-08-15T22:33:12.186931Z"
        },
        "id": "IEzXOQ3xN4Cd"
      },
      "outputs": [],
      "execution_count": null
    },
    {
      "cell_type": "code",
      "source": [
        "duplicated_data=db.duplicated().sum()\n",
        "duplicated_data\n",
        "db.shape"
      ],
      "metadata": {
        "trusted": true,
        "execution": {
          "iopub.status.busy": "2025-08-15T22:33:12.18923Z",
          "iopub.execute_input": "2025-08-15T22:33:12.189538Z",
          "iopub.status.idle": "2025-08-15T22:33:12.405696Z",
          "shell.execute_reply.started": "2025-08-15T22:33:12.18951Z",
          "shell.execute_reply": "2025-08-15T22:33:12.404941Z"
        },
        "id": "o3P7rG-YN4Ce"
      },
      "outputs": [],
      "execution_count": null
    },
    {
      "cell_type": "code",
      "source": [
        "db=db.drop(duplicated_data)\n",
        "db.shape"
      ],
      "metadata": {
        "trusted": true,
        "execution": {
          "iopub.status.busy": "2025-08-15T22:33:12.406573Z",
          "iopub.execute_input": "2025-08-15T22:33:12.4068Z",
          "iopub.status.idle": "2025-08-15T22:33:12.417309Z",
          "shell.execute_reply.started": "2025-08-15T22:33:12.406783Z",
          "shell.execute_reply": "2025-08-15T22:33:12.416604Z"
        },
        "id": "kYFw-CyaN4Cf"
      },
      "outputs": [],
      "execution_count": null
    },
    {
      "cell_type": "code",
      "source": [
        "db.isnull().sum()"
      ],
      "metadata": {
        "trusted": true,
        "execution": {
          "iopub.status.busy": "2025-08-15T22:33:12.420013Z",
          "iopub.execute_input": "2025-08-15T22:33:12.420332Z",
          "iopub.status.idle": "2025-08-15T22:33:12.44469Z",
          "shell.execute_reply.started": "2025-08-15T22:33:12.420283Z",
          "shell.execute_reply": "2025-08-15T22:33:12.443943Z"
        },
        "id": "JaTLNX-fN4Cf"
      },
      "outputs": [],
      "execution_count": null
    },
    {
      "cell_type": "code",
      "source": [
        "db[\"review\"]=db[\"review\"].str.lower()"
      ],
      "metadata": {
        "trusted": true,
        "execution": {
          "iopub.status.busy": "2025-08-15T22:33:12.445499Z",
          "iopub.execute_input": "2025-08-15T22:33:12.445774Z",
          "iopub.status.idle": "2025-08-15T22:33:12.672574Z",
          "shell.execute_reply.started": "2025-08-15T22:33:12.445754Z",
          "shell.execute_reply": "2025-08-15T22:33:12.671465Z"
        },
        "id": "a6rNQwi4N4Cg"
      },
      "outputs": [],
      "execution_count": null
    },
    {
      "cell_type": "code",
      "source": [
        "import string\n",
        "\n",
        "db[\"review\"] = db[\"review\"].str.translate(str.maketrans('', '', string.punctuation))\n"
      ],
      "metadata": {
        "trusted": true,
        "execution": {
          "iopub.status.busy": "2025-08-15T22:33:12.673675Z",
          "iopub.execute_input": "2025-08-15T22:33:12.674066Z",
          "iopub.status.idle": "2025-08-15T22:33:13.964168Z",
          "shell.execute_reply.started": "2025-08-15T22:33:12.674039Z",
          "shell.execute_reply": "2025-08-15T22:33:13.963205Z"
        },
        "id": "50wVcebGN4Cg"
      },
      "outputs": [],
      "execution_count": null
    },
    {
      "cell_type": "code",
      "source": [
        "db.head()\n"
      ],
      "metadata": {
        "trusted": true,
        "execution": {
          "iopub.status.busy": "2025-08-15T22:33:13.965772Z",
          "iopub.execute_input": "2025-08-15T22:33:13.966726Z",
          "iopub.status.idle": "2025-08-15T22:33:13.974682Z",
          "shell.execute_reply.started": "2025-08-15T22:33:13.966687Z",
          "shell.execute_reply": "2025-08-15T22:33:13.973955Z"
        },
        "id": "w5tlt3VIN4Cg"
      },
      "outputs": [],
      "execution_count": null
    },
    {
      "cell_type": "code",
      "source": [
        "def remove_numbers(text):\n",
        "  return re.sub(r'\\d+', '', text)\n",
        "db[\"review\"]=db[\"review\"].apply(remove_numbers)"
      ],
      "metadata": {
        "id": "-j-9i5mVVXoZ"
      },
      "execution_count": null,
      "outputs": []
    },
    {
      "cell_type": "code",
      "source": [
        "import nltk\n",
        "nltk.download('punkt_tab')\n"
      ],
      "metadata": {
        "trusted": true,
        "execution": {
          "iopub.status.busy": "2025-08-15T22:39:53.435435Z",
          "iopub.execute_input": "2025-08-15T22:39:53.435785Z",
          "iopub.status.idle": "2025-08-15T22:40:25.45156Z",
          "shell.execute_reply.started": "2025-08-15T22:39:53.435758Z",
          "shell.execute_reply": "2025-08-15T22:40:25.450737Z"
        },
        "id": "lWjA2WN3N4Ch"
      },
      "outputs": [],
      "execution_count": null
    },
    {
      "cell_type": "code",
      "source": [
        "db[\"review\"] = db[\"review\"].apply(nltk.word_tokenize)\n",
        "\n"
      ],
      "metadata": {
        "trusted": true,
        "id": "D44zLRlLN4Ch"
      },
      "outputs": [],
      "execution_count": null
    },
    {
      "cell_type": "code",
      "source": [
        "db.head()"
      ],
      "metadata": {
        "id": "QJl-ow3SOQ20"
      },
      "execution_count": null,
      "outputs": []
    },
    {
      "cell_type": "code",
      "source": [
        "stop_words=set(stopwords.words(\"english\"))\n",
        "stop_words.remove(\"not\")\n",
        "def remove_stop_words(text):\n",
        "  return[word for word in text if word not in stop_words]\n",
        "db[\"review\"]=db[\"review\"].apply(remove_stop_words)"
      ],
      "metadata": {
        "id": "-q0f7bt8OQza"
      },
      "execution_count": null,
      "outputs": []
    },
    {
      "cell_type": "code",
      "source": [
        "db.head()"
      ],
      "metadata": {
        "id": "vgjbyGZ_OQxU"
      },
      "execution_count": null,
      "outputs": []
    },
    {
      "cell_type": "code",
      "source": [
        "lemmatizer = WordNetLemmatizer()\n",
        "def lemmatize_words(text):\n",
        "  return [lemmatizer.lemmatize(word) for word in text]\n",
        "db[\"review\"]=db[\"review\"].apply(lemmatize_words)"
      ],
      "metadata": {
        "id": "avUU32ShOQsG"
      },
      "execution_count": null,
      "outputs": []
    },
    {
      "cell_type": "code",
      "source": [
        "db.head()"
      ],
      "metadata": {
        "id": "ckCfRStfHNli"
      },
      "execution_count": null,
      "outputs": []
    },
    {
      "cell_type": "code",
      "source": [
        "db[\"review\"]=db[\"review\"].apply(lambda x:\" \".join (x))"
      ],
      "metadata": {
        "id": "sRQgEFppQUmL"
      },
      "execution_count": null,
      "outputs": []
    },
    {
      "cell_type": "code",
      "source": [
        "x_train,x_test,y_train,y_test=train_test_split(db[\"review\"],db[\"sentiment\"],test_size=0.2,random_state=42)"
      ],
      "metadata": {
        "id": "RnrlJ6UHQUol"
      },
      "execution_count": null,
      "outputs": []
    },
    {
      "cell_type": "code",
      "source": [
        "# BOW=countvectorizer()\n",
        "# x_train_bow=BOW.fit_transform(x_train)\n",
        "# x_test_bow=BOW.transform(x_test)"
      ],
      "metadata": {
        "id": "_ZTNicZUQUsq"
      },
      "execution_count": null,
      "outputs": []
    },
    {
      "cell_type": "code",
      "source": [
        "TF=TfidfVectorizer()\n",
        "x_train_tf=TF.fit_transform(x_train)\n",
        "x_test_tf=TF.transform(x_test)"
      ],
      "metadata": {
        "id": "-KTrYAlmOWYF"
      },
      "execution_count": null,
      "outputs": []
    },
    {
      "cell_type": "code",
      "source": [
        "# svc=SVC()\n",
        "# svc.fit(x_train_tf,y_train)\n",
        "# y_pred_svc=svc.predict(x_test_tf)\n",
        "# print(classification_report(y_test,y_pred_svc))\n"
      ],
      "metadata": {
        "id": "92Zn7gE-QUw8"
      },
      "execution_count": null,
      "outputs": []
    },
    {
      "cell_type": "code",
      "source": [
        "# print(accuracy_score(y_train,svc.predict(x_train_tf)))\n",
        "# print(accuracy_score(y_test,svc.predict(x_test_tf)))"
      ],
      "metadata": {
        "id": "zOpeXxjOQUzN"
      },
      "execution_count": null,
      "outputs": []
    },
    {
      "cell_type": "code",
      "source": [
        "lr=LogisticRegression()\n",
        "lr.fit(x_train_tf,y_train)\n",
        "y_pred_test=lr.predict(x_test_tf)\n",
        "print(y_pred_test)\n",
        "y_pred_train=lr.predict(x_train_tf)\n",
        "print(classification_report(y_test,y_pred_test))\n",
        "print(classification_report(y_train,y_pred_train))\n"
      ],
      "metadata": {
        "id": "d3yzk9bVQU1s"
      },
      "execution_count": null,
      "outputs": []
    },
    {
      "cell_type": "code",
      "source": [
        "dt=DecisionTreeClassifier()\n",
        "dt.fit(x_train_tf,y_train)\n"
      ],
      "metadata": {
        "id": "Oq6u5KjJovVl"
      },
      "execution_count": null,
      "outputs": []
    },
    {
      "cell_type": "code",
      "source": [
        "y_pred_test_dt=dt.predict(x_test_tf)\n",
        "y_pred_train_dt=dt.predict(x_train_tf)\n",
        "print (accuracy_score (y_train, y_pred_train_dt))\n",
        "print (accuracy_score(y_test,y_pred_test_dt))"
      ],
      "metadata": {
        "id": "kSIHvOPGovjF"
      },
      "execution_count": null,
      "outputs": []
    },
    {
      "cell_type": "code",
      "source": [
        "print(classification_report(y_train,y_pred_train_dt))\n",
        "print(classification_report(y_test,y_pred_test_dt))"
      ],
      "metadata": {
        "id": "MlZTbNd4ovnz"
      },
      "execution_count": null,
      "outputs": []
    },
    {
      "cell_type": "code",
      "source": [],
      "metadata": {
        "id": "7rNB5ekkO4UA"
      },
      "execution_count": null,
      "outputs": []
    },
    {
      "cell_type": "code",
      "source": [],
      "metadata": {
        "id": "Vv5q_mS5ovuV"
      },
      "execution_count": null,
      "outputs": []
    }
  ]
}